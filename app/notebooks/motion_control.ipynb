{
 "cells": [
  {
   "cell_type": "code",
   "execution_count": null,
   "metadata": {
    "ExecuteTime": {
     "end_time": "2019-05-01T07:24:21.698976Z",
     "start_time": "2019-05-01T07:24:21.561642Z"
    }
   },
   "outputs": [],
   "source": [
    "from scannertools.maskrcnn_detection import visualize_labels\n",
    "from esper.table_tennis.pose_utils import *\n",
    "\n",
    "import cv2\n",
    "import random\n",
    "import pickle\n",
    "import pycocotools.mask as mask_util\n",
    "from scipy import ndimage\n",
    "import numpy as np\n",
    "from scipy.signal import savgol_filter"
   ]
  },
  {
   "cell_type": "code",
   "execution_count": null,
   "metadata": {
    "ExecuteTime": {
     "end_time": "2019-05-01T07:11:43.770948Z",
     "start_time": "2019-05-01T07:11:43.732126Z"
    }
   },
   "outputs": [],
   "source": [
    "video_id = 65\n",
    "video = Video.objects.filter(id=video_id)[0]\n",
    "video_ids = [video_id]"
   ]
  },
  {
   "cell_type": "markdown",
   "metadata": {},
   "source": [
    "# load data"
   ]
  },
  {
   "cell_type": "code",
   "execution_count": null,
   "metadata": {
    "ExecuteTime": {
     "end_time": "2019-05-01T07:11:45.498820Z",
     "start_time": "2019-05-01T07:11:45.480586Z"
    }
   },
   "outputs": [],
   "source": [
    "match_intervals_all = pickle.load(open('/app/data/pkl/match_scene_intervals_dict.pkl', 'rb'))\n",
    "match_intervals_A = match_intervals_all['HW_foreground']\n",
    "match_intervals_B = match_intervals_all['JZ_foreground']\n",
    "match_intervals_A.sort()\n",
    "match_intervals_B.sort()"
   ]
  },
  {
   "cell_type": "code",
   "execution_count": null,
   "metadata": {
    "ExecuteTime": {
     "end_time": "2019-05-01T07:11:58.951991Z",
     "start_time": "2019-05-01T07:11:46.721443Z"
    }
   },
   "outputs": [],
   "source": [
    "# collect all openpose for foreground players\n",
    "fid2openpose_A = {}\n",
    "fid2openpose_B = {}\n",
    "for interval in match_intervals_A:\n",
    "    fid2pose_fg, fid2pose_bg = group_pose_from_interval(interval)\n",
    "    fid2openpose_A = {**fid2openpose_A, **fid2pose_fg}\n",
    "for interval in match_intervals_B:\n",
    "    fid2pose_fg, fid2pose_bg = group_pose_from_interval(interval)\n",
    "    fid2openpose_B = {**fid2openpose_B, **fid2pose_fg}"
   ]
  },
  {
   "cell_type": "markdown",
   "metadata": {},
   "source": [
    "# Label clip for simple control demo\n",
    "According to the x position, segment the clip into three types of the motion: moving left, still, moving right"
   ]
  },
  {
   "cell_type": "code",
   "execution_count": null,
   "metadata": {
    "ExecuteTime": {
     "end_time": "2019-05-01T07:15:06.821145Z",
     "start_time": "2019-05-01T07:15:04.757624Z"
    }
   },
   "outputs": [],
   "source": [
    "_, sfid, efid, duration = match_intervals_A[0]\n",
    "video.download(segment=(sfid/video.fps, efid/video.fps), output_path='/app/tmp/HW_foreground_0.mp4')"
   ]
  },
  {
   "cell_type": "code",
   "execution_count": null,
   "metadata": {
    "ExecuteTime": {
     "end_time": "2019-05-01T09:39:20.093500Z",
     "start_time": "2019-05-01T09:39:20.004612Z"
    }
   },
   "outputs": [],
   "source": [
    "def group_motion(interval, fid2openpose, step_size=5, fps=25):\n",
    "    _, sfid, efid, _ = interval\n",
    "    x_list = [fid2openpose_A[fid]._format_keypoints()[Pose.Neck, 0] for fid in range(sfid, efid) if fid in fid2openpose]\n",
    "    x_smooth = savgol_filter(x_list, fps, 2)\n",
    "    motion_dict = {'left': [], 'right': [], 'still': []}\n",
    "   \n",
    "    for i in range(0, efid - sfid, step_size):\n",
    "        for j in range(i + fps, efid - sfid, step_size):\n",
    "            x_seg = x_smooth[i : j]\n",
    "            xmin, xmax = min(x_seg), max(x_seg)\n",
    "            argmin = np.argmin(x_seg)\n",
    "            argmax = np.argmax(x_seg)\n",
    "            if xmax - xmin < 0.01:\n",
    "                avgx = np.average(x_seg)\n",
    "                motion_dict['still'] += [{'start_x': avgx, 'end_x': avgx, 'start_fid': i+sfid, 'end_fid' : j+sfid, \n",
    "                                          'duration': (j-i)/video.fps}]\n",
    "            elif (xmax - xmin) > 0.05 and argmin == 0 and argmax == len(x_seg) - 1:\n",
    "                # decide whether the slope is smooth\n",
    "                valid = True\n",
    "                for k in range(0, len(x_seg) - fps, fps):\n",
    "                    if x_seg[k+fps] - x_seg[k] < 0.01:\n",
    "                        valid = False\n",
    "                        break\n",
    "                if valid:\n",
    "                    motion_dict['right'] += [{'start_x': xmin, 'end_x': xmax, 'start_fid': i+sfid, 'end_fid' : j+sfid, \n",
    "                                          'duration': (j-i)/video.fps}]\n",
    "            elif (xmax - xmin) > 0.04 and argmax == 0 and argmin == len(x_seg) - 1:\n",
    "                # decide whether the slope is smooth\n",
    "                valid = True\n",
    "                for k in range(0, len(x_seg) - fps, fps):\n",
    "                    if x_seg[k] - x_seg[k+fps] < 0.01:\n",
    "                        valid = False\n",
    "                        break\n",
    "                if valid:\n",
    "                    motion_dict['left'] += [{'start_x': xmax, 'end_x': xmin, 'start_fid': i+sfid, 'end_fid' : j+sfid, \n",
    "                                          'duration': (j-i)/video.fps}] \n",
    "    def merge_overlap_seg(motion_list):\n",
    "        if len(motion_list) == 0:\n",
    "            return []\n",
    "        motion_list.sort(key = lambda x : x['start_fid'])\n",
    "        motion_list_merge = []\n",
    "        old_sfid = motion_list[0]['start_fid']\n",
    "        for seg in motion_list:\n",
    "            if seg['start_fid'] == old_sfid:\n",
    "                longest_seg = seg\n",
    "            elif old_sfid != -1:\n",
    "                motion_list_merge.append(longest_seg)\n",
    "                old_sfid = -1\n",
    "            if seg['start_fid'] > longest_seg['end_fid']:\n",
    "                old_sfid = seg['start_fid']\n",
    "                longest_seg = seg\n",
    "        if len(motion_list_merge) == 0:\n",
    "            motion_list_merge.append(longest_seg)\n",
    "        elif longest_seg['start_fid'] != motion_list_merge[-1]['start_fid']:\n",
    "            motion_list_merge.append(longest_seg)\n",
    "        return motion_list_merge\n",
    "    \n",
    "    motion_dict_filter = {'left': merge_overlap_seg(motion_dict['left']), 'right': merge_overlap_seg(motion_dict['right']), \n",
    "                     'still': merge_overlap_seg(motion_dict['still'])}\n",
    "\n",
    "    return motion_dict_filter"
   ]
  },
  {
   "cell_type": "code",
   "execution_count": null,
   "metadata": {
    "ExecuteTime": {
     "end_time": "2019-05-01T09:39:27.127514Z",
     "start_time": "2019-05-01T09:39:25.959370Z"
    },
    "scrolled": true
   },
   "outputs": [],
   "source": [
    "motion_dict = {'left': [], 'right': [], 'still': []}\n",
    "for interval in match_intervals_A:\n",
    "    motion_dict_i = group_motion(interval, fid2openpose_A)\n",
    "    motion_dict['left'] += motion_dict_i['left']\n",
    "    motion_dict['right'] += motion_dict_i['right']\n",
    "    motion_dict['still'] += motion_dict_i['still']    "
   ]
  },
  {
   "cell_type": "code",
   "execution_count": null,
   "metadata": {
    "ExecuteTime": {
     "end_time": "2019-05-01T16:42:30.944049Z",
     "start_time": "2019-05-01T16:42:30.785034Z"
    }
   },
   "outputs": [],
   "source": [
    "matplotlib.rc('xtick', labelsize=20) \n",
    "matplotlib.rc('ytick', labelsize=20) \n",
    "plt.plot(np.arange(len(x_list)), x_list, label='original')\n",
    "plt.plot(np.arange(len(x_list)), x_list_smooth, label='smooth')\n",
    "plt.legend(fontsize=18)\n",
    "plt.xlabel('Frame', fontsize=22)\n",
    "plt.ylabel('Foreground player position X', fontsize=22)\n",
    "plt.show()"
   ]
  },
  {
   "cell_type": "code",
   "execution_count": null,
   "metadata": {
    "ExecuteTime": {
     "end_time": "2019-05-01T09:11:18.475893Z",
     "start_time": "2019-05-01T09:11:18.428062Z"
    }
   },
   "outputs": [],
   "source": [
    "print(len(motion_dict['left']), len(motion_dict['still']), len(motion_dict['right']))"
   ]
  },
  {
   "cell_type": "code",
   "execution_count": null,
   "metadata": {
    "ExecuteTime": {
     "end_time": "2019-05-01T16:42:42.382780Z",
     "start_time": "2019-05-01T16:42:42.022023Z"
    },
    "scrolled": true
   },
   "outputs": [],
   "source": [
    "plt.figure(figsize=(10, 10))\n",
    "\n",
    "for motion in motion_dict['left']:\n",
    "    plt.scatter(motion['start_x'], motion['end_x'], c='r', s=motion['duration']*50)\n",
    "for motion in motion_dict['right']:\n",
    "    plt.scatter(motion['start_x'], motion['end_x'], c='b', s=motion['duration']*50)\n",
    "for motion in motion_dict['still']:\n",
    "    plt.scatter(motion['start_x'], motion['end_x'], c='g', s=motion['duration']*50)\n",
    "plt.xlim([0, 1])\n",
    "plt.ylim([0, 1])\n",
    "plt.xlabel('Foreground player start position X', fontsize=22)\n",
    "plt.ylabel('Foreground player end position X', fontsize=22)\n",
    "plt.show()"
   ]
  },
  {
   "cell_type": "code",
   "execution_count": null,
   "metadata": {
    "ExecuteTime": {
     "end_time": "2019-05-01T09:28:24.001193Z",
     "start_time": "2019-05-01T09:28:23.949926Z"
    }
   },
   "outputs": [],
   "source": [
    "def find_motion(motion_dict, start_x, end_x, duration, motion_type, weight=(1,1,1)):\n",
    "    best_dist = np.inf\n",
    "    best_motion = None\n",
    "    for motion in motion_dict[motion_type]:\n",
    "        dist = abs(start_x - motion['start_x']) * weight[0] + \\\n",
    "                abs(end_x - motion['end_x']) * weight[1] + \\\n",
    "                abs(duration - motion['duration']) * weight[2]\n",
    "        if dist < best_dist:\n",
    "            best_dist = dist\n",
    "            best_motion = motion\n",
    "    return best_motion"
   ]
  },
  {
   "cell_type": "code",
   "execution_count": null,
   "metadata": {
    "ExecuteTime": {
     "end_time": "2019-05-01T10:02:22.724081Z",
     "start_time": "2019-05-01T10:02:22.670649Z"
    }
   },
   "outputs": [],
   "source": [
    "motion_1 = find_motion(motion_dict, 0.35, 0.65, 1, 'right', (1,1,0))\n",
    "motion_2 = find_motion(motion_dict, 0.65, 0.35, 1, 'left', (1,1,0))\n",
    "motion_3 = find_motion(motion_dict, 0.35, 0.35, 3, 'still', (1,1,1))\n",
    "\n",
    "print(motion_1, motion_2, motion_3)\n",
    "def motion2interval(motion):\n",
    "    return (video_id, motion['start_fid'], motion['end_fid'], motion['duration'])\n",
    "searched_intervals = [motion2interval(motion_1), motion2interval(motion_2), motion2interval(motion_3)]\n",
    "print(searched_intervals)"
   ]
  },
  {
   "cell_type": "code",
   "execution_count": null,
   "metadata": {
    "ExecuteTime": {
     "end_time": "2019-05-01T09:48:34.226263Z",
     "start_time": "2019-05-01T09:48:33.860403Z"
    }
   },
   "outputs": [],
   "source": [
    "_, sfid, efid, _ = searched_intervals[0]\n",
    "video.download(segment=(sfid / video.fps, efid / video.fps), output_path='/app/tmp/search_seg0.mp4')"
   ]
  },
  {
   "cell_type": "code",
   "execution_count": null,
   "metadata": {
    "ExecuteTime": {
     "end_time": "2019-05-01T10:02:35.387894Z",
     "start_time": "2019-05-01T10:02:32.621950Z"
    }
   },
   "outputs": [],
   "source": [
    "from esper.supercut import stitch_video_temporal\n",
    "stitch_video_temporal(searched_intervals, out_path='/app/result/naive_control.mp4')"
   ]
  },
  {
   "cell_type": "code",
   "execution_count": null,
   "metadata": {},
   "outputs": [],
   "source": [
    "plt.figure()\n",
    "plt.plot(np.arange(5), np.ones(5)*10, )"
   ]
  }
 ],
 "metadata": {
  "kernelspec": {
   "display_name": "Django Shell-Plus",
   "language": "python",
   "name": "django_extensions"
  },
  "language_info": {
   "codemirror_mode": {
    "name": "ipython",
    "version": 3
   },
   "file_extension": ".py",
   "mimetype": "text/x-python",
   "name": "python",
   "nbconvert_exporter": "python",
   "pygments_lexer": "ipython3",
   "version": "3.5.2"
  },
  "toc": {
   "nav_menu": {},
   "number_sections": true,
   "sideBar": true,
   "skip_h1_title": false,
   "toc_cell": false,
   "toc_position": {},
   "toc_section_display": "block",
   "toc_window_display": false
  }
 },
 "nbformat": 4,
 "nbformat_minor": 2
}
