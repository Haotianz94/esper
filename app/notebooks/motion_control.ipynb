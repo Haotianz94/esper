{
 "cells": [
  {
   "cell_type": "code",
   "execution_count": null,
   "metadata": {
    "ExecuteTime": {
     "end_time": "2019-07-05T19:57:56.478271Z",
     "start_time": "2019-07-05T19:57:55.784319Z"
    },
    "scrolled": true
   },
   "outputs": [],
   "source": [
    "from esper.table_tennis.utils import *\n",
    "from esper.table_tennis.pose_utils import * \n",
    "\n",
    "import cv2\n",
    "import random\n",
    "import pickle\n",
    "import pycocotools.mask as mask_util\n",
    "from scipy import ndimage\n",
    "import numpy as np\n",
    "from scipy.signal import savgol_filter"
   ]
  },
  {
   "cell_type": "code",
   "execution_count": null,
   "metadata": {
    "ExecuteTime": {
     "end_time": "2019-07-05T19:57:59.570680Z",
     "start_time": "2019-07-05T19:57:59.536770Z"
    }
   },
   "outputs": [],
   "source": [
    "sc = Client()\n",
    "# video_id = 65\n",
    "# video = Video.objects.filter(id=video_id)[0]\n",
    "# video_ids = [video_id]\n",
    "# video.item_name()"
   ]
  },
  {
   "cell_type": "code",
   "execution_count": null,
   "metadata": {
    "ExecuteTime": {
     "end_time": "2019-07-03T21:36:49.787559Z",
     "start_time": "2019-07-03T21:36:49.766684Z"
    }
   },
   "outputs": [],
   "source": [
    "video.item_name()"
   ]
  },
  {
   "cell_type": "markdown",
   "metadata": {},
   "source": [
    "# load data"
   ]
  },
  {
   "cell_type": "code",
   "execution_count": null,
   "metadata": {
    "ExecuteTime": {
     "end_time": "2019-05-21T19:18:22.293126Z",
     "start_time": "2019-05-21T19:18:22.242905Z"
    }
   },
   "outputs": [],
   "source": [
    "match_intervals_all = pickle.load(open('/app/data/pkl/match_scene_intervals_dict.pkl', 'rb'))\n",
    "match_intervals_A = match_intervals_all['HW_foreground']\n",
    "match_intervals_B = match_intervals_all['JZ_foreground']\n",
    "match_intervals_A.sort()\n",
    "match_intervals_B.sort()"
   ]
  },
  {
   "cell_type": "code",
   "execution_count": null,
   "metadata": {
    "ExecuteTime": {
     "end_time": "2019-05-21T16:41:28.871521Z",
     "start_time": "2019-05-21T16:41:28.852231Z"
    }
   },
   "outputs": [],
   "source": [
    "match_ism_A = list_to_IntervalSetMapping(match_intervals_A)\n",
    "match_ism_B = list_to_IntervalSetMapping(match_intervals_B)"
   ]
  },
  {
   "cell_type": "code",
   "execution_count": null,
   "metadata": {
    "ExecuteTime": {
     "end_time": "2019-05-21T16:41:37.476031Z",
     "start_time": "2019-05-21T16:41:37.429705Z"
    }
   },
   "outputs": [],
   "source": [
    "count_duration(match_ism_A) + count_duration(match_ism_B)"
   ]
  },
  {
   "cell_type": "code",
   "execution_count": null,
   "metadata": {
    "ExecuteTime": {
     "end_time": "2019-05-28T20:55:08.266486Z",
     "start_time": "2019-05-28T20:55:08.138479Z"
    },
    "scrolled": true
   },
   "outputs": [],
   "source": [
    "# collect all openpose for foreground players\n",
    "fid2openpose_A = {}\n",
    "fid2openpose_B = {}\n",
    "for interval in match_intervals_A:\n",
    "    fid2pose_fg, fid2pose_bg = group_pose_from_interval(interval)\n",
    "    fid2openpose_A = {**fid2openpose_A, **fid2pose_fg}\n",
    "for interval in match_intervals_B:\n",
    "    fid2pose_fg, fid2pose_bg = group_pose_from_interval(interval)\n",
    "    fid2openpose_B = {**fid2openpose_B, **fid2pose_fg}"
   ]
  },
  {
   "cell_type": "code",
   "execution_count": null,
   "metadata": {
    "ExecuteTime": {
     "end_time": "2019-05-28T20:55:56.284389Z",
     "start_time": "2019-05-28T20:55:53.442703Z"
    }
   },
   "outputs": [],
   "source": [
    "match_scene_cls = pickle.load(open('/app/data/pkl/match_scene_cls.pkl', 'rb'))\n",
    "densepose_result = pickle.load(open('/app/data/pkl/densepose_result.pkl', 'rb'), encoding='latin1')\n",
    "maskrcnn_result = pickle.load(open('/app/data/pkl/maskrcnn_result.pkl', 'rb'))"
   ]
  },
  {
   "cell_type": "code",
   "execution_count": null,
   "metadata": {
    "ExecuteTime": {
     "end_time": "2019-05-28T20:55:56.322257Z",
     "start_time": "2019-05-28T20:55:56.285564Z"
    }
   },
   "outputs": [],
   "source": [
    "fid2densepose = {}\n",
    "for player in densepose_result:\n",
    "    fid2densepose[player['fid']] = player\n",
    "fid2maskrcnn = {}\n",
    "for fid, bbox in enumerate(maskrcnn_result):\n",
    "    fid2maskrcnn[fid] = bbox"
   ]
  },
  {
   "cell_type": "markdown",
   "metadata": {},
   "source": [
    "# Find clean sport field background"
   ]
  },
  {
   "cell_type": "code",
   "execution_count": null,
   "metadata": {
    "ExecuteTime": {
     "end_time": "2019-05-21T18:26:50.734587Z",
     "start_time": "2019-05-21T18:26:44.946585Z"
    }
   },
   "outputs": [],
   "source": [
    "for fid in range(len(match_scene_cls)):\n",
    "    if match_scene_cls[fid]:\n",
    "        poses = Pose.objects.filter(frame__video_id=65, frame__number=fid)\n",
    "        if len(poses) == 0:\n",
    "            print(fid)"
   ]
  },
  {
   "cell_type": "code",
   "execution_count": null,
   "metadata": {
    "ExecuteTime": {
     "end_time": "2019-07-01T18:05:39.076691Z",
     "start_time": "2019-07-01T18:05:38.953330Z"
    },
    "scrolled": true
   },
   "outputs": [],
   "source": [
    "# clean background in 65: 39050\n",
    "background = load_frame(video, 39050, [])\n",
    "# imshow(background)\n",
    "cv2.imwrite('/app/tmp/background.jpg', background)"
   ]
  },
  {
   "cell_type": "markdown",
   "metadata": {},
   "source": [
    "# Hand annotate ball hits"
   ]
  },
  {
   "cell_type": "code",
   "execution_count": null,
   "metadata": {
    "ExecuteTime": {
     "end_time": "2019-05-21T19:18:16.858944Z",
     "start_time": "2019-05-21T19:18:16.842318Z"
    }
   },
   "outputs": [],
   "source": [
    "%matplotlib notebook"
   ]
  },
  {
   "cell_type": "code",
   "execution_count": null,
   "metadata": {
    "ExecuteTime": {
     "end_time": "2019-05-21T19:15:41.550706Z",
     "start_time": "2019-05-21T19:15:41.529906Z"
    },
    "scrolled": true
   },
   "outputs": [],
   "source": [
    "match_intervals_B"
   ]
  },
  {
   "cell_type": "code",
   "execution_count": null,
   "metadata": {
    "ExecuteTime": {
     "end_time": "2019-05-21T19:32:21.330012Z",
     "start_time": "2019-05-21T19:32:21.311062Z"
    }
   },
   "outputs": [],
   "source": [
    "fid -= 5"
   ]
  },
  {
   "cell_type": "code",
   "execution_count": null,
   "metadata": {
    "ExecuteTime": {
     "end_time": "2019-05-21T19:35:58.104921Z",
     "start_time": "2019-05-21T19:35:57.900677Z"
    },
    "scrolled": true
   },
   "outputs": [],
   "source": [
    "# fid = 37287\n",
    "frame = load_frame(video, fid, [])\n",
    "print(fid)\n",
    "fid += 1\n",
    "imshow(frame)"
   ]
  },
  {
   "cell_type": "code",
   "execution_count": null,
   "metadata": {
    "ExecuteTime": {
     "end_time": "2019-05-21T19:36:05.680302Z",
     "start_time": "2019-05-21T19:36:05.656518Z"
    }
   },
   "outputs": [],
   "source": [
    "hit_annotation = [\n",
    "    [(35583, 806, 398, 0), (35599, 1067, 587, 1),  (35621, 937, 418, 0), (35638, 863, 537, 1), (35644, 1306, 369, 0)],\n",
    "    [(36506, 802, 537, 1), (36526, 745, 469, 0), (36543, 1198, 612, 1), (36551, 946, 366, 0), \n",
    "    (36563, 854, 635, 1), (36577, 1077, 274, 0), (36590, 779, 790, 1), (36611, 464, 285, 0)],\n",
    "    [(37839, 1214, 385, 0), (37858, 1108, 567, 1), (37866, 1148, 415, 0), (37878, 920, 603, 1)],\n",
    "    [(37304, 740, 612, 1), (37322, 1058, 447, 0), (37332, 857, 600, 1), (37339, 1110, 408, 0), \n",
    "    (37351, 877, 665, 1), (37363, 1157, 357, 0), (37372, 726, 619, 1)]\n",
    "]\n",
    "def convert_hit_annotation(annot):\n",
    "    annotation = []\n",
    "    for traj in annot:\n",
    "        annotation += [[{'fid':fid, 'hit':(x, y), 'fg':fg} for fid, x, y, fg in traj]]\n",
    "    return annotation\n",
    "hit_annotation = convert_hit_annotation(hit_annotation)"
   ]
  },
  {
   "cell_type": "markdown",
   "metadata": {},
   "source": [
    "# draw ball trajectories"
   ]
  },
  {
   "cell_type": "code",
   "execution_count": null,
   "metadata": {
    "ExecuteTime": {
     "end_time": "2019-05-21T18:29:29.749082Z",
     "start_time": "2019-05-21T18:29:08.755138Z"
    }
   },
   "outputs": [],
   "source": [
    "videowriter = cv2.VideoWriter('/app/result/visualize_trajectory.avi', cv2.VideoWriter_fourcc('M','J','P','G'), 8, (video.width, video.height))\n",
    "for hit_traj in hit_annotation:\n",
    "    print(hit_traj)\n",
    "    ball_traj = interpolate_trajectory_from_hit(hit_traj)\n",
    "    for ball in ball_traj:\n",
    "#         frame = background.copy()\n",
    "        frame = load_frame(video, ball['fid'], [])\n",
    "        cv2.circle(frame, ball['pt'], 8, (0, 0, 255), -1)\n",
    "        videowriter.write(frame)\n",
    "videowriter.release()"
   ]
  },
  {
   "cell_type": "markdown",
   "metadata": {},
   "source": [
    "# Generate motion from simple left/right control"
   ]
  },
  {
   "cell_type": "markdown",
   "metadata": {},
   "source": [
    "## Label clip for left/right control demo\n",
    "According to the x position, segment the clip into three types of the motion: moving left, still, moving right"
   ]
  },
  {
   "cell_type": "code",
   "execution_count": null,
   "metadata": {
    "ExecuteTime": {
     "end_time": "2019-05-14T19:02:09.167771Z",
     "start_time": "2019-05-14T19:02:09.023206Z"
    },
    "scrolled": true
   },
   "outputs": [],
   "source": [
    "motion_dict = {'left': [], 'right': [], 'still': []}\n",
    "for interval in match_intervals_A:\n",
    "    motion_dict_i = group_motion(interval, fid2openpose_A)\n",
    "    motion_dict['left'] += motion_dict_i['left']\n",
    "    motion_dict['right'] += motion_dict_i['right']\n",
    "    motion_dict['still'] += motion_dict_i['still']\n",
    "print(len(motion_dict['left']), len(motion_dict['still']), len(motion_dict['right']))"
   ]
  },
  {
   "cell_type": "code",
   "execution_count": null,
   "metadata": {
    "ExecuteTime": {
     "end_time": "2019-05-01T16:42:42.382780Z",
     "start_time": "2019-05-01T16:42:42.022023Z"
    },
    "scrolled": true
   },
   "outputs": [],
   "source": [
    "# visualize labeled clips\n",
    "plt.figure(figsize=(10, 10))\n",
    "\n",
    "for motion in motion_dict['left']:\n",
    "    plt.scatter(motion['start_x'], motion['end_x'], c='r', s=motion['duration']*50)\n",
    "for motion in motion_dict['right']:\n",
    "    plt.scatter(motion['start_x'], motion['end_x'], c='b', s=motion['duration']*50)\n",
    "for motion in motion_dict['still']:\n",
    "    plt.scatter(motion['start_x'], motion['end_x'], c='g', s=motion['duration']*50)\n",
    "plt.xlim([0, 1])\n",
    "plt.ylim([0, 1])\n",
    "plt.xlabel('Foreground player start position X', fontsize=22)\n",
    "plt.ylabel('Foreground player end position X', fontsize=22)\n",
    "plt.show()"
   ]
  },
  {
   "cell_type": "markdown",
   "metadata": {},
   "source": [
    "## Generate motion match left/right control"
   ]
  },
  {
   "cell_type": "code",
   "execution_count": null,
   "metadata": {
    "ExecuteTime": {
     "end_time": "2019-05-01T10:02:22.724081Z",
     "start_time": "2019-05-01T10:02:22.670649Z"
    }
   },
   "outputs": [],
   "source": [
    "motion_1 = find_motion(motion_dict, 0.35, 0.65, 1, 'right', (1,1,0))\n",
    "motion_2 = find_motion(motion_dict, 0.65, 0.35, 1, 'left', (1,1,0))\n",
    "motion_3 = find_motion(motion_dict, 0.35, 0.35, 3, 'still', (1,1,1))\n",
    "\n",
    "print(motion_1, motion_2, motion_3)\n",
    "def motion2interval(motion):\n",
    "    return (video_id, motion['start_fid'], motion['end_fid'], motion['duration'])\n",
    "searched_intervals = [motion2interval(motion_1), motion2interval(motion_2), motion2interval(motion_3)]\n",
    "print(searched_intervals)"
   ]
  },
  {
   "cell_type": "code",
   "execution_count": null,
   "metadata": {
    "ExecuteTime": {
     "end_time": "2019-05-01T10:02:35.387894Z",
     "start_time": "2019-05-01T10:02:32.621950Z"
    }
   },
   "outputs": [],
   "source": [
    "from esper.supercut import stitch_video_temporal\n",
    "stitch_video_temporal(searched_intervals, out_path='/app/result/naive_control.mp4')"
   ]
  },
  {
   "cell_type": "markdown",
   "metadata": {},
   "source": [
    "# Generate motion without hit label\n",
    "Use hand annotated ball trajectory, search for any interval from the motion database"
   ]
  },
  {
   "cell_type": "code",
   "execution_count": null,
   "metadata": {
    "ExecuteTime": {
     "end_time": "2019-05-21T21:04:58.944577Z",
     "start_time": "2019-05-21T21:04:58.749097Z"
    }
   },
   "outputs": [],
   "source": [
    "H, W = video.height, video.width\n",
    "motion_dict_A = []\n",
    "for _, sfid, efid, _ in match_intervals_A:\n",
    "    motion_traj = {}\n",
    "    for fid in range(sfid, efid):\n",
    "        if fid in fid2openpose_A:\n",
    "            pose = fid2openpose_A[fid]\n",
    "            kp = pose._format_keypoints()\n",
    "            motion_traj[fid] = {'Neck': (int(kp[Pose.Neck][0]*W), int(kp[Pose.Neck][1]*H)), \n",
    "                                'RWrist': (int(kp[Pose.RWrist][0]*W), int(kp[Pose.RWrist][1]*H)),\n",
    "                               'LAnkle': (int(kp[Pose.LAnkle][0]*W), int(kp[Pose.LAnkle][1]*H)),\n",
    "                               'RAnkle': (int(kp[Pose.RAnkle][0]*W), int(kp[Pose.RAnkle][1]*H))}\n",
    "    motion_dict_A.append(motion_traj)"
   ]
  },
  {
   "cell_type": "code",
   "execution_count": null,
   "metadata": {
    "ExecuteTime": {
     "end_time": "2019-05-21T19:37:30.226827Z",
     "start_time": "2019-05-21T19:37:30.177868Z"
    }
   },
   "outputs": [],
   "source": [
    "hit_traj = hit_annotation[3]"
   ]
  },
  {
   "cell_type": "code",
   "execution_count": null,
   "metadata": {
    "ExecuteTime": {
     "end_time": "2019-05-21T21:25:53.359241Z",
     "start_time": "2019-05-21T21:25:43.875355Z"
    }
   },
   "outputs": [],
   "source": [
    "generate_motion_without_hitlabel(sc, video, fid2densepose, motion_dict_A, hit_traj, \n",
    "                                 out_path='/app/result/naive_control.avi')"
   ]
  },
  {
   "cell_type": "markdown",
   "metadata": {},
   "source": [
    "# Generate motion with hit label"
   ]
  },
  {
   "cell_type": "code",
   "execution_count": null,
   "metadata": {
    "ExecuteTime": {
     "end_time": "2019-07-05T20:00:31.591446Z",
     "start_time": "2019-07-05T20:00:31.560226Z"
    }
   },
   "outputs": [],
   "source": [
    "# prepare motion database\n",
    "hit_annotation = pickle.load(open('/app/data/pkl/hit_annotation.pkl', 'rb'))\n",
    "hit_dict = hit_annotation['Tabletennis_2012_Olympics_men_single_final_gold']['JZ']\n",
    "motion_dict = {} \n",
    "for k, v in hit_annotation.items():\n",
    "    motion_dict[k] = v['HW']"
   ]
  },
  {
   "cell_type": "markdown",
   "metadata": {},
   "source": [
    "## Plot the distribution of the labeled hit"
   ]
  },
  {
   "cell_type": "code",
   "execution_count": null,
   "metadata": {
    "ExecuteTime": {
     "end_time": "2019-06-04T01:55:38.338854Z",
     "start_time": "2019-06-04T01:55:38.317987Z"
    }
   },
   "outputs": [],
   "source": [
    "intervals_A = []\n",
    "intervals_B = []\n",
    "for point in hit_dict_A:\n",
    "    for idx in range(1, len(point)):\n",
    "        interval = (point[idx]['fid'], (point[idx]['fid'] - point[idx-1]['fid']) / video.fps)\n",
    "        if point[idx-1]['fg']:\n",
    "            intervals_A.append(interval)\n",
    "        else:\n",
    "            intervals_B.append(interval)\n",
    "for point in hit_dict_B:\n",
    "    for idx in range(1, len(point)):\n",
    "        interval = (point[idx]['fid'], (point[idx]['fid'] - point[idx-1]['fid']) / video.fps)\n",
    "        if point[idx-1]['fg']:\n",
    "            intervals_B.append(interval)\n",
    "        else:\n",
    "            time_intervals_A.append(interval)\n",
    "intervals_A.sort()\n",
    "intervals_B.sort()"
   ]
  },
  {
   "cell_type": "code",
   "execution_count": null,
   "metadata": {
    "ExecuteTime": {
     "end_time": "2019-06-04T01:59:56.741386Z",
     "start_time": "2019-06-04T01:59:56.197146Z"
    }
   },
   "outputs": [],
   "source": [
    "# plot \n",
    "plt.bar(np.arange(len(intervals_A)), [t[1] for t in intervals_A], label='HW')\n",
    "plt.bar(np.arange(len(intervals_B)), [t[1] for t in intervals_B], label='JZ')\n",
    "plt.ylabel('Time between hits(s)')\n",
    "plt.title('Length of time intervals between hits')\n",
    "plt.legend()\n",
    "plt.show()"
   ]
  },
  {
   "cell_type": "code",
   "execution_count": null,
   "metadata": {
    "ExecuteTime": {
     "end_time": "2019-06-04T19:34:38.973035Z",
     "start_time": "2019-06-04T19:34:38.946274Z"
    },
    "scrolled": true
   },
   "outputs": [],
   "source": [
    "H, W = video.height, video.width\n",
    "hit_location_A = []\n",
    "hit_location_B = []\n",
    "for point in hit_dict_A:\n",
    "    for hit in point:\n",
    "        if hit['pos'] is None:\n",
    "            continue\n",
    "        if hit['fg']:\n",
    "            hit_location_A.append(1. * hit['pos'][0] / W)\n",
    "        else:\n",
    "            hit_location_B.append(1 - 1. * hit['pos'][0] / W)\n",
    "for point in hit_dict_B:\n",
    "    for hit in point:\n",
    "        if hit['pos'] is None:\n",
    "            continue\n",
    "        if hit['fg']:\n",
    "            hit_location_B.append(1. * hit['pos'][0] / W)\n",
    "        else:\n",
    "            hit_location_A.append(1 - 1. * hit['pos'][0] / W)\n",
    "hit_location_A.sort()\n",
    "hit_location_B.sort()"
   ]
  },
  {
   "cell_type": "code",
   "execution_count": null,
   "metadata": {
    "ExecuteTime": {
     "end_time": "2019-06-04T19:34:40.398226Z",
     "start_time": "2019-06-04T19:34:39.704480Z"
    }
   },
   "outputs": [],
   "source": [
    "# plot \n",
    "plt.bar(np.arange(len(hit_location_A)), hit_location_A, width=0.3, label='HW')\n",
    "plt.bar(np.arange(len(hit_location_B))+0.5, hit_location_B, width=0.3, label='JZ')\n",
    "plt.ylabel('X postion')\n",
    "plt.title('Distribution of X position of two players')\n",
    "plt.legend()\n",
    "plt.plot([0, len(hit_location_A)], [0.5, 0.5], 'k')\n",
    "plt.show()"
   ]
  },
  {
   "cell_type": "markdown",
   "metadata": {},
   "source": [
    "## Generate motion with triangle query offline"
   ]
  },
  {
   "cell_type": "code",
   "execution_count": null,
   "metadata": {
    "ExecuteTime": {
     "end_time": "2019-07-03T02:03:02.769279Z",
     "start_time": "2019-07-03T02:03:02.724711Z"
    }
   },
   "outputs": [],
   "source": [
    "from esper.table_tennis.motion_control_offline import *\n",
    "# select ball trajectory\n",
    "hit_traj = hit_dict[0]\n",
    "hit_traj"
   ]
  },
  {
   "cell_type": "code",
   "execution_count": null,
   "metadata": {
    "ExecuteTime": {
     "end_time": "2019-07-03T02:03:10.407068Z",
     "start_time": "2019-07-03T02:03:05.131168Z"
    },
    "scrolled": true
   },
   "outputs": [],
   "source": [
    "# generate motion for a single point\n",
    "# generate_motion_local(sc, video, motion_dict, hit_traj, \n",
    "#                                out_path='/app/result/motion_generation/local_label_JZ_0.avi')\n",
    "# generate_motion_global(sc, video, motion_dict, hit_traj, \n",
    "#                                out_path='/app/result/motion_generation/greedy_label_JZ_0.avi')\n",
    "query2result = generate_motion_dijkstra(sc, motion_dict, hit_traj, \n",
    "                         out_path='/app/result/motion_generation/dijkstra_full_stick_0.avi',\n",
    "                         interpolation=False, draw_stick=True)"
   ]
  },
  {
   "cell_type": "code",
   "execution_count": null,
   "metadata": {
    "ExecuteTime": {
     "end_time": "2019-06-05T08:07:39.109492Z",
     "start_time": "2019-06-05T08:07:25.641896Z"
    }
   },
   "outputs": [],
   "source": [
    "render_motion(sc, video, query2result, \n",
    "              out_path='/app/result/motion_generation/global_dijkstra_interpolation_label_JZ_0.avi',\n",
    "              interpolation=True)"
   ]
  },
  {
   "cell_type": "code",
   "execution_count": null,
   "metadata": {
    "ExecuteTime": {
     "end_time": "2019-07-02T22:51:06.308844Z",
     "start_time": "2019-07-02T22:49:55.535653Z"
    },
    "scrolled": true
   },
   "outputs": [],
   "source": [
    "# generate motion for a list of points\n",
    "interval_path = '/app/result/interval.avi'\n",
    "clips_list = []\n",
    "for idx, hit_traj in enumerate(hit_traj_dict):\n",
    "    if len(hit_traj) >= 6:\n",
    "        tmp_path = '/app/result/motion_generation/dijkstra_full_stick_{}.avi'.format(idx)\n",
    "\n",
    "        generate_motion_dijkstra(sc, motion_dict, hit_traj,\n",
    "                                 out_path=tmp_path, interpolation=False, draw_stick=True)\n",
    "\n",
    "#         render_motion(sc, video, query2result, \n",
    "#               out_path=dijkstra_path,\n",
    "#               interpolation=)\n",
    "\n",
    "        clips_list.append(tmp_path)\n",
    "        clips_list.append(interval_path)\n",
    "        print(idx)"
   ]
  },
  {
   "cell_type": "code",
   "execution_count": null,
   "metadata": {
    "ExecuteTime": {
     "end_time": "2019-07-02T22:51:57.924207Z",
     "start_time": "2019-07-02T22:51:57.808365Z"
    }
   },
   "outputs": [],
   "source": [
    "concat_videos_simple(clips_list, '/app/result/motion_generation/dijkstra_full_stick_all.mp4')"
   ]
  },
  {
   "cell_type": "code",
   "execution_count": null,
   "metadata": {
    "ExecuteTime": {
     "end_time": "2019-07-03T01:43:13.352586Z",
     "start_time": "2019-07-03T01:43:13.335882Z"
    }
   },
   "outputs": [],
   "source": [
    "hit_annotation_new = {}\n",
    "for k, v in hit_annotation.items():\n",
    "    newk = k.split('/')[-1].split('.')[0]\n",
    "    print(newk)\n",
    "    hit_annotation_new[newk] = v"
   ]
  },
  {
   "cell_type": "code",
   "execution_count": null,
   "metadata": {
    "ExecuteTime": {
     "end_time": "2019-07-03T01:43:18.310902Z",
     "start_time": "2019-07-03T01:43:18.294385Z"
    }
   },
   "outputs": [],
   "source": [
    "pickle.dump(hit_annotation_new, open('/app/data/pkl/hit_annotation.pkl', 'wb'))"
   ]
  },
  {
   "cell_type": "markdown",
   "metadata": {},
   "source": [
    "## Generate motion online"
   ]
  },
  {
   "cell_type": "code",
   "execution_count": null,
   "metadata": {
    "ExecuteTime": {
     "end_time": "2019-07-05T19:59:46.441853Z",
     "start_time": "2019-07-05T19:59:46.417609Z"
    }
   },
   "outputs": [],
   "source": [
    "from esper.table_tennis.motion_control_online import *"
   ]
  },
  {
   "cell_type": "code",
   "execution_count": null,
   "metadata": {
    "ExecuteTime": {
     "end_time": "2019-07-05T19:59:49.578212Z",
     "start_time": "2019-07-05T19:59:49.544662Z"
    }
   },
   "outputs": [],
   "source": [
    "# collect ball trajectory as a long point\n",
    "# hit_traj = []\n",
    "# for point in hit_dict:\n",
    "#     for idx, hit in enumerate(point):\n",
    "#         if idx > 0 and idx+1 < len(point)-1 and not hit['fg'] :\n",
    "#             next_hit = point[idx+1]\n",
    "#             if not next_hit['pos'] is None:\n",
    "#                 hit_traj += [{'pos': next_hit['pos'], 'nframes': next_hit['fid'] - hit['fid']}]\n",
    "# random.shuffle(hit_traj)\n",
    "# len(hit_traj)\n",
    "hit_candidates = pickle.load(open('/app/data/pkl/hit_traj.pkl', 'rb'))"
   ]
  },
  {
   "cell_type": "code",
   "execution_count": null,
   "metadata": {
    "ExecuteTime": {
     "end_time": "2019-07-05T01:35:43.836152Z",
     "start_time": "2019-07-05T01:35:43.800258Z"
    }
   },
   "outputs": [],
   "source": [
    "pickle.dump(hit_traj, open('/app/data/pkl/hit_traj.pkl', 'wb'))"
   ]
  },
  {
   "cell_type": "code",
   "execution_count": null,
   "metadata": {
    "ExecuteTime": {
     "end_time": "2019-07-05T21:22:21.277743Z",
     "start_time": "2019-07-05T21:22:16.560793Z"
    },
    "scrolled": true
   },
   "outputs": [],
   "source": [
    "generate_motion_online(sc, motion_dict, hit_candidates, \n",
    "                       out_path='/app/result/motion_generation/online_test_30.avi',\n",
    "                       interpolation=False, draw_stick=False, num_hits=5)"
   ]
  }
 ],
 "metadata": {
  "kernelspec": {
   "display_name": "Django Shell-Plus",
   "language": "python",
   "name": "django_extensions"
  },
  "language_info": {
   "codemirror_mode": {
    "name": "ipython",
    "version": 3
   },
   "file_extension": ".py",
   "mimetype": "text/x-python",
   "name": "python",
   "nbconvert_exporter": "python",
   "pygments_lexer": "ipython3",
   "version": "3.5.2"
  },
  "toc": {
   "nav_menu": {},
   "number_sections": true,
   "sideBar": true,
   "skip_h1_title": false,
   "toc_cell": false,
   "toc_position": {},
   "toc_section_display": "block",
   "toc_window_display": true
  }
 },
 "nbformat": 4,
 "nbformat_minor": 2
}
