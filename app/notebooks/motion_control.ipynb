{
 "cells": [
  {
   "cell_type": "code",
   "execution_count": null,
   "metadata": {
    "ExecuteTime": {
     "end_time": "2019-06-03T20:42:00.469582Z",
     "start_time": "2019-06-03T20:42:00.425379Z"
    }
   },
   "outputs": [],
   "source": [
    "from esper.table_tennis.utils import *\n",
    "from esper.table_tennis.motion_control import *\n",
    "from esper.table_tennis.pose_utils import * \n",
    "\n",
    "import cv2\n",
    "import random\n",
    "import pickle\n",
    "import pycocotools.mask as mask_util\n",
    "from scipy import ndimage\n",
    "import numpy as np\n",
    "from scipy.signal import savgol_filter"
   ]
  },
  {
   "cell_type": "code",
   "execution_count": null,
   "metadata": {
    "ExecuteTime": {
     "end_time": "2019-06-03T20:31:15.796507Z",
     "start_time": "2019-06-03T20:31:15.744335Z"
    }
   },
   "outputs": [],
   "source": [
    "sc = Client()\n",
    "video_id = 65\n",
    "video = Video.objects.filter(id=video_id)[0]\n",
    "video_ids = [video_id]"
   ]
  },
  {
   "cell_type": "markdown",
   "metadata": {},
   "source": [
    "# load data"
   ]
  },
  {
   "cell_type": "code",
   "execution_count": null,
   "metadata": {
    "ExecuteTime": {
     "end_time": "2019-05-21T19:18:22.293126Z",
     "start_time": "2019-05-21T19:18:22.242905Z"
    }
   },
   "outputs": [],
   "source": [
    "match_intervals_all = pickle.load(open('/app/data/pkl/match_scene_intervals_dict.pkl', 'rb'))\n",
    "match_intervals_A = match_intervals_all['HW_foreground']\n",
    "match_intervals_B = match_intervals_all['JZ_foreground']\n",
    "match_intervals_A.sort()\n",
    "match_intervals_B.sort()"
   ]
  },
  {
   "cell_type": "code",
   "execution_count": null,
   "metadata": {
    "ExecuteTime": {
     "end_time": "2019-05-21T16:41:28.871521Z",
     "start_time": "2019-05-21T16:41:28.852231Z"
    }
   },
   "outputs": [],
   "source": [
    "match_ism_A = list_to_IntervalSetMapping(match_intervals_A)\n",
    "match_ism_B = list_to_IntervalSetMapping(match_intervals_B)"
   ]
  },
  {
   "cell_type": "code",
   "execution_count": null,
   "metadata": {
    "ExecuteTime": {
     "end_time": "2019-05-21T16:41:37.476031Z",
     "start_time": "2019-05-21T16:41:37.429705Z"
    }
   },
   "outputs": [],
   "source": [
    "count_duration(match_ism_A) + count_duration(match_ism_B)"
   ]
  },
  {
   "cell_type": "code",
   "execution_count": null,
   "metadata": {
    "ExecuteTime": {
     "end_time": "2019-05-28T20:55:08.266486Z",
     "start_time": "2019-05-28T20:55:08.138479Z"
    },
    "scrolled": true
   },
   "outputs": [],
   "source": [
    "# collect all openpose for foreground players\n",
    "fid2openpose_A = {}\n",
    "fid2openpose_B = {}\n",
    "for interval in match_intervals_A:\n",
    "    fid2pose_fg, fid2pose_bg = group_pose_from_interval(interval)\n",
    "    fid2openpose_A = {**fid2openpose_A, **fid2pose_fg}\n",
    "for interval in match_intervals_B:\n",
    "    fid2pose_fg, fid2pose_bg = group_pose_from_interval(interval)\n",
    "    fid2openpose_B = {**fid2openpose_B, **fid2pose_fg}"
   ]
  },
  {
   "cell_type": "code",
   "execution_count": null,
   "metadata": {
    "ExecuteTime": {
     "end_time": "2019-05-28T20:55:56.284389Z",
     "start_time": "2019-05-28T20:55:53.442703Z"
    }
   },
   "outputs": [],
   "source": [
    "match_scene_cls = pickle.load(open('/app/data/pkl/match_scene_cls.pkl', 'rb'))\n",
    "densepose_result = pickle.load(open('/app/data/pkl/densepose_result.pkl', 'rb'), encoding='latin1')\n",
    "maskrcnn_result = pickle.load(open('/app/data/pkl/maskrcnn_result.pkl', 'rb'))"
   ]
  },
  {
   "cell_type": "code",
   "execution_count": null,
   "metadata": {
    "ExecuteTime": {
     "end_time": "2019-05-28T20:55:56.322257Z",
     "start_time": "2019-05-28T20:55:56.285564Z"
    }
   },
   "outputs": [],
   "source": [
    "fid2densepose = {}\n",
    "for player in densepose_result:\n",
    "    fid2densepose[player['fid']] = player\n",
    "fid2maskrcnn = {}\n",
    "for fid, bbox in enumerate(maskrcnn_result):\n",
    "    fid2maskrcnn[fid] = bbox"
   ]
  },
  {
   "cell_type": "markdown",
   "metadata": {},
   "source": [
    "# Find clean sport field background"
   ]
  },
  {
   "cell_type": "code",
   "execution_count": null,
   "metadata": {
    "ExecuteTime": {
     "end_time": "2019-05-21T18:26:50.734587Z",
     "start_time": "2019-05-21T18:26:44.946585Z"
    }
   },
   "outputs": [],
   "source": [
    "for fid in range(len(match_scene_cls)):\n",
    "    if match_scene_cls[fid]:\n",
    "        poses = Pose.objects.filter(frame__video_id=65, frame__number=fid)\n",
    "        if len(poses) == 0:\n",
    "            print(fid)"
   ]
  },
  {
   "cell_type": "code",
   "execution_count": null,
   "metadata": {
    "ExecuteTime": {
     "end_time": "2019-06-03T20:13:25.074375Z",
     "start_time": "2019-06-03T20:13:24.960527Z"
    },
    "scrolled": true
   },
   "outputs": [],
   "source": [
    "# clean background in 65: 39050\n",
    "background = load_frame(video, 39050, [])\n",
    "# imshow(frame)"
   ]
  },
  {
   "cell_type": "markdown",
   "metadata": {},
   "source": [
    "# Hand annotate ball hits"
   ]
  },
  {
   "cell_type": "code",
   "execution_count": null,
   "metadata": {
    "ExecuteTime": {
     "end_time": "2019-05-21T19:18:16.858944Z",
     "start_time": "2019-05-21T19:18:16.842318Z"
    }
   },
   "outputs": [],
   "source": [
    "%matplotlib notebook"
   ]
  },
  {
   "cell_type": "code",
   "execution_count": null,
   "metadata": {
    "ExecuteTime": {
     "end_time": "2019-05-21T19:15:41.550706Z",
     "start_time": "2019-05-21T19:15:41.529906Z"
    },
    "scrolled": true
   },
   "outputs": [],
   "source": [
    "match_intervals_B"
   ]
  },
  {
   "cell_type": "code",
   "execution_count": null,
   "metadata": {
    "ExecuteTime": {
     "end_time": "2019-05-21T19:32:21.330012Z",
     "start_time": "2019-05-21T19:32:21.311062Z"
    }
   },
   "outputs": [],
   "source": [
    "fid -= 5"
   ]
  },
  {
   "cell_type": "code",
   "execution_count": null,
   "metadata": {
    "ExecuteTime": {
     "end_time": "2019-05-21T19:35:58.104921Z",
     "start_time": "2019-05-21T19:35:57.900677Z"
    },
    "scrolled": true
   },
   "outputs": [],
   "source": [
    "# fid = 37287\n",
    "frame = load_frame(video, fid, [])\n",
    "print(fid)\n",
    "fid += 1\n",
    "imshow(frame)"
   ]
  },
  {
   "cell_type": "code",
   "execution_count": null,
   "metadata": {
    "ExecuteTime": {
     "end_time": "2019-05-21T19:36:05.680302Z",
     "start_time": "2019-05-21T19:36:05.656518Z"
    }
   },
   "outputs": [],
   "source": [
    "hit_annotation = [\n",
    "    [(35583, 806, 398, 0), (35599, 1067, 587, 1),  (35621, 937, 418, 0), (35638, 863, 537, 1), (35644, 1306, 369, 0)],\n",
    "    [(36506, 802, 537, 1), (36526, 745, 469, 0), (36543, 1198, 612, 1), (36551, 946, 366, 0), \n",
    "    (36563, 854, 635, 1), (36577, 1077, 274, 0), (36590, 779, 790, 1), (36611, 464, 285, 0)],\n",
    "    [(37839, 1214, 385, 0), (37858, 1108, 567, 1), (37866, 1148, 415, 0), (37878, 920, 603, 1)],\n",
    "    [(37304, 740, 612, 1), (37322, 1058, 447, 0), (37332, 857, 600, 1), (37339, 1110, 408, 0), \n",
    "    (37351, 877, 665, 1), (37363, 1157, 357, 0), (37372, 726, 619, 1)]\n",
    "]\n",
    "def convert_hit_annotation(annot):\n",
    "    annotation = []\n",
    "    for traj in annot:\n",
    "        annotation += [[{'fid':fid, 'hit':(x, y), 'fg':fg} for fid, x, y, fg in traj]]\n",
    "    return annotation\n",
    "hit_annotation = convert_hit_annotation(hit_annotation)"
   ]
  },
  {
   "cell_type": "markdown",
   "metadata": {},
   "source": [
    "# draw ball trajectories"
   ]
  },
  {
   "cell_type": "code",
   "execution_count": null,
   "metadata": {
    "ExecuteTime": {
     "end_time": "2019-05-21T18:29:29.749082Z",
     "start_time": "2019-05-21T18:29:08.755138Z"
    }
   },
   "outputs": [],
   "source": [
    "videowriter = cv2.VideoWriter('/app/result/visualize_trajectory.avi', cv2.VideoWriter_fourcc('M','J','P','G'), 8, (video.width, video.height))\n",
    "for hit_traj in hit_annotation:\n",
    "    print(hit_traj)\n",
    "    ball_traj = interpolate_trajectory_from_hit(hit_traj)\n",
    "    for ball in ball_traj:\n",
    "#         frame = background.copy()\n",
    "        frame = load_frame(video, ball['fid'], [])\n",
    "        cv2.circle(frame, ball['pt'], 8, (0, 0, 255), -1)\n",
    "        videowriter.write(frame)\n",
    "videowriter.release()"
   ]
  },
  {
   "cell_type": "markdown",
   "metadata": {},
   "source": [
    "# Generate motion from simple left/right control"
   ]
  },
  {
   "cell_type": "markdown",
   "metadata": {},
   "source": [
    "## Label clip for left/right control demo\n",
    "According to the x position, segment the clip into three types of the motion: moving left, still, moving right"
   ]
  },
  {
   "cell_type": "code",
   "execution_count": null,
   "metadata": {
    "ExecuteTime": {
     "end_time": "2019-05-14T19:02:09.167771Z",
     "start_time": "2019-05-14T19:02:09.023206Z"
    },
    "scrolled": true
   },
   "outputs": [],
   "source": [
    "motion_dict = {'left': [], 'right': [], 'still': []}\n",
    "for interval in match_intervals_A:\n",
    "    motion_dict_i = group_motion(interval, fid2openpose_A)\n",
    "    motion_dict['left'] += motion_dict_i['left']\n",
    "    motion_dict['right'] += motion_dict_i['right']\n",
    "    motion_dict['still'] += motion_dict_i['still']\n",
    "print(len(motion_dict['left']), len(motion_dict['still']), len(motion_dict['right']))"
   ]
  },
  {
   "cell_type": "code",
   "execution_count": null,
   "metadata": {
    "ExecuteTime": {
     "end_time": "2019-05-01T16:42:42.382780Z",
     "start_time": "2019-05-01T16:42:42.022023Z"
    },
    "scrolled": true
   },
   "outputs": [],
   "source": [
    "# visualize labeled clips\n",
    "plt.figure(figsize=(10, 10))\n",
    "\n",
    "for motion in motion_dict['left']:\n",
    "    plt.scatter(motion['start_x'], motion['end_x'], c='r', s=motion['duration']*50)\n",
    "for motion in motion_dict['right']:\n",
    "    plt.scatter(motion['start_x'], motion['end_x'], c='b', s=motion['duration']*50)\n",
    "for motion in motion_dict['still']:\n",
    "    plt.scatter(motion['start_x'], motion['end_x'], c='g', s=motion['duration']*50)\n",
    "plt.xlim([0, 1])\n",
    "plt.ylim([0, 1])\n",
    "plt.xlabel('Foreground player start position X', fontsize=22)\n",
    "plt.ylabel('Foreground player end position X', fontsize=22)\n",
    "plt.show()"
   ]
  },
  {
   "cell_type": "markdown",
   "metadata": {},
   "source": [
    "## Generate motion match left/right control"
   ]
  },
  {
   "cell_type": "code",
   "execution_count": null,
   "metadata": {
    "ExecuteTime": {
     "end_time": "2019-05-01T10:02:22.724081Z",
     "start_time": "2019-05-01T10:02:22.670649Z"
    }
   },
   "outputs": [],
   "source": [
    "motion_1 = find_motion(motion_dict, 0.35, 0.65, 1, 'right', (1,1,0))\n",
    "motion_2 = find_motion(motion_dict, 0.65, 0.35, 1, 'left', (1,1,0))\n",
    "motion_3 = find_motion(motion_dict, 0.35, 0.35, 3, 'still', (1,1,1))\n",
    "\n",
    "print(motion_1, motion_2, motion_3)\n",
    "def motion2interval(motion):\n",
    "    return (video_id, motion['start_fid'], motion['end_fid'], motion['duration'])\n",
    "searched_intervals = [motion2interval(motion_1), motion2interval(motion_2), motion2interval(motion_3)]\n",
    "print(searched_intervals)"
   ]
  },
  {
   "cell_type": "code",
   "execution_count": null,
   "metadata": {
    "ExecuteTime": {
     "end_time": "2019-05-01T10:02:35.387894Z",
     "start_time": "2019-05-01T10:02:32.621950Z"
    }
   },
   "outputs": [],
   "source": [
    "from esper.supercut import stitch_video_temporal\n",
    "stitch_video_temporal(searched_intervals, out_path='/app/result/naive_control.mp4')"
   ]
  },
  {
   "cell_type": "markdown",
   "metadata": {},
   "source": [
    "# Generate motion without hit label\n",
    "Use hand annotated ball trajectory, search for any interval from the motion database"
   ]
  },
  {
   "cell_type": "code",
   "execution_count": null,
   "metadata": {
    "ExecuteTime": {
     "end_time": "2019-05-21T21:04:58.944577Z",
     "start_time": "2019-05-21T21:04:58.749097Z"
    }
   },
   "outputs": [],
   "source": [
    "H, W = video.height, video.width\n",
    "motion_dict_A = []\n",
    "for _, sfid, efid, _ in match_intervals_A:\n",
    "    motion_traj = {}\n",
    "    for fid in range(sfid, efid):\n",
    "        if fid in fid2openpose_A:\n",
    "            pose = fid2openpose_A[fid]\n",
    "            kp = pose._format_keypoints()\n",
    "            motion_traj[fid] = {'Neck': (int(kp[Pose.Neck][0]*W), int(kp[Pose.Neck][1]*H)), \n",
    "                                'RWrist': (int(kp[Pose.RWrist][0]*W), int(kp[Pose.RWrist][1]*H)),\n",
    "                               'LAnkle': (int(kp[Pose.LAnkle][0]*W), int(kp[Pose.LAnkle][1]*H)),\n",
    "                               'RAnkle': (int(kp[Pose.RAnkle][0]*W), int(kp[Pose.RAnkle][1]*H))}\n",
    "    motion_dict_A.append(motion_traj)"
   ]
  },
  {
   "cell_type": "code",
   "execution_count": null,
   "metadata": {
    "ExecuteTime": {
     "end_time": "2019-05-21T19:37:30.226827Z",
     "start_time": "2019-05-21T19:37:30.177868Z"
    }
   },
   "outputs": [],
   "source": [
    "hit_traj = hit_annotation[3]"
   ]
  },
  {
   "cell_type": "code",
   "execution_count": null,
   "metadata": {
    "ExecuteTime": {
     "end_time": "2019-05-21T21:25:53.359241Z",
     "start_time": "2019-05-21T21:25:43.875355Z"
    }
   },
   "outputs": [],
   "source": [
    "generate_motion_without_hitlabel(sc, video, fid2densepose, motion_dict_A, hit_traj, \n",
    "                                 out_path='/app/result/naive_control.avi')"
   ]
  },
  {
   "cell_type": "markdown",
   "metadata": {},
   "source": [
    "# Generate motion with hit label"
   ]
  },
  {
   "cell_type": "code",
   "execution_count": null,
   "metadata": {
    "ExecuteTime": {
     "end_time": "2019-06-03T20:31:24.148652Z",
     "start_time": "2019-06-03T20:31:24.127309Z"
    }
   },
   "outputs": [],
   "source": [
    "# prepare motion database\n",
    "hit_dict = pickle.load(open('/app/data/pkl/hit_dict.pkl', 'rb'))\n",
    "hit_dict_A = hit_dict['HW']\n",
    "hit_dict_B = hit_dict['JZ']"
   ]
  },
  {
   "cell_type": "code",
   "execution_count": null,
   "metadata": {
    "ExecuteTime": {
     "end_time": "2019-06-03T22:38:50.842914Z",
     "start_time": "2019-06-03T22:38:50.800655Z"
    }
   },
   "outputs": [],
   "source": [
    "# select motion dict and ball trajectory\n",
    "motion_dict = hit_dict_A\n",
    "hit_traj = hit_dict_B[7]\n",
    "hit_traj"
   ]
  },
  {
   "cell_type": "code",
   "execution_count": null,
   "metadata": {
    "ExecuteTime": {
     "end_time": "2019-06-03T22:39:09.440446Z",
     "start_time": "2019-06-03T22:38:57.817141Z"
    },
    "scrolled": true
   },
   "outputs": [],
   "source": [
    "generate_motion_local(sc, video, motion_dict, hit_traj, \n",
    "                               out_path='/app/result/motion_generation/triangle_label_JZ_7.avi')"
   ]
  },
  {
   "cell_type": "code",
   "execution_count": null,
   "metadata": {},
   "outputs": [],
   "source": [
    "generate_motion_local(sc, video, motion_dict, hit_traj, \n",
    "                               out_path='/app/result/motion_generation/triangle_label_JZ_7.avi')"
   ]
  }
 ],
 "metadata": {
  "kernelspec": {
   "display_name": "Django Shell-Plus",
   "language": "python",
   "name": "django_extensions"
  },
  "language_info": {
   "codemirror_mode": {
    "name": "ipython",
    "version": 3
   },
   "file_extension": ".py",
   "mimetype": "text/x-python",
   "name": "python",
   "nbconvert_exporter": "python",
   "pygments_lexer": "ipython3",
   "version": "3.5.2"
  },
  "toc": {
   "nav_menu": {},
   "number_sections": true,
   "sideBar": true,
   "skip_h1_title": false,
   "toc_cell": false,
   "toc_position": {},
   "toc_section_display": "block",
   "toc_window_display": true
  }
 },
 "nbformat": 4,
 "nbformat_minor": 2
}
