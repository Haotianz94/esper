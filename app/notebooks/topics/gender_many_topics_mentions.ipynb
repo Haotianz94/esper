{
 "cells": [
  {
   "cell_type": "markdown",
   "metadata": {
    "toc": true
   },
   "source": [
    "<h1>Table of Contents<span class=\"tocSkip\"></span></h1>\n",
    "<div class=\"toc\" style=\"margin-top: 1em;\"><ul class=\"toc-item\"><li><span><a href=\"#Choose-a-List-of-Topics\" data-toc-modified-id=\"Choose-a-List-of-Topics-1\"><span class=\"toc-item-num\">1&nbsp;&nbsp;</span>Choose a List of Topics</a></span></li><li><span><a href=\"#Analysis\" data-toc-modified-id=\"Analysis-2\"><span class=\"toc-item-num\">2&nbsp;&nbsp;</span>Analysis</a></span><ul class=\"toc-item\"><li><span><a href=\"#Compare-mention-count-by-show\" data-toc-modified-id=\"Compare-mention-count-by-show-2.1\"><span class=\"toc-item-num\">2.1&nbsp;&nbsp;</span>Compare mention count by show</a></span></li></ul></li><li><span><a href=\"#Compare-mentions-by-topic-by-show\" data-toc-modified-id=\"Compare-mentions-by-topic-by-show-3\"><span class=\"toc-item-num\">3&nbsp;&nbsp;</span>Compare mentions by topic by show</a></span></li><li><span><a href=\"#Compare-screentime-by-topic-on-all-shows\" data-toc-modified-id=\"Compare-screentime-by-topic-on-all-shows-4\"><span class=\"toc-item-num\">4&nbsp;&nbsp;</span>Compare screentime by topic on all shows</a></span></li></ul></div>"
   ]
  },
  {
   "cell_type": "code",
   "execution_count": null,
   "metadata": {
    "ExecuteTime": {
     "end_time": "2018-09-24T21:39:14.886683Z",
     "start_time": "2018-09-24T21:39:14.855341Z"
    }
   },
   "outputs": [],
   "source": [
    "from esper.prelude import *\n",
    "from esper.widget import *\n",
    "from esper.topics import *\n",
    "from esper.spark_util import *\n",
    "from esper.plot_util import *\n",
    "from esper.major_canonical_shows import MAJOR_CANONICAL_SHOWS\n",
    "\n",
    "import os\n",
    "from datetime import timedelta\n",
    "from collections import defaultdict\n",
    "import _pickle as pickle"
   ]
  },
  {
   "cell_type": "markdown",
   "metadata": {},
   "source": [
    "# Choose a List of Topics"
   ]
  },
  {
   "cell_type": "code",
   "execution_count": null,
   "metadata": {
    "ExecuteTime": {
     "end_time": "2018-09-25T21:32:42.044426Z",
     "start_time": "2018-09-25T21:32:42.007799Z"
    }
   },
   "outputs": [],
   "source": [
    "# topics = [\n",
    "#     'terrorism',\n",
    "#     'isis',\n",
    "#     'vaccine',\n",
    "#     'travel',\n",
    "#     'vacation'\n",
    "# ]\n",
    "topics = \"\"\"\n",
    "harassment\n",
    "abortion\n",
    "breast cancer\n",
    "cervical cancer\n",
    "mom\n",
    "children\n",
    "back to school\n",
    "birth control\n",
    "contraceptive\n",
    "bullying\n",
    "weight loss\n",
    "nutrition\n",
    "women\n",
    "pregnancy\n",
    "teens\n",
    "sexism\n",
    "stem\n",
    "prostitution\n",
    "parenting\n",
    "feminism\n",
    "cooking\n",
    "fashion\n",
    "terrorism\n",
    "isis\n",
    "dad\n",
    "circumcision\n",
    "business\n",
    "men's health\n",
    "erectile dysfunction\n",
    "prostate cancer\n",
    "bombing\n",
    "evangelicals\n",
    "national security\n",
    "nuclear\n",
    "congress\n",
    "violence\n",
    "opiods\n",
    "hiv\n",
    "aids\n",
    "medicine\n",
    "drugs\n",
    "obamacare\n",
    "affordable care act\n",
    "influenza\n",
    "autism\n",
    "cholesterol\n",
    "obesity\n",
    "lgbt\n",
    "sex education\n",
    "racism\n",
    "diabetes\n",
    "marriage\n",
    "millenial\n",
    "murder\n",
    "marijuana\n",
    "massage\n",
    "trumpcare\n",
    "american health care act\n",
    "cancer\n",
    "islam\n",
    "christianity\n",
    "immigration\n",
    "hurricane\n",
    "evangelicals\n",
    "divorce\n",
    "cryptocurrency\n",
    "social security\n",
    "\"\"\"\n",
    "topics = [x.strip() for x in topics.split('\\n') if len(x.strip()) > 0]\n",
    "topics.sort()\n",
    "topics"
   ]
  },
  {
   "cell_type": "code",
   "execution_count": null,
   "metadata": {
    "ExecuteTime": {
     "end_time": "2018-09-25T22:11:42.875238Z",
     "start_time": "2018-09-25T22:11:42.817495Z"
    },
    "scrolled": false
   },
   "outputs": [],
   "source": [
    "def get_segments(phrase):\n",
    "    print('Searching: {}'.format(phrase))\n",
    "    result = caption_search([phrase.upper()])[0]\n",
    "    return result\n",
    "\n",
    "topic_to_segments = { \n",
    "    t : get_segments(t) for t in topics\n",
    "}"
   ]
  },
  {
   "cell_type": "markdown",
   "metadata": {},
   "source": [
    "# Analysis"
   ]
  },
  {
   "cell_type": "code",
   "execution_count": null,
   "metadata": {
    "ExecuteTime": {
     "end_time": "2018-09-25T21:32:57.612892Z",
     "start_time": "2018-09-25T21:32:46.864Z"
    }
   },
   "outputs": [],
   "source": [
    "face_genders = get_face_genders()\n",
    "face_genders = face_genders.where(\n",
    "    (face_genders.in_commercial == False) &\n",
    "    (face_genders.size_percentile >= 25) &\n",
    "    (face_genders.gender_id != Gender.objects.get(name='U').id)\n",
    ")"
   ]
  },
  {
   "cell_type": "code",
   "execution_count": null,
   "metadata": {
    "ExecuteTime": {
     "end_time": "2018-09-25T21:35:26.194669Z",
     "start_time": "2018-09-25T21:33:04.014Z"
    }
   },
   "outputs": [],
   "source": [
    "def segments_to_overlapping_face_genders(topic, segments):\n",
    "    print('Computing overlap for: {}'.format(topic))\n",
    "    intervals_by_video = defaultdict(list)\n",
    "    for video_id, intervals in segments.items():\n",
    "        for interval in intervals:\n",
    "            if interval[0] > interval[1]:\n",
    "                continue\n",
    "            intervals_by_video[video_id].append(interval)\n",
    "    face_genders_with_topic_overlap = annotate_interval_overlap(\n",
    "        face_genders, intervals_by_video)\n",
    "    face_genders_with_topic_overlap = face_genders_with_topic_overlap.where(\n",
    "        face_genders_with_topic_overlap.overlap_seconds > 0)\n",
    "    return face_genders_with_topic_overlap\n",
    "\n",
    "topic_to_face_genders = { \n",
    "    t : segments_to_overlapping_face_genders(t, s) \n",
    "    for t, s in topic_to_segments.items()\n",
    "}"
   ]
  },
  {
   "cell_type": "markdown",
   "metadata": {},
   "source": [
    "## Compare mention count by show"
   ]
  },
  {
   "cell_type": "code",
   "execution_count": null,
   "metadata": {
    "ExecuteTime": {
     "end_time": "2018-09-25T21:35:26.195611Z",
     "start_time": "2018-09-25T21:33:05.638Z"
    }
   },
   "outputs": [],
   "source": [
    "canoncal_show_map = { c.id : c.name for c in CanonicalShow.objects.all() }\n",
    "distinct_columns = ['face_id']\n",
    "group_by_columns = ['canonical_show_id']"
   ]
  },
  {
   "cell_type": "code",
   "execution_count": null,
   "metadata": {
    "ExecuteTime": {
     "end_time": "2018-09-25T21:35:26.196410Z",
     "start_time": "2018-09-25T21:33:06.121Z"
    }
   },
   "outputs": [],
   "source": [
    "CACHE_BASELINE_NO_HOST_FILE = '/tmp/base_screentime_gender_no_host_by_show.pkl'\n",
    "try:\n",
    "    with open(CACHE_BASELINE_NO_HOST_FILE, 'rb') as f:\n",
    "        base_screentime_with_nh_man_by_show, base_screentime_with_nh_woman_by_show = pickle.load(f)\n",
    "    print('[Base] loaded from cache')\n",
    "except:\n",
    "    base_screentime_with_nh_woman_by_show = {\n",
    "        canoncal_show_map[k[0]] : (timedelta(seconds=v[0]), v[1])\n",
    "        for k, v in sum_distinct_over_column(\n",
    "            face_genders.where(face_genders.host_probability <= 0.25),\n",
    "            'duration', distinct_columns, group_by_columns,\n",
    "            probability_column='female_probability'\n",
    "        ).items() if canoncal_show_map[k[0]] in MAJOR_CANONICAL_SHOWS\n",
    "    }\n",
    "    print('[Base] Woman (non-host) on screen: done')\n",
    "    base_screentime_with_nh_man_by_show = {\n",
    "        canoncal_show_map[k[0]] : (timedelta(seconds=v[0]), v[1])\n",
    "        for k, v in sum_distinct_over_column(\n",
    "            face_genders.where(face_genders.host_probability <= 0.25),\n",
    "            'duration', distinct_columns, group_by_columns,\n",
    "            probability_column='male_probability'\n",
    "        ).items() if canoncal_show_map[k[0]] in MAJOR_CANONICAL_SHOWS\n",
    "    }\n",
    "    print('[Base] Man (non-host) on screen: done')\n",
    "    \n",
    "    with open(CACHE_BASELINE_NO_HOST_FILE, 'wb') as f:\n",
    "        pickle.dump([base_screentime_with_nh_man_by_show, base_screentime_with_nh_woman_by_show], f)"
   ]
  },
  {
   "cell_type": "code",
   "execution_count": null,
   "metadata": {
    "ExecuteTime": {
     "end_time": "2018-09-25T21:35:26.197310Z",
     "start_time": "2018-09-25T21:33:06.718Z"
    },
    "scrolled": true
   },
   "outputs": [],
   "source": [
    "distinct_columns = []\n",
    "\n",
    "def aggregate_face_genders_by_show(topic, face_genders_with_topic_overlap):\n",
    "    topic_mentions_with_woman_by_show = {\n",
    "        canoncal_show_map[k[0]] : v\n",
    "        for k, v in count_distinct_over_column(\n",
    "            face_genders_with_topic_overlap,\n",
    "            distinct_columns, group_by_columns=group_by_columns,\n",
    "            probability_column='female_probability'\n",
    "        ).items() if canoncal_show_map[k[0]] in MAJOR_CANONICAL_SHOWS\n",
    "    }\n",
    "    print('[{}] Woman on screen: done'.format(topic))\n",
    "    topic_mentions_with_man_by_show = {\n",
    "        canoncal_show_map[k[0]] : v\n",
    "        for k, v in count_distinct_over_column(\n",
    "            face_genders_with_topic_overlap,\n",
    "            distinct_columns, group_by_columns=group_by_columns,\n",
    "            probability_column='male_probability'\n",
    "        ).items() if canoncal_show_map[k[0]] in MAJOR_CANONICAL_SHOWS\n",
    "    }\n",
    "    print('[{}] Man on screen: done'.format(topic))\n",
    "    topic_mentions_with_nh_woman_by_show = {\n",
    "        canoncal_show_map[k[0]] : v\n",
    "        for k, v in count_distinct_over_column(\n",
    "            face_genders_with_topic_overlap.where(\n",
    "                face_genders_with_topic_overlap.host_probability <= 0.25),\n",
    "            distinct_columns, group_by_columns=group_by_columns,\n",
    "            probability_column='female_probability'\n",
    "        ).items() if canoncal_show_map[k[0]] in MAJOR_CANONICAL_SHOWS\n",
    "    }\n",
    "    print('[{}] Woman (non-host) on screen: done'.format(topic))\n",
    "    topic_mentions_with_nh_man_by_show = {\n",
    "        canoncal_show_map[k[0]] : v\n",
    "        for k, v in count_distinct_over_column(\n",
    "            face_genders_with_topic_overlap.where(\n",
    "                face_genders_with_topic_overlap.host_probability <= 0.25),\n",
    "            distinct_columns, group_by_columns=group_by_columns,\n",
    "            probability_column='male_probability'\n",
    "        ).items() if canoncal_show_map[k[0]] in MAJOR_CANONICAL_SHOWS\n",
    "    }\n",
    "    print('[{}] Man (non-host) on screen: done'.format(topic))\n",
    "    result = {\n",
    "        'woman': topic_mentions_with_woman_by_show,\n",
    "        'man': topic_mentions_with_man_by_show,\n",
    "        'woman_nh': topic_mentions_with_nh_woman_by_show,\n",
    "        'man_nh': topic_mentions_with_nh_man_by_show\n",
    "    }\n",
    "    return result\n",
    "\n",
    "topic_to_aggregates = { \n",
    "    t : aggregate_face_genders_by_show(t, fg)\n",
    "    for t, fg in topic_to_face_genders.items()\n",
    "} "
   ]
  },
  {
   "cell_type": "code",
   "execution_count": null,
   "metadata": {
    "ExecuteTime": {
     "end_time": "2018-09-25T21:35:26.198135Z",
     "start_time": "2018-09-25T21:33:07.496Z"
    },
    "scrolled": true
   },
   "outputs": [],
   "source": [
    "channel_name_cmap = { 'CNN': 'DarkBlue', 'FOXNEWS': 'DarkRed', 'MSNBC': 'DarkGreen' } \n",
    "canonical_show_cmap = {\n",
    "    v['show__canonical_show__name'] : channel_name_cmap[v['channel__name']]\n",
    "    for v in Video.objects.distinct(\n",
    "        'show__canonical_show'\n",
    "    ).values('show__canonical_show__name', 'channel__name')\n",
    "}\n",
    "\n",
    "for t, agg in sorted(topic_to_aggregates.items()):\n",
    "    plot_binary_proportion_comparison(\n",
    "        ['Male (Excl. Hosts)', 'Female (Excl. Hosts)'], \n",
    "        [agg['man_nh'], agg['woman_nh']],\n",
    "        'Proportion of faces on screen during keyword mentions of \"{}\"'.format(t),\n",
    "        'Show name',\n",
    "        'Proportion of keyword mentions',\n",
    "        secondary_series_names=[\n",
    "            'Baseline Male (Screen Time Excl. Hosts)', 'Baseline Female (Screen Time Excl. Hosts)'\n",
    "        ],\n",
    "        secondary_data=[\n",
    "            base_screentime_with_nh_man_by_show, \n",
    "            base_screentime_with_nh_woman_by_show\n",
    "        ],\n",
    "        tertiary_series_names=['Male (Incl. Hosts)', 'Female (Incl. Hosts)'],\n",
    "        tertiary_data=[agg['man'], agg['woman']],\n",
    "        category_color_map=canonical_show_cmap,\n",
    "        raw_data_to_label_fn=lambda x: '{:d}'.format(int(x))\n",
    "    )"
   ]
  },
  {
   "cell_type": "markdown",
   "metadata": {},
   "source": [
    "# Compare mentions by topic by show"
   ]
  },
  {
   "cell_type": "code",
   "execution_count": null,
   "metadata": {
    "ExecuteTime": {
     "end_time": "2018-09-25T21:35:26.198942Z",
     "start_time": "2018-09-25T21:33:10.320Z"
    },
    "hide_input": false,
    "scrolled": true
   },
   "outputs": [],
   "source": [
    "distinct_columns = []\n",
    "z_score = 1.96\n",
    "\n",
    "def aggregate_face_genders_by_topic(topic, face_genders_with_topic_overlap):\n",
    "    topic_mentions_with_nh_woman = count_distinct_over_column(\n",
    "        face_genders_with_topic_overlap.where(\n",
    "            face_genders_with_topic_overlap.host_probability <= 0.5\n",
    "        ),\n",
    "        distinct_columns, \n",
    "        probability_column='female_probability'\n",
    "    )\n",
    "    print('Woman (non-host) on screen: {:0.2f} +/- {:0.02f}'.format(\n",
    "        topic_mentions_with_nh_woman[0], \n",
    "        z_score * math.sqrt(topic_mentions_with_nh_woman[1])))\n",
    "    topic_mentions_with_nh_man = count_distinct_over_column(\n",
    "        face_genders_with_topic_overlap.where(\n",
    "            face_genders_with_topic_overlap.host_probability <= 0.5\n",
    "        ),\n",
    "        distinct_columns,\n",
    "        probability_column='male_probability'\n",
    "    )\n",
    "    print('Man (non-host) on screen: {:0.2f}  +/- {:0.02f}'.format(\n",
    "        topic_mentions_with_nh_man[0], \n",
    "        z_score * math.sqrt(topic_mentions_with_nh_man[1])))\n",
    "    \n",
    "    result = {\n",
    "        'man_nh': (\n",
    "            topic_mentions_with_nh_man[0],\n",
    "            topic_mentions_with_nh_man[1]\n",
    "        ),\n",
    "        'woman_nh': (\n",
    "            topic_mentions_with_nh_woman[0],\n",
    "            topic_mentions_with_nh_woman[1]\n",
    "        )\n",
    "    }\n",
    "    return result\n",
    "\n",
    "topic_to_base_aggregates = { \n",
    "    t : aggregate_face_genders_by_topic(t, fg)\n",
    "    for t, fg in topic_to_face_genders.items()\n",
    "}\n",
    "base_topic_man_nh = { \n",
    "    k : v['man_nh'] for k, v in topic_to_base_aggregates.items()\n",
    "}\n",
    "base_topic_woman_nh = { \n",
    "    k : v['woman_nh'] for k, v in topic_to_base_aggregates.items()\n",
    "}"
   ]
  },
  {
   "cell_type": "code",
   "execution_count": null,
   "metadata": {
    "ExecuteTime": {
     "end_time": "2018-09-25T21:35:26.199710Z",
     "start_time": "2018-09-25T21:33:14.103Z"
    },
    "scrolled": true
   },
   "outputs": [],
   "source": [
    "MIN_TOPIC_MENTIONS = 0\n",
    "\n",
    "for show in sorted(MAJOR_CANONICAL_SHOWS):\n",
    "    topic_man = {}\n",
    "    topic_woman = {}\n",
    "    topic_man_nh = {}\n",
    "    topic_woman_nh = {}\n",
    "    \n",
    "    for t, agg_by_show in topic_to_aggregates.items():\n",
    "        topic_man[t] = agg_by_show['man'].get(show, (0, 0))\n",
    "        topic_woman[t] = agg_by_show['woman'].get(show, (0, 0))\n",
    "        topic_man_nh[t] = agg_by_show['man_nh'].get(show, (0, 0))\n",
    "        topic_woman_nh[t] = agg_by_show['woman_nh'].get(show, (0, 0))\n",
    "    \n",
    "    plot_binary_proportion_comparison(\n",
    "        ['Male (Excl. Hosts)', 'Female (Excl. Hosts)'], \n",
    "        [\n",
    "            { k : v for k, v in topic_man_nh.items() if v[0] >= MIN_TOPIC_MENTIONS}, \n",
    "            topic_woman_nh\n",
    "        ],\n",
    "        'Proportion of faces on screen during keyword mentions on \"{}\"'.format(show),\n",
    "        'Topic name',\n",
    "        'Proportion of keyword mentions',\n",
    "        secondary_series_names=[\n",
    "            'Baseline Male (Excl. Hosts) for Topic', \n",
    "            'Baseline Female (Excl. Hosts) for Topic'],\n",
    "        secondary_data=[base_topic_man_nh, base_topic_woman_nh],\n",
    "        tertiary_series_names=['Male (Incl. Hosts)', 'Female (Incl. Hosts)'],\n",
    "        tertiary_data=[topic_man, topic_woman],\n",
    "        raw_data_to_label_fn=lambda x: '{:d}'.format(int(x))\n",
    "    )"
   ]
  },
  {
   "cell_type": "markdown",
   "metadata": {},
   "source": [
    "# Compare screentime by topic on all shows"
   ]
  },
  {
   "cell_type": "code",
   "execution_count": null,
   "metadata": {
    "ExecuteTime": {
     "end_time": "2018-09-25T21:14:07.750627Z",
     "start_time": "2018-09-25T20:26:34.690916Z"
    },
    "scrolled": true
   },
   "outputs": [],
   "source": [
    "topic_to_male_mentions = {}\n",
    "topic_to_female_mentions = {}\n",
    "for topic in topics:\n",
    "    print(topic)\n",
    "    distinct_columns = []\n",
    "    try:\n",
    "        tmp_f = count_distinct_over_column(\n",
    "            topic_to_face_genders[topic],\n",
    "            distinct_columns,\n",
    "            probability_column='female_probability'\n",
    "        )\n",
    "        tmp_m = count_distinct_over_column(\n",
    "            topic_to_face_genders[topic],\n",
    "            distinct_columns,\n",
    "            probability_column='male_probability'\n",
    "        )\n",
    "        topic_to_female_mentions[topic] = tmp_f\n",
    "        topic_to_male_mentions[topic] = tmp_m\n",
    "    except Exception as e:\n",
    "        print(e)"
   ]
  },
  {
   "cell_type": "code",
   "execution_count": null,
   "metadata": {
    "ExecuteTime": {
     "end_time": "2018-09-25T21:16:48.205852Z",
     "start_time": "2018-09-25T21:16:48.149160Z"
    }
   },
   "outputs": [],
   "source": [
    "topic_to_male_mentions, topic_to_female_mentions"
   ]
  },
  {
   "cell_type": "code",
   "execution_count": null,
   "metadata": {
    "ExecuteTime": {
     "end_time": "2018-09-25T22:13:19.893176Z",
     "start_time": "2018-09-25T22:13:18.917249Z"
    }
   },
   "outputs": [],
   "source": [
    "BASELINE_MALE_PROPORTION = 0.6\n",
    "MIN_TOPIC_MENTIONS = 50\n",
    "plot_binary_proportion_comparison(\n",
    "    ['Male', 'Female'], \n",
    "    [\n",
    "        { k : v for k, v in topic_to_male_mentions.items() if v[0] >= MIN_TOPIC_MENTIONS }, \n",
    "        topic_to_female_mentions\n",
    "    ],\n",
    "    'Proportion of faces shown on screen during keyword mentions',\n",
    "    'Keyword',\n",
    "    'Proportion of faces',\n",
    "    raw_data_to_label_fn=lambda x: '{:d}'.format(int(x)),\n",
    "    baseline_series_names=['Baseline Male (Screentime)', 'Baseline Female (Screentime)'],\n",
    "    baseline_data=[BASELINE_MALE_PROPORTION, 1 - BASELINE_MALE_PROPORTION]\n",
    ")"
   ]
  },
  {
   "cell_type": "code",
   "execution_count": null,
   "metadata": {},
   "outputs": [],
   "source": []
  }
 ],
 "metadata": {
  "kernelspec": {
   "display_name": "Django Shell-Plus",
   "language": "python",
   "name": "django_extensions"
  },
  "language_info": {
   "codemirror_mode": {
    "name": "ipython",
    "version": 3
   },
   "file_extension": ".py",
   "mimetype": "text/x-python",
   "name": "python",
   "nbconvert_exporter": "python",
   "pygments_lexer": "ipython3",
   "version": "3.5.2"
  },
  "toc": {
   "base_numbering": 1,
   "nav_menu": {},
   "number_sections": true,
   "sideBar": false,
   "skip_h1_title": false,
   "title_cell": "Table of Contents",
   "title_sidebar": "Contents",
   "toc_cell": true,
   "toc_position": {},
   "toc_section_display": "block",
   "toc_window_display": false
  }
 },
 "nbformat": 4,
 "nbformat_minor": 2
}
