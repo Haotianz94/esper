{
 "cells": [
  {
   "cell_type": "markdown",
   "metadata": {
    "toc": true
   },
   "source": [
    "<h1>Table of Contents<span class=\"tocSkip\"></span></h1>\n",
    "<div class=\"toc\" style=\"margin-top: 1em;\"><ul class=\"toc-item\"><li><span><a href=\"#Choose-a-List-of-Topics\" data-toc-modified-id=\"Choose-a-List-of-Topics-1\"><span class=\"toc-item-num\">1&nbsp;&nbsp;</span>Choose a List of Topics</a></span></li><li><span><a href=\"#Analysis\" data-toc-modified-id=\"Analysis-2\"><span class=\"toc-item-num\">2&nbsp;&nbsp;</span>Analysis</a></span><ul class=\"toc-item\"><li><span><a href=\"#Compare-screen-time-by-show\" data-toc-modified-id=\"Compare-screen-time-by-show-2.1\"><span class=\"toc-item-num\">2.1&nbsp;&nbsp;</span>Compare screen time by show</a></span></li><li><span><a href=\"#Annotate-Color-By-Opinion/Talk-vs.-News-Show\" data-toc-modified-id=\"Annotate-Color-By-Opinion/Talk-vs.-News-Show-2.2\"><span class=\"toc-item-num\">2.2&nbsp;&nbsp;</span>Annotate Color By Opinion/Talk vs. News Show</a></span></li></ul></li><li><span><a href=\"#Compare-screentime-by-topic-by-show\" data-toc-modified-id=\"Compare-screentime-by-topic-by-show-3\"><span class=\"toc-item-num\">3&nbsp;&nbsp;</span>Compare screentime by topic by show</a></span></li><li><span><a href=\"#Compare-screentime-by-topic-on-all-shows\" data-toc-modified-id=\"Compare-screentime-by-topic-on-all-shows-4\"><span class=\"toc-item-num\">4&nbsp;&nbsp;</span>Compare screentime by topic on all shows</a></span></li></ul></div>"
   ]
  },
  {
   "cell_type": "code",
   "execution_count": null,
   "metadata": {
    "ExecuteTime": {
     "end_time": "2018-10-06T08:43:34.418954Z",
     "start_time": "2018-10-06T08:43:26.943456Z"
    }
   },
   "outputs": [],
   "source": [
    "from esper.prelude import *\n",
    "from esper.widget import *\n",
    "from esper.topics import *\n",
    "from esper.spark_util import *\n",
    "from esper.plot_util import *\n",
    "from esper.major_canonical_shows import MAJOR_CANONICAL_SHOWS\n",
    "\n",
    "import os\n",
    "from datetime import timedelta\n",
    "from collections import defaultdict\n",
    "import _pickle as pickle"
   ]
  },
  {
   "cell_type": "markdown",
   "metadata": {},
   "source": [
    "# Choose a List of Topics"
   ]
  },
  {
   "cell_type": "code",
   "execution_count": null,
   "metadata": {
    "ExecuteTime": {
     "end_time": "2018-10-06T17:21:31.051061Z",
     "start_time": "2018-10-06T17:21:30.871990Z"
    }
   },
   "outputs": [],
   "source": [
    "topics = [\n",
    "    'terrorism', 'isis', 'syria', 'refugee',\n",
    "    'collusion', 'russia',\n",
    "    'shooting', 'black lives', \n",
    "    'san bernardino', 'pulse nightclub', 'vegas shooter', 'charleston church',\n",
    "    'charlie hebdo', 'paris attacks',\n",
    "    'trayvon martin', 'walter scott',\n",
    "    'immigration', 'travel ban', 'border wall',\n",
    "    'roy moore', 'harassment', 'email scandal', 'billy bush',\n",
    "    'global warming', 'paris climate',\n",
    "    'autism', \n",
    "    'planned parenthood', 'abortion',\n",
    "    'gay marriage', 'lgbt',\n",
    "    'fashion', 'wedding',\n",
    "    'facebook', \n",
    "    'irs', 'taxes',\n",
    "    'school', 'preschool',\n",
    "    'nutrition', 'healthcare',\n",
    "    'yoga', 'asthma', 'flu',\n",
    "    'public transportation',\n",
    "    'travel',\n",
    "    'vacation',\n",
    "    'wall street', 'economy', 'trade',\n",
    "    'national security', 'north korea',\n",
    "    'guns', 'education',\n",
    "    'supreme court', 'social security',\n",
    "    'racism', 'afghanistan', 'iraq',\n",
    "    'england', 'europe', 'france',\n",
    "    'football', 'soccer', 'fifa',\n",
    "    'asia', 'africa', 'brazil',\n",
    "    'mexico', 'canada', 'violence',\n",
    "    'internet', 'technology', 'baseball',\n",
    "    'olympics', 'iran', 'crime',\n",
    "    'food', 'disease', 'cancer',\n",
    "    'drugs', 'college', 'police',\n",
    "    'oscars', 'rifle', 'apple',\n",
    "    'blockchain', 'congress',\n",
    "    'president', 'america', 'veteran',\n",
    "    'music', 'film', 'dance',\n",
    "    'book', 'ebola', 'census', 'cars',\n",
    "    'import', 'export', 'christmas', \n",
    "    'july 4th', 'india', 'wine', 'wildfire',\n",
    "    'earthquake', 'flood', 'hurricane', 'jobs',\n",
    "    'luxury goods', 'golf', 'doping',\n",
    "    'ipo', 'bankruptcy', 'literature',\n",
    "    'millennials', 'fiction', 'greece',\n",
    "    'italy', 'liberals', 'conservatives',\n",
    "    'catholic', 'evangelical', 'nafta', \n",
    "    'opiod', 'cats', 'dogs', 'wildlife',\n",
    "    'pets', 'democrat', 'republcian', \n",
    "    'media', 'death penalty', 'meme',\n",
    "    'twitter', 'nasa', 'sports', 'gym', 'medicine',\n",
    "    'affair', 'banks', 'agriculture', 'coal', 'oil',\n",
    "    'renewable energy', 'google', 'gaming', 'artificial intelligence',\n",
    "    'spy', 'wiretap', 'obamacare', 'obesity',\n",
    "    'cyberbullying', 'netflix', 'basketball',\n",
    "    'native american', 'african american', 'hispanic', \n",
    "    'tennis', 'inequality', 'foreign policy', 'charity',\n",
    "    'marijuana', 'childcare', 'insurance', 'vaccine',\n",
    "    'christianity', 'constitution', 'slavery', 'confederate',\n",
    "    'poverty', 'homeless', 'prison', 'patents', 'teens',\n",
    "    'elderly', 'stock market', 'consumers',\n",
    "    'cybersecurity', 'illegal drugs', 'prescription drugs',\n",
    "    'nato', 'freedom of speech', 'freedom of information', 'patriot act',\n",
    "    'due process', 'flint water crisis', 'government shutdown'\n",
    "]"
   ]
  },
  {
   "cell_type": "code",
   "execution_count": null,
   "metadata": {
    "ExecuteTime": {
     "end_time": "2018-10-06T17:37:55.473724Z",
     "start_time": "2018-10-06T17:21:31.281718Z"
    }
   },
   "outputs": [],
   "source": [
    "LEXICON_CACHE_PATH = '/tmp/topic_lexicons'\n",
    "if not os.path.isdir(LEXICON_CACHE_PATH):\n",
    "    os.makedirs(LEXICON_CACHE_PATH)\n",
    "\n",
    "def get_lexicon(topic):\n",
    "    cache_path = os.path.join(LEXICON_CACHE_PATH, '{}.pkl'.format(topic))\n",
    "    try:\n",
    "        with open(cache_path, 'rb') as f:\n",
    "            print('Loading {} lexicon from cache'.format(topic))\n",
    "            return pickle.load(f)\n",
    "    except:\n",
    "        print('Could not load {} lexicon from cache'.format(topic))\n",
    "    lexicon = mutual_info(topic)\n",
    "    with open(cache_path, 'wb') as f:\n",
    "        print('Caching lexicon: {}'.format(cache_path))\n",
    "        pickle.dump(lexicon, f)\n",
    "    return lexicon\n",
    "\n",
    "topic_to_lexicon = { t : get_lexicon(t) for t in topics }"
   ]
  },
  {
   "cell_type": "code",
   "execution_count": null,
   "metadata": {
    "ExecuteTime": {
     "end_time": "2018-10-06T17:52:14.495931Z",
     "start_time": "2018-10-06T17:37:55.477020Z"
    }
   },
   "outputs": [],
   "source": [
    "SEGMENT_CACHE_PATH = '/tmp/topic_segments'\n",
    "if not os.path.isdir(SEGMENT_CACHE_PATH):\n",
    "    os.makedirs(SEGMENT_CACHE_PATH)\n",
    "    \n",
    "def get_segments(topic, lexicon):\n",
    "    cache_path = os.path.join(SEGMENT_CACHE_PATH, '{}.pkl'.format(topic))\n",
    "    try:\n",
    "        with open(cache_path, 'rb') as f:\n",
    "            print('Loading {} segments from cache'.format(topic))\n",
    "            return pickle.load(f)\n",
    "    except:\n",
    "        print('Could not load {} segments from cache'.format(topic))\n",
    "    segments = find_segments(lexicon, window_size=200, threshold=50, \n",
    "                             merge_overlaps=True)\n",
    "    with open(cache_path, 'wb') as f:\n",
    "        print('Caching segments: {}'.format(cache_path))\n",
    "        pickle.dump(segments, f)\n",
    "    return segments\n",
    "\n",
    "topic_to_segments = { \n",
    "    t : get_segments(t, l) for t, l in topic_to_lexicon.items()\n",
    "}"
   ]
  },
  {
   "cell_type": "markdown",
   "metadata": {},
   "source": [
    "# Analysis"
   ]
  },
  {
   "cell_type": "code",
   "execution_count": null,
   "metadata": {
    "ExecuteTime": {
     "end_time": "2018-10-04T21:14:12.490796Z",
     "start_time": "2018-10-04T21:13:05.886Z"
    }
   },
   "outputs": [],
   "source": [
    "face_genders = get_face_genders()\n",
    "face_genders = face_genders.where(\n",
    "    (face_genders.in_commercial == False) &\n",
    "    (face_genders.size_percentile >= 25) &\n",
    "    (face_genders.gender_id != Gender.objects.get(name='U').id)\n",
    ")"
   ]
  },
  {
   "cell_type": "code",
   "execution_count": null,
   "metadata": {
    "ExecuteTime": {
     "end_time": "2018-10-04T21:14:12.491889Z",
     "start_time": "2018-10-04T21:13:06.445Z"
    }
   },
   "outputs": [],
   "source": [
    "def segments_to_overlapping_face_genders(topic, segments):\n",
    "    print('Computing overlap for: {}'.format(topic))\n",
    "    intervals_by_video = defaultdict(list)\n",
    "    for video_id, _, interval, _, _ in segments:\n",
    "        intervals_by_video[video_id].append(interval)\n",
    "    face_genders_with_topic_overlap = annotate_interval_overlap(\n",
    "        face_genders, intervals_by_video)\n",
    "    face_genders_with_topic_overlap = face_genders_with_topic_overlap.where(\n",
    "        face_genders_with_topic_overlap.overlap_seconds > 0)\n",
    "    return face_genders_with_topic_overlap\n",
    "\n",
    "topic_to_face_genders = { \n",
    "    t : segments_to_overlapping_face_genders(t, s) \n",
    "    for t, s in topic_to_segments.items()\n",
    "}"
   ]
  },
  {
   "cell_type": "markdown",
   "metadata": {},
   "source": [
    "## Compare screen time by show"
   ]
  },
  {
   "cell_type": "code",
   "execution_count": null,
   "metadata": {
    "ExecuteTime": {
     "end_time": "2018-10-04T21:14:12.493055Z",
     "start_time": "2018-10-04T21:13:08.089Z"
    }
   },
   "outputs": [],
   "source": [
    "canoncal_show_map = { c.id : c.name for c in CanonicalShow.objects.all() }\n",
    "distinct_columns = ['face_id']\n",
    "group_by_columns = ['canonical_show_id']\n",
    "overlap_field = 'overlap_seconds'"
   ]
  },
  {
   "cell_type": "code",
   "execution_count": null,
   "metadata": {
    "ExecuteTime": {
     "end_time": "2018-10-04T21:14:12.493927Z",
     "start_time": "2018-10-04T21:13:08.850Z"
    }
   },
   "outputs": [],
   "source": [
    "CACHE_BASELINE_NO_HOST_FILE = '/tmp/base_screentime_gender_no_host_by_show.pkl'\n",
    "try:\n",
    "    with open(CACHE_BASELINE_NO_HOST_FILE, 'rb') as f:\n",
    "        base_screentime_with_nh_man_by_show, base_screentime_with_nh_woman_by_show = pickle.load(f)\n",
    "    print('[Base] loaded from cache')\n",
    "except:\n",
    "    base_screentime_with_nh_woman_by_show = {\n",
    "        canoncal_show_map[k[0]] : (timedelta(seconds=v[0]), v[1])\n",
    "        for k, v in sum_distinct_over_column(\n",
    "            face_genders.where(face_genders.host_probability <= 0.25),\n",
    "            'duration', distinct_columns, group_by_columns,\n",
    "            probability_column='female_probability'\n",
    "        ).items() if canoncal_show_map[k[0]] in MAJOR_CANONICAL_SHOWS\n",
    "    }\n",
    "    print('[Base] Woman (non-host) on screen: done')\n",
    "    base_screentime_with_nh_man_by_show = {\n",
    "        canoncal_show_map[k[0]] : (timedelta(seconds=v[0]), v[1])\n",
    "        for k, v in sum_distinct_over_column(\n",
    "            face_genders.where(face_genders.host_probability <= 0.25),\n",
    "            'duration', distinct_columns, group_by_columns,\n",
    "            probability_column='male_probability'\n",
    "        ).items() if canoncal_show_map[k[0]] in MAJOR_CANONICAL_SHOWS\n",
    "    }\n",
    "    print('[Base] Man (non-host) on screen: done')\n",
    "    \n",
    "    with open(CACHE_BASELINE_NO_HOST_FILE, 'wb') as f:\n",
    "        pickle.dump([base_screentime_with_nh_man_by_show, base_screentime_with_nh_woman_by_show], f)"
   ]
  },
  {
   "cell_type": "code",
   "execution_count": null,
   "metadata": {
    "ExecuteTime": {
     "end_time": "2018-10-04T21:14:12.494814Z",
     "start_time": "2018-10-04T21:13:09.831Z"
    },
    "scrolled": true
   },
   "outputs": [],
   "source": [
    "CACHE_AGGREGATES_DIR = '/tmp/topic_aggregates'\n",
    "if not os.path.isdir(CACHE_AGGREGATES_DIR):\n",
    "    os.makedirs(CACHE_AGGREGATES_DIR)\n",
    "\n",
    "distinct_columns = []\n",
    "\n",
    "def aggregate_face_genders_by_show(topic, face_genders_with_topic_overlap):\n",
    "    cache_path = os.path.join(CACHE_AGGREGATES_DIR, '{}.pkl'.format(topic))\n",
    "    try:\n",
    "        with open(cache_path, 'rb') as f:\n",
    "            print('Loading {} aggregates from cache'.format(topic))\n",
    "            return pickle.load(f)\n",
    "    except:\n",
    "        print('Could not load {} aggregates from cache'.format(topic))\n",
    "    \n",
    "    topic_screentime_with_woman_by_show = {\n",
    "        canoncal_show_map[k[0]] : (timedelta(seconds=v[0]), v[1])\n",
    "        for k, v in sum_distinct_over_column(\n",
    "            face_genders_with_topic_overlap,\n",
    "            overlap_field, distinct_columns, group_by_columns,\n",
    "            probability_column='female_probability'\n",
    "        ).items() if canoncal_show_map[k[0]] in MAJOR_CANONICAL_SHOWS\n",
    "    }\n",
    "    print('[{}] Woman on screen: done'.format(topic))\n",
    "    topic_screentime_with_man_by_show = {\n",
    "        canoncal_show_map[k[0]] : (timedelta(seconds=v[0]), v[1])\n",
    "        for k, v in sum_distinct_over_column(\n",
    "            face_genders_with_topic_overlap,\n",
    "            overlap_field, distinct_columns, group_by_columns,\n",
    "            probability_column='male_probability'\n",
    "        ).items() if canoncal_show_map[k[0]] in MAJOR_CANONICAL_SHOWS\n",
    "    }\n",
    "    print('[{}] Man on screen: done'.format(topic))\n",
    "    topic_screentime_with_nh_woman_by_show = {\n",
    "        canoncal_show_map[k[0]] : (timedelta(seconds=v[0]), v[1])\n",
    "        for k, v in sum_distinct_over_column(\n",
    "            face_genders_with_topic_overlap.where(\n",
    "                face_genders_with_topic_overlap.host_probability <= 0.25),\n",
    "            overlap_field, distinct_columns, group_by_columns,\n",
    "            probability_column='female_probability'\n",
    "        ).items() if canoncal_show_map[k[0]] in MAJOR_CANONICAL_SHOWS\n",
    "    }\n",
    "    print('[{}] Woman (non-host) on screen: done'.format(topic))\n",
    "    topic_screentime_with_nh_man_by_show = {\n",
    "        canoncal_show_map[k[0]] : (timedelta(seconds=v[0]), v[1])\n",
    "        for k, v in sum_distinct_over_column(\n",
    "            face_genders_with_topic_overlap.where(\n",
    "                face_genders_with_topic_overlap.host_probability <= 0.25),\n",
    "            overlap_field, distinct_columns, group_by_columns,\n",
    "            probability_column='male_probability'\n",
    "        ).items() if canoncal_show_map[k[0]] in MAJOR_CANONICAL_SHOWS\n",
    "    }\n",
    "    print('[{}] Man (non-host) on screen: done'.format(topic))\n",
    "    result = {\n",
    "        'woman': topic_screentime_with_woman_by_show,\n",
    "        'man': topic_screentime_with_man_by_show,\n",
    "        'woman_nh': topic_screentime_with_nh_woman_by_show,\n",
    "        'man_nh': topic_screentime_with_nh_man_by_show\n",
    "    }\n",
    "    \n",
    "    with open(cache_path, 'wb') as f:\n",
    "        print('Caching aggregates: {}'.format(cache_path))\n",
    "        pickle.dump(result, f)\n",
    "    return result\n",
    "\n",
    "topic_to_aggregates = { \n",
    "    t : aggregate_face_genders_by_show(t, fg)\n",
    "    for t, fg in topic_to_face_genders.items()\n",
    "} "
   ]
  },
  {
   "cell_type": "code",
   "execution_count": null,
   "metadata": {
    "ExecuteTime": {
     "end_time": "2018-10-04T21:14:12.495594Z",
     "start_time": "2018-10-04T21:13:10.496Z"
    },
    "scrolled": true
   },
   "outputs": [],
   "source": [
    "channel_name_cmap = { 'CNN': 'DarkBlue', 'FOXNEWS': 'DarkRed', 'MSNBC': 'DarkGreen' } \n",
    "canonical_show_cmap = {\n",
    "    v['show__canonical_show__name'] : channel_name_cmap[v['channel__name']]\n",
    "    for v in Video.objects.distinct(\n",
    "        'show__canonical_show'\n",
    "    ).values('show__canonical_show__name', 'channel__name')\n",
    "}\n",
    "\n",
    "for t, agg in sorted(topic_to_aggregates.items()):\n",
    "    plot_binary_screentime_proportion_comparison(\n",
    "        ['Male (non-host)', 'Female (non-host)'], \n",
    "        [agg['man_nh'], agg['woman_nh']],\n",
    "        'Proportion of gendered screen time by show for topic \"{}\"'.format(t),\n",
    "        'Show name',\n",
    "        'Proportion of screen time',\n",
    "        secondary_series_names=[\n",
    "            'Baseline Male (non-host)', 'Baseline Female (non-host)'\n",
    "        ],\n",
    "        secondary_data=[\n",
    "            base_screentime_with_nh_man_by_show, \n",
    "            base_screentime_with_nh_woman_by_show\n",
    "        ],\n",
    "        tertiary_series_names=['Male (incl-host)', 'Female (incl-host)'],\n",
    "        tertiary_data=[agg['man'], agg['woman']],\n",
    "        category_color_map=canonical_show_cmap\n",
    "    )"
   ]
  },
  {
   "cell_type": "markdown",
   "metadata": {},
   "source": [
    "## Annotate Color By Opinion/Talk vs. News Show"
   ]
  },
  {
   "cell_type": "code",
   "execution_count": null,
   "metadata": {
    "ExecuteTime": {
     "end_time": "2018-10-04T21:14:12.496458Z",
     "start_time": "2018-10-04T21:13:21.538Z"
    },
    "hide_input": false
   },
   "outputs": [],
   "source": [
    "IS_OPINION_TALK_SHOW = {\n",
    "    'MSNBC Live': False,\n",
    "    'New Day': False,\n",
    "    'The Rachel Maddow Show': True,\n",
    "    'Anderson Cooper 360': False,\n",
    "    'Hannity': True,\n",
    "    'All In With Chris Hayes': True,\n",
    "    'CNN Tonight': False,\n",
    "    'Early Start': False, # morning show\n",
    "    'Happening Now': True,\n",
    "    'Hardball': True,\n",
    "    'The Kelly File': True, # Spun off oreilly factor\n",
    "    'The OReilly Factor': True,\n",
    "    'The Last Word With Lawrence ODonnell': True,\n",
    "    'CNN Newsroom With Brooke Baldwin': False,\n",
    "    'Americas News HQ': False,\n",
    "    'CNN Newsroom': False,\n",
    "    'Special Report With Bret Baier': True,\n",
    "    'The Five': True, \n",
    "    'On the Record': False,\n",
    "    'Situation Room With Wolf Blitzer': False,\n",
    "    'CNN Newsroom With Fredricka Whitfield': False,\n",
    "    'FOX and Friends First': True,\n",
    "    'Outnumbered': True,\n",
    "    'FOX and Friends': True,\n",
    "    'Shepard Smith Reporting': False,\n",
    "    'Morning Joe': True, # morning show\n",
    "    'Wolf': False,\n",
    "    'Americas Newsroom': True,\n",
    "    'CNN Newsroom With Carol Costello': False,\n",
    "    'The Lead With Jake Tapper': True,\n",
    "    'Your World With Neil Cavuto': True, # business focus?\n",
    "    'First Look': True, # Morning Joe : First Look\n",
    "    'At This Hour': False, # morning show\n",
    "    'Erin Burnett OutFront': False, \n",
    "    'Red Eye': True,\n",
    "    'The 11th Hour With Brian Williams': True, # news and politics television program \n",
    "    'Tucker Carlson Tonight': True,\n",
    "    'FOX Report': False,\n",
    "    'CNN Newsroom With Poppy Harlow': False,\n",
    "    'MTP Daily': True, # Public affairs/news analysis program\n",
    "}"
   ]
  },
  {
   "cell_type": "code",
   "execution_count": null,
   "metadata": {
    "ExecuteTime": {
     "end_time": "2018-10-04T21:14:12.497300Z",
     "start_time": "2018-10-04T21:13:22.361Z"
    },
    "scrolled": true
   },
   "outputs": [],
   "source": [
    "opinion_cmap = defaultdict(lambda: 'Black')\n",
    "for k, v in IS_OPINION_TALK_SHOW.items():\n",
    "    opinion_cmap[k] = 'Blue' if v else 'Red'\n",
    "\n",
    "for t, agg in sorted(topic_to_aggregates.items()):\n",
    "    plot_binary_screentime_proportion_comparison(\n",
    "        ['Male (non-host)', 'Female (non-host)'], \n",
    "        [agg['man_nh'], agg['woman_nh']],\n",
    "        'Proportion of gendered screen time by show for topic \"{}\"'.format(t),\n",
    "        'Show name',\n",
    "        'Proportion of screen time',\n",
    "        secondary_series_names=[\n",
    "            'Baseline Male (non-host)', 'Baseline Female (non-host)'\n",
    "        ],\n",
    "        secondary_data=[\n",
    "            base_screentime_with_nh_man_by_show, \n",
    "            base_screentime_with_nh_woman_by_show\n",
    "        ],\n",
    "        tertiary_series_names=['Male (incl-host)', 'Female (incl-host)'],\n",
    "        tertiary_data=[agg['man'], agg['woman']],\n",
    "        category_color_map=opinion_cmap\n",
    "    )"
   ]
  },
  {
   "cell_type": "markdown",
   "metadata": {},
   "source": [
    "# Compare screentime by topic by show"
   ]
  },
  {
   "cell_type": "code",
   "execution_count": null,
   "metadata": {
    "ExecuteTime": {
     "end_time": "2018-10-04T21:14:12.498163Z",
     "start_time": "2018-10-04T21:13:23.602Z"
    },
    "hide_input": false,
    "scrolled": true
   },
   "outputs": [],
   "source": [
    "CACHE_AGGREGATES_DIR = '/tmp/topic_aggregates'\n",
    "if not os.path.isdir(CACHE_AGGREGATES_DIR):\n",
    "    os.makedirs(CACHE_AGGREGATES_DIR)\n",
    "\n",
    "distinct_columns = []\n",
    "overlap_field = 'overlap_seconds'\n",
    "z_score = 1.96\n",
    "\n",
    "def aggregate_face_genders_by_topic(topic, face_genders_with_topic_overlap):\n",
    "    cache_path = os.path.join(CACHE_AGGREGATES_DIR, '{}.base.pkl'.format(topic))\n",
    "    try:\n",
    "        with open(cache_path, 'rb') as f:\n",
    "            print('Loading {} base aggregates from cache'.format(topic))\n",
    "            return pickle.load(f)\n",
    "    except:\n",
    "        print('Could not load {} base aggregates from cache'.format(topic))\n",
    "    \n",
    "    topic_screentime_with_nh_woman = sum_distinct_over_column(\n",
    "        face_genders_with_topic_overlap.where(\n",
    "            face_genders_with_topic_overlap.host_probability <= 0.5\n",
    "        ),\n",
    "        overlap_field, distinct_columns, \n",
    "        probability_column='female_probability'\n",
    "    )\n",
    "    print('Woman (non-host) on screen: {:0.2f}h +/- {:0.02f}'.format(\n",
    "        topic_screentime_with_nh_woman[0] / 3600, \n",
    "        z_score * math.sqrt(topic_screentime_with_nh_woman[1]) / 3600))\n",
    "    topic_screentime_with_nh_man = sum_distinct_over_column(\n",
    "        face_genders_with_topic_overlap.where(\n",
    "            face_genders_with_topic_overlap.host_probability <= 0.5\n",
    "        ),\n",
    "        overlap_field, distinct_columns,\n",
    "        probability_column='male_probability'\n",
    "    )\n",
    "    print('Man (non-host) on screen: {:0.2f}h  +/- {:0.02f}'.format(\n",
    "        topic_screentime_with_nh_man[0] / 3600, \n",
    "        z_score * math.sqrt(topic_screentime_with_nh_man[1]) / 3600))\n",
    "    \n",
    "    result = {\n",
    "        'man_nh': (\n",
    "            timedelta(seconds=topic_screentime_with_nh_man[0]),\n",
    "            topic_screentime_with_nh_man[1]\n",
    "        ),\n",
    "        'woman_nh': (\n",
    "            timedelta(seconds=topic_screentime_with_nh_woman[0]),\n",
    "            topic_screentime_with_nh_woman[1]\n",
    "        )\n",
    "    }\n",
    "    \n",
    "    with open(cache_path, 'wb') as f:\n",
    "        print('Caching base aggregates: {}'.format(cache_path))\n",
    "        pickle.dump(result, f)\n",
    "    return result\n",
    "\n",
    "topic_to_base_aggregates = { \n",
    "    t : aggregate_face_genders_by_topic(t, fg)\n",
    "    for t, fg in topic_to_face_genders.items()\n",
    "}\n",
    "base_topic_man_nh = { \n",
    "    k : v['man_nh'] for k, v in topic_to_base_aggregates.items()\n",
    "}\n",
    "base_topic_woman_nh = { \n",
    "    k : v['woman_nh'] for k, v in topic_to_base_aggregates.items()\n",
    "}"
   ]
  },
  {
   "cell_type": "code",
   "execution_count": null,
   "metadata": {
    "ExecuteTime": {
     "end_time": "2018-10-04T21:14:12.498987Z",
     "start_time": "2018-10-04T21:13:24.212Z"
    },
    "scrolled": true
   },
   "outputs": [],
   "source": [
    "MIN_TOPIC_SECONDS = 30 * 60 # 1/2 hr\n",
    "\n",
    "for show in sorted(MAJOR_CANONICAL_SHOWS):\n",
    "    topic_man = {}\n",
    "    topic_woman = {}\n",
    "    topic_man_nh = {}\n",
    "    topic_woman_nh = {}\n",
    "    \n",
    "    for t, agg_by_show in topic_to_aggregates.items():\n",
    "        topic_man[t] = agg_by_show['man'].get(show, (timedelta(0), 0))\n",
    "        topic_woman[t] = agg_by_show['woman'].get(show, (timedelta(0), 0))\n",
    "        topic_man_nh[t] = agg_by_show['man_nh'].get(show, (timedelta(0), 0))\n",
    "        topic_woman_nh[t] = agg_by_show['woman_nh'].get(show, (timedelta(0), 0))\n",
    "    \n",
    "    plot_binary_screentime_proportion_comparison(\n",
    "        ['Male (non-host)', 'Female (non-host)'], \n",
    "        [\n",
    "            { k : v for k, v in topic_man_nh.items() if v[0].total_seconds() >= MIN_TOPIC_SECONDS}, \n",
    "            topic_woman_nh\n",
    "        ],\n",
    "        'Proportion of gendered screen time by show for topic \"{}\"'.format(show),\n",
    "        'Topic name',\n",
    "        'Proportion of screen time',\n",
    "        secondary_series_names=[\n",
    "            'Baseline Male (non-host) for Topic', \n",
    "            'Baseline Female (non-host) for Topic'],\n",
    "        secondary_data=[base_topic_man_nh, base_topic_woman_nh],\n",
    "        tertiary_series_names=['Male (incl-host)', 'Female (incl-host)'],\n",
    "        tertiary_data=[topic_man, topic_woman],\n",
    "#         baseline_series_names=[\n",
    "#             'Baseline Male (non-host) on \"{}\"'.format(show), \n",
    "#             'Baseline Female (non-host) on \"{}\"'.format(show)],\n",
    "#         baseline_data=[\n",
    "#             base_screentime_with_nh_man_by_show[show][0].total_seconds(),\n",
    "#             base_screentime_with_nh_woman_by_show[show][0].total_seconds()\n",
    "#         ],\n",
    "    )"
   ]
  },
  {
   "cell_type": "markdown",
   "metadata": {},
   "source": [
    "# Compare screentime by topic on all shows"
   ]
  },
  {
   "cell_type": "code",
   "execution_count": null,
   "metadata": {
    "ExecuteTime": {
     "end_time": "2018-10-04T21:14:12.499812Z",
     "start_time": "2018-10-04T21:13:25.918Z"
    },
    "scrolled": true
   },
   "outputs": [],
   "source": [
    "topic_to_male_screentime = {}\n",
    "topic_to_female_screentime = {}"
   ]
  },
  {
   "cell_type": "code",
   "execution_count": null,
   "metadata": {},
   "outputs": [],
   "source": [
    "overlap_field = 'overlap_seconds'\n",
    "distinct_columns = []\n",
    "for topic in topic_to_face_genders:\n",
    "    print(topic)\n",
    "    if topic in topic_to_female_screentime:\n",
    "        continue\n",
    "    try:\n",
    "        female_topic = sum_distinct_over_column(\n",
    "            topic_to_face_genders[topic],\n",
    "            overlap_field, distinct_columns,\n",
    "            probability_column='female_probability'\n",
    "        )\n",
    "        male_topic = sum_distinct_over_column(\n",
    "            topic_to_face_genders[topic],\n",
    "            overlap_field, distinct_columns,\n",
    "            probability_column='male_probability'\n",
    "        )\n",
    "        topic_to_female_screentime[topic] = female_topic\n",
    "        topic_to_male_screentime[topic] = male_topic\n",
    "    except Exception as e:\n",
    "        print(e)"
   ]
  },
  {
   "cell_type": "code",
   "execution_count": null,
   "metadata": {
    "ExecuteTime": {
     "end_time": "2018-10-04T21:14:12.500826Z",
     "start_time": "2018-10-04T21:13:26.872Z"
    }
   },
   "outputs": [],
   "source": [
    "topic_to_male_screentime, topic_to_female_screentime"
   ]
  },
  {
   "cell_type": "code",
   "execution_count": null,
   "metadata": {
    "ExecuteTime": {
     "end_time": "2018-10-04T21:14:12.501796Z",
     "start_time": "2018-10-04T21:13:27.906Z"
    }
   },
   "outputs": [],
   "source": [
    "plot_binary_screentime_proportion_comparison(\n",
    "    ['Male (non-host)', 'Female (non-host)'], \n",
    "    [\n",
    "        { k : v for k, v in topic_to_male_screentime.items() if v[0] >= MIN_TOPIC_SECONDS }, \n",
    "        topic_to_female_screentime\n",
    "    ],\n",
    "    'Proportion of gendered screen time by topic',\n",
    "    'Topic name',\n",
    "    'Proportion of screen time'\n",
    ")"
   ]
  },
  {
   "cell_type": "code",
   "execution_count": null,
   "metadata": {},
   "outputs": [],
   "source": []
  }
 ],
 "metadata": {
  "kernelspec": {
   "display_name": "Django Shell-Plus",
   "language": "python",
   "name": "django_extensions"
  },
  "language_info": {
   "codemirror_mode": {
    "name": "ipython",
    "version": 3
   },
   "file_extension": ".py",
   "mimetype": "text/x-python",
   "name": "python",
   "nbconvert_exporter": "python",
   "pygments_lexer": "ipython3",
   "version": "3.5.2"
  },
  "toc": {
   "nav_menu": {},
   "number_sections": true,
   "sideBar": false,
   "skip_h1_title": false,
   "toc_cell": true,
   "toc_position": {},
   "toc_section_display": "block",
   "toc_window_display": false
  }
 },
 "nbformat": 4,
 "nbformat_minor": 2
}
