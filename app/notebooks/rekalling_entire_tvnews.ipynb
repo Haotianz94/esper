{
 "cells": [
  {
   "cell_type": "code",
   "execution_count": 68,
   "metadata": {
    "ExecuteTime": {
     "end_time": "2019-02-28T23:56:27.178247Z",
     "start_time": "2019-02-28T23:56:26.922065Z"
    }
   },
   "outputs": [],
   "source": [
    "from esper.prelude import *\n",
    "\n",
    "def get_fps_map(vids):\n",
    "    from query.models import Video\n",
    "    vs = Video.objects.filter(id__in=vids)\n",
    "    return {v.id: v.fps for v in vs}\n",
    "\n",
    "def frame_second_conversion(c, mode='f2s'):\n",
    "    from rekall.video_interval_collection_3d import VideoIntervalCollection3D\n",
    "    from rekall.interval_set_3d import Interval3D\n",
    "    fps_map = get_fps_map(set(c.get_allintervals().keys()))\n",
    "    \n",
    "    def second_to_frame(fps):\n",
    "        def map_fn(intrvl):\n",
    "            i2 = intrvl.copy()\n",
    "            t1,t2 = intrvl.t\n",
    "            i2.t = (int(t1*fps), int(t2*fps))\n",
    "            return i2\n",
    "        return map_fn\n",
    "    \n",
    "    def frame_to_second(fps):\n",
    "        def map_fn(intrvl):\n",
    "            i2 = intrvl.copy()\n",
    "            t1,t2 = intrvl.t\n",
    "            i2.t = (int(t1/fps), int(t2/fps))\n",
    "            return i2\n",
    "        return map_fn\n",
    "    \n",
    "    if mode=='f2s':\n",
    "        fn = frame_to_second\n",
    "    if mode=='s2f':\n",
    "        fn = second_to_frame\n",
    "    output = {}\n",
    "    for vid, intervals in c.get_allintervals().items():\n",
    "        output[vid] = intervals.map(fn(fps_map[vid]))\n",
    "    return VideoIntervalCollection3D(output)\n",
    "\n",
    "def frame_to_second_collection(c):\n",
    "    return frame_second_conversion(c, 'f2s')\n",
    "\n",
    "def second_to_frame_collection(c):\n",
    "    return frame_second_conversion(c, 's2f')\n",
    "\n",
    "def convert_to_1d_collection(collection):\n",
    "    from rekall.interval_list import Interval\n",
    "    from rekall.video_interval_collection import VideoIntervalCollection\n",
    "    video_map = collection.get_allintervals()\n",
    "    return VideoIntervalCollection({vid: [Interval(\n",
    "        i.t[0], i.t[1], None) for i in video_map[vid].get_intervals()] for vid in video_map})\n",
    "\n",
    "def display_result(collection_1d):\n",
    "    from esper.rekall import intrvllists_to_result\n",
    "    results = intrvllists_to_result(collection_1d.get_allintervals())\n",
    "    return esper_widget(results,\n",
    "            crop_bboxes=False, show_middle_frame=False, disable_captions=False,\n",
    "            results_per_page=25, jupyter_keybindings=True)\n",
    "\n",
    "# time dimension in seconds\n",
    "def get_commercial_intervals_in_vids(vids, in_seconds=True):\n",
    "    from query.models import Commercial\n",
    "    from rekall.video_interval_collection_3d import VideoIntervalCollection3D\n",
    "    \n",
    "    qs = Commercial.objects.filter(video_id__in=vids)\n",
    "    commercials = VideoIntervalCollection3D.from_django_qs(qs)\n",
    "    if in_seconds:\n",
    "        return frame_to_second_collection(commercials)\n",
    "    return commercials"
   ]
  },
  {
   "cell_type": "markdown",
   "metadata": {},
   "source": [
    "# Interviews"
   ]
  },
  {
   "cell_type": "code",
   "execution_count": 54,
   "metadata": {
    "ExecuteTime": {
     "end_time": "2019-02-28T23:46:01.636190Z",
     "start_time": "2019-02-28T23:45:55.817141Z"
    }
   },
   "outputs": [
    {
     "name": "stderr",
     "output_type": "stream",
     "text": [
      "100%|██████████████████████████████████████████████████████████████████████████████████████████████████████| 211/211 [00:00<00:00, 637.86it/s]\n"
     ]
    }
   ],
   "source": [
    "GUEST_LIST = [name.lower() for name in ['Barack Obama', 'Donald Trump', 'Ted Cruz', 'John Kasich', 'Marco Rubio', 'Ben Carson', 'Jeb Bush',\n",
    "'Jim Gilmore', 'Chris Christie', 'Carly Fiorina', 'Rick Santorum', 'Rand Paul', 'Mike Huckabee',\n",
    "'Hillary Clinton', 'Bernie Sanders', 'Lincoln Chafee', 'Martin O’Malley', 'Jim Webb',\n",
    "'Sarah Palin', 'John Boehner', 'Paul Ryan', 'Newt Gingrich','Nancy Pelosi','Elizabeth Warren', 'Mitch McConnell',\n",
    "'Chuck Schumer','Harry Reid','Joe Biden', 'Kevin McCarthy', 'Steve Scalise', 'Bobby Jindal', 'John Cornyn',\n",
    "'Dick Durbin','Orrin Hatch', 'Lindsey Graham', 'Mitt Romney', 'Michelle Obama' ,'Bill Clinton', \n",
    "'George W Bush', 'Tim Kaine' ]]\n",
    "HOST_LIST = list(set([h.name for s in CanonicalShow.objects.exclude(hosts=None) for h in s.hosts.all()]))\n",
    "VIDEOS = sorted([v.id for v in Video.objects.exclude(show__hosts=None)])\n",
    "\n",
    "def get_name_to_labeler_id(names):\n",
    "    from tqdm import tqdm\n",
    "    def get_labeler_ids(n):\n",
    "        from query.models import Labeler\n",
    "        labeler_names = ['face-identity:'+n, 'face-identity-converted:'+n, 'face-identity-uncommon:'+n]\n",
    "        return [l.id for l in Labeler.objects.filter(name__in=labeler_names)]\n",
    "    output = {}\n",
    "    for n in tqdm(names):\n",
    "        output[n] = get_labeler_ids(n)\n",
    "    return output\n",
    "\n",
    "NAME_TO_LABELER_ID = get_name_to_labeler_id(GUEST_LIST+HOST_LIST)\n",
    "\n",
    "def name_to_id(name):\n",
    "    from query.models import Identity\n",
    "    return Identity.objects.get(name=name).id\n",
    "\n",
    "GUEST_IDS=[name_to_id(n) for n in GUEST_LIST]\n",
    "HOST_IDS=[name_to_id(n) for n in HOST_LIST]\n",
    "\n",
    "# time dimension in seconds\n",
    "# Outputs a dictionary from name to video interval collection\n",
    "def get_person_intervals_in_vids(person_names, vids, probability=0.7, min_height=None):\n",
    "    from query.models import FaceIdentity\n",
    "    from django.db.models import F,Q\n",
    "    from rekall.video_interval_collection_3d import VideoIntervalCollection3D\n",
    "    from rekall.interval_set_3d import Interval3D\n",
    "    from rekall.interval_set_3d_utils import P\n",
    "    \n",
    "    SAMPLE_RATE = 3 # Every 3s\n",
    "\n",
    "    lids = []\n",
    "    for n in person_names:\n",
    "        lids.extend(NAME_TO_LABELER_ID[n])\n",
    "    \n",
    "    face_id_qs = FaceIdentity.objects.filter(\n",
    "        probability__gte=probability,\n",
    "        face__frame__video_id__in=vids,\n",
    "        face__frame__shot_boundary=False,\n",
    "        labeler_id__in=lids,\n",
    "    ).annotate(\n",
    "        height=F('face__bbox_y2')-F('face__bbox_y1'),\n",
    "        labeler_name=F('labeler__name'),\n",
    "        video_id=F('face__frame__video_id'),\n",
    "        frame_number=F('face__frame__number'),\n",
    "        x1=F('face__bbox_x1'),\n",
    "        x2=F('face__bbox_x2'),\n",
    "        y1=F('face__bbox_y1'),\n",
    "        y2=F('face__bbox_y2'),\n",
    "    )\n",
    "    if min_height is not None:\n",
    "        face_id_qs = face_id_qs.filter(height__gte=min_height)\n",
    "    \n",
    "    total = face_id_qs.count()\n",
    "    faces = VideoIntervalCollection3D.from_django_qs(face_id_qs, {\n",
    "        't1':'frame_number',\n",
    "        't2':'frame_number',\n",
    "        'x1':'x1','x2':'x2','y1':'y1','y2':'y2',\n",
    "    }, with_payload=lambda row: row.labeler_name.split(':')[1], progress=False, total=total)\n",
    "\n",
    "    fps_map = get_fps_map(set(faces.get_allintervals().keys()))\n",
    "    names_to_collection = {}\n",
    "    for n in person_names:\n",
    "        faces_one_person = faces.filter(P(lambda p: p==n))\n",
    "        output = {}\n",
    "        for vid, intervals in faces_one_person.get_allintervals().items():\n",
    "            fps = fps_map[vid]\n",
    "            eps = round(fps * SAMPLE_RATE)\n",
    "            output[vid] = intervals.temporal_coalesce(epsilon=eps)\n",
    "        names_to_collection[n] = frame_to_second_collection(VideoIntervalCollection3D(output))\n",
    "    return names_to_collection\n",
    "\n",
    "# Returns interview_IS<person_only_IS<>, host_only_IS<>, person_with_host_IS<>>\n",
    "def interview_query(guest, hosts, commercials):\n",
    "    from rekall.interval_set_3d import Interval3D\n",
    "    from rekall.interval_set_3d_utils import T, P, or_preds, overlap_bound\n",
    "    from rekall.temporal_predicates import overlaps, before, after\n",
    "    \n",
    "    SEGMENT_LENGTH=30\n",
    "    OVERLAP_LAX=60\n",
    "    HOST_GUEST_GAP=120\n",
    "    MIN_LENGTH=240\n",
    "    SMALL_FACE_THRESHOLD=0.3\n",
    "    MIN_GUEST_TIME_RATIO=0.35\n",
    "    MAX_SMALL_GUEST_RATIO=0.7\n",
    "    \n",
    "    fuzzy_overlap = or_preds(overlaps(), before(max_dist=OVERLAP_LAX), after(max_dist=OVERLAP_LAX))\n",
    "    \n",
    "    interview_candidates = hosts.merge(guest, T(fuzzy_overlap), time_window=OVERLAP_LAX).temporal_coalesce()\n",
    "    interviews = interview_candidates.temporal_coalesce(\n",
    "        epsilon=HOST_GUEST_GAP\n",
    "    ).filter_size(min_size=MIN_LENGTH\n",
    "    ).minus(commercials\n",
    "    ).filter_size(min_size=MIN_LENGTH)\n",
    "\n",
    "    def select_second(p):\n",
    "        return p[1]\n",
    "    \n",
    "    # Interview<Guest<height>>\n",
    "    interview_with_guest = interviews.collect_by_interval(\n",
    "        guest,\n",
    "        T(overlaps()),\n",
    "        filter_empty=True,\n",
    "        time_window=0,\n",
    "    ).map_payload(\n",
    "        select_second)\n",
    "\n",
    "    def total_time(intervals):\n",
    "        return intervals.fold(lambda s, i: s+i.length(), 0)\n",
    "    \n",
    "    def filter_time(interview):\n",
    "        guest = interview.payload\n",
    "        small_guest = guest.filter_size(max_size=SMALL_FACE_THRESHOLD, axis='Y')\n",
    "        small_guest_time = total_time(small_guest)\n",
    "        total_guest_time = total_time(guest)\n",
    "        segment_time = interview.length()\n",
    "        return (total_guest_time / segment_time > MIN_GUEST_TIME_RATIO and\n",
    "                small_guest_time / total_guest_time < MAX_SMALL_GUEST_RATIO)\n",
    "    # Interview<Guest<height>>\n",
    "    interviews = interview_with_guest.filter(filter_time)\n",
    "\n",
    "    # Guest<height>\n",
    "    guest_in_interviews = guest.filter_against(interviews, T(overlaps()), time_window=0)\n",
    "    # HostAndGuest<(Host, Guest)>\n",
    "    guest_with_host = guest_in_interviews.join(\n",
    "        hosts,\n",
    "        T(overlaps()),\n",
    "        lambda guest, host: [Interval3D(overlap_bound(guest.t, host.t), payload=(guest, host))],\n",
    "        time_window=0)\n",
    "    guest_only = guest_in_interviews.minus(guest_with_host)\n",
    "\n",
    "    hosts_in_interviews = hosts.filter_against(interviews, T(overlaps()), time_window=0)\n",
    "    hosts_only = hosts_in_interviews.minus(guest_with_host)\n",
    "    \n",
    "    interview_with_metadata = interviews.collect_by_interval(\n",
    "        guest_only,\n",
    "        T(overlaps()),\n",
    "        filter_empty=False,\n",
    "        time_window=0\n",
    "    ).map_payload(select_second).collect_by_interval(\n",
    "        hosts_only,\n",
    "        T(overlaps()),\n",
    "        filter_empty=False,\n",
    "        time_window=0\n",
    "    ).collect_by_interval(\n",
    "        guest_with_host,\n",
    "        T(overlaps()),\n",
    "        filter_empty=False,\n",
    "        time_window=0\n",
    "    ).map_payload(lambda p: (p[0][0],p[0][1],p[1]))\n",
    "    \n",
    "    return interview_with_metadata\n",
    "\n",
    "def get_interviews_for_vids(vids):\n",
    "    from rekall.video_interval_collection_3d import VideoIntervalCollection3D\n",
    "    from tqdm import tqdm\n",
    "    \n",
    "    people_to_intervals = get_person_intervals_in_vids(HOST_LIST + GUEST_LIST, vids, 0.7,0.2)\n",
    "    hosts = VideoIntervalCollection3D({})\n",
    "    for host_name in HOST_LIST:\n",
    "        hosts = hosts.union(people_to_intervals[host_name])\n",
    "    commercials = get_commercial_intervals_in_vids(vids)\n",
    "    ret = VideoIntervalCollection3D({})\n",
    "    for guest_name in tqdm(GUEST_LIST):\n",
    "        guest = people_to_intervals[guest_name]\n",
    "        interviews = interview_query(guest, hosts, commercials)\n",
    "        ret = ret.union(interviews)\n",
    "    return ret       "
   ]
  },
  {
   "cell_type": "markdown",
   "metadata": {},
   "source": [
    "## Run on a few videos"
   ]
  },
  {
   "cell_type": "code",
   "execution_count": 57,
   "metadata": {
    "ExecuteTime": {
     "end_time": "2019-02-28T23:46:33.784234Z",
     "start_time": "2019-02-28T23:46:24.937554Z"
    }
   },
   "outputs": [
    {
     "name": "stderr",
     "output_type": "stream",
     "text": [
      "100%|████████████████████████████████████████████████████████████████████████████████████████████████████████| 40/40 [00:00<00:00, 230.79it/s]\n"
     ]
    },
    {
     "data": {
      "application/vnd.jupyter.widget-view+json": {
       "model_id": "cb382b256a6d4a18801aa50118493f0c",
       "version_major": 2,
       "version_minor": 0
      },
      "text/plain": [
       "VGridWidget(jsglobals={'schema': [['IdentityTag', ['id', 'name']], ['Identity', ['id', 'name', 'tags']], ['Can…"
      ]
     },
     "metadata": {},
     "output_type": "display_data"
    }
   ],
   "source": [
    "vids = VIDEOS[::10000]\n",
    "answer = get_interviews_for_vids(vids)\n",
    "display_result(convert_to_1d_collection(second_to_frame_collection(answer)))"
   ]
  },
  {
   "cell_type": "markdown",
   "metadata": {},
   "source": [
    "## Run On All of TVNews"
   ]
  },
  {
   "cell_type": "code",
   "execution_count": 46,
   "metadata": {
    "ExecuteTime": {
     "end_time": "2019-02-28T08:50:17.555722Z",
     "start_time": "2019-02-28T08:06:07.276939Z"
    }
   },
   "outputs": [
    {
     "name": "stderr",
     "output_type": "stream",
     "text": [
      "100%|█████████████████████████████████████████████████████████████████████████████████████████████████| 195445/195445 [43:59<00:00, 85.06it/s]\n"
     ]
    }
   ],
   "source": [
    "import ipyparallel as ipp\n",
    "from esper.rekall_parallel import get_runtime_for_ipython_cluster\n",
    "import pickle\n",
    "c = ipp.Client(profile='local')\n",
    "rt = get_runtime_for_ipython_cluster(c)\n",
    "\n",
    "vids = VIDEOS\n",
    "answer,_ = rt.run(get_interviews_for_vids, vids, randomize=False, chunksize=20, progress=True)\n",
    "pickle.dump(answer, open('../data/interviews/interviews{0}-{1}.pkl'.format(vids[0],vids[-1]), 'wb'))"
   ]
  },
  {
   "cell_type": "markdown",
   "metadata": {},
   "source": [
    "# Faces in a Row"
   ]
  },
  {
   "cell_type": "code",
   "execution_count": 120,
   "metadata": {
    "ExecuteTime": {
     "end_time": "2019-03-01T01:07:31.939142Z",
     "start_time": "2019-03-01T01:07:26.369509Z"
    }
   },
   "outputs": [],
   "source": [
    "VIDEOS = sorted([v.id for v in Video.objects.all()])\n",
    "\n",
    "def get_faces_in_a_row_for_vids(vids):\n",
    "    from rekall.video_interval_collection_3d import VideoIntervalCollection3D\n",
    "    from rekall.interval_set_3d_utils import P, XY, and_preds\n",
    "    from rekall.bbox_predicates import left_of, same_value\n",
    "    \n",
    "    MIN_NUM_FACES = 7\n",
    "    MIN_HEIGHT = 0.15\n",
    "    EPSILON = 0.1\n",
    "    \n",
    "    qs = Face.objects.filter(frame__video_id__in=vids).annotate(\n",
    "        video_id=F(\"frame__video_id\"),\n",
    "        min_frame=F(\"frame__number\"),\n",
    "        max_frame=F(\"frame__number\") + 1,\n",
    "        height=F('bbox_y2')-F('bbox_y1'),\n",
    "    ).filter(height__gte=MIN_HEIGHT)\n",
    "    total = qs.count()\n",
    "    faces = VideoIntervalCollection3D.from_django_qs(qs, VideoIntervalCollection3D.django_bbox_default_schema(),\n",
    "                                            progress=True, total=total)\n",
    "    def has_enough_faces(n):\n",
    "        def pred(faces):\n",
    "            return faces.size() >= n\n",
    "        return pred\n",
    "    \n",
    "    def get_pattern(n):\n",
    "        assert(n>1)\n",
    "        constraints = []\n",
    "        for i in range(n-1):\n",
    "            name1 = str(i)\n",
    "            name2 = str(i+1)\n",
    "            constraints.append(([name1, name2],[XY(\n",
    "                and_preds(\n",
    "                    left_of(),\n",
    "                    same_value('y1', epsilon=EPSILON),\n",
    "                    same_value('y2', epsilon=EPSILON)))]))\n",
    "        return constraints          \n",
    "    \n",
    "    def faces_aligned():\n",
    "        def pred(faces):\n",
    "            pattern = get_pattern(faces.size())\n",
    "            return len(faces.match(pattern, exact=True)) > 0\n",
    "        return pred\n",
    "        \n",
    "    commercials = get_commercial_intervals_in_vids(vids, in_seconds=False)\n",
    "    \n",
    "    aligned_faces_in_frames = faces.minus(commercials).group_by_time().filter(P(and_preds(\n",
    "        has_enough_faces(MIN_NUM_FACES),\n",
    "        faces_aligned())))\n",
    "    \n",
    "    return aligned_faces_in_frames"
   ]
  },
  {
   "cell_type": "markdown",
   "metadata": {},
   "source": [
    "## Run on a few videos"
   ]
  },
  {
   "cell_type": "code",
   "execution_count": 121,
   "metadata": {
    "ExecuteTime": {
     "end_time": "2019-03-01T01:07:34.324210Z",
     "start_time": "2019-03-01T01:07:31.944488Z"
    }
   },
   "outputs": [
    {
     "name": "stderr",
     "output_type": "stream",
     "text": [
      "100%|████████████████████████████████████████████████████████████████████████████████████████████████| 32607/32607 [00:00<00:00, 33943.44it/s]\n"
     ]
    },
    {
     "data": {
      "application/vnd.jupyter.widget-view+json": {
       "model_id": "5a23de7c4a204d8e8b158870bcc7be45",
       "version_major": 2,
       "version_minor": 0
      },
      "text/plain": [
       "VGridWidget(jsglobals={'schema': [['IdentityTag', ['id', 'name']], ['Identity', ['id', 'name', 'tags']], ['Can…"
      ]
     },
     "metadata": {},
     "output_type": "display_data"
    }
   ],
   "source": [
    "vids = VIDEOS[::10003]\n",
    "answer = get_faces_in_a_row_for_vids(vids)\n",
    "display_result(convert_to_1d_collection(answer))"
   ]
  },
  {
   "cell_type": "markdown",
   "metadata": {},
   "source": [
    "## Run On All of TVNews"
   ]
  },
  {
   "cell_type": "code",
   "execution_count": 122,
   "metadata": {
    "ExecuteTime": {
     "end_time": "2019-03-01T01:11:20.456609Z",
     "start_time": "2019-03-01T01:07:38.376915Z"
    }
   },
   "outputs": [
    {
     "name": "stderr",
     "output_type": "stream",
     "text": [
      "100%|██████████████████████████████████████████████████████████████████████████████████████████████████| 21489/21489 [03:42<00:00, 176.99it/s]"
     ]
    },
    {
     "name": "stdout",
     "output_type": "stream",
     "text": [
      "Total results: 164\n"
     ]
    },
    {
     "name": "stderr",
     "output_type": "stream",
     "text": [
      "\n"
     ]
    }
   ],
   "source": [
    "import ipyparallel as ipp\n",
    "from esper.rekall_parallel import get_runtime_for_ipython_cluster\n",
    "import pickle\n",
    "c = ipp.Client(profile='local')\n",
    "rt = get_runtime_for_ipython_cluster(c)\n",
    "\n",
    "vids = VIDEOS[2::10]\n",
    "answer,_ = rt.run(get_faces_in_a_row_for_vids, vids, randomize=False, chunksize=15, progress=True)\n",
    "print(\"Total results:\", sum(answer.size().values()))"
   ]
  },
  {
   "cell_type": "code",
   "execution_count": 123,
   "metadata": {
    "ExecuteTime": {
     "end_time": "2019-03-01T01:11:28.196925Z",
     "start_time": "2019-03-01T01:11:27.984284Z"
    }
   },
   "outputs": [
    {
     "data": {
      "application/vnd.jupyter.widget-view+json": {
       "model_id": "79c43a1aa1b7409c956d187ba292ed66",
       "version_major": 2,
       "version_minor": 0
      },
      "text/plain": [
       "VGridWidget(jsglobals={'schema': [['IdentityTag', ['id', 'name']], ['Identity', ['id', 'name', 'tags']], ['Can…"
      ]
     },
     "metadata": {},
     "output_type": "display_data"
    }
   ],
   "source": [
    "def filter_vids(c, vids=None):\n",
    "    from rekall.video_interval_collection_3d import VideoIntervalCollection3D\n",
    "    if vids is None or len(vids)==0:\n",
    "        return c\n",
    "    d = c.get_allintervals()\n",
    "    ret = {}\n",
    "    for v in vids:\n",
    "        if v in d:\n",
    "            ret[v] = d[v]\n",
    "    return VideoIntervalCollection3D(ret)\n",
    "\n",
    "display_result(convert_to_1d_collection(filter_vids(answer,[])))"
   ]
  },
  {
   "cell_type": "markdown",
   "metadata": {},
   "source": [
    "# Scratchpad"
   ]
  },
  {
   "cell_type": "code",
   "execution_count": 5,
   "metadata": {
    "ExecuteTime": {
     "end_time": "2019-02-28T07:18:38.054259Z",
     "start_time": "2019-02-28T07:18:35.064392Z"
    }
   },
   "outputs": [
    {
     "name": "stderr",
     "output_type": "stream",
     "text": [
      "100%|████████████████████████████████████████████████████████████████████████████████████████████████| 11590/11590 [00:00<00:00, 21759.72it/s]\n"
     ]
    },
    {
     "data": {
      "application/vnd.jupyter.widget-view+json": {
       "model_id": "69a20861be784723a37d0e1d9b2815bf",
       "version_major": 2,
       "version_minor": 0
      },
      "text/plain": [
       "VGridWidget(jsglobals={'schema': [['IdentityTag', ['id', 'name']], ['Identity', ['id', 'name', 'tags']], ['Can…"
      ]
     },
     "metadata": {},
     "output_type": "display_data"
    }
   ],
   "source": [
    "vids = [763, 3769, 5281, 8220, 9901, 12837, 13141, 26386, 33004, 33004, 34642, 38275, 42756, 50164, 50164, 50164, 50164, 50164, 50164, 50164, 52075, 52945, 54377, 54377, 59122, 59122, 59398, 59398, 59398, 59398]\n",
    "\n",
    "answer = get_person_intervals_in_vids(HOST_LIST + GUEST_LIST, vids, 0.7,0.2)\n",
    "display_result(convert_to_1d_collection(second_to_frame_collection(answer['bernie sanders'])))"
   ]
  },
  {
   "cell_type": "code",
   "execution_count": null,
   "metadata": {
    "ExecuteTime": {
     "end_time": "2019-02-28T01:17:26.660454Z",
     "start_time": "2019-02-28T01:17:26.572442Z"
    }
   },
   "outputs": [],
   "source": [
    "display_result(convert_to_1d_collection(second_to_frame_collection(answer['jake tapper'])))"
   ]
  },
  {
   "cell_type": "code",
   "execution_count": null,
   "metadata": {
    "ExecuteTime": {
     "end_time": "2019-02-28T01:21:01.130353Z",
     "start_time": "2019-02-28T01:21:00.836905Z"
    }
   },
   "outputs": [],
   "source": [
    "answer = get_interviews_for_vids(vids)"
   ]
  },
  {
   "cell_type": "code",
   "execution_count": null,
   "metadata": {
    "ExecuteTime": {
     "end_time": "2019-02-28T00:52:35.112140Z",
     "start_time": "2019-02-28T00:52:31.859291Z"
    }
   },
   "outputs": [],
   "source": [
    "display_result(convert_to_1d_collection(second_to_frame_collection(answer)))"
   ]
  },
  {
   "cell_type": "code",
   "execution_count": null,
   "metadata": {
    "ExecuteTime": {
     "end_time": "2019-02-27T21:03:10.357104Z",
     "start_time": "2019-02-27T21:03:10.249785Z"
    }
   },
   "outputs": [],
   "source": [
    "ls=[l.name for l in Labeler.objects.all() if l.name.startswith('face-identity:') or l.name.startswith('face-identity-converted:') or l.name.startswith('face-identity-uncommon:')]"
   ]
  },
  {
   "cell_type": "code",
   "execution_count": null,
   "metadata": {
    "ExecuteTime": {
     "end_time": "2019-02-27T21:04:22.254636Z",
     "start_time": "2019-02-27T21:04:22.229695Z"
    }
   },
   "outputs": [],
   "source": [
    "ls=[l.split(':')[1] for l in ls]"
   ]
  },
  {
   "cell_type": "code",
   "execution_count": null,
   "metadata": {
    "ExecuteTime": {
     "end_time": "2019-02-27T21:14:30.437522Z",
     "start_time": "2019-02-27T21:14:30.401923Z"
    }
   },
   "outputs": [],
   "source": []
  },
  {
   "cell_type": "code",
   "execution_count": null,
   "metadata": {
    "ExecuteTime": {
     "end_time": "2019-02-27T21:05:37.415053Z",
     "start_time": "2019-02-27T21:05:37.390264Z"
    }
   },
   "outputs": [],
   "source": [
    "for g in GUEST_LIST:\n",
    "    if g not in ls:\n",
    "        print(g)"
   ]
  },
  {
   "cell_type": "code",
   "execution_count": null,
   "metadata": {
    "ExecuteTime": {
     "end_time": "2019-02-27T21:05:50.887453Z",
     "start_time": "2019-02-27T21:05:50.862528Z"
    }
   },
   "outputs": [],
   "source": [
    "for h in HOST_LIST:\n",
    "    if h not in ls:\n",
    "        print(h)"
   ]
  },
  {
   "cell_type": "code",
   "execution_count": null,
   "metadata": {
    "ExecuteTime": {
     "end_time": "2019-02-27T21:11:43.221334Z",
     "start_time": "2019-02-27T21:11:43.192756Z"
    }
   },
   "outputs": [],
   "source": [
    "ls"
   ]
  },
  {
   "cell_type": "code",
   "execution_count": null,
   "metadata": {
    "ExecuteTime": {
     "end_time": "2019-02-27T22:50:40.997595Z",
     "start_time": "2019-02-27T22:50:40.970892Z"
    }
   },
   "outputs": [],
   "source": [
    "sorted(HOST_LIST)"
   ]
  },
  {
   "cell_type": "code",
   "execution_count": null,
   "metadata": {
    "ExecuteTime": {
     "end_time": "2019-02-28T01:23:29.275271Z",
     "start_time": "2019-02-28T01:23:29.192659Z"
    }
   },
   "outputs": [],
   "source": [
    "interviews = LabeledInterview.objects \\\n",
    "        .annotate(fps=F('video__fps')) \\\n",
    "        .annotate(min_frame=F('fps') * F('start')) \\\n",
    "        .annotate(max_frame=F('fps') * F('end')) \\\n",
    "        .filter(guest1=\"bernie sanders\", original=True)\n",
    "print([i.video.id for i in interviews])"
   ]
  },
  {
   "cell_type": "code",
   "execution_count": null,
   "metadata": {
    "ExecuteTime": {
     "end_time": "2019-02-28T01:24:43.118752Z",
     "start_time": "2019-02-28T01:24:43.093609Z"
    }
   },
   "outputs": [],
   "source": [
    "len(vids)"
   ]
  },
  {
   "cell_type": "code",
   "execution_count": null,
   "metadata": {
    "ExecuteTime": {
     "end_time": "2019-02-28T01:38:27.632752Z",
     "start_time": "2019-02-28T01:38:27.607096Z"
    }
   },
   "outputs": [],
   "source": [
    "answer.get_allintervals()[10]"
   ]
  },
  {
   "cell_type": "code",
   "execution_count": null,
   "metadata": {
    "ExecuteTime": {
     "end_time": "2019-02-28T03:44:01.350625Z",
     "start_time": "2019-02-28T03:44:01.327596Z"
    }
   },
   "outputs": [],
   "source": [
    "answer"
   ]
  },
  {
   "cell_type": "code",
   "execution_count": null,
   "metadata": {
    "ExecuteTime": {
     "end_time": "2019-02-28T01:45:05.005193Z",
     "start_time": "2019-02-28T01:45:04.979041Z"
    }
   },
   "outputs": [],
   "source": [
    "len(VIDEOS)"
   ]
  },
  {
   "cell_type": "code",
   "execution_count": null,
   "metadata": {
    "ExecuteTime": {
     "end_time": "2019-02-28T02:42:51.752930Z",
     "start_time": "2019-02-28T02:42:51.726826Z"
    }
   },
   "outputs": [],
   "source": [
    "VIDEOS[:100]"
   ]
  },
  {
   "cell_type": "code",
   "execution_count": null,
   "metadata": {
    "ExecuteTime": {
     "end_time": "2019-02-28T02:44:17.533935Z",
     "start_time": "2019-02-28T02:44:17.487130Z"
    }
   },
   "outputs": [],
   "source": [
    "Video.objects.count()"
   ]
  },
  {
   "cell_type": "code",
   "execution_count": 16,
   "metadata": {
    "ExecuteTime": {
     "end_time": "2019-02-28T07:39:19.313069Z",
     "start_time": "2019-02-28T07:39:19.009727Z"
    }
   },
   "outputs": [
    {
     "name": "stderr",
     "output_type": "stream",
     "text": [
      "100%|████████████████████████████████████████████████████████████████████████████████████████████████████| 495/495 [00:00<00:00, 18738.77it/s]\n"
     ]
    }
   ],
   "source": [
    "from rekall.video_interval_collection_3d import VideoIntervalCollection3D\n",
    "vids = [188346]\n",
    "people_to_intervals = get_person_intervals_in_vids(HOST_LIST + GUEST_LIST, vids, 0.7,0.2)\n",
    "hosts = VideoIntervalCollection3D({})\n",
    "for host_name in HOST_LIST:\n",
    "    hosts = hosts.union(people_to_intervals[host_name])"
   ]
  },
  {
   "cell_type": "code",
   "execution_count": 17,
   "metadata": {
    "ExecuteTime": {
     "end_time": "2019-02-28T07:39:20.189493Z",
     "start_time": "2019-02-28T07:39:20.045349Z"
    }
   },
   "outputs": [
    {
     "data": {
      "application/vnd.jupyter.widget-view+json": {
       "model_id": "727ed8ee027d4b18b229d54f3961fcdc",
       "version_major": 2,
       "version_minor": 0
      },
      "text/plain": [
       "VGridWidget(jsglobals={'schema': [['IdentityTag', ['id', 'name']], ['Identity', ['id', 'name', 'tags']], ['Can…"
      ]
     },
     "metadata": {},
     "output_type": "display_data"
    }
   ],
   "source": [
    "display_result(convert_to_1d_collection(second_to_frame_collection(hosts)))"
   ]
  },
  {
   "cell_type": "code",
   "execution_count": 7,
   "metadata": {
    "ExecuteTime": {
     "end_time": "2019-02-28T07:34:10.805294Z",
     "start_time": "2019-02-28T07:34:09.701833Z"
    }
   },
   "outputs": [],
   "source": [
    "import pickle\n",
    "a = pickle.load(open('../data/interviews/paper/interview_10y-all.pkl', 'rb'))"
   ]
  },
  {
   "cell_type": "code",
   "execution_count": 12,
   "metadata": {
    "ExecuteTime": {
     "end_time": "2019-02-28T07:35:21.315585Z",
     "start_time": "2019-02-28T07:35:21.279262Z"
    }
   },
   "outputs": [
    {
     "data": {
      "text/plain": [
       "{'all': [(2503.0020000000013,\n",
       "   2974.503333333335,\n",
       "   [(0.459918588399887, 210.24033333333364),\n",
       "    (0.30950930714607294, 21.051333333333332),\n",
       "    (0.30319644510746, 186.2163333333333),\n",
       "    (0.299088642001152, 21.051333333333332)])],\n",
       " 'host_only': [(2752.2510000000016,\n",
       "   2764.2630000000017,\n",
       "   [(0.459918588399887, 210.24033333333364),\n",
       "    (0.30950930714607294, 21.051333333333332),\n",
       "    (0.30319644510746, 186.2163333333333),\n",
       "    (0.299088642001152, 21.051333333333332)]),\n",
       "  (2950.479333333335,\n",
       "   2953.4520000000016,\n",
       "   [(0.459918588399887, 210.24033333333364),\n",
       "    (0.30950930714607294, 21.051333333333332),\n",
       "    (0.30319644510746, 186.2163333333333),\n",
       "    (0.299088642001152, 21.051333333333332)])],\n",
       " 'person_only': [(2503.0020000000013,\n",
       "   2506.0050000000015,\n",
       "   [(0.459918588399887, 210.24033333333364),\n",
       "    (0.30950930714607294, 21.051333333333332),\n",
       "    (0.30319644510746, 186.2163333333333),\n",
       "    (0.299088642001152, 21.051333333333332)]),\n",
       "  (2509.038333333335,\n",
       "   2512.0110000000013,\n",
       "   [(0.459918588399887, 210.24033333333364),\n",
       "    (0.30950930714607294, 21.051333333333332),\n",
       "    (0.30319644510746, 186.2163333333333),\n",
       "    (0.299088642001152, 21.051333333333332)]),\n",
       "  (2518.047333333335,\n",
       "   2521.0200000000013,\n",
       "   [(0.459918588399887, 210.24033333333364),\n",
       "    (0.30950930714607294, 21.051333333333332),\n",
       "    (0.30319644510746, 186.2163333333333),\n",
       "    (0.299088642001152, 21.051333333333332)]),\n",
       "  (2530.059333333335,\n",
       "   2611.1100000000015,\n",
       "   [(0.459918588399887, 210.24033333333364),\n",
       "    (0.30950930714607294, 21.051333333333332),\n",
       "    (0.30319644510746, 186.2163333333333),\n",
       "    (0.299088642001152, 21.051333333333332)]),\n",
       "  (2632.161333333335,\n",
       "   2647.1460000000015,\n",
       "   [(0.459918588399887, 210.24033333333364),\n",
       "    (0.30950930714607294, 21.051333333333332),\n",
       "    (0.30319644510746, 186.2163333333333),\n",
       "    (0.299088642001152, 21.051333333333332)]),\n",
       "  (2659.188333333335,\n",
       "   2662.1610000000014,\n",
       "   [(0.459918588399887, 210.24033333333364),\n",
       "    (0.30950930714607294, 21.051333333333332),\n",
       "    (0.30319644510746, 186.2163333333333),\n",
       "    (0.299088642001152, 21.051333333333332)]),\n",
       "  (2665.1943333333347,\n",
       "   2668.1670000000017,\n",
       "   [(0.459918588399887, 210.24033333333364),\n",
       "    (0.30950930714607294, 21.051333333333332),\n",
       "    (0.30319644510746, 186.2163333333333),\n",
       "    (0.299088642001152, 21.051333333333332)]),\n",
       "  (2674.2033333333347,\n",
       "   2713.242333333335,\n",
       "   [(0.459918588399887, 210.24033333333364),\n",
       "    (0.30950930714607294, 21.051333333333332),\n",
       "    (0.30319644510746, 186.2163333333333),\n",
       "    (0.299088642001152, 21.051333333333332)]),\n",
       "  (2725.2240000000015,\n",
       "   2728.2270000000017,\n",
       "   [(0.459918588399887, 210.24033333333364),\n",
       "    (0.30950930714607294, 21.051333333333332),\n",
       "    (0.30319644510746, 186.2163333333333),\n",
       "    (0.299088642001152, 21.051333333333332)]),\n",
       "  (2734.263333333335,\n",
       "   2743.2420000000016,\n",
       "   [(0.459918588399887, 210.24033333333364),\n",
       "    (0.30950930714607294, 21.051333333333332),\n",
       "    (0.30319644510746, 186.2163333333333),\n",
       "    (0.299088642001152, 21.051333333333332)]),\n",
       "  (2770.299333333335,\n",
       "   2773.2720000000018,\n",
       "   [(0.459918588399887, 210.24033333333364),\n",
       "    (0.30950930714607294, 21.051333333333332),\n",
       "    (0.30319644510746, 186.2163333333333),\n",
       "    (0.299088642001152, 21.051333333333332)]),\n",
       "  (2776.305333333335,\n",
       "   2782.2810000000018,\n",
       "   [(0.459918588399887, 210.24033333333364),\n",
       "    (0.30950930714607294, 21.051333333333332),\n",
       "    (0.30319644510746, 186.2163333333333),\n",
       "    (0.299088642001152, 21.051333333333332)]),\n",
       "  (2824.353333333335,\n",
       "   2830.3290000000015,\n",
       "   [(0.459918588399887, 210.24033333333364),\n",
       "    (0.30950930714607294, 21.051333333333332),\n",
       "    (0.30319644510746, 186.2163333333333),\n",
       "    (0.299088642001152, 21.051333333333332)]),\n",
       "  (2833.362333333335,\n",
       "   2839.3380000000016,\n",
       "   [(0.459918588399887, 210.24033333333364),\n",
       "    (0.30950930714607294, 21.051333333333332),\n",
       "    (0.30319644510746, 186.2163333333333),\n",
       "    (0.299088642001152, 21.051333333333332)]),\n",
       "  (2848.377333333335,\n",
       "   2881.380000000002,\n",
       "   [(0.459918588399887, 210.24033333333364),\n",
       "    (0.30950930714607294, 21.051333333333332),\n",
       "    (0.30319644510746, 186.2163333333333),\n",
       "    (0.299088642001152, 21.051333333333332)]),\n",
       "  (2935.464333333335,\n",
       "   2938.4370000000017,\n",
       "   [(0.459918588399887, 210.24033333333364),\n",
       "    (0.30950930714607294, 21.051333333333332),\n",
       "    (0.30319644510746, 186.2163333333333),\n",
       "    (0.299088642001152, 21.051333333333332)]),\n",
       "  (2956.485333333335,\n",
       "   2968.467000000002,\n",
       "   [(0.459918588399887, 210.24033333333364),\n",
       "    (0.30950930714607294, 21.051333333333332),\n",
       "    (0.30319644510746, 186.2163333333333),\n",
       "    (0.299088642001152, 21.051333333333332)])],\n",
       " 'person_with_host': [(2506.0050000000015,\n",
       "   2509.038333333335,\n",
       "   [(0.459918588399887, 210.24033333333364),\n",
       "    (0.30950930714607294, 21.051333333333332),\n",
       "    (0.30319644510746, 186.2163333333333),\n",
       "    (0.299088642001152, 21.051333333333332)]),\n",
       "  (2512.0110000000013,\n",
       "   2518.047333333335,\n",
       "   [(0.459918588399887, 210.24033333333364),\n",
       "    (0.30950930714607294, 21.051333333333332),\n",
       "    (0.30319644510746, 186.2163333333333),\n",
       "    (0.299088642001152, 21.051333333333332)]),\n",
       "  (2521.0200000000013,\n",
       "   2530.059333333335,\n",
       "   [(0.459918588399887, 210.24033333333364),\n",
       "    (0.30950930714607294, 21.051333333333332),\n",
       "    (0.30319644510746, 186.2163333333333),\n",
       "    (0.299088642001152, 21.051333333333332)]),\n",
       "  (2611.1100000000015,\n",
       "   2632.161333333335,\n",
       "   [(0.459918588399887, 210.24033333333364),\n",
       "    (0.30950930714607294, 21.051333333333332),\n",
       "    (0.30319644510746, 186.2163333333333),\n",
       "    (0.299088642001152, 21.051333333333332)]),\n",
       "  (2647.1460000000015,\n",
       "   2659.188333333335,\n",
       "   [(0.459918588399887, 210.24033333333364),\n",
       "    (0.30950930714607294, 21.051333333333332),\n",
       "    (0.30319644510746, 186.2163333333333),\n",
       "    (0.299088642001152, 21.051333333333332)]),\n",
       "  (2662.1610000000014,\n",
       "   2665.1943333333347,\n",
       "   [(0.459918588399887, 210.24033333333364),\n",
       "    (0.30950930714607294, 21.051333333333332),\n",
       "    (0.30319644510746, 186.2163333333333),\n",
       "    (0.299088642001152, 21.051333333333332)]),\n",
       "  (2668.1670000000017,\n",
       "   2674.2033333333347,\n",
       "   [(0.459918588399887, 210.24033333333364),\n",
       "    (0.30950930714607294, 21.051333333333332),\n",
       "    (0.30319644510746, 186.2163333333333),\n",
       "    (0.299088642001152, 21.051333333333332)]),\n",
       "  (2728.2270000000017,\n",
       "   2734.263333333335,\n",
       "   [(0.459918588399887, 210.24033333333364),\n",
       "    (0.30950930714607294, 21.051333333333332),\n",
       "    (0.30319644510746, 186.2163333333333),\n",
       "    (0.299088642001152, 21.051333333333332)]),\n",
       "  (2743.2420000000016,\n",
       "   2746.275333333335,\n",
       "   [(0.459918588399887, 210.24033333333364),\n",
       "    (0.30950930714607294, 21.051333333333332),\n",
       "    (0.30319644510746, 186.2163333333333),\n",
       "    (0.299088642001152, 21.051333333333332)]),\n",
       "  (2764.2630000000017,\n",
       "   2770.299333333335,\n",
       "   [(0.459918588399887, 210.24033333333364),\n",
       "    (0.30950930714607294, 21.051333333333332),\n",
       "    (0.30319644510746, 186.2163333333333),\n",
       "    (0.299088642001152, 21.051333333333332)]),\n",
       "  (2773.2720000000018,\n",
       "   2776.305333333335,\n",
       "   [(0.459918588399887, 210.24033333333364),\n",
       "    (0.30950930714607294, 21.051333333333332),\n",
       "    (0.30319644510746, 186.2163333333333),\n",
       "    (0.299088642001152, 21.051333333333332)]),\n",
       "  (2782.2810000000018,\n",
       "   2812.2810000000018,\n",
       "   [(0.459918588399887, 210.24033333333364),\n",
       "    (0.30950930714607294, 21.051333333333332),\n",
       "    (0.30319644510746, 186.2163333333333),\n",
       "    (0.299088642001152, 21.051333333333332)]),\n",
       "  (2812.2810000000018,\n",
       "   2824.353333333335,\n",
       "   [(0.459918588399887, 210.24033333333364),\n",
       "    (0.30950930714607294, 21.051333333333332),\n",
       "    (0.30319644510746, 186.2163333333333),\n",
       "    (0.299088642001152, 21.051333333333332)]),\n",
       "  (2830.3290000000015,\n",
       "   2833.362333333335,\n",
       "   [(0.459918588399887, 210.24033333333364),\n",
       "    (0.30950930714607294, 21.051333333333332),\n",
       "    (0.30319644510746, 186.2163333333333),\n",
       "    (0.299088642001152, 21.051333333333332)]),\n",
       "  (2839.3380000000016,\n",
       "   2848.377333333335,\n",
       "   [(0.459918588399887, 210.24033333333364),\n",
       "    (0.30950930714607294, 21.051333333333332),\n",
       "    (0.30319644510746, 186.2163333333333),\n",
       "    (0.299088642001152, 21.051333333333332)]),\n",
       "  (2881.380000000002,\n",
       "   2911.380000000002,\n",
       "   [(0.459918588399887, 210.24033333333364),\n",
       "    (0.30950930714607294, 21.051333333333332),\n",
       "    (0.30319644510746, 186.2163333333333),\n",
       "    (0.299088642001152, 21.051333333333332)]),\n",
       "  (2911.380000000002,\n",
       "   2935.464333333335,\n",
       "   [(0.459918588399887, 210.24033333333364),\n",
       "    (0.30950930714607294, 21.051333333333332),\n",
       "    (0.30319644510746, 186.2163333333333),\n",
       "    (0.299088642001152, 21.051333333333332)]),\n",
       "  (2938.4370000000017,\n",
       "   2950.479333333335,\n",
       "   [(0.459918588399887, 210.24033333333364),\n",
       "    (0.30950930714607294, 21.051333333333332),\n",
       "    (0.30319644510746, 186.2163333333333),\n",
       "    (0.299088642001152, 21.051333333333332)]),\n",
       "  (2953.4520000000016,\n",
       "   2956.485333333335,\n",
       "   [(0.459918588399887, 210.24033333333364),\n",
       "    (0.30950930714607294, 21.051333333333332),\n",
       "    (0.30319644510746, 186.2163333333333),\n",
       "    (0.299088642001152, 21.051333333333332)]),\n",
       "  (2968.467000000002,\n",
       "   2974.503333333335,\n",
       "   [(0.459918588399887, 210.24033333333364),\n",
       "    (0.30950930714607294, 21.051333333333332),\n",
       "    (0.30319644510746, 186.2163333333333),\n",
       "    (0.299088642001152, 21.051333333333332)])]}"
      ]
     },
     "execution_count": 12,
     "metadata": {},
     "output_type": "execute_result"
    }
   ],
   "source": [
    "a['John Kasich'][188346]"
   ]
  },
  {
   "cell_type": "code",
   "execution_count": 13,
   "metadata": {
    "ExecuteTime": {
     "end_time": "2019-02-28T07:35:49.240074Z",
     "start_time": "2019-02-28T07:35:49.207268Z"
    }
   },
   "outputs": [
    {
     "data": {
      "text/plain": [
       "173481"
      ]
     },
     "execution_count": 13,
     "metadata": {},
     "output_type": "execute_result"
    }
   ],
   "source": [
    "VIDEOS.index(188346)"
   ]
  },
  {
   "cell_type": "code",
   "execution_count": 20,
   "metadata": {
    "ExecuteTime": {
     "end_time": "2019-02-28T07:42:03.133452Z",
     "start_time": "2019-02-28T07:42:03.091534Z"
    }
   },
   "outputs": [
    {
     "data": {
      "text/plain": [
       "[<Interval3D t: [48,48] x: [0.0729675069451332,0.340209662914276] y: [0.192048326134682,0.7034050822258] payload:john kasich>, <Interval3D t: [51,51] x: [0.0788620859384537,0.33420005440712] y: [0.200570270419121,0.697366416454315] payload:john kasich>, <Interval3D t: [54,54] x: [0.0818389803171158,0.335762768983841] y: [0.197350889444351,0.691627025604248] payload:john kasich>, <Interval3D t: [2183,2183] x: [0.397857904434204,0.620155453681946] y: [0.129200682044029,0.578142821788788] payload:john kasich>, <Interval3D t: [2186,2186] x: [0.408488303422928,0.63443648815155] y: [0.134875744581223,0.592679738998413] payload:john kasich>, <Interval3D t: [2189,2189] x: [0.395539820194244,0.619785845279694] y: [0.134044304490089,0.582561612129211] payload:john kasich>, <Interval3D t: [2504,2504] x: [0.39989972114563,0.629268884658813] y: [0.105802565813065,0.565721154212952] payload:john kasich>, <Interval3D t: [2507,2507] x: [0.685153722763062,0.837928771972656] y: [0.168197274208069,0.47207173705101] payload:john kasich>, <Interval3D t: [2510,2510] x: [0.686719596385956,0.841361165046692] y: [0.16288760304451,0.463534325361252] payload:john kasich>, <Interval3D t: [2513,2513] x: [0.682148933410645,0.83713561296463] y: [0.173841789364815,0.487755089998245] payload:john kasich>, <Interval3D t: [2516,2516] x: [0.671085357666016,0.821146368980408] y: [0.124356143176556,0.413998156785965] payload:john kasich>, <Interval3D t: [2519,2519] x: [0.6904336810112,0.845536410808563] y: [0.177687495946884,0.489777982234955] payload:john kasich>, <Interval3D t: [2522,2522] x: [0.678783059120178,0.830715119838715] y: [0.143331989645958,0.446289092302322] payload:john kasich>, <Interval3D t: [2525,2525] x: [0.6684650182724,0.818391859531403] y: [0.170726969838142,0.460534751415253] payload:john kasich>, <Interval3D t: [2528,2528] x: [0.701682209968567,0.848968207836151] y: [0.172197788953781,0.472751170396805] payload:john kasich>, <Interval3D t: [2531,2531] x: [0.400131821632385,0.619626343250275] y: [0.113802187144756,0.557594478130341] payload:john kasich>, <Interval3D t: [2534,2534] x: [0.423538953065872,0.648501038551331] y: [0.141103953123093,0.591451406478882] payload:john kasich>, <Interval3D t: [2537,2537] x: [0.420346587896347,0.642773747444153] y: [0.127265065908432,0.585228502750397] payload:john kasich>, <Interval3D t: [2540,2540] x: [0.366735398769379,0.603901922702789] y: [0.117861412465572,0.578942596912384] payload:john kasich>, <Interval3D t: [2543,2543] x: [0.797285437583923,0.950076460838318] y: [0.176184415817261,0.480598568916321] payload:john kasich>, <Interval3D t: [2546,2546] x: [0.755896151065826,0.916811108589172] y: [0.155863404273987,0.47218269109726] payload:john kasich>, <Interval3D t: [2549,2549] x: [0.754779636859894,0.902972519397736] y: [0.159816101193428,0.459867656230927] payload:john kasich>, <Interval3D t: [2552,2552] x: [0.784892022609711,0.94202047586441] y: [0.15982161462307,0.469094455242157] payload:john kasich>, <Interval3D t: [2555,2555] x: [0.789857864379883,0.941863536834717] y: [0.17976975440979,0.486486971378326] payload:john kasich>, <Interval3D t: [2558,2558] x: [0.776513934135437,0.93473219871521] y: [0.170110091567039,0.488967448472977] payload:john kasich>, <Interval3D t: [2561,2561] x: [0.768960893154144,0.918115556240082] y: [0.158824235200882,0.45581579208374] payload:john kasich>, <Interval3D t: [2564,2564] x: [0.753808915615082,0.915861427783966] y: [0.16434046626091,0.48009380698204] payload:john kasich>, <Interval3D t: [2567,2567] x: [0.379242926836014,0.59981495141983] y: [0.166575312614441,0.615112125873566] payload:john kasich>, <Interval3D t: [2570,2570] x: [0.640659332275391,0.811365485191345] y: [0.169496536254883,0.508905529975891] payload:john kasich>, <Interval3D t: [2573,2573] x: [0.40804722905159,0.628394782543182] y: [0.10435812920332,0.545862078666687] payload:john kasich>, <Interval3D t: [2576,2576] x: [0.398841232061386,0.625133097171783] y: [0.134223818778992,0.581102192401886] payload:john kasich>, <Interval3D t: [2579,2579] x: [0.376707196235657,0.605219900608063] y: [0.21112272143364,0.661578059196472] payload:john kasich>, <Interval3D t: [2582,2582] x: [0.373306542634964,0.613406658172607] y: [0.132819831371307,0.602463126182556] payload:john kasich>, <Interval3D t: [2585,2585] x: [0.384688645601273,0.623575270175934] y: [0.0991603061556816,0.575021803379059] payload:john kasich>, <Interval3D t: [2588,2588] x: [0.41266068816185,0.646999776363373] y: [0.106306083500385,0.584692895412445] payload:john kasich>, <Interval3D t: [2591,2591] x: [0.800100028514862,0.95805686712265] y: [0.181960672140121,0.500489711761475] payload:john kasich>, <Interval3D t: [2594,2594] x: [0.764105379581451,0.922738194465637] y: [0.135101929306984,0.446684658527374] payload:john kasich>, <Interval3D t: [2597,2597] x: [0.759250164031982,0.922854542732239] y: [0.142350256443024,0.454877585172653] payload:john kasich>, <Interval3D t: [2600,2600] x: [0.757479310035706,0.916261494159698] y: [0.165236681699753,0.478444308042526] payload:john kasich>, <Interval3D t: [2603,2603] x: [0.748054981231689,0.911319613456726] y: [0.145133227109909,0.464910477399826] payload:john kasich>, <Interval3D t: [2606,2606] x: [0.767563223838806,0.926627039909363] y: [0.191134288907051,0.513675332069397] payload:john kasich>, <Interval3D t: [2609,2609] x: [0.378975838422775,0.608722567558289] y: [0.0767868086695671,0.528623342514038] payload:john kasich>, <Interval3D t: [2612,2612] x: [0.658656477928162,0.819951951503754] y: [0.168859288096428,0.479330629110336] payload:john kasich>, <Interval3D t: [2615,2615] x: [0.694796621799469,0.848812580108643] y: [0.170581489801407,0.478465050458908] payload:john kasich>, <Interval3D t: [2618,2618] x: [0.68086051940918,0.832200407981873] y: [0.158335447311401,0.461071819067001] payload:john kasich>, <Interval3D t: [2621,2621] x: [0.676123321056366,0.830042958259583] y: [0.166908726096153,0.472360581159592] payload:john kasich>, <Interval3D t: [2624,2624] x: [0.677968144416809,0.827954828739166] y: [0.171502202749252,0.476887702941895] payload:john kasich>, <Interval3D t: [2627,2627] x: [0.668532609939575,0.82575660943985] y: [0.154091820120811,0.473713636398315] payload:john kasich>, <Interval3D t: [2630,2630] x: [0.695114254951477,0.849085211753845] y: [0.185879588127136,0.489391624927521] payload:john kasich>, <Interval3D t: [2633,2633] x: [0.389953851699829,0.618078589439392] y: [0.126970037817955,0.583727180957794] payload:john kasich>, <Interval3D t: [2636,2636] x: [0.353595465421677,0.586614906787872] y: [0.127392396330833,0.57697069644928] payload:john kasich>, <Interval3D t: [2639,2639] x: [0.352680206298828,0.58584463596344] y: [0.0889131054282188,0.551218092441559] payload:john kasich>, <Interval3D t: [2642,2642] x: [0.394748419523239,0.627485156059265] y: [0.154351621866226,0.612376868724823] payload:john kasich>, <Interval3D t: [2645,2645] x: [0.337358981370926,0.584173738956451] y: [0.142121285200119,0.635404527187347] payload:john kasich>, <Interval3D t: [2648,2648] x: [0.656491160392761,0.817021191120148] y: [0.158277869224548,0.473099797964096] payload:john kasich>, <Interval3D t: [2651,2651] x: [0.680259168148041,0.83247184753418] y: [0.171463042497635,0.473975569009781] payload:john kasich>, <Interval3D t: [2654,2654] x: [0.666649639606476,0.819671213626862] y: [0.146172374486923,0.450708419084549] payload:john kasich>, <Interval3D t: [2657,2657] x: [0.705585479736328,0.855575382709503] y: [0.143207207322121,0.440059065818787] payload:john kasich>, <Interval3D t: [2660,2660] x: [0.709396958351135,0.859933972358704] y: [0.153920873999596,0.450356215238571] payload:john kasich>, <Interval3D t: [2663,2663] x: [0.638108730316162,0.79615306854248] y: [0.138498976826668,0.43944638967514] payload:john kasich>, <Interval3D t: [2666,2666] x: [0.642370820045471,0.806343615055084] y: [0.171145007014275,0.510659337043762] payload:john kasich>, <Interval3D t: [2669,2669] x: [0.658903479576111,0.824135065078735] y: [0.16938516497612,0.503505706787109] payload:john kasich>, <Interval3D t: [2672,2672] x: [0.685876965522766,0.827751338481903] y: [0.13583692908287,0.413314312696457] payload:john kasich>, <Interval3D t: [2675,2675] x: [0.351992040872574,0.580177843570709] y: [0.148496359586716,0.590631008148193] payload:john kasich>, <Interval3D t: [2678,2678] x: [0.428885042667389,0.645274102687836] y: [0.0903244465589523,0.525144457817078] payload:john kasich>, <Interval3D t: [2681,2681] x: [0.366699576377869,0.60938823223114] y: [0.149050429463387,0.623319864273071] payload:john kasich>, <Interval3D t: [2684,2684] x: [0.384333580732346,0.624553442001343] y: [0.126657158136368,0.608757138252258] payload:john kasich>, <Interval3D t: [2687,2687] x: [0.377365082502365,0.610157370567322] y: [0.126504838466644,0.592640578746796] payload:john kasich>, <Interval3D t: [2690,2690] x: [0.404459297657013,0.639737546443939] y: [0.131684392690659,0.604300796985626] payload:john kasich>, <Interval3D t: [2693,2693] x: [0.386629730463028,0.624682784080505] y: [0.0850300714373589,0.57112193107605] payload:john kasich>, <Interval3D t: [2696,2696] x: [0.387832939624786,0.624096751213074] y: [0.110430061817169,0.588193595409393] payload:john kasich>, <Interval3D t: [2699,2699] x: [0.411482661962509,0.657353937625885] y: [0.136460140347481,0.626704037189484] payload:john kasich>, <Interval3D t: [2702,2702] x: [0.37100014090538,0.606465041637421] y: [0.113945923745632,0.586301982402802] payload:john kasich>, <Interval3D t: [2705,2705] x: [0.450161993503571,0.687334895133972] y: [0.126246362924576,0.60734748840332] payload:john kasich>, <Interval3D t: [2708,2708] x: [0.35290202498436,0.603494346141815] y: [0.10990796983242,0.592177152633667] payload:john kasich>, <Interval3D t: [2711,2711] x: [0.415940165519714,0.64600658416748] y: [0.0887465626001358,0.554493248462677] payload:john kasich>, <Interval3D t: [2726,2726] x: [0.695900499820709,0.854472875595093] y: [0.19512465596199,0.504633963108063] payload:john kasich>, <Interval3D t: [2729,2729] x: [0.694536745548248,0.845588386058807] y: [0.173891559243202,0.470939606428146] payload:john kasich>, <Interval3D t: [2732,2732] x: [0.693570017814636,0.843944370746613] y: [0.159769773483276,0.459475427865982] payload:john kasich>, <Interval3D t: [2735,2735] x: [0.690613508224487,0.843192398548126] y: [0.158160477876663,0.462003946304321] payload:john kasich>, <Interval3D t: [2738,2738] x: [0.696542024612427,0.846290171146393] y: [0.164828404784203,0.463260501623154] payload:john kasich>, <Interval3D t: [2741,2741] x: [0.695172429084778,0.845269501209259] y: [0.168859913945198,0.470588386058807] payload:john kasich>, <Interval3D t: [2744,2744] x: [0.695075631141663,0.844723403453827] y: [0.16829326748848,0.470572531223297] payload:john kasich>, <Interval3D t: [2765,2765] x: [0.69103729724884,0.841225266456604] y: [0.179776415228844,0.482972860336304] payload:john kasich>, <Interval3D t: [2768,2768] x: [0.656704962253571,0.809234142303467] y: [0.198618620634079,0.499669134616852] payload:john kasich>, <Interval3D t: [2771,2771] x: [0.695618391036987,0.853392541408539] y: [0.172248259186745,0.4906145632267] payload:john kasich>, <Interval3D t: [2774,2774] x: [0.684956550598145,0.835736513137817] y: [0.167512357234955,0.47444611787796] payload:john kasich>, <Interval3D t: [2777,2777] x: [0.405094146728516,0.63665646314621] y: [0.116406083106995,0.576031386852264] payload:john kasich>, <Interval3D t: [2780,2780] x: [0.415945291519165,0.633245050907135] y: [0.13889017701149,0.582364201545715] payload:john kasich>, <Interval3D t: [2783,2783] x: [0.681078732013702,0.833992600440979] y: [0.150257304310799,0.460740923881531] payload:john kasich>, <Interval3D t: [2786,2786] x: [0.654973387718201,0.826823472976685] y: [0.139239251613617,0.474589020013809] payload:john kasich>, <Interval3D t: [2789,2789] x: [0.649727821350098,0.80389142036438] y: [0.140053555369377,0.448594301939011] payload:john kasich>, <Interval3D t: [2792,2792] x: [0.670658349990845,0.826830923557281] y: [0.14729905128479,0.448787659406662] payload:john kasich>, <Interval3D t: [2795,2795] x: [0.692679822444916,0.852740347385406] y: [0.164496049284935,0.490922600030899] payload:john kasich>, <Interval3D t: [2798,2798] x: [0.699153900146484,0.854745030403137] y: [0.178459823131561,0.491237163543701] payload:john kasich>, <Interval3D t: [2801,2801] x: [0.671746432781219,0.832995891571045] y: [0.135687872767448,0.456861853599548] payload:john kasich>, <Interval3D t: [2804,2804] x: [0.665165662765503,0.823196113109589] y: [0.138116270303726,0.452491104602814] payload:john kasich>, <Interval3D t: [2807,2807] x: [0.640432476997375,0.799801588058472] y: [0.229948073625565,0.543389737606049] payload:john kasich>, <Interval3D t: [2810,2810] x: [0.630880355834961,0.79031229019165] y: [0.174295946955681,0.487692564725876] payload:john kasich>, <Interval3D t: [2813,2813] x: [0.641894102096558,0.805950820446014] y: [0.182905897498131,0.502489805221558] payload:john kasich>, <Interval3D t: [2816,2816] x: [0.701937437057495,0.865834593772888] y: [0.15168260037899,0.476267784833908] payload:john kasich>, <Interval3D t: [2819,2819] x: [0.682150602340698,0.841780304908752] y: [0.174134433269501,0.498050630092621] payload:john kasich>, <Interval3D t: [2822,2822] x: [0.664945125579834,0.830360054969788] y: [0.150129020214081,0.473464339971542] payload:john kasich>, <Interval3D t: [2825,2825] x: [0.662265598773956,0.826016962528229] y: [0.165836289525032,0.476623386144638] payload:john kasich>, <Interval3D t: [2828,2828] x: [0.686413168907166,0.835460007190704] y: [0.186660841107368,0.486751466989517] payload:john kasich>, <Interval3D t: [2831,2831] x: [0.678070068359375,0.822977006435394] y: [0.164756700396538,0.450513511896133] payload:john kasich>, <Interval3D t: [2834,2834] x: [0.690897107124329,0.84431517124176] y: [0.192651346325874,0.493600904941559] payload:john kasich>, <Interval3D t: [2837,2837] x: [0.680451035499573,0.83215856552124] y: [0.17080719769001,0.475669503211975] payload:john kasich>, <Interval3D t: [2840,2840] x: [0.679636597633362,0.833442449569702] y: [0.178411036729813,0.486897945404053] payload:john kasich>, <Interval3D t: [2843,2843] x: [0.655334830284119,0.811841726303101] y: [0.181047335267067,0.488316625356674] payload:john kasich>, <Interval3D t: [2846,2846] x: [0.669465780258179,0.837144494056702] y: [0.209611758589745,0.545212864875793] payload:john kasich>, <Interval3D t: [2849,2849] x: [0.449076473712921,0.686103999614716] y: [0.139821216464043,0.616327702999115] payload:john kasich>, <Interval3D t: [2852,2852] x: [0.35338220000267,0.58622145652771] y: [0.0724271535873413,0.518097341060638] payload:john kasich>, <Interval3D t: [2855,2855] x: [0.435934573411942,0.671448707580566] y: [0.112487703561783,0.58092725276947] payload:john kasich>, <Interval3D t: [2858,2858] x: [0.330017656087875,0.570352256298065] y: [0.10401713848114,0.562691867351532] payload:john kasich>, <Interval3D t: [2861,2861] x: [0.343466013669968,0.581717252731323] y: [0.124402247369289,0.591330766677856] payload:john kasich>, <Interval3D t: [2864,2864] x: [0.424270659685135,0.659143507480621] y: [0.115051664412022,0.586518049240112] payload:john kasich>, <Interval3D t: [2867,2867] x: [0.377573072910309,0.607649624347687] y: [0.129897743463516,0.593937814235687] payload:john kasich>, <Interval3D t: [2870,2870] x: [0.318724066019058,0.548437595367432] y: [0.086787536740303,0.561475455760956] payload:john kasich>, <Interval3D t: [2873,2873] x: [0.335848361253738,0.57724517583847] y: [0.0866084024310112,0.561154007911682] payload:john kasich>, <Interval3D t: [2876,2876] x: [0.405433386564255,0.653133749961853] y: [0.120786264538765,0.608035564422607] payload:john kasich>, <Interval3D t: [2879,2879] x: [0.411553889513016,0.640438139438629] y: [0.140519008040428,0.59570586681366] payload:john kasich>, <Interval3D t: [2882,2882] x: [0.669086694717407,0.826505899429321] y: [0.179666876792908,0.500562012195587] payload:john kasich>, <Interval3D t: [2885,2885] x: [0.651600897312164,0.812520205974579] y: [0.176415160298347,0.488054901361465] payload:john kasich>, <Interval3D t: [2888,2888] x: [0.655609846115112,0.811085939407349] y: [0.123368218541145,0.435787439346313] payload:john kasich>, <Interval3D t: [2891,2891] x: [0.669887959957123,0.833434402942657] y: [0.202867075800896,0.533229053020477] payload:john kasich>, <Interval3D t: [2894,2894] x: [0.669558107852936,0.828690886497498] y: [0.175007864832878,0.484232246875763] payload:john kasich>, <Interval3D t: [2897,2897] x: [0.661072909832001,0.81888622045517] y: [0.174081057310104,0.480559676885605] payload:john kasich>, <Interval3D t: [2900,2900] x: [0.650019228458405,0.784948229789734] y: [0.145215854048729,0.397885352373123] payload:john kasich>, <Interval3D t: [2903,2903] x: [0.676689207553864,0.832253158092499] y: [0.166957661509514,0.47551417350769] payload:john kasich>, <Interval3D t: [2906,2906] x: [0.673619508743286,0.821033775806427] y: [0.162997767329216,0.448794275522232] payload:john kasich>, <Interval3D t: [2909,2909] x: [0.672080755233765,0.827281177043915] y: [0.162969008088112,0.476479351520538] payload:john kasich>, <Interval3D t: [2912,2912] x: [0.625989437103271,0.784033179283142] y: [0.1861322671175,0.492548584938049] payload:john kasich>, <Interval3D t: [2915,2915] x: [0.644947290420532,0.80742073059082] y: [0.177832677960396,0.481009900569916] payload:john kasich>, <Interval3D t: [2918,2918] x: [0.656306505203247,0.807139873504639] y: [0.184984922409058,0.477902054786682] payload:john kasich>, <Interval3D t: [2921,2921] x: [0.656494498252869,0.80916041135788] y: [0.174120560288429,0.468688875436783] payload:john kasich>, <Interval3D t: [2924,2924] x: [0.65861976146698,0.810921967029572] y: [0.178939670324326,0.473331958055496] payload:john kasich>, <Interval3D t: [2927,2927] x: [0.685007870197296,0.834334194660187] y: [0.173313468694687,0.4830322265625] payload:john kasich>, <Interval3D t: [2930,2930] x: [0.687219440937042,0.837002754211426] y: [0.166470900177956,0.46506130695343] payload:john kasich>, <Interval3D t: [2933,2933] x: [0.68703830242157,0.836584806442261] y: [0.165494456887245,0.470294445753098] payload:john kasich>, <Interval3D t: [2936,2936] x: [0.410208761692047,0.628903210163116] y: [0.126189589500427,0.557116568088531] payload:john kasich>, <Interval3D t: [2939,2939] x: [0.684170067310333,0.834007143974304] y: [0.162920027971268,0.461394101381302] payload:john kasich>, <Interval3D t: [2942,2942] x: [0.678708732128143,0.829935908317566] y: [0.162375628948212,0.46633318066597] payload:john kasich>, <Interval3D t: [2945,2945] x: [0.698245465755463,0.844747304916382] y: [0.191400125622749,0.483636319637299] payload:john kasich>, <Interval3D t: [2948,2948] x: [0.656369507312775,0.81122213602066] y: [0.178358286619186,0.473360449075699] payload:john kasich>, <Interval3D t: [2954,2954] x: [0.689942538738251,0.84018486738205] y: [0.140743657946587,0.439832299947739] payload:john kasich>, <Interval3D t: [2957,2957] x: [0.412109673023224,0.640288710594177] y: [0.111977241933346,0.56362521648407] payload:john kasich>, <Interval3D t: [2960,2960] x: [0.400498956441879,0.625245809555054] y: [0.10781205445528,0.558233737945557] payload:john kasich>, <Interval3D t: [2963,2963] x: [0.400000780820847,0.626200139522552] y: [0.145128324627876,0.588362097740173] payload:john kasich>, <Interval3D t: [2966,2966] x: [0.396925777196884,0.60949033498764] y: [0.0912961140275002,0.508069038391113] payload:john kasich>, <Interval3D t: [2969,2969] x: [0.685625016689301,0.833743095397949] y: [0.184916570782661,0.475293129682541] payload:john kasich>, <Interval3D t: [2972,2972] x: [0.699800670146942,0.851079285144806] y: [0.192124098539352,0.486517906188965] payload:john kasich>]"
      ]
     },
     "execution_count": 20,
     "metadata": {},
     "output_type": "execute_result"
    }
   ],
   "source": [
    "people_to_intervals['john kasich'].get_allintervals()[188346]"
   ]
  },
  {
   "cell_type": "code",
   "execution_count": 38,
   "metadata": {
    "ExecuteTime": {
     "end_time": "2019-02-28T07:59:15.948107Z",
     "start_time": "2019-02-28T07:59:15.905449Z"
    }
   },
   "outputs": [
    {
     "data": {
      "text/plain": [
       "179.8201798201797"
      ]
     },
     "execution_count": 38,
     "metadata": {},
     "output_type": "execute_result"
    }
   ],
   "source": [
    "Video.objects.get(id=188346).fps * 3"
   ]
  },
  {
   "cell_type": "code",
   "execution_count": 37,
   "metadata": {
    "ExecuteTime": {
     "end_time": "2019-02-28T07:57:22.887515Z",
     "start_time": "2019-02-28T07:57:22.796263Z"
    }
   },
   "outputs": [
    {
     "name": "stderr",
     "output_type": "stream",
     "text": [
      "100%|████████████████████████████████████████████████████████████████████████████████████████████████████| 152/152 [00:00<00:00, 11377.02it/s]\n"
     ]
    },
    {
     "data": {
      "text/plain": [
       "{188346: [<Interval3D t: [2880,2880] x: [0.0729675069451332,0.340209662914276] y: [0.192048326134682,0.7034050822258] payload:john kasich>, <Interval3D t: [3060,3060] x: [0.0788620859384537,0.33420005440712] y: [0.200570270419121,0.697366416454315] payload:john kasich>, <Interval3D t: [3240,3240] x: [0.0818389803171158,0.335762768983841] y: [0.197350889444351,0.691627025604248] payload:john kasich>, <Interval3D t: [130860,130860] x: [0.397857904434204,0.620155453681946] y: [0.129200682044029,0.578142821788788] payload:john kasich>, <Interval3D t: [131040,131040] x: [0.408488303422928,0.63443648815155] y: [0.134875744581223,0.592679738998413] payload:john kasich>, <Interval3D t: [131220,131220] x: [0.395539820194244,0.619785845279694] y: [0.134044304490089,0.582561612129211] payload:john kasich>, <Interval3D t: [150120,150120] x: [0.39989972114563,0.629268884658813] y: [0.105802565813065,0.565721154212952] payload:john kasich>, <Interval3D t: [150300,150300] x: [0.685153722763062,0.837928771972656] y: [0.168197274208069,0.47207173705101] payload:john kasich>, <Interval3D t: [150480,150480] x: [0.686719596385956,0.841361165046692] y: [0.16288760304451,0.463534325361252] payload:john kasich>, <Interval3D t: [150660,150660] x: [0.682148933410645,0.83713561296463] y: [0.173841789364815,0.487755089998245] payload:john kasich>, <Interval3D t: [150840,150840] x: [0.671085357666016,0.821146368980408] y: [0.124356143176556,0.413998156785965] payload:john kasich>, <Interval3D t: [151020,151020] x: [0.6904336810112,0.845536410808563] y: [0.177687495946884,0.489777982234955] payload:john kasich>, <Interval3D t: [151200,151200] x: [0.678783059120178,0.830715119838715] y: [0.143331989645958,0.446289092302322] payload:john kasich>, <Interval3D t: [151380,151380] x: [0.6684650182724,0.818391859531403] y: [0.170726969838142,0.460534751415253] payload:john kasich>, <Interval3D t: [151560,151560] x: [0.701682209968567,0.848968207836151] y: [0.172197788953781,0.472751170396805] payload:john kasich>, <Interval3D t: [151740,151740] x: [0.400131821632385,0.619626343250275] y: [0.113802187144756,0.557594478130341] payload:john kasich>, <Interval3D t: [151920,151920] x: [0.423538953065872,0.648501038551331] y: [0.141103953123093,0.591451406478882] payload:john kasich>, <Interval3D t: [152100,152100] x: [0.420346587896347,0.642773747444153] y: [0.127265065908432,0.585228502750397] payload:john kasich>, <Interval3D t: [152280,152280] x: [0.366735398769379,0.603901922702789] y: [0.117861412465572,0.578942596912384] payload:john kasich>, <Interval3D t: [152460,152460] x: [0.797285437583923,0.950076460838318] y: [0.176184415817261,0.480598568916321] payload:john kasich>, <Interval3D t: [152640,152640] x: [0.755896151065826,0.916811108589172] y: [0.155863404273987,0.47218269109726] payload:john kasich>, <Interval3D t: [152820,152820] x: [0.754779636859894,0.902972519397736] y: [0.159816101193428,0.459867656230927] payload:john kasich>, <Interval3D t: [153000,153000] x: [0.784892022609711,0.94202047586441] y: [0.15982161462307,0.469094455242157] payload:john kasich>, <Interval3D t: [153180,153180] x: [0.789857864379883,0.941863536834717] y: [0.17976975440979,0.486486971378326] payload:john kasich>, <Interval3D t: [153360,153360] x: [0.776513934135437,0.93473219871521] y: [0.170110091567039,0.488967448472977] payload:john kasich>, <Interval3D t: [153540,153540] x: [0.768960893154144,0.918115556240082] y: [0.158824235200882,0.45581579208374] payload:john kasich>, <Interval3D t: [153720,153720] x: [0.753808915615082,0.915861427783966] y: [0.16434046626091,0.48009380698204] payload:john kasich>, <Interval3D t: [153900,153900] x: [0.379242926836014,0.59981495141983] y: [0.166575312614441,0.615112125873566] payload:john kasich>, <Interval3D t: [154080,154080] x: [0.640659332275391,0.811365485191345] y: [0.169496536254883,0.508905529975891] payload:john kasich>, <Interval3D t: [154260,154260] x: [0.40804722905159,0.628394782543182] y: [0.10435812920332,0.545862078666687] payload:john kasich>, <Interval3D t: [154440,154440] x: [0.398841232061386,0.625133097171783] y: [0.134223818778992,0.581102192401886] payload:john kasich>, <Interval3D t: [154620,154620] x: [0.376707196235657,0.605219900608063] y: [0.21112272143364,0.661578059196472] payload:john kasich>, <Interval3D t: [154800,154800] x: [0.373306542634964,0.613406658172607] y: [0.132819831371307,0.602463126182556] payload:john kasich>, <Interval3D t: [154980,154980] x: [0.384688645601273,0.623575270175934] y: [0.0991603061556816,0.575021803379059] payload:john kasich>, <Interval3D t: [155160,155160] x: [0.41266068816185,0.646999776363373] y: [0.106306083500385,0.584692895412445] payload:john kasich>, <Interval3D t: [155340,155340] x: [0.800100028514862,0.95805686712265] y: [0.181960672140121,0.500489711761475] payload:john kasich>, <Interval3D t: [155520,155520] x: [0.764105379581451,0.922738194465637] y: [0.135101929306984,0.446684658527374] payload:john kasich>, <Interval3D t: [155700,155700] x: [0.759250164031982,0.922854542732239] y: [0.142350256443024,0.454877585172653] payload:john kasich>, <Interval3D t: [155880,155880] x: [0.757479310035706,0.916261494159698] y: [0.165236681699753,0.478444308042526] payload:john kasich>, <Interval3D t: [156060,156060] x: [0.748054981231689,0.911319613456726] y: [0.145133227109909,0.464910477399826] payload:john kasich>, <Interval3D t: [156240,156240] x: [0.767563223838806,0.926627039909363] y: [0.191134288907051,0.513675332069397] payload:john kasich>, <Interval3D t: [156420,156420] x: [0.378975838422775,0.608722567558289] y: [0.0767868086695671,0.528623342514038] payload:john kasich>, <Interval3D t: [156600,156600] x: [0.658656477928162,0.819951951503754] y: [0.168859288096428,0.479330629110336] payload:john kasich>, <Interval3D t: [156780,156780] x: [0.694796621799469,0.848812580108643] y: [0.170581489801407,0.478465050458908] payload:john kasich>, <Interval3D t: [156960,156960] x: [0.68086051940918,0.832200407981873] y: [0.158335447311401,0.461071819067001] payload:john kasich>, <Interval3D t: [157140,157140] x: [0.676123321056366,0.830042958259583] y: [0.166908726096153,0.472360581159592] payload:john kasich>, <Interval3D t: [157320,157320] x: [0.677968144416809,0.827954828739166] y: [0.171502202749252,0.476887702941895] payload:john kasich>, <Interval3D t: [157500,157500] x: [0.668532609939575,0.82575660943985] y: [0.154091820120811,0.473713636398315] payload:john kasich>, <Interval3D t: [157680,157680] x: [0.695114254951477,0.849085211753845] y: [0.185879588127136,0.489391624927521] payload:john kasich>, <Interval3D t: [157860,157860] x: [0.389953851699829,0.618078589439392] y: [0.126970037817955,0.583727180957794] payload:john kasich>, <Interval3D t: [158040,158040] x: [0.353595465421677,0.586614906787872] y: [0.127392396330833,0.57697069644928] payload:john kasich>, <Interval3D t: [158220,158220] x: [0.352680206298828,0.58584463596344] y: [0.0889131054282188,0.551218092441559] payload:john kasich>, <Interval3D t: [158400,158400] x: [0.394748419523239,0.627485156059265] y: [0.154351621866226,0.612376868724823] payload:john kasich>, <Interval3D t: [158580,158580] x: [0.337358981370926,0.584173738956451] y: [0.142121285200119,0.635404527187347] payload:john kasich>, <Interval3D t: [158760,158760] x: [0.656491160392761,0.817021191120148] y: [0.158277869224548,0.473099797964096] payload:john kasich>, <Interval3D t: [158940,158940] x: [0.680259168148041,0.83247184753418] y: [0.171463042497635,0.473975569009781] payload:john kasich>, <Interval3D t: [159120,159120] x: [0.666649639606476,0.819671213626862] y: [0.146172374486923,0.450708419084549] payload:john kasich>, <Interval3D t: [159300,159300] x: [0.705585479736328,0.855575382709503] y: [0.143207207322121,0.440059065818787] payload:john kasich>, <Interval3D t: [159480,159480] x: [0.709396958351135,0.859933972358704] y: [0.153920873999596,0.450356215238571] payload:john kasich>, <Interval3D t: [159660,159660] x: [0.638108730316162,0.79615306854248] y: [0.138498976826668,0.43944638967514] payload:john kasich>, <Interval3D t: [159840,159840] x: [0.642370820045471,0.806343615055084] y: [0.171145007014275,0.510659337043762] payload:john kasich>, <Interval3D t: [160020,160020] x: [0.658903479576111,0.824135065078735] y: [0.16938516497612,0.503505706787109] payload:john kasich>, <Interval3D t: [160200,160200] x: [0.685876965522766,0.827751338481903] y: [0.13583692908287,0.413314312696457] payload:john kasich>, <Interval3D t: [160380,160380] x: [0.351992040872574,0.580177843570709] y: [0.148496359586716,0.590631008148193] payload:john kasich>, <Interval3D t: [160560,160560] x: [0.428885042667389,0.645274102687836] y: [0.0903244465589523,0.525144457817078] payload:john kasich>, <Interval3D t: [160740,160740] x: [0.366699576377869,0.60938823223114] y: [0.149050429463387,0.623319864273071] payload:john kasich>, <Interval3D t: [160920,160920] x: [0.384333580732346,0.624553442001343] y: [0.126657158136368,0.608757138252258] payload:john kasich>, <Interval3D t: [161100,161100] x: [0.377365082502365,0.610157370567322] y: [0.126504838466644,0.592640578746796] payload:john kasich>, <Interval3D t: [161280,161280] x: [0.404459297657013,0.639737546443939] y: [0.131684392690659,0.604300796985626] payload:john kasich>, <Interval3D t: [161460,161460] x: [0.386629730463028,0.624682784080505] y: [0.0850300714373589,0.57112193107605] payload:john kasich>, <Interval3D t: [161640,161640] x: [0.387832939624786,0.624096751213074] y: [0.110430061817169,0.588193595409393] payload:john kasich>, <Interval3D t: [161820,161820] x: [0.411482661962509,0.657353937625885] y: [0.136460140347481,0.626704037189484] payload:john kasich>, <Interval3D t: [162000,162000] x: [0.37100014090538,0.606465041637421] y: [0.113945923745632,0.586301982402802] payload:john kasich>, <Interval3D t: [162180,162180] x: [0.450161993503571,0.687334895133972] y: [0.126246362924576,0.60734748840332] payload:john kasich>, <Interval3D t: [162360,162360] x: [0.35290202498436,0.603494346141815] y: [0.10990796983242,0.592177152633667] payload:john kasich>, <Interval3D t: [162540,162540] x: [0.415940165519714,0.64600658416748] y: [0.0887465626001358,0.554493248462677] payload:john kasich>, <Interval3D t: [163440,163440] x: [0.695900499820709,0.854472875595093] y: [0.19512465596199,0.504633963108063] payload:john kasich>, <Interval3D t: [163620,163620] x: [0.694536745548248,0.845588386058807] y: [0.173891559243202,0.470939606428146] payload:john kasich>, <Interval3D t: [163800,163800] x: [0.693570017814636,0.843944370746613] y: [0.159769773483276,0.459475427865982] payload:john kasich>, <Interval3D t: [163980,163980] x: [0.690613508224487,0.843192398548126] y: [0.158160477876663,0.462003946304321] payload:john kasich>, <Interval3D t: [164160,164160] x: [0.696542024612427,0.846290171146393] y: [0.164828404784203,0.463260501623154] payload:john kasich>, <Interval3D t: [164340,164340] x: [0.695172429084778,0.845269501209259] y: [0.168859913945198,0.470588386058807] payload:john kasich>, <Interval3D t: [164520,164520] x: [0.695075631141663,0.844723403453827] y: [0.16829326748848,0.470572531223297] payload:john kasich>, <Interval3D t: [165780,165780] x: [0.69103729724884,0.841225266456604] y: [0.179776415228844,0.482972860336304] payload:john kasich>, <Interval3D t: [165960,165960] x: [0.656704962253571,0.809234142303467] y: [0.198618620634079,0.499669134616852] payload:john kasich>, <Interval3D t: [166140,166140] x: [0.695618391036987,0.853392541408539] y: [0.172248259186745,0.4906145632267] payload:john kasich>, <Interval3D t: [166320,166320] x: [0.684956550598145,0.835736513137817] y: [0.167512357234955,0.47444611787796] payload:john kasich>, <Interval3D t: [166500,166500] x: [0.405094146728516,0.63665646314621] y: [0.116406083106995,0.576031386852264] payload:john kasich>, <Interval3D t: [166680,166680] x: [0.415945291519165,0.633245050907135] y: [0.13889017701149,0.582364201545715] payload:john kasich>, <Interval3D t: [166860,166860] x: [0.681078732013702,0.833992600440979] y: [0.150257304310799,0.460740923881531] payload:john kasich>, <Interval3D t: [167040,167040] x: [0.654973387718201,0.826823472976685] y: [0.139239251613617,0.474589020013809] payload:john kasich>, <Interval3D t: [167220,167220] x: [0.649727821350098,0.80389142036438] y: [0.140053555369377,0.448594301939011] payload:john kasich>, <Interval3D t: [167400,167400] x: [0.670658349990845,0.826830923557281] y: [0.14729905128479,0.448787659406662] payload:john kasich>, <Interval3D t: [167580,167580] x: [0.692679822444916,0.852740347385406] y: [0.164496049284935,0.490922600030899] payload:john kasich>, <Interval3D t: [167760,167760] x: [0.699153900146484,0.854745030403137] y: [0.178459823131561,0.491237163543701] payload:john kasich>, <Interval3D t: [167940,167940] x: [0.671746432781219,0.832995891571045] y: [0.135687872767448,0.456861853599548] payload:john kasich>, <Interval3D t: [168120,168120] x: [0.665165662765503,0.823196113109589] y: [0.138116270303726,0.452491104602814] payload:john kasich>, <Interval3D t: [168300,168300] x: [0.640432476997375,0.799801588058472] y: [0.229948073625565,0.543389737606049] payload:john kasich>, <Interval3D t: [168480,168480] x: [0.630880355834961,0.79031229019165] y: [0.174295946955681,0.487692564725876] payload:john kasich>, <Interval3D t: [168660,168660] x: [0.641894102096558,0.805950820446014] y: [0.182905897498131,0.502489805221558] payload:john kasich>, <Interval3D t: [168840,168840] x: [0.701937437057495,0.865834593772888] y: [0.15168260037899,0.476267784833908] payload:john kasich>, <Interval3D t: [169020,169020] x: [0.682150602340698,0.841780304908752] y: [0.174134433269501,0.498050630092621] payload:john kasich>, <Interval3D t: [169200,169200] x: [0.664945125579834,0.830360054969788] y: [0.150129020214081,0.473464339971542] payload:john kasich>, <Interval3D t: [169380,169380] x: [0.662265598773956,0.826016962528229] y: [0.165836289525032,0.476623386144638] payload:john kasich>, <Interval3D t: [169560,169560] x: [0.686413168907166,0.835460007190704] y: [0.186660841107368,0.486751466989517] payload:john kasich>, <Interval3D t: [169740,169740] x: [0.678070068359375,0.822977006435394] y: [0.164756700396538,0.450513511896133] payload:john kasich>, <Interval3D t: [169920,169920] x: [0.690897107124329,0.84431517124176] y: [0.192651346325874,0.493600904941559] payload:john kasich>, <Interval3D t: [170100,170100] x: [0.680451035499573,0.83215856552124] y: [0.17080719769001,0.475669503211975] payload:john kasich>, <Interval3D t: [170280,170280] x: [0.679636597633362,0.833442449569702] y: [0.178411036729813,0.486897945404053] payload:john kasich>, <Interval3D t: [170460,170460] x: [0.655334830284119,0.811841726303101] y: [0.181047335267067,0.488316625356674] payload:john kasich>, <Interval3D t: [170640,170640] x: [0.669465780258179,0.837144494056702] y: [0.209611758589745,0.545212864875793] payload:john kasich>, <Interval3D t: [170820,170820] x: [0.449076473712921,0.686103999614716] y: [0.139821216464043,0.616327702999115] payload:john kasich>, <Interval3D t: [171000,171000] x: [0.35338220000267,0.58622145652771] y: [0.0724271535873413,0.518097341060638] payload:john kasich>, <Interval3D t: [171180,171180] x: [0.435934573411942,0.671448707580566] y: [0.112487703561783,0.58092725276947] payload:john kasich>, <Interval3D t: [171360,171360] x: [0.330017656087875,0.570352256298065] y: [0.10401713848114,0.562691867351532] payload:john kasich>, <Interval3D t: [171540,171540] x: [0.343466013669968,0.581717252731323] y: [0.124402247369289,0.591330766677856] payload:john kasich>, <Interval3D t: [171720,171720] x: [0.424270659685135,0.659143507480621] y: [0.115051664412022,0.586518049240112] payload:john kasich>, <Interval3D t: [171900,171900] x: [0.377573072910309,0.607649624347687] y: [0.129897743463516,0.593937814235687] payload:john kasich>, <Interval3D t: [172080,172080] x: [0.318724066019058,0.548437595367432] y: [0.086787536740303,0.561475455760956] payload:john kasich>, <Interval3D t: [172260,172260] x: [0.335848361253738,0.57724517583847] y: [0.0866084024310112,0.561154007911682] payload:john kasich>, <Interval3D t: [172440,172440] x: [0.405433386564255,0.653133749961853] y: [0.120786264538765,0.608035564422607] payload:john kasich>, <Interval3D t: [172620,172620] x: [0.411553889513016,0.640438139438629] y: [0.140519008040428,0.59570586681366] payload:john kasich>, <Interval3D t: [172800,172800] x: [0.669086694717407,0.826505899429321] y: [0.179666876792908,0.500562012195587] payload:john kasich>, <Interval3D t: [172980,172980] x: [0.651600897312164,0.812520205974579] y: [0.176415160298347,0.488054901361465] payload:john kasich>, <Interval3D t: [173160,173160] x: [0.655609846115112,0.811085939407349] y: [0.123368218541145,0.435787439346313] payload:john kasich>, <Interval3D t: [173340,173340] x: [0.669887959957123,0.833434402942657] y: [0.202867075800896,0.533229053020477] payload:john kasich>, <Interval3D t: [173520,173520] x: [0.669558107852936,0.828690886497498] y: [0.175007864832878,0.484232246875763] payload:john kasich>, <Interval3D t: [173700,173700] x: [0.661072909832001,0.81888622045517] y: [0.174081057310104,0.480559676885605] payload:john kasich>, <Interval3D t: [173880,173880] x: [0.650019228458405,0.784948229789734] y: [0.145215854048729,0.397885352373123] payload:john kasich>, <Interval3D t: [174060,174060] x: [0.676689207553864,0.832253158092499] y: [0.166957661509514,0.47551417350769] payload:john kasich>, <Interval3D t: [174240,174240] x: [0.673619508743286,0.821033775806427] y: [0.162997767329216,0.448794275522232] payload:john kasich>, <Interval3D t: [174420,174420] x: [0.672080755233765,0.827281177043915] y: [0.162969008088112,0.476479351520538] payload:john kasich>, <Interval3D t: [174600,174600] x: [0.625989437103271,0.784033179283142] y: [0.1861322671175,0.492548584938049] payload:john kasich>, <Interval3D t: [174780,174780] x: [0.644947290420532,0.80742073059082] y: [0.177832677960396,0.481009900569916] payload:john kasich>, <Interval3D t: [174960,174960] x: [0.656306505203247,0.807139873504639] y: [0.184984922409058,0.477902054786682] payload:john kasich>, <Interval3D t: [175140,175140] x: [0.656494498252869,0.80916041135788] y: [0.174120560288429,0.468688875436783] payload:john kasich>, <Interval3D t: [175320,175320] x: [0.65861976146698,0.810921967029572] y: [0.178939670324326,0.473331958055496] payload:john kasich>, <Interval3D t: [175500,175500] x: [0.685007870197296,0.834334194660187] y: [0.173313468694687,0.4830322265625] payload:john kasich>, <Interval3D t: [175680,175680] x: [0.687219440937042,0.837002754211426] y: [0.166470900177956,0.46506130695343] payload:john kasich>, <Interval3D t: [175860,175860] x: [0.68703830242157,0.836584806442261] y: [0.165494456887245,0.470294445753098] payload:john kasich>, <Interval3D t: [176040,176040] x: [0.410208761692047,0.628903210163116] y: [0.126189589500427,0.557116568088531] payload:john kasich>, <Interval3D t: [176220,176220] x: [0.684170067310333,0.834007143974304] y: [0.162920027971268,0.461394101381302] payload:john kasich>, <Interval3D t: [176400,176400] x: [0.678708732128143,0.829935908317566] y: [0.162375628948212,0.46633318066597] payload:john kasich>, <Interval3D t: [176580,176580] x: [0.698245465755463,0.844747304916382] y: [0.191400125622749,0.483636319637299] payload:john kasich>, <Interval3D t: [176760,176760] x: [0.656369507312775,0.81122213602066] y: [0.178358286619186,0.473360449075699] payload:john kasich>, <Interval3D t: [177120,177120] x: [0.689942538738251,0.84018486738205] y: [0.140743657946587,0.439832299947739] payload:john kasich>, <Interval3D t: [177300,177300] x: [0.412109673023224,0.640288710594177] y: [0.111977241933346,0.56362521648407] payload:john kasich>, <Interval3D t: [177480,177480] x: [0.400498956441879,0.625245809555054] y: [0.10781205445528,0.558233737945557] payload:john kasich>, <Interval3D t: [177660,177660] x: [0.400000780820847,0.626200139522552] y: [0.145128324627876,0.588362097740173] payload:john kasich>, <Interval3D t: [177840,177840] x: [0.396925777196884,0.60949033498764] y: [0.0912961140275002,0.508069038391113] payload:john kasich>, <Interval3D t: [178020,178020] x: [0.685625016689301,0.833743095397949] y: [0.184916570782661,0.475293129682541] payload:john kasich>, <Interval3D t: [178200,178200] x: [0.699800670146942,0.851079285144806] y: [0.192124098539352,0.486517906188965] payload:john kasich>]}"
      ]
     },
     "execution_count": 37,
     "metadata": {},
     "output_type": "execute_result"
    }
   ],
   "source": [
    "def get_person_intervals_in_vids_frames(person_names, vids, probability=0.7, min_height=None):\n",
    "    from query.models import FaceIdentity\n",
    "    from django.db.models import F,Q\n",
    "    from rekall.video_interval_collection_3d import VideoIntervalCollection3D\n",
    "    from rekall.interval_set_3d import Interval3D\n",
    "    from rekall.interval_set_3d_utils import P\n",
    "    \n",
    "    SAMPLE_RATE = 3 # Every 3s\n",
    "\n",
    "    lids = []\n",
    "    for n in person_names:\n",
    "        lids.extend(NAME_TO_LABELER_ID[n])\n",
    "    \n",
    "    face_id_qs = FaceIdentity.objects.filter(\n",
    "        probability__gte=probability,\n",
    "        face__frame__video_id__in=vids,\n",
    "        face__frame__shot_boundary=False,\n",
    "        labeler_id__in=lids,\n",
    "    ).annotate(\n",
    "        height=F('face__bbox_y2')-F('face__bbox_y1'),\n",
    "        labeler_name=F('labeler__name'),\n",
    "        video_id=F('face__frame__video_id'),\n",
    "        frame_number=F('face__frame__number'),\n",
    "        x1=F('face__bbox_x1'),\n",
    "        x2=F('face__bbox_x2'),\n",
    "        y1=F('face__bbox_y1'),\n",
    "        y2=F('face__bbox_y2'),\n",
    "    )\n",
    "    if min_height is not None:\n",
    "        face_id_qs = face_id_qs.filter(height__gte=min_height)\n",
    "    \n",
    "    total = face_id_qs.count()\n",
    "    faces = VideoIntervalCollection3D.from_django_qs(face_id_qs, {\n",
    "        't1':'frame_number',\n",
    "        't2':'frame_number',\n",
    "        'x1':'x1','x2':'x2','y1':'y1','y2':'y2',\n",
    "    }, with_payload=lambda row: row.labeler_name.split(':')[1], progress=True, total=total)\n",
    "\n",
    "    fps_map = get_fps_map(set(faces.get_allintervals().keys()))\n",
    "    names_to_collection = {}\n",
    "    for n in person_names:\n",
    "        faces_one_person = faces.filter(P(lambda p: p==n))\n",
    "        output = {}\n",
    "        for vid, intervals in faces_one_person.get_allintervals().items():\n",
    "            fps = fps_map[vid]\n",
    "            eps = fps * SAMPLE_RATE\n",
    "            output[vid] = intervals.temporal_coalesce(epsilon=eps)\n",
    "        names_to_collection[n] = VideoIntervalCollection3D(output)\n",
    "    return names_to_collection\n",
    "jk = get_person_intervals_in_vids_frames(['john kasich'], [188346], probability=0.7, min_height=0.2)\n",
    "jk['john kasich'].get_allintervals()\n"
   ]
  },
  {
   "cell_type": "code",
   "execution_count": 48,
   "metadata": {
    "ExecuteTime": {
     "end_time": "2019-02-28T08:58:16.863325Z",
     "start_time": "2019-02-28T08:58:16.834499Z"
    }
   },
   "outputs": [
    {
     "data": {
      "text/plain": [
       "19993"
      ]
     },
     "execution_count": 48,
     "metadata": {},
     "output_type": "execute_result"
    }
   ],
   "source": [
    "len(answer.get_allintervals())"
   ]
  },
  {
   "cell_type": "code",
   "execution_count": 63,
   "metadata": {
    "ExecuteTime": {
     "end_time": "2019-02-28T23:48:16.173384Z",
     "start_time": "2019-02-28T23:48:16.141768Z"
    }
   },
   "outputs": [
    {
     "data": {
      "text/plain": [
       "[<Interval3D t: [0,806] x: [0.223746836185455,0.827865302562714] y: [0.0735082924365997,0.860915839672089] payload:None>, <Interval3D t: [1012,1418] x: [0.307701647281647,0.850960731506348] y: [0.0436586663126945,0.62831038236618] payload:None>, <Interval3D t: [1564,2039] x: [0.146955773234367,0.816058754920959] y: [0.0312925614416599,0.677523672580719] payload:None>, <Interval3D t: [2374,2684] x: [0.301142513751984,0.828506946563721] y: [0.0507316179573536,0.71288126707077] payload:None>]"
      ]
     },
     "execution_count": 63,
     "metadata": {},
     "output_type": "execute_result"
    }
   ],
   "source": [
    "answer.get_allintervals()[42341].map_payload(lambda _:None)"
   ]
  },
  {
   "cell_type": "code",
   "execution_count": 67,
   "metadata": {
    "ExecuteTime": {
     "end_time": "2019-02-28T23:50:38.609842Z",
     "start_time": "2019-02-28T23:50:38.576733Z"
    }
   },
   "outputs": [
    {
     "data": {
      "text/plain": [
       "[<Interval3D t: [59,59] x: [0,1] y: [0,1] payload:(<Interval3D t: [53,59] x: [0.229259967803955,0.630282282829285] y: [0.141163095831871,0.5400550365448] payload:john kasich>, <Interval3D t: [59,59] x: [0.683390200138092,0.790294468402863] y: [0.151130720973015,0.352960616350174] payload:sean hannity>)>, <Interval3D t: [1899,1899] x: [0,1] y: [0,1] payload:(<Interval3D t: [1857,1911] x: [0.208225712180138,0.800987780094147] y: [0.0630991458892822,0.677523672580719] payload:john kasich>, <Interval3D t: [1899,1899] x: [0.63332986831665,0.748618006706238] y: [0.150466561317444,0.36908370256424] payload:sean hannity>)>]"
      ]
     },
     "execution_count": 67,
     "metadata": {},
     "output_type": "execute_result"
    }
   ],
   "source": [
    "answer.get_allintervals()[42341].split(lambda i:i.payload[2])"
   ]
  },
  {
   "cell_type": "code",
   "execution_count": 69,
   "metadata": {
    "ExecuteTime": {
     "end_time": "2019-02-28T23:56:59.836591Z",
     "start_time": "2019-02-28T23:56:59.800689Z"
    }
   },
   "outputs": [
    {
     "data": {
      "text/plain": [
       "20"
      ]
     },
     "execution_count": 69,
     "metadata": {},
     "output_type": "execute_result"
    }
   ],
   "source": [
    "len(vids)"
   ]
  },
  {
   "cell_type": "code",
   "execution_count": 96,
   "metadata": {
    "ExecuteTime": {
     "end_time": "2019-03-01T00:35:00.994867Z",
     "start_time": "2019-03-01T00:35:00.967232Z"
    }
   },
   "outputs": [
    {
     "data": {
      "text/plain": [
       "<VideoIntervalCollection3D videos=dict_keys([16403, 84507, 39707, 47207, 44307, 13002, 128907, 301, 45507, 188207, 46707, 42707, 12602, 78107])"
      ]
     },
     "execution_count": 96,
     "metadata": {},
     "output_type": "execute_result"
    }
   ],
   "source": [
    "keys = answer.get_allintervals().keys()\n",
    "[(k, answer.get_allintervals()[k].)]"
   ]
  },
  {
   "cell_type": "code",
   "execution_count": 107,
   "metadata": {
    "ExecuteTime": {
     "end_time": "2019-03-01T00:45:11.222317Z",
     "start_time": "2019-03-01T00:45:11.185658Z"
    }
   },
   "outputs": [
    {
     "data": {
      "text/plain": [
       "[<Interval3D t: [3237,3237] x: [0,1] y: [0,1] payload:None>, <Interval3D t: [3240,3240] x: [0,1] y: [0,1] payload:None>, <Interval3D t: [3255,3255] x: [0,1] y: [0,1] payload:None>, <Interval3D t: [3258,3258] x: [0,1] y: [0,1] payload:None>, <Interval3D t: [3273,3273] x: [0,1] y: [0,1] payload:None>, <Interval3D t: [3276,3276] x: [0,1] y: [0,1] payload:None>, <Interval3D t: [3294,3294] x: [0,1] y: [0,1] payload:None>, <Interval3D t: [3333,3333] x: [0,1] y: [0,1] payload:None>, <Interval3D t: [3336,3336] x: [0,1] y: [0,1] payload:None>, <Interval3D t: [3357,3357] x: [0,1] y: [0,1] payload:None>]"
      ]
     },
     "execution_count": 107,
     "metadata": {},
     "output_type": "execute_result"
    }
   ],
   "source": [
    "def discard(p):\n",
    "    return None\n",
    "frame_to_second_collection(answer).get_allintervals()[128907].map_payload(discard)"
   ]
  },
  {
   "cell_type": "code",
   "execution_count": null,
   "metadata": {},
   "outputs": [],
   "source": []
  }
 ],
 "metadata": {
  "kernelspec": {
   "display_name": "Django Shell-Plus",
   "language": "python",
   "name": "django_extensions"
  },
  "language_info": {
   "codemirror_mode": {
    "name": "ipython",
    "version": 3
   },
   "file_extension": ".py",
   "mimetype": "text/x-python",
   "name": "python",
   "nbconvert_exporter": "python",
   "pygments_lexer": "ipython3",
   "version": "3.5.2"
  },
  "toc": {
   "nav_menu": {},
   "number_sections": true,
   "sideBar": true,
   "skip_h1_title": false,
   "toc_cell": false,
   "toc_position": {},
   "toc_section_display": "block",
   "toc_window_display": false
  }
 },
 "nbformat": 4,
 "nbformat_minor": 2
}
