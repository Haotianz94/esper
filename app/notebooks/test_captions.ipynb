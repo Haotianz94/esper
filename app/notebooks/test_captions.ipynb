{
 "cells": [
  {
   "cell_type": "markdown",
   "metadata": {
    "toc": true
   },
   "source": [
    "<h1>Table of Contents<span class=\"tocSkip\"></span></h1>\n",
    "<div class=\"toc\" style=\"margin-top: 1em;\"><ul class=\"toc-item\"></ul></div>"
   ]
  },
  {
   "cell_type": "code",
   "execution_count": null,
   "metadata": {
    "ExecuteTime": {
     "end_time": "2018-12-21T00:03:32.011406Z",
     "start_time": "2018-12-21T00:00:59.470534Z"
    }
   },
   "outputs": [],
   "source": [
    "from esper.captions import topic_search, phrase_search, get_lowercase_segments"
   ]
  },
  {
   "cell_type": "code",
   "execution_count": null,
   "metadata": {
    "ExecuteTime": {
     "end_time": "2018-12-21T00:08:55.818835Z",
     "start_time": "2018-12-21T00:08:03.211906Z"
    }
   },
   "outputs": [],
   "source": [
    "result = topic_search(['TACO BELL'])\n",
    "count = 0\n",
    "for d in result:\n",
    "    count += 1\n",
    "print('Found in {} videos'.format(count))\n",
    "\n",
    "video_ids = [v.id for v in Video.objects.all()[:1000]]\n",
    "result = topic_search(['TACO BELL'], video_ids=video_ids)\n",
    "count = 0\n",
    "for d in result:\n",
    "    count += 1\n",
    "print('Found in {} videos (of {} ids)'.format(count, len(video_ids)))"
   ]
  },
  {
   "cell_type": "code",
   "execution_count": null,
   "metadata": {
    "ExecuteTime": {
     "end_time": "2018-12-21T00:08:55.903266Z",
     "start_time": "2018-12-21T00:08:55.822651Z"
    }
   },
   "outputs": [],
   "source": [
    "result = phrase_search('TACO BELL')\n",
    "count = 0\n",
    "for d in result:\n",
    "    count += 1\n",
    "print('Found in {} videos'.format(count))\n",
    "\n",
    "video_ids = [v.id for v in Video.objects.all()[:1000]]\n",
    "result = phrase_search('TACO BELL', video_ids=video_ids)\n",
    "count = 0\n",
    "for d in result:\n",
    "    count += 1\n",
    "print('Found in {} videos (of {} ids)'.format(count, len(video_ids)))"
   ]
  },
  {
   "cell_type": "code",
   "execution_count": null,
   "metadata": {
    "ExecuteTime": {
     "end_time": "2018-12-17T19:27:55.291000Z",
     "start_time": "2018-12-17T19:27:13.735758Z"
    },
    "scrolled": true
   },
   "outputs": [],
   "source": [
    "count = 0\n",
    "for document_id, lowercase_ranges in get_lowercase_segments():\n",
    "    count += 1\n",
    "    if len(lowercase_ranges) > 0:\n",
    "        print('{} has {} lowercase ranges'.format(\n",
    "              document_id, len(lowercase_ranges)))\n",
    "print('checked {} documents'.format(count))"
   ]
  },
  {
   "cell_type": "code",
   "execution_count": null,
   "metadata": {},
   "outputs": [],
   "source": []
  }
 ],
 "metadata": {
  "kernelspec": {
   "display_name": "Django Shell-Plus",
   "language": "python",
   "name": "django_extensions"
  },
  "language_info": {
   "codemirror_mode": {
    "name": "ipython",
    "version": 3
   },
   "file_extension": ".py",
   "mimetype": "text/x-python",
   "name": "python",
   "nbconvert_exporter": "python",
   "pygments_lexer": "ipython3",
   "version": "3.5.2"
  },
  "toc": {
   "nav_menu": {},
   "number_sections": true,
   "sideBar": false,
   "skip_h1_title": false,
   "toc_cell": true,
   "toc_position": {},
   "toc_section_display": "block",
   "toc_window_display": false
  }
 },
 "nbformat": 4,
 "nbformat_minor": 2
}
