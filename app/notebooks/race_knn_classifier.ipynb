{
 "cells": [
  {
   "cell_type": "code",
   "execution_count": null,
   "metadata": {
    "ExecuteTime": {
     "end_time": "2019-03-11T02:23:30.118228Z",
     "start_time": "2019-03-11T02:23:20.760910Z"
    }
   },
   "outputs": [],
   "source": [
    "import os\n",
    "import json\n",
    "import itertools\n",
    "import random\n",
    "from collections import Counter\n",
    "from tqdm import tqdm\n",
    "\n",
    "from sklearn.metrics import accuracy_score, confusion_matrix, f1_score\n",
    "import matplotlib.pyplot as plt\n",
    "\n",
    "from esper.widget import *\n",
    "import esper.face_embeddings as face_embeddings\n",
    "\n",
    "def query_faces(ids):\n",
    "    faces = Face.objects.filter(id__in=ids)\n",
    "    return faces.values(\n",
    "        'id', 'bbox_y1', 'bbox_y2', 'bbox_x1', 'bbox_x2',\n",
    "        'frame__number', 'frame__video__id', 'frame__video__fps',\n",
    "        'shot__min_frame', 'shot__max_frame')\n",
    "\n",
    "def query_faces_result(faces, expand_bbox=0.05):\n",
    "    \"\"\"Replaces qs_to_result\"\"\"\n",
    "    result = []\n",
    "    for face in faces:\n",
    "        if (face.get('shot__min_frame') is not None and\n",
    "                face.get('shot__max_frame') is not None):\n",
    "            min_frame = int(\n",
    "                (face['shot__min_frame'] +\n",
    "                 face['shot__max_frame']) / 2)\n",
    "        else:\n",
    "            min_frame = face['frame__number']\n",
    "        face_result = {\n",
    "            'type': 'flat', 'label': '',\n",
    "            'elements': [{\n",
    "                'objects': [{\n",
    "                    'id': face['id'],\n",
    "                    'background': False,\n",
    "                    'type': 'bbox',\n",
    "                    'bbox_y1': max(face['bbox_y1'] - expand_bbox, 0),\n",
    "                    'bbox_y2': min(face['bbox_y2'] + expand_bbox, 1),\n",
    "                    'bbox_x1': max(face['bbox_x1'] - expand_bbox, 0),\n",
    "                    'bbox_x2': min(face['bbox_x2'] + expand_bbox, 1),\n",
    "                }],\n",
    "                'min_frame': min_frame,\n",
    "                'video': face['frame__video__id']\n",
    "            }]\n",
    "        }\n",
    "        result.append(face_result)\n",
    "    return {'type': 'Face', 'count': 0, 'result': result}\n",
    "\n",
    "def plot_confusion_matrix(y_truth, y_pred, normalize=True):\n",
    "    cm = confusion_matrix(y_truth, y_pred)\n",
    "\n",
    "    if normalize:\n",
    "        cm = cm.astype('float') / cm.sum(axis=1)[:, np.newaxis]\n",
    "\n",
    "    classes = ['Non-black', 'Black']\n",
    "    plt.figure(figsize=(5, 5))\n",
    "    plt.imshow(cm, interpolation='nearest', cmap=plt.cm.Reds)\n",
    "    plt.title('Black vs. non-black confusion matrix')\n",
    "    plt.colorbar()\n",
    "    tick_marks = np.arange(len(classes))\n",
    "    plt.xticks(tick_marks, classes, rotation=45)\n",
    "    plt.yticks(tick_marks, classes)\n",
    "\n",
    "    fmt = '.2f' if normalize else 'd'\n",
    "    thresh = cm.max() / 2.\n",
    "    for i, j in itertools.product(range(cm.shape[0]), range(cm.shape[1])):\n",
    "        plt.text(j, i, format(cm[i, j], fmt),\n",
    "                 horizontalalignment=\"center\",\n",
    "                 color=\"white\" if cm[i, j] > thresh else \"black\")\n",
    "\n",
    "    plt.ylabel('Hand label')\n",
    "    plt.xlabel('Predicted label')\n",
    "    plt.tight_layout()\n",
    "    plt.show()\n",
    "\n",
    "def print_pred_dist(pred):\n",
    "    n = len(pred)\n",
    "    counts = Counter([t[1] for t in pred])\n",
    "    for k in sorted(counts):\n",
    "        print('', '{:0.2f}'.format(k), counts[k] / n)"
   ]
  },
  {
   "cell_type": "code",
   "execution_count": null,
   "metadata": {
    "ExecuteTime": {
     "end_time": "2019-03-11T02:23:30.162471Z",
     "start_time": "2019-03-11T02:23:30.121897Z"
    }
   },
   "outputs": [],
   "source": [
    "with open('/app/data/black.1k.random.json') as f:\n",
    "    hand_labels_train = {int(k): int(v) for k, v in json.load(f).items()}\n",
    "train_ids = [i for i in hand_labels_train]\n",
    "train_y = [hand_labels_train[i] for i in train_ids]\n",
    "del hand_labels_train\n",
    "    \n",
    "with open('/app/data/black.250.random.json') as f:\n",
    "    hand_labels_test = {int(k): int(v) for k, v in json.load(f).items()}\n",
    "test_ids = [i for i in hand_labels_test]\n",
    "test_y = [hand_labels_test[i] for i in test_ids]\n",
    "del hand_labels_test"
   ]
  },
  {
   "cell_type": "code",
   "execution_count": null,
   "metadata": {
    "ExecuteTime": {
     "end_time": "2019-03-11T02:23:34.617494Z",
     "start_time": "2019-03-11T02:23:30.164858Z"
    },
    "scrolled": false
   },
   "outputs": [],
   "source": [
    "PRED_THRESHOLD = 0.3\n",
    "K = 15\n",
    "\n",
    "test_pred_r = face_embeddings.knn_predict(\n",
    "    train_ids, train_y, k=K, ids=test_ids)\n",
    "test_pred_d = {k: 0 if v < PRED_THRESHOLD else 1\n",
    "               for k, v in test_pred_r}\n",
    "test_pred = [test_pred_d[i] for i in test_ids]\n",
    "\n",
    "train_pred_r = face_embeddings.knn_predict(\n",
    "    train_ids, train_y, k=K, ids=train_ids)\n",
    "train_pred_d = {k: 0 if v < PRED_THRESHOLD else 1\n",
    "                for k, v in train_pred_r}\n",
    "train_pred = [train_pred_d[i] for i in train_ids]\n",
    "\n",
    "print('Train pred dist:')\n",
    "print_pred_dist(train_pred_r)\n",
    "print('Train accuracy:', accuracy_score(train_y, train_pred))\n",
    "print('Train f1-score:', f1_score(train_y, train_pred))\n",
    "print('Non-normalized train confusion matrix:')\n",
    "plot_confusion_matrix(train_y, train_pred, False)\n",
    "print('Normalized train confusion matrix:')\n",
    "plot_confusion_matrix(train_y, train_pred)\n",
    "\n",
    "print('Test pred dist:')\n",
    "print_pred_dist(test_pred_r)\n",
    "print('Test accuracy:', accuracy_score(test_y, test_pred))\n",
    "print('Test f1-score:', f1_score(test_y, test_pred))\n",
    "print('Non-normalized test confusion matrix:')\n",
    "plot_confusion_matrix(test_y, test_pred, False)\n",
    "print('Normalized test confusion matrix:')\n",
    "plot_confusion_matrix(test_y, test_pred)"
   ]
  },
  {
   "cell_type": "markdown",
   "metadata": {},
   "source": [
    "# False Positives"
   ]
  },
  {
   "cell_type": "code",
   "execution_count": null,
   "metadata": {
    "ExecuteTime": {
     "end_time": "2019-03-10T02:51:49.260926Z",
     "start_time": "2019-03-10T02:51:49.128608Z"
    }
   },
   "outputs": [],
   "source": [
    "# data_iter = zip(test_ids, test_pred, test_y)\n",
    "data_iter = zip(train_ids, train_pred, train_y)\n",
    "\n",
    "fp_ids = [i for i, y_pred, y_true in data_iter\n",
    "          if y_pred == 1 and y_true == 0]\n",
    "fp_faces = query_faces(fp_ids)\n",
    "fp_widget = esper_widget(query_faces_result(fp_faces))\n",
    "fp_widget"
   ]
  },
  {
   "cell_type": "code",
   "execution_count": null,
   "metadata": {
    "ExecuteTime": {
     "end_time": "2019-03-10T02:51:49.452808Z",
     "start_time": "2019-03-10T02:51:49.427775Z"
    }
   },
   "outputs": [],
   "source": [
    "fp_selected = [fp_faces[i]['id'] for i in fp_widget.selected]\n",
    "fp_selected"
   ]
  },
  {
   "cell_type": "markdown",
   "metadata": {},
   "source": [
    "# False Negative"
   ]
  },
  {
   "cell_type": "code",
   "execution_count": null,
   "metadata": {
    "ExecuteTime": {
     "end_time": "2019-03-10T02:51:50.688109Z",
     "start_time": "2019-03-10T02:51:50.570201Z"
    },
    "scrolled": false
   },
   "outputs": [],
   "source": [
    "# data_iter = zip(test_ids, test_pred, test_y)\n",
    "data_iter = zip(train_ids, train_pred, train_y)\n",
    "\n",
    "fn_ids = [i for i, y_pred, y_true in data_iter\n",
    "          if y_pred == 0 and y_true == 1]\n",
    "fn_faces = query_faces(fn_ids)\n",
    "fn_widget = esper_widget(query_faces_result(fn_faces))\n",
    "fn_widget"
   ]
  },
  {
   "cell_type": "code",
   "execution_count": null,
   "metadata": {
    "ExecuteTime": {
     "end_time": "2019-03-10T02:51:51.334684Z",
     "start_time": "2019-03-10T02:51:51.308058Z"
    }
   },
   "outputs": [],
   "source": [
    "fn_selected = [fn_faces[i]['id'] for i in fn_widget.selected]\n",
    "fn_selected"
   ]
  },
  {
   "cell_type": "code",
   "execution_count": null,
   "metadata": {},
   "outputs": [],
   "source": []
  },
  {
   "cell_type": "markdown",
   "metadata": {},
   "source": [
    "# Run KNN on Entire Dataset"
   ]
  },
  {
   "cell_type": "code",
   "execution_count": null,
   "metadata": {
    "ExecuteTime": {
     "end_time": "2019-03-11T02:28:01.962744Z",
     "start_time": "2019-03-11T02:28:01.941251Z"
    }
   },
   "outputs": [],
   "source": [
    "RACE_PRED_DIR = '/app/data/race_pred/'\n",
    "if not os.path.exists(RACE_PRED_DIR):\n",
    "    os.makedirs(RACE_PRED_DIR)"
   ]
  },
  {
   "cell_type": "code",
   "execution_count": null,
   "metadata": {
    "ExecuteTime": {
     "end_time": "2019-03-11T02:28:06.092383Z",
     "start_time": "2019-03-11T02:28:05.991817Z"
    },
    "scrolled": true
   },
   "outputs": [],
   "source": [
    "batch_size = 100000\n",
    "max_idx = face_embeddings.count()\n",
    "max_face_id = face_embeddings.ids(max_idx - 1, 1)[0]\n",
    "# print('Max face id:', max_face_id)\n",
    "for i in tqdm(range(0, max_face_id, batch_size)):\n",
    "    batch_path = os.path.join(RACE_PRED_DIR, '{}.json'.format(i))\n",
    "    if not os.path.exists(batch_path):\n",
    "        batch_face_ids = list(range(i, i + batch_size))\n",
    "        batch_face_ids = [\n",
    "            a for a, b in zip(batch_face_ids, face_embeddings.exists(batch_face_ids))\n",
    "            if b == True\n",
    "        ]\n",
    "        batch_pred = face_embeddings.knn_predict(\n",
    "            train_ids, train_y, k=15, ids=batch_face_ids)\n",
    "        with open(batch_path, 'w') as f:\n",
    "            json.dump(batch_pred, f)"
   ]
  },
  {
   "cell_type": "code",
   "execution_count": null,
   "metadata": {},
   "outputs": [],
   "source": []
  },
  {
   "cell_type": "markdown",
   "metadata": {},
   "source": [
    "# Collapse into a single file"
   ]
  },
  {
   "cell_type": "code",
   "execution_count": null,
   "metadata": {
    "ExecuteTime": {
     "end_time": "2019-03-11T04:22:33.405660Z",
     "start_time": "2019-03-11T02:59:55.666861Z"
    },
    "scrolled": true
   },
   "outputs": [],
   "source": [
    "MIN_SCORE_THRESHOLD = 0\n",
    "\n",
    "with open('/app/data/black_face_ids.csv', 'w') as out_f:\n",
    "    out_f.write('face_id,score\\n')\n",
    "    count = 0\n",
    "    for batch_file in tqdm(os.listdir(RACE_PRED_DIR)):\n",
    "        batch_path = os.path.join(RACE_PRED_DIR, batch_file)\n",
    "        with open(batch_path) as batch_f:\n",
    "            batch_pred = json.load(batch_f)\n",
    "            for a, b in batch_pred:\n",
    "                if b > MIN_SCORE_THRESHOLD:\n",
    "                    out_f.write('{},{}\\n'.format(a, round(b, 2)))\n",
    "                    count += 1\n",
    "    print('Wrote {} labels'.format(count))\n",
    "                    "
   ]
  },
  {
   "cell_type": "code",
   "execution_count": null,
   "metadata": {},
   "outputs": [],
   "source": []
  }
 ],
 "metadata": {
  "kernelspec": {
   "display_name": "Django Shell-Plus",
   "language": "python",
   "name": "django_extensions"
  },
  "language_info": {
   "codemirror_mode": {
    "name": "ipython",
    "version": 3
   },
   "file_extension": ".py",
   "mimetype": "text/x-python",
   "name": "python",
   "nbconvert_exporter": "python",
   "pygments_lexer": "ipython3",
   "version": "3.5.2"
  },
  "toc": {
   "nav_menu": {},
   "number_sections": true,
   "sideBar": true,
   "skip_h1_title": false,
   "toc_cell": false,
   "toc_position": {},
   "toc_section_display": "block",
   "toc_window_display": false
  }
 },
 "nbformat": 4,
 "nbformat_minor": 2
}
