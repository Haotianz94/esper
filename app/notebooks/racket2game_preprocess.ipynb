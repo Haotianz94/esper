{
 "cells": [
  {
   "cell_type": "code",
   "execution_count": null,
   "metadata": {
    "ExecuteTime": {
     "end_time": "2019-10-06T22:15:54.782951Z",
     "start_time": "2019-10-06T22:15:54.714223Z"
    }
   },
   "outputs": [],
   "source": [
    "from query.models import Video\n",
    "from esper.prelude import *\n",
    "import cv2\n",
    "import os\n",
    "import datetime"
   ]
  },
  {
   "cell_type": "markdown",
   "metadata": {},
   "source": [
    "# Import videos"
   ]
  },
  {
   "cell_type": "code",
   "execution_count": null,
   "metadata": {
    "ExecuteTime": {
     "end_time": "2019-10-05T05:11:55.675005Z",
     "start_time": "2019-10-05T05:11:55.661729Z"
    }
   },
   "outputs": [],
   "source": [
    "def import_video(path):\n",
    "    cap = cv2.VideoCapture(path)\n",
    "    num_frames = int(cap.get(cv2.CAP_PROP_FRAME_COUNT))\n",
    "    width = int(cap.get(cv2.CAP_PROP_FRAME_WIDTH))\n",
    "    height = int(cap.get(cv2.CAP_PROP_FRAME_HEIGHT))\n",
    "    fps = cap.get(cv2.CAP_PROP_FPS)\n",
    "    if 'CS' in path:\n",
    "        m, d, y = path.split('_')[2:5]\n",
    "        time = datetime.datetime(int(y), int(m), int(d))\n",
    "    else:\n",
    "        time = datetime.datetime(int(2019), int(1), int(1))\n",
    "    print(path, num_frames, fps, width, height, time)\n",
    "    Video(path=path, num_frames=num_frames, fps=fps, width=width, height=height, time=time).save()\n",
    "    return Video.objects.filter(path=path)[0]\n",
    "\n",
    "def import_frame(video):\n",
    "    Frame.objects.bulk_create([Frame(number=i, video=video) for i in range(video.num_frames)])"
   ]
  },
  {
   "cell_type": "markdown",
   "metadata": {},
   "source": [
    "## From folder"
   ]
  },
  {
   "cell_type": "code",
   "execution_count": null,
   "metadata": {
    "ExecuteTime": {
     "end_time": "2019-03-03T23:53:45.141237Z",
     "start_time": "2019-03-03T23:53:25.870321Z"
    },
    "scrolled": true
   },
   "outputs": [],
   "source": [
    "for video_name in sorted(os.listdir('/app/data/videos/')):\n",
    "    if video_name[0] == '.':\n",
    "        continue\n",
    "    videos = Video.objects.filter(path__contains=video_name)\n",
    "    if len(videos) > 0:\n",
    "        continue\n",
    "    print(video_name)\n",
    "    video = import_video(os.path.join('/app/data/videos/', video_name))\n",
    "    import_frame(video)"
   ]
  },
  {
   "cell_type": "markdown",
   "metadata": {},
   "source": [
    "## Single video"
   ]
  },
  {
   "cell_type": "code",
   "execution_count": null,
   "metadata": {
    "ExecuteTime": {
     "end_time": "2019-10-05T05:12:07.653809Z",
     "start_time": "2019-10-05T05:11:58.353648Z"
    }
   },
   "outputs": [],
   "source": [
    "video = import_video('/app/data/videos/wimbledon_2019_mens_semifinal_federer_nadal.mp4')\n",
    "import_frame(video)"
   ]
  },
  {
   "cell_type": "code",
   "execution_count": null,
   "metadata": {
    "ExecuteTime": {
     "end_time": "2019-10-05T05:12:36.865163Z",
     "start_time": "2019-10-05T05:12:36.827518Z"
    }
   },
   "outputs": [],
   "source": [
    "video = Video.objects.filter(path__contains='wimbledon')[0]\n",
    "video"
   ]
  },
  {
   "cell_type": "markdown",
   "metadata": {},
   "source": [
    "# Process labeled hit"
   ]
  },
  {
   "cell_type": "code",
   "execution_count": null,
   "metadata": {
    "ExecuteTime": {
     "end_time": "2019-10-06T19:04:32.470525Z",
     "start_time": "2019-10-06T19:04:32.454819Z"
    }
   },
   "outputs": [],
   "source": [
    "import pickle\n",
    "def parse_filename_to_fid(file_name):\n",
    "    time_stamp = file_name.split('.')[2]\n",
    "    h, m, s, f = time_stamp.split('_')\n",
    "    fid = int(h) * 60*60*fps + int(m) * 60*fps + int(s) * fps + int(f) + 1 # premier has offset 1\n",
    "    return fid"
   ]
  },
  {
   "cell_type": "markdown",
   "metadata": {},
   "source": [
    "## Tennis"
   ]
  },
  {
   "cell_type": "code",
   "execution_count": null,
   "metadata": {
    "ExecuteTime": {
     "end_time": "2019-10-06T19:09:52.924156Z",
     "start_time": "2019-10-06T19:09:52.906367Z"
    }
   },
   "outputs": [],
   "source": [
    "fps = 25\n",
    "file_list = pickle.load(open('/app/data/pkl/fednad.pkl', 'rb'))\n",
    "hit_list = []\n",
    "for file_name in file_list:\n",
    "    if not file_name[0] == 'w':\n",
    "        continue\n",
    "    fid = parse_filename_to_fid(file_name)\n",
    "    hit_list.append(fid)\n",
    "hit_list.sort()"
   ]
  },
  {
   "cell_type": "code",
   "execution_count": null,
   "metadata": {
    "ExecuteTime": {
     "end_time": "2019-10-06T22:24:10.843113Z",
     "start_time": "2019-10-06T22:24:10.791007Z"
    }
   },
   "outputs": [],
   "source": [
    "hit_annot = {}\n",
    "point_gap = 150\n",
    "points = []\n",
    "last_fid = hit_list[0]\n",
    "hits = [last_fid]\n",
    "for fid in hit_list[1:]:\n",
    "    if fid - last_fid > point_gap:\n",
    "        points.append(hits)\n",
    "        hits = [fid]\n",
    "        last_fid = fid\n",
    "    else:\n",
    "        hits.append(fid)\n",
    "        last_fid = fid\n",
    "pickle.dump({video.item_name() + '.mp4' : points}, open('../data/pkl/hit_annotation_tennis.pkl', 'wb'))"
   ]
  },
  {
   "cell_type": "code",
   "execution_count": null,
   "metadata": {
    "ExecuteTime": {
     "end_time": "2019-10-06T22:19:01.838842Z",
     "start_time": "2019-10-06T22:19:01.826330Z"
    }
   },
   "outputs": [],
   "source": [
    "fid = 204882 \n",
    "fps = 25\n",
    "h, m, s = fid / fps / 60 / 60, fid / fps // 60 % 60, fid // fps % 60\n",
    "print(h, m, s)"
   ]
  },
  {
   "cell_type": "code",
   "execution_count": null,
   "metadata": {
    "ExecuteTime": {
     "end_time": "2019-10-07T22:32:27.389309Z",
     "start_time": "2019-10-07T22:32:27.367562Z"
    }
   },
   "outputs": [],
   "source": [
    "len([hit for hit in points if len(hit) > 1])"
   ]
  },
  {
   "cell_type": "markdown",
   "metadata": {},
   "source": [
    "## Table tennis"
   ]
  },
  {
   "cell_type": "code",
   "execution_count": null,
   "metadata": {},
   "outputs": [],
   "source": [
    "# manually segment video as two player changes position\n",
    "# foreback_split = {(0, 15): 'CC', (15, 21): 'HW', (21, 31): 'CC',  (31, 40): 'HW', (40, 52): 'CC'} # semi2\n",
    "# foreback_split = {(0, 11): 'HW', (11, 17): 'KS', (17, 23): 'HW',  (23, 32): 'KS'} # quater4\n",
    "# foreback_split = {(0, 16): 'OD', (16, 23): 'JZ', (23, 23): 'OD',  (31, 42): 'JZ', (42, 53): 'OD'} # semi1\n",
    "foreback_split = {(0, 12): 'TJ', (12, 19): 'JZ', (19, 26): 'TJ',  (26, 36): 'JZ', (36, 44): 'TJ'} # quarter2"
   ]
  },
  {
   "cell_type": "code",
   "execution_count": null,
   "metadata": {},
   "outputs": [],
   "source": [
    "# collect hits from file name of snapshots\n",
    "file_list = os.listdir('/app/data/label/quarterfinal_2/')\n",
    "hit_list = []\n",
    "fps = int(video.fps)\n",
    "for file_name in file_list:\n",
    "    if not file_name[0] == 'T':\n",
    "        continue\n",
    "    fid = parse_filename_to_fid(file_name)\n",
    "    hit_list.append(fid)\n",
    "hit_list.sort()\n",
    "print('Totally %d hits in the video' % len(hit_list))"
   ]
  },
  {
   "cell_type": "code",
   "execution_count": null,
   "metadata": {},
   "outputs": [],
   "source": [
    "# group hits into potins\n",
    "cur_fid = hit_list[0]\n",
    "hit_in_point = [[cur_fid]]\n",
    "for fid in hit_list[1:]:\n",
    "    if fid - cur_fid < 100:\n",
    "        hit_in_point[-1].append(fid)\n",
    "    else:\n",
    "        hit_in_point.append([fid])\n",
    "    cur_fid = fid\n",
    "print('Totally %d points in the video' % len(hit_in_point))"
   ]
  },
  {
   "cell_type": "code",
   "execution_count": null,
   "metadata": {},
   "outputs": [],
   "source": [
    "# for each point, select who gives the first hit\n",
    "point_ism = IntervalSetMapping({video_id: IntervalSet([Interval(Bounds3D(h[0], h[-1])) for h in hit_in_point])})\n",
    "widget = IntervalSetMapping_to_vgrid(IntervalSetMapping_frame_to_second(point_ism), flat=True)\n",
    "widget"
   ]
  },
  {
   "cell_type": "code",
   "execution_count": null,
   "metadata": {},
   "outputs": [],
   "source": [
    "# store who hits the first in each point\n",
    "selection = widget.label_state['blocks_selected']\n",
    "pickle.dump(selection, open('/app/result/pkl/label_fg.pkl', 'wb'))"
   ]
  },
  {
   "cell_type": "code",
   "execution_count": null,
   "metadata": {},
   "outputs": [],
   "source": [
    "# propagate whose hit from the first hit of each point\n",
    "H, W = video.height, video.width\n",
    "hit_dict = []\n",
    "for i, point in enumerate(hit_in_point):\n",
    "    hit_dict.append([])\n",
    "    for j, fid in enumerate(point):\n",
    "#         person_fg, person_bg = get_densepose_by_fid(sc, video.item_name(), fid)\n",
    "        is_fg = not np.logical_xor(str(i) in selection, j % 2 == 0)\n",
    "#         person = person_fg if is_fg else person_bg\n",
    "#         if not person is None:\n",
    "#             if person.keyp[2, Person.RWrist] > Person.KP_THRESH:\n",
    "#                 pos = player.keyp[:2, Person.RWrist].astype(int)\n",
    "#             else:\n",
    "#                 mid_shoulder = (person.keyp[:2, Person.RShoulder] + player.keyp[:2, Person.LShoulder]) // 2\n",
    "#                 pos = mid_shoulder\n",
    "#             pos = (int(pos[0]), int(pos[1]))\n",
    "#         else:\n",
    "#             pos = None\n",
    "        hit_dict[-1].append({'fid': fid, 'fg': is_fg})"
   ]
  },
  {
   "cell_type": "code",
   "execution_count": null,
   "metadata": {},
   "outputs": [],
   "source": [
    "# save data\n",
    "hit_dict_split = {'JZ': [], 'TJ': []}\n",
    "for point in hit_dict:\n",
    "    m = point[0]['fid'] / video.fps / 60\n",
    "    for (s, e) in foreback_split.keys():\n",
    "        if m > s and m < e:\n",
    "            hit_dict_split[foreback_split[(s, e)]].append(point)\n",
    "            break"
   ]
  },
  {
   "cell_type": "code",
   "execution_count": null,
   "metadata": {},
   "outputs": [],
   "source": [
    "hit_dict_all = pickle.load(open('/app/data/pkl/hit_annotation.pkl', 'rb'))\n",
    "hit_dict_all[video.item_name()+'.mp4'] = hit_dict_split\n",
    "pickle.dump(hit_dict_all, open('/app/data/pkl/hit_annotation.pkl', 'wb'))"
   ]
  },
  {
   "cell_type": "code",
   "execution_count": null,
   "metadata": {},
   "outputs": [],
   "source": [
    "# spot check for labeled hits\n",
    "point = random.choice(hit_dict_split['JZ'])\n",
    "hit = random.choice(point)\n",
    "# hit = hit_dict_split['JZ'][3][0]\n",
    "frame = load_frame(video, hit['fid'], [])\n",
    "if hit['fg']:\n",
    "    cv2.circle(frame, (0, 0), 20, (0, 0, 255), -1)\n",
    "else:\n",
    "    cv2.circle(frame, (0, 0), 20, (0, 255, 0), -1)\n",
    "imshow(frame)\n",
    "print(hit)"
   ]
  },
  {
   "cell_type": "markdown",
   "metadata": {},
   "source": [
    "# Export to racket2game database"
   ]
  },
  {
   "cell_type": "code",
   "execution_count": null,
   "metadata": {
    "ExecuteTime": {
     "end_time": "2019-10-07T00:26:49.397940Z",
     "start_time": "2019-10-07T00:26:49.347080Z"
    }
   },
   "outputs": [],
   "source": [
    "from scannerpy import Client, DeviceType\n",
    "from scannerpy.storage import NamedVideoStream, NamedStream\n",
    "from query.models import Video\n",
    "from scannertools import maskrcnn_detection, densepose_detection\n",
    "\n",
    "from esper.table_tennis.utils import *\n",
    "# from esper.table_tennis.pose_utils import *\n",
    "from esper.widget import *\n",
    "\n",
    "import os\n",
    "import sys\n",
    "import numpy as np\n",
    "import pickle"
   ]
  },
  {
   "cell_type": "markdown",
   "metadata": {},
   "source": [
    "## Tennis"
   ]
  },
  {
   "cell_type": "code",
   "execution_count": null,
   "metadata": {
    "ExecuteTime": {
     "end_time": "2019-10-07T00:27:16.914882Z",
     "start_time": "2019-10-07T00:27:16.892011Z"
    }
   },
   "outputs": [],
   "source": [
    "hit_annotation = pickle.load(open('/app/data/pkl/hit_annotation_tennis.pkl', 'rb'))\n",
    "frame_ids_dict = {}\n",
    "for k, v in hit_annotation.items():\n",
    "    hit_dict = []\n",
    "#     for h in v.values():\n",
    "#         hit_dict += h\n",
    "    hit_dict = v\n",
    "    frame_ids = [i for point in hit_dict for i in range(point[0] - 25, point[-1] + 25) ]\n",
    "    frame_ids.sort()\n",
    "    frame_ids_dict[k] = frame_ids"
   ]
  },
  {
   "cell_type": "code",
   "execution_count": null,
   "metadata": {
    "ExecuteTime": {
     "end_time": "2019-10-07T00:29:26.283779Z",
     "start_time": "2019-10-07T00:29:26.249083Z"
    }
   },
   "outputs": [],
   "source": [
    "# Export video table\n",
    "videos_new = [\n",
    " 'wimbledon_2019_mens_semifinal_federer_nadal.mp4',\n",
    "]\n",
    "video_table = pickle.load(open('/app/data/db/video_table.pkl', 'rb'))\n",
    "\n",
    "for idx, video_name in enumerate(videos_new):\n",
    "    video = Video.objects.filter(path__contains=video_name)[0]\n",
    "    video_id = idx + len(video_table)\n",
    "    video_table.append({'id': video_id, 'name': video_name, 'num_frames': video.num_frames, \n",
    "                        'width': video.width, 'height': video.height, 'fps': video.fps})\n",
    "    if video_name in frame_ids_dict:\n",
    "        video_table[-1]['valid_frames'] = frame_ids_dict[video_name]\n",
    "pickle.dump(video_table, open('/app/data/db/video_table.pkl', 'wb'))\n",
    "# video_table"
   ]
  },
  {
   "cell_type": "code",
   "execution_count": null,
   "metadata": {},
   "outputs": [],
   "source": [
    "def update_person(person):\n",
    "    mask = mask_util.decode(person.mask)\n",
    "    bbox = person.bbox\n",
    "    person.mask = mask_util.encode(np.asfortranarray(mask[bbox[1] : bbox[3], bbox[0] : bbox[2]]))\n",
    "    return person\n",
    "\n",
    "def get_densepose_player_from_raw(self, video_id, frame_id, foreground=None):\n",
    "    if not frame_id in self.densepose_table[video_id]:\n",
    "        return None\n",
    "    people = self.densepose_table[video_id][frame_id]\n",
    "    if len(people) < 2:\n",
    "        return None\n",
    "\n",
    "    bbox_area = []\n",
    "    for person in people:\n",
    "        area = (person['bbox'][2] - person['bbox'][0]) * (person['bbox'][3] - person['bbox'][1])\n",
    "        bbox_area.append(area)\n",
    "    top2 = np.argsort(bbox_area)[-2:]\n",
    "    personA = Person(people[top2[0]])\n",
    "    personB = Person(people[top2[1]])\n",
    "    if personA.keyp[1, Person.LShoulder] >= personB.keyp[1, Person.LShoulder]:\n",
    "        person_fg = personA\n",
    "        person_bg = personB \n",
    "    else:\n",
    "        person_fg = personB\n",
    "        person_bg = personA \n",
    "    if foreground is None:\n",
    "        return person_fg, person_bg\n",
    "    elif foreground:\n",
    "        return person_fg\n",
    "    else:\n",
    "        return person_bg"
   ]
  },
  {
   "cell_type": "code",
   "execution_count": null,
   "metadata": {
    "ExecuteTime": {
     "end_time": "2019-10-07T00:38:38.549902Z",
     "start_time": "2019-10-07T00:38:38.466791Z"
    }
   },
   "outputs": [],
   "source": [
    "# Export densepose database\n",
    "sc = Client()"
   ]
  },
  {
   "cell_type": "code",
   "execution_count": null,
   "metadata": {
    "ExecuteTime": {
     "end_time": "2019-10-07T00:39:13.654136Z",
     "start_time": "2019-10-07T00:38:59.768507Z"
    }
   },
   "outputs": [],
   "source": [
    "for video_name in videos_new:\n",
    "    video_id = \n",
    "    densepose_stream = NamedStream(sc, video_name[:-4] + '_densepose')\n",
    "    seq = sc.sequence(densepose_stream._name)\n",
    "    result = {}\n",
    "    for i, obj in tqdm(enumerate(seq.load(workers=1))):\n",
    "        fid = frame_ids_dict[video_name][i]\n",
    "#         person_fg, person_bg = get_densepose_player_from_raw(obj) ### modify\n",
    "#         if not person_fg is None:\n",
    "#             result[fid] = [update_person(person_fg), update_person(person_bg)]\n",
    "#         else:\n",
    "#             result[fid] = []\n",
    "        result[fid] = obj\n",
    "    pickle.dump(result, open('/app/data/db/densepose/{:03}.pkl'.format(video.id), 'wb'))"
   ]
  },
  {
   "cell_type": "markdown",
   "metadata": {},
   "source": [
    "## Table tennis"
   ]
  },
  {
   "cell_type": "code",
   "execution_count": null,
   "metadata": {},
   "outputs": [],
   "source": [
    "hit_annotation = pickle.load(open('/app/data/pkl/hit_annotation.pkl', 'rb'))\n",
    "frame_ids_dict = {}\n",
    "for k, v in hit_annotation.items():\n",
    "    hit_dict = []\n",
    "    for h in v.values():\n",
    "        hit_dict += h\n",
    "    frame_ids = [i for point in hit_dict for i in range(point[0]['fid']-25, point[-1]['fid']+25) ]\n",
    "    frame_ids.sort()\n",
    "    frame_ids_dict[k] = frame_ids"
   ]
  },
  {
   "cell_type": "code",
   "execution_count": null,
   "metadata": {},
   "outputs": [],
   "source": [
    "# semi1: JZ, OD\n",
    "# semi2: HW, CC\n",
    "# quarter2: JZ, TJ\n",
    "# quarter4: HW, KS"
   ]
  },
  {
   "cell_type": "code",
   "execution_count": null,
   "metadata": {},
   "outputs": [],
   "source": [
    "# Export video table\n",
    "videos_all = [\n",
    " 'Tabletennis_2012_Olympics_men_single_final_gold.mp4',\n",
    " 'Tabletennis_2012_Olympics_men_single_final_bronze.mp4',\n",
    " 'Tabletennis_2012_Olympics_men_single_semi_final_1.mp4',\n",
    " 'Tabletennis_2012_Olympics_men_single_semi_final_2.mp4',\n",
    " 'Tabletennis_2012_Olympics_men_single_quarter_final_1.mp4',\n",
    " 'Tabletennis_2012_Olympics_men_single_quarter_final_2.mp4',\n",
    " 'Tabletennis_2012_Olympics_men_single_quarter_final_3.mp4',\n",
    " 'Tabletennis_2012_Olympics_men_single_quarter_final_4.mp4',\n",
    "]\n",
    "video_table = []\n",
    "for idx, video_name in enumerate(videos_all):\n",
    "    video = Video.objects.filter(path__contains=video_name)[0]\n",
    "    video_table.append({'id': idx, 'name': video_name, 'num_frames': video.num_frames, \n",
    "                        'width': video.width, 'height': video.height, 'fps': video.fps})\n",
    "    if video_name in frame_ids_dict:\n",
    "        video_table[-1]['valid_frames'] = frame_ids_dict[video_name]\n",
    "pickle.dump(video_table, open('/app/data/db/video_table.pkl', 'wb'))\n",
    "video_table"
   ]
  },
  {
   "cell_type": "code",
   "execution_count": null,
   "metadata": {},
   "outputs": [],
   "source": [
    "videos_new = [\n",
    "#     'Tabletennis_2012_Olympics_men_single_final_gold.mp4',\n",
    "#     'Tabletennis_2012_Olympics_men_single_semi_final_2.mp4',\n",
    "#     'Tabletennis_2012_Olympics_men_single_quarter_final_4.mp4'\n",
    "    'Tabletennis_2012_Olympics_men_single_semi_final_1.mp4',\n",
    "    'Tabletennis_2012_Olympics_men_single_quarter_final_2.mp4',\n",
    "]\n",
    "sc = Client()"
   ]
  },
  {
   "cell_type": "code",
   "execution_count": null,
   "metadata": {},
   "outputs": [],
   "source": [
    "# Export densepose database\n",
    "for video_name in videos_new:\n",
    "    video_id = videos_all.index(video_name)\n",
    "    densepose_stream = NamedStream(sc, video_name[:-4] + '_densepose')\n",
    "    seq = sc.sequence(densepose_stream._name)\n",
    "    result = {}\n",
    "    for i, obj in tqdm(enumerate(seq.load(workers=1))):\n",
    "        result[frame_ids_dict[video_name][i]] = obj\n",
    "    pickle.dump(result, open('/app/data/db/densepose/{:03}.pkl'.format(video_id), 'wb'))"
   ]
  },
  {
   "cell_type": "code",
   "execution_count": null,
   "metadata": {},
   "outputs": [],
   "source": [
    "# Export hit annotation\n",
    "H, W = video.height, video.width\n",
    "for video_name in videos_new:\n",
    "    video_id = videos_all.index(video_name)\n",
    "    hit_dict = hit_annotation[video_name]\n",
    "    for _, hit_split in hit_dict.items():\n",
    "        for pid, point in enumerate(hit_split):\n",
    "            for hid, hit in enumerate(point):\n",
    "                person_fg, person_bg = get_densepose_by_fid(sc, video_name, hit['fid'])\n",
    "                person = person_fg if hit['fg'] else person_bg\n",
    "                if not person is None:\n",
    "                    if person.keyp[2, Person.RWrist] > Person.KP_THRESH:\n",
    "                        pos = person.keyp[:2, Person.RWrist].astype(int)\n",
    "                    else:\n",
    "                        mid_shoulder = (person.keyp[:2, Person.RShoulder] + person.keyp[:2, Person.LShoulder]) // 2\n",
    "                        pos = mid_shoulder\n",
    "                    pos = (int(pos[0]), int(pos[1]))\n",
    "                else:\n",
    "                    pos = None\n",
    "                hit_split[pid][hid]['pos'] = pos\n",
    "            \n",
    "    json.dump(hit_dict, open('/app/data/db/hit_annotation/{:03}.json'.format(video_id), 'w'))"
   ]
  }
 ],
 "metadata": {
  "kernelspec": {
   "display_name": "Django Shell-Plus",
   "language": "python",
   "name": "django_extensions"
  },
  "language_info": {
   "codemirror_mode": {
    "name": "ipython",
    "version": 3
   },
   "file_extension": ".py",
   "mimetype": "text/x-python",
   "name": "python",
   "nbconvert_exporter": "python",
   "pygments_lexer": "ipython3",
   "version": "3.5.2"
  },
  "toc": {
   "nav_menu": {},
   "number_sections": true,
   "sideBar": true,
   "skip_h1_title": false,
   "toc_cell": false,
   "toc_position": {},
   "toc_section_display": "block",
   "toc_window_display": false
  }
 },
 "nbformat": 4,
 "nbformat_minor": 2
}
