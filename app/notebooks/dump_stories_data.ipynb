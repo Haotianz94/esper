{
 "cells": [
  {
   "cell_type": "markdown",
   "metadata": {},
   "source": [
    "# We need to dump data for face genders and identities"
   ]
  },
  {
   "cell_type": "code",
   "execution_count": 6,
   "metadata": {
    "ExecuteTime": {
     "end_time": "2019-03-09T05:25:24.452894Z",
     "start_time": "2019-03-09T05:25:24.424350Z"
    }
   },
   "outputs": [],
   "source": [
    "import json\n",
    "import os\n",
    "\n",
    "from esper.spark_util import *\n",
    "\n",
    "STORIES_DIR = '/app/data/stories-data/'\n",
    "\n",
    "if not os.path.exists(STORIES_DIR):\n",
    "    os.makedirs(STORIES_DIR)\n",
    "\n",
    "IDENTS_PATH = os.path.join(STORIES_DIR, 'identities_by_video.json')\n",
    "GENDERS_PATH = os.path.join(STORIES_DIR, 'genders_by_video.json')"
   ]
  },
  {
   "cell_type": "code",
   "execution_count": 2,
   "metadata": {
    "ExecuteTime": {
     "end_time": "2019-03-09T05:16:04.640748Z",
     "start_time": "2019-03-09T05:16:04.614974Z"
    }
   },
   "outputs": [],
   "source": [
    "# gender_data = {\n",
    "#     video_id: [\n",
    "#         (gender_id, start_time, is_host)\n",
    "#     ]\n",
    "# }\n",
    "\n",
    "# identity_data = {\n",
    "#     video_id: [\n",
    "#         (ident_id, start_time)\n",
    "#     ]\n",
    "# }"
   ]
  },
  {
   "cell_type": "markdown",
   "metadata": {},
   "source": [
    "# Genders"
   ]
  },
  {
   "cell_type": "code",
   "execution_count": 3,
   "metadata": {
    "ExecuteTime": {
     "end_time": "2019-03-09T05:20:50.160570Z",
     "start_time": "2019-03-09T05:16:04.643147Z"
    }
   },
   "outputs": [
    {
     "name": "stderr",
     "output_type": "stream",
     "text": [
      "Constructing host probability udf...\n",
      "  148 canonical shows have hosts\n",
      "  channel_id=1 has 36 unique hosts\n",
      "  channel_id=2 has 50 unique hosts\n",
      "  channel_id=3 has 91 unique hosts\n"
     ]
    }
   ],
   "source": [
    "face_genders = get_face_genders()\n",
    "face_genders = face_genders.where(\n",
    "    (face_genders.labeler_id == Labeler.objects.get(name='knn-gender').id) &\n",
    "    (face_genders.height >= 0.2) &\n",
    "    (face_genders.in_commercial == False)\n",
    ")\n",
    "face_genders = face_genders.withColumn(\n",
    "    'is_host2', face_genders.host_probability > 0.5)\n",
    "face_genders = face_genders.withColumn(\n",
    "    'start_time', face_genders.min_frame / face_genders.fps)"
   ]
  },
  {
   "cell_type": "code",
   "execution_count": 7,
   "metadata": {
    "ExecuteTime": {
     "end_time": "2019-03-09T06:25:19.434482Z",
     "start_time": "2019-03-09T05:25:27.724649Z"
    }
   },
   "outputs": [],
   "source": [
    "video_to_fg = {}\n",
    "for fg in face_genders.select(\n",
    "    'video_id', 'gender_id', 'start_time', 'is_host2'\n",
    ").sort('video_id', 'start_time').collect():\n",
    "    video_id = fg.video_id\n",
    "    if video_id not in video_to_fg:\n",
    "        video_to_fg[video_id] = []\n",
    "    video_to_fg[video_id].append(\n",
    "        (fg.gender_id, fg.start_time, 1 if fg.is_host2 else 0)\n",
    "    )\n",
    "\n",
    "print('Writing:', GENDERS_PATH)\n",
    "with open(GENDERS_PATH, 'w') as f:\n",
    "    json.dump(video_to_fg, f)\n",
    "print('Done!')"
   ]
  },
  {
   "cell_type": "markdown",
   "metadata": {},
   "source": [
    "# Identities"
   ]
  },
  {
   "cell_type": "code",
   "execution_count": 8,
   "metadata": {
    "ExecuteTime": {
     "end_time": "2019-03-09T06:25:20.697290Z",
     "start_time": "2019-03-09T06:25:19.437847Z"
    }
   },
   "outputs": [],
   "source": [
    "face_idents = get_face_identities()\n",
    "face_idents = face_idents.where(\n",
    "    (face_idents.height >= 0.2) &\n",
    "    (face_idents.in_commercial == False)\n",
    ")\n",
    "face_idents = face_idents.withColumn(\n",
    "    'start_time', face_idents.min_frame / face_idents.fps)\n",
    "face_idents = face_idents.withColumn(\n",
    "    'is_host2', face_idents.host_probability > 0.5)"
   ]
  },
  {
   "cell_type": "code",
   "execution_count": 10,
   "metadata": {
    "ExecuteTime": {
     "end_time": "2019-03-09T07:07:43.420851Z",
     "start_time": "2019-03-09T06:42:25.764654Z"
    }
   },
   "outputs": [
    {
     "name": "stdout",
     "output_type": "stream",
     "text": [
      "Writing: /app/data/stories-data/identities_by_video.json\n"
     ]
    }
   ],
   "source": [
    "video_to_fi = {}\n",
    "for fi in face_idents.select(\n",
    "    'video_id', 'identity_id', 'start_time', 'is_host2'\n",
    ").sort('video_id', 'start_time').collect():\n",
    "    video_id = fi.video_id\n",
    "    if video_id not in video_to_fi:\n",
    "        video_to_fi[video_id] = []\n",
    "    video_to_fi[video_id].append(\n",
    "        (fi.identity_id, fi.start_time, 1 if fi.is_host2 else 0)\n",
    "    )\n",
    "    \n",
    "print('Writing:', IDENTS_PATH)\n",
    "with open(IDENTS_PATH, 'w') as f:\n",
    "    json.dump(video_to_fi, f)\n",
    "print('Done!')"
   ]
  },
  {
   "cell_type": "code",
   "execution_count": null,
   "metadata": {},
   "outputs": [],
   "source": []
  }
 ],
 "metadata": {
  "kernelspec": {
   "display_name": "Django Shell-Plus",
   "language": "python",
   "name": "django_extensions"
  },
  "language_info": {
   "codemirror_mode": {
    "name": "ipython",
    "version": 3
   },
   "file_extension": ".py",
   "mimetype": "text/x-python",
   "name": "python",
   "nbconvert_exporter": "python",
   "pygments_lexer": "ipython3",
   "version": "3.5.2"
  },
  "toc": {
   "nav_menu": {},
   "number_sections": true,
   "sideBar": true,
   "skip_h1_title": false,
   "toc_cell": false,
   "toc_position": {},
   "toc_section_display": "block",
   "toc_window_display": false
  }
 },
 "nbformat": 4,
 "nbformat_minor": 2
}
