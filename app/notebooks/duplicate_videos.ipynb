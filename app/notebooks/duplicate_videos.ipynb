{
 "cells": [
  {
   "cell_type": "code",
   "execution_count": null,
   "metadata": {
    "ExecuteTime": {
     "end_time": "2019-01-04T03:57:16.981067Z",
     "start_time": "2019-01-04T03:57:16.340575Z"
    }
   },
   "outputs": [],
   "source": [
    "from esper.prelude import *"
   ]
  },
  {
   "cell_type": "code",
   "execution_count": null,
   "metadata": {
    "ExecuteTime": {
     "end_time": "2019-01-04T03:58:34.416540Z",
     "start_time": "2019-01-04T03:58:28.009468Z"
    }
   },
   "outputs": [],
   "source": []
  },
  {
   "cell_type": "code",
   "execution_count": null,
   "metadata": {
    "ExecuteTime": {
     "end_time": "2019-01-04T03:58:49.183148Z",
     "start_time": "2019-01-04T03:58:48.969612Z"
    }
   },
   "outputs": [],
   "source": []
  },
  {
   "cell_type": "code",
   "execution_count": null,
   "metadata": {
    "ExecuteTime": {
     "end_time": "2019-01-04T04:05:25.137187Z",
     "start_time": "2019-01-04T04:05:25.043349Z"
    }
   },
   "outputs": [],
   "source": [
    "Video.objects.filter(duplicate=False).count()"
   ]
  },
  {
   "cell_type": "code",
   "execution_count": null,
   "metadata": {
    "ExecuteTime": {
     "end_time": "2019-01-04T04:04:39.154696Z",
     "start_time": "2019-01-04T04:02:37.122592Z"
    }
   },
   "outputs": [],
   "source": [
    "for channel in Channel.objects.all():\n",
    "    videos = list(Video.objects.filter(channel=channel).order_by('time'))\n",
    "    by_time = collect(videos, lambda v: v.time)\n",
    "    for k, vs in by_time.items():\n",
    "        if len(vs) > 1:\n",
    "            for v in vs[1:]:\n",
    "                v.duplicate = True\n",
    "                v.save()"
   ]
  },
  {
   "cell_type": "code",
   "execution_count": null,
   "metadata": {
    "ExecuteTime": {
     "end_time": "2019-01-04T04:01:22.106396Z",
     "start_time": "2019-01-04T04:01:22.038049Z"
    }
   },
   "outputs": [],
   "source": [
    "pprint([v.item_name() for v in Video.objects.filter(channel__name='CNN', time__year=2012, time__month=3, time__day=11).order_by('time')])"
   ]
  }
 ],
 "metadata": {
  "kernelspec": {
   "display_name": "Django Shell-Plus",
   "language": "python",
   "name": "django_extensions"
  },
  "language_info": {
   "codemirror_mode": {
    "name": "ipython",
    "version": 3
   },
   "file_extension": ".py",
   "mimetype": "text/x-python",
   "name": "python",
   "nbconvert_exporter": "python",
   "pygments_lexer": "ipython3",
   "version": "3.5.2"
  },
  "toc": {
   "nav_menu": {},
   "number_sections": true,
   "sideBar": true,
   "skip_h1_title": false,
   "toc_cell": false,
   "toc_position": {},
   "toc_section_display": "block",
   "toc_window_display": false
  }
 },
 "nbformat": 4,
 "nbformat_minor": 2
}
