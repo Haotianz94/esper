{
 "cells": [
  {
   "cell_type": "code",
   "execution_count": null,
   "metadata": {
    "ExecuteTime": {
     "end_time": "2019-02-28T02:41:12.010753Z",
     "start_time": "2019-02-28T02:41:05.006651Z"
    }
   },
   "outputs": [],
   "source": [
    "from esper.prelude import *\n",
    "\n",
    "GUEST_LIST = [name.lower() for name in ['Barack Obama', 'Donald Trump', 'Ted Cruz', 'John Kasich', 'Marco Rubio', 'Ben Carson', 'Jeb Bush',\n",
    "'Jim Gilmore', 'Chris Christie', 'Carly Fiorina', 'Rick Santorum', 'Rand Paul', 'Mike Huckabee',\n",
    "'Hillary Clinton', 'Bernie Sanders', 'Lincoln Chafee', 'Martin O’Malley', 'Jim Webb',\n",
    "'Sarah Palin', 'John Boehner', 'Paul Ryan', 'Newt Gingrich','Nancy Pelosi','Elizabeth Warren', 'Mitch McConnell',\n",
    "'Chuck Schumer','Harry Reid','Joe Biden', 'Kevin McCarthy', 'Steve Scalise', 'Bobby Jindal', 'John Cornyn',\n",
    "'Dick Durbin','Orrin Hatch', 'Lindsey Graham', 'Mitt Romney', 'Michelle Obama' ,'Bill Clinton', \n",
    "'George W Bush', 'Tim Kaine' ]]\n",
    "HOST_LIST = list(set([h.name for s in CanonicalShow.objects.exclude(hosts=None) for h in s.hosts.all()]))\n",
    "VIDEOS = sorted([v.id for v in Video.objects.exclude(show__hosts=None)])\n",
    "\n",
    "def get_name_to_labeler_id():\n",
    "    from tqdm import tqdm\n",
    "    def get_labeler_ids(n):\n",
    "        from query.models import Labeler\n",
    "        labeler_names = ['face-identity:'+n, 'face-identity-converted:'+n, 'face-identity-uncommon:'+n]\n",
    "        return [l.id for l in Labeler.objects.filter(name__in=labeler_names)]\n",
    "    names = GUEST_LIST+HOST_LIST\n",
    "    output = {}\n",
    "    for n in tqdm(names):\n",
    "        output[n] = get_labeler_ids(n)\n",
    "    return output\n",
    "\n",
    "NAME_TO_LABELER_ID = get_name_to_labeler_id()\n",
    "\n",
    "def name_to_id(name):\n",
    "    from query.models import Identity\n",
    "    return Identity.objects.get(name=name).id\n",
    "\n",
    "GUEST_IDS=[name_to_id(n) for n in GUEST_LIST]\n",
    "HOST_IDS=[name_to_id(n) for n in HOST_LIST]\n",
    "\n",
    "def get_fps_map(vids):\n",
    "    from query.models import Video\n",
    "    vs = Video.objects.filter(id__in=vids)\n",
    "    return {v.id: v.fps for v in vs}\n",
    "\n",
    "def frame_second_conversion(c, mode='f2s'):\n",
    "    from rekall.video_interval_collection_3d import VideoIntervalCollection3D\n",
    "    from rekall.interval_set_3d import Interval3D\n",
    "    fps_map = get_fps_map(set(c.get_allintervals().keys()))\n",
    "    \n",
    "    def second_to_frame(fps):\n",
    "        def map_fn(intrvl):\n",
    "            i2 = intrvl.copy()\n",
    "            t1,t2 = intrvl.t\n",
    "            i2.t = (int(t1*fps), int(t2*fps))\n",
    "            return i2\n",
    "        return map_fn\n",
    "    \n",
    "    def frame_to_second(fps):\n",
    "        def map_fn(intrvl):\n",
    "            i2 = intrvl.copy()\n",
    "            t1,t2 = intrvl.t\n",
    "            i2.t = (int(t1/fps), int(t2/fps))\n",
    "            return i2\n",
    "        return map_fn\n",
    "    \n",
    "    if mode=='f2s':\n",
    "        fn = frame_to_second\n",
    "    if mode=='s2f':\n",
    "        fn = second_to_frame\n",
    "    output = {}\n",
    "    for vid, intervals in c.get_allintervals().items():\n",
    "        output[vid] = intervals.map(fn(fps_map[vid]))\n",
    "    return VideoIntervalCollection3D(output)\n",
    "\n",
    "def frame_to_second_collection(c):\n",
    "    return frame_second_conversion(c, 'f2s')\n",
    "\n",
    "def second_to_frame_collection(c):\n",
    "    return frame_second_conversion(c, 's2f')\n",
    "\n",
    "def convert_to_1d_collection(collection):\n",
    "    from rekall.interval_list import Interval\n",
    "    from rekall.video_interval_collection import VideoIntervalCollection\n",
    "    video_map = collection.get_allintervals()\n",
    "    return VideoIntervalCollection({vid: [Interval(\n",
    "        i.t[0], i.t[1], None) for i in video_map[vid].get_intervals()] for vid in video_map})\n",
    "\n",
    "def display_result(collection_1d):\n",
    "    from esper.rekall import intrvllists_to_result\n",
    "    results = intrvllists_to_result(collection_1d.get_allintervals())\n",
    "    return esper_widget(results,\n",
    "            crop_bboxes=False, show_middle_frame=False, disable_captions=True,\n",
    "            results_per_page=25, jupyter_keybindings=True)\n",
    "\n",
    "# time dimension in seconds\n",
    "def get_commercial_intervals_in_vids(vids):\n",
    "    from query.models import Commercial\n",
    "    from rekall.video_interval_collection_3d import VideoIntervalCollection3D\n",
    "    \n",
    "    qs = Commercial.objects.filter(video_id__in=vids)\n",
    "    return frame_to_second_collection(VideoIntervalCollection3D.from_django_qs(qs))\n",
    "\n",
    "# time dimension in seconds\n",
    "# Outputs a dictionary from name to video interval collection\n",
    "def get_person_intervals_in_vids(person_names, vids, probability=0.7, min_height=None):\n",
    "    from query.models import FaceIdentity\n",
    "    from django.db.models import F,Q\n",
    "    from rekall.video_interval_collection_3d import VideoIntervalCollection3D\n",
    "    from rekall.interval_set_3d import Interval3D\n",
    "    from rekall.interval_set_3d_utils import P\n",
    "    \n",
    "    SAMPLE_RATE = 3 # Every 3s\n",
    "\n",
    "    lids = []\n",
    "    for n in person_names:\n",
    "        lids.extend(NAME_TO_LABELER_ID[n])\n",
    "    \n",
    "    face_id_qs = FaceIdentity.objects.filter(\n",
    "        probability__gte=probability,\n",
    "        face__frame__video_id__in=vids,\n",
    "        face__frame__shot_boundary=False,\n",
    "        labeler_id__in=lids,\n",
    "    ).annotate(\n",
    "        height=F('face__bbox_y2')-F('face__bbox_y1'),\n",
    "        labeler_name=F('labeler__name'),\n",
    "        video_id=F('face__frame__video_id'),\n",
    "        frame_number=F('face__frame__number'),\n",
    "        x1=F('face__bbox_x1'),\n",
    "        x2=F('face__bbox_x2'),\n",
    "        y1=F('face__bbox_y1'),\n",
    "        y2=F('face__bbox_y2'),\n",
    "    )\n",
    "    if min_height is not None:\n",
    "        face_id_qs = face_id_qs.filter(height__gte=min_height)\n",
    "    \n",
    "    total = face_id_qs.count()\n",
    "    faces = VideoIntervalCollection3D.from_django_qs(face_id_qs, {\n",
    "        't1':'frame_number',\n",
    "        't2':'frame_number',\n",
    "        'x1':'x1','x2':'x2','y1':'y1','y2':'y2',\n",
    "    }, with_payload=lambda row: row.labeler_name.split(':')[1], progress=True, total=total)\n",
    "\n",
    "    fps_map = get_fps_map(set(faces.get_allintervals().keys()))\n",
    "    names_to_collection = {}\n",
    "    for n in person_names:\n",
    "        faces_one_person = faces.filter(P(lambda p: p==n))\n",
    "        output = {}\n",
    "        for vid, intervals in faces_one_person.get_allintervals().items():\n",
    "            fps = fps_map[vid]\n",
    "            eps = fps * SAMPLE_RATE\n",
    "            output[vid] = intervals.temporal_coalesce(epsilon=eps)\n",
    "        names_to_collection[n] = frame_to_second_collection(VideoIntervalCollection3D(output))\n",
    "    return names_to_collection\n",
    "\n",
    "# Returns interval_IS<person_only_IS<>, host_only_IS<>, person_with_host_IS<>>\n",
    "def interview_query(guest, hosts, commercials):\n",
    "    from rekall.interval_set_3d import Interval3D\n",
    "    from rekall.interval_set_3d_utils import T, P, or_preds, overlap_bound\n",
    "    from rekall.temporal_predicates import overlaps, before, after\n",
    "    \n",
    "    SEGMENT_LENGTH=30\n",
    "    OVERLAP_LAX=60\n",
    "    HOST_GUEST_GAP=120\n",
    "    MIN_LENGTH=240\n",
    "    SMALL_FACE_THRESHOLD=0.3\n",
    "    MIN_GUEST_TIME_RATIO=0.35\n",
    "    MAX_SMALL_GUEST_RATIO=0.7\n",
    "    \n",
    "    fuzzy_overlap = or_preds(overlaps(), before(max_dist=OVERLAP_LAX), after(max_dist=OVERLAP_LAX))\n",
    "    \n",
    "    interview_candidates = hosts.merge(guest, T(fuzzy_overlap), time_window=OVERLAP_LAX).temporal_coalesce()\n",
    "    \n",
    "    interviews = interview_candidates.temporal_coalesce(\n",
    "        epsilon=HOST_GUEST_GAP\n",
    "    ).filter_size(min_size=MIN_LENGTH\n",
    "    ).minus(commercials\n",
    "    ).filter_size(min_size=MIN_LENGTH)\n",
    "    \n",
    "\n",
    "    def select_second(p):\n",
    "        return p[1]\n",
    "    \n",
    "    # Interview<Guest<height>>\n",
    "    interview_with_guest = interviews.collect_by_interval(\n",
    "        guest,\n",
    "        T(overlaps()),\n",
    "        filter_empty=True,\n",
    "        time_window=0,\n",
    "    ).map_payload(\n",
    "        select_second)\n",
    "    \n",
    "    \n",
    "    def total_time(intervals):\n",
    "        return intervals.fold(lambda s, i: s+i.length(), 0)\n",
    "    \n",
    "    def filter_time(interview):\n",
    "        guest = interview.payload\n",
    "        small_guest = guest.filter_size(max_size=SMALL_FACE_THRESHOLD, axis='Y')\n",
    "        small_guest_time = total_time(small_guest)\n",
    "        total_guest_time = total_time(guest)\n",
    "        segment_time = interview.length()\n",
    "        return (total_guest_time / segment_time > MIN_GUEST_TIME_RATIO and\n",
    "                small_guest_time / total_guest_time < MAX_SMALL_GUEST_RATIO)\n",
    "    # Interview<Guest<height>>\n",
    "    interviews = interview_with_guest.filter(filter_time)\n",
    "    \n",
    "    # Guest<height>\n",
    "    guest_in_interviews = guest.filter_against(interviews, T(overlaps()), time_window=0)\n",
    "    # HostAndGuest<(Host, Guest)>\n",
    "    guest_with_host = guest_in_interviews.join(\n",
    "        hosts,\n",
    "        T(overlaps()),\n",
    "        lambda guest, host: [Interval3D(overlap_bound(guest.t, host.t), payload=(guest, host))],\n",
    "        time_window=0)\n",
    "    guest_only = guest_in_interviews.minus(guest_with_host)\n",
    "\n",
    "    hosts_in_interviews = hosts.filter_against(interviews, T(overlaps()), time_window=0)\n",
    "    hosts_only = hosts_in_interviews.minus(guest_with_host)\n",
    "    \n",
    "    interview_with_metadata = interviews.collect_by_interval(\n",
    "        guest_only,\n",
    "        T(overlaps()),\n",
    "        filter_empty=False,\n",
    "        time_window=0\n",
    "    ).map_payload(select_second).collect_by_interval(\n",
    "        hosts_only,\n",
    "        T(overlaps()),\n",
    "        filter_empty=False,\n",
    "        time_window=0\n",
    "    ).collect_by_interval(\n",
    "        guest_with_host,\n",
    "        T(overlaps()),\n",
    "        filter_empty=False,\n",
    "        time_window=0\n",
    "    ).map_payload(lambda p: (p[0][0],p[0][1],p[1]))\n",
    "    \n",
    "    return interview_with_metadata\n",
    "\n",
    "def get_interviews_for_vids(vids):\n",
    "    from rekall.video_interval_collection_3d import VideoIntervalCollection3D\n",
    "    from tqdm import tqdm\n",
    "    \n",
    "    people_to_intervals = get_person_intervals_in_vids(HOST_LIST + GUEST_LIST, vids, 0.7,0.2)\n",
    "    hosts = VideoIntervalCollection3D({})\n",
    "    for host_name in HOST_LIST:\n",
    "        hosts = hosts.union(people_to_intervals[host_name])\n",
    "    commercials = get_commercial_intervals_in_vids(vids)\n",
    "    ret = VideoIntervalCollection3D({})\n",
    "    for guest_name in tqdm(GUEST_LIST):\n",
    "        guest = people_to_intervals[guest_name]\n",
    "        interviews = interview_query(guest, hosts, commercials)\n",
    "        ret = ret.union(interviews)\n",
    "    return ret       "
   ]
  },
  {
   "cell_type": "code",
   "execution_count": null,
   "metadata": {
    "ExecuteTime": {
     "end_time": "2019-02-28T03:43:38.966418Z",
     "start_time": "2019-02-28T03:14:44.254154Z"
    }
   },
   "outputs": [],
   "source": [
    "import ipyparallel as ipp\n",
    "from esper.rekall_parallel import get_runtime_for_ipython_cluster\n",
    "import pickle\n",
    "c = ipp.Client(profile='local')\n",
    "rt = get_runtime_for_ipython_cluster(c)\n",
    "\n",
    "vids = VIDEOS[:100000]\n",
    "answer,_ = rt.run(get_interviews_for_vids, vids, randomize=False, chunksize=15, progress=True)\n",
    "pickle.dump(answer, open('../data/interviews/interviews-{0}.pickle'.format(vids[-1]), 'wb'))"
   ]
  },
  {
   "cell_type": "markdown",
   "metadata": {},
   "source": [
    "# Scratchpad"
   ]
  },
  {
   "cell_type": "code",
   "execution_count": null,
   "metadata": {
    "ExecuteTime": {
     "end_time": "2019-02-28T01:17:25.803135Z",
     "start_time": "2019-02-28T01:17:25.499342Z"
    }
   },
   "outputs": [],
   "source": [
    "vids = [[763, 3769, 5281, 8220, 9901, 12837, 13141, 26386, 33004, 33004, 34642, 38275, 42756, 50164, 50164, 50164, 50164, 50164, 50164, 50164, 52075, 52945, 54377, 54377, 59122, 59122, 59398, 59398, 59398, 59398]]\n",
    "\n",
    "answer = get_person_intervals_in_vids(HOST_LIST + GUEST_LIST, vids, 0.7,0.2)\n",
    "display_result(convert_to_1d_collection(second_to_frame_collection(answer['bernie sanders'])))"
   ]
  },
  {
   "cell_type": "code",
   "execution_count": null,
   "metadata": {
    "ExecuteTime": {
     "end_time": "2019-02-28T01:17:26.660454Z",
     "start_time": "2019-02-28T01:17:26.572442Z"
    }
   },
   "outputs": [],
   "source": [
    "display_result(convert_to_1d_collection(second_to_frame_collection(answer['jake tapper'])))"
   ]
  },
  {
   "cell_type": "code",
   "execution_count": null,
   "metadata": {
    "ExecuteTime": {
     "end_time": "2019-02-28T01:21:01.130353Z",
     "start_time": "2019-02-28T01:21:00.836905Z"
    }
   },
   "outputs": [],
   "source": [
    "answer = get_interviews_for_vids(vids)"
   ]
  },
  {
   "cell_type": "code",
   "execution_count": null,
   "metadata": {
    "ExecuteTime": {
     "end_time": "2019-02-28T00:52:35.112140Z",
     "start_time": "2019-02-28T00:52:31.859291Z"
    }
   },
   "outputs": [],
   "source": [
    "display_result(convert_to_1d_collection(second_to_frame_collection(answer)))"
   ]
  },
  {
   "cell_type": "code",
   "execution_count": null,
   "metadata": {
    "ExecuteTime": {
     "end_time": "2019-02-27T21:03:10.357104Z",
     "start_time": "2019-02-27T21:03:10.249785Z"
    }
   },
   "outputs": [],
   "source": [
    "ls=[l.name for l in Labeler.objects.all() if l.name.startswith('face-identity:') or l.name.startswith('face-identity-converted:') or l.name.startswith('face-identity-uncommon:')]"
   ]
  },
  {
   "cell_type": "code",
   "execution_count": null,
   "metadata": {
    "ExecuteTime": {
     "end_time": "2019-02-27T21:04:22.254636Z",
     "start_time": "2019-02-27T21:04:22.229695Z"
    }
   },
   "outputs": [],
   "source": [
    "ls=[l.split(':')[1] for l in ls]"
   ]
  },
  {
   "cell_type": "code",
   "execution_count": null,
   "metadata": {
    "ExecuteTime": {
     "end_time": "2019-02-27T21:14:30.437522Z",
     "start_time": "2019-02-27T21:14:30.401923Z"
    }
   },
   "outputs": [],
   "source": []
  },
  {
   "cell_type": "code",
   "execution_count": null,
   "metadata": {
    "ExecuteTime": {
     "end_time": "2019-02-27T21:05:37.415053Z",
     "start_time": "2019-02-27T21:05:37.390264Z"
    }
   },
   "outputs": [],
   "source": [
    "for g in GUEST_LIST:\n",
    "    if g not in ls:\n",
    "        print(g)"
   ]
  },
  {
   "cell_type": "code",
   "execution_count": null,
   "metadata": {
    "ExecuteTime": {
     "end_time": "2019-02-27T21:05:50.887453Z",
     "start_time": "2019-02-27T21:05:50.862528Z"
    }
   },
   "outputs": [],
   "source": [
    "for h in HOST_LIST:\n",
    "    if h not in ls:\n",
    "        print(h)"
   ]
  },
  {
   "cell_type": "code",
   "execution_count": null,
   "metadata": {
    "ExecuteTime": {
     "end_time": "2019-02-27T21:11:43.221334Z",
     "start_time": "2019-02-27T21:11:43.192756Z"
    }
   },
   "outputs": [],
   "source": [
    "ls"
   ]
  },
  {
   "cell_type": "code",
   "execution_count": null,
   "metadata": {
    "ExecuteTime": {
     "end_time": "2019-02-27T22:50:40.997595Z",
     "start_time": "2019-02-27T22:50:40.970892Z"
    }
   },
   "outputs": [],
   "source": [
    "sorted(HOST_LIST)"
   ]
  },
  {
   "cell_type": "code",
   "execution_count": null,
   "metadata": {
    "ExecuteTime": {
     "end_time": "2019-02-28T01:23:29.275271Z",
     "start_time": "2019-02-28T01:23:29.192659Z"
    }
   },
   "outputs": [],
   "source": [
    "interviews = LabeledInterview.objects \\\n",
    "        .annotate(fps=F('video__fps')) \\\n",
    "        .annotate(min_frame=F('fps') * F('start')) \\\n",
    "        .annotate(max_frame=F('fps') * F('end')) \\\n",
    "        .filter(guest1=\"bernie sanders\", original=True)\n",
    "print([i.video.id for i in interviews])"
   ]
  },
  {
   "cell_type": "code",
   "execution_count": null,
   "metadata": {
    "ExecuteTime": {
     "end_time": "2019-02-28T01:24:43.118752Z",
     "start_time": "2019-02-28T01:24:43.093609Z"
    }
   },
   "outputs": [],
   "source": [
    "len(vids)"
   ]
  },
  {
   "cell_type": "code",
   "execution_count": null,
   "metadata": {
    "ExecuteTime": {
     "end_time": "2019-02-28T01:38:27.632752Z",
     "start_time": "2019-02-28T01:38:27.607096Z"
    }
   },
   "outputs": [],
   "source": [
    "answer.get_allintervals()[10]"
   ]
  },
  {
   "cell_type": "code",
   "execution_count": null,
   "metadata": {
    "ExecuteTime": {
     "end_time": "2019-02-28T03:44:01.350625Z",
     "start_time": "2019-02-28T03:44:01.327596Z"
    }
   },
   "outputs": [],
   "source": [
    "answer"
   ]
  },
  {
   "cell_type": "code",
   "execution_count": null,
   "metadata": {
    "ExecuteTime": {
     "end_time": "2019-02-28T01:45:05.005193Z",
     "start_time": "2019-02-28T01:45:04.979041Z"
    }
   },
   "outputs": [],
   "source": [
    "len(VIDEOS)"
   ]
  },
  {
   "cell_type": "code",
   "execution_count": null,
   "metadata": {
    "ExecuteTime": {
     "end_time": "2019-02-28T02:42:51.752930Z",
     "start_time": "2019-02-28T02:42:51.726826Z"
    }
   },
   "outputs": [],
   "source": [
    "VIDEOS[:100]"
   ]
  },
  {
   "cell_type": "code",
   "execution_count": null,
   "metadata": {
    "ExecuteTime": {
     "end_time": "2019-02-28T02:44:17.533935Z",
     "start_time": "2019-02-28T02:44:17.487130Z"
    }
   },
   "outputs": [],
   "source": [
    "Video.objects.count()"
   ]
  },
  {
   "cell_type": "code",
   "execution_count": null,
   "metadata": {},
   "outputs": [],
   "source": []
  }
 ],
 "metadata": {
  "kernelspec": {
   "display_name": "Django Shell-Plus",
   "language": "python",
   "name": "django_extensions"
  },
  "language_info": {
   "codemirror_mode": {
    "name": "ipython",
    "version": 3
   },
   "file_extension": ".py",
   "mimetype": "text/x-python",
   "name": "python",
   "nbconvert_exporter": "python",
   "pygments_lexer": "ipython3",
   "version": "3.5.2"
  },
  "toc": {
   "nav_menu": {},
   "number_sections": true,
   "sideBar": true,
   "skip_h1_title": false,
   "toc_cell": false,
   "toc_position": {},
   "toc_section_display": "block",
   "toc_window_display": false
  }
 },
 "nbformat": 4,
 "nbformat_minor": 2
}
