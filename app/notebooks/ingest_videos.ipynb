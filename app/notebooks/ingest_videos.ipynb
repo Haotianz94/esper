{
 "cells": [
  {
   "cell_type": "code",
   "execution_count": null,
   "metadata": {
    "ExecuteTime": {
     "end_time": "2019-04-24T01:48:05.845121Z",
     "start_time": "2019-04-24T01:48:05.826393Z"
    }
   },
   "outputs": [],
   "source": [
    "from query.models import Video\n",
    "import cv2\n",
    "import os\n",
    "import datetime"
   ]
  },
  {
   "cell_type": "markdown",
   "metadata": {},
   "source": [
    "# Import videos from folder"
   ]
  },
  {
   "cell_type": "code",
   "execution_count": null,
   "metadata": {
    "ExecuteTime": {
     "end_time": "2019-04-24T01:48:06.914247Z",
     "start_time": "2019-04-24T01:48:06.896285Z"
    }
   },
   "outputs": [],
   "source": [
    "def import_video(path):\n",
    "    cap = cv2.VideoCapture(path)\n",
    "    num_frames = int(cap.get(cv2.CAP_PROP_FRAME_COUNT))\n",
    "    width = int(cap.get(cv2.CAP_PROP_FRAME_WIDTH))\n",
    "    height = int(cap.get(cv2.CAP_PROP_FRAME_HEIGHT))\n",
    "    fps = cap.get(cv2.CAP_PROP_FPS)\n",
    "    if 'CS' in path:\n",
    "        m, d, y = path.split('_')[2:5]\n",
    "        time = datetime.datetime(int(y), int(m), int(d))\n",
    "    else:\n",
    "        time = datetime.datetime(int(2019), int(1), int(1))\n",
    "    print(path, num_frames, fps, width, height, time)\n",
    "    Video(path=path, num_frames=num_frames, fps=fps, width=width, height=height, time=time).save()\n",
    "    return Video.objects.filter(path=path)[0]\n",
    "\n",
    "def import_frame(video):\n",
    "    Frame.objects.bulk_create([Frame(number=i, video=video) for i in range(video.num_frames)])"
   ]
  },
  {
   "cell_type": "code",
   "execution_count": null,
   "metadata": {
    "ExecuteTime": {
     "end_time": "2019-04-24T01:48:23.120729Z",
     "start_time": "2019-04-24T01:48:23.060592Z"
    }
   },
   "outputs": [],
   "source": [
    "import_video('/app/data/videos/sample-clip.mp4')"
   ]
  },
  {
   "cell_type": "code",
   "execution_count": null,
   "metadata": {
    "ExecuteTime": {
     "end_time": "2019-03-03T23:53:45.141237Z",
     "start_time": "2019-03-03T23:53:25.870321Z"
    },
    "scrolled": true
   },
   "outputs": [],
   "source": [
    "for video_name in sorted(os.listdir('/app/data/videos/')):\n",
    "    if video_name[0] == '.':\n",
    "        continue\n",
    "    videos = Video.objects.filter(path__contains=video_name)\n",
    "    if len(videos) > 0:\n",
    "        continue\n",
    "    print(video_name)\n",
    "    video = import_video(os.path.join('/app/data/videos/', video_name))\n",
    "    import_frame(video)"
   ]
  },
  {
   "cell_type": "code",
   "execution_count": null,
   "metadata": {
    "ExecuteTime": {
     "end_time": "2019-03-03T23:47:17.118987Z",
     "start_time": "2019-03-03T23:47:17.108390Z"
    }
   },
   "outputs": [],
   "source": [
    "video = Video.objects.filter(path__contains='table')[0]"
   ]
  },
  {
   "cell_type": "code",
   "execution_count": null,
   "metadata": {
    "ExecuteTime": {
     "end_time": "2019-03-03T23:47:48.024970Z",
     "start_time": "2019-03-03T23:47:47.996080Z"
    }
   },
   "outputs": [],
   "source": [
    "video.path = '/app/data/videos/Tabletennis_2012_Olympics_men_single_final_gold.mp4'\n",
    "video.save()"
   ]
  },
  {
   "cell_type": "markdown",
   "metadata": {},
   "source": [
    "# Analyze proportion of frames with faces"
   ]
  },
  {
   "cell_type": "code",
   "execution_count": null,
   "metadata": {
    "ExecuteTime": {
     "end_time": "2019-03-03T22:07:45.776345Z",
     "start_time": "2019-03-03T22:07:39.199193Z"
    },
    "scrolled": true
   },
   "outputs": [],
   "source": [
    "videos = Video.objects.filter(path__contains='CS248').order_by('id')\n",
    "for video in videos:\n",
    "    frames_with_face = Frame.objects.filter(video_id=video.id, tags__name='mtcnn:labeled')\n",
    "    print(video.item_name())\n",
    "    print(1. * len(frames_with_face) / video.num_frames)"
   ]
  },
  {
   "cell_type": "markdown",
   "metadata": {},
   "source": [
    "# Plot face distribution"
   ]
  },
  {
   "cell_type": "code",
   "execution_count": null,
   "metadata": {
    "ExecuteTime": {
     "end_time": "2019-02-27T21:31:24.077275Z",
     "start_time": "2019-02-27T21:31:24.059907Z"
    }
   },
   "outputs": [],
   "source": [
    "from rekall.interval_list import IntervalList\n",
    "from esper.rekall import *\n",
    "from esper.prelude import esper_widget"
   ]
  },
  {
   "cell_type": "code",
   "execution_count": null,
   "metadata": {
    "ExecuteTime": {
     "end_time": "2019-02-27T21:41:28.647404Z",
     "start_time": "2019-02-27T21:41:14.185827Z"
    },
    "scrolled": true
   },
   "outputs": [],
   "source": [
    "face_intrvllists = {}\n",
    "for video in videos:\n",
    "    faces = Face.objects.filter(frame__video_id=video.id).order_by('frame__number')\n",
    "    if len(faces) > 0:\n",
    "        face_intrvllists[video.id] = IntervalList([(f.frame.number, f.frame.number+1, 0) for f in faces]).coalesce()"
   ]
  },
  {
   "cell_type": "code",
   "execution_count": null,
   "metadata": {
    "ExecuteTime": {
     "end_time": "2019-02-27T21:44:04.204982Z",
     "start_time": "2019-02-27T21:44:04.177230Z"
    },
    "scrolled": true
   },
   "outputs": [],
   "source": [
    "esper_widget(intrvllists_to_result(face_intrvllists), use_jupyter_keybindings=True)"
   ]
  }
 ],
 "metadata": {
  "kernelspec": {
   "display_name": "Django Shell-Plus",
   "language": "python",
   "name": "django_extensions"
  },
  "language_info": {
   "codemirror_mode": {
    "name": "ipython",
    "version": 3
   },
   "file_extension": ".py",
   "mimetype": "text/x-python",
   "name": "python",
   "nbconvert_exporter": "python",
   "pygments_lexer": "ipython3",
   "version": "3.5.2"
  },
  "toc": {
   "nav_menu": {},
   "number_sections": true,
   "sideBar": true,
   "skip_h1_title": false,
   "toc_cell": false,
   "toc_position": {},
   "toc_section_display": "block",
   "toc_window_display": false
  }
 },
 "nbformat": 4,
 "nbformat_minor": 2
}
