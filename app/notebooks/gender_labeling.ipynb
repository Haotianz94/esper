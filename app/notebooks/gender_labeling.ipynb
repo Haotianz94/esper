{
 "cells": [
  {
   "cell_type": "markdown",
   "metadata": {
    "hide_input": true
   },
   "source": [
    "# Setup\n",
    "\n",
    "There is a hidden initialization cell below. It should run automatically and print, but if it does not, please run it."
   ]
  },
  {
   "cell_type": "code",
   "execution_count": 1,
   "metadata": {
    "ExecuteTime": {
     "end_time": "2019-03-09T07:27:10.363770Z",
     "start_time": "2019-03-09T07:27:00.249135Z"
    },
    "hide_input": true,
    "init_cell": true
   },
   "outputs": [
    {
     "name": "stdout",
     "output_type": "stream",
     "text": [
      "Loading libraries... Please wait.\n",
      "Done!\n"
     ]
    },
    {
     "data": {
      "application/vnd.jupyter.widget-view+json": {
       "model_id": "7091ec0441d24e05b16a54f8a154103c",
       "version_major": 2,
       "version_minor": 0
      },
      "text/plain": [
       "IntSlider(value=50, continuous_update=False, description='Faces per widget page:', min=25, style=SliderStyle(d…"
      ]
     },
     "metadata": {},
     "output_type": "display_data"
    },
    {
     "name": "stdout",
     "output_type": "stream",
     "text": [
      "New labels will be saved with labeler: handlabeled-gender-validation-knn\n"
     ]
    }
   ],
   "source": [
    "%matplotlib inline\n",
    "\n",
    "print('Loading libraries... Please wait.')\n",
    "\n",
    "from IPython.display import display, clear_output\n",
    "import ipywidgets as widgets\n",
    "import random\n",
    "import sys\n",
    "from sklearn.metrics import confusion_matrix, accuracy_score\n",
    "\n",
    "from esper.prelude import *\n",
    "from esper.widget import *\n",
    "import esper.face_embeddings as face_embeddings\n",
    "\n",
    "\n",
    "WIDGET_STYLE_ARGS = {'description_width': 'initial'}\n",
    "\n",
    "\n",
    "def query_faces(ids):\n",
    "    faces = Face.objects.filter(id__in=ids)\n",
    "    return faces.values(\n",
    "        'id', 'bbox_y1', 'bbox_y2', 'bbox_x1', 'bbox_x2',\n",
    "        'frame__number', 'frame__video__id', 'frame__video__fps',\n",
    "        'shot__min_frame', 'shot__max_frame')\n",
    "\n",
    "\n",
    "def query_sample(qs, n):\n",
    "    return qs.order_by('?')[:n]\n",
    "\n",
    "\n",
    "def query_faces_result(faces, expand_bbox=0.05):\n",
    "    \"\"\"Replaces qs_to_result\"\"\"\n",
    "    result = []\n",
    "    for face in faces:\n",
    "        if (face.get('shot__min_frame') is not None and \n",
    "                face.get('shot__max_frame') is not None):\n",
    "            min_frame = int(\n",
    "                (face['shot__min_frame'] + \n",
    "                 face['shot__max_frame']) / 2)\n",
    "        else:\n",
    "            min_frame = face['frame__number']\n",
    "        face_result = {\n",
    "            'type': 'flat', 'label': '', \n",
    "            'elements': [{\n",
    "                'objects': [{\n",
    "                    'id': face['id'],\n",
    "                    'background': False,\n",
    "                    'type': 'bbox',\n",
    "                    'bbox_y1': max(face['bbox_y1'] - expand_bbox, 0),\n",
    "                    'bbox_y2': min(face['bbox_y2'] + expand_bbox, 1),\n",
    "                    'bbox_x1': max(face['bbox_x1'] - expand_bbox, 0),\n",
    "                    'bbox_x2': min(face['bbox_x2'] + expand_bbox, 1),\n",
    "                }], \n",
    "                'min_frame': min_frame,\n",
    "                'video': face['frame__video__id']\n",
    "            }]\n",
    "        }\n",
    "        result.append(face_result)\n",
    "    return {'type': 'Face', 'count': 0, 'result': result}\n",
    "\n",
    "\n",
    "def simple_random_sampler(n):\n",
    "    return set(face_embeddings.sample(n))\n",
    "\n",
    "\n",
    "GENDER_LONG_NAME = {'F': 'female', 'M': 'male'}\n",
    "def save_gender_labels(ids, gender_name):\n",
    "    gender = Gender.objects.get(name=gender_name)\n",
    "    labeler = Labeler.objects.get(name=HANDLABELER_NAME)\n",
    "    for face_id in ids:\n",
    "        fg, created = FaceGender.objects.get_or_create(\n",
    "            face_id=face_id, labeler=labeler, \n",
    "            defaults={'gender': gender}, probability=1.)\n",
    "        if not created:\n",
    "            print('{} was already labeled: updated it'.format(face_id))\n",
    "            fg.gender = gender\n",
    "        fg.save()\n",
    "    print('Saved {} {} labels'.format(len(ids), GENDER_LONG_NAME[gender_name]))\n",
    "    \n",
    "\n",
    "def label_random_faces(n, sampler=simple_random_sampler, order_by='random'):\n",
    "    print('Loading {} faces'.format(n))\n",
    "    # Simple random sample across the entire dataset\n",
    "    face_ids = simple_random_sampler(n)\n",
    "    faces = list(query_faces(face_ids))\n",
    "    if order_by == 'gender':\n",
    "        genders = {\n",
    "            fg['face__id'] : fg['gender__id']\n",
    "            for fg in FaceGender.objects.filter(face__id__in=face_ids).values('face__id', 'gender__id')\n",
    "        }\n",
    "        faces.sort(key=lambda x: genders.get(x['id'], 0))\n",
    "    elif order_by == 'random':\n",
    "        random.shuffle(faces)\n",
    "    else:\n",
    "        print('Unknown sort order: using random instead', file=sys.stderr)\n",
    "    selection_widget = esper_widget(\n",
    "        query_faces_result(faces), \n",
    "        disable_playback=True, jupyter_keybindings=True,\n",
    "        crop_bboxes=True, results_per_page=faces_per_page())\n",
    "    \n",
    "    submit_button = widgets.Button(\n",
    "        layout=widgets.Layout(width='auto'),\n",
    "        style=WIDGET_STYLE_ARGS,\n",
    "        description='Save to database',\n",
    "        disabled=False,\n",
    "        button_style='danger'\n",
    "    )\n",
    "    def on_submit(b):\n",
    "        male_ids = [faces[i]['id'] for i in selection_widget.selected]\n",
    "        female_ids = [faces[i]['id'] for i in selection_widget.ignored]\n",
    "        clear_output()\n",
    "        save_gender_labels(male_ids, 'M')\n",
    "        save_gender_labels(female_ids, 'F')\n",
    "        label_random_faces(n, sampler, order_by)\n",
    "    submit_button.on_click(on_submit)\n",
    "    \n",
    "    refresh_button = widgets.Button(\n",
    "        layout=widgets.Layout(width='auto'),\n",
    "        style=WIDGET_STYLE_ARGS,\n",
    "        description='Refresh (w/o saving)',\n",
    "        disabled=False,\n",
    "        button_style=''\n",
    "    )\n",
    "    def on_refresh(b):\n",
    "        clear_output()\n",
    "        label_random_faces(n, sampler, order_by)\n",
    "    refresh_button.on_click(on_refresh)\n",
    "    \n",
    "    dismiss_button = widgets.Button(\n",
    "        layout=widgets.Layout(width='auto'),\n",
    "        style=WIDGET_STYLE_ARGS,\n",
    "        description='Dismiss widget (w/o saving)',\n",
    "        disabled=False,\n",
    "        button_style=''\n",
    "    )\n",
    "    def on_dismiss(b):\n",
    "        clear_output()\n",
    "        print('Dismissed widget. Re-run cell to get it back.')\n",
    "    dismiss_button.on_click(on_dismiss)\n",
    "    \n",
    "    display(widgets.HBox([submit_button, refresh_button, dismiss_button]))\n",
    "    display(selection_widget)\n",
    "    \n",
    "\n",
    "MODEL_LABELER_NAME = 'knn-gender'\n",
    "def print_gender_validation_stats(normalize=False):\n",
    "    labeler = Labeler.objects.get(name=HANDLABELER_NAME)\n",
    "    hand_face_genders = {\n",
    "        fg['face__id']: fg['gender__id']\n",
    "        for fg in FaceGender.objects.filter(\n",
    "            labeler=labeler\n",
    "        ).values('face__id', 'gender__id')\n",
    "    }\n",
    "    gender_id_dict = {g.name: g.id for g in Gender.objects.all()}\n",
    "    male_count = sum((\n",
    "        1 for g in hand_face_genders.values() if g == gender_id_dict['M']\n",
    "    ))\n",
    "    female_count = sum((\n",
    "        1 for g in hand_face_genders.values() if g == gender_id_dict['F']\n",
    "    ))\n",
    "    print('{} faces have been hand-labeled ({} male, {} female)'.format(\n",
    "          len(hand_face_genders), male_count, female_count))\n",
    "    \n",
    "    y_pred = []\n",
    "    y_truth = []\n",
    "    for fg in FaceGender.objects.filter(\n",
    "        face__id__in=list(hand_face_genders.keys()), \n",
    "        labeler__name=MODEL_LABELER_NAME\n",
    "    ).values('face__id', 'gender__id'):\n",
    "        y_pred.append(fg['gender__id'])\n",
    "        y_truth.append(hand_face_genders[fg['face__id']])\n",
    "    \n",
    "    cm = confusion_matrix(y_truth, y_pred)\n",
    "    \n",
    "    if normalize:\n",
    "        cm = cm.astype('float') / cm.sum(axis=1)[:, np.newaxis]\n",
    "\n",
    "    classes = ['Male', 'Female']\n",
    "    plt.figure(figsize=(5, 5))\n",
    "    plt.imshow(cm, interpolation='nearest', cmap=plt.cm.Reds)\n",
    "    plt.title('Gender confusion matrix')\n",
    "    plt.colorbar()\n",
    "    tick_marks = np.arange(len(classes))\n",
    "    plt.xticks(tick_marks, classes, rotation=45)\n",
    "    plt.yticks(tick_marks, classes)\n",
    "\n",
    "    fmt = '.2f' if normalize else 'd'\n",
    "    thresh = cm.max() / 2.\n",
    "    for i, j in itertools.product(range(cm.shape[0]), range(cm.shape[1])):\n",
    "        plt.text(j, i, format(cm[i, j], fmt),\n",
    "                 horizontalalignment=\"center\",\n",
    "                 color=\"white\" if cm[i, j] > thresh else \"black\")\n",
    "\n",
    "    plt.ylabel('Hand label')\n",
    "    plt.xlabel('Predicted label')\n",
    "    plt.tight_layout()\n",
    "    plt.show()\n",
    "    \n",
    "    print('Overall accuracy: {:0.2f}'.format(\n",
    "          accuracy_score(y_truth, y_pred)))\n",
    "        \n",
    "    \n",
    "DEFAULT_FACES_PER_PAGE = 50\n",
    "_faces_per_page_slider = widgets.IntSlider(\n",
    "    value=DEFAULT_FACES_PER_PAGE,\n",
    "    style=WIDGET_STYLE_ARGS,\n",
    "    min=25,\n",
    "    max=100,\n",
    "    step=1,\n",
    "    description='Faces per widget page:',\n",
    "    disabled=False,\n",
    "    continuous_update=False,\n",
    "    orientation='horizontal',\n",
    "    readout=True,\n",
    "    readout_format='d'\n",
    ")\n",
    "def faces_per_page():\n",
    "    try:\n",
    "        return _faces_per_page_slider.value\n",
    "    except:\n",
    "        return DEFAULT_FACES_PER_PAGE\n",
    "\n",
    "print('Done!')\n",
    "\n",
    "display(_faces_per_page_slider)\n",
    "\n",
    "HANDLABELER_NAME = 'handlabeled-gender-validation-knn'\n",
    "print('New labels will be saved with labeler:', HANDLABELER_NAME)"
   ]
  },
  {
   "cell_type": "markdown",
   "metadata": {
    "hide_input": true
   },
   "source": [
    "# Labeling\n",
    "\n",
    "`label_random_faces()` will sample faces from the dataset.\n",
    "\n",
    "<b>Keys:</b>\n",
    " - To label a <b>male</b> face, press '['. To label all faces on a page, press '{' (i.e., shift + '[').\n",
    " - To label a <b>female</b> face, press ']'. To label all faces on a page, press '}' (i.e., shift + ']').\n",
    " - To expand an image, press '=', and press again to shrink it.\n",
    " - To label ALL previously unlabeled faces up to and including the current face as <b>male</b>, press '?' (i.e., shift + '/').\n",
    " - Do not highlight if unsure.\n",
    " \n",
    "Once you are satisfied with your selections, press <b>save to database</b>. Re-run this cell as needed.\n",
    "\n",
    "Note: the bounding boxes have been expanded by 5%."
   ]
  },
  {
   "cell_type": "code",
   "execution_count": 2,
   "metadata": {
    "ExecuteTime": {
     "end_time": "2019-03-09T07:27:14.549804Z",
     "start_time": "2019-03-09T07:27:10.366755Z"
    },
    "scrolled": false
   },
   "outputs": [
    {
     "name": "stdout",
     "output_type": "stream",
     "text": [
      "Dismissed widget. Re-run cell to get it back.\n"
     ]
    }
   ],
   "source": [
    "label_random_faces(\n",
    "    faces_per_page(),  # number of faces to show (exactly 1 page)\n",
    "    sampler=simple_random_sampler,\n",
    "    order_by='gender'  # predicted men then women\n",
    "#     order_by='random'\n",
    ")"
   ]
  },
  {
   "cell_type": "markdown",
   "metadata": {},
   "source": [
    "You can view the current validation statistics by calling `print_gender_validation_stats()`."
   ]
  },
  {
   "cell_type": "code",
   "execution_count": 3,
   "metadata": {
    "ExecuteTime": {
     "end_time": "2019-03-09T07:27:23.360925Z",
     "start_time": "2019-03-09T07:27:23.051811Z"
    },
    "scrolled": false
   },
   "outputs": [
    {
     "name": "stdout",
     "output_type": "stream",
     "text": [
      "1066 faces have been hand-labeled (735 male, 331 female)\n"
     ]
    },
    {
     "data": {
      "image/png": "[encoded data removed]",
      "text/plain": [
       "<matplotlib.figure.Figure at 0x7f23273865f8>"
      ]
     },
     "metadata": {},
     "output_type": "display_data"
    },
    {
     "name": "stdout",
     "output_type": "stream",
     "text": [
      "Overall accuracy: 0.96\n"
     ]
    }
   ],
   "source": [
    "print_gender_validation_stats(normalize=True)"
   ]
  },
  {
   "cell_type": "code",
   "execution_count": null,
   "metadata": {},
   "outputs": [],
   "source": []
  }
 ],
 "metadata": {
  "celltoolbar": "Initialization Cell",
  "kernelspec": {
   "display_name": "Django Shell-Plus",
   "language": "python",
   "name": "django_extensions"
  },
  "language_info": {
   "codemirror_mode": {
    "name": "ipython",
    "version": 3
   },
   "file_extension": ".py",
   "mimetype": "text/x-python",
   "name": "python",
   "nbconvert_exporter": "python",
   "pygments_lexer": "ipython3",
   "version": "3.5.2"
  },
  "toc": {
   "nav_menu": {},
   "number_sections": true,
   "sideBar": true,
   "skip_h1_title": false,
   "toc_cell": false,
   "toc_position": {},
   "toc_section_display": "block",
   "toc_window_display": false
  }
 },
 "nbformat": 4,
 "nbformat_minor": 2
}
