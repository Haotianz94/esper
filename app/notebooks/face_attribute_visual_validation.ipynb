{
 "cells": [
  {
   "cell_type": "code",
   "execution_count": null,
   "metadata": {
    "ExecuteTime": {
     "end_time": "2019-01-10T21:23:48.949660Z",
     "start_time": "2019-01-10T21:23:48.928946Z"
    }
   },
   "outputs": [],
   "source": [
    "from IPython.display import display\n",
    "from esper.widget import *"
   ]
  },
  {
   "cell_type": "markdown",
   "metadata": {},
   "source": [
    "# Strided sample of haircolors"
   ]
  },
  {
   "cell_type": "code",
   "execution_count": null,
   "metadata": {
    "ExecuteTime": {
     "end_time": "2019-01-10T21:24:01.083344Z",
     "start_time": "2019-01-10T21:23:49.943591Z"
    },
    "scrolled": false
   },
   "outputs": [],
   "source": [
    "for hc in HairColorName.objects.all():\n",
    "    print(hc.name)\n",
    "    widget = esper_widget(\n",
    "        qs_to_result(HairColor.objects.filter(color=hc), stride=10000),\n",
    "        jupyter_keybindings=True, disable_playback=True, results_per_page=25,\n",
    "    )\n",
    "    display(widget)"
   ]
  },
  {
   "cell_type": "markdown",
   "metadata": {},
   "source": [
    "# Strided sample of hairlengths"
   ]
  },
  {
   "cell_type": "code",
   "execution_count": null,
   "metadata": {
    "ExecuteTime": {
     "end_time": "2019-01-10T21:24:14.940543Z",
     "start_time": "2019-01-10T21:24:01.086913Z"
    },
    "scrolled": false
   },
   "outputs": [],
   "source": [
    "for hl in HairLengthName.objects.all():\n",
    "    print(hl.name)\n",
    "    widget = esper_widget(\n",
    "        qs_to_result(HairLength.objects.filter(length=hl), stride=10000),\n",
    "        jupyter_keybindings=True, disable_playback=True, results_per_page=25,\n",
    "        crop_bboxes=False\n",
    "    )\n",
    "    display(widget)"
   ]
  },
  {
   "cell_type": "code",
   "execution_count": null,
   "metadata": {},
   "outputs": [],
   "source": []
  }
 ],
 "metadata": {
  "kernelspec": {
   "display_name": "Django Shell-Plus",
   "language": "python",
   "name": "django_extensions"
  },
  "language_info": {
   "codemirror_mode": {
    "name": "ipython",
    "version": 3
   },
   "file_extension": ".py",
   "mimetype": "text/x-python",
   "name": "python",
   "nbconvert_exporter": "python",
   "pygments_lexer": "ipython3",
   "version": "3.5.2"
  },
  "toc": {
   "nav_menu": {},
   "number_sections": true,
   "sideBar": true,
   "skip_h1_title": false,
   "toc_cell": false,
   "toc_position": {},
   "toc_section_display": "block",
   "toc_window_display": false
  }
 },
 "nbformat": 4,
 "nbformat_minor": 2
}
