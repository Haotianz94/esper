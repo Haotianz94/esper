{
 "cells": [
  {
   "cell_type": "code",
   "execution_count": null,
   "metadata": {
    "ExecuteTime": {
     "end_time": "2019-01-10T21:29:06.390877Z",
     "start_time": "2019-01-10T21:29:06.369328Z"
    }
   },
   "outputs": [],
   "source": [
    "from IPython.display import display\n",
    "from esper.widget import *"
   ]
  },
  {
   "cell_type": "markdown",
   "metadata": {},
   "source": [
    "# Strided sample of haircolors"
   ]
  },
  {
   "cell_type": "code",
   "execution_count": null,
   "metadata": {
    "ExecuteTime": {
     "end_time": "2019-01-10T21:29:47.894560Z",
     "start_time": "2019-01-10T21:29:38.783980Z"
    },
    "scrolled": false
   },
   "outputs": [],
   "source": [
    "for hc in HairColorName.objects.all():\n",
    "    print(hc.name)\n",
    "    widget = esper_widget(\n",
    "        qs_to_resultf==,\n",
    "        jupyter_keybindings=True, disable_playback=True, results_per_page=25, \n",
    "        crop_bboxes=True\n",
    "    )\n",
    "    display(widget)"
   ]
  },
  {
   "cell_type": "markdown",
   "metadata": {},
   "source": [
    "# Strided sample of hairlengths"
   ]
  },
  {
   "cell_type": "code",
   "execution_count": null,
   "metadata": {
    "ExecuteTime": {
     "end_time": "2019-01-10T21:29:30.614884Z",
     "start_time": "2019-01-10T21:29:18.554504Z"
    },
    "scrolled": false
   },
   "outputs": [],
   "source": [
    "for hl in HairLengthName.objects.all():\n",
    "    print(hl.name)\n",
    "    widget = esper_widget(\n",
    "        qs_to_result(HairLength.objects.filter(length=hl), stride=10000),\n",
    "        jupyter_keybindings=True, disable_playback=True, results_per_page=25,\n",
    "        crop_bboxes=False\n",
    "    )\n",
    "    display(widget)"
   ]
  },
  {
   "cell_type": "code",
   "execution_count": null,
   "metadata": {},
   "outputs": [],
   "source": []
  }
 ],
 "metadata": {
  "kernelspec": {
   "display_name": "Django Shell-Plus",
   "language": "python",
   "name": "django_extensions"
  },
  "language_info": {
   "codemirror_mode": {
    "name": "ipython",
    "version": 3
   },
   "file_extension": ".py",
   "mimetype": "text/x-python",
   "name": "python",
   "nbconvert_exporter": "python",
   "pygments_lexer": "ipython3",
   "version": "3.5.2"
  },
  "toc": {
   "nav_menu": {},
   "number_sections": true,
   "sideBar": true,
   "skip_h1_title": false,
   "toc_cell": false,
   "toc_position": {},
   "toc_section_display": "block",
   "toc_window_display": false
  }
 },
 "nbformat": 4,
 "nbformat_minor": 2
}
