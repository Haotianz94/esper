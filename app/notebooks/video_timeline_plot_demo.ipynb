{
 "cells": [
  {
   "cell_type": "markdown",
   "metadata": {
    "toc": true
   },
   "source": [
    "<h1>Table of Contents<span class=\"tocSkip\"></span></h1>\n",
    "<div class=\"toc\" style=\"margin-top: 1em;\"><ul class=\"toc-item\"><li><span><a href=\"#A-Silly-Demo\" data-toc-modified-id=\"A-Silly-Demo-1\"><span class=\"toc-item-num\">1&nbsp;&nbsp;</span>A Silly Demo</a></span></li></ul></div>"
   ]
  },
  {
   "cell_type": "code",
   "execution_count": null,
   "metadata": {
    "ExecuteTime": {
     "end_time": "2018-07-28T08:02:35.746953Z",
     "start_time": "2018-07-28T08:02:29.008657Z"
    }
   },
   "outputs": [],
   "source": [
    "from esper.plot_timeline import VideoRow, plot_video_timelines\n",
    "from datetime import timedelta"
   ]
  },
  {
   "cell_type": "markdown",
   "metadata": {},
   "source": [
    "# A Silly Demo"
   ]
  },
  {
   "cell_type": "code",
   "execution_count": null,
   "metadata": {
    "ExecuteTime": {
     "end_time": "2018-07-28T08:03:06.085385Z",
     "start_time": "2018-07-28T08:02:57.064320Z"
    },
    "scrolled": false
   },
   "outputs": [],
   "source": [
    "# Sample some videos from Wolf\n",
    "videos = Video.objects.filter(show__name='Wolf')[:5]\n",
    "\n",
    "# The width of the top bar is the shot length (saturated at some value).\n",
    "# Annotations on the plot are shown for demo purposes.\n",
    "plot_video_timelines(\n",
    "    [\n",
    "        VideoRow(\n",
    "            v,\n",
    "            # Draw some intervals on all of the videos\n",
    "            interval_labels={\n",
    "                'foo' : [\n",
    "                    (timedelta(seconds=500), timedelta(seconds=1000)), \n",
    "                    (timedelta(seconds=100), timedelta(seconds=350))\n",
    "                ],\n",
    "                'bar' : [(timedelta(seconds=200), timedelta(seconds=1400))]\n",
    "            },\n",
    "            # Draw some events on all of the videos\n",
    "            discrete_labels={\n",
    "                'alice' : [timedelta(seconds=x) for x in range(250, 3000, 500)],\n",
    "                'bob' : [timedelta(seconds=x) for x in range(0, 3000, 1000)],\n",
    "                'eve' : [timedelta(seconds=x) for x in range(125, 3000, 777)]\n",
    "            }\n",
    "        ) for v in videos\n",
    "    ],\n",
    "    show_segment_boundaries=False, # True is very slow\n",
    "    interval_label_color_map={\n",
    "        'foo': 'Blue', \n",
    "        'bar': 'Red'\n",
    "    },\n",
    "    discrete_label_shape_map={\n",
    "        'alice': 'o', # Circle\n",
    "        'bob': 's',   # Square\n",
    "        'eve': 'v'    # Down Triangle\n",
    "    },\n",
    "    max_length=timedelta(seconds=3600)\n",
    ")"
   ]
  },
  {
   "cell_type": "code",
   "execution_count": null,
   "metadata": {
    "ExecuteTime": {
     "end_time": "2018-07-17T19:52:07.574839Z",
     "start_time": "2018-07-17T19:51:26.572778Z"
    },
    "scrolled": false
   },
   "outputs": [],
   "source": []
  }
 ],
 "metadata": {
  "kernelspec": {
   "display_name": "Django Shell-Plus",
   "language": "python",
   "name": "django_extensions"
  },
  "language_info": {
   "codemirror_mode": {
    "name": "ipython",
    "version": 3
   },
   "file_extension": ".py",
   "mimetype": "text/x-python",
   "name": "python",
   "nbconvert_exporter": "python",
   "pygments_lexer": "ipython3",
   "version": "3.5.2"
  },
  "toc": {
   "base_numbering": 1,
   "nav_menu": {},
   "number_sections": true,
   "sideBar": false,
   "skip_h1_title": false,
   "title_cell": "Table of Contents",
   "title_sidebar": "Contents",
   "toc_cell": true,
   "toc_position": {},
   "toc_section_display": "block",
   "toc_window_display": false
  }
 },
 "nbformat": 4,
 "nbformat_minor": 2
}
