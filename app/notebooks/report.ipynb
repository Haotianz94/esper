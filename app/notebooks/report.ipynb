{
 "cells": [
  {
   "cell_type": "code",
   "execution_count": null,
   "metadata": {
    "ExecuteTime": {
     "end_time": "2018-07-08T19:50:32.446180Z",
     "start_time": "2018-07-08T19:50:22.334639Z"
    },
    "hide_input": false
   },
   "outputs": [],
   "source": [
    "from esper.prelude import *\n",
    "from esper.report import *\n",
    "from esper.validation import *\n",
    "import statsmodels.api as sm\n",
    "\n",
    "NETWORK_COLORS = [\n",
    "    ('CNN', 'tab:purple'),\n",
    "    ('FOXNEWS', 'tab:orange'),\n",
    "    ('MSNBC', 'tab:green')\n",
    "]"
   ]
  },
  {
   "cell_type": "markdown",
   "metadata": {},
   "source": [
    "# Introduction\n",
    "In the news, everyone's got an opinion, but conversely, everyone also has an opinion about the news. This channel is biased, that show only talks about negative news, the whole media covers too much Trump. Opinions are easy to make based on the individuals shows and clips we watch or see shared on social media every day. Now more than ever, it's critical that our understanding of how we produce and consume news media is informed by data, not anecdotes.\n",
    "\n",
    "At the same time, advances in artificial intelligence and big data systems are now enabling us to analyze complex visual mediums like video at scale. Computer vision and machine learning technologies can automatically watch video to find and recognize individuals, identify visual attributes like clothing, lighting, and setting, as well as break video into segments, e.g. commercials vs. news. Cloud infrastructure combined with big data systems can enable individuals to scale these technologies to automatically annotate thousands or millions of hours of video.\n",
    "\n",
    "In light of these two trends, we  conducted a study to analyze 70,000 hours of US TV news video over three years provided by the Internet Archive. We sought to identify trends in screen time, speaking time, topic coverage, and more. Our dataset consisted of every video broadcast by CNN, FOX, and MSNBC from January 1, 2015 to December 31, 2017 and included the video, audio, and closed captions. Methodology for each analysis is provided at the end of this report."
   ]
  },
  {
   "cell_type": "markdown",
   "metadata": {},
   "source": [
    "# Gender balance\n",
    "Most of the news is anchors and guests staring into the camera, discussing the topics of the day with one another (or in monologue). We would like to know who is being provided the platform to share their views, along with when/where that occurs, starting with analyzing men vs. women. We looked at two metrics: screen time, or the length of time a person is on screen, and speaking time, or how long a person is talking. For example, if two men and one woman are on screen for 5 seconds with the woman speaking, this would be 10 seconds of male screen time, 5 seconds of female screen time, and 5 seconds of female speaking time. We then compare the proportion of male time to the total time anyone was on screen or speaking.\n",
    "\n",
    "## Men are seen and heard more than women"
   ]
  },
  {
   "cell_type": "code",
   "execution_count": null,
   "metadata": {
    "ExecuteTime": {
     "end_time": "2018-07-08T19:50:33.037678Z",
     "start_time": "2018-07-08T19:50:32.533811Z"
    },
    "hide_input": true
   },
   "outputs": [],
   "source": [
    "screen_df = pd.DataFrame.from_csv('/app/data/screen_all.csv')\n",
    "screen_nh_df = pd.DataFrame.from_csv('/app/data/screen_all_nh.csv')\n",
    "speak_df = pd.DataFrame.from_csv('/app/data/speaking_all.csv')\n",
    "\n",
    "fig = plt.figure(figsize=(8,8))\n",
    "plt.suptitle('Gender balance across entire dataset')\n",
    "plt.axis('off')\n",
    "def pieplt(ax, df, title):\n",
    "    pct = df['M%'][0]\n",
    "    x = [pct, 100-pct]\n",
    "    wedges, _ = ax.pie(x, labels=['{}%'.format(i) for i in x], colors=['tab:blue', 'tab:red'], explode=[0.02, 0])\n",
    "    ax.set_title(title)\n",
    "    return wedges\n",
    "    \n",
    "wedges = pieplt(fig.add_subplot(221), screen_df, 'Screen time')    \n",
    "pieplt(fig.add_subplot(222), screen_nh_df, 'Screen time (no host)')    \n",
    "pieplt(fig.add_subplot(223), speak_df, 'Speaking time')    \n",
    "_ = plt.figlegend(wedges, ['Men', 'Women'])"
   ]
  },
  {
   "cell_type": "markdown",
   "metadata": {},
   "source": [
    "We found that **across the whole dataset, there were about twice as many men as women shown on screen**, and a similar but slightly more equal balance for speaking time (shown above). This is roughly consistent with a previous finding of the same bias in [feature films](https://www.google.com/about/main/gender-equality-films/). There were no significant differences between the channels (FOX/CNN/MSNBC), however we did find substantial variance in individual shows.\n",
    "\n",
    "## Individual shows substantially differ"
   ]
  },
  {
   "cell_type": "code",
   "execution_count": null,
   "metadata": {
    "ExecuteTime": {
     "end_time": "2018-07-08T20:42:17.021423Z",
     "start_time": "2018-07-08T20:42:16.093171Z"
    },
    "hide_input": false
   },
   "outputs": [],
   "source": [
    "screen_show = pd.DataFrame.from_csv('/app/data/screen_show.csv')\n",
    "screen_show_nh = pd.DataFrame.from_csv('/app/data/screen_show_nh.csv')\n",
    "screen_show_jh = pd.DataFrame.from_csv('/app/data/screen_show_jh.csv')\n",
    "speaking_show = pd.DataFrame.from_csv('/app/data/speaking_show.csv')\n",
    "speaking_show_nh = pd.DataFrame.from_csv('/app/data/speaking_show_nh.csv')\n",
    "[screen_show, screen_show_nh, screen_show_jh, speaking_show, speaking_show_nh] = align(\n",
    "    'show_id', [\n",
    "        screen_show, \n",
    "        screen_show_nh,\n",
    "        screen_show_jh,\n",
    "        speaking_show,\n",
    "        speaking_show_nh\n",
    "    ]\n",
    ")\n",
    "screen_speak_scatter(\n",
    "    screen_show, \n",
    "    screen_show_nh, \n",
    "    speaking_show, \n",
    "    speaking_show_nh, \n",
    "    'show_id', \n",
    "    'Gender balance of screen time by show', \n",
    "    ['screen']\n",
    ")"
   ]
  },
  {
   "cell_type": "code",
   "execution_count": null,
   "metadata": {
    "ExecuteTime": {
     "end_time": "2018-07-08T20:42:22.465805Z",
     "start_time": "2018-07-08T20:42:17.023973Z"
    },
    "hide_input": true
   },
   "outputs": [],
   "source": [
    "shows = screen_show.sort_values(by=['M%']).show_id\n",
    "\n",
    "def get_face(show):\n",
    "    host_face = Face.objects.filter(is_host=True, person__frame__video__show__name=show) \\\n",
    "        .select_related('person__frame__video')[0]\n",
    "    return resize(crop(load_frame(host_face.person.frame.video, host_face.person.frame.number, []), host_face), None, 50)\n",
    "\n",
    "faces = par_for(get_face, shows, progress=False)\n",
    "\n",
    "#plt.imshow(cv2.cvtColor(np.vstack((np.hstack(faces[:len(faces)/2]), np.hstack(faces[len(faces)/2:]))), cv2.COLOR_RGB2BGR))\n",
    "plt.imshow(cv2.cvtColor(np.hstack(faces), cv2.COLOR_RGB2BGR))\n",
    "_ = plt.axis('off')"
   ]
  },
  {
   "cell_type": "markdown",
   "metadata": {},
   "source": [
    "Above, we plot the percentage of time men are on screen vs. women separated by the top 40 shows. A blue square is the percentage of screen time for men, and a red square is percentage of screen time for women (so blue square + red square = 100%). The line indicates the size and direction of the disparity--a big line indicates a large difference between men vs. women, and blue indicates more men than women (and red vice versa). The shows are sorted by their percentage of men, from least to most. From this graph, we can observe:\n",
    "* As expected, **female-hosted shows have more female screen/speaking time**. Shows like The Kelly File and The Rachel Maddow Show have more female screen time, mixed-host shows like The Five and FOX & Friends are towards the middle, and male-hosted shows have more men.\n",
    "* **Of the top 30 shows, only 3 have a majority female screen time** (Outnumbered, Judge Jeanine, Brooke Baldwin), even though 20 shows have at lesat one female host.\n",
    "* **Several male hosted shows have men outnumbering women at least 3 to 1** (e.g. Tucker Carlson, Chris Hayes).\n",
    "\n",
    "The next logical question is: how much is the host contributing to these metrics? We would expect the host to be on screen much of the time, but what about the guests? We re-ran the same analysis, but controlled for this effect by eliminating all instances of the host.\n",
    "\n",
    "\n",
    "## Guests have the same gender balance regardless of show"
   ]
  },
  {
   "cell_type": "code",
   "execution_count": null,
   "metadata": {
    "ExecuteTime": {
     "end_time": "2018-07-08T20:42:23.541443Z",
     "start_time": "2018-07-08T20:42:22.479537Z"
    },
    "hide_input": false
   },
   "outputs": [],
   "source": [
    "screen_speak_scatter(\n",
    "    screen_show, \n",
    "    screen_show_nh, \n",
    "    speaking_show, \n",
    "    speaking_show_nh, \n",
    "    'show_id', \n",
    "    'Gender balance of screen time by show, host vs. non-host', \n",
    "    ['screen', 'screen_nh']\n",
    ")\n",
    "screen_nh_model = sm.OLS(\n",
    "    screen_show_nh['M%'].tolist(), \n",
    "    sm.add_constant(screen_show['M%'].tolist())\n",
    ").fit()"
   ]
  },
  {
   "cell_type": "markdown",
   "metadata": {
    "variables": {
     "'{:.5f}'.format(screen_nh_model.pvalues[1])": {},
     "int(screen_nh_model.params[1]*10)": {}
    }
   },
   "source": [
    "Here, the 'x' is used to represent screen time without the host, while the square is screen time with the host. Comparing the two data sets, we can see that the screen time _without_ the host is far most consistent from show-to-show, roughly following a horizontal line around 70% male, suggesting that **the gender distribution of non-hosts (guests, extras, etc.) is mostly the same across every show.** \n",
    "\n",
    "In fact, there is a statistically significant but small relationship between the gender distribution including the host and without the host (p = {{'{:.5f}'.format(screen_nh_model.pvalues[1])}}). For every 10 percent increase in the ratio of men to women including the host, there is only a {{int(screen_nh_model.params[1]*10)}} percent increase in the ratio without the host. \n",
    "\n",
    "We can check whether these trends still hold when looking at speaking time instead of just screen time.\n",
    "\n",
    "## Speaking time tracks screen time, with exceptions"
   ]
  },
  {
   "cell_type": "code",
   "execution_count": null,
   "metadata": {
    "ExecuteTime": {
     "end_time": "2018-07-08T20:42:24.731335Z",
     "start_time": "2018-07-08T20:42:23.544615Z"
    },
    "hide_input": false
   },
   "outputs": [],
   "source": [
    "screen_speak_scatter(\n",
    "    screen_show, \n",
    "    screen_show_nh, \n",
    "    speaking_show, \n",
    "    speaking_show_nh, \n",
    "    'show_id', \n",
    "    'Gender balance by show, screen time vs. speaking time', \n",
    "    ['screen', 'speak']\n",
    ")\n",
    "model = sm.OLS(\n",
    "    speaking_show['M%'].tolist(), \n",
    "    sm.add_constant(screen_show['M%'].tolist())\n",
    ").fit()"
   ]
  },
  {
   "cell_type": "markdown",
   "metadata": {
    "variables": {
     "'{:.1e}'.format(model.pvalues[1])": {},
     "int(model.params[1]*10)": {}
    }
   },
   "source": [
    "Here, we represent the speaking time with a triangle, so a blue triangle is the male percentage of speaking time, and a red triangle is the female percentage of speaking time, whereas the squares still represent screen time. From this, we observe:\n",
    "* **Speaking time mostly tracks screen time.** That is, as the percentage of screen time for men increases, so does the percentage of speaking time for men in accord. For each 10 percent increase in the ratio of men to women in screen time, the ratio in speaking time increases {{int(model.params[1]*10)}} percent (p = {{'{:.1e}'.format(model.pvalues[1])}}).\n",
    "* **A few shows have substantially greater female speaking time than screen time.** For example, The Rachel Maddow Show, Hannity, and Tucker Carlson all have disproprtionately greater difference between screen/speaking time than other shows. Upon further inspection, it appears that Hannity and Tucker Carlson are artifacts of the speaking detection algorithm--Sean Hannity and Tucker Carlson are consistently misclassified as women. Rachel Maddow, by contrast, appears to simply speak a _lot_ on her show, frequently giving monologues that last the entire hour.\n",
    "\n",
    "Lastly, these numbers tell us the gender distribution for everything that's every aired on these shows, but what are these men and women actually talking about? Do men talk about different things than women? Using the transcripts, we selected a representative topic for each segment of the video (drawn from the [US News topic list](https://www.usnews.com/topics/subjects)), and then looked at who was talking/on screen during each kind of segment.\n",
    "\n",
    "## Women talk about stereotypically feminine topics"
   ]
  },
  {
   "cell_type": "code",
   "execution_count": null,
   "metadata": {
    "ExecuteTime": {
     "end_time": "2018-07-08T20:42:24.781682Z",
     "start_time": "2018-07-08T20:42:24.735344Z"
    },
    "hide_input": true
   },
   "outputs": [],
   "source": [
    "def time_to_sec(t):\n",
    "    [h,m,s] = t.split(':')\n",
    "    return 3600*int(h) + 60*int(m) + int(s)\n",
    "\n",
    "# df = screen_show.copy()\n",
    "# df['host_frac'] = [time_to_sec(a) / float(time_to_sec(b)) for a, b in zip(screen_show_jh.base.tolist(), screen_show.base.tolist())]\n",
    "# df = df.sort_values(by=['host_frac'])\n",
    "# df['test'] = list(range(len(df['host_frac'])))\n",
    "# ax = df.plot('test', 'host_frac', kind='scatter', use_index=False)\n",
    "# ax.set_xticks(range(len(df.show_id)))\n",
    "# _ = ax.set_xticklabels(df.show_id, rotation=45, horizontalalignment='right')"
   ]
  },
  {
   "cell_type": "code",
   "execution_count": null,
   "metadata": {
    "ExecuteTime": {
     "end_time": "2018-07-08T20:42:26.270215Z",
     "start_time": "2018-07-08T20:42:24.787864Z"
    },
    "hide_input": false
   },
   "outputs": [],
   "source": [
    "screen_topic = pd.DataFrame.from_csv('/app/data/screen_topic.csv')\n",
    "screen_topic_nh = pd.DataFrame.from_csv('/app/data/screen_topic_nh.csv')\n",
    "speaking_topic = pd.DataFrame.from_csv('/app/data/speaking_topic.csv')\n",
    "speaking_topic_nh = pd.DataFrame.from_csv('/app/data/speaking_topic_nh.csv')\n",
    "[screen_topic, screen_topic_nh, speaking_topic, speaking_topic_nh] = \\\n",
    "    align('topic', [screen_topic, screen_topic_nh, speaking_topic, speaking_topic_nh])\n",
    "\n",
    "screen_speak_scatter(\n",
    "    screen_topic, \n",
    "    screen_topic_nh, \n",
    "    speaking_topic,\n",
    "    speaking_topic_nh, \n",
    "    'topic', 'Gender balance by topic', \n",
    "    ['screen']\n",
    ")"
   ]
  },
  {
   "cell_type": "markdown",
   "metadata": {},
   "source": [
    "The graph above shows the gender balance of the top 60 topics by screen time. A clear trend emerges: **women speak more about stereotypically feminine topics, and men speak more about stereotypically masculine topics.** More women speak about feminism, family, and education, while more men speak about congress, terrorism, and the economy. Screen time without the host and speaking time (not shown) also display the same trend.\n",
    "\n",
    "We also analyzed potential gender disparities in screen/speaking time across days of the week and across the time of day, but found no significant trends, i.e. each day of the week and time of day roughly tracked the overall gender distribution. This suggests that although the news is overall biased, women are not comparatively worse off during prime time hours."
   ]
  },
  {
   "cell_type": "markdown",
   "metadata": {},
   "source": [
    "# Topic coverage\n",
    "With the abolition of the Fairness Doctrine in 1987 shortly preceding the rise of cable news, it has been a well documented phenomenon that today's news networks are more polarized than ever before. Consuming media from a single network presents a very particular view of the world, but we'd like to quantify the extent to which different networks cover different people, events, and topics. One perspective on this asks, given the same topic like gun control, what viewpoints do the networks have and how do they promote them? This requires a nuanced understanding of the language used, so we instead look at a simpler question: who is covering particular topics, people, and phrases and for how long?"
   ]
  },
  {
   "cell_type": "code",
   "execution_count": null,
   "metadata": {
    "ExecuteTime": {
     "end_time": "2018-07-08T19:50:46.010447Z",
     "start_time": "2018-07-08T19:50:45.936850Z"
    },
    "hide_input": true
   },
   "outputs": [],
   "source": [
    "topic_channel_dfs = pickle.load(open('/app/data/topic_channel.pkl', 'rb'))\n",
    "topic_channel = topic_channel_dfs['duration']\n",
    "\n",
    "def topic_bar(df, label):\n",
    "    df = df.sort_values(by=['CNN'], ascending=False).reset_index().head(30)\n",
    "    ax = plt.gca()\n",
    "    for i, (network, col) in enumerate(NETWORK_COLORS):\n",
    "        df.plot.bar('index', network, ax=ax, position=2-i, color=col, width=0.2)\n",
    "    ax.set_xticks([-1] + range(len(df['index'])))\n",
    "    ax.set_xticklabels([''] + list(df['index']), rotation=45, horizontalalignment='right')\n",
    "    ax.set_ylabel('Duration of discussion (s)')\n",
    "    _ = ax.set_title('Coverage of top 30 {} by channel'.format(label))\n",
    "    \n",
    "topic_bar(topic_channel, 'topics')"
   ]
  },
  {
   "cell_type": "markdown",
   "metadata": {},
   "source": [
    "The above graph shows the length of time provided by each network to covering the 30 most popular topics (note that they are not mutually exclusive, e.g. a piece on liberal voters will likely count for politics, liberals, and voters). From this, we observe:\n",
    "* The most common topics are political, which is expected both due to the inherently political nature of the networks and the coverage of the 2016 presidential election.\n",
    "* Fox provides notably greater coverage of liberals and religion than the other two networks.\n",
    "* MSNBC focuses far more on politics in that it has less coverage of children, crime, family, terrorism, etc. but more coverage of voters, elections, conservatives, and primaries.\n",
    "\n",
    "We can break this further down by show to identify specific individuals/segments that are likely to cover individual topics."
   ]
  },
  {
   "cell_type": "code",
   "execution_count": null,
   "metadata": {
    "ExecuteTime": {
     "end_time": "2018-07-03T18:57:42.244913Z",
     "start_time": "2018-07-03T18:57:41.519980Z"
    },
    "hide_input": true
   },
   "outputs": [],
   "source": [
    "topic_show = pd.DataFrame.from_csv('/app/data/topic_show.csv')\n",
    "\n",
    "def topic_heatmap(df, label, topic_threshold=2000000, key_threshold=3000000):\n",
    "    sums = df.sum(axis=1)\n",
    "    df = df.drop(sums[sums < topic_threshold].index).transpose()\n",
    "    sums = df.sum(axis=1)\n",
    "    df = df.drop(sums[sums < key_threshold].index)\n",
    "    for c in df:\n",
    "        df[c] /= df[c].sum()\n",
    "    df = df.fillna(0).transpose()\n",
    "\n",
    "    fig, ax = plt.subplots(figsize=(20,30))\n",
    "    sns.heatmap(df.transpose(), xticklabels=True, yticklabels=True, ax=ax, linewidths=0.1)\n",
    "    _ = plt.title('Normalized {} frequency heatmap by show'.format(label))\n",
    "    \n",
    "topic_heatmap(topic_show, 'topic')"
   ]
  },
  {
   "cell_type": "markdown",
   "metadata": {},
   "source": [
    "The above heatmap shows normalized topic coverage scores, e.g. if Rachel Maddow covers immigration for 6 minutes and Sean Hannity covers it for 4 minutes, then they would receive a normalized score of 0.6 and 0.4, respectively, in the immigration column. Certain shows which appear more frequently than others are identified by clear colorful lines (e.g. MSNBC Live, Anderson Cooper 360). Bright squares indicates that a particular show covers a particular topic more than other shows for the same topic. For example, we can see:\n",
    "* Rachel Maddow covers almost exclusively election issues (candidates, elections, polls, primaries).\n",
    "* Fox & Friends is the only show that tends to cover more general interest topics (children, dogs, family, football, games, sleep, summer).\n",
    "* CNN Newsroom with Brooke Baldwin covers an unusual amount of death.\n",
    "\n",
    "We can further specialize these topics by looking at the mention of individual people and phrases."
   ]
  },
  {
   "cell_type": "code",
   "execution_count": null,
   "metadata": {
    "ExecuteTime": {
     "end_time": "2018-07-03T18:57:42.297821Z",
     "start_time": "2018-07-03T18:57:42.247248Z"
    },
    "hide_input": true
   },
   "outputs": [],
   "source": [
    "person_channel = pd.DataFrame.from_csv('/app/data/person_channel.csv')\n",
    "topic_bar(person_channel, 'people')"
   ]
  },
  {
   "cell_type": "markdown",
   "metadata": {},
   "source": [
    "**TODO: remove DT & HC from the graph.**\n",
    "\n",
    "The above graph is the same as before, except looks at coverage of people instead of topics. We observe:\n",
    "* Donald Trump was mentioned more than every other individual combined. \n",
    "* Trump was provided notably greater coverage on both CNN and MSNBC than Fox. \n",
    "* By contrast, Hillary Clinton, Bill Clinton, and Barack Obama received slightly more coverage on Fox.\n",
    "* Controversial individuals in the Trump Administration like Michael Flynn, Jared Kushner, and Paul Manafort received substantially more coverage from CNN and MSNBC than Fox.\n",
    "\n",
    "Again breaking down by show:"
   ]
  },
  {
   "cell_type": "code",
   "execution_count": null,
   "metadata": {
    "ExecuteTime": {
     "end_time": "2018-07-03T18:57:43.727347Z",
     "start_time": "2018-07-03T18:57:42.650891Z"
    },
    "hide_input": true
   },
   "outputs": [],
   "source": [
    "person_show = pd.DataFrame.from_csv('/app/data/person_show.csv')\n",
    "topic_heatmap(person_show, 'person', topic_threshold=300000, key_threshold=300000)"
   ]
  },
  {
   "cell_type": "markdown",
   "metadata": {},
   "source": [
    "We can observe that:\n",
    "* Fox & Friends provided little coverage of anyone in particular except for Chuck Schumer and Nancy Pelosi.\n",
    "* Rachel Maddow provided unusually high coverage of individuals like Chris Christie, Paul Manafort, and Scott Walker.\n",
    "\n",
    "Lastly, we can look at the usage of individual phrases."
   ]
  },
  {
   "cell_type": "code",
   "execution_count": null,
   "metadata": {
    "ExecuteTime": {
     "end_time": "2018-07-03T18:57:43.775821Z",
     "start_time": "2018-07-03T18:57:43.729643Z"
    },
    "hide_input": true
   },
   "outputs": [],
   "source": [
    "phrase_channel = pd.DataFrame.from_csv('/app/data/phrase_channel.csv')\n",
    "topic_bar(phrase_channel, 'phrases')"
   ]
  },
  {
   "cell_type": "markdown",
   "metadata": {},
   "source": [
    "MSNBC focus substantially on health care (including the Affordable Care Act). Fox covered the Obama Administration, fake news, and tax cuts. CNN has no particular outlying behavior."
   ]
  },
  {
   "cell_type": "code",
   "execution_count": null,
   "metadata": {
    "ExecuteTime": {
     "end_time": "2018-07-03T18:57:43.776732Z",
     "start_time": "2018-07-03T18:57:43.493Z"
    },
    "hide_input": true,
    "scrolled": false
   },
   "outputs": [],
   "source": [
    "phrase_show = pd.DataFrame.from_csv('/app/data/phrase_show.csv')\n",
    "topic_heatmap(phrase_show, 'phrase', key_threshold=100000, topic_threshold=100000)"
   ]
  },
  {
   "cell_type": "markdown",
   "metadata": {},
   "source": [
    "Some notable trends:\n",
    "* The \"Make America Great Again\" catchphrase occurs the most frequently on Fox & Friends and Hannity. Similarly, Hannity is the sole major user of \"fake news.\"\n",
    "* Both Anderson Cooper and Hannity focus on \"collusion,\" however presumably two sides of the same case.\n",
    "* Morning Joe is the only show to focus on \"Wall Street.\"\n",
    "* Fox & Friends is the only show to focus on \"small business.\"\n",
    "* Chris Hayes focuses on mostly serious topics including \"health care\" and \"immigration reform.\"\n",
    "\n",
    "Overall, these analyses support the conclusion that there is indeed a disparity of coverage in topics between shows. No individual show or even channel will cover all topics. Bias in topic coverage largely tracks the political leanings of the respective channels and shows. "
   ]
  },
  {
   "cell_type": "markdown",
   "metadata": {},
   "source": [
    "# Clothing\n",
    "On a lighter note, we also analyzed the clothing styles of anchors on each show, e.g. what kind of clothing they wear (shirt, dress, suit), what color they wear (necktie, hair, clothing), how long the hair is, and so on. We can visualize these clothing attributes by averaging together every image of hosts with those attributes:"
   ]
  },
  {
   "cell_type": "code",
   "execution_count": null,
   "metadata": {
    "ExecuteTime": {
     "end_time": "2018-07-03T18:57:44.430585Z",
     "start_time": "2018-07-03T18:57:44.374120Z"
    },
    "hide_input": true
   },
   "outputs": [],
   "source": [
    "def imshow(path):\n",
    "    img = cv2.imread(path)\n",
    "    plt.figure(figsize=(img.shape[1]/100,img.shape[0]/100), dpi=300)\n",
    "    plt.imshow(cv2.cvtColor(img, cv2.COLOR_RGB2BGR))\n",
    "    plt.axis('off')\n",
    "    \n",
    "imshow('/app/data/anchor_average.jpg')"
   ]
  },
  {
   "cell_type": "markdown",
   "metadata": {},
   "source": [
    "These images can confirm basic intuition like women are more likely to wear solid/bright color, men mostly wear suits, and the average person in nearly every category is Caucasian. We can dive deeper into individual clothing trends by looking across time.\n",
    "\n",
    "## Anchor clothing matches typical seasonal fashion trends"
   ]
  },
  {
   "cell_type": "code",
   "execution_count": null,
   "metadata": {
    "ExecuteTime": {
     "end_time": "2018-07-03T18:57:45.002145Z",
     "start_time": "2018-07-03T18:57:44.940284Z"
    },
    "hide_input": true
   },
   "outputs": [],
   "source": [
    "df = pickle.load(open('/app/data/clothing_color_time.pkl', 'rb'))\n",
    "df2 = pickle.load(open('/app/data/clothing_style_time.pkl', 'rb'))\n",
    "df = pd.concat([df, df2], axis=1)\n",
    "for col in df.columns:\n",
    "    cmin, cmax = (df[col].min(), df[col].max())\n",
    "    if cmax - cmin > 0:\n",
    "        df[col] = (df[col] - cmin) / (cmax - cmin)\n",
    "df['date'] = df.index\n",
    "\n",
    "def clothing_time_plot(styles):\n",
    "    fig = plt.figure(figsize=(12, 6))\n",
    "    plt.suptitle('Clothing style over time', y=1.02)\n",
    "    for plotidx, (stylename, styleset) in enumerate(styles):\n",
    "        year_dates = [df.date[48], df.date[96]]\n",
    "        ax = fig.add_subplot(len(styles), 1, plotidx+1)    \n",
    "        for style, color in zip(styleset, ['tab:cyan', 'tab:olive']):\n",
    "            df.plot('date', style, ax=ax, color=color)\n",
    "        ax.axvline(x=year_dates[0], linestyle='--')\n",
    "        ax.axvline(x=year_dates[1], linestyle='--')\n",
    "        ax.set_title(stylename)\n",
    "        ax.set_xlabel('Date')\n",
    "        ax.set_ylabel('Normalized frequency')\n",
    "        ax.legend(loc='upper right')\n",
    "    plt.tight_layout()\n",
    "    \n",
    "clothing_time_plot([('summer', ('white', 't-shirt')), ('winter', ('black', 'sweater'))])"
   ]
  },
  {
   "cell_type": "markdown",
   "metadata": {},
   "source": [
    "The above graph shows the normalized frequency of occurrence for when all hosts wear certain styles of clothes. Normalized means 1 is when people are wearing a style of clothes most often, and 0 the least--it does not imply how often these styles occur relative to one another. Here, we can see that our **anchors follow established seasonal trends**, i.e. they are more likely to wear lighter colors (white) and clothing (t-shirt) in the summer, and more likely to wear darker colors (black) and heavier clothing (sweaters) in the winter. These are across all news, but if we break by network, we can find distinguishing trends between the channels.\n",
    "\n",
    "## Each network has their own unique style for female hosts"
   ]
  },
  {
   "cell_type": "code",
   "execution_count": null,
   "metadata": {
    "ExecuteTime": {
     "end_time": "2018-07-03T18:57:46.761594Z",
     "start_time": "2018-07-03T18:57:46.684363Z"
    },
    "hide_input": true
   },
   "outputs": [],
   "source": [
    "def clothing_network_plot(fmt, styles, title):\n",
    "    fig = plt.figure(figsize=(12, 3*len(styles)))\n",
    "    plt.suptitle('{} style over time across channels for women'.format(title), y=1.02)\n",
    "    for plotidx, style in enumerate(styles):\n",
    "        df = pickle.load(open(fmt.format(style), 'rb')).reset_index()\n",
    "        year_dates = [df.date[48], df.date[96]]\n",
    "        ax = fig.add_subplot(len(styles), 1, plotidx+1)    \n",
    "        for network, col in NETWORK_COLORS:\n",
    "            df.plot('date', network, ax=ax, color=col)\n",
    "        ax.set_ylim(0, 1)\n",
    "        ax.axvline(x=year_dates[0], linestyle='--')\n",
    "        ax.axvline(x=year_dates[1], linestyle='--')\n",
    "        ax.set_title(style)\n",
    "        ax.set_xlabel('Date')\n",
    "        ax.set_ylabel('Frequency')\n",
    "        ax.legend(loc='upper right')\n",
    "    plt.tight_layout()\n",
    "     \n",
    "clothing_network_plot('/app/data/clothing_style_{}_channel.pkl', ['suit', 'dress', 'shirt'], 'Clothing')"
   ]
  },
  {
   "cell_type": "markdown",
   "metadata": {},
   "source": [
    "The above graph shows _unnormalized_ clothing frequency for female hosts, e.g. an 0.8 dress score on the orange line means 80% of Fox female hosts wore dresses in that week. Men largely wear suits all the time, only choosing to vary \n",
    "their necktie preference, but women exhibit much greater variance in their clothing choices. Specifically, we can see that **more women on Fox wear dresses than the other channels, whereas CNN prefers shirts and MSNBC prefers suits**. This tracks with previous hypotheses that Fox News women are more likely to wear dresses, but what about the famous [blond](http://www.stevedennie.com/those-foxnews-blondes/) [hair](https://www.thecut.com/2017/08/politics-of-blonde-hair-from-persephone-to-ivanka-trump.html)?\n",
    "\n",
    "## CNN has as many blonde hosts as Fox"
   ]
  },
  {
   "cell_type": "code",
   "execution_count": null,
   "metadata": {
    "ExecuteTime": {
     "end_time": "2018-07-03T18:57:47.690550Z",
     "start_time": "2018-07-03T18:57:47.462713Z"
    },
    "hide_input": true
   },
   "outputs": [],
   "source": [
    "clothing_network_plot('/app/data/clothing_hair_{}_channel.pkl', ['black', 'blond'], 'Hair')"
   ]
  },
  {
   "cell_type": "markdown",
   "metadata": {},
   "source": [
    "Surprisingly, **CNN has just as many blonde hosts as Fox**. The only outlier is MSNBC, who has more black haired women by comparison.\n",
    "\n",
    "# Cinematography\n",
    "\n",
    "Shots, or contiguous sequences of frames from a single perspective, underpin the cinematography of produced video content, most notably in movies but also in TV news. Shot-based statistical analyses usually look at either the kind of shot (short, long, wide, etc.) or the length of the shot, such as the [Cutting et al.](http://people.psych.cornell.edu/~jec7/pubs/iperception.pdf) study which found that the average length of shots in cinema has decreases over the years to about 3.5 seconds per shot today. In turn, we sought to analyze what shot lengths tell us about the cinematography underlying TV news.\n",
    "\n",
    "## There many short shots and a few long shots"
   ]
  },
  {
   "cell_type": "code",
   "execution_count": null,
   "metadata": {
    "ExecuteTime": {
     "end_time": "2018-07-03T18:57:48.648863Z",
     "start_time": "2018-07-03T18:57:48.147683Z"
    },
    "hide_input": true
   },
   "outputs": [],
   "source": [
    "shot_meds = pickle.load(open('/app/data/shot_medians.pkl', 'rb'))\n",
    "shot_hist = pickle.load(open('/app/data/shot_histogram.pkl', 'rb'))\n",
    "plt.title('Histogram of shot lengths')\n",
    "plt.semilogx(shot_hist)\n",
    "plt.ylabel('Number of shots')\n",
    "_ = plt.xlabel('Shot length (s)')"
   ]
  },
  {
   "cell_type": "markdown",
   "metadata": {
    "variables": {
     "'{:.3f}'.format(shot_meds['channels']['CNN'])": {},
     "'{:.3f}'.format(shot_meds['channels']['FOXNEWS'])": {},
     "'{:.3f}'.format(shot_meds['channels']['MSNBC'])": {},
     "'{:.3f}'.format(shot_meds['nocom'])": {},
     "'{:.3f}'.format(shot_meds['withcom'])": {}
    }
   },
   "source": [
    "The graph above shows a histogram of the number of shots at a given length, from 1 second to an hour (x-axis on a log scale). The linear relationship between the log of shot length and number of shots on the graph indicates an exponential relationship in the true values, i.e. that there are exponentially many more short shots (1-10 seconds) than long shots (>10 seconds).\n",
    "\n",
    "## TV news is similar to movies, commercials are twice as fast\n",
    "\n",
    "If we divide the TV news videos into news and commercials, we find that the two kinds of video have median shot lengths of {{'{:.3f}'.format(shot_meds['nocom'])}} seconds and {{'{:.3f}'.format(shot_meds['withcom'])}} seconds, respectively. Compared to the 3.5s average length for movies, this suggests that **the pacing of shot lengths in TV news is similar to that used in today's films**. By contrast, commercials are extremely fast paced, having a median shot length more than twice as fast as movies and news.\n",
    "\n",
    "## Each channel has a distinctly different shot lengths\n",
    "\n",
    "Dividing the data by channel, we find that Fox has a median shot length of {{'{:.3f}'.format(shot_meds['channels']['FOXNEWS'])}}s, compared with {{'{:.3f}'.format(shot_meds['channels']['CNN'])}}s for CNN and {{'{:.3f}'.format(shot_meds['channels']['MSNBC'])}}s for MSNBC. This suggests that MSNBC has the slowest pacing of the three, and Fox the fastest."
   ]
  },
  {
   "cell_type": "code",
   "execution_count": null,
   "metadata": {
    "ExecuteTime": {
     "end_time": "2018-07-03T18:57:50.707301Z",
     "start_time": "2018-07-03T18:57:48.821753Z"
    },
    "hide_input": true,
    "scrolled": true
   },
   "outputs": [],
   "source": [
    "shot_recall = 0.98\n",
    "shot_seconds = 3600*6\n",
    "\n",
    "commercial_precision = 0.99\n",
    "commercial_recall = 0.99\n",
    "\n",
    "big_face = face_validation(\n",
    "    'Faces height > 0.2', lambda qs: qs.annotate(height=F('bbox_y2') - F('bbox_y1')).filter(height__gte=0.2),\n",
    "    noprint=True)\n",
    "(face_precision, face_recall, labeled_frames) = big_face[2]\n",
    "\n",
    "_, big_gender_cmat = gender_validation('Gender w/ face height > 0.2', big_face, noprint=True)\n",
    "\n",
    "speaking_cmat, total_duration = speaking_validation(noprint=True)\n",
    "\n",
    "clothing_table = '''wearing jacket & 1.0 \n",
    "clothing category  & 0.91 \n",
    "sleeve length & 0.96 \n",
    "neckline shape & 1.0 \n",
    "collar presence & 1.0 \n",
    "wearing scarf & 1.0 \n",
    "wearing necktie & 0.96 \n",
    "clothing pattern & 0.92 \n",
    "major color & 0.81 \n",
    "wearing hat & 1.0 \n",
    "wearing glasses & 1.0 \n",
    "multiple layers  & 0.96 \n",
    "necktie color & 0.28 \n",
    "necktie pattern & 0.84  \n",
    "hair color & 0.53  \n",
    "hair length & 0.89'''\n",
    "clothing_table = [s.strip().split(' & ') for s in clothing_table.split('\\n')]\n",
    "\n",
    "def pct(n):\n",
    "    return int(n*100)"
   ]
  },
  {
   "cell_type": "markdown",
   "metadata": {
    "variables": {
     "int(shot_recall*100)": {},
     "int(shot_seconds/3600.0)": {},
     "labeled_frames": {},
     "pct(face_precision)": {},
     "pct(face_recall)": {}
    }
   },
   "source": [
    "# Methodology\n",
    "\n",
    "We used machine learning methods to compute many of the underlying features used in the analysis above. As with all ML, these results are not perfect, and we performed validation by manually hand-labeling data to understand the extent of the correctness in methods used.\n",
    "\n",
    "## Screen time\n",
    "\n",
    "To estimate the screen time of individuals, we used a three step proces:\n",
    "1. Segment each video into shots.\n",
    "2. Detect faces in the middle frame from each shot.\n",
    "3. Estimate gender of each detected face.\n",
    "\n",
    "If a face is detected in the representative frame of the shot, we assume that the face is also in every other frame in the shot, i.e. assign that face a number of seconds equal to the shot length. We used a simple custom histogram-based shot detection methods with {{int(shot_recall*100)}}% recall based on {{int(shot_seconds/3600.0)}} hours of hand-labeled video. \n",
    "\n",
    "For face detection, we used the MTCNN face detection network and model in the [facenet](https://github.com/davidsandberg/facenet) repository. We handlabeled faces and genders in {{labeled_frames}} randomly sampled frames and found the detector has {{pct(face_precision)}}% precision and {{pct(face_recall)}}% recall for faces with height > 0.2.\n",
    "\n",
    "For gender detection, we used the [rude-carnie](https://github.com/dpressel/rude-carnie) gender detection network. Our handlabeled dataset produced the following confusion matrix:"
   ]
  },
  {
   "cell_type": "code",
   "execution_count": null,
   "metadata": {
    "ExecuteTime": {
     "end_time": "2018-07-03T18:57:51.117806Z",
     "start_time": "2018-07-03T18:57:50.881724Z"
    },
    "hide_input": true
   },
   "outputs": [],
   "source": [
    "plot_confusion_matrix(\n",
    "    big_gender_cmat, [d['name'] for d in Gender.objects.values('name').order_by('id')], normalize=True)"
   ]
  },
  {
   "cell_type": "markdown",
   "metadata": {
    "variables": {
     "int(total_duration/3600.0)": {},
     "pct(commercial_precision)": {},
     "pct(commercial_recall)": {}
    }
   },
   "source": [
    "Here, the labels are M, F, and U for male, female, and unknown. People of unknown gender were excluded from the gender analysis. The misclassification rates are similar for both men and women, with men being misclassfied slightly more often (15% for men vs. 12% for women).\n",
    "\n",
    "Additionally, we detected and removed commercials from all analyses above, except where noted otherwise. Our method relied on a number of heuristics such as the existence of black frames before the beginning of a commercial block or the absence of a transcript in the closed captioning. Our commercial detector has {{pct(commercial_precision)}}% precision and {{pct(commercial_recall)}}% recall.\n",
    "\n",
    "## Speaking time\n",
    "\n",
    "To estimate the speaking time of individuals, we divided the audio stream into speech/non-speech, segmented the speech into segments containing separate speakers, and then estimated the gender for each speech segment. These steps were all performed end-to-end in a single pass by the [LIUM](http://www-lium.univ-lemans.fr/diarization/doku.php/) speaker diarization tool.\n",
    "\n",
    "We hand-labeled speech/non-speech, speaker boundaries, and speaker genders in {{int(total_duration/3600.0)}} hours of randomly sampled 3-minute segments of audio, computing the following confusion matrix:"
   ]
  },
  {
   "cell_type": "code",
   "execution_count": null,
   "metadata": {
    "ExecuteTime": {
     "end_time": "2018-07-03T18:57:51.435975Z",
     "start_time": "2018-07-03T18:57:51.221091Z"
    },
    "hide_input": true
   },
   "outputs": [],
   "source": [
    "plot_confusion_matrix(\n",
    "    speaking_cmat, [d['name'] for d in Gender.objects.values('name').order_by('id')], normalize=True)"
   ]
  },
  {
   "cell_type": "markdown",
   "metadata": {},
   "source": [
    "The speech labeling tool has near-perfect classification accuracy for women, but a 13% misclassification rate for men, meaning all speaking time estimates are likely to be slightly more female-biased than the true estimate.\n",
    "\n",
    "## Host detection\n",
    "\n",
    "To classify a person as the host or non-host, we start by computing the a 128-dimensional feature-space embedding of each face using the [FaceNet](https://github.com/davidsandberg/facenet) network, and cluster the faces within each video using a standard k-means algorithm. Using the hypothesis that a host is uniquely likely to appear frequently throughout the show, we identify face clusters as hosts if faces in the cluster are widely spread in time.\n",
    "\n",
    "We have not yet validated the host detector with a handlabeled dataset, but visual inspection suggests that our method works most of the time.\n",
    "\n",
    "## Clothing\n",
    "\n",
    "To classify the clothing hosts wear into categories, we used a modified version of the [StreetStyle](http://streetstyle.cs.cornell.edu/) clothing classifier trained on the StreetStyle-27k dataset as well as a hand-labeled set of 5000 randomly sampled images of hosts from TV news. We also add necktie color/pattern and hair color/length as attributes (not present in the prior StreetStyle classifier). Classifier accuracies on the TV news host validation set are below."
   ]
  },
  {
   "cell_type": "code",
   "execution_count": null,
   "metadata": {
    "ExecuteTime": {
     "end_time": "2018-07-03T18:57:51.479231Z",
     "start_time": "2018-07-03T18:57:51.438187Z"
    },
    "hide_input": true
   },
   "outputs": [],
   "source": [
    "df = pd.DataFrame(clothing_table)\n",
    "df.columns = ['Attribute', 'Accuracy']"
   ]
  },
  {
   "cell_type": "code",
   "execution_count": null,
   "metadata": {},
   "outputs": [],
   "source": []
  }
 ],
 "metadata": {
  "kernelspec": {
   "display_name": "Django Shell-Plus",
   "language": "python",
   "name": "django_extensions"
  },
  "language_info": {
   "codemirror_mode": {
    "name": "ipython",
    "version": 3
   },
   "file_extension": ".py",
   "mimetype": "text/x-python",
   "name": "python",
   "nbconvert_exporter": "python",
   "pygments_lexer": "ipython3",
   "version": "3.5.2"
  },
  "toc": {
   "base_numbering": 1,
   "nav_menu": {},
   "number_sections": true,
   "sideBar": true,
   "skip_h1_title": false,
   "title_cell": "Table of Contents",
   "title_sidebar": "Contents",
   "toc_cell": false,
   "toc_position": {
    "height": "842px",
    "left": "0px",
    "right": "1715px",
    "top": "111px",
    "width": "246px"
   },
   "toc_section_display": "block",
   "toc_window_display": true
  }
 },
 "nbformat": 4,
 "nbformat_minor": 2
}
