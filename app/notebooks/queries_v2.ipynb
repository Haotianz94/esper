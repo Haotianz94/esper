{
 "cells": [
  {
   "cell_type": "markdown",
   "metadata": {
    "toc": true
   },
   "source": [
    "<h1>Table of Contents<span class=\"tocSkip\"></span></h1>\n",
    "<div class=\"toc\" style=\"margin-top: 1em;\"><ul class=\"toc-item\"><li><span><a href=\"#Queries\" data-toc-modified-id=\"Queries-1\"><span class=\"toc-item-num\">1&nbsp;&nbsp;</span>Queries</a></span><ul class=\"toc-item\"><li><span><a href=\"#All-Videos\" data-toc-modified-id=\"All-Videos-1.1\"><span class=\"toc-item-num\">1.1&nbsp;&nbsp;</span>All Videos</a></span></li><li><span><a href=\"#Videos-by-Channel\" data-toc-modified-id=\"Videos-by-Channel-1.2\"><span class=\"toc-item-num\">1.2&nbsp;&nbsp;</span>Videos by Channel</a></span></li><li><span><a href=\"#Videos-by-Show\" data-toc-modified-id=\"Videos-by-Show-1.3\"><span class=\"toc-item-num\">1.3&nbsp;&nbsp;</span>Videos by Show</a></span></li><li><span><a href=\"#Videos-by-Canonical-Show\" data-toc-modified-id=\"Videos-by-Canonical-Show-1.4\"><span class=\"toc-item-num\">1.4&nbsp;&nbsp;</span>Videos by Canonical Show</a></span></li><li><span><a href=\"#Videos-by-time-of-day\" data-toc-modified-id=\"Videos-by-time-of-day-1.5\"><span class=\"toc-item-num\">1.5&nbsp;&nbsp;</span>Videos by time of day</a></span></li></ul></li><li><span><a href=\"#Shots\" data-toc-modified-id=\"Shots-2\"><span class=\"toc-item-num\">2&nbsp;&nbsp;</span>Shots</a></span><ul class=\"toc-item\"><li><span><a href=\"#Shot-Validation\" data-toc-modified-id=\"Shot-Validation-2.1\"><span class=\"toc-item-num\">2.1&nbsp;&nbsp;</span>Shot Validation</a></span></li><li><span><a href=\"#All-Shots\" data-toc-modified-id=\"All-Shots-2.2\"><span class=\"toc-item-num\">2.2&nbsp;&nbsp;</span>All Shots</a></span></li><li><span><a href=\"#Shots-by-Channel\" data-toc-modified-id=\"Shots-by-Channel-2.3\"><span class=\"toc-item-num\">2.3&nbsp;&nbsp;</span>Shots by Channel</a></span></li><li><span><a href=\"#Shots-by-Show\" data-toc-modified-id=\"Shots-by-Show-2.4\"><span class=\"toc-item-num\">2.4&nbsp;&nbsp;</span>Shots by Show</a></span></li><li><span><a href=\"#Shots-by-Canonical-Show\" data-toc-modified-id=\"Shots-by-Canonical-Show-2.5\"><span class=\"toc-item-num\">2.5&nbsp;&nbsp;</span>Shots by Canonical Show</a></span></li><li><span><a href=\"#Shots-by-Time-of-Day\" data-toc-modified-id=\"Shots-by-Time-of-Day-2.6\"><span class=\"toc-item-num\">2.6&nbsp;&nbsp;</span>Shots by Time of Day</a></span></li></ul></li><li><span><a href=\"#Commercials\" data-toc-modified-id=\"Commercials-3\"><span class=\"toc-item-num\">3&nbsp;&nbsp;</span>Commercials</a></span><ul class=\"toc-item\"><li><span><a href=\"#All-Commercials\" data-toc-modified-id=\"All-Commercials-3.1\"><span class=\"toc-item-num\">3.1&nbsp;&nbsp;</span>All Commercials</a></span></li><li><span><a href=\"#Commercials-by-Channel\" data-toc-modified-id=\"Commercials-by-Channel-3.2\"><span class=\"toc-item-num\">3.2&nbsp;&nbsp;</span>Commercials by Channel</a></span></li><li><span><a href=\"#Commercials-by-Show\" data-toc-modified-id=\"Commercials-by-Show-3.3\"><span class=\"toc-item-num\">3.3&nbsp;&nbsp;</span>Commercials by Show</a></span></li><li><span><a href=\"#Commercials-by-Canonical-Show\" data-toc-modified-id=\"Commercials-by-Canonical-Show-3.4\"><span class=\"toc-item-num\">3.4&nbsp;&nbsp;</span>Commercials by Canonical Show</a></span></li><li><span><a href=\"#Commercials-by-Time-of-Day\" data-toc-modified-id=\"Commercials-by-Time-of-Day-3.5\"><span class=\"toc-item-num\">3.5&nbsp;&nbsp;</span>Commercials by Time of Day</a></span></li></ul></li><li><span><a href=\"#Faces\" data-toc-modified-id=\"Faces-4\"><span class=\"toc-item-num\">4&nbsp;&nbsp;</span>Faces</a></span><ul class=\"toc-item\"><li><span><a href=\"#Face-Validation\" data-toc-modified-id=\"Face-Validation-4.1\"><span class=\"toc-item-num\">4.1&nbsp;&nbsp;</span>Face Validation</a></span></li><li><span><a href=\"#All-Faces\" data-toc-modified-id=\"All-Faces-4.2\"><span class=\"toc-item-num\">4.2&nbsp;&nbsp;</span>All Faces</a></span></li></ul></li><li><span><a href=\"#Genders\" data-toc-modified-id=\"Genders-5\"><span class=\"toc-item-num\">5&nbsp;&nbsp;</span>Genders</a></span><ul class=\"toc-item\"><li><span><a href=\"#All-Gender\" data-toc-modified-id=\"All-Gender-5.1\"><span class=\"toc-item-num\">5.1&nbsp;&nbsp;</span>All Gender</a></span><ul class=\"toc-item\"><li><span><a href=\"#Persist-for-Report\" data-toc-modified-id=\"Persist-for-Report-5.1.1\"><span class=\"toc-item-num\">5.1.1&nbsp;&nbsp;</span>Persist for Report</a></span></li></ul></li><li><span><a href=\"#Gender-by-Channel\" data-toc-modified-id=\"Gender-by-Channel-5.2\"><span class=\"toc-item-num\">5.2&nbsp;&nbsp;</span>Gender by Channel</a></span></li><li><span><a href=\"#Gender-by-Show\" data-toc-modified-id=\"Gender-by-Show-5.3\"><span class=\"toc-item-num\">5.3&nbsp;&nbsp;</span>Gender by Show</a></span><ul class=\"toc-item\"><li><span><a href=\"#Persist-for-Report\" data-toc-modified-id=\"Persist-for-Report-5.3.1\"><span class=\"toc-item-num\">5.3.1&nbsp;&nbsp;</span>Persist for Report</a></span></li></ul></li><li><span><a href=\"#Gender-by-Canonical-Show\" data-toc-modified-id=\"Gender-by-Canonical-Show-5.4\"><span class=\"toc-item-num\">5.4&nbsp;&nbsp;</span>Gender by Canonical Show</a></span><ul class=\"toc-item\"><li><span><a href=\"#Persist-for-Report\" data-toc-modified-id=\"Persist-for-Report-5.4.1\"><span class=\"toc-item-num\">5.4.1&nbsp;&nbsp;</span>Persist for Report</a></span></li></ul></li><li><span><a href=\"#Gender-by-time-of-day\" data-toc-modified-id=\"Gender-by-time-of-day-5.5\"><span class=\"toc-item-num\">5.5&nbsp;&nbsp;</span>Gender by time of day</a></span></li><li><span><a href=\"#Gender-by-Day-of-the-Week\" data-toc-modified-id=\"Gender-by-Day-of-the-Week-5.6\"><span class=\"toc-item-num\">5.6&nbsp;&nbsp;</span>Gender by Day of the Week</a></span></li><li><span><a href=\"#Gender-by-topic\" data-toc-modified-id=\"Gender-by-topic-5.7\"><span class=\"toc-item-num\">5.7&nbsp;&nbsp;</span>Gender by topic</a></span></li><li><span><a href=\"#Male-vs.-female-faces-in-panels\" data-toc-modified-id=\"Male-vs.-female-faces-in-panels-5.8\"><span class=\"toc-item-num\">5.8&nbsp;&nbsp;</span>Male vs. female faces in panels</a></span></li></ul></li><li><span><a href=\"#Pose\" data-toc-modified-id=\"Pose-6\"><span class=\"toc-item-num\">6&nbsp;&nbsp;</span>Pose</a></span></li><li><span><a href=\"#Topics\" data-toc-modified-id=\"Topics-7\"><span class=\"toc-item-num\">7&nbsp;&nbsp;</span>Topics</a></span></li></ul></div>"
   ]
  },
  {
   "cell_type": "code",
   "execution_count": null,
   "metadata": {
    "ExecuteTime": {
     "end_time": "2018-07-08T06:44:20.130546Z",
     "start_time": "2018-07-08T06:44:13.955948Z"
    }
   },
   "outputs": [],
   "source": [
    "%matplotlib inline\n",
    "from esper.widget import *\n",
    "from esper.prelude import *\n",
    "from esper.spark_util import *\n",
    "from esper.validation import *\n",
    "\n",
    "import IPython\n",
    "import shutil"
   ]
  },
  {
   "cell_type": "code",
   "execution_count": null,
   "metadata": {
    "ExecuteTime": {
     "end_time": "2018-07-08T06:44:26.424760Z",
     "start_time": "2018-07-08T06:44:20.133708Z"
    },
    "scrolled": false
   },
   "outputs": [],
   "source": [
    "shows = get_shows()\n",
    "print('Schema:', shows)\n",
    "print('Count:', shows.count())"
   ]
  },
  {
   "cell_type": "code",
   "execution_count": null,
   "metadata": {
    "ExecuteTime": {
     "end_time": "2018-07-08T06:44:27.676087Z",
     "start_time": "2018-07-08T06:44:26.427544Z"
    }
   },
   "outputs": [],
   "source": [
    "videos = get_videos()\n",
    "print('Schema:', videos)\n",
    "print('Count:', videos.count())"
   ]
  },
  {
   "cell_type": "code",
   "execution_count": null,
   "metadata": {
    "ExecuteTime": {
     "end_time": "2018-07-08T06:44:40.299419Z",
     "start_time": "2018-07-08T06:44:27.678128Z"
    }
   },
   "outputs": [],
   "source": [
    "shots = get_shots()\n",
    "print('Schema:', shots)\n",
    "print('Count:', shots.count())"
   ]
  },
  {
   "cell_type": "code",
   "execution_count": null,
   "metadata": {
    "ExecuteTime": {
     "end_time": "2018-07-08T06:44:53.283065Z",
     "start_time": "2018-07-08T06:44:40.301760Z"
    },
    "scrolled": false
   },
   "outputs": [],
   "source": [
    "speakers = get_speakers()\n",
    "print('Schema:', speakers)\n",
    "print('Count:', speakers.count())\n",
    "# speakers.where(speakers.in_commercial == True).show()\n",
    "# speakers.where(speakers.in_commercial == False).show()"
   ]
  },
  {
   "cell_type": "code",
   "execution_count": null,
   "metadata": {
    "ExecuteTime": {
     "end_time": "2018-07-08T06:45:03.229439Z",
     "start_time": "2018-07-08T06:44:53.285822Z"
    },
    "scrolled": false
   },
   "outputs": [],
   "source": [
    "segments = get_segments()\n",
    "print('Schema:', segments)\n",
    "print('Count:', segments.count())\n",
    "# segments.where(segments.in_commercial == True).show()\n",
    "# segments.where(segments.in_commercial == False).show()"
   ]
  },
  {
   "cell_type": "code",
   "execution_count": null,
   "metadata": {
    "ExecuteTime": {
     "end_time": "2018-07-08T06:46:38.935602Z",
     "start_time": "2018-07-08T06:45:03.231366Z"
    }
   },
   "outputs": [],
   "source": [
    "faces = get_faces()\n",
    "print('Schema:', faces)\n",
    "print('Count:', faces.count())"
   ]
  },
  {
   "cell_type": "code",
   "execution_count": null,
   "metadata": {
    "ExecuteTime": {
     "end_time": "2018-07-08T06:48:08.676387Z",
     "start_time": "2018-07-08T06:46:38.938464Z"
    }
   },
   "outputs": [],
   "source": [
    "face_genders = get_face_genders() \n",
    "print('Schema:', face_genders)\n",
    "print('Count:', face_genders.count())"
   ]
  },
  {
   "cell_type": "code",
   "execution_count": null,
   "metadata": {
    "ExecuteTime": {
     "end_time": "2018-07-08T06:49:28.637451Z",
     "start_time": "2018-07-08T06:48:08.679136Z"
    }
   },
   "outputs": [],
   "source": [
    "face_identities = get_face_identities()\n",
    "print('Schema:', face_identities)\n",
    "print('Count:', face_identities.count())"
   ]
  },
  {
   "cell_type": "code",
   "execution_count": null,
   "metadata": {
    "ExecuteTime": {
     "end_time": "2018-07-08T06:49:30.959380Z",
     "start_time": "2018-07-08T06:49:28.639626Z"
    }
   },
   "outputs": [],
   "source": [
    "commercials = get_commercials()\n",
    "print('Schema:', commercials)\n",
    "print('Count:', commercials.count())"
   ]
  },
  {
   "cell_type": "code",
   "execution_count": null,
   "metadata": {
    "ExecuteTime": {
     "end_time": "2018-07-02T03:49:12.019010Z",
     "start_time": "2018-07-02T03:49:09.386609Z"
    }
   },
   "outputs": [],
   "source": []
  },
  {
   "cell_type": "markdown",
   "metadata": {},
   "source": [
    "# Queries"
   ]
  },
  {
   "cell_type": "code",
   "execution_count": null,
   "metadata": {
    "ExecuteTime": {
     "end_time": "2018-07-08T06:49:31.125361Z",
     "start_time": "2018-07-08T06:49:30.961212Z"
    }
   },
   "outputs": [],
   "source": [
    "def format_time(seconds, padding=4):\n",
    "    return '{{:0{}d}}:{{:02d}}:{{:02d}}'.format(padding).format(\n",
    "        int(seconds/3600), int(seconds/60 % 60), int(seconds % 60))\n",
    "\n",
    "def format_number(n):\n",
    "    def fmt(n):\n",
    "        suffixes = {\n",
    "            6: 'thousand',\n",
    "            9: 'million',\n",
    "            12: 'billion',\n",
    "            15: 'trillion'\n",
    "        }\n",
    "\n",
    "        log = math.log10(n)\n",
    "        suffix = None\n",
    "        key = None\n",
    "        for k in sorted(suffixes.keys()):\n",
    "            if log < k:\n",
    "                suffix = suffixes[k]\n",
    "                key = k\n",
    "                break\n",
    "\n",
    "        return '{:.2f} {}'.format(n / float(10**(key-3)), suffix)\n",
    "    if isinstance(n, list):\n",
    "        return map(fmt, n)\n",
    "    else:\n",
    "        return fmt(n)\n",
    "\n",
    "def show_df(table, ordering, clear=True):\n",
    "    if clear:\n",
    "        IPython.display.clear_output()\n",
    "    return pd.DataFrame(table)[ordering]\n",
    "        \n",
    "def format_hour(h):\n",
    "    if h <= 12:\n",
    "        return '{} AM'.format(h)\n",
    "    else:\n",
    "        return '{} PM'.format(h-12)\n",
    "\n",
    "def video_stats(key, labels):\n",
    "    if key is not None:\n",
    "        rows = videos.groupBy(key).agg(\n",
    "            videos[key], \n",
    "            func.count('duration'), \n",
    "            func.avg('duration'), \n",
    "            func.sum('duration'), \n",
    "            func.stddev_pop('duration')\n",
    "        ).collect()\n",
    "    else:\n",
    "        rows = videos.agg(\n",
    "            func.count('duration'), \n",
    "            func.avg('duration'), \n",
    "            func.sum('duration'), \n",
    "            func.stddev_pop('duration')\n",
    "        ).collect()\n",
    "    rmap = {(0 if key is None else r[key]): r for r in rows}\n",
    "    \n",
    "    return [{\n",
    "        'label': label['name'],\n",
    "        'count': rmap[label['id']]['count(duration)'],\n",
    "        'duration': format_time(int(rmap[label['id']]['sum(duration)'])),\n",
    "        'avg_duration': '{} (σ = {})'.format(\n",
    "            format_time(int(rmap[label['id']]['avg(duration)'])),\n",
    "            format_time(int(rmap[label['id']]['stddev_pop(duration)']), padding=0))\n",
    "    } for label in labels if not key or label['id'] in rmap]\n",
    "\n",
    "video_ordering = ['label', 'count', 'duration', 'avg_duration']\n",
    "\n",
    "hours = [\n",
    "    r['hour'] for r in \n",
    "    Video.objects.annotate(\n",
    "        hour=Extract('time', 'hour')\n",
    "    ).distinct('hour').order_by('hour').values('hour')\n",
    "]"
   ]
  },
  {
   "cell_type": "markdown",
   "metadata": {},
   "source": [
    "## All Videos"
   ]
  },
  {
   "cell_type": "code",
   "execution_count": null,
   "metadata": {
    "ExecuteTime": {
     "end_time": "2018-07-08T06:49:31.460699Z",
     "start_time": "2018-07-08T06:49:31.127398Z"
    }
   },
   "outputs": [],
   "source": [
    "show_df(\n",
    "    video_stats(None, [{'id': 0, 'name': 'whole dataset'}]),\n",
    "    video_ordering)"
   ]
  },
  {
   "cell_type": "markdown",
   "metadata": {},
   "source": [
    "## Videos by Channel"
   ]
  },
  {
   "cell_type": "code",
   "execution_count": null,
   "metadata": {
    "ExecuteTime": {
     "end_time": "2018-07-08T06:49:32.245402Z",
     "start_time": "2018-07-08T06:49:31.463299Z"
    }
   },
   "outputs": [],
   "source": [
    "show_df(\n",
    "    video_stats('channel_id', list(Channel.objects.all().values('id', 'name'))),\n",
    "    video_ordering)"
   ]
  },
  {
   "cell_type": "markdown",
   "metadata": {},
   "source": [
    "## Videos by Show\n",
    "\"Situation Room with Wolf Blitzer\" and \"Special Report with Bret Baier\" were ingested as 60 10-minute segments each, whereas the other shows have 10 ≥1 hour segments."
   ]
  },
  {
   "cell_type": "code",
   "execution_count": null,
   "metadata": {
    "ExecuteTime": {
     "end_time": "2018-07-08T06:49:32.800899Z",
     "start_time": "2018-07-08T06:49:32.247650Z"
    }
   },
   "outputs": [],
   "source": [
    "show_df(\n",
    "    video_stats('show_id', list(Show.objects.all().values('id', 'name'))),\n",
    "    video_ordering)"
   ]
  },
  {
   "cell_type": "markdown",
   "metadata": {},
   "source": [
    "## Videos by Canonical Show"
   ]
  },
  {
   "cell_type": "code",
   "execution_count": null,
   "metadata": {
    "ExecuteTime": {
     "end_time": "2018-07-08T06:49:33.306216Z",
     "start_time": "2018-07-08T06:49:32.802888Z"
    },
    "scrolled": false
   },
   "outputs": [],
   "source": [
    "show_df(\n",
    "    video_stats('canonical_show_id', list(CanonicalShow.objects.all().values('id', 'name'))),\n",
    "    video_ordering)"
   ]
  },
  {
   "cell_type": "markdown",
   "metadata": {},
   "source": [
    "## Videos by time of day\n",
    "Initial selection of videos was only prime-time, so between 4pm-11pm."
   ]
  },
  {
   "cell_type": "code",
   "execution_count": null,
   "metadata": {
    "ExecuteTime": {
     "end_time": "2018-07-08T06:49:34.205164Z",
     "start_time": "2018-07-08T06:49:33.308207Z"
    }
   },
   "outputs": [],
   "source": [
    "show_df(\n",
    "    video_stats('hour', [{'id': hour, 'name': format_hour(hour)} for hour in hours]),\n",
    "    video_ordering)"
   ]
  },
  {
   "cell_type": "markdown",
   "metadata": {},
   "source": [
    "# Shots"
   ]
  },
  {
   "cell_type": "code",
   "execution_count": null,
   "metadata": {
    "ExecuteTime": {
     "end_time": "2018-07-08T06:50:02.217256Z",
     "start_time": "2018-07-08T06:49:34.207137Z"
    }
   },
   "outputs": [],
   "source": [
    "med_withcom = shots.approxQuantile('duration', [0.5], 0.01)[0]\n",
    "print('Median shot length with commercials: {:0.2f}s'.format(med_withcom))\n",
    "\n",
    "med_nocom = shots.where(\n",
    "    shots.in_commercial == False\n",
    ").approxQuantile('duration', [0.5], 0.01)[0]\n",
    "print('Median shot length w/o commercials: {:0.2f}s'.format(med_nocom))\n",
    "\n",
    "med_channels = {\n",
    "    c.name: shots.where(\n",
    "        shots.channel_id == c.id\n",
    "    ).approxQuantile('duration', [0.5], 0.01)[0]\n",
    "    for c in Channel.objects.all()\n",
    "}\n",
    "print('Median shot length by_channel:')\n",
    "for c, v in med_channels.items():\n",
    "    print('  {}: {:0.2f}s'.format(c, v))\n",
    "    \n",
    "pickle.dump({\n",
    "    'withcom': med_withcom,\n",
    "    'nocom': med_nocom,\n",
    "    'channels': med_channels\n",
    "}, open('/app/data/shot_medians.pkl', 'wb'))"
   ]
  },
  {
   "cell_type": "code",
   "execution_count": null,
   "metadata": {
    "ExecuteTime": {
     "end_time": "2018-07-08T06:55:28.251246Z",
     "start_time": "2018-07-08T06:50:02.219201Z"
    }
   },
   "outputs": [],
   "source": [
    "all_shot_durations = np.array(\n",
    "    [r['duration'] for r in shots.select('duration').collect()]\n",
    ")\n",
    "hist, edges = np.histogram(all_shot_durations, bins=list(range(0, 3600)) + [10000000])\n",
    "pickle.dump(hist, open('/app/data/shot_histogram.pkl', 'wb'))"
   ]
  },
  {
   "cell_type": "markdown",
   "metadata": {},
   "source": [
    "## Shot Validation"
   ]
  },
  {
   "cell_type": "code",
   "execution_count": null,
   "metadata": {
    "ExecuteTime": {
     "end_time": "2018-07-08T06:55:28.289988Z",
     "start_time": "2018-07-08T06:55:28.253414Z"
    }
   },
   "outputs": [],
   "source": [
    "# TODO: what is this hack?\n",
    "shot_precision = 0.97\n",
    "shot_recall = 0.97\n",
    "def shot_error_interval(n):\n",
    "    return [n * shot_precision, n * (2 - shot_recall)]\n",
    "\n",
    "\n",
    "def shot_stats(key, labels, shots=shots):\n",
    "    if key is not None:\n",
    "        df = shots.groupBy(key)\n",
    "        rows = df.agg(shots[key], func.count('duration'), func.avg('duration'), func.sum('duration'), func.stddev_pop('duration')).collect()\n",
    "    else:\n",
    "        df = shots\n",
    "        rows = df.agg(func.count('duration'), func.avg('duration'), func.sum('duration'), func.stddev_pop('duration')).collect()\n",
    "    rmap = {(0 if key is None else r[key]): r for r in rows}\n",
    "    out_rows = []\n",
    "    for label in labels:\n",
    "        try:\n",
    "            out_rows.append({\n",
    "                'label': label['name'],\n",
    "                'count': rmap[label['id']]['count(duration)'], #format_number(shot_error_interval(rmap[label['id']]['count(duration)'])),\n",
    "                'duration': format_time(int(rmap[label['id']]['sum(duration)'])),\n",
    "                'avg_duration': '{:06.2f}s (σ = {:06.2f})'.format(\n",
    "                    rmap[label['id']]['avg(duration)'],\n",
    "                    rmap[label['id']]['stddev_pop(duration)'])\n",
    "            })\n",
    "        except KeyError:\n",
    "            pass\n",
    "    return out_rows\n",
    "\n",
    "shot_ordering = ['label', 'count', 'duration', 'avg_duration']"
   ]
  },
  {
   "cell_type": "markdown",
   "metadata": {},
   "source": [
    "## All Shots"
   ]
  },
  {
   "cell_type": "code",
   "execution_count": null,
   "metadata": {
    "ExecuteTime": {
     "end_time": "2018-07-08T06:55:31.641759Z",
     "start_time": "2018-07-08T06:55:28.292600Z"
    }
   },
   "outputs": [],
   "source": [
    "show_df(\n",
    "    shot_stats(None, [{'id': 0, 'name': 'whole dataset'}]),\n",
    "    shot_ordering)"
   ]
  },
  {
   "cell_type": "markdown",
   "metadata": {},
   "source": [
    "## Shots by Channel"
   ]
  },
  {
   "cell_type": "code",
   "execution_count": null,
   "metadata": {
    "ExecuteTime": {
     "end_time": "2018-07-08T06:55:36.276584Z",
     "start_time": "2018-07-08T06:55:31.643748Z"
    }
   },
   "outputs": [],
   "source": [
    "show_df(\n",
    "    shot_stats('channel_id', list(Channel.objects.all().values('id', 'name'))),\n",
    "    shot_ordering)"
   ]
  },
  {
   "cell_type": "markdown",
   "metadata": {},
   "source": [
    "## Shots by Show"
   ]
  },
  {
   "cell_type": "code",
   "execution_count": null,
   "metadata": {
    "ExecuteTime": {
     "end_time": "2018-07-08T06:55:41.040165Z",
     "start_time": "2018-07-08T06:55:36.278592Z"
    }
   },
   "outputs": [],
   "source": [
    "show_df(\n",
    "    shot_stats('show_id', list(Show.objects.all().values('id', 'name'))),\n",
    "    shot_ordering)"
   ]
  },
  {
   "cell_type": "markdown",
   "metadata": {},
   "source": [
    "## Shots by Canonical Show"
   ]
  },
  {
   "cell_type": "code",
   "execution_count": null,
   "metadata": {
    "ExecuteTime": {
     "end_time": "2018-07-08T06:55:45.647176Z",
     "start_time": "2018-07-08T06:55:41.042297Z"
    }
   },
   "outputs": [],
   "source": [
    "show_df(\n",
    "    shot_stats('canonical_show_id', list(CanonicalShow.objects.all().values('id', 'name'))),\n",
    "    shot_ordering)"
   ]
  },
  {
   "cell_type": "markdown",
   "metadata": {},
   "source": [
    "## Shots by Time of Day"
   ]
  },
  {
   "cell_type": "code",
   "execution_count": null,
   "metadata": {
    "ExecuteTime": {
     "end_time": "2018-07-08T06:56:06.400027Z",
     "start_time": "2018-07-08T06:55:45.649177Z"
    }
   },
   "outputs": [],
   "source": [
    "show_df(\n",
    "    shot_stats('hour', [{'id': hour, 'name': format_hour(hour)} for hour in hours]),\n",
    "    shot_ordering)"
   ]
  },
  {
   "cell_type": "markdown",
   "metadata": {},
   "source": [
    "# Commercials"
   ]
  },
  {
   "cell_type": "code",
   "execution_count": null,
   "metadata": {
    "ExecuteTime": {
     "end_time": "2018-07-08T06:56:06.438006Z",
     "start_time": "2018-07-08T06:56:06.402972Z"
    }
   },
   "outputs": [],
   "source": [
    "def commercial_stats(key, labels):\n",
    "    if key is not None:\n",
    "        rows = commercials.groupBy(key).agg(\n",
    "            commercials[key], \n",
    "            func.count('duration'), \n",
    "            func.avg('duration'), \n",
    "            func.sum('duration')\n",
    "        ).collect()\n",
    "    else:\n",
    "        rows = commercials.agg(\n",
    "            func.count('duration'), \n",
    "            func.avg('duration'),\n",
    "            func.sum('duration')\n",
    "        ).collect()\n",
    "    rmap = {(0 if key is None else r[key]): r for r in rows}\n",
    "    out_rows = []\n",
    "    for label in labels:\n",
    "        try:\n",
    "            out_rows.append({\n",
    "                'label': label['name'],\n",
    "                'count': format_number(rmap[label['id']]['count(duration)']),\n",
    "                'duration': format_time(int(rmap[label['id']]['sum(duration)'])),\n",
    "                'avg_duration': '{:06.2f}s'.format(rmap[label['id']]['avg(duration)'])\n",
    "            })\n",
    "        except KeyError:\n",
    "            pass\n",
    "    return out_rows\n",
    "\n",
    "commercial_ordering = ['label', 'count', 'duration', 'avg_duration']"
   ]
  },
  {
   "cell_type": "markdown",
   "metadata": {},
   "source": [
    "## All Commercials"
   ]
  },
  {
   "cell_type": "code",
   "execution_count": null,
   "metadata": {
    "ExecuteTime": {
     "end_time": "2018-07-08T06:56:07.431092Z",
     "start_time": "2018-07-08T06:56:06.439961Z"
    }
   },
   "outputs": [],
   "source": [
    "show_df(\n",
    "    commercial_stats(None, [{'id': 0, 'name': 'whole dataset'}]),\n",
    "    commercial_ordering)"
   ]
  },
  {
   "cell_type": "code",
   "execution_count": null,
   "metadata": {
    "ExecuteTime": {
     "end_time": "2018-07-08T06:56:08.073437Z",
     "start_time": "2018-07-08T06:56:07.432865Z"
    }
   },
   "outputs": [],
   "source": [
    "print('Average # of commercials per video: {:0.2f}'.format(\n",
    "    commercials.groupBy('video_id').count().agg(\n",
    "        func.avg(func.col('count'))\n",
    "    ).collect()[0]['avg(count)']\n",
    "))"
   ]
  },
  {
   "cell_type": "markdown",
   "metadata": {},
   "source": [
    "## Commercials by Channel"
   ]
  },
  {
   "cell_type": "code",
   "execution_count": null,
   "metadata": {
    "ExecuteTime": {
     "end_time": "2018-07-08T06:56:08.743171Z",
     "start_time": "2018-07-08T06:56:08.075354Z"
    }
   },
   "outputs": [],
   "source": [
    "show_df(\n",
    "    commercial_stats('channel_id', list(Channel.objects.all().values('id', 'name'))),\n",
    "    commercial_ordering)"
   ]
  },
  {
   "cell_type": "markdown",
   "metadata": {},
   "source": [
    "## Commercials by Show"
   ]
  },
  {
   "cell_type": "code",
   "execution_count": null,
   "metadata": {
    "ExecuteTime": {
     "end_time": "2018-07-08T06:56:09.406013Z",
     "start_time": "2018-07-08T06:56:08.745117Z"
    }
   },
   "outputs": [],
   "source": [
    "show_df(\n",
    "    commercial_stats('show_id', list(Show.objects.all().values('id', 'name'))),\n",
    "    commercial_ordering)"
   ]
  },
  {
   "cell_type": "markdown",
   "metadata": {},
   "source": [
    "## Commercials by Canonical Show"
   ]
  },
  {
   "cell_type": "code",
   "execution_count": null,
   "metadata": {
    "ExecuteTime": {
     "end_time": "2018-07-08T06:56:10.074968Z",
     "start_time": "2018-07-08T06:56:09.407879Z"
    }
   },
   "outputs": [],
   "source": [
    "show_df(\n",
    "    commercial_stats('canonical_show_id', list(CanonicalShow.objects.all().values('id', 'name'))),\n",
    "    commercial_ordering)"
   ]
  },
  {
   "cell_type": "markdown",
   "metadata": {},
   "source": [
    "## Commercials by Time of Day"
   ]
  },
  {
   "cell_type": "code",
   "execution_count": null,
   "metadata": {
    "ExecuteTime": {
     "end_time": "2018-07-08T06:56:10.957784Z",
     "start_time": "2018-07-08T06:56:10.077385Z"
    }
   },
   "outputs": [],
   "source": [
    "show_df(\n",
    "    commercial_stats('hour', [{'id': hour, 'name': format_hour(hour)} for hour in hours]),\n",
    "    commercial_ordering)"
   ]
  },
  {
   "cell_type": "markdown",
   "metadata": {},
   "source": [
    "# Faces"
   ]
  },
  {
   "cell_type": "markdown",
   "metadata": {},
   "source": [
    "## Face Validation"
   ]
  },
  {
   "cell_type": "code",
   "execution_count": null,
   "metadata": {
    "ExecuteTime": {
     "end_time": "2018-07-08T06:56:12.054470Z",
     "start_time": "2018-07-08T06:56:10.960235Z"
    }
   },
   "outputs": [],
   "source": [
    "base_face_stats = face_validation('All faces', lambda x: x)\n",
    "big_face_stats = face_validation(\n",
    "    'Faces height > 0.2', lambda qs: qs.annotate(height=F('bbox_y2') - F('bbox_y1')).filter(height__gte=0.2))"
   ]
  },
  {
   "cell_type": "code",
   "execution_count": null,
   "metadata": {
    "ExecuteTime": {
     "end_time": "2018-07-08T06:56:12.082650Z",
     "start_time": "2018-07-08T06:56:12.056307Z"
    }
   },
   "outputs": [],
   "source": [
    "shot_precision = 0.97\n",
    "shot_recall = 0.97\n",
    "\n",
    "def face_error_interval(n, face_stats):\n",
    "    (face_precision, face_recall, _) = face_stats\n",
    "    return [n * shot_precision * face_precision, n * (2 - shot_recall) * (2 - face_recall)]"
   ]
  },
  {
   "cell_type": "markdown",
   "metadata": {},
   "source": [
    "## All Faces"
   ]
  },
  {
   "cell_type": "code",
   "execution_count": null,
   "metadata": {
    "ExecuteTime": {
     "end_time": "2018-07-08T06:56:32.155774Z",
     "start_time": "2018-07-08T06:56:12.084971Z"
    }
   },
   "outputs": [],
   "source": [
    "print('Total faces: {}'.format(\n",
    "    format_number(face_error_interval(faces.count(), base_face_stats[2]))))\n",
    "\n",
    "total_duration = videos.agg(func.sum('duration')).collect()[0]['sum(duration)'] - \\\n",
    "    commercials.agg(func.sum('duration')).collect()[0]['sum(duration)']\n",
    "face_duration = faces.groupBy('shot_id') \\\n",
    "    .agg(\n",
    "        func.first('duration').alias('duration')\n",
    "    ).agg(func.sum('duration')).collect()[0]['sum(duration)']\n",
    "print('% of time a face is on screen: {:0.2f}'.format(100.0 * face_duration / total_duration))"
   ]
  },
  {
   "cell_type": "markdown",
   "metadata": {},
   "source": [
    "# Genders\n",
    "\n",
    "These queries analyze the distribution of men vs. women across a number of axes. We use faces detected by [MTCNN](https://github.com/kpzhang93/MTCNN_face_detection_alignment/) and gender detected by [rude-carnie](https://github.com/dpressel/rude-carnie). We only consider faces with a height > 20% of the frame to eliminate people in the background.\n",
    "\n",
    "Time for a given gender is the amount of time during which at least one person of that gender was on screen. Percentages are (gender screen time) / (total time any person was on screen)."
   ]
  },
  {
   "cell_type": "code",
   "execution_count": null,
   "metadata": {
    "ExecuteTime": {
     "end_time": "2018-07-08T06:56:32.731573Z",
     "start_time": "2018-07-08T06:56:32.157851Z"
    }
   },
   "outputs": [],
   "source": [
    "_, Cm = gender_validation('Gender w/ face height > 0.2', big_face_stats)\n",
    "\n",
    "def P(y, yhat):\n",
    "    d = {'M': 0, 'F': 1, 'U': 2}\n",
    "    return float(Cm[d[y]][d[yhat]]) / sum([Cm[i][d[yhat]] for i in d.values()])"
   ]
  },
  {
   "cell_type": "code",
   "execution_count": null,
   "metadata": {
    "ExecuteTime": {
     "end_time": "2018-07-08T20:41:34.355097Z",
     "start_time": "2018-07-08T20:41:34.242995Z"
    }
   },
   "outputs": [],
   "source": [
    "# TODO: remove a host -- use face features to identify and remove rachel maddow from computation\n",
    "# TODO: more discrete time zones (\"sunday mornings\", \"prime time\", \"daytime\", \"late evening\")\n",
    "# TODO: by year\n",
    "# TODO: specific dates, e.g. during the RNC\n",
    "\n",
    "MALE = Gender.objects.get(name='M')\n",
    "FEMALE = Gender.objects.get(name='F')\n",
    "UNKNOWN = Gender.objects.get(name='U')\n",
    "gender_names = {g.id: g.name for g in Gender.objects.all()}\n",
    "\n",
    "def gender_singlecount_stats(key, labels, min_dur=None):\n",
    "    if key == 'topic':     \n",
    "        # TODO: Fix this\n",
    "        df1 = face_genders.join(segment_links, face_genders.segment_id == segment_links.segment_id)\n",
    "        df2 = df1.join(things, segment_links.thing_id == things.id)\n",
    "        topic_type = ThingType.objects.get(name='topic').id\n",
    "        df3 = df2.where(things.type_id == topic_type).select(\n",
    "            *(['duration', 'channel_id', 'show_id', 'hour', 'week_day', 'gender_id'] +  \\\n",
    "              [things.id.alias('topic'), 'shot_id']))\n",
    "        full_df = df3\n",
    "    else:\n",
    "        full_df = face_genders\n",
    "        \n",
    "    keys = ['duration', 'channel_id', 'show_id', 'hour', 'week_day']\n",
    "    aggs = [func.count('gender_id')] + [func.first(full_df[k]).alias(k) for k in keys] + \\\n",
    "        ([full_df.topic] if key == 'topic' else [])\n",
    "    groups = ([key] if key is not None else []) + ['gender_id']\n",
    "    counts = full_df.groupBy(\n",
    "        # this is very brittle, need to add joined fields like 'canonical_show_id' here\n",
    "        *(['shot_id', 'gender_id', 'canonical_show_id'] + (['topic'] if key == 'topic' else []))\n",
    "    ).agg(*aggs)\n",
    "    rows = counts.where(\n",
    "        counts['count(gender_id)'] > 0\n",
    "    ).groupBy(\n",
    "        *groups\n",
    "    ).agg(\n",
    "        func.sum('duration')\n",
    "    ).collect()\n",
    "\n",
    "    if key is not None:\n",
    "        base_counts = full_df.groupBy(\n",
    "            ['shot_id', key]\n",
    "        ).agg(full_df[key], func.first('duration').alias('duration')) \\\n",
    "            .groupBy(key).agg(full_df[key], func.sum('duration')).collect()\n",
    "    else:\n",
    "        base_counts = full_df.groupBy(\n",
    "            'shot_id'\n",
    "        ).agg(\n",
    "            func.first('duration').alias('duration')\n",
    "        ).agg(func.sum('duration')).collect()\n",
    "    base_map = {\n",
    "        (row[key] if key is not None else 0): row['sum(duration)']\n",
    "        for row in base_counts\n",
    "    }\n",
    "        \n",
    "    out_rows = []\n",
    "    for label in labels:\n",
    "        label_rows = {\n",
    "            row.gender_id: row for row in rows if key is None or row[key] == label['id']\n",
    "        }\n",
    "        if len(label_rows) < 3: \n",
    "            continue\n",
    "\n",
    "        base_dur = int(base_map[label['id']])\n",
    "        if min_dur != None and base_dur < min_dur:\n",
    "            continue\n",
    "            \n",
    "        durs = {\n",
    "            g.id: int(label_rows[g.id]['sum(duration)'])\n",
    "            for g in [MALE, FEMALE, UNKNOWN]\n",
    "        }       \n",
    "        \n",
    "        def adjust(g):\n",
    "            return int(\n",
    "                reduce(lambda a, b: \n",
    "                       a + b, [durs[g2] * P(gender_names[g], gender_names[g2]) \n",
    "                               for g2 in durs]))\n",
    "        \n",
    "        adj_durs = {\n",
    "            g: adjust(g)\n",
    "            for g in durs\n",
    "        }\n",
    "            \n",
    "        out_rows.append({\n",
    "            key: label['name'],\n",
    "            'M': format_time(durs[MALE.id]),\n",
    "            'F': format_time(durs[FEMALE.id]),\n",
    "            'U': format_time(durs[UNKNOWN.id]),\n",
    "            'base': format_time(base_dur),\n",
    "            'M%': int(100.0 * durs[MALE.id] / base_dur),\n",
    "            'F%': int(100.0 * durs[FEMALE.id] / base_dur),\n",
    "            'U%': int(100.0 * durs[UNKNOWN.id] / base_dur),\n",
    "#             'M-Adj': format_time(adj_durs[MALE.id]),\n",
    "#             'F-Adj': format_time(adj_durs[FEMALE.id]),\n",
    "#             'U-Adj': format_time(adj_durs[UNKNOWN.id]),\n",
    "#             'M-Adj%': int(100.0 * adj_durs[MALE.id] / base_dur),\n",
    "#             'F-Adj%': int(100.0 * adj_durs[FEMALE.id] / base_dur),\n",
    "#             'U-Adj%': int(100.0 * adj_durs[UNKNOWN.id] / base_dur),\n",
    "            #'Overlap': int(100.0 * float(male_dur + female_dur) / base_dur) - 100\n",
    "        })\n",
    "    return out_rows\n",
    "gender_ordering = ['M', 'M%', 'F', 'F%', 'U', 'U%']\n",
    "#gender_ordering = ['M', 'M%', 'M-Adj', 'M-Adj%', 'F', 'F%', 'F-Adj', 'F-Adj%', 'U', 'U%', 'U-Adj', 'U-Adj%']"
   ]
  },
  {
   "cell_type": "code",
   "execution_count": null,
   "metadata": {
    "ExecuteTime": {
     "end_time": "2018-07-08T20:41:35.352556Z",
     "start_time": "2018-07-08T20:41:35.300513Z"
    }
   },
   "outputs": [],
   "source": [
    "def gender_multicount_stats(key, labels, min_dur=None, no_host=False, just_host=False):\n",
    "    df0 = face_genders\n",
    "    if no_host:\n",
    "        df0 = df0.where(\n",
    "            df0.host_probability < 0.8\n",
    "#             df0.is_host == False\n",
    "        )        \n",
    "    if just_host:\n",
    "        df0 = df0.where(\n",
    "            df0.host_probability > 0.8\n",
    "#             df0.is_host == True\n",
    "        )\n",
    "        \n",
    "    if key == 'topic':        \n",
    "        df1 = df0.join(segment_links, df0.segment_id == segment_links.segment_id)\n",
    "        df2 = df1.join(things, segment_links.thing_id == things.id)\n",
    "        topic_type = ThingType.objects.get(name='topic').id\n",
    "        df3 = df2.where(things.type_id == topic_type).select(\n",
    "            *(['duration', 'channel_id', 'show_id', 'hour', 'week_day', 'gender_id'] +  \\\n",
    "              [things.id.alias('topic'), 'shot_id']))\n",
    "        full_df = df3\n",
    "    else:\n",
    "        full_df = df0\n",
    "        \n",
    "    groups = ([key] if key is not None else []) + ['gender_id']\n",
    "    rows = full_df.groupBy(*groups).agg(func.sum('duration')).collect()\n",
    "        \n",
    "    out_rows = []\n",
    "    for label in labels:\n",
    "        label_rows = {row.gender_id: row for row in rows if key is None or row[key] == label['id']}\n",
    "        if len(label_rows) < 3: continue\n",
    "        male_dur = int(label_rows[MALE.id]['sum(duration)'])\n",
    "        female_dur = int(label_rows[FEMALE.id]['sum(duration)'])\n",
    "        unknown_dur = int(label_rows[UNKNOWN.id]['sum(duration)'])\n",
    "        base_dur = male_dur + female_dur\n",
    "        if min_dur != None and base_dur < min_dur:\n",
    "            continue\n",
    "        out_rows.append({\n",
    "            key: label['name'],\n",
    "            'M': format_time(male_dur),\n",
    "            'F': format_time(female_dur),\n",
    "            'U': format_time(unknown_dur),\n",
    "            'base': format_time(base_dur),\n",
    "            'M%': int(100.0 * male_dur / base_dur),\n",
    "            'F%': int(100.0 * female_dur / base_dur),\n",
    "            'U%': int(100.0 * unknown_dur / (base_dur + unknown_dur)),\n",
    "            'Overlap': 0,\n",
    "        })\n",
    "    return out_rows"
   ]
  },
  {
   "cell_type": "code",
   "execution_count": null,
   "metadata": {
    "ExecuteTime": {
     "end_time": "2018-07-08T20:41:36.034458Z",
     "start_time": "2018-07-08T20:41:35.968649Z"
    }
   },
   "outputs": [],
   "source": [
    "def gender_speaker_stats(key, labels, min_dur=None, no_host=False):\n",
    "    keys = ['duration', 'channel_id', 'show_id', 'hour', 'week_day']\n",
    "    \n",
    "    df0 = speakers\n",
    "    if no_host:\n",
    "        df0 = df0.where(df0.has_host == False)\n",
    "\n",
    "    if key == 'topic':        \n",
    "        df1 = df0.join(segment_links, speakers.segment_id == segment_links.segment_id)\n",
    "        df2 = df1.join(things, segment_links.thing_id == things.id)\n",
    "        topic_type = ThingType.objects.get(name='topic').id\n",
    "        df3 = df2.where(things.type_id == topic_type).select(\n",
    "            *(keys + ['gender_id', things.id.alias('topic')]))\n",
    "        full_df = df3\n",
    "    else:\n",
    "        full_df = df0\n",
    "  \n",
    "    aggs = [func.count('gender_id')] + [func.first(full_df[k]).alias(k) for k in keys] + \\\n",
    "        ([full_df.topic] if key == 'topic' else [])\n",
    "    groups = ([key] if key is not None else []) + ['gender_id'] + (['topic'] if key == 'topic' else [])\n",
    "    rows = full_df.groupBy(*groups).agg(func.sum('duration')).collect()\n",
    "\n",
    "    if key is not None:\n",
    "        base_counts = full_df.groupBy(key).agg(full_df[key], func.sum('duration')).collect()\n",
    "    else:\n",
    "        base_counts = full_df.agg(func.sum('duration')).collect()\n",
    "        \n",
    "    base_map = {\n",
    "        (row[key] if key is not None else 0): row['sum(duration)']\n",
    "        for row in base_counts\n",
    "    }\n",
    "        \n",
    "    out_rows = []\n",
    "    for label in labels:\n",
    "        label_rows = {row.gender_id: row for row in rows if key is None or row[key] == label['id']}\n",
    "        if len(label_rows) < 2: continue\n",
    "        male_dur = int(label_rows[MALE.id]['sum(duration)'])\n",
    "        female_dur = int(label_rows[FEMALE.id]['sum(duration)'])\n",
    "        base_dur = int(base_map[label['id']])\n",
    "        if min_dur != None and base_dur < min_dur:\n",
    "            continue\n",
    "        out_rows.append({\n",
    "            key: label['name'],\n",
    "            'M': format_time(male_dur),\n",
    "            'F': format_time(female_dur),\n",
    "            'base': format_time(base_dur),\n",
    "            'M%': int(100.0 * male_dur / base_dur),\n",
    "            'F%': int(100.0 * female_dur / base_dur),\n",
    "        })\n",
    "    return out_rows\n",
    "\n",
    "gender_speaker_ordering = ['M', 'M%', 'F', 'F%']"
   ]
  },
  {
   "cell_type": "markdown",
   "metadata": {},
   "source": [
    "## All Gender"
   ]
  },
  {
   "cell_type": "code",
   "execution_count": null,
   "metadata": {
    "ExecuteTime": {
     "end_time": "2018-07-08T20:42:26.699664Z",
     "start_time": "2018-07-08T20:41:38.486547Z"
    }
   },
   "outputs": [],
   "source": [
    "print('Singlecount')\n",
    "show_df(gender_singlecount_stats(None, [{'id': 0, 'name': 'whole dataset'}]), \n",
    "        gender_ordering)"
   ]
  },
  {
   "cell_type": "code",
   "execution_count": null,
   "metadata": {
    "ExecuteTime": {
     "end_time": "2018-07-08T20:43:24.183656Z",
     "start_time": "2018-07-08T20:42:26.701526Z"
    }
   },
   "outputs": [],
   "source": [
    "print('Multicount')\n",
    "gender_screen_all = gender_multicount_stats(None, [{'id': 0, 'name': 'whole dataset'}])\n",
    "gender_screen_all_nh = gender_multicount_stats(None, [{'id': 0, 'name': 'whole dataset'}], \n",
    "                                               no_host=True)\n",
    "show_df(gender_screen_all, gender_ordering)"
   ]
  },
  {
   "cell_type": "code",
   "execution_count": null,
   "metadata": {
    "ExecuteTime": {
     "end_time": "2018-07-08T20:43:24.223433Z",
     "start_time": "2018-07-08T20:43:24.185672Z"
    }
   },
   "outputs": [],
   "source": [
    "show_df(gender_screen_all_nh, gender_ordering)"
   ]
  },
  {
   "cell_type": "code",
   "execution_count": null,
   "metadata": {
    "ExecuteTime": {
     "end_time": "2018-07-08T20:43:28.566761Z",
     "start_time": "2018-07-08T20:43:24.226006Z"
    }
   },
   "outputs": [],
   "source": [
    "print('Speaking time')\n",
    "gender_speaking_all = gender_speaker_stats(None, [{'id': 0, 'name': 'whole dataset'}])\n",
    "gender_speaking_all_nh = gender_speaker_stats(\n",
    "    None, [{'id': 0, 'name': 'whole dataset'}],\n",
    "    no_host=True)\n",
    "show_df(gender_speaking_all, gender_speaker_ordering)"
   ]
  },
  {
   "cell_type": "code",
   "execution_count": null,
   "metadata": {
    "ExecuteTime": {
     "end_time": "2018-07-08T20:43:28.607501Z",
     "start_time": "2018-07-08T20:43:28.568959Z"
    }
   },
   "outputs": [],
   "source": [
    "show_df(gender_speaking_all_nh, gender_speaker_ordering)"
   ]
  },
  {
   "cell_type": "markdown",
   "metadata": {},
   "source": [
    "### Persist for Report"
   ]
  },
  {
   "cell_type": "code",
   "execution_count": null,
   "metadata": {
    "ExecuteTime": {
     "end_time": "2018-07-08T20:43:28.643040Z",
     "start_time": "2018-07-08T20:43:28.609739Z"
    }
   },
   "outputs": [],
   "source": [
    "pd.DataFrame(gender_screen_all).to_csv('/app/data/screen_all.csv')\n",
    "pd.DataFrame(gender_screen_all_nh).to_csv('/app/data/screen_all_nh.csv')\n",
    "pd.DataFrame(gender_speaking_all).to_csv('/app/data/speaking_all.csv')"
   ]
  },
  {
   "cell_type": "markdown",
   "metadata": {},
   "source": [
    "## Gender by Channel"
   ]
  },
  {
   "cell_type": "code",
   "execution_count": null,
   "metadata": {
    "ExecuteTime": {
     "end_time": "2018-07-08T20:44:15.215154Z",
     "start_time": "2018-07-08T20:43:28.645532Z"
    }
   },
   "outputs": [],
   "source": [
    "print('Singlecount')\n",
    "show_df(\n",
    "    gender_singlecount_stats('channel_id', list(Channel.objects.values('id', 'name'))),\n",
    "    ['channel_id'] + gender_ordering)"
   ]
  },
  {
   "cell_type": "code",
   "execution_count": null,
   "metadata": {
    "ExecuteTime": {
     "end_time": "2018-07-08T20:44:32.819071Z",
     "start_time": "2018-07-08T20:44:15.217816Z"
    }
   },
   "outputs": [],
   "source": [
    "print('Multicount')\n",
    "show_df(\n",
    "    gender_multicount_stats('channel_id', list(Channel.objects.values('id', 'name'))),\n",
    "    ['channel_id'] + gender_ordering)"
   ]
  },
  {
   "cell_type": "code",
   "execution_count": null,
   "metadata": {
    "ExecuteTime": {
     "end_time": "2018-07-08T20:44:35.380351Z",
     "start_time": "2018-07-08T20:44:32.821788Z"
    }
   },
   "outputs": [],
   "source": [
    "print('Speaking time')\n",
    "show_df(\n",
    "    gender_speaker_stats('channel_id', list(Channel.objects.values('id', 'name'))),\n",
    "    ['channel_id'] + gender_speaker_ordering)"
   ]
  },
  {
   "cell_type": "markdown",
   "metadata": {},
   "source": [
    "## Gender by Show"
   ]
  },
  {
   "cell_type": "code",
   "execution_count": null,
   "metadata": {
    "ExecuteTime": {
     "end_time": "2018-07-08T20:45:24.753775Z",
     "start_time": "2018-07-08T20:44:35.382283Z"
    },
    "scrolled": true
   },
   "outputs": [],
   "source": [
    "print('Singlecount')\n",
    "show_df(\n",
    "    gender_singlecount_stats('show_id', list(Show.objects.values('id', 'name')), min_dur=3600*500),\n",
    "    ['show_id'] + gender_ordering)"
   ]
  },
  {
   "cell_type": "code",
   "execution_count": null,
   "metadata": {
    "ExecuteTime": {
     "end_time": "2018-07-08T20:47:04.065546Z",
     "start_time": "2018-07-08T20:45:24.756014Z"
    }
   },
   "outputs": [],
   "source": [
    "print('Multicount')\n",
    "gender_screen_show = gender_multicount_stats(\n",
    "    'show_id', \n",
    "    list(Show.objects.values('id', 'name')),\n",
    "    min_dur=3600*250\n",
    ")\n",
    "gender_screen_show_nh = gender_multicount_stats(\n",
    "    'show_id', \n",
    "    list(Show.objects.values('id', 'name')), \n",
    "    min_dur=3600*250,\n",
    "    no_host=True\n",
    ")\n",
    "gender_screen_show_jh = gender_multicount_stats(\n",
    "    'show_id',\n",
    "    list(Show.objects.values('id', 'name')), \n",
    "    min_dur=3600*50, \n",
    "    just_host=True\n",
    ")\n",
    "show_df(gender_screen_show, ['show_id'] + gender_ordering)"
   ]
  },
  {
   "cell_type": "code",
   "execution_count": null,
   "metadata": {
    "ExecuteTime": {
     "end_time": "2018-07-08T20:47:27.113958Z",
     "start_time": "2018-07-08T20:47:04.067825Z"
    }
   },
   "outputs": [],
   "source": [
    "gshow = face_genders.groupBy('video_id', 'gender_id').agg(func.sum('duration').alias('screen_sum'), func.first('show_id').alias('show_id'))\n",
    "gspeak = speakers.groupBy('video_id', 'gender_id').agg(func.sum('duration').alias('speak_sum'))\n",
    "rows = gshow.join(gspeak, ['video_id', 'gender_id']).toPandas()"
   ]
  },
  {
   "cell_type": "code",
   "execution_count": null,
   "metadata": {
    "ExecuteTime": {
     "end_time": "2018-07-08T20:47:27.144289Z",
     "start_time": "2018-07-08T20:47:27.116265Z"
    }
   },
   "outputs": [],
   "source": [
    "# TODO: this is really sketchy and clobbers some variables such as videos\n",
    "\n",
    "# show = Show.objects.get(name='Fox and Friends First')\n",
    "# rows2 = rows[rows.show_id == show.id]\n",
    "# videos = collect([r for _, r in rows2.iterrows()], lambda r: int(r.video_id))\n",
    "# bs = []\n",
    "# vkeys = []\n",
    "# for vid, vrows in videos.iteritems():\n",
    "#     vgender = {int(r.gender_id): r for r in vrows}\n",
    "#     def balance(key):\n",
    "#         return vgender[1][key] / float(vgender[1][key] + vgender[2][key])\n",
    "#     try:\n",
    "#         bs.append(balance('screen_sum') / balance('speak_sum'))\n",
    "#     except KeyError:\n",
    "#         bs.append(0)\n",
    "#     vkeys.append(vid)\n",
    "# idx = np.argsort(bs)[-20:]\n",
    "# print(np.array(vkeys)[idx].tolist(), np.array(bs)[idx].tolist())"
   ]
  },
  {
   "cell_type": "code",
   "execution_count": null,
   "metadata": {
    "ExecuteTime": {
     "end_time": "2018-07-08T20:47:27.193505Z",
     "start_time": "2018-07-08T20:47:27.146645Z"
    }
   },
   "outputs": [],
   "source": [
    "show_df(gender_screen_show_nh, ['show_id'] + gender_ordering)"
   ]
  },
  {
   "cell_type": "code",
   "execution_count": null,
   "metadata": {
    "ExecuteTime": {
     "end_time": "2018-07-08T20:47:33.507094Z",
     "start_time": "2018-07-08T20:47:27.195453Z"
    }
   },
   "outputs": [],
   "source": [
    "print('Speaking time')\n",
    "gender_speaking_show = gender_speaker_stats('show_id', list(Show.objects.values('id', 'name')), min_dur=3600*3)\n",
    "gender_speaking_show_nh = gender_speaker_stats('show_id', list(Show.objects.values('id', 'name')), min_dur=3600*3, no_host=True)\n",
    "show_df(    \n",
    "    gender_speaking_show,\n",
    "    ['show_id'] + gender_speaker_ordering)"
   ]
  },
  {
   "cell_type": "code",
   "execution_count": null,
   "metadata": {
    "ExecuteTime": {
     "end_time": "2018-07-08T20:47:33.558614Z",
     "start_time": "2018-07-08T20:47:33.508979Z"
    }
   },
   "outputs": [],
   "source": [
    "show_df(    \n",
    "    gender_speaking_show_nh,\n",
    "    ['show_id'] + gender_speaker_ordering)"
   ]
  },
  {
   "cell_type": "markdown",
   "metadata": {},
   "source": [
    "### Persist for Report"
   ]
  },
  {
   "cell_type": "code",
   "execution_count": null,
   "metadata": {
    "ExecuteTime": {
     "end_time": "2018-07-08T20:47:33.601758Z",
     "start_time": "2018-07-08T20:47:33.560636Z"
    }
   },
   "outputs": [],
   "source": [
    "pd.DataFrame(gender_screen_show).to_csv('/app/data/screen_show.csv')\n",
    "pd.DataFrame(gender_screen_show_nh).to_csv('/app/data/screen_show_nh.csv')\n",
    "pd.DataFrame(gender_screen_show_jh).to_csv('/app/data/screen_show_jh.csv')\n",
    "pd.DataFrame(gender_speaking_show).to_csv('/app/data/speaking_show.csv')\n",
    "pd.DataFrame(gender_speaking_show_nh).to_csv('/app/data/speaking_show_nh.csv')"
   ]
  },
  {
   "cell_type": "markdown",
   "metadata": {},
   "source": [
    "## Gender by Canonical Show"
   ]
  },
  {
   "cell_type": "code",
   "execution_count": null,
   "metadata": {
    "ExecuteTime": {
     "end_time": "2018-07-08T20:48:20.551491Z",
     "start_time": "2018-07-08T20:47:33.603926Z"
    },
    "scrolled": false
   },
   "outputs": [],
   "source": [
    "print('Singlecount')\n",
    "show_df(\n",
    "    gender_singlecount_stats(\n",
    "        'canonical_show_id', \n",
    "        list(CanonicalShow.objects.values('id', 'name')),\n",
    "        min_dur=3600*500\n",
    "    ),\n",
    "    ['canonical_show_id'] + gender_ordering\n",
    ")"
   ]
  },
  {
   "cell_type": "code",
   "execution_count": null,
   "metadata": {
    "ExecuteTime": {
     "end_time": "2018-07-08T20:49:55.178676Z",
     "start_time": "2018-07-08T20:48:20.553376Z"
    }
   },
   "outputs": [],
   "source": [
    "print('Multicount')\n",
    "gender_screen_canonical_show = gender_multicount_stats(\n",
    "    'canonical_show_id', \n",
    "    list(CanonicalShow.objects.values('id', 'name')), \n",
    "    min_dur=3600*250\n",
    ")\n",
    "gender_screen_canonical_show_nh = gender_multicount_stats(\n",
    "    'canonical_show_id', \n",
    "    list(CanonicalShow.objects.values('id', 'name')), \n",
    "    min_dur=3600*250, \n",
    "    no_host=True\n",
    ")\n",
    "gender_screen_canonical_show_jh = gender_multicount_stats(\n",
    "    'canonical_show_id', \n",
    "    list(CanonicalShow.objects.values('id', 'name')), \n",
    "    min_dur=3600*50, \n",
    "    just_host=True\n",
    ")\n",
    "show_df(gender_screen_canonical_show, ['canonical_show_id'] + gender_ordering)"
   ]
  },
  {
   "cell_type": "code",
   "execution_count": null,
   "metadata": {
    "ExecuteTime": {
     "end_time": "2018-07-08T20:50:01.235101Z",
     "start_time": "2018-07-08T20:49:55.180920Z"
    }
   },
   "outputs": [],
   "source": [
    "print('Speaking time')\n",
    "gender_speaking_canonical_show = gender_speaker_stats(\n",
    "    'canonical_show_id', \n",
    "    list(CanonicalShow.objects.values('id', 'name')),\n",
    "    min_dur=3600*3\n",
    ")\n",
    "gender_speaking_canonical_show_nh = gender_speaker_stats(\n",
    "    'canonical_show_id', \n",
    "    list(CanonicalShow.objects.values('id', 'name')), \n",
    "    min_dur=3600*3,\n",
    "    no_host=True\n",
    ")\n",
    "show_df(    \n",
    "    gender_speaking_canonical_show,\n",
    "    ['canonical_show_id'] + gender_speaker_ordering)"
   ]
  },
  {
   "cell_type": "code",
   "execution_count": null,
   "metadata": {
    "ExecuteTime": {
     "end_time": "2018-07-08T20:50:01.284910Z",
     "start_time": "2018-07-08T20:50:01.237252Z"
    }
   },
   "outputs": [],
   "source": [
    "show_df(    \n",
    "    gender_speaking_canonical_show_nh,\n",
    "    ['canonical_show_id'] + gender_speaker_ordering)"
   ]
  },
  {
   "cell_type": "markdown",
   "metadata": {},
   "source": [
    "### Persist for Report"
   ]
  },
  {
   "cell_type": "code",
   "execution_count": null,
   "metadata": {
    "ExecuteTime": {
     "end_time": "2018-07-08T20:50:02.163470Z",
     "start_time": "2018-07-08T20:50:01.287178Z"
    }
   },
   "outputs": [],
   "source": [
    "pd.DataFrame(gender_screen_canonical_show).to_csv('/app/data/screen_canonical_show.csv')\n",
    "pd.DataFrame(gender_screen_canonical_show_nh).to_csv('/app/data/screen_canonical_show_nh.csv')\n",
    "pd.DataFrame(gender_screen_canonical_show_jh).to_csv('/app/data/screen_canonical_show_jh.csv')\n",
    "pd.DataFrame(gender_speaking_canonical_show).to_csv('/app/data/speaking_canonical_show.csv')\n",
    "pd.DataFrame(gender_speaking_canonical_show_nh).to_csv('/app/data/speaking_canonical_show_nh.csv')"
   ]
  },
  {
   "cell_type": "markdown",
   "metadata": {
    "ExecuteTime": {
     "end_time": "2018-07-02T23:30:02.586955Z",
     "start_time": "2018-07-02T23:27:59.636Z"
    }
   },
   "source": [
    "## Gender by time of day"
   ]
  },
  {
   "cell_type": "code",
   "execution_count": null,
   "metadata": {
    "ExecuteTime": {
     "end_time": "2018-07-08T07:03:38.806148Z",
     "start_time": "2018-07-08T07:02:38.730645Z"
    }
   },
   "outputs": [],
   "source": [
    "print('Singlecount')\n",
    "show_df(\n",
    "    gender_singlecount_stats('hour', [{'id': hour, 'name': format_hour(hour)} for hour in hours]),\n",
    "    ['hour'] + gender_ordering)   "
   ]
  },
  {
   "cell_type": "code",
   "execution_count": null,
   "metadata": {
    "ExecuteTime": {
     "end_time": "2018-07-08T07:04:02.792790Z",
     "start_time": "2018-07-08T07:03:38.808154Z"
    }
   },
   "outputs": [],
   "source": [
    "print('Multicount')\n",
    "gender_screen_tod = gender_multicount_stats('hour', [{'id': hour, 'name': format_hour(hour)} for hour in hours])\n",
    "show_df(gender_screen_tod, ['hour'] + gender_ordering)   "
   ]
  },
  {
   "cell_type": "code",
   "execution_count": null,
   "metadata": {
    "ExecuteTime": {
     "end_time": "2018-07-08T07:04:09.541465Z",
     "start_time": "2018-07-08T07:04:02.795505Z"
    }
   },
   "outputs": [],
   "source": [
    "print('Speaking time')\n",
    "gender_speaking_tod = gender_speaker_stats('hour', [{'id': hour, 'name': format_hour(hour)} for hour in hours])\n",
    "show_df(gender_speaking_tod, ['hour'] + gender_speaker_ordering)   "
   ]
  },
  {
   "cell_type": "markdown",
   "metadata": {},
   "source": [
    "## Gender by Day of the Week"
   ]
  },
  {
   "cell_type": "code",
   "execution_count": null,
   "metadata": {
    "ExecuteTime": {
     "end_time": "2018-07-08T07:04:51.471270Z",
     "start_time": "2018-07-08T07:04:09.543953Z"
    }
   },
   "outputs": [],
   "source": [
    "dotw = ['Monday', 'Tuesday', 'Wednesday', 'Thursday', 'Friday', 'Saturday', 'Sunday']\n",
    "print('Singlecount')\n",
    "show_df(\n",
    "    gender_singlecount_stats('week_day', [{'id': i + 1, 'name': d} for i, d in enumerate(dotw)]),\n",
    "    ['week_day'] + gender_ordering)"
   ]
  },
  {
   "cell_type": "code",
   "execution_count": null,
   "metadata": {
    "ExecuteTime": {
     "end_time": "2018-07-08T07:05:08.945258Z",
     "start_time": "2018-07-08T07:04:51.473241Z"
    }
   },
   "outputs": [],
   "source": [
    "print('Multicount')\n",
    "show_df(\n",
    "    gender_multicount_stats('week_day', [{'id': i + 1, 'name': d} for i, d in enumerate(dotw)]),\n",
    "    ['week_day'] + gender_ordering)"
   ]
  },
  {
   "cell_type": "code",
   "execution_count": null,
   "metadata": {
    "ExecuteTime": {
     "end_time": "2018-07-08T07:05:11.735465Z",
     "start_time": "2018-07-08T07:05:08.947195Z"
    }
   },
   "outputs": [],
   "source": [
    "print('Speaking time')\n",
    "show_df(\n",
    "    gender_speaker_stats('week_day', [{'id': i + 1, 'name': d} for i, d in enumerate(dotw)]),\n",
    "    ['week_day'] + gender_speaker_ordering)"
   ]
  },
  {
   "cell_type": "markdown",
   "metadata": {},
   "source": [
    "## Gender by topic"
   ]
  },
  {
   "cell_type": "code",
   "execution_count": null,
   "metadata": {
    "ExecuteTime": {
     "end_time": "2018-07-08T07:05:11.764064Z",
     "start_time": "2018-07-08T07:05:11.737833Z"
    }
   },
   "outputs": [],
   "source": [
    "# TODO: FIX ME\n",
    "\n",
    "# THOUGHTS:\n",
    "# - Try topic analysis just on a \"serious\" news show. \n",
    "# - Generate a panel from multiple clips, e.g. endless panel of people on a topic\n",
    "# - Produce an endless stream of men talking about, e.g. birth control\n",
    "\n",
    "# print('Singlecount')\n",
    "# show_df(\n",
    "#     gender_singlecount_stats(\n",
    "#         'topic', [{'id': t.id, 'name': t.name} for t in Thing.objects.filter(type__name='topic')],\n",
    "#         min_dur=3600*5),\n",
    "#     ['topic'] + gender_ordering)\n",
    "\n",
    "# check this \n",
    "# M% is the pecent of time that men are on screen when this topic is being discussed"
   ]
  },
  {
   "cell_type": "code",
   "execution_count": null,
   "metadata": {
    "ExecuteTime": {
     "end_time": "2018-07-08T07:05:11.793535Z",
     "start_time": "2018-07-08T07:05:11.766724Z"
    }
   },
   "outputs": [],
   "source": [
    "# print('Multicount')\n",
    "# gender_screen_topic = gender_multicount_stats(\n",
    "#         'topic', [{'id': t.id, 'name': t.name} for t in Thing.objects.filter(type__name='topic')],\n",
    "#         min_dur=3600*300)\n",
    "# gender_screen_topic_nh = gender_multicount_stats(\n",
    "#         'topic', [{'id': t.id, 'name': t.name} for t in Thing.objects.filter(type__name='topic')],\n",
    "#         min_dur=3600*300, no_host=True)\n",
    "# show_df(gender_screen_topic, ['topic'] + gender_ordering)"
   ]
  },
  {
   "cell_type": "code",
   "execution_count": null,
   "metadata": {
    "ExecuteTime": {
     "end_time": "2018-07-08T07:05:11.821879Z",
     "start_time": "2018-07-08T07:05:11.795889Z"
    }
   },
   "outputs": [],
   "source": [
    "# print('Speaking time')\n",
    "# gender_speaking_topic = gender_speaker_stats(\n",
    "#         'topic', [{'id': t.id, 'name': t.name} for t in Thing.objects.filter(type__name='topic')],\n",
    "#         min_dur=3600*100)\n",
    "# gender_speaking_topic_nh = gender_speaker_stats(\n",
    "#         'topic', [{'id': t.id, 'name': t.name} for t in Thing.objects.filter(type__name='topic')],\n",
    "#         min_dur=3600*100, no_host=True)\n",
    "# show_df(gender_speaking_topic, ['topic'] + gender_speaker_ordering)"
   ]
  },
  {
   "cell_type": "markdown",
   "metadata": {},
   "source": [
    "## Male vs. female faces in panels\n",
    "* Smaller percentage of women in panels relative to overall dataset."
   ]
  },
  {
   "cell_type": "code",
   "execution_count": null,
   "metadata": {
    "ExecuteTime": {
     "end_time": "2018-07-08T07:05:11.849864Z",
     "start_time": "2018-07-08T07:05:11.823884Z"
    }
   },
   "outputs": [],
   "source": [
    "# # TODO: female-domainated situations?\n",
    "# # TODO: slice this on # of people in the panel\n",
    "# # TODO: small visualization that shows sample of segments\n",
    "# # TODO: panels w/ majority male vs. majority female\n",
    "\n",
    "# print('Computing panels')\n",
    "# panels = queries.panels()\n",
    "# print('Computing gender stats')\n",
    "# frame_ids = [frame.id for (frame, _) in panels]\n",
    "# counts = filter_gender(lambda qs: qs.filter(face__person__frame__id__in=frame_ids), lambda qs: qs)\n",
    "# show_df([counts], ordering)"
   ]
  },
  {
   "cell_type": "markdown",
   "metadata": {},
   "source": [
    "# Pose\n",
    "* Animatedness of people (specifically hosts)\n",
    "    * e.g. Rachel Maddow vs. others\n",
    "    * Pick 3-4 hours of a few specific hosts, compute dense poses and tracks\n",
    "    * Devise acceleration metric\n",
    "* More gesturing on heated exchanges?\n",
    "* Sitting vs. standing\n",
    "* Repeated gestures (debates vs. state of the union)\n",
    "* Head/eye orientation (are people looking at each other?)\n",
    "* Camera orientation (looking at someone from above/below)\n",
    "* How much are the hosts facing each other\n",
    "* Quantify aggressive body language"
   ]
  },
  {
   "cell_type": "markdown",
   "metadata": {
    "ExecuteTime": {
     "end_time": "2018-07-02T23:50:31.291935Z",
     "start_time": "2018-07-02T23:49:18.664Z"
    }
   },
   "source": [
    "# Topics"
   ]
  },
  {
   "cell_type": "code",
   "execution_count": null,
   "metadata": {
    "ExecuteTime": {
     "end_time": "2018-07-08T07:05:12.158284Z",
     "start_time": "2018-07-08T07:05:11.851833Z"
    }
   },
   "outputs": [],
   "source": [
    "df = pd.DataFrame(gender_screen_tod)\n",
    "ax = df.plot('hour', 'M%')\n",
    "pd.DataFrame(gender_speaking_tod).plot('hour', 'M%', ax=ax)\n",
    "ax.set_ylim(0, 100)\n",
    "ax.set_xticks(range(len(df)))\n",
    "ax.set_xticklabels(df.hour)\n",
    "ax.axhline(50, color='r', linestyle='--')\n",
    "ax.legend(['Screen time', 'Speaking time',  '50%'])"
   ]
  },
  {
   "cell_type": "code",
   "execution_count": null,
   "metadata": {
    "ExecuteTime": {
     "end_time": "2018-07-08T07:05:12.188956Z",
     "start_time": "2018-07-08T07:05:12.160893Z"
    }
   },
   "outputs": [],
   "source": [
    "# pd.DataFrame(gender_screen_topic).to_csv('/app/data/screen_topic.csv')\n",
    "# pd.DataFrame(gender_screen_topic_nh).to_csv('/app/data/screen_topic_nh.csv')\n",
    "# pd.DataFrame(gender_speaking_topic).to_csv('/app/data/speaking_topic.csv')\n",
    "# pd.DataFrame(gender_speaking_topic_nh).to_csv('/app/data/speaking_topic_nh.csv')"
   ]
  },
  {
   "cell_type": "code",
   "execution_count": null,
   "metadata": {},
   "outputs": [],
   "source": []
  }
 ],
 "metadata": {
  "kernelspec": {
   "display_name": "Django Shell-Plus",
   "language": "python",
   "name": "django_extensions"
  },
  "language_info": {
   "codemirror_mode": {
    "name": "ipython",
    "version": 3
   },
   "file_extension": ".py",
   "mimetype": "text/x-python",
   "name": "python",
   "nbconvert_exporter": "python",
   "pygments_lexer": "ipython3",
   "version": "3.5.2"
  },
  "toc": {
   "base_numbering": 1,
   "nav_menu": {},
   "number_sections": true,
   "sideBar": false,
   "skip_h1_title": false,
   "title_cell": "Table of Contents",
   "title_sidebar": "Contents",
   "toc_cell": true,
   "toc_position": {},
   "toc_section_display": "block",
   "toc_window_display": false
  }
 },
 "nbformat": 4,
 "nbformat_minor": 2
}
