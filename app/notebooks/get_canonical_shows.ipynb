{
 "cells": [
  {
   "cell_type": "code",
   "execution_count": null,
   "metadata": {
    "ExecuteTime": {
     "end_time": "2018-12-18T23:51:48.501217Z",
     "start_time": "2018-12-18T23:51:39.741092Z"
    }
   },
   "outputs": [],
   "source": [
    "from esper.prelude import *\n",
    "from esper.identity import *"
   ]
  },
  {
   "cell_type": "code",
   "execution_count": null,
   "metadata": {
    "ExecuteTime": {
     "end_time": "2018-12-19T00:56:45.311540Z",
     "start_time": "2018-12-19T00:56:45.030276Z"
    },
    "scrolled": false
   },
   "outputs": [],
   "source": [
    "from django.db.models import Count, Sum, F, FloatField\n",
    "show_and_video_counts = { \n",
    "    (x['show__name'], x['channel__name'], x['count'], x['total_duration'] / 3600.)\n",
    "    for x in Video.objects.values(\n",
    "        'show__name', 'channel__name'\n",
    "    ).annotate(\n",
    "        count=Count('show__name'),\n",
    "        total_duration=Sum(F('num_frames') / F('fps'), output_field=FloatField())\n",
    "    )\n",
    "}\n",
    "\n",
    "print('Show Name,Channel,Video Count,Hours,Recurring,Canonical Show Name'.format(k, v))\n",
    "for name, channel, count, duration in sorted(show_and_video_counts):\n",
    "    print('\"{}\",\"{}\",{},{},{},\"{}\"'.format(name, channel, count, duration, count > 30, name))"
   ]
  },
  {
   "cell_type": "code",
   "execution_count": null,
   "metadata": {},
   "outputs": [],
   "source": []
  }
 ],
 "metadata": {
  "kernelspec": {
   "display_name": "Django Shell-Plus",
   "language": "python",
   "name": "django_extensions"
  },
  "language_info": {
   "codemirror_mode": {
    "name": "ipython",
    "version": 3
   },
   "file_extension": ".py",
   "mimetype": "text/x-python",
   "name": "python",
   "nbconvert_exporter": "python",
   "pygments_lexer": "ipython3",
   "version": "3.5.2"
  },
  "toc": {
   "nav_menu": {},
   "number_sections": true,
   "sideBar": false,
   "skip_h1_title": false,
   "toc_cell": false,
   "toc_position": {},
   "toc_section_display": "block",
   "toc_window_display": false
  }
 },
 "nbformat": 4,
 "nbformat_minor": 2
}
