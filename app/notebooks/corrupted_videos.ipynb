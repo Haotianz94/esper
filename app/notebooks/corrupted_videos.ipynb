{
 "cells": [
  {
   "cell_type": "code",
   "execution_count": null,
   "metadata": {
    "ExecuteTime": {
     "end_time": "2019-01-04T06:45:44.637857Z",
     "start_time": "2019-01-04T06:45:41.531344Z"
    }
   },
   "outputs": [],
   "source": [
    "from esper.prelude import *\n",
    "import json"
   ]
  },
  {
   "cell_type": "code",
   "execution_count": null,
   "metadata": {
    "ExecuteTime": {
     "end_time": "2019-01-04T06:45:48.430368Z",
     "start_time": "2019-01-04T06:45:44.641376Z"
    }
   },
   "outputs": [],
   "source": [
    "videos = list(Video.objects.all())"
   ]
  },
  {
   "cell_type": "code",
   "execution_count": null,
   "metadata": {
    "ExecuteTime": {
     "end_time": "2019-01-04T06:51:36.406505Z",
     "start_time": "2019-01-04T06:46:07.516052Z"
    }
   },
   "outputs": [],
   "source": [
    "def get_durs():\n",
    "    def check_meta(v):\n",
    "        try:\n",
    "            meta = json.load(open('/app/data/ia-metadata/{}.json'.format(v.item_name())))\n",
    "            runtime = meta['metadata']['runtime']\n",
    "            [h, m, s] = [int(s) for s in runtime.split(':')]\n",
    "            computed_dur = v.num_frames / v.fps\n",
    "            expected_dur = h * 3600 + m * 60 + s\n",
    "            return (v, computed_dur, expected_dur)\n",
    "        except Exception:\n",
    "            return None\n",
    "    return par_for(check_meta, videos, workers=16)\n",
    "durs = pcache.get('durs', get_durs)"
   ]
  },
  {
   "cell_type": "code",
   "execution_count": null,
   "metadata": {
    "ExecuteTime": {
     "end_time": "2019-01-04T07:09:32.553767Z",
     "start_time": "2019-01-04T07:09:32.432070Z"
    }
   },
   "outputs": [],
   "source": [
    "ns = []\n",
    "corrupted = []\n",
    "for tup in durs:\n",
    "    if tup is None: continue\n",
    "    (v, computed_dur, expected_dur) = tup\n",
    "    diff = computed_dur - expected_dur\n",
    "    if abs(diff) > 100:\n",
    "        ns.append(diff)\n",
    "        if diff > 0:\n",
    "            corrupted.append(v)\n",
    "len(ns)"
   ]
  },
  {
   "cell_type": "code",
   "execution_count": null,
   "metadata": {
    "ExecuteTime": {
     "end_time": "2019-01-04T07:09:35.450091Z",
     "start_time": "2019-01-04T07:09:35.059252Z"
    },
    "scrolled": true
   },
   "outputs": [],
   "source": [
    "pd.Series(ns).hist(bins=100)\n",
    "plt.xlabel('Hwang duration minus Archive duration')\n",
    "plt.ylabel('# of videos')"
   ]
  },
  {
   "cell_type": "code",
   "execution_count": null,
   "metadata": {
    "ExecuteTime": {
     "end_time": "2019-01-04T07:09:53.586811Z",
     "start_time": "2019-01-04T07:09:51.853070Z"
    }
   },
   "outputs": [],
   "source": [
    "for v in corrupted:\n",
    "    v.corrupted = True\n",
    "    v.save()"
   ]
  }
 ],
 "metadata": {
  "kernelspec": {
   "display_name": "Django Shell-Plus",
   "language": "python",
   "name": "django_extensions"
  },
  "language_info": {
   "codemirror_mode": {
    "name": "ipython",
    "version": 3
   },
   "file_extension": ".py",
   "mimetype": "text/x-python",
   "name": "python",
   "nbconvert_exporter": "python",
   "pygments_lexer": "ipython3",
   "version": "3.5.2"
  },
  "toc": {
   "nav_menu": {},
   "number_sections": true,
   "sideBar": true,
   "skip_h1_title": false,
   "toc_cell": false,
   "toc_position": {},
   "toc_section_display": "block",
   "toc_window_display": false
  }
 },
 "nbformat": 4,
 "nbformat_minor": 2
}
