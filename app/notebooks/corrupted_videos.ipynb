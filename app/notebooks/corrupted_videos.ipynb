{
 "cells": [
  {
   "cell_type": "code",
   "execution_count": null,
   "metadata": {
    "ExecuteTime": {
     "end_time": "2019-01-04T04:52:05.262186Z",
     "start_time": "2019-01-04T04:52:05.234449Z"
    }
   },
   "outputs": [],
   "source": [
    "from esper.prelude import *\n",
    "import json"
   ]
  },
  {
   "cell_type": "code",
   "execution_count": null,
   "metadata": {
    "ExecuteTime": {
     "end_time": "2019-01-04T06:10:29.650649Z",
     "start_time": "2019-01-04T06:10:23.886296Z"
    }
   },
   "outputs": [],
   "source": [
    "videos = list(Video.objects.all()[:180000])"
   ]
  },
  {
   "cell_type": "code",
   "execution_count": null,
   "metadata": {
    "ExecuteTime": {
     "end_time": "2019-01-04T06:26:35.326144Z",
     "start_time": "2019-01-04T06:15:03.096061Z"
    }
   },
   "outputs": [],
   "source": [
    "def check_meta(v):\n",
    "    try:\n",
    "        meta = json.load(open('/app/data/ia-metadata/{}.json'.format(v.item_name())))\n",
    "        runtime = meta['metadata']['runtime']\n",
    "        [h, m, s] = [int(s) for s in runtime.split(':')]\n",
    "        computed_dur = v.num_frames / v.fps\n",
    "        expected_dur = h * 3600 + m * 60 + s\n",
    "        return (v, computed_dur, expected_dur)\n",
    "    except Exception:\n",
    "        return None\n",
    "durs = par_for(check_meta, videos, workers=16)"
   ]
  },
  {
   "cell_type": "code",
   "execution_count": null,
   "metadata": {
    "ExecuteTime": {
     "end_time": "2019-01-04T05:02:56.529936Z",
     "start_time": "2019-01-04T05:02:56.409862Z"
    }
   },
   "outputs": [],
   "source": [
    "i = 0\n",
    "for (v, computed_dur, expected_dur) in durs:\n",
    "    if abs(computed_dur - expected_dur) > 100:\n",
    "        print('{}: {:.0f}, {:.0f}'.format(v.item_name(), computed_dur, expected_dur))"
   ]
  },
  {
   "cell_type": "code",
   "execution_count": null,
   "metadata": {
    "ExecuteTime": {
     "end_time": "2019-01-04T05:03:56.292181Z",
     "start_time": "2019-01-04T05:03:56.140366Z"
    }
   },
   "outputs": [],
   "source": [
    "Video.objects.get(path__contains='CNN_20111120_000000_CNN_Newsroom')"
   ]
  }
 ],
 "metadata": {
  "kernelspec": {
   "display_name": "Django Shell-Plus",
   "language": "python",
   "name": "django_extensions"
  },
  "language_info": {
   "codemirror_mode": {
    "name": "ipython",
    "version": 3
   },
   "file_extension": ".py",
   "mimetype": "text/x-python",
   "name": "python",
   "nbconvert_exporter": "python",
   "pygments_lexer": "ipython3",
   "version": "3.5.2"
  },
  "toc": {
   "nav_menu": {},
   "number_sections": true,
   "sideBar": true,
   "skip_h1_title": false,
   "toc_cell": false,
   "toc_position": {},
   "toc_section_display": "block",
   "toc_window_display": false
  }
 },
 "nbformat": 4,
 "nbformat_minor": 2
}
