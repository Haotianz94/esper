{
 "cells": [
  {
   "cell_type": "code",
   "execution_count": null,
   "metadata": {
    "ExecuteTime": {
     "end_time": "2019-01-04T18:57:25.883206Z",
     "start_time": "2019-01-04T18:57:25.073871Z"
    }
   },
   "outputs": [],
   "source": [
    "from esper.prelude import *\n",
    "import json"
   ]
  },
  {
   "cell_type": "code",
   "execution_count": null,
   "metadata": {
    "ExecuteTime": {
     "end_time": "2019-01-04T18:57:29.607059Z",
     "start_time": "2019-01-04T18:57:25.886405Z"
    }
   },
   "outputs": [],
   "source": [
    "videos = list(Video.objects.all())"
   ]
  },
  {
   "cell_type": "code",
   "execution_count": null,
   "metadata": {
    "ExecuteTime": {
     "end_time": "2019-01-04T18:57:34.175842Z",
     "start_time": "2019-01-04T18:57:29.842113Z"
    }
   },
   "outputs": [],
   "source": [
    "def get_durs():\n",
    "    def check_meta(v):\n",
    "        try:\n",
    "            meta = json.load(open('/app/data/ia-metadata/{}.json'.format(v.item_name())))\n",
    "            runtime = meta['metadata']['runtime']\n",
    "            [h, m, s] = [int(s) for s in runtime.split(':')]\n",
    "            computed_dur = v.num_frames / v.fps\n",
    "            expected_dur = h * 3600 + m * 60 + s\n",
    "            return (v, computed_dur, expected_dur)\n",
    "        except Exception:\n",
    "            return None\n",
    "    return par_for(check_meta, videos, workers=16)\n",
    "durs = pcache.get('durs', get_durs)"
   ]
  },
  {
   "cell_type": "code",
   "execution_count": null,
   "metadata": {
    "ExecuteTime": {
     "end_time": "2019-01-04T18:59:23.328588Z",
     "start_time": "2019-01-04T18:59:22.886251Z"
    }
   },
   "outputs": [],
   "source": [
    "[i for i, tup in enumerate(durs) if tup and tup[0].item_name() == 'CNNW_20110624_150000_CNN_Newsroom']"
   ]
  },
  {
   "cell_type": "code",
   "execution_count": null,
   "metadata": {
    "ExecuteTime": {
     "end_time": "2019-01-04T18:59:27.281167Z",
     "start_time": "2019-01-04T18:59:27.253443Z"
    }
   },
   "outputs": [],
   "source": [
    "durs[100]"
   ]
  },
  {
   "cell_type": "code",
   "execution_count": null,
   "metadata": {
    "ExecuteTime": {
     "end_time": "2019-01-04T18:59:49.309071Z",
     "start_time": "2019-01-04T18:59:49.155557Z"
    }
   },
   "outputs": [],
   "source": [
    "ns = []\n",
    "corrupted = []\n",
    "for tup in durs:\n",
    "    if tup is None: continue\n",
    "    (v, computed_dur, expected_dur) = tup\n",
    "    diff = computed_dur - expected_dur\n",
    "    if abs(diff) > 100:\n",
    "        ns.append(diff)\n",
    "        if diff > 0:\n",
    "            corrupted.append(v)\n",
    "len(ns)"
   ]
  },
  {
   "cell_type": "code",
   "execution_count": null,
   "metadata": {
    "ExecuteTime": {
     "end_time": "2019-01-04T19:00:02.440648Z",
     "start_time": "2019-01-04T19:00:02.411484Z"
    }
   },
   "outputs": [],
   "source": [
    "[v.item_name() for v in corrupted]"
   ]
  },
  {
   "cell_type": "code",
   "execution_count": null,
   "metadata": {
    "ExecuteTime": {
     "end_time": "2019-01-04T07:09:35.450091Z",
     "start_time": "2019-01-04T07:09:35.059252Z"
    },
    "scrolled": true
   },
   "outputs": [],
   "source": [
    "pd.Series(ns).hist(bins=100)\n",
    "plt.xlabel('Hwang duration minus Archive duration')\n",
    "plt.ylabel('# of videos')"
   ]
  },
  {
   "cell_type": "code",
   "execution_count": null,
   "metadata": {
    "ExecuteTime": {
     "end_time": "2019-01-04T19:00:23.257649Z",
     "start_time": "2019-01-04T19:00:21.713783Z"
    }
   },
   "outputs": [],
   "source": [
    "for v in corrupted:\n",
    "    v.corrupted = True\n",
    "    v.save()"
   ]
  }
 ],
 "metadata": {
  "kernelspec": {
   "display_name": "Django Shell-Plus",
   "language": "python",
   "name": "django_extensions"
  },
  "language_info": {
   "codemirror_mode": {
    "name": "ipython",
    "version": 3
   },
   "file_extension": ".py",
   "mimetype": "text/x-python",
   "name": "python",
   "nbconvert_exporter": "python",
   "pygments_lexer": "ipython3",
   "version": "3.5.2"
  },
  "toc": {
   "nav_menu": {},
   "number_sections": true,
   "sideBar": true,
   "skip_h1_title": false,
   "toc_cell": false,
   "toc_position": {},
   "toc_section_display": "block",
   "toc_window_display": false
  }
 },
 "nbformat": 4,
 "nbformat_minor": 2
}
