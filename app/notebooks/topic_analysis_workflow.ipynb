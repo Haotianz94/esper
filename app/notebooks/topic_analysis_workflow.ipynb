{
 "cells": [
  {
   "cell_type": "markdown",
   "metadata": {
    "toc": true
   },
   "source": [
    "<h1>Table of Contents<span class=\"tocSkip\"></span></h1>\n",
    "<div class=\"toc\" style=\"margin-top: 1em;\"><ul class=\"toc-item\"><li><span><a href=\"#Enter-a-Topic\" data-toc-modified-id=\"Enter-a-Topic-1\"><span class=\"toc-item-num\">1&nbsp;&nbsp;</span>Enter a Topic</a></span></li><li><span><a href=\"#Build-a-Lexicon\" data-toc-modified-id=\"Build-a-Lexicon-2\"><span class=\"toc-item-num\">2&nbsp;&nbsp;</span>Build a Lexicon</a></span></li><li><span><a href=\"#Search-for-Segments\" data-toc-modified-id=\"Search-for-Segments-3\"><span class=\"toc-item-num\">3&nbsp;&nbsp;</span>Search for Segments</a></span></li><li><span><a href=\"#Visualize-Video-Timelines\" data-toc-modified-id=\"Visualize-Video-Timelines-4\"><span class=\"toc-item-num\">4&nbsp;&nbsp;</span>Visualize Video Timelines</a></span></li><li><span><a href=\"#Validation\" data-toc-modified-id=\"Validation-5\"><span class=\"toc-item-num\">5&nbsp;&nbsp;</span>Validation</a></span><ul class=\"toc-item\"><li><span><a href=\"#Assert-No-Double-Counting\" data-toc-modified-id=\"Assert-No-Double-Counting-5.1\"><span class=\"toc-item-num\">5.1&nbsp;&nbsp;</span>Assert No Double Counting</a></span></li><li><span><a href=\"#Sensitivity-of-Total-Segment-Length-to-Window-Size\" data-toc-modified-id=\"Sensitivity-of-Total-Segment-Length-to-Window-Size-5.2\"><span class=\"toc-item-num\">5.2&nbsp;&nbsp;</span>Sensitivity of Total Segment Length to Window Size</a></span></li><li><span><a href=\"#Sensitivity-of-Total-Segment-Length-to-Threshold\" data-toc-modified-id=\"Sensitivity-of-Total-Segment-Length-to-Threshold-5.3\"><span class=\"toc-item-num\">5.3&nbsp;&nbsp;</span>Sensitivity of Total Segment Length to Threshold</a></span></li><li><span><a href=\"#Overlap-Between-Topics\" data-toc-modified-id=\"Overlap-Between-Topics-5.4\"><span class=\"toc-item-num\">5.4&nbsp;&nbsp;</span>Overlap Between Topics</a></span></li></ul></li><li><span><a href=\"#Analysis\" data-toc-modified-id=\"Analysis-6\"><span class=\"toc-item-num\">6&nbsp;&nbsp;</span>Analysis</a></span><ul class=\"toc-item\"><li><span><a href=\"#Topic-by-Show\" data-toc-modified-id=\"Topic-by-Show-6.1\"><span class=\"toc-item-num\">6.1&nbsp;&nbsp;</span>Topic by Show</a></span><ul class=\"toc-item\"><li><span><a href=\"#Topic-by-Show-By-Year\" data-toc-modified-id=\"Topic-by-Show-By-Year-6.1.1\"><span class=\"toc-item-num\">6.1.1&nbsp;&nbsp;</span>Topic by Show By Year</a></span></li><li><span><a href=\"#Topic-by-Show-By-Quarter\" data-toc-modified-id=\"Topic-by-Show-By-Quarter-6.1.2\"><span class=\"toc-item-num\">6.1.2&nbsp;&nbsp;</span>Topic by Show By Quarter</a></span></li></ul></li><li><span><a href=\"#Multitopic-Comparison\" data-toc-modified-id=\"Multitopic-Comparison-6.2\"><span class=\"toc-item-num\">6.2&nbsp;&nbsp;</span>Multitopic Comparison</a></span></li></ul></li></ul></div>"
   ]
  },
  {
   "cell_type": "code",
   "execution_count": null,
   "metadata": {
    "ExecuteTime": {
     "end_time": "2018-07-20T20:42:06.999766Z",
     "start_time": "2018-07-20T20:42:06.973507Z"
    }
   },
   "outputs": [],
   "source": [
    "from esper.prelude import *\n",
    "from esper.widget import *\n",
    "from esper.topics import *\n",
    "from esper.spark_util import *\n",
    "\n",
    "from esper.timeline_plot import VideoRow, VideoSegment, plot_video_timelines\n",
    "from datetime import timedelta\n",
    "from collections import defaultdict, Counter, OrderedDict\n",
    "import _pickle as pickle"
   ]
  },
  {
   "cell_type": "markdown",
   "metadata": {},
   "source": [
    "# Enter a Topic"
   ]
  },
  {
   "cell_type": "code",
   "execution_count": null,
   "metadata": {
    "ExecuteTime": {
     "end_time": "2018-07-20T20:00:39.469984Z",
     "start_time": "2018-07-20T20:00:39.446619Z"
    }
   },
   "outputs": [],
   "source": [
    "topic = 'syria'"
   ]
  },
  {
   "cell_type": "markdown",
   "metadata": {},
   "source": [
    "# Build a Lexicon"
   ]
  },
  {
   "cell_type": "code",
   "execution_count": null,
   "metadata": {
    "ExecuteTime": {
     "end_time": "2018-07-20T20:02:55.511908Z",
     "start_time": "2018-07-20T20:00:41.296800Z"
    },
    "scrolled": true
   },
   "outputs": [],
   "source": [
    "lexicon = mutual_info(topic)\n",
    "lexicon"
   ]
  },
  {
   "cell_type": "markdown",
   "metadata": {},
   "source": [
    "# Search for Segments"
   ]
  },
  {
   "cell_type": "code",
   "execution_count": null,
   "metadata": {
    "ExecuteTime": {
     "end_time": "2018-07-20T20:07:27.052677Z",
     "start_time": "2018-07-20T20:04:08.886703Z"
    },
    "scrolled": true
   },
   "outputs": [],
   "source": [
    "segments = find_segments(lexicon, window_size=500, threshold=10., merge_overlaps=False)\n",
    "with open('/tmp/topic-{}.pkl'.format(topic), 'wb') as f:\n",
    "    pickle.dump(segments, f)"
   ]
  },
  {
   "cell_type": "code",
   "execution_count": null,
   "metadata": {
    "ExecuteTime": {
     "end_time": "2018-07-20T20:20:23.580721Z",
     "start_time": "2018-07-20T20:07:27.083326Z"
    },
    "scrolled": false
   },
   "outputs": [],
   "source": [
    "show_segments([x for x in segments if x[3] > 50])"
   ]
  },
  {
   "cell_type": "code",
   "execution_count": null,
   "metadata": {
    "ExecuteTime": {
     "start_time": "2018-07-20T20:04:12.988Z"
    }
   },
   "outputs": [],
   "source": [
    "with open('/tmp/topic-{}.pkl'.format(topic), 'rb') as f:\n",
    "    segments = pickle.load(f)"
   ]
  },
  {
   "cell_type": "markdown",
   "metadata": {},
   "source": [
    "# Visualize Video Timelines"
   ]
  },
  {
   "cell_type": "code",
   "execution_count": null,
   "metadata": {
    "ExecuteTime": {
     "end_time": "2018-07-20T21:04:55.277781Z",
     "start_time": "2018-07-20T20:51:56.031590Z"
    },
    "scrolled": false
   },
   "outputs": [],
   "source": [
    "threshold = 50\n",
    "\n",
    "# Exact mentions\n",
    "video_id_to_mentions = caption_search([topic.upper()])[0]\n",
    "\n",
    "# Get videos with most topic time\n",
    "video_id_to_segments = defaultdict(list)\n",
    "video_id_to_total_segment_time = Counter()\n",
    "for segment in segments:\n",
    "    video_id, _, interval, score, _ = segment\n",
    "    video_id_to_segments[video_id].append(segment)\n",
    "    if score >= threshold:\n",
    "        video_id_to_total_segment_time[video_id] += interval[1] - interval[0]\n",
    "\n",
    "# Get the face genders and commercials dataframes\n",
    "commercials = get_commercials()\n",
    "face_genders = get_face_genders()\n",
    "\n",
    "gender_map = { x.id : x.name for x in Gender.objects.all() }\n",
    "\n",
    "        \n",
    "def plot_helper(video_ids):\n",
    "    video_id_to_face_genders = defaultdict(list)\n",
    "    for face_gender in face_genders.where(\n",
    "        (face_genders.video_id.isin(video_ids)) &\n",
    "        (face_genders.host_probability < 0.8) &\n",
    "        (face_genders.probability > 0.95)\n",
    "    ).select('video_id', 'gender_id', 'min_frame', 'max_frame').collect():\n",
    "        video_id_to_face_genders[\n",
    "            (face_gender['video_id'], gender_map[face_gender['gender_id']])\n",
    "        ].append(\n",
    "            (face_gender['min_frame'], face_gender['max_frame'])\n",
    "        )\n",
    "\n",
    "    video_id_to_commercials = defaultdict(list)\n",
    "    for commercial in commercials.where(\n",
    "        commercials.video_id.isin(video_ids)\n",
    "    ).select('video_id', 'min_frame', 'max_frame').collect():\n",
    "        video_id_to_commercials[\n",
    "            commercial['video_id']\n",
    "        ].append((commercial['min_frame'], commercial['max_frame']))\n",
    "\n",
    "    def unpack_segments(segment_list):\n",
    "        return [(interval, val) for _, _, interval, val, _ in segment_list]\n",
    "\n",
    "    rows = []\n",
    "    for video in Video.objects.filter(id__in=video_ids):\n",
    "        vid_segments = []\n",
    "\n",
    "        # Topic Segments\n",
    "        for (a, b), val in unpack_segments(video_id_to_segments[video.id]):\n",
    "            vid_segments.append(VideoSegment(\n",
    "                start_time=timedelta(seconds=a),\n",
    "                end_time=timedelta(seconds=b),\n",
    "                display_label='non-commercial',\n",
    "                display_value=min(1., val / 250.)\n",
    "            ))\n",
    "\n",
    "        # Commerical segments\n",
    "        vid_segments.extend([\n",
    "            VideoSegment(\n",
    "                start_time=timedelta(seconds=a / video.fps),\n",
    "                end_time=timedelta(seconds=b / video.fps),\n",
    "                display_label='commercial',\n",
    "                display_value=1.\n",
    "            ) for a, b in video_id_to_commercials[video.id]\n",
    "        ])\n",
    "\n",
    "        intervals_with_women = [\n",
    "            (timedelta(seconds=a / video.fps), timedelta(seconds=b / video.fps)) \n",
    "            for a, b in video_id_to_face_genders[(video.id, 'F')]\n",
    "        ]\n",
    "\n",
    "        intervals_with_men = [\n",
    "            (timedelta(seconds=a / video.fps), timedelta(seconds=b / video.fps)) \n",
    "            for a, b in video_id_to_face_genders[(video.id, 'M')]\n",
    "        ]\n",
    "\n",
    "        row = VideoRow(\n",
    "            video,\n",
    "            segments=vid_segments,\n",
    "            # Draw some intervals on all of the videos\n",
    "            interval_labels=OrderedDict([\n",
    "                ('{} score >= {}'.format(topic, threshold), [\n",
    "                    (timedelta(seconds=a), timedelta(seconds=b)) \n",
    "                    for _, _, (a, b), val, _ in video_id_to_segments[video.id] if val >= threshold\n",
    "                ]),\n",
    "                ('{} score >= {}'.format(topic, 2 * threshold), [\n",
    "                    (timedelta(seconds=a), timedelta(seconds=b)) \n",
    "                    for _, _, (a, b), val, _ in video_id_to_segments[video.id] if val >= 2 * threshold\n",
    "                ]),\n",
    "                ('woman on screen (excl. hosts)', intervals_with_women),\n",
    "                ('man on screen (excl. hosts)', intervals_with_men)\n",
    "            ]),\n",
    "            discrete_labels={\n",
    "                '{} mentioned'.format(topic): [\n",
    "                    timedelta(seconds=(a + b) / 2) for a, b in video_id_to_mentions.get(video.id, [])\n",
    "                ]\n",
    "            }\n",
    "        )\n",
    "        rows.append(row)\n",
    "\n",
    "    plot_video_timelines(\n",
    "        rows,\n",
    "        interval_label_color_map={\n",
    "            '{} score >= {}'.format(topic, threshold): 'Red',\n",
    "            '{} score >= {}'.format(topic, 2 * threshold): 'DarkRed',\n",
    "            'woman on screen (excl. hosts)': 'Orange',\n",
    "            'man on screen (excl. hosts)': 'Blue'\n",
    "        },\n",
    "        discrete_label_shape_map={\n",
    "            '{} mentioned'.format(topic): 'o'\n",
    "        },\n",
    "        max_length=timedelta(seconds=3600 * 3)\n",
    "    )\n",
    "\n",
    "sorted_ids = sorted(video_id_to_segments.keys(), \n",
    "                    key=lambda x: -video_id_to_total_segment_time[x])\n",
    "num_buckets = 20\n",
    "num_videos = 5\n",
    "    \n",
    "for i in range(num_buckets):\n",
    "    start_idx = i * int(len(sorted_ids) / num_buckets)\n",
    "    video_ids = sorted_ids[start_idx:start_idx + num_videos]\n",
    "    print('{}th percentile of {} time [{}, {}]'.format(\n",
    "        int(100 - (i * 100 / num_buckets)), \n",
    "        topic, start_idx, start_idx + num_videos)\n",
    "    )\n",
    "    plot_helper(video_ids)"
   ]
  },
  {
   "cell_type": "markdown",
   "metadata": {},
   "source": [
    "# Validation"
   ]
  },
  {
   "cell_type": "code",
   "execution_count": null,
   "metadata": {
    "ExecuteTime": {
     "end_time": "2018-07-16T22:07:29.935133Z",
     "start_time": "2018-07-16T22:07:29.903633Z"
    }
   },
   "outputs": [],
   "source": [
    "print('Coverage of \"{}\": {:0.2f} hrs'.format(topic, get_total_segment_length(segments).total_seconds() / 60 / 60))"
   ]
  },
  {
   "cell_type": "markdown",
   "metadata": {},
   "source": [
    "## Assert No Double Counting\n",
    "This might happen if we have more than one transcript file loaded for each video."
   ]
  },
  {
   "cell_type": "code",
   "execution_count": null,
   "metadata": {
    "ExecuteTime": {
     "end_time": "2018-07-16T22:07:29.965776Z",
     "start_time": "2018-07-16T22:07:29.937231Z"
    }
   },
   "outputs": [],
   "source": [
    "check_for_double_counting(segments)"
   ]
  },
  {
   "cell_type": "markdown",
   "metadata": {},
   "source": [
    "## Sensitivity of Total Segment Length to Window Size\n",
    "\n",
    "We are interested in the stability of the total segment runtime when window size is varied. A low variation indicates that the algorithm is not sensitive to the choice of the window size parameter."
   ]
  },
  {
   "cell_type": "code",
   "execution_count": null,
   "metadata": {
    "ExecuteTime": {
     "end_time": "2018-07-11T22:55:44.309384Z",
     "start_time": "2018-07-11T22:35:51.198025Z"
    },
    "scrolled": true
   },
   "outputs": [],
   "source": [
    "plot_total_segment_length_vs_window_size(\n",
    "    lexicon,\n",
    "    window_sizes=[10, 50, 100, 250, 500, 1000]\n",
    ")"
   ]
  },
  {
   "cell_type": "markdown",
   "metadata": {},
   "source": [
    "## Sensitivity of Total Segment Length to Threshold\n",
    "\n",
    "We are interested in the stability of the total segment runtime when the threshold is varied. A low variation indicates that the algorithm is not sensitive to the choice of the threshold parameter."
   ]
  },
  {
   "cell_type": "code",
   "execution_count": null,
   "metadata": {
    "ExecuteTime": {
     "end_time": "2018-07-11T23:03:38.742312Z",
     "start_time": "2018-07-11T22:55:44.312245Z"
    },
    "scrolled": false
   },
   "outputs": [],
   "source": [
    "plot_total_segment_length_vs_threshold(\n",
    "    lexicon, \n",
    "    thresholds=[5, 10, 25, 50, 75, 100, 200]\n",
    ")"
   ]
  },
  {
   "cell_type": "markdown",
   "metadata": {},
   "source": [
    "## Overlap Between Topics\n",
    "\n",
    "Some topics are subtopics of another topic. For instance, we expect \"affordable care act\" to be a subtopic of \"healthcare\". This section prints out the segment overlap between topics."
   ]
  },
  {
   "cell_type": "code",
   "execution_count": null,
   "metadata": {
    "ExecuteTime": {
     "end_time": "2018-07-16T22:07:29.994482Z",
     "start_time": "2018-07-16T22:07:29.968041Z"
    }
   },
   "outputs": [],
   "source": [
    "related_topics = ['isis', 'terrorism', 'middle east', 'islam']\n",
    "unrelated_topics = ['baseball', 'healthcare', 'taxes']"
   ]
  },
  {
   "cell_type": "code",
   "execution_count": null,
   "metadata": {
    "ExecuteTime": {
     "end_time": "2018-07-16T22:27:55.361322Z",
     "start_time": "2018-07-16T22:07:29.996483Z"
    },
    "scrolled": false
   },
   "outputs": [],
   "source": [
    "topics = [topic] + related_topics + unrelated_topics\n",
    "assert len(topics) > 1\n",
    "topic_overlap = get_overlap_between_topics(\n",
    "    [topic] + related_topics + unrelated_topics, \n",
    "    window_size=250\n",
    ")\n",
    "topic_overlap"
   ]
  },
  {
   "cell_type": "markdown",
   "metadata": {},
   "source": [
    "# Analysis"
   ]
  },
  {
   "cell_type": "markdown",
   "metadata": {},
   "source": [
    "## Topic by Show"
   ]
  },
  {
   "cell_type": "code",
   "execution_count": null,
   "metadata": {
    "ExecuteTime": {
     "end_time": "2018-07-12T15:13:42.283208Z",
     "start_time": "2018-07-12T15:13:41.572499Z"
    }
   },
   "outputs": [],
   "source": [
    "topic_time_by_show = get_topic_time_by_show(segments)\n",
    "plot_topic_time_by_show(topic, topic_time_by_show)"
   ]
  },
  {
   "cell_type": "markdown",
   "metadata": {},
   "source": [
    "### Topic by Show By Year"
   ]
  },
  {
   "cell_type": "code",
   "execution_count": null,
   "metadata": {
    "ExecuteTime": {
     "end_time": "2018-07-12T15:45:19.307012Z",
     "start_time": "2018-07-12T15:45:18.185320Z"
    },
    "scrolled": false
   },
   "outputs": [],
   "source": [
    "plot_topic_by_show_over_time(topic, segments)"
   ]
  },
  {
   "cell_type": "markdown",
   "metadata": {},
   "source": [
    "### Topic by Show By Quarter"
   ]
  },
  {
   "cell_type": "code",
   "execution_count": null,
   "metadata": {
    "ExecuteTime": {
     "end_time": "2018-07-12T15:51:16.882484Z",
     "start_time": "2018-07-12T15:51:13.059350Z"
    },
    "scrolled": false
   },
   "outputs": [],
   "source": [
    "plot_topic_by_show_over_time(topic, segments, quarters=True)"
   ]
  },
  {
   "cell_type": "markdown",
   "metadata": {},
   "source": [
    "## Multitopic Comparison"
   ]
  },
  {
   "cell_type": "code",
   "execution_count": null,
   "metadata": {
    "ExecuteTime": {
     "end_time": "2018-07-12T23:19:58.742035Z",
     "start_time": "2018-07-12T23:19:58.719310Z"
    }
   },
   "outputs": [],
   "source": [
    "topics_to_compare = ['healthcare', 'election', 'email', 'immigration']"
   ]
  },
  {
   "cell_type": "code",
   "execution_count": null,
   "metadata": {
    "ExecuteTime": {
     "end_time": "2018-07-12T17:43:39.357898Z",
     "start_time": "2018-07-12T17:17:40.276752Z"
    },
    "hide_input": true
   },
   "outputs": [],
   "source": [
    "topics = [topic] + topics_to_compare\n",
    "assert len(topics) > 1\n",
    "\n",
    "def plot_topic_comparison_by_show(topics, window_size=250, threshold=50):\n",
    "    topic_times_by_show = []\n",
    "    for topic in topics:\n",
    "        lexicon = mutual_info(topic)\n",
    "        segments = find_segments(lexicon, window_size=window_size, threshold=threshold)\n",
    "        topic_times_by_show.append(get_topic_time_by_show(segments))\n",
    "    plot_topic_time_by_show(topics, topic_times_by_show)\n",
    "    \n",
    "plot_topic_comparison_by_show(topics)"
   ]
  },
  {
   "cell_type": "code",
   "execution_count": null,
   "metadata": {
    "ExecuteTime": {
     "end_time": "2018-07-12T23:29:37.492014Z",
     "start_time": "2018-07-12T23:19:58.743612Z"
    },
    "scrolled": false
   },
   "outputs": [],
   "source": [
    "def plot_topic_comparison_by_show(topics, years=range(2015, 2018), \n",
    "                                  window_size=100, threshold=33):\n",
    "    segments_by_show = []\n",
    "    for topic in topics:\n",
    "        lexicon = mutual_info(topic)\n",
    "        segments = find_segments(lexicon, window_size=window_size, threshold=threshold)\n",
    "        segments_by_show.append(segments)\n",
    "        \n",
    "    print('All coverage')\n",
    "    plot_topic_time_by_show(\n",
    "        topics, \n",
    "        [get_topic_time_by_show(segs) for segs in segments_by_show],\n",
    "        normalize_by_total_runtime=True\n",
    "    )\n",
    "    \n",
    "    if years is not None:\n",
    "        for year in years:\n",
    "            print('Coverage in {}'.format(year))\n",
    "            plot_topic_time_by_show(\n",
    "                topics,\n",
    "                [\n",
    "                    get_topic_time_by_show(\n",
    "                        segs,\n",
    "                        date_range=['{}-01-01'.format(year), '{}-01-01'.format(year + 1)]\n",
    "                    ) for segs in segments_by_show\n",
    "                ],\n",
    "                normalize_by_total_runtime=False\n",
    "            )\n",
    "\n",
    "topics = [topic] + topics_to_compare\n",
    "assert len(topics) > 1\n",
    "plot_topic_comparison_by_show(topics)"
   ]
  },
  {
   "cell_type": "code",
   "execution_count": null,
   "metadata": {
    "ExecuteTime": {
     "end_time": "2018-07-19T18:55:14.873982Z",
     "start_time": "2018-07-19T18:54:24.191084Z"
    }
   },
   "outputs": [],
   "source": [
    "video_id_to_face_genders = defaultdict(list)\n",
    "for face_gender in FaceGender.objects.filter(\n",
    "             gender__name__in=['M', 'F'],\n",
    "             face__shot__video__id__in=top_ids,\n",
    "             probability__gt=0.95\n",
    "         ).values('face__shot__video__id', 'gender__name', 'face__shot__min_frame', 'face__shot__max_frame'):\n",
    "    video_id_to_face_genders[(face_gender['face__shot__video__id'], face_gender['gender__name'])].append(\n",
    "        (face_gender['face__shot__min_frame'], face_gender['face__shot__max_frame'])\n",
    "    )\n",
    "\n",
    "video_id_to_commercials = defaultdict(list)\n",
    "for commercial in Commercial.objects.filter(video__id__in=top_ids).values('video__id', 'min_frame', 'max_frame'):\n",
    "    video_id_to_commercials[commercial['video__id']].append((commercial['min_frame'], commercial['max_frame']))"
   ]
  },
  {
   "cell_type": "code",
   "execution_count": null,
   "metadata": {},
   "outputs": [],
   "source": []
  }
 ],
 "metadata": {
  "kernelspec": {
   "display_name": "Django Shell-Plus",
   "language": "python",
   "name": "django_extensions"
  },
  "language_info": {
   "codemirror_mode": {
    "name": "ipython",
    "version": 3
   },
   "file_extension": ".py",
   "mimetype": "text/x-python",
   "name": "python",
   "nbconvert_exporter": "python",
   "pygments_lexer": "ipython3",
   "version": "3.5.2"
  },
  "toc": {
   "nav_menu": {},
   "number_sections": true,
   "sideBar": false,
   "skip_h1_title": false,
   "toc_cell": true,
   "toc_position": {},
   "toc_section_display": "block",
   "toc_window_display": false
  }
 },
 "nbformat": 4,
 "nbformat_minor": 2
}
