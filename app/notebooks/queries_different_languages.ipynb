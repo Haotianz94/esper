{
 "cells": [
  {
   "cell_type": "markdown",
   "metadata": {
    "toc": true
   },
   "source": [
    "<h1>Table of Contents<span class=\"tocSkip\"></span></h1>\n",
    "<div class=\"toc\"><ul class=\"toc-item\"><li><span><a href=\"#Queries-from-Different-Languages\" data-toc-modified-id=\"Queries-from-Different-Languages-1\"><span class=\"toc-item-num\">1&nbsp;&nbsp;</span>Queries from Different Languages</a></span></li><li><span><a href=\"#Django-Interface\" data-toc-modified-id=\"Django-Interface-2\"><span class=\"toc-item-num\">2&nbsp;&nbsp;</span>Django Interface</a></span><ul class=\"toc-item\"><li><span><a href=\"#Simple-Calls-from-Esper-Demos\" data-toc-modified-id=\"Simple-Calls-from-Esper-Demos-2.1\"><span class=\"toc-item-num\">2.1&nbsp;&nbsp;</span>Simple Calls from Esper Demos</a></span></li></ul></li><li><span><a href=\"#Spark-Interface\" data-toc-modified-id=\"Spark-Interface-3\"><span class=\"toc-item-num\">3&nbsp;&nbsp;</span>Spark Interface</a></span><ul class=\"toc-item\"><li><span><a href=\"#Simple-Calls\" data-toc-modified-id=\"Simple-Calls-3.1\"><span class=\"toc-item-num\">3.1&nbsp;&nbsp;</span>Simple Calls</a></span></li></ul></li><li><span><a href=\"#BigQuery/SQL\" data-toc-modified-id=\"BigQuery/SQL-4\"><span class=\"toc-item-num\">4&nbsp;&nbsp;</span>BigQuery/SQL</a></span><ul class=\"toc-item\"><li><span><a href=\"#Simple-Calls\" data-toc-modified-id=\"Simple-Calls-4.1\"><span class=\"toc-item-num\">4.1&nbsp;&nbsp;</span>Simple Calls</a></span></li></ul></li></ul></div>"
   ]
  },
  {
   "cell_type": "markdown",
   "metadata": {},
   "source": [
    "# Queries from Different Languages\n",
    "\n",
    "This document contains a few different ways to make queries and display them in the Esper interface through the Jupyter widget.\n",
    "\n",
    "Right now, there are three ways to query the database of objects (which contains faces, bounding boxes, etc):\n",
    "* Django ORM\n",
    "* Spark SQL\n",
    "* Google BigQuery"
   ]
  },
  {
   "cell_type": "markdown",
   "metadata": {},
   "source": [
    "# Django Interface"
   ]
  },
  {
   "cell_type": "markdown",
   "metadata": {},
   "source": [
    "## Simple Calls from Esper Demos"
   ]
  },
  {
   "cell_type": "code",
   "execution_count": null,
   "metadata": {
    "ExecuteTime": {
     "end_time": "2018-09-27T17:25:45.555427Z",
     "start_time": "2018-09-27T17:25:45.448399Z"
    }
   },
   "outputs": [],
   "source": [
    "# Show me all faces\n",
    "\n",
    "from query.models import Face\n",
    "from esper.widget import qs_to_result\n",
    "from esper.prelude import esper_widget\n",
    "\n",
    "stride = 1\n",
    "\n",
    "esper_widget(qs_to_result(Face.objects.all(), stride=stride))"
   ]
  },
  {
   "cell_type": "code",
   "execution_count": null,
   "metadata": {
    "ExecuteTime": {
     "end_time": "2018-09-24T03:45:34.890330Z",
     "start_time": "2018-09-24T03:45:30.949654Z"
    }
   },
   "outputs": [],
   "source": [
    "# Show me a specific person\n",
    "\n",
    "from query.models import FaceIdentity\n",
    "from esper.widget import qs_to_result\n",
    "\n",
    "face_identities = FaceIdentity.objects\n",
    "print(face_identities.all().values()[0])\n",
    "\n",
    "person_name=\"hillary clinton\"\n",
    "\n",
    "esper_widget(qs_to_result(face_identities.filter(identity__name=person_name, probability__gte=0.99)))"
   ]
  },
  {
   "cell_type": "code",
   "execution_count": null,
   "metadata": {
    "ExecuteTime": {
     "end_time": "2018-09-24T03:57:33.350775Z",
     "start_time": "2018-09-24T03:57:22.667076Z"
    }
   },
   "outputs": [],
   "source": [
    "# Show me a panel, the easy way\n",
    "\n",
    "from esper.queries import panels\n",
    "from esper.widget import simple_result, bbox_to_dict\n",
    "\n",
    "esper_widget(simple_result([\n",
    "    {\n",
    "        'video': frame.video.id,\n",
    "        'min_frame': frame.number,\n",
    "        'objects': [bbox_to_dict(f) for f in faces]\n",
    "    } for (frame, faces) in panels()\n",
    "], 'Panel'))"
   ]
  },
  {
   "cell_type": "code",
   "execution_count": null,
   "metadata": {
    "ExecuteTime": {
     "end_time": "2018-09-24T22:14:36.719497Z",
     "start_time": "2018-09-24T22:14:22.484597Z"
    }
   },
   "outputs": [],
   "source": [
    "# Show me a panel, the hard way (do it all yourself)\n",
    "\n",
    "from query.models import Face, Frame\n",
    "from django.db.models import OuterRef, IntegerField\n",
    "from esper.widget import simple_result, bbox_to_dict\n",
    "from esper.prelude import esper_widget\n",
    "\n",
    "all_faces = Face.objects\n",
    "\n",
    "# First, make sure all bounding boxes are big enough\n",
    "faces_with_height = Face.objects.annotate(height=F('bbox_y2')-F('bbox_y1'))\n",
    "faces_tall_enough = faces_with_height.filter(height__gte=.25)\n",
    "\n",
    "# Next, annotate all frames with number of faces that appear in frame\n",
    "frames_with_face_counts = Frame.objects.annotate(c=Subquery(\n",
    "    faces_tall_enough.filter(person__frame=OuterRef('pk')) # Query for faces that are in this frame\n",
    "    .values('person__frame') # Select the frame number, i.e. SELECT frame FROM ...\n",
    "    .annotate(c=Count('*')) # Count, i.e. SELECT count(frame) FROM ...\n",
    "    .values('c'), IntegerField() # SELECT count(frame) AS c FROM ...\n",
    "))\n",
    "\n",
    "# Next, filter so there are only N faces in each frame\n",
    "N = 3\n",
    "frames_with_N_faces = frames_with_face_counts.filter(c=N)\n",
    "\n",
    "# Manually process 10000 frames and make sure that the y1's of the faces are at the same height\n",
    "results = []\n",
    "for frame in frames_with_N_faces[:10000:10]:\n",
    "    faces = faces_tall_enough.filter(person__frame=frame)\n",
    "    if len(faces) != 3:\n",
    "        continue\n",
    "    y1 = faces[0].bbox_y1\n",
    "    y2 = faces[0].bbox_y2\n",
    "    if (abs(faces[1].bbox_y1 - y1) > 0.05 or abs(faces[2].bbox_y1 - y1) > 0.05\n",
    "        or abs(faces[1].bbox_y2 - y2) > 0.05 or abs(faces[2].bbox_y2 - y2) > 0.05):\n",
    "        continue\n",
    "    results.append({\n",
    "        'video': frame.video.id,\n",
    "        'min_frame': frame.number,\n",
    "        'objects': [bbox_to_dict(f) for f in faces]\n",
    "    })\n",
    "\n",
    "# Finally, show the results\n",
    "esper_widget(simple_result(results, 'Panel'))"
   ]
  },
  {
   "cell_type": "markdown",
   "metadata": {},
   "source": [
    "# Spark Interface\n",
    "\n",
    "NOTE: It appears that there can only be one connection to Spark through `SparkWrapper` at any one time (across all notebooks). If you want to start up a Spark connection on another notebook, you need to restart the Docker container."
   ]
  },
  {
   "cell_type": "markdown",
   "metadata": {},
   "source": [
    "## Simple Calls"
   ]
  },
  {
   "cell_type": "code",
   "execution_count": null,
   "metadata": {
    "ExecuteTime": {
     "end_time": "2018-09-25T18:00:35.690435Z",
     "start_time": "2018-09-25T17:59:51.998113Z"
    }
   },
   "outputs": [],
   "source": [
    "# Show me all faces, method 1\n",
    "\n",
    "from esper.spark import SparkWrapper\n",
    "from esper.widget import simple_result, bbox_to_dict\n",
    "from esper.prelude import esper_widget, collect\n",
    "from operator import itemgetter\n",
    "\n",
    "spark = SparkWrapper()\n",
    "\n",
    "faces = spark.load('query_face')\n",
    "people = spark.load('query_person')\n",
    "frames = spark.load('query_frame')\n",
    "\n",
    "def foreign_key_join(df1, keys_and_tables):\n",
    "    df = df1\n",
    "    for (key, table) in keys_and_tables:\n",
    "        df = df.join(table, df[key] == table.id).drop(table.id)\n",
    "    return df\n",
    "\n",
    "stride = 1000\n",
    "limit = 100\n",
    "\n",
    "faces_with_frames = foreign_key_join(faces, [('person_id', people),\n",
    "                                            ('frame_id', frames)]) \\\n",
    "                                    .select('id', 'frame_id', 'video_id', 'number',\n",
    "                                           'bbox_x1', 'bbox_x2', 'bbox_y1', 'bbox_y2') \\\n",
    "                                    .orderBy('video_id', 'number') \\\n",
    "                                    .withColumn('m', people.frame_id % stride) \\\n",
    "                                    .filter('m=0') \\\n",
    "                                    .limit(100).collect()\n",
    "\n",
    "frames_used = set()\n",
    "for frame in faces_with_frames:\n",
    "    frames_used.add((frame.video_id, frame.number, frame.frame_id))\n",
    "frames_used = list(frames_used)\n",
    "frames_used.sort(key=itemgetter(0, 1))\n",
    "\n",
    "relevant_faces = collect(\n",
    "    faces_with_frames,\n",
    "    lambda face : face.frame_id\n",
    ")\n",
    "\n",
    "materialized_results = []\n",
    "for (video, number, frame_id) in frames_used:\n",
    "    materialized_results.append({\n",
    "        'video': video,\n",
    "        'min_frame': number,\n",
    "        'objects': [bbox_to_dict(face) for face in relevant_faces[frame_id]]\n",
    "    })\n",
    "\n",
    "esper_widget(simple_result(materialized_results, 'Faces'))"
   ]
  },
  {
   "cell_type": "code",
   "execution_count": null,
   "metadata": {
    "ExecuteTime": {
     "end_time": "2018-09-25T18:02:33.804839Z",
     "start_time": "2018-09-25T18:01:33.392599Z"
    }
   },
   "outputs": [],
   "source": [
    "# Show me all faces, method 2\n",
    "\n",
    "from esper.spark import SparkWrapper\n",
    "from esper.widget import simple_result, bbox_to_dict\n",
    "from esper.prelude import esper_widget\n",
    "from pyspark.sql.functions import collect_list\n",
    "\n",
    "spark = SparkWrapper()\n",
    "\n",
    "faces = spark.load('query_face')\n",
    "people = spark.load('query_person')\n",
    "frames = spark.load('query_frame')\n",
    "\n",
    "def foreign_key_join(df1, keys_and_tables):\n",
    "    df = df1\n",
    "    for (key, table) in keys_and_tables:\n",
    "        df = df.join(table, df[key] == table.id).drop(table.id)\n",
    "    return df\n",
    "\n",
    "stride = 1000\n",
    "limit = 100\n",
    "\n",
    "faces_with_frames = foreign_key_join(faces, [('person_id', people),\n",
    "                                            ('frame_id', frames)]) \\\n",
    "                                    .select('id', 'frame_id', 'video_id', 'number',\n",
    "                                           'bbox_x1', 'bbox_x2', 'bbox_y1', 'bbox_y2') \\\n",
    "                                    .orderBy('video_id', 'number') \\\n",
    "                                    .withColumn('m', people.frame_id % stride) \\\n",
    "                                    .filter('m=0') \\\n",
    "                                    .drop('m') \\\n",
    "                                    .groupBy('video_id', 'frame_id', 'number').agg(\n",
    "                                        collect_list('id'),\n",
    "                                        collect_list('bbox_x1'),\n",
    "                                        collect_list('bbox_x2'),\n",
    "                                        collect_list('bbox_y1'),\n",
    "                                        collect_list('bbox_y2')\n",
    "                                    )\n",
    "\n",
    "materialized_results = []\n",
    "for frame in faces_with_frames.collect():\n",
    "    bboxes = [{\n",
    "        'id': frame['collect_list(id)'][i],\n",
    "        'bbox_x1': frame['collect_list(bbox_x1)'][i],\n",
    "        'bbox_x2': frame['collect_list(bbox_x2)'][i],\n",
    "        'bbox_y1': frame['collect_list(bbox_y1)'][i],\n",
    "        'bbox_y2': frame['collect_list(bbox_y2)'][i],\n",
    "        'type': 'bbox'\n",
    "    } for i in range(len(frame['collect_list(id)']))]\n",
    "    \n",
    "    materialized_results.append({\n",
    "        'video': frame.video_id,\n",
    "        'min_frame': frame.number,\n",
    "        'objects': bboxes\n",
    "    })\n",
    "\n",
    "esper_widget(simple_result(materialized_results, 'Faces'))"
   ]
  },
  {
   "cell_type": "code",
   "execution_count": null,
   "metadata": {
    "ExecuteTime": {
     "end_time": "2018-09-27T17:23:37.473591Z",
     "start_time": "2018-09-27T17:23:37.431985Z"
    }
   },
   "outputs": [],
   "source": [
    "# Helper functions\n",
    "\n",
    "from operator import itemgetter\n",
    "from esper.prelude import collect\n",
    "from esper.widget import simple_result\n",
    "\n",
    "def foreign_key_join(df1, keys_and_tables):\n",
    "    df = df1\n",
    "    for (key, table) in keys_and_tables:\n",
    "        df = df.join(table, df[key] == table.id).drop(table.id)\n",
    "    return df\n",
    "\n",
    "def faces_to_result(faces, people, frames, stride, limit):\n",
    "    faces_with_frames = foreign_key_join(faces, [('person_id', people),\n",
    "                                                ('frame_id', frames)]) \\\n",
    "                                        .select('id', 'frame_id', 'video_id', 'number',\n",
    "                                               'bbox_x1', 'bbox_x2', 'bbox_y1', 'bbox_y2') \\\n",
    "                                        .orderBy('video_id', 'number') \\\n",
    "                                        .withColumn('m', people.frame_id % stride) \\\n",
    "                                        .filter('m=0') \\\n",
    "                                        .limit(limit).collect()\n",
    "\n",
    "    frames_used = set()\n",
    "    for frame in faces_with_frames:\n",
    "        frames_used.add((frame.video_id, frame.number, frame.frame_id))\n",
    "    frames_used = list(frames_used)\n",
    "    frames_used.sort(key=itemgetter(0, 1))\n",
    "\n",
    "    relevant_faces = collect(\n",
    "        faces_with_frames,\n",
    "        lambda face : face.frame_id\n",
    "    )\n",
    "\n",
    "    materialized_results = []\n",
    "    for (video, number, frame_id) in frames_used:\n",
    "        materialized_results.append({\n",
    "            'video': video,\n",
    "            'min_frame': number,\n",
    "            'objects': [bbox_to_dict(face) for face in relevant_faces[frame_id]]\n",
    "        })\n",
    "    \n",
    "    return simple_result(materialized_results, 'Faces')"
   ]
  },
  {
   "cell_type": "code",
   "execution_count": null,
   "metadata": {
    "ExecuteTime": {
     "end_time": "2018-09-27T17:29:07.050261Z",
     "start_time": "2018-09-27T17:29:01.589394Z"
    }
   },
   "outputs": [],
   "source": [
    "# Get me all the faces of a single person\n",
    "\n",
    "from esper.spark import SparkWrapper\n",
    "from esper.prelude import esper_widget\n",
    "from esper.widget import bbox_to_dict\n",
    "\n",
    "spark = SparkWrapper()\n",
    "\n",
    "faceidentities = spark.load('query_faceidentity')\n",
    "identities = spark.load('query_identity')\n",
    "faces = spark.load('query_face')\n",
    "people = spark.load('query_person')\n",
    "frames = spark.load('query_frame')\n",
    "\n",
    "person_name = 'hillary clinton'\n",
    "\n",
    "faces = foreign_key_join(faceidentities, [('identity_id', identities),\n",
    "                                 ('face_id', faces)]) \\\n",
    "                            .filter(identities.name==person_name) \\\n",
    "                            .filter(faceidentities.probability >= 0.99) \\\n",
    "                            .select('id', 'person_id', 'bbox_x1', 'bbox_x2',\n",
    "                                    'bbox_y1', 'bbox_y2')\n",
    "\n",
    "materialized_faces = faces_to_result(faces, people, frames, 1000, 100)\n",
    "\n",
    "esper_widget(materialized_faces)"
   ]
  },
  {
   "cell_type": "code",
   "execution_count": null,
   "metadata": {
    "ExecuteTime": {
     "end_time": "2018-09-25T22:41:26.222970Z",
     "start_time": "2018-09-25T22:40:39.500958Z"
    }
   },
   "outputs": [],
   "source": [
    "# Get me all panels\n",
    "# NOTE: because of the way that the limiting works, some panels may be incomplete\n",
    "#   (limiting faces instead of frames)\n",
    "\n",
    "from esper.spark import SparkWrapper\n",
    "from esper.prelude import esper_widget\n",
    "from pyspark.sql import functions as F\n",
    "\n",
    "spark = SparkWrapper()\n",
    "\n",
    "faces = spark.load('query_face').filter('bbox_y2-bbox_y1 > 0.25')\n",
    "people = spark.load('query_person')\n",
    "frames = spark.load('query_frame')\n",
    "\n",
    "expr = [F.count(F.col('*')), F.max(F.col('bbox_y1')), F.min(F.col('bbox_y1')),\n",
    "       F.max(F.col('bbox_y2')), F.min(F.col('bbox_y2'))]\n",
    "\n",
    "frames_with_three_faces = foreign_key_join(faces, [('person_id', people),\n",
    "                                                ('frame_id', frames)]) \\\n",
    "                                        .groupBy('frame_id', 'video_id', 'number') \\\n",
    "                                        .agg(*expr) \\\n",
    "                                        .filter(F.col('count(1)') == 3) \\\n",
    "                                        .filter(F.col('max(bbox_y1)') - F.col('min(bbox_y1)') < .05) \\\n",
    "                                        .filter(F.col('max(bbox_y2)') - F.col('min(bbox_y2)') < .05) \\\n",
    "                                        .drop('count(1)', 'max(bbox_y1)', 'min(bbox_y1)',\n",
    "                                             'max(bbox_y2)', 'min(bbox_y2)') \\\n",
    "                                        .toDF('id', 'video_id', 'number')\n",
    "\n",
    "esper_widget(faces_to_result(faces, people, frames_with_three_faces, 1000, 300))"
   ]
  },
  {
   "cell_type": "markdown",
   "metadata": {},
   "source": [
    "# BigQuery/SQL\n",
    "\n",
    "BigQuery queries are run through the online web portal; it is also possible to run them through the command line. There may also be other ways to run these queries, and they should be runnable via Spark as well."
   ]
  },
  {
   "cell_type": "markdown",
   "metadata": {},
   "source": [
    "## Simple Calls\n",
    "\n",
    "Faces, Panels, etc."
   ]
  },
  {
   "cell_type": "markdown",
   "metadata": {},
   "source": [
    "Faces: https://console.cloud.google.com/bigquery?sq=50518136478:74510b4bb1f04cc691fb470e5cf2fd86\n",
    "\n",
    "```SQL\n",
    "# Query to get all faces, with enough info to materialize\n",
    "\n",
    "SELECT\n",
    "  face.id, face.bbox_x1, face.bbox_x2, face.bbox_y1, face.bbox_y2,\n",
    "  face.person_id, person.frame_id, frame.video_id, frame.number\n",
    "FROM\n",
    "  tvnews.query_face AS face,\n",
    "  tvnews.query_person AS person,\n",
    "  tvnews.query_frame AS frame\n",
    "WHERE\n",
    "  face.person_id = person.id\n",
    "  AND person.frame_id = frame.id\n",
    "LIMIT 100;\n",
    "```"
   ]
  },
  {
   "cell_type": "markdown",
   "metadata": {},
   "source": [
    "A specific face (Hillary Clinton): https://console.cloud.google.com/bigquery?sq=50518136478:d5257dee39b9413e9eeff5c68b42b038\n",
    "\n",
    "```SQL\n",
    "# Query to get all faces that belong to a particular person, with enough info to materialize\n",
    "\n",
    "SELECT DISTINCT\n",
    "  face.id, face.bbox_x1, face.bbox_x2, face.bbox_y1, face.bbox_y2,\n",
    "  face.person_id, person.frame_id, frame.video_id, frame.number, identity.name\n",
    "FROM\n",
    "  tvnews.query_faceidentity AS faceidentity,\n",
    "  tvnews.query_identity AS identity,\n",
    "  tvnews.query_face AS face,\n",
    "  tvnews.query_person AS person,\n",
    "  tvnews.query_frame AS frame\n",
    "WHERE\n",
    "  identity.name = 'hillary clinton'\n",
    "  AND faceidentity.face_id = face.id\n",
    "  AND faceidentity.identity_id = identity.id\n",
    "  AND faceidentity.probability > 0.99\n",
    "  AND face.person_id = person.id\n",
    "  AND person.frame_id = frame.id\n",
    "LIMIT 100;\n",
    "```"
   ]
  },
  {
   "cell_type": "markdown",
   "metadata": {},
   "source": [
    "Panels: https://console.cloud.google.com/bigquery?sq=50518136478:a56f33c482cf4d94b6d4f54c053901c4\n",
    "\n",
    "```SQL\n",
    "# Get me all panels\n",
    "\n",
    "SELECT\n",
    "  face.id, frame_id, video_id, number,\n",
    "  bbox_x1, bbox_x2, bbox_y1, bbox_y2\n",
    "FROM\n",
    "  tvnews.query_face AS face,\n",
    "  tvnews.query_person AS person,\n",
    "  tvnews.query_frame AS frame\n",
    "WHERE\n",
    "  frame_id IN (\n",
    "    SELECT\n",
    "      frame_id\n",
    "    FROM\n",
    "      tvnews.query_face AS face,\n",
    "      tvnews.query_person AS person,\n",
    "      tvnews.query_frame AS frame\n",
    "    WHERE \n",
    "      bbox_y2 - bbox_y1 > 0.25\n",
    "      AND face.person_id = person.id\n",
    "      AND person.frame_id = frame.id\n",
    "    GROUP BY frame_id\n",
    "    HAVING\n",
    "      COUNT(*) = 3\n",
    "      AND MAX(bbox_y1) - MIN(bbox_y1) < .05\n",
    "      AND MAX(bbox_y2) - MIN(bbox_y2) < .05\n",
    "  )\n",
    "  AND face.person_id = person.id\n",
    "  AND person.frame_id = frame.id\n",
    "LIMIT 100;\n",
    "```"
   ]
  }
 ],
 "metadata": {
  "kernelspec": {
   "display_name": "Django Shell-Plus",
   "language": "python",
   "name": "django_extensions"
  },
  "language_info": {
   "codemirror_mode": {
    "name": "ipython",
    "version": 3
   },
   "file_extension": ".py",
   "mimetype": "text/x-python",
   "name": "python",
   "nbconvert_exporter": "python",
   "pygments_lexer": "ipython3",
   "version": "3.5.2"
  },
  "toc": {
   "nav_menu": {},
   "number_sections": true,
   "sideBar": false,
   "skip_h1_title": false,
   "toc_cell": true,
   "toc_position": {},
   "toc_section_display": "block",
   "toc_window_display": false
  }
 },
 "nbformat": 4,
 "nbformat_minor": 2
}
