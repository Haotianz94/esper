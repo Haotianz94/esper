{
 "cells": [
  {
   "cell_type": "code",
   "execution_count": null,
   "metadata": {
    "ExecuteTime": {
     "end_time": "2019-03-10T01:40:46.155719Z",
     "start_time": "2019-03-10T01:40:39.669252Z"
    },
    "hide_input": true
   },
   "outputs": [],
   "source": [
    "%matplotlib inline\n",
    "\n",
    "print('Loading libraries... Please wait.')\n",
    "\n",
    "from IPython.display import display, clear_output\n",
    "import ipywidgets as widgets\n",
    "import json\n",
    "import random\n",
    "import sys\n",
    "from collections import Counter\n",
    "from sklearn.metrics import confusion_matrix, accuracy_score\n",
    "\n",
    "from esper.prelude import *\n",
    "from esper.widget import *\n",
    "import esper.face_embeddings as face_embeddings\n",
    "\n",
    "\n",
    "WIDGET_STYLE_ARGS = {'description_width': 'initial'}\n",
    "\n",
    "\n",
    "def query_faces(ids):\n",
    "    faces = Face.objects.filter(id__in=ids)\n",
    "    return faces.values(\n",
    "        'id', 'bbox_y1', 'bbox_y2', 'bbox_x1', 'bbox_x2',\n",
    "        'frame__number', 'frame__video__id', 'frame__video__fps',\n",
    "        'shot__min_frame', 'shot__max_frame')\n",
    "\n",
    "\n",
    "def query_sample(qs, n):\n",
    "    return qs.order_by('?')[:n]\n",
    "\n",
    "\n",
    "def query_faces_result(faces, expand_bbox=0.05):\n",
    "    \"\"\"Replaces qs_to_result\"\"\"\n",
    "    result = []\n",
    "    for face in faces:\n",
    "        if (face.get('shot__min_frame') is not None and\n",
    "                face.get('shot__max_frame') is not None):\n",
    "            min_frame = int(\n",
    "                (face['shot__min_frame'] +\n",
    "                 face['shot__max_frame']) / 2)\n",
    "        else:\n",
    "            min_frame = face['frame__number']\n",
    "        face_result = {\n",
    "            'type': 'flat', 'label': '',\n",
    "            'elements': [{\n",
    "                'objects': [{\n",
    "                    'id': face['id'],\n",
    "                    'background': False,\n",
    "                    'type': 'bbox',\n",
    "                    'bbox_y1': max(face['bbox_y1'] - expand_bbox, 0),\n",
    "                    'bbox_y2': min(face['bbox_y2'] + expand_bbox, 1),\n",
    "                    'bbox_x1': max(face['bbox_x1'] - expand_bbox, 0),\n",
    "                    'bbox_x2': min(face['bbox_x2'] + expand_bbox, 1),\n",
    "                }],\n",
    "                'min_frame': min_frame,\n",
    "                'video': face['frame__video__id']\n",
    "            }]\n",
    "        }\n",
    "        result.append(face_result)\n",
    "    return {'type': 'Face', 'count': 0, 'result': result}\n",
    "\n",
    "\n",
    "def simple_random_sampler(n):\n",
    "    return face_embeddings.sample(n)\n",
    "\n",
    "\n",
    "def get_nn_sampler(seed_ids, k=10, stride=25):\n",
    "    def _nn_sampler(n):\n",
    "        sample_ids = random.sample(seed_ids, min(k, len(seed_ids)))\n",
    "        mean_emb = face_embeddings.mean(sample_ids)\n",
    "        return [i for i, d in face_embeddings.knn(targets=[mean_emb], k=n, sample=stride)]\n",
    "    return _nn_sampler\n",
    "\n",
    "\n",
    "def print_labeling_status():\n",
    "    print('Current hand labels:')\n",
    "    counts = Counter(HAND_LABELS.values())\n",
    "    for k in counts:\n",
    "        print('  {}: {}'.format('positive' if k == 1 else 'negative', counts[k]))\n",
    "\n",
    "\n",
    "def compute_distance_to_positive_labels(ids):\n",
    "    ids = list(ids)\n",
    "    pos_ids = [a for a, b in HAND_LABELS.items() if b == 1]\n",
    "    pos_ids = [a for a, b in zip(pos_ids, face_embeddings.exists(pos_ids)) if b]\n",
    "    return {\n",
    "        a: b for a, b in zip(\n",
    "            ids, face_embeddings.dist(ids, target_ids=pos_ids)\n",
    "        )}\n",
    "        \n",
    "\n",
    "def label_random_faces(n, sampler=simple_random_sampler, order_by='random'):\n",
    "    print('Loading {} faces'.format(n))\n",
    "    # Simple random sample across the entire dataset\n",
    "    face_ids = sampler(n)\n",
    "    faces = list(query_faces(face_ids))\n",
    "    del face_ids\n",
    "    \n",
    "    if order_by == 'random':\n",
    "        random.shuffle(faces)\n",
    "    elif order_by == 'positive':\n",
    "        face_dists = compute_distance_to_positive_labels([f['id'] for f in faces])\n",
    "        faces.sort(key=lambda x: face_dists[x['id']])\n",
    "    else:\n",
    "        print('Unknown sort order: use random instead', file=sys.stderr)\n",
    "        random.shuffle(faces)\n",
    "        \n",
    "    selection_widget = esper_widget(\n",
    "        query_faces_result(faces),\n",
    "        disable_playback=True, jupyter_keybindings=True, disable_captions=True,\n",
    "        crop_bboxes=True, results_per_page=faces_per_page())\n",
    "\n",
    "    submit_button = widgets.Button(\n",
    "        layout=widgets.Layout(width='auto'),\n",
    "        style=WIDGET_STYLE_ARGS,\n",
    "        description='Save labels',\n",
    "        disabled=False,\n",
    "        button_style='danger'\n",
    "    )\n",
    "    def on_submit(b):\n",
    "        yes_ids = [faces[i]['id'] for i in selection_widget.selected]\n",
    "        no_ids = [faces[i]['id'] for i in selection_widget.ignored]\n",
    "        clear_output()\n",
    "        for i in yes_ids:\n",
    "            HAND_LABELS[i] = 1\n",
    "        for i in no_ids:\n",
    "            HAND_LABELS[i] = 0\n",
    "        \n",
    "        print('Added {} positive and {} negative labels.'.format(\n",
    "              len(yes_ids), len(no_ids)))\n",
    "        print_labeling_status()\n",
    "        label_random_faces(n, sampler, order_by)\n",
    "    submit_button.on_click(on_submit)\n",
    "\n",
    "    refresh_button = widgets.Button(\n",
    "        layout=widgets.Layout(width='auto'),\n",
    "        style=WIDGET_STYLE_ARGS,\n",
    "        description='Refresh (w/o saving)',\n",
    "        disabled=False,\n",
    "        button_style=''\n",
    "    )\n",
    "    def on_refresh(b):\n",
    "        clear_output()\n",
    "        label_random_faces(n, sampler, order_by)\n",
    "    refresh_button.on_click(on_refresh)\n",
    "\n",
    "    dismiss_button = widgets.Button(\n",
    "        layout=widgets.Layout(width='auto'),\n",
    "        style=WIDGET_STYLE_ARGS,\n",
    "        description='Dismiss widget (w/o saving)',\n",
    "        disabled=False,\n",
    "        button_style=''\n",
    "    )\n",
    "    def on_dismiss(b):\n",
    "        clear_output()\n",
    "        print('Dismissed widget. Re-run cell to get it back.')\n",
    "    dismiss_button.on_click(on_dismiss)\n",
    "\n",
    "    display(widgets.HBox([submit_button, refresh_button, dismiss_button]))\n",
    "    display(selection_widget)\n",
    "\n",
    "\n",
    "DEFAULT_FACES_PER_PAGE = 100\n",
    "_faces_per_page_slider = widgets.IntSlider(\n",
    "    value=DEFAULT_FACES_PER_PAGE,\n",
    "    style=WIDGET_STYLE_ARGS,\n",
    "    min=25,\n",
    "    max=250,\n",
    "    step=25,\n",
    "    description='Faces per widget page:',\n",
    "    disabled=False,\n",
    "    continuous_update=False,\n",
    "    orientation='horizontal',\n",
    "    readout=True,\n",
    "    readout_format='d'\n",
    ")\n",
    "def faces_per_page():\n",
    "    try:\n",
    "        return _faces_per_page_slider.value\n",
    "    except:\n",
    "        return DEFAULT_FACES_PER_PAGE\n",
    "\n",
    "print('Done!')\n",
    "\n",
    "display(_faces_per_page_slider)"
   ]
  },
  {
   "cell_type": "code",
   "execution_count": null,
   "metadata": {
    "ExecuteTime": {
     "end_time": "2019-03-10T01:40:46.183432Z",
     "start_time": "2019-03-10T01:40:46.158921Z"
    }
   },
   "outputs": [],
   "source": [
    "try: HAND_LABELS\n",
    "except NameError: HAND_LABELS = {}"
   ]
  },
  {
   "cell_type": "markdown",
   "metadata": {},
   "source": [
    "# Labeling\n",
    "\n",
    "`label_random_faces()` will sample faces from the dataset.\n",
    "\n",
    "<b>Keys:</b>\n",
    " - To label a <b>yes</b> face, press '['. To label all faces on a page, press '{' (i.e., shift + '[').\n",
    " - To label a <b>no</b> face, press ']'. To label all faces on a page, press '}' (i.e., shift + ']').\n",
    " - To expand an image, press '=', and press again to shrink it.\n",
    " - To label ALL previously unlabeled faces up to and including the current face as <b>yes</b>, press '?' (i.e., shift + '/').\n",
    " - Do not highlight if unsure.\n",
    "\n",
    "Once you are satisfied with your selections, press <b>save labels</b> to add the labels to HAND_LABELS. Re-run this cell as needed.\n",
    "\n",
    "Note: the bounding boxes have been expanded by 5%.\n"
   ]
  },
  {
   "cell_type": "code",
   "execution_count": null,
   "metadata": {
    "ExecuteTime": {
     "end_time": "2019-03-10T01:59:57.915798Z",
     "start_time": "2019-03-10T01:59:56.768457Z"
    },
    "scrolled": false
   },
   "outputs": [],
   "source": [
    "label_random_faces(\n",
    "    faces_per_page(),  # number of faces to show (exactly 1 page)\n",
    "    sampler=simple_random_sampler,\n",
    "#     order_by='random'\n",
    "    order_by='positive'\n",
    ")"
   ]
  },
  {
   "cell_type": "markdown",
   "metadata": {},
   "source": [
    "Sample some faces, but bias the sample towards positives."
   ]
  },
  {
   "cell_type": "code",
   "execution_count": null,
   "metadata": {
    "ExecuteTime": {
     "end_time": "2019-03-10T01:37:29.036901Z",
     "start_time": "2019-03-10T01:37:19.680019Z"
    },
    "scrolled": false
   },
   "outputs": [],
   "source": [
    "label_random_faces(\n",
    "    faces_per_page(),  # number of faces to show (exactly 1 page)\n",
    "    sampler=get_nn_sampler(\n",
    "        [a for a, b in HAND_LABELS.items() if b == 1],\n",
    "        stride=10\n",
    "    ),\n",
    "    order_by='positive'\n",
    ")"
   ]
  },
  {
   "cell_type": "markdown",
   "metadata": {},
   "source": [
    "# Show labeled counts"
   ]
  },
  {
   "cell_type": "code",
   "execution_count": null,
   "metadata": {
    "ExecuteTime": {
     "end_time": "2019-03-09T10:03:48.923285Z",
     "start_time": "2019-03-09T10:03:48.898064Z"
    }
   },
   "outputs": [],
   "source": [
    "print_labeling_status()"
   ]
  },
  {
   "cell_type": "markdown",
   "metadata": {},
   "source": [
    "# Saving labels"
   ]
  },
  {
   "cell_type": "code",
   "execution_count": null,
   "metadata": {
    "ExecuteTime": {
     "end_time": "2019-03-10T02:06:13.724235Z",
     "start_time": "2019-03-10T02:06:13.694794Z"
    }
   },
   "outputs": [],
   "source": [
    "def save_hand_labels(filename, overwrite=False):\n",
    "    if not overwrite and os.path.exists(filename):\n",
    "        raise Exception('File already exists!')\n",
    "    with open(filename, 'w') as f:\n",
    "        json.dump(HAND_LABELS, f)\n",
    "    print('Saved:', filename)\n",
    "\n",
    "def load_hand_labels(filename):\n",
    "    with open(filename) as f:\n",
    "        return json.load(f)"
   ]
  },
  {
   "cell_type": "code",
   "execution_count": null,
   "metadata": {
    "ExecuteTime": {
     "end_time": "2019-03-10T02:06:14.295440Z",
     "start_time": "2019-03-10T02:06:14.264480Z"
    }
   },
   "outputs": [],
   "source": [
    "save_hand_labels('/app/data/black.250.random.json')"
   ]
  },
  {
   "cell_type": "code",
   "execution_count": null,
   "metadata": {},
   "outputs": [],
   "source": []
  }
 ],
 "metadata": {
  "kernelspec": {
   "display_name": "Django Shell-Plus",
   "language": "python",
   "name": "django_extensions"
  },
  "language_info": {
   "codemirror_mode": {
    "name": "ipython",
    "version": 3
   },
   "file_extension": ".py",
   "mimetype": "text/x-python",
   "name": "python",
   "nbconvert_exporter": "python",
   "pygments_lexer": "ipython3",
   "version": "3.5.2"
  },
  "toc": {
   "nav_menu": {},
   "number_sections": true,
   "sideBar": true,
   "skip_h1_title": false,
   "toc_cell": false,
   "toc_position": {},
   "toc_section_display": "block",
   "toc_window_display": false
  }
 },
 "nbformat": 4,
 "nbformat_minor": 2
}
