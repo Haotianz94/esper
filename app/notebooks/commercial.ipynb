{
 "cells": [
  {
   "cell_type": "markdown",
   "metadata": {
    "toc": true
   },
   "source": [
    "<h1>Table of Contents<span class=\"tocSkip\"></span></h1>\n",
    "<div class=\"toc\" style=\"margin-top: 1em;\"><ul class=\"toc-item\"><li><span><a href=\"#Load-data\" data-toc-modified-id=\"Load-data-1\"><span class=\"toc-item-num\">1&nbsp;&nbsp;</span>Load data</a></span></li><li><span><a href=\"#Test-single-video-with-rekall\" data-toc-modified-id=\"Test-single-video-with-rekall-2\"><span class=\"toc-item-num\">2&nbsp;&nbsp;</span>Test single video with rekall</a></span></li><li><span><a href=\"#Test-single-video-with-haotian's-algorithm\" data-toc-modified-id=\"Test-single-video-with-haotian's-algorithm-3\"><span class=\"toc-item-num\">3&nbsp;&nbsp;</span>Test single video with haotian's algorithm</a></span></li><li><span><a href=\"#Test-videos-with-ground-truth\" data-toc-modified-id=\"Test-videos-with-ground-truth-4\"><span class=\"toc-item-num\">4&nbsp;&nbsp;</span>Test videos with ground truth</a></span></li><li><span><a href=\"#Process-labeled-commercial-groundtruth\" data-toc-modified-id=\"Process-labeled-commercial-groundtruth-5\"><span class=\"toc-item-num\">5&nbsp;&nbsp;</span>Process labeled commercial groundtruth</a></span></li><li><span><a href=\"#Detect-commercial-in-all-videos\" data-toc-modified-id=\"Detect-commercial-in-all-videos-6\"><span class=\"toc-item-num\">6&nbsp;&nbsp;</span>Detect commercial in all videos</a></span></li><li><span><a href=\"#Collect-commercial-result\" data-toc-modified-id=\"Collect-commercial-result-7\"><span class=\"toc-item-num\">7&nbsp;&nbsp;</span>Collect commercial result</a></span></li><li><span><a href=\"#Check-commercial-result\" data-toc-modified-id=\"Check-commercial-result-8\"><span class=\"toc-item-num\">8&nbsp;&nbsp;</span>Check commercial result</a></span></li></ul></div>"
   ]
  },
  {
   "cell_type": "code",
   "execution_count": null,
   "metadata": {
    "ExecuteTime": {
     "end_time": "2018-12-29T06:09:04.816612Z",
     "start_time": "2018-12-29T06:09:03.903134Z"
    }
   },
   "outputs": [],
   "source": [
    "from query.models import Video\n",
    "from esper.prelude import esper_widget\n",
    "from rekall.interval_list import IntervalList\n",
    "from esper.rekall import *\n",
    "from esper.commercial_detect import detect_commercial, visualize_commercial\n",
    "from esper.commercial_detect_rekall import detect_commercial_rekall, solve_parallel\n",
    "\n",
    "import os\n",
    "import pickle\n",
    "import random\n",
    "\n",
    "get_ipython().magic('matplotlib inline')\n",
    "get_ipython().magic('reload_ext autoreload')\n",
    "get_ipython().magic('autoreload 2')"
   ]
  },
  {
   "cell_type": "markdown",
   "metadata": {},
   "source": [
    "# Load data"
   ]
  },
  {
   "cell_type": "code",
   "execution_count": null,
   "metadata": {
    "ExecuteTime": {
     "end_time": "2018-12-29T06:11:56.428223Z",
     "start_time": "2018-12-29T06:11:37.352278Z"
    }
   },
   "outputs": [],
   "source": [
    "# load data\n",
    "black_frame_dict = pickle.load(open('/app/data/black_frame_all.pkl', 'rb'))\n",
    "additional_field = pickle.load(open('/app/data/addtional_field.pkl', 'rb'))\n",
    "commercial_gt = pickle.load(open('/app/data/commercial_gt.pkl', 'rb'))"
   ]
  },
  {
   "cell_type": "code",
   "execution_count": null,
   "metadata": {
    "ExecuteTime": {
     "end_time": "2018-12-28T21:14:50.577809Z",
     "start_time": "2018-12-28T21:14:50.523354Z"
    }
   },
   "outputs": [],
   "source": [
    "video = Video.objects.filter(path__contains='CNNW_20110513_150000_CNN_Newsroom')[0]\n",
    "video_name = video.item_name()"
   ]
  },
  {
   "cell_type": "markdown",
   "metadata": {},
   "source": [
    "# Test single video with rekall"
   ]
  },
  {
   "cell_type": "code",
   "execution_count": null,
   "metadata": {
    "ExecuteTime": {
     "end_time": "2018-12-28T21:14:53.197932Z",
     "start_time": "2018-12-28T21:14:52.858030Z"
    },
    "scrolled": true
   },
   "outputs": [],
   "source": [
    "result = detect_commercial_rekall(video, '/app/data/subs/aligned/'+video_name+'.word.srt', blackframe_list=black_frame_dict[video.id], debug=True, verbose=False)"
   ]
  },
  {
   "cell_type": "code",
   "execution_count": null,
   "metadata": {
    "ExecuteTime": {
     "end_time": "2018-12-28T21:15:00.557586Z",
     "start_time": "2018-12-28T21:15:00.486610Z"
    },
    "scrolled": false
   },
   "outputs": [],
   "source": [
    "# Debug commercial blocks\n",
    "def intrvllists_time2fid(intrvllists, fps):\n",
    "    return IntervalList([(i.start*video.fps, i.end*video.fps, 0) for i in intrvllists.get_intervals()])\n",
    "\n",
    "commercial_intrvllists = {}\n",
    "commercial_intrvllists = intrvllists_to_result({video.id: intrvllists_time2fid(result['black'], video.fps)}, color='black')\n",
    "add_intrvllists_to_result(commercial_intrvllists,\n",
    "                         {video.id: intrvllists_time2fid(result['arrow'], video.fps)},\n",
    "                          color='black')\n",
    "add_intrvllists_to_result(commercial_intrvllists,\n",
    "                         {video.id: intrvllists_time2fid(result['commercials_raw'], video.fps)},\n",
    "                          color='orange')\n",
    "add_intrvllists_to_result(commercial_intrvllists,\n",
    "                         {video.id: intrvllists_time2fid(result['lowercase'], video.fps)},\n",
    "                          color='gray')\n",
    "add_intrvllists_to_result(commercial_intrvllists,\n",
    "                         {video.id: intrvllists_time2fid(result['blank'], video.fps)},\n",
    "                          color='blue')\n",
    "add_intrvllists_to_result(commercial_intrvllists,\n",
    "                         {video.id: intrvllists_time2fid(result['commercials'], video.fps)},\n",
    "                          color='red')\n",
    "add_intrvllists_to_result(commercial_intrvllists,\n",
    "                         {video.id: IntervalList([(start*video.fps, end*video.fps, 0) for (start, end) in commercial_gt['all'][video.id]]) },\n",
    "                          color='green')\n",
    "esper_widget(commercial_intrvllists)"
   ]
  },
  {
   "cell_type": "markdown",
   "metadata": {},
   "source": [
    "# Test single video with haotian's algorithm"
   ]
  },
  {
   "cell_type": "code",
   "execution_count": null,
   "metadata": {
    "ExecuteTime": {
     "end_time": "2018-12-17T20:40:40.412212Z",
     "start_time": "2018-12-17T20:40:39.413052Z"
    },
    "scrolled": true
   },
   "outputs": [],
   "source": [
    "video_desp = {'fps': video.fps, 'frame_w': video.width, 'frame_h': video.height, 'video_length': video.num_frames/video.fps, 'video_frames': video.num_frames}\n",
    "commercial_list = detect_commercial(video_desp, '/app/data/subs10/'+video_name, blackframe_list=black_frame_dict[video.id])\n",
    "commercial_list"
   ]
  },
  {
   "cell_type": "markdown",
   "metadata": {},
   "source": [
    "# Test videos with ground truth "
   ]
  },
  {
   "cell_type": "code",
   "execution_count": null,
   "metadata": {
    "ExecuteTime": {
     "end_time": "2018-12-28T18:51:39.215668Z",
     "start_time": "2018-12-28T18:43:34.659052Z"
    },
    "scrolled": true
   },
   "outputs": [],
   "source": [
    "com_dict_us, com_dict_gt = {}, {}\n",
    "for video_id in sorted(commercial_gt['all']):\n",
    "    com_gt = commercial_gt['all'][video_id]\n",
    "    video = Video.objects.filter(id=video_id)[0]\n",
    "    video_name = video.item_name()\n",
    "    transcript_path = \"/app/data/subs/aligned/\" + video_name + '.word.srt'\n",
    "    print(video_name)\n",
    "    if not video_id in black_frame_dict or not os.path.exists(transcript_path):\n",
    "        continue\n",
    "#     video_desp = {'fps': video.fps, 'frame_w': video.width, 'frame_h': video.height, 'video_length': video.num_frames/video.fps, 'video_frames': video.num_frames}\n",
    "#     commercial_list = detect_commercial(video_desp, '/app/data/subs10/'+video_name, blackframe_list=black_frame_dict[video_name], verbose=False)    \n",
    "    com_us = detect_commercial_rekall(video, transcript_path, blackframe_list=black_frame_dict[video_id], debug=False)    \n",
    "    com_dict_us[video_name] = com_us\n",
    "    com_dict_gt[video_name] = com_gt"
   ]
  },
  {
   "cell_type": "code",
   "execution_count": null,
   "metadata": {
    "ExecuteTime": {
     "end_time": "2018-12-28T18:54:17.759554Z",
     "start_time": "2018-12-28T18:54:07.133525Z"
    },
    "scrolled": true
   },
   "outputs": [],
   "source": [
    "# visualize commercial as strip graph\n",
    "visualize_commercial(com_dict_gt, com_dict_us)"
   ]
  },
  {
   "cell_type": "markdown",
   "metadata": {},
   "source": [
    "# Process labeled commercial groundtruth"
   ]
  },
  {
   "cell_type": "code",
   "execution_count": null,
   "metadata": {
    "ExecuteTime": {
     "end_time": "2018-12-29T00:48:48.851726Z",
     "start_time": "2018-12-29T00:48:48.758142Z"
    }
   },
   "outputs": [],
   "source": [
    "commercial_gt = pickle.load(open('/app/data/commercial_gt.pkl', 'rb'))"
   ]
  },
  {
   "cell_type": "code",
   "execution_count": null,
   "metadata": {
    "ExecuteTime": {
     "end_time": "2018-12-27T18:08:29.398003Z",
     "start_time": "2018-12-27T18:08:29.234272Z"
    },
    "scrolled": true
   },
   "outputs": [],
   "source": [
    "from esper.util import time2second\n",
    "com_gt = {}\n",
    "for line in open('/app/data/commercial_gt.csv'):\n",
    "    columns = line[:-1].split(',')\n",
    "    video_id = int(columns[0])\n",
    "    video = Video.objects.filter(id=video_id)[0]\n",
    "    \n",
    "    duration = int(video.num_frames / video.fps)\n",
    "    com_gt[video_id] = []\n",
    "#     print(video_id)\n",
    "    for i in range(1, len(columns)):\n",
    "        if columns[i] == '':\n",
    "            continue\n",
    "        span = columns[i].split('-')\n",
    "        start = span[0].split(':')\n",
    "        end = span[1].split(':')\n",
    "        start = time2second((int(start[0]), int(start[1]), int(start[2])))\n",
    "        end = time2second((int(end[0]), int(end[1]), int(end[2])))\n",
    "        com_gt[video_id].append((start, end))\n",
    "com_gt"
   ]
  },
  {
   "cell_type": "code",
   "execution_count": null,
   "metadata": {
    "ExecuteTime": {
     "end_time": "2018-12-29T00:48:59.989843Z",
     "start_time": "2018-12-29T00:48:59.923464Z"
    }
   },
   "outputs": [],
   "source": [
    "# commercial_gt['10y'] = com_gt\n",
    "commercial_gt['all'] = {**commercial_gt['all'], **commercial_gt['10y']}"
   ]
  },
  {
   "cell_type": "code",
   "execution_count": null,
   "metadata": {
    "ExecuteTime": {
     "end_time": "2018-12-29T00:49:03.027113Z",
     "start_time": "2018-12-29T00:49:02.962571Z"
    }
   },
   "outputs": [],
   "source": [
    "pickle.dump(commercial_gt, open('/app/data/commercial_gt.pkl', 'wb'))"
   ]
  },
  {
   "cell_type": "markdown",
   "metadata": {},
   "source": [
    "# Detect commercial in all videos"
   ]
  },
  {
   "cell_type": "code",
   "execution_count": null,
   "metadata": {},
   "outputs": [],
   "source": [
    "black_frame_dict = pickle.load(open('/app/data/black_frame_all.pkl', 'rb'))\n",
    "result_dict = pickle.load(open('/app/result/commercial/commercial_dict.pkl', 'rb'))\n",
    "additional_field = pickle.load(open('/app/data/addtional_field_all.pkl', 'rb'))\n",
    "videos = Video.objects.all()"
   ]
  },
  {
   "cell_type": "code",
   "execution_count": null,
   "metadata": {},
   "outputs": [],
   "source": [
    "param_list = []\n",
    "for i, video in enumerate(videos):\n",
    "    if video.id in black_frame_dict and additional_field[video.id]['aligned_transcript'] and not video.id in result_dict:\n",
    "        param_list.append(({'id': video.id, 'video_name': video.item_name(), 'fps': video.fps, 'num_frames': video.num_frames}, \n",
    "                           black_frame_dict[video.id]))"
   ]
  },
  {
   "cell_type": "code",
   "execution_count": null,
   "metadata": {},
   "outputs": [],
   "source": [
    "if __name__ == \"__main__\":\n",
    "\n",
    "    solve_parallel(param_list, res_dict_path='/app/result/commercial/commercial_dict.pkl', nthread=32, use_process=True)"
   ]
  },
  {
   "cell_type": "markdown",
   "metadata": {},
   "source": [
    "# Collect commercial result"
   ]
  },
  {
   "cell_type": "code",
   "execution_count": null,
   "metadata": {
    "ExecuteTime": {
     "end_time": "2018-12-29T06:58:58.268903Z",
     "start_time": "2018-12-29T06:58:54.018692Z"
    }
   },
   "outputs": [],
   "source": [
    "res_dict = pickle.load(open('/app/result/commercial/commercial_dict.pkl', 'rb'))\n",
    "for i in range(64):\n",
    "    res_dict_tmp = pickle.load(open('/app/result/commercial/dict_{}.pkl'.format(i), 'rb'))\n",
    "    res_dict = {**res_dict, **res_dict_tmp}"
   ]
  },
  {
   "cell_type": "code",
   "execution_count": null,
   "metadata": {
    "ExecuteTime": {
     "end_time": "2018-12-29T06:59:03.617633Z",
     "start_time": "2018-12-29T06:59:02.602947Z"
    }
   },
   "outputs": [],
   "source": [
    "pickle.dump(res_dict, open('/app/result/commercial/commercial_dict.pkl', 'wb'))"
   ]
  },
  {
   "cell_type": "markdown",
   "metadata": {},
   "source": [
    "# Check commercial result"
   ]
  },
  {
   "cell_type": "code",
   "execution_count": null,
   "metadata": {
    "ExecuteTime": {
     "end_time": "2018-12-29T06:34:38.529199Z",
     "start_time": "2018-12-29T06:34:34.203564Z"
    }
   },
   "outputs": [],
   "source": [
    "commercial_dict = pickle.load(open('/app/result/commercial/commercial_dict.pkl', 'rb'))"
   ]
  },
  {
   "cell_type": "code",
   "execution_count": null,
   "metadata": {
    "ExecuteTime": {
     "end_time": "2018-12-29T06:35:36.934813Z",
     "start_time": "2018-12-29T06:35:36.891281Z"
    }
   },
   "outputs": [],
   "source": [
    "commercial_dict_small = {id: commercial_dict[id] for id in random.sample(commercial_dict.keys(), 100)}"
   ]
  },
  {
   "cell_type": "code",
   "execution_count": null,
   "metadata": {
    "ExecuteTime": {
     "end_time": "2018-12-29T06:35:52.865072Z",
     "start_time": "2018-12-29T06:35:50.183950Z"
    },
    "scrolled": true
   },
   "outputs": [],
   "source": [
    "# Display commercial blocks with esper widget\n",
    "\n",
    "commercial_intrvllists = {}\n",
    "video_ids = []\n",
    "for video_id in sorted(commercial_dict_small):\n",
    "    video = Video.objects.filter(id=video_id)[0]\n",
    "    video_ids.append(video.id)\n",
    "    commercial_intrvllists[video.id] = IntervalList([(start*video.fps, end*video.fps, 0) for (start, end) in commercial_dict[video_id]])\n",
    "\n",
    "esper_widget(intrvllists_to_result(commercial_intrvllists))"
   ]
  }
 ],
 "metadata": {
  "kernelspec": {
   "display_name": "Django Shell-Plus",
   "language": "python",
   "name": "django_extensions"
  },
  "language_info": {
   "codemirror_mode": {
    "name": "ipython",
    "version": 3
   },
   "file_extension": ".py",
   "mimetype": "text/x-python",
   "name": "python",
   "nbconvert_exporter": "python",
   "pygments_lexer": "ipython3",
   "version": "3.5.2"
  },
  "toc": {
   "nav_menu": {},
   "number_sections": true,
   "sideBar": false,
   "skip_h1_title": false,
   "toc_cell": true,
   "toc_position": {},
   "toc_section_display": "block",
   "toc_window_display": false
  }
 },
 "nbformat": 4,
 "nbformat_minor": 2
}
