{
 "cells": [
  {
   "cell_type": "markdown",
   "metadata": {
    "toc": true
   },
   "source": [
    "<h1>Table of Contents<span class=\"tocSkip\"></span></h1>\n",
    "<div class=\"toc\" style=\"margin-top: 1em;\"><ul class=\"toc-item\"><li><span><a href=\"#Videos\" data-toc-modified-id=\"Videos-1\"><span class=\"toc-item-num\">1&nbsp;&nbsp;</span>Videos</a></span><ul class=\"toc-item\"><li><span><a href=\"#All-videos\" data-toc-modified-id=\"All-videos-1.1\"><span class=\"toc-item-num\">1.1&nbsp;&nbsp;</span>All videos</a></span></li><li><span><a href=\"#Videos-by-channel\" data-toc-modified-id=\"Videos-by-channel-1.2\"><span class=\"toc-item-num\">1.2&nbsp;&nbsp;</span>Videos by channel</a></span></li><li><span><a href=\"#Videos-by-show\" data-toc-modified-id=\"Videos-by-show-1.3\"><span class=\"toc-item-num\">1.3&nbsp;&nbsp;</span>Videos by show</a></span></li><li><span><a href=\"#Videos-by-canonical-show\" data-toc-modified-id=\"Videos-by-canonical-show-1.4\"><span class=\"toc-item-num\">1.4&nbsp;&nbsp;</span>Videos by canonical show</a></span></li><li><span><a href=\"#Videos-by-time-of-day\" data-toc-modified-id=\"Videos-by-time-of-day-1.5\"><span class=\"toc-item-num\">1.5&nbsp;&nbsp;</span>Videos by time of day</a></span></li></ul></li><li><span><a href=\"#Faces\" data-toc-modified-id=\"Faces-2\"><span class=\"toc-item-num\">2&nbsp;&nbsp;</span>Faces</a></span><ul class=\"toc-item\"><li><span><a href=\"#Face-validation\" data-toc-modified-id=\"Face-validation-2.1\"><span class=\"toc-item-num\">2.1&nbsp;&nbsp;</span>Face validation</a></span></li><li><span><a href=\"#All-faces\" data-toc-modified-id=\"All-faces-2.2\"><span class=\"toc-item-num\">2.2&nbsp;&nbsp;</span>All faces</a></span></li></ul></li><li><span><a href=\"#Genders\" data-toc-modified-id=\"Genders-3\"><span class=\"toc-item-num\">3&nbsp;&nbsp;</span>Genders</a></span><ul class=\"toc-item\"><li><span><a href=\"#All-genders\" data-toc-modified-id=\"All-genders-3.1\"><span class=\"toc-item-num\">3.1&nbsp;&nbsp;</span>All genders</a></span></li><li><span><a href=\"#Gender-by-channel\" data-toc-modified-id=\"Gender-by-channel-3.2\"><span class=\"toc-item-num\">3.2&nbsp;&nbsp;</span>Gender by channel</a></span></li><li><span><a href=\"#Gender-by-show\" data-toc-modified-id=\"Gender-by-show-3.3\"><span class=\"toc-item-num\">3.3&nbsp;&nbsp;</span>Gender by show</a></span></li><li><span><a href=\"#Gender-by-canonical-show\" data-toc-modified-id=\"Gender-by-canonical-show-3.4\"><span class=\"toc-item-num\">3.4&nbsp;&nbsp;</span>Gender by canonical show</a></span></li><li><span><a href=\"#Gender-by-time-of-day\" data-toc-modified-id=\"Gender-by-time-of-day-3.5\"><span class=\"toc-item-num\">3.5&nbsp;&nbsp;</span>Gender by time of day</a></span></li><li><span><a href=\"#Gender-by-day-of-week\" data-toc-modified-id=\"Gender-by-day-of-week-3.6\"><span class=\"toc-item-num\">3.6&nbsp;&nbsp;</span>Gender by day of week</a></span></li><li><span><a href=\"#Gender-by-topic\" data-toc-modified-id=\"Gender-by-topic-3.7\"><span class=\"toc-item-num\">3.7&nbsp;&nbsp;</span>Gender by topic</a></span></li></ul></li></ul></div>"
   ]
  },
  {
   "cell_type": "code",
   "execution_count": null,
   "metadata": {
    "ExecuteTime": {
     "end_time": "2019-01-04T05:59:04.815734Z",
     "start_time": "2019-01-04T05:59:04.780695Z"
    }
   },
   "outputs": [],
   "source": [
    "import shutil\n",
    "import IPython\n",
    "from esper.validation import *\n",
    "from esper.spark_util import *\n",
    "from esper.prelude import *\n",
    "from esper.widget import *\n",
    "%matplotlib inline"
   ]
  },
  {
   "cell_type": "code",
   "execution_count": null,
   "metadata": {
    "ExecuteTime": {
     "end_time": "2019-01-04T05:39:10.129012Z",
     "start_time": "2019-01-04T05:39:03.209543Z"
    }
   },
   "outputs": [],
   "source": [
    "shows = get_shows()\n",
    "print('Schema:', shows)\n",
    "print('Count:', shows.count())"
   ]
  },
  {
   "cell_type": "code",
   "execution_count": null,
   "metadata": {
    "ExecuteTime": {
     "end_time": "2019-01-04T05:39:14.988494Z",
     "start_time": "2019-01-04T05:39:10.132394Z"
    }
   },
   "outputs": [],
   "source": [
    "videos = get_videos()\n",
    "print('Schema:', videos)\n",
    "print('Count:', videos.count())"
   ]
  },
  {
   "cell_type": "code",
   "execution_count": null,
   "metadata": {
    "ExecuteTime": {
     "end_time": "2019-01-04T06:05:29.150417Z",
     "start_time": "2019-01-04T06:05:28.655391Z"
    }
   },
   "outputs": [],
   "source": [
    "hair_colors = get_hair_colors()\n",
    "print('Schema:', hair_colors)\n",
    "print('Count:', hair_colors.count())"
   ]
  },
  {
   "cell_type": "code",
   "execution_count": null,
   "metadata": {
    "ExecuteTime": {
     "end_time": "2019-01-04T05:56:01.949890Z",
     "start_time": "2019-01-04T05:39:34.298274Z"
    }
   },
   "outputs": [],
   "source": [
    "faces = get_faces()\n",
    "print('Schema:', faces)\n",
    "print('Count:', faces.count())"
   ]
  },
  {
   "cell_type": "code",
   "execution_count": null,
   "metadata": {
    "ExecuteTime": {
     "end_time": "2019-01-04T06:23:07.425996Z",
     "start_time": "2019-01-04T06:07:31.344620Z"
    }
   },
   "outputs": [],
   "source": [
    "# Generate denormed face df\n",
    "if False:\n",
    "    fg = spark.load('query_facegender')\n",
    "    denormed_faces = faces.join(\n",
    "        fg, fg.face_id == faces.id\n",
    "    ).join(\n",
    "        hair_colors, hair_colors.face_id == faces.id\n",
    "    ).select(\n",
    "        faces.id,\n",
    "        faces.bbox_x1, faces.bbox_x2, faces.bbox_y1, faces.bbox_y2,\n",
    "        faces.host_probability,\n",
    "        faces.in_commercial,\n",
    "        faces.video_id,\n",
    "        faces.canonical_show_id,\n",
    "        fg.gender_id,\n",
    "        fg.probability.alias('gender_probability'),\n",
    "        hair_colors.color_id\n",
    "    )\n",
    "    spark.save('denormed_faces', denormed_faces)"
   ]
  },
  {
   "cell_type": "code",
   "execution_count": null,
   "metadata": {
    "ExecuteTime": {
     "end_time": "2019-01-04T06:38:15.248288Z",
     "start_time": "2019-01-04T06:38:15.107720Z"
    }
   },
   "outputs": [],
   "source": [
    "denormed_faces = spark.load('denormed_faces').alias('denormed_faces')\n",
    "denormed_faces = denormed_faces.join(\n",
    "    videos, videos.id == denormed_faces.video_id\n",
    ").select(\n",
    "    'denormed_faces.*',\n",
    "    videos.channel_id,\n",
    "    videos.show_id\n",
    ")\n",
    "denormed_faces = denormed_faces.withColumn('duration', func.lit(3))"
   ]
  },
  {
   "cell_type": "code",
   "execution_count": null,
   "metadata": {
    "ExecuteTime": {
     "end_time": "2018-12-29T17:39:44.467364Z",
     "start_time": "2018-12-29T17:30:32.270746Z"
    }
   },
   "outputs": [],
   "source": [
    "# face_genders = get_face_genders() \n",
    "# print('Schema:', face_genders)\n",
    "# print('Count:', face_genders.count())"
   ]
  },
  {
   "cell_type": "code",
   "execution_count": null,
   "metadata": {
    "ExecuteTime": {
     "end_time": "2018-12-29T17:44:32.536639Z",
     "start_time": "2018-12-29T17:39:44.469476Z"
    }
   },
   "outputs": [],
   "source": [
    "# face_identities = get_face_identities()\n",
    "# print('Schema:', face_identities)\n",
    "# print('Count:', face_identities.count())"
   ]
  },
  {
   "cell_type": "code",
   "execution_count": null,
   "metadata": {
    "ExecuteTime": {
     "end_time": "2018-12-29T17:44:38.035041Z",
     "start_time": "2018-12-29T17:44:32.538713Z"
    }
   },
   "outputs": [],
   "source": [
    "# commercials = get_commercials()\n",
    "# print('Schema:', commercials)\n",
    "# print('Count:', commercials.count())"
   ]
  },
  {
   "cell_type": "code",
   "execution_count": null,
   "metadata": {
    "ExecuteTime": {
     "end_time": "2018-12-29T17:45:10.676015Z",
     "start_time": "2018-12-29T17:44:38.037129Z"
    }
   },
   "outputs": [],
   "source": [
    "# segments = get_segments()\n",
    "# print('Schema:', segments)\n",
    "# print('Count:', segments.count())"
   ]
  },
  {
   "cell_type": "code",
   "execution_count": null,
   "metadata": {
    "ExecuteTime": {
     "end_time": "2018-12-29T17:45:44.030286Z",
     "start_time": "2018-12-29T17:45:10.678499Z"
    }
   },
   "outputs": [],
   "source": [
    "# segment_topics = get_segment_topics()\n",
    "# print('Schema:', segment_topics)\n",
    "# print('Count:', segment_topics.count())"
   ]
  },
  {
   "cell_type": "code",
   "execution_count": null,
   "metadata": {
    "ExecuteTime": {
     "end_time": "2018-12-29T18:05:26.844285Z",
     "start_time": "2018-12-29T18:05:26.817473Z"
    }
   },
   "outputs": [],
   "source": [
    "# interval_overlap_join(\n",
    "#     face_genders.where(face_genders.video_id == 5), \n",
    "#     segment_topics.where(segment_topics.video_id == 5))"
   ]
  },
  {
   "cell_type": "markdown",
   "metadata": {},
   "source": [
    "# Videos"
   ]
  },
  {
   "cell_type": "code",
   "execution_count": null,
   "metadata": {
    "ExecuteTime": {
     "end_time": "2019-01-04T06:28:00.003827Z",
     "start_time": "2019-01-04T06:27:59.687907Z"
    }
   },
   "outputs": [],
   "source": [
    "def format_time(seconds, padding=4):\n",
    "    return '{{:0{}d}}:{{:02d}}:{{:02d}}'.format(padding).format(\n",
    "        int(seconds/3600), int(seconds/60 % 60), int(seconds % 60))\n",
    "\n",
    "def format_number(n):\n",
    "    def fmt(n):\n",
    "        suffixes = {\n",
    "            6: 'thousand',\n",
    "            9: 'million',\n",
    "            12: 'billion',\n",
    "            15: 'trillion'\n",
    "        }\n",
    "\n",
    "        log = math.log10(n)\n",
    "        suffix = None\n",
    "        key = None\n",
    "        for k in sorted(suffixes.keys()):\n",
    "            if log < k:\n",
    "                suffix = suffixes[k]\n",
    "                key = k\n",
    "                break\n",
    "\n",
    "        return '{:.2f} {}'.format(n / float(10**(key-3)), suffix)\n",
    "    if isinstance(n, list):\n",
    "        return list(map(fmt, n))\n",
    "    else:\n",
    "        return fmt(n)\n",
    "\n",
    "def show_df(table, ordering, clear=True):\n",
    "    if clear:\n",
    "        IPython.display.clear_output()\n",
    "    import qgrid\n",
    "    return qgrid.show_grid(pd.DataFrame(table)[ordering])\n",
    "        \n",
    "def format_hour(h):\n",
    "    if h <= 12:\n",
    "        return '{} AM'.format(h)\n",
    "    else:\n",
    "        return '{} PM'.format(h-12)\n",
    "\n",
    "def video_stats(key, labels):\n",
    "    if key is not None:\n",
    "        rows = videos.groupBy(key).agg(\n",
    "            videos[key], \n",
    "            func.count('duration'), \n",
    "            func.avg('duration'), \n",
    "            func.sum('duration'), \n",
    "            func.stddev_pop('duration')\n",
    "        ).collect()\n",
    "    else:\n",
    "        rows = videos.agg(\n",
    "            func.count('duration'), \n",
    "            func.avg('duration'), \n",
    "            func.sum('duration'), \n",
    "            func.stddev_pop('duration')\n",
    "        ).collect()\n",
    "    rmap = {(0 if key is None else r[key]): r for r in rows}\n",
    "    \n",
    "    return [{\n",
    "        'label': label['name'],\n",
    "        'count': rmap[label['id']]['count(duration)'],\n",
    "        'duration': format_time(int(rmap[label['id']]['sum(duration)'])),\n",
    "        'avg_duration': '{} (σ = {})'.format(\n",
    "            format_time(int(rmap[label['id']]['avg(duration)'])),\n",
    "            format_time(int(rmap[label['id']]['stddev_pop(duration)']), padding=0))\n",
    "    } for label in labels if not key or label['id'] in rmap]\n",
    "\n",
    "video_ordering = ['label', 'count', 'duration', 'avg_duration']\n",
    "\n",
    "hours = [\n",
    "    r['hour'] for r in \n",
    "    Video.objects.annotate(\n",
    "        hour=Extract('time', 'hour')\n",
    "    ).distinct('hour').order_by('hour').values('hour')\n",
    "]"
   ]
  },
  {
   "cell_type": "markdown",
   "metadata": {},
   "source": [
    "## All videos"
   ]
  },
  {
   "cell_type": "code",
   "execution_count": null,
   "metadata": {
    "ExecuteTime": {
     "end_time": "2019-01-04T06:28:01.546102Z",
     "start_time": "2019-01-04T06:28:00.602692Z"
    }
   },
   "outputs": [],
   "source": [
    "show_df(\n",
    "    video_stats(None, [{'id': 0, 'name': 'whole dataset'}]),\n",
    "    video_ordering)"
   ]
  },
  {
   "cell_type": "markdown",
   "metadata": {},
   "source": [
    "## Videos by channel"
   ]
  },
  {
   "cell_type": "code",
   "execution_count": null,
   "metadata": {
    "ExecuteTime": {
     "end_time": "2019-01-04T06:28:03.037111Z",
     "start_time": "2019-01-04T06:28:01.556282Z"
    }
   },
   "outputs": [],
   "source": [
    "show_df(\n",
    "    video_stats('channel_id', list(Channel.objects.all().values('id', 'name'))),\n",
    "    video_ordering)"
   ]
  },
  {
   "cell_type": "markdown",
   "metadata": {},
   "source": [
    "## Videos by show"
   ]
  },
  {
   "cell_type": "code",
   "execution_count": null,
   "metadata": {
    "ExecuteTime": {
     "end_time": "2019-01-04T06:28:03.918810Z",
     "start_time": "2019-01-04T06:28:03.040060Z"
    }
   },
   "outputs": [],
   "source": [
    "show_df(\n",
    "    video_stats('show_id', list(Show.objects.all().values('id', 'name'))),\n",
    "    video_ordering)"
   ]
  },
  {
   "cell_type": "markdown",
   "metadata": {},
   "source": [
    "## Videos by canonical show"
   ]
  },
  {
   "cell_type": "code",
   "execution_count": null,
   "metadata": {
    "ExecuteTime": {
     "end_time": "2019-01-04T06:28:05.810279Z",
     "start_time": "2019-01-04T06:28:04.573895Z"
    }
   },
   "outputs": [],
   "source": [
    "show_df(\n",
    "    video_stats('canonical_show_id', list(CanonicalShow.objects.all().values('id', 'name'))),\n",
    "    video_ordering)"
   ]
  },
  {
   "cell_type": "markdown",
   "metadata": {},
   "source": [
    "## Videos by time of day"
   ]
  },
  {
   "cell_type": "code",
   "execution_count": null,
   "metadata": {
    "ExecuteTime": {
     "end_time": "2019-01-04T06:28:06.807572Z",
     "start_time": "2019-01-04T06:28:05.813574Z"
    }
   },
   "outputs": [],
   "source": [
    "show_df(\n",
    "    video_stats('hour', [{'id': hour, 'name': format_hour(hour)} for hour in hours]),\n",
    "    video_ordering)"
   ]
  },
  {
   "cell_type": "markdown",
   "metadata": {},
   "source": [
    "\n",
    "# Faces"
   ]
  },
  {
   "cell_type": "markdown",
   "metadata": {},
   "source": [
    "## Face validation"
   ]
  },
  {
   "cell_type": "code",
   "execution_count": null,
   "metadata": {
    "ExecuteTime": {
     "end_time": "2019-01-04T06:29:17.716773Z",
     "start_time": "2019-01-04T06:29:04.934002Z"
    }
   },
   "outputs": [],
   "source": [
    "base_face_stats = face_validation('All faces', lambda x: x)\n",
    "big_face_stats = face_validation(\n",
    "    'Faces height > 0.2', lambda qs: qs.annotate(height=F('bbox_y2') - F('bbox_y1')).filter(height__gte=0.2))"
   ]
  },
  {
   "cell_type": "code",
   "execution_count": null,
   "metadata": {
    "ExecuteTime": {
     "end_time": "2019-01-04T06:29:17.756679Z",
     "start_time": "2019-01-04T06:29:17.722209Z"
    }
   },
   "outputs": [],
   "source": [
    "shot_precision = 0.97\n",
    "shot_recall = 0.97\n",
    "\n",
    "def face_error_interval(n, face_stats):\n",
    "    (face_precision, face_recall, _) = face_stats\n",
    "    return [n * shot_precision * face_precision, n * (2 - shot_recall) * (2 - face_recall)]"
   ]
  },
  {
   "cell_type": "markdown",
   "metadata": {},
   "source": [
    "## All faces"
   ]
  },
  {
   "cell_type": "code",
   "execution_count": null,
   "metadata": {
    "ExecuteTime": {
     "end_time": "2019-01-04T06:34:40.225725Z",
     "start_time": "2019-01-04T06:34:40.198710Z"
    }
   },
   "outputs": [],
   "source": [
    "# print('Total faces: {}'.format(\n",
    "#      format_number(face_error_interval(faces.count(), base_face_stats[2]))))\n",
    "\n",
    "# total_duration = videos.agg(func.sum('duration')).collect()[0]['sum(duration)'] - \\\n",
    "#     commercials.agg(func.sum('duration')).collect()[0]['sum(duration)']\n",
    "# face_duration = faces.groupBy('frame_id') \\\n",
    "#     .agg(\n",
    "#         func.first('duration').alias('duration')\n",
    "#     ).agg(func.sum('duration')).collect()[0]['sum(duration)']\n",
    "# print('% of time a face is on screen: {:0.2f}'.format(100.0 * face_duration / total_duration))"
   ]
  },
  {
   "cell_type": "markdown",
   "metadata": {},
   "source": [
    "# Genders"
   ]
  },
  {
   "cell_type": "code",
   "execution_count": null,
   "metadata": {
    "ExecuteTime": {
     "end_time": "2019-01-04T06:34:43.086770Z",
     "start_time": "2019-01-04T06:34:42.430783Z"
    }
   },
   "outputs": [],
   "source": [
    "_, Cm = gender_validation('Gender w/ face height > 0.2', big_face_stats)\n",
    "\n",
    "def P(y, yhat):\n",
    "    d = {'M': 0, 'F': 1, 'U': 2}\n",
    "    return float(Cm[d[y]][d[yhat]]) / sum([Cm[i][d[yhat]] for i in d.values()])"
   ]
  },
  {
   "cell_type": "code",
   "execution_count": null,
   "metadata": {
    "ExecuteTime": {
     "end_time": "2019-01-04T06:35:54.666701Z",
     "start_time": "2019-01-04T06:35:54.580955Z"
    }
   },
   "outputs": [],
   "source": [
    "MALE = Gender.objects.get(name='M')\n",
    "FEMALE = Gender.objects.get(name='F')\n",
    "UNKNOWN = Gender.objects.get(name='U')\n",
    "gender_names = {g.id: g.name for g in Gender.objects.all()}\n",
    "\n",
    "def gender_stats(key, labels, min_dur=None, no_host=False, just_host=False):\n",
    "    df0 = denormed_faces\n",
    "    if no_host:\n",
    "        df0 = df0.where(df0.host_probability < 0.5)\n",
    "    if just_host:\n",
    "        df0 = df0.where(df0.host_probability > 0.5)\n",
    "        \n",
    "    if key == 'topic':        \n",
    "        raise Exception(\"TODO\")\n",
    "        df1 = df0.join(segment_links, df0.segment_id == segment_links.segment_id)\n",
    "        df2 = df1.join(things, segment_links.thing_id == things.id)\n",
    "        topic_type = ThingType.objects.get(name='topic').id\n",
    "        df3 = df2.where(things.type_id == topic_type).select(\n",
    "            *(['duration', 'channel_id', 'show_id', 'hour', 'week_day', 'gender_id'] +  \\\n",
    "              [things.id.alias('topic'), 'shot_id']))\n",
    "        full_df = df3\n",
    "    else:\n",
    "        full_df = df0\n",
    "        \n",
    "    groups = ([key] if key is not None else []) + ['gender_id']\n",
    "    rows = full_df.groupBy(*groups).agg(func.sum('duration')).collect()\n",
    "        \n",
    "    out_rows = []\n",
    "    for label in labels:\n",
    "        label_rows = {row.gender_id: row for row in rows if key is None or row[key] == label['id']}\n",
    "        print(label, len(label_rows))\n",
    "        if len(label_rows) < 2: continue\n",
    "        male_dur = int(label_rows[MALE.id]['sum(duration)'])\n",
    "        female_dur = int(label_rows[FEMALE.id]['sum(duration)'])\n",
    "        unknown_dur = int(label_rows[UNKNOWN.id]['sum(duration)']) if UNKNOWN.id in label_rows else 0\n",
    "        base_dur = male_dur + female_dur\n",
    "        if min_dur != None and base_dur < min_dur:\n",
    "            continue\n",
    "        out_rows.append({\n",
    "            key: label['name'],\n",
    "            'M': format_time(male_dur),\n",
    "            'F': format_time(female_dur),\n",
    "            'U': format_time(unknown_dur),\n",
    "            'base': format_time(base_dur),\n",
    "            'M%': int(100.0 * male_dur / base_dur),\n",
    "            'F%': int(100.0 * female_dur / base_dur),\n",
    "            'U%': int(100.0 * unknown_dur / (base_dur + unknown_dur)),\n",
    "            'Overlap': 0,\n",
    "        })\n",
    "    return out_rows\n",
    "\n",
    "gender_ordering = ['M', 'M%', 'F', 'F%']"
   ]
  },
  {
   "cell_type": "markdown",
   "metadata": {},
   "source": [
    "## All genders"
   ]
  },
  {
   "cell_type": "code",
   "execution_count": null,
   "metadata": {
    "ExecuteTime": {
     "end_time": "2019-01-04T06:35:58.402143Z",
     "start_time": "2019-01-04T06:35:56.247029Z"
    }
   },
   "outputs": [],
   "source": [
    "gender_screen_all = gender_stats(None, [{'id': 0, 'name': 'whole dataset'}])\n",
    "gender_screen_all_nh = gender_stats(None, [{'id': 0, 'name': 'whole dataset'}], \n",
    "                                               no_host=True)\n",
    "show_df(gender_screen_all, gender_ordering)"
   ]
  },
  {
   "cell_type": "markdown",
   "metadata": {},
   "source": [
    "## Gender by channel"
   ]
  },
  {
   "cell_type": "code",
   "execution_count": null,
   "metadata": {
    "ExecuteTime": {
     "end_time": "2019-01-04T06:38:15.105517Z",
     "start_time": "2019-01-04T06:37:55.366941Z"
    }
   },
   "outputs": [],
   "source": [
    "show_df(\n",
    "    gender_stats('channel_id', list(Channel.objects.values('id', 'name'))),\n",
    "    ['channel_id'] + gender_ordering)"
   ]
  },
  {
   "cell_type": "markdown",
   "metadata": {},
   "source": [
    "## Gender by show"
   ]
  },
  {
   "cell_type": "code",
   "execution_count": null,
   "metadata": {
    "ExecuteTime": {
     "end_time": "2019-01-04T06:39:00.587013Z",
     "start_time": "2019-01-04T06:38:28.244387Z"
    }
   },
   "outputs": [],
   "source": [
    "gender_screen_show = gender_stats('show_id', list(Show.objects.values('id', 'name')), min_dur=3600*250)\n",
    "# gender_screen_show_nh = gender_stats('show_id', list(Show.objects.values('id', 'name')), min_dur=3600*250, no_host=True)\n",
    "# gender_screen_show_jh = gender_stats('show_id', list(Show.objects.values('id', 'name')), min_dur=3600*50, just_host=True)\n",
    "show_df(gender_screen_show, ['show_id'] + gender_ordering)"
   ]
  },
  {
   "cell_type": "markdown",
   "metadata": {},
   "source": [
    "## Gender by canonical show"
   ]
  },
  {
   "cell_type": "code",
   "execution_count": null,
   "metadata": {
    "ExecuteTime": {
     "end_time": "2019-01-04T06:39:13.235276Z",
     "start_time": "2019-01-04T06:39:01.943701Z"
    }
   },
   "outputs": [],
   "source": [
    "gender_screen_canonical_show = gender_stats(\n",
    "    'canonical_show_id', \n",
    "    list(CanonicalShow.objects.values('id', 'name')), \n",
    "    min_dur=3600*250\n",
    ")\n",
    "# gender_screen_canonical_show_nh = gender_stats(\n",
    "#     'canonical_show_id', \n",
    "#     list(CanonicalShow.objects.values('id', 'name')), \n",
    "#     min_dur=3600*250, \n",
    "#     no_host=True\n",
    "# )\n",
    "# gender_screen_canonical_show_jh = gender_stats(\n",
    "#     'canonical_show_id', \n",
    "#     list(CanonicalShow.objects.values('id', 'name')), \n",
    "#     min_dur=3600*50, \n",
    "#     just_host=True\n",
    "# )\n",
    "show_df(gender_screen_canonical_show, ['canonical_show_id'] + gender_ordering)"
   ]
  },
  {
   "cell_type": "markdown",
   "metadata": {},
   "source": [
    "## Gender by time of day"
   ]
  },
  {
   "cell_type": "code",
   "execution_count": null,
   "metadata": {
    "ExecuteTime": {
     "end_time": "2018-12-29T18:22:46.983919Z",
     "start_time": "2018-12-29T18:20:04.845206Z"
    }
   },
   "outputs": [],
   "source": [
    "gender_screen_tod = gender_stats('hour', [{'id': hour, 'name': format_hour(hour)} for hour in hours])\n",
    "show_df(gender_screen_tod, ['hour'] + gender_ordering)   "
   ]
  },
  {
   "cell_type": "markdown",
   "metadata": {},
   "source": [
    "## Gender by day of week"
   ]
  },
  {
   "cell_type": "code",
   "execution_count": null,
   "metadata": {
    "ExecuteTime": {
     "end_time": "2018-12-29T18:23:58.538910Z",
     "start_time": "2018-12-29T18:22:46.989767Z"
    }
   },
   "outputs": [],
   "source": [
    "dotw = ['Monday', 'Tuesday', 'Wednesday', 'Thursday', 'Friday', 'Saturday', 'Sunday']\n",
    "show_df(\n",
    "    gender_stats('week_day', [{'id': i + 1, 'name': d} for i, d in enumerate(dotw)]),\n",
    "    ['week_day'] + gender_ordering)"
   ]
  },
  {
   "cell_type": "markdown",
   "metadata": {},
   "source": [
    "## Gender by topic"
   ]
  },
  {
   "cell_type": "code",
   "execution_count": null,
   "metadata": {
    "ExecuteTime": {
     "end_time": "2018-12-29T18:24:01.338296Z",
     "start_time": "2018-12-29T18:23:58.541367Z"
    }
   },
   "outputs": [],
   "source": [
    "segment_topics.groupBy('segment_id').agg(func.count('segment_id')).where('count(segment_id)== 1').count()"
   ]
  },
  {
   "cell_type": "code",
   "execution_count": null,
   "metadata": {
    "ExecuteTime": {
     "end_time": "2018-12-29T18:24:01.393849Z",
     "start_time": "2018-12-29T18:24:01.340368Z"
    }
   },
   "outputs": [],
   "source": [
    "gender_screen_topic = gender_stats(\n",
    "        'topic', [{'id': t.id, 'name': t.name} for t in Topic.objects.all()],\n",
    "        min_dur=3600*300)\n",
    "gender_screen_topic_nh = gender_multicount_stats(\n",
    "        'topic', [{'id': t.id, 'name': t.name} for t in Topic.objects.all()],\n",
    "        min_dur=3600*300, no_host=True)\n",
    "show_df(gender_screen_topic, ['topic'] + gender_ordering)"
   ]
  }
 ],
 "metadata": {
  "kernelspec": {
   "display_name": "Django Shell-Plus",
   "language": "python",
   "name": "django_extensions"
  },
  "language_info": {
   "codemirror_mode": {
    "name": "ipython",
    "version": 3
   },
   "file_extension": ".py",
   "mimetype": "text/x-python",
   "name": "python",
   "nbconvert_exporter": "python",
   "pygments_lexer": "ipython3",
   "version": "3.5.2"
  },
  "toc": {
   "nav_menu": {},
   "number_sections": true,
   "sideBar": true,
   "skip_h1_title": false,
   "toc_cell": true,
   "toc_position": {},
   "toc_section_display": "block",
   "toc_window_display": false
  }
 },
 "nbformat": 4,
 "nbformat_minor": 2
}
