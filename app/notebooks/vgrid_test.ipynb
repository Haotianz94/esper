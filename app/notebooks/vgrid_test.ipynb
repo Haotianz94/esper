{
 "cells": [
  {
   "cell_type": "code",
   "execution_count": null,
   "metadata": {
    "ExecuteTime": {
     "end_time": "2019-04-02T06:58:06.110818Z",
     "start_time": "2019-04-02T06:58:06.076870Z"
    }
   },
   "outputs": [],
   "source": [
    "from rekall.video_interval_collection_3d import VideoIntervalCollection3D\n",
    "from rekall.interval_set_3d import Interval3D, IntervalSet3D\n",
    "from vgrid_jupyter import VGridWidget\n",
    "from esper.widget import intervals_with_metadata\n",
    "from query.models import FaceGender"
   ]
  },
  {
   "cell_type": "code",
   "execution_count": null,
   "metadata": {
    "ExecuteTime": {
     "end_time": "2019-04-02T06:58:06.874657Z",
     "start_time": "2019-04-02T06:58:06.464470Z"
    }
   },
   "outputs": [],
   "source": [
    "video = Video.objects.get(id=1)"
   ]
  },
  {
   "cell_type": "code",
   "execution_count": null,
   "metadata": {
    "ExecuteTime": {
     "end_time": "2019-04-02T07:45:55.686576Z",
     "start_time": "2019-04-02T07:45:55.317416Z"
    }
   },
   "outputs": [],
   "source": [
    "facegender = list(FaceGender.objects.filter(face__frame__video=video).select_related('face', 'face__frame', 'gender'))\n",
    "GENDER_CATEGORY = 0\n",
    "gender_category = {\n",
    "    GENDER_CATEGORY: {g.id: g.name for g in Gender.objects.all()}\n",
    "}\n",
    "intervals = [\n",
    "    Interval3D(\n",
    "        t=(f.face.frame.number / video.fps, (f.face.frame.number + 90) / video.fps),\n",
    "        x=(f.face.bbox_x1, f.face.bbox_x2),\n",
    "        y=(f.face.bbox_y1, f.face.bbox_y2),\n",
    "        payload={'metadata': {\n",
    "            'gender': {\n",
    "                'type': 'Metadata_Categorical',\n",
    "                'args': {\n",
    "                    'category_type': GENDER_CATEGORY,\n",
    "                    'category': f.gender.id\n",
    "                }\n",
    "            }\n",
    "        }, 'draw_type': {\n",
    "            'type': 'DrawType_Bbox'\n",
    "        }}\n",
    "    )\n",
    "    for f in facegender]\n",
    "vgrid_intervals = {'video_id': 1, 'interval_dict': {'test': IntervalSet3D(intervals).to_json()}}"
   ]
  },
  {
   "cell_type": "code",
   "execution_count": null,
   "metadata": {
    "ExecuteTime": {
     "end_time": "2019-04-02T07:51:15.624732Z",
     "start_time": "2019-04-02T07:51:15.104011Z"
    }
   },
   "outputs": [],
   "source": [
    "gender_colors = {\n",
    "    Gender.objects.get(name='M').id: 'cyan',\n",
    "    Gender.objects.get(name='F').id: 'red',\n",
    "    Gender.objects.get(name='U').id: 'yellow',\n",
    "}\n",
    "\n",
    "VGridWidget(\n",
    "    interval_blocks=[vgrid_intervals], \n",
    "    database={\n",
    "        'tables': {            \n",
    "            'videos': list(Video.objects.filter(id=video.id).values()),\n",
    "            'gender': [{'color': gender_colors[g['id']], **g} for g in Gender.objects.all().values()]\n",
    "        },\n",
    "        'id_to_name': {GENDER_CATEGORY: 'gender'}\n",
    "    })"
   ]
  }
 ],
 "metadata": {
  "kernelspec": {
   "display_name": "Django Shell-Plus",
   "language": "python",
   "name": "django_extensions"
  },
  "language_info": {
   "codemirror_mode": {
    "name": "ipython",
    "version": 3
   },
   "file_extension": ".py",
   "mimetype": "text/x-python",
   "name": "python",
   "nbconvert_exporter": "python",
   "pygments_lexer": "ipython3",
   "version": "3.5.2"
  },
  "toc": {
   "nav_menu": {},
   "number_sections": true,
   "sideBar": true,
   "skip_h1_title": false,
   "toc_cell": false,
   "toc_position": {},
   "toc_section_display": "block",
   "toc_window_display": false
  }
 },
 "nbformat": 4,
 "nbformat_minor": 2
}
