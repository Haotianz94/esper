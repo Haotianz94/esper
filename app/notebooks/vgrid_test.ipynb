{
 "cells": [
  {
   "cell_type": "code",
   "execution_count": null,
   "metadata": {
    "ExecuteTime": {
     "end_time": "2019-04-04T00:05:51.151134Z",
     "start_time": "2019-04-04T00:05:51.103730Z"
    }
   },
   "outputs": [],
   "source": [
    "from rekall.video_interval_collection_3d import VideoIntervalCollection3D\n",
    "from rekall.interval_set_3d import Interval3D, IntervalSet3D\n",
    "from vgrid_jupyter import VGridWidget\n",
    "#from esper.widget import intervals_with_metadata\n",
    "from query.models import FaceGender\n",
    "\n",
    "\n",
    "def get_fps_map(vids):\n",
    "    from query.models import Video\n",
    "    vs = Video.objects.filter(id__in=vids)\n",
    "    return {v.id: v.fps for v in vs}\n",
    "\n",
    "def frame_second_conversion(c, mode='f2s'):\n",
    "    from rekall.domain_interval_collection import DomainIntervalCollection\n",
    "    from rekall.interval_set_3d import Interval3D\n",
    "    fps_map = get_fps_map(set(c.get_grouped_intervals().keys()))\n",
    "    \n",
    "    def second_to_frame(fps):\n",
    "        def map_fn(intrvl):\n",
    "            i2 = intrvl.copy()\n",
    "            t1,t2 = intrvl.t\n",
    "            i2.t = (int(t1*fps), int(t2*fps))\n",
    "            return i2\n",
    "        return map_fn\n",
    "    \n",
    "    def frame_to_second(fps):\n",
    "        def map_fn(intrvl):\n",
    "            i2 = intrvl.copy()\n",
    "            t1,t2 = intrvl.t\n",
    "            i2.t = (int(t1/fps), int(t2/fps))\n",
    "            return i2\n",
    "        return map_fn\n",
    "    \n",
    "    if mode=='f2s':\n",
    "        fn = frame_to_second\n",
    "    if mode=='s2f':\n",
    "        fn = second_to_frame\n",
    "    output = {}\n",
    "    for vid, intervals in c.get_grouped_intervals().items():\n",
    "        output[vid] = intervals.map(fn(fps_map[vid]))\n",
    "    return DomainIntervalCollection(output)\n",
    "\n",
    "def frame_to_second_collection(c):\n",
    "    return frame_second_conversion(c, 'f2s')\n",
    "\n",
    "def second_to_frame_collection(c):\n",
    "    return frame_second_conversion(c, 's2f')"
   ]
  },
  {
   "cell_type": "code",
   "execution_count": null,
   "metadata": {
    "ExecuteTime": {
     "end_time": "2019-04-04T00:05:51.278967Z",
     "start_time": "2019-04-04T00:05:51.254838Z"
    }
   },
   "outputs": [],
   "source": [
    "video = Video.objects.get(id=1)"
   ]
  },
  {
   "cell_type": "code",
   "execution_count": null,
   "metadata": {
    "ExecuteTime": {
     "end_time": "2019-04-04T00:05:51.974738Z",
     "start_time": "2019-04-04T00:05:51.656209Z"
    }
   },
   "outputs": [],
   "source": [
    "facegender = list(FaceGender.objects.filter(face__frame__video=video).select_related('face', 'face__frame', 'gender'))\n",
    "intervals = [\n",
    "    Interval3D(\n",
    "        t=(f.face.frame.number / video.fps, (f.face.frame.number + 90) / video.fps),\n",
    "        x=(f.face.bbox_x1, f.face.bbox_x2),\n",
    "        y=(f.face.bbox_y1, f.face.bbox_y2),\n",
    "        payload={'metadata': {\n",
    "            'gender': {\n",
    "                'type': 'Metadata_Categorical',\n",
    "                'args': {\n",
    "                    'category_type': 'gender',\n",
    "                    'category': f.gender.id\n",
    "                }\n",
    "            }\n",
    "        }, 'draw_type': {\n",
    "            'type': 'DrawType_Bbox'\n",
    "        }}\n",
    "    )\n",
    "    for f in facegender]\n",
    "\n",
    "print(len(intervals))\n",
    "vgrid_intervals = {'video_id': 1, 'interval_dict': {'test': IntervalSet3D(intervals).to_json()}}"
   ]
  },
  {
   "cell_type": "code",
   "execution_count": null,
   "metadata": {
    "ExecuteTime": {
     "end_time": "2019-04-04T00:05:54.983494Z",
     "start_time": "2019-04-04T00:05:54.374469Z"
    }
   },
   "outputs": [],
   "source": [
    "gender_colors = {\n",
    "    Gender.objects.get(name='M').id: 'cyan',\n",
    "    Gender.objects.get(name='F').id: 'red',\n",
    "    Gender.objects.get(name='U').id: 'yellow',\n",
    "}\n",
    "\n",
    "VGridWidget(\n",
    "    interval_blocks=[vgrid_intervals], \n",
    "    database={\n",
    "        'videos': list(Video.objects.filter(id=video.id).values()),\n",
    "        'gender': [{'color': gender_colors[g['id']], **g} for g in Gender.objects.all().values()]\n",
    "    })"
   ]
  },
  {
   "cell_type": "code",
   "execution_count": null,
   "metadata": {
    "ExecuteTime": {
     "end_time": "2019-04-04T00:05:42.319037Z",
     "start_time": "2019-04-04T00:05:41.255322Z"
    }
   },
   "outputs": [],
   "source": [
    "from rekall.domain_interval_collection import DomainIntervalCollection\n",
    "from rekall.interval_set_3d import IntervalSet3D, Interval3D\n",
    "from rekall.vgrid_utils.vblocks_builder import VideoVBlocksBuilder, VideoTrackBuilder, DrawType_Bbox, Metadata_Categorical\n",
    "from django.db.models import IntegerField, F\n",
    "from django.db.models.functions import Cast\n",
    "\n",
    "video = Video.objects.get(id=1)\n",
    "qs = FaceGender.objects.filter(face__frame__video=video).select_related('face', 'face__frame', 'gender')\n",
    "\n",
    "intervals = DomainIntervalCollection.from_django_qs(qs, schema={\n",
    "    'domain': 'face.frame.video_id',\n",
    "    't1': 'face.frame.number',\n",
    "    't2': 'face.frame.number',\n",
    "    'x1': 'face.bbox_x1', 'x2': 'face.bbox_x2', 'y1':'face.bbox_y1', 'y2':'face.bbox_y2',\n",
    "    'payload': 'gender_id',\n",
    "})\n",
    "intervals = frame_to_second_collection(intervals).map(lambda i: Interval3D((i.t[0], i.t[1]+3), i.x, i.y, i.payload))\n",
    "\n",
    "blocks = VideoVBlocksBuilder().add_track(\n",
    "    VideoTrackBuilder('test', intervals\n",
    "        ).set_draw_type(DrawType_Bbox()\n",
    "        ).add_metadata('gender', Metadata_Categorical('gender'))\n",
    "    ).build()\n",
    "\n",
    "gender_colors = {\n",
    "    Gender.objects.get(name='M').id: 'cyan',\n",
    "    Gender.objects.get(name='F').id: 'red',\n",
    "    Gender.objects.get(name='U').id: 'yellow',\n",
    "}\n",
    "\n",
    "VGridWidget(\n",
    "    interval_blocks=blocks, \n",
    "    database={\n",
    "        'videos': list(Video.objects.filter(id=video.id).values()),\n",
    "        'gender': [{'color': gender_colors[g['id']], **g} for g in Gender.objects.all().values()]\n",
    "    })\n",
    "\n"
   ]
  },
  {
   "cell_type": "code",
   "execution_count": null,
   "metadata": {},
   "outputs": [],
   "source": []
  }
 ],
 "metadata": {
  "kernelspec": {
   "display_name": "Django Shell-Plus",
   "language": "python",
   "name": "django_extensions"
  },
  "language_info": {
   "codemirror_mode": {
    "name": "ipython",
    "version": 3
   },
   "file_extension": ".py",
   "mimetype": "text/x-python",
   "name": "python",
   "nbconvert_exporter": "python",
   "pygments_lexer": "ipython3",
   "version": "3.5.2"
  },
  "toc": {
   "nav_menu": {},
   "number_sections": true,
   "sideBar": true,
   "skip_h1_title": false,
   "toc_cell": false,
   "toc_position": {},
   "toc_section_display": "block",
   "toc_window_display": false
  }
 },
 "nbformat": 4,
 "nbformat_minor": 2
}
