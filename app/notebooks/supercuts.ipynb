{
 "cells": [
  {
   "cell_type": "markdown",
   "metadata": {
    "toc": true
   },
   "source": [
    "<h1>Table of Contents<span class=\"tocSkip\"></span></h1>\n",
    "<div class=\"toc\" style=\"margin-top: 1em;\"><ul class=\"toc-item\"><li><span><a href=\"#Single-person-speak-one-phrase\" data-toc-modified-id=\"Single-person-speak-one-phrase-1\"><span class=\"toc-item-num\">1&nbsp;&nbsp;</span>Single person speak one phrase</a></span></li><li><span><a href=\"#Same-person-sing-a-song\" data-toc-modified-id=\"Same-person-sing-a-song-2\"><span class=\"toc-item-num\">2&nbsp;&nbsp;</span>Same person sing a song</a></span></li><li><span><a href=\"#Live-motage\" data-toc-modified-id=\"Live-motage-3\"><span class=\"toc-item-num\">3&nbsp;&nbsp;</span>Live motage</a></span></li><li><span><a href=\"#Interview\" data-toc-modified-id=\"Interview-4\"><span class=\"toc-item-num\">4&nbsp;&nbsp;</span>Interview</a></span></li><li><span><a href=\"#Preprocess-lyrics\" data-toc-modified-id=\"Preprocess-lyrics-5\"><span class=\"toc-item-num\">5&nbsp;&nbsp;</span>Preprocess lyrics</a></span></li></ul></div>"
   ]
  },
  {
   "cell_type": "code",
   "execution_count": null,
   "metadata": {
    "ExecuteTime": {
     "end_time": "2019-01-28T23:56:21.514588Z",
     "start_time": "2019-01-28T23:55:22.372658Z"
    },
    "scrolled": true
   },
   "outputs": [],
   "source": [
    "from esper.supercut import *"
   ]
  },
  {
   "cell_type": "markdown",
   "metadata": {},
   "source": [
    "# Single person speak one phrase"
   ]
  },
  {
   "cell_type": "code",
   "execution_count": null,
   "metadata": {
    "ExecuteTime": {
     "end_time": "2019-01-14T02:17:51.266526Z",
     "start_time": "2019-01-14T02:07:38.713765Z"
    }
   },
   "outputs": [],
   "source": [
    "person_intrvlcol = get_person_intrvlcol(\"Donald Trump\", face_size=0.2, stride_face=False, probability=0.9)"
   ]
  },
  {
   "cell_type": "code",
   "execution_count": null,
   "metadata": {
    "ExecuteTime": {
     "end_time": "2019-01-14T02:28:07.908099Z",
     "start_time": "2019-01-14T02:27:56.222676Z"
    },
    "scrolled": true
   },
   "outputs": [],
   "source": [
    "phrase = \"FAKE NEWS\" #\"CROOKED HILLARY\"\n",
    "supercut_candidates = get_person_phrase_intervals(person_intrvlcol, phrase, num_face=1)"
   ]
  },
  {
   "cell_type": "code",
   "execution_count": null,
   "metadata": {
    "ExecuteTime": {
     "end_time": "2019-01-14T02:34:25.905122Z",
     "start_time": "2019-01-14T02:34:25.851201Z"
    }
   },
   "outputs": [],
   "source": [
    "supercut_intervals = auto_select_candidates(supercut_candidates, num_sample=30, filter='random') "
   ]
  },
  {
   "cell_type": "code",
   "execution_count": null,
   "metadata": {
    "ExecuteTime": {
     "end_time": "2019-01-14T02:35:07.455960Z",
     "start_time": "2019-01-14T02:34:40.282577Z"
    },
    "scrolled": true
   },
   "outputs": [],
   "source": [
    "stitch_video_temporal(supercut_intervals, out_path='/app/result/supercut/DT-fake_news.mp4')"
   ]
  },
  {
   "cell_type": "code",
   "execution_count": null,
   "metadata": {
    "ExecuteTime": {
     "end_time": "2019-01-03T06:16:12.599404Z",
     "start_time": "2019-01-03T06:16:12.465383Z"
    },
    "scrolled": true
   },
   "outputs": [],
   "source": [
    "# Display the supercut intervals in Esper widget for debugging\n",
    "supercut_intrvllists = {}\n",
    "for video, start, end in supercut_intervals:\n",
    "    supercut_intrvllists[video] = IntervalList([(start, end, 0)])\n",
    "\n",
    "esper_widget(intrvllists_to_result(supercut_intrvllists), video_order=[video for video, start, end in supercut_intervals])"
   ]
  },
  {
   "cell_type": "markdown",
   "metadata": {
    "ExecuteTime": {
     "end_time": "2019-01-04T00:28:45.814504Z",
     "start_time": "2019-01-04T00:28:45.473243Z"
    }
   },
   "source": [
    "# Same person sing a song"
   ]
  },
  {
   "cell_type": "code",
   "execution_count": null,
   "metadata": {
    "ExecuteTime": {
     "end_time": "2019-01-29T00:14:27.256014Z",
     "start_time": "2019-01-29T00:07:09.154013Z"
    }
   },
   "outputs": [],
   "source": [
    "person_intrvlcol = get_person_intrvlcol(\"Anderson Cooper\", face_size=0.2, stride_face=False, probability=0.9)"
   ]
  },
  {
   "cell_type": "code",
   "execution_count": null,
   "metadata": {
    "ExecuteTime": {
     "end_time": "2019-01-29T00:38:54.909937Z",
     "start_time": "2019-01-29T00:38:54.785431Z"
    },
    "scrolled": true
   },
   "outputs": [],
   "source": [
    "test = SinglePersonSing(\"Anderson Cooper\", lyric_path='/app/data/synthesis/happy_birthday.srt', \n",
    "                       person_intrvlcol=person_intrvlcol)"
   ]
  },
  {
   "cell_type": "code",
   "execution_count": null,
   "metadata": {
    "ExecuteTime": {
     "end_time": "2019-01-29T00:43:51.966813Z",
     "start_time": "2019-01-29T00:41:00.627115Z"
    },
    "scrolled": true
   },
   "outputs": [],
   "source": [
    "test.search_candidates(num_face = 1)"
   ]
  },
  {
   "cell_type": "code",
   "execution_count": null,
   "metadata": {
    "ExecuteTime": {
     "end_time": "2019-01-29T00:48:17.939124Z",
     "start_time": "2019-01-29T00:48:17.894013Z"
    },
    "scrolled": true
   },
   "outputs": [],
   "source": [
    "test.select_candidates(manual=False, to_select=None)"
   ]
  },
  {
   "cell_type": "code",
   "execution_count": null,
   "metadata": {
    "ExecuteTime": {
     "end_time": "2019-01-29T00:49:37.941233Z",
     "start_time": "2019-01-29T00:48:26.925394Z"
    },
    "scrolled": true
   },
   "outputs": [],
   "source": [
    "test.make_supercuts(out_path='/app/result/supercut/AC-happy_birthday-auto.mp4', \n",
    "                    align_mode='phrase', add_break=True, cache=True)"
   ]
  },
  {
   "cell_type": "code",
   "execution_count": null,
   "metadata": {
    "ExecuteTime": {
     "end_time": "2019-01-29T00:52:11.666634Z",
     "start_time": "2019-01-29T00:52:10.326517Z"
    },
    "scrolled": true
   },
   "outputs": [],
   "source": [
    "add_bgm('/app/result/supercut/AC-happy_birthday-auto.mp4', \n",
    "        '/app/data/synthesis/happy_birthday_slow.wav',\n",
    "       '/app/result/supercut/AC-happy_birthday-mix.mp4',\n",
    "       bgm_decrease=20)"
   ]
  },
  {
   "cell_type": "markdown",
   "metadata": {},
   "source": [
    "# Live motage"
   ]
  },
  {
   "cell_type": "code",
   "execution_count": null,
   "metadata": {
    "ExecuteTime": {
     "end_time": "2019-01-14T19:55:35.162966Z",
     "start_time": "2019-01-14T19:55:23.937488Z"
    },
    "scrolled": true
   },
   "outputs": [],
   "source": [
    "phrase = \"Happy New Year\"\n",
    "supercut_intervals_all = multi_person_one_phrase(phrase, filter_gender='F', filter_haircolor=None, limit=250)"
   ]
  },
  {
   "cell_type": "code",
   "execution_count": null,
   "metadata": {
    "ExecuteTime": {
     "end_time": "2019-01-14T19:50:23.710685Z",
     "start_time": "2019-01-14T19:50:23.687602Z"
    }
   },
   "outputs": [],
   "source": [
    "random.shuffle(supercut_intervals_all)"
   ]
  },
  {
   "cell_type": "code",
   "execution_count": null,
   "metadata": {
    "ExecuteTime": {
     "end_time": "2019-01-14T06:21:21.263472Z",
     "start_time": "2019-01-14T06:21:21.207896Z"
    }
   },
   "outputs": [],
   "source": [
    "supercut_intervals = auto_select_candidates(supercut_intervals_all, num_sample=100, range=(0.9, 1.1), filter='random')"
   ]
  },
  {
   "cell_type": "code",
   "execution_count": null,
   "metadata": {
    "ExecuteTime": {
     "end_time": "2019-01-14T19:55:48.943004Z",
     "start_time": "2019-01-14T19:55:48.779388Z"
    },
    "scrolled": false
   },
   "outputs": [],
   "source": [
    "manual_select_candidates(interval2result(supercut_intervals_all))"
   ]
  },
  {
   "cell_type": "code",
   "execution_count": null,
   "metadata": {
    "ExecuteTime": {
     "end_time": "2019-01-14T20:06:51.864097Z",
     "start_time": "2019-01-14T20:06:51.832742Z"
    }
   },
   "outputs": [],
   "source": [
    "supercut_intervals = []\n",
    "for i in np.arange(8):\n",
    "    supercut_intervals += interval_male[i*4: (i+1)*4]\n",
    "    supercut_intervals += interval_female[i*4: (i+1)*4]\n",
    "len(supercut_intervals)"
   ]
  },
  {
   "cell_type": "code",
   "execution_count": null,
   "metadata": {
    "ExecuteTime": {
     "end_time": "2019-01-14T20:07:08.618898Z",
     "start_time": "2019-01-14T20:06:54.270311Z"
    }
   },
   "outputs": [],
   "source": [
    "stitch_video_temporal(supercut_intervals, out_path='/app/result/supercut/happynewyear.mp4')"
   ]
  },
  {
   "cell_type": "code",
   "execution_count": null,
   "metadata": {
    "ExecuteTime": {
     "end_time": "2019-01-14T11:36:17.830366Z",
     "start_time": "2019-01-14T11:36:17.807029Z"
    }
   },
   "outputs": [],
   "source": [
    "video_path = '/app/result/montage/test_video.avi'\n",
    "audio_path = '/app/result/montage/test_audio.wav'"
   ]
  },
  {
   "cell_type": "code",
   "execution_count": null,
   "metadata": {
    "ExecuteTime": {
     "end_time": "2019-01-14T20:07:34.893638Z",
     "start_time": "2019-01-14T20:07:08.623067Z"
    },
    "scrolled": true
   },
   "outputs": [],
   "source": [
    "stitch_video_spatial(supercut_intervals, out_path=video_path, align=False, \n",
    "                     width=1920, num_cols=8, target_height = 1920 // 8 * 9 // 16)"
   ]
  },
  {
   "cell_type": "code",
   "execution_count": null,
   "metadata": {
    "ExecuteTime": {
     "end_time": "2019-01-14T20:07:48.355695Z",
     "start_time": "2019-01-14T20:07:34.896261Z"
    },
    "scrolled": true
   },
   "outputs": [],
   "source": [
    "mix_audio(supercut_intervals, out_path=audio_path, decrease_volume=7, align=False, dilation=3)"
   ]
  },
  {
   "cell_type": "code",
   "execution_count": null,
   "metadata": {
    "ExecuteTime": {
     "end_time": "2019-01-14T20:07:49.439622Z",
     "start_time": "2019-01-14T20:07:48.359116Z"
    }
   },
   "outputs": [],
   "source": [
    "concat_video_audio(video_path, audio_path, '/app/result/montage/happy_new_year-final.mp4')"
   ]
  },
  {
   "cell_type": "code",
   "execution_count": null,
   "metadata": {
    "ExecuteTime": {
     "end_time": "2019-01-04T23:33:30.636112Z",
     "start_time": "2019-01-04T23:33:30.548227Z"
    },
    "scrolled": true
   },
   "outputs": [],
   "source": [
    "# Display the supercut intervals in Esper widget for debugging\n",
    "supercut_intrvllists = {}\n",
    "for video, start, end, duration in supercut_intervals:\n",
    "    supercut_intrvllists[video] = IntervalList([(start, end, 0)])\n",
    "result = intrvllists_to_result(supercut_intrvllists)\n",
    "\n",
    "# esper_widget(intrvllists_to_result(phrase_intrvlcol.get_allintervals()))"
   ]
  },
  {
   "cell_type": "markdown",
   "metadata": {},
   "source": [
    "# Interview "
   ]
  },
  {
   "cell_type": "code",
   "execution_count": null,
   "metadata": {},
   "outputs": [],
   "source": [
    "guest_list = ['Ted Cruz', 'John Kasich', 'Marco Rubio', 'Ben Carson', 'Jeb Bush',\n",
    "'Jim Gilmore', 'Chris Christie', 'Carly Fiorina', 'Rick Santorum', 'Rand Paul', 'Mike Huckabee',\n",
    "'Bernie Sanders', 'Lincoln Chafee', 'Martin O’Malley', 'Jim Webb', \n",
    "'Donald Trump', 'Barack Obama', 'Hillary Clinton']"
   ]
  },
  {
   "cell_type": "code",
   "execution_count": null,
   "metadata": {},
   "outputs": [],
   "source": [
    "supercut_intervals_all = []\n",
    "cnt = 0\n",
    "for person_name in guest_list:\n",
    "    print(person_name)\n",
    "    _, _, _, person_with_host = load_interview(person_name, suffix='final')\n",
    "    supercut_intervals = intrvlcol2list(intrvlcol_second2frame(person_with_host))\n",
    "    supercut_intervals = [i for i in supercut_intervals if i[-1] > 20]\n",
    "    print(cnt / 50)\n",
    "    cnt += len(supercut_intervals)\n",
    "    supercut_intervals_all += supercut_intervals"
   ]
  },
  {
   "cell_type": "code",
   "execution_count": null,
   "metadata": {},
   "outputs": [],
   "source": [
    "supercut_intervals = auto_select_candidates(supercut_intervals_all, num_sample=100, filter='random')"
   ]
  },
  {
   "cell_type": "code",
   "execution_count": null,
   "metadata": {},
   "outputs": [],
   "source": [
    "manual_select_candidates(interval2result(supercut_intervals_all))"
   ]
  },
  {
   "cell_type": "code",
   "execution_count": null,
   "metadata": {},
   "outputs": [],
   "source": [
    "supercut_intervals = [supercut_intervals_all[i] for i in manual_select[:100]]"
   ]
  },
  {
   "cell_type": "code",
   "execution_count": null,
   "metadata": {},
   "outputs": [],
   "source": [
    "video_path = '/app/result/montage/test_video2.avi'\n",
    "audio_path = '/app/result/montage/test_audio2.wav'"
   ]
  },
  {
   "cell_type": "code",
   "execution_count": null,
   "metadata": {},
   "outputs": [],
   "source": [
    "stitch_video_spatial(supercut_intervals, out_path=video_path, align=False, \n",
    "                     width=1920, num_cols=10, target_height = 1920 // 10 * 9 // 16)"
   ]
  },
  {
   "cell_type": "code",
   "execution_count": null,
   "metadata": {},
   "outputs": [],
   "source": [
    "mix_audio(supercut_intervals, out_path=audio_path, decrease_volume=10, align=False, dilation=3)"
   ]
  },
  {
   "cell_type": "code",
   "execution_count": null,
   "metadata": {},
   "outputs": [],
   "source": [
    "concat_video_audio(video_path, audio_path, '/app/result/montage/interview.mp4')"
   ]
  },
  {
   "cell_type": "markdown",
   "metadata": {},
   "source": [
    "# Preprocess lyrics"
   ]
  },
  {
   "cell_type": "code",
   "execution_count": null,
   "metadata": {
    "ExecuteTime": {
     "end_time": "2019-01-12T18:52:21.870640Z",
     "start_time": "2019-01-12T18:52:20.565834Z"
    }
   },
   "outputs": [],
   "source": [
    "audio = AudioSegment.from_file('/app/data/synthesis/happy_birthday.mp3', format=\"mp3\")"
   ]
  },
  {
   "cell_type": "code",
   "execution_count": null,
   "metadata": {
    "ExecuteTime": {
     "end_time": "2019-01-12T18:52:23.906389Z",
     "start_time": "2019-01-12T18:52:23.750269Z"
    }
   },
   "outputs": [],
   "source": [
    "# cut audio\n",
    "audio2 = audio[10000:]\n",
    "audio2.export('/app/data/synthesis/happy_birthday.wav', format=\"wav\")"
   ]
  },
  {
   "cell_type": "code",
   "execution_count": null,
   "metadata": {
    "ExecuteTime": {
     "end_time": "2019-01-06T23:41:38.506754Z",
     "start_time": "2019-01-06T23:41:37.469024Z"
    },
    "scrolled": true
   },
   "outputs": [],
   "source": [
    "# speed change\n",
    "cmd = 'ffmpeg -y -i {} -filter:a \"atempo={}\" -vn {}'.format('/app/data/synthesis/happy_birthday.mp3', \n",
    "                                                         0.75, \n",
    "                                                         '/app/data/synthesis/happy_birthday_slow.wav')\n",
    "os.system(cmd)"
   ]
  }
 ],
 "metadata": {
  "kernelspec": {
   "display_name": "Django Shell-Plus",
   "language": "python",
   "name": "django_extensions"
  },
  "language_info": {
   "codemirror_mode": {
    "name": "ipython",
    "version": 3
   },
   "file_extension": ".py",
   "mimetype": "text/x-python",
   "name": "python",
   "nbconvert_exporter": "python",
   "pygments_lexer": "ipython3",
   "version": "3.5.2"
  },
  "toc": {
   "nav_menu": {},
   "number_sections": true,
   "sideBar": false,
   "skip_h1_title": false,
   "toc_cell": true,
   "toc_position": {},
   "toc_section_display": "block",
   "toc_window_display": false
  }
 },
 "nbformat": 4,
 "nbformat_minor": 2
}
