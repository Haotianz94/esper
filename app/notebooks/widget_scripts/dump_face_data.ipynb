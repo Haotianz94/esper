{
 "cells": [
  {
   "cell_type": "markdown",
   "metadata": {
    "toc": true
   },
   "source": [
    "<h1>Table of Contents<span class=\"tocSkip\"></span></h1>\n",
    "<div class=\"toc\" style=\"margin-top: 1em;\"><ul class=\"toc-item\"></ul></div>"
   ]
  },
  {
   "cell_type": "code",
   "execution_count": null,
   "metadata": {
    "ExecuteTime": {
     "end_time": "2018-11-13T18:34:17.842254Z",
     "start_time": "2018-11-13T18:34:10.229701Z"
    }
   },
   "outputs": [],
   "source": [
    "from esper.widget import *\n",
    "from esper.prelude import *\n",
    "from esper.spark_util import *\n",
    "\n",
    "import pyspark.sql.functions as func\n",
    "from collections import defaultdict\n",
    "import random\n",
    "import pickle\n",
    "import json\n",
    "from datetime import datetime\n",
    "from pytz import timezone\n",
    "from pathlib import Path"
   ]
  },
  {
   "cell_type": "code",
   "execution_count": null,
   "metadata": {
    "ExecuteTime": {
     "end_time": "2018-11-13T05:02:40.500273Z",
     "start_time": "2018-11-13T05:02:40.468882Z"
    }
   },
   "outputs": [],
   "source": [
    "OVERWRITE = True"
   ]
  },
  {
   "cell_type": "code",
   "execution_count": null,
   "metadata": {
    "ExecuteTime": {
     "end_time": "2018-11-13T05:10:45.539256Z",
     "start_time": "2018-11-13T05:02:40.503348Z"
    }
   },
   "outputs": [],
   "source": [
    "face_id_to_male_prob = {}\n",
    "for f in get_face_genders().select('face_id', 'male_probability').collect():\n",
    "    face_id_to_male_prob[f['face_id']] = f['male_probability']"
   ]
  },
  {
   "cell_type": "code",
   "execution_count": null,
   "metadata": {
    "ExecuteTime": {
     "end_time": "2018-11-13T05:27:14.780172Z",
     "start_time": "2018-11-13T05:10:45.542011Z"
    }
   },
   "outputs": [],
   "source": [
    "face_id_to_info = {}\n",
    "for f in get_faces().select(\n",
    "    'id', 'bbox_x1', 'bbox_x2', 'bbox_y1', 'bbox_y2',\n",
    "    'video_id', 'channel_id', 'show_id', 'canonical_show_id', 'in_commercial'\n",
    ").collect():\n",
    "    face_id_to_info[f['id']] = (\n",
    "        f['bbox_x1'], f['bbox_x2'], f['bbox_y1'], f['bbox_y2'],\n",
    "        f['video_id'], f['channel_id'], f['show_id'], f['canonical_show_id'], f['in_commercial'],\n",
    "        face_id_to_male_prob.get(f['id'], 0.5),\n",
    "    )"
   ]
  },
  {
   "cell_type": "code",
   "execution_count": null,
   "metadata": {
    "ExecuteTime": {
     "end_time": "2018-11-13T05:28:05.878981Z",
     "start_time": "2018-11-13T05:27:14.783617Z"
    }
   },
   "outputs": [],
   "source": [
    "FACE_TABLE_PATH = 'widget_data/face_table.pkl'\n",
    "if not OVERWRITE and os.path.exists(FACE_TABLE_PATH):\n",
    "    raise Exception('File exists!')\n",
    "    \n",
    "with open(FACE_TABLE_PATH, 'wb') as f:\n",
    "    pickle.dump(face_id_to_info, f) "
   ]
  },
  {
   "cell_type": "code",
   "execution_count": null,
   "metadata": {
    "ExecuteTime": {
     "end_time": "2018-11-13T18:35:20.506715Z",
     "start_time": "2018-11-13T18:34:44.584795Z"
    }
   },
   "outputs": [],
   "source": [
    "FACE_TABLE_PATH = 'widget_data/face_table.pkl'\n",
    "with open(FACE_TABLE_PATH, 'rb') as f:\n",
    "    face_id_to_info = pickle.load(f) "
   ]
  },
  {
   "cell_type": "code",
   "execution_count": null,
   "metadata": {
    "ExecuteTime": {
     "end_time": "2018-11-13T18:36:24.144183Z",
     "start_time": "2018-11-13T18:36:18.590311Z"
    }
   },
   "outputs": [],
   "source": [
    "count = 0\n",
    "for k, v in face_id_to_info.items():\n",
    "    count += 1"
   ]
  },
  {
   "cell_type": "code",
   "execution_count": null,
   "metadata": {},
   "outputs": [],
   "source": []
  }
 ],
 "metadata": {
  "kernelspec": {
   "display_name": "Django Shell-Plus",
   "language": "python",
   "name": "django_extensions"
  },
  "language_info": {
   "codemirror_mode": {
    "name": "ipython",
    "version": 3
   },
   "file_extension": ".py",
   "mimetype": "text/x-python",
   "name": "python",
   "nbconvert_exporter": "python",
   "pygments_lexer": "ipython3",
   "version": "3.5.2"
  },
  "toc": {
   "nav_menu": {},
   "number_sections": true,
   "sideBar": false,
   "skip_h1_title": false,
   "toc_cell": true,
   "toc_position": {},
   "toc_section_display": "block",
   "toc_window_display": false
  }
 },
 "nbformat": 4,
 "nbformat_minor": 2
}
