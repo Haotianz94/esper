{
 "cells": [
  {
   "cell_type": "markdown",
   "metadata": {
    "toc": true
   },
   "source": [
    "<h1>Table of Contents<span class=\"tocSkip\"></span></h1>\n",
    "<div class=\"toc\" style=\"margin-top: 1em;\"><ul class=\"toc-item\"></ul></div>"
   ]
  },
  {
   "cell_type": "code",
   "execution_count": null,
   "metadata": {
    "ExecuteTime": {
     "end_time": "2018-10-24T22:21:04.669334Z",
     "start_time": "2018-10-24T22:21:00.213036Z"
    }
   },
   "outputs": [],
   "source": [
    "from esper.widget import *\n",
    "from esper.prelude import *\n",
    "from esper.spark_util import *\n",
    "from esper.major_canonical_shows import MAJOR_CANONICAL_SHOWS\n",
    "\n",
    "import pyspark.sql.functions as func\n",
    "from collections import defaultdict\n",
    "import random\n",
    "import pickle\n",
    "import json\n",
    "from datetime import datetime\n",
    "from pytz import timezone\n",
    "from pathlib import Path"
   ]
  },
  {
   "cell_type": "code",
   "execution_count": null,
   "metadata": {
    "ExecuteTime": {
     "end_time": "2018-10-24T22:21:04.700018Z",
     "start_time": "2018-10-24T22:21:04.672844Z"
    }
   },
   "outputs": [],
   "source": [
    "OVERWRITE = True"
   ]
  },
  {
   "cell_type": "code",
   "execution_count": null,
   "metadata": {
    "ExecuteTime": {
     "end_time": "2018-10-24T21:28:29.955674Z",
     "start_time": "2018-10-24T21:26:12.141779Z"
    }
   },
   "outputs": [],
   "source": [
    "face_genders = get_face_genders()\n",
    "face_genders = face_genders.where(face_genders.labeler_id != Labeler.objects.get(name='handlabeled-gender').id)\n",
    "face_genders = face_genders.where(face_genders.in_commercial == False)"
   ]
  },
  {
   "cell_type": "code",
   "execution_count": null,
   "metadata": {
    "ExecuteTime": {
     "end_time": "2018-10-24T21:28:46.190632Z",
     "start_time": "2018-10-24T21:28:29.957898Z"
    }
   },
   "outputs": [],
   "source": [
    "face_identities = get_face_identities()\n",
    "face_identities = face_identities.where(face_identities.in_commercial == False)\n",
    "face_identities = face_identities.where(face_identities.labeler_id.isin(\n",
    "    [l.id for l in Labeler.objects.filter(name__contains='face-identity')]\n",
    "))"
   ]
  },
  {
   "cell_type": "code",
   "execution_count": null,
   "metadata": {
    "ExecuteTime": {
     "end_time": "2018-10-24T21:28:46.192204Z",
     "start_time": "2018-10-24T21:26:17.045Z"
    }
   },
   "outputs": [],
   "source": [
    "class ShotInfo(object):\n",
    "    \n",
    "    def __init__(self, start, end):\n",
    "        self.start = start\n",
    "        self.end = end\n",
    "        self.male_cnt = 0.\n",
    "        self.female_cnt = 0.\n",
    "        self.gender_var = 0. # SURPRISE! THEY ARE EQUAL!\n",
    "        self.male_nh_cnt = 0.\n",
    "        self.female_nh_cnt = 0.\n",
    "        self.gender_nh_var = 0.\n",
    "        self.identities = {}\n",
    "    \n",
    "    def add_face_gender(self, fg):\n",
    "        female_prob = fg['female_probability']\n",
    "        male_prob = fg['male_probability']\n",
    "        nh_host_prob = 1. - fg['host_probability']\n",
    "        \n",
    "        # Adding indicator variables and their variances\n",
    "        self.male_cnt += male_prob\n",
    "        self.female_cnt += female_prob\n",
    "        self.gender_var += (1. - male_prob) * male_prob\n",
    "        \n",
    "        self.male_nh_cnt += male_prob * nh_host_prob\n",
    "        self.female_nh_cnt += female_prob * nh_host_prob\n",
    "        self.gender_nh_var += (1. - male_prob) * male_prob * (nh_host_prob ** 2)\n",
    "    \n",
    "    def add_face_identity(self, fi):\n",
    "        identity_id = fi['identity_id']\n",
    "        identity_prob = fi['probability']\n",
    "        if identity_id in self.identities:\n",
    "            cur_cnt, cur_var = self.identities[identity_id]\n",
    "        else:\n",
    "            cur_cnt, cur_var = 0., 0.\n",
    "        self.identities[identity_id] = (cur_cnt + identity_prob, cur_var + identity_prob * (1. - identity_prob))\n",
    "        \n",
    "    def get(self):\n",
    "        return (\n",
    "            self.start, self.end, \n",
    "            self.male_cnt,\n",
    "            self.female_cnt, \n",
    "            self.gender_var, \n",
    "            self.male_nh_cnt,\n",
    "            self.female_nh_cnt,\n",
    "            self.gender_nh_var,\n",
    "            self.identities\n",
    "        )\n"
   ]
  },
  {
   "cell_type": "code",
   "execution_count": null,
   "metadata": {
    "ExecuteTime": {
     "end_time": "2018-10-24T21:28:46.193918Z",
     "start_time": "2018-10-24T21:26:17.992Z"
    }
   },
   "outputs": [],
   "source": [
    "video_id_to_shots_to_info = {}\n",
    "\n",
    "for fg in face_genders.select('video_id', 'shot_id', 'min_frame', 'max_frame', 'fps', \n",
    "                              'male_probability', 'female_probability', 'host_probability').collect():\n",
    "    video_id = fg['video_id']\n",
    "    shots_to_info = video_id_to_shots_to_info.get(video_id, {})\n",
    "    shot_id = fg['shot_id']\n",
    "    if shot_id not in shots_to_info:\n",
    "        min_frame = fg['min_frame']\n",
    "        max_frame = fg['max_frame']\n",
    "        fps = fg['fps']\n",
    "        shots_to_info[shot_id] = ShotInfo(min_frame / fps, max_frame / fps)\n",
    "    shots_to_info[shot_id].add_face_gender(fg)\n",
    "    video_id_to_shots_to_info[video_id] = shots_to_info"
   ]
  },
  {
   "cell_type": "code",
   "execution_count": null,
   "metadata": {
    "ExecuteTime": {
     "end_time": "2018-10-24T21:28:46.195416Z",
     "start_time": "2018-10-24T21:26:19.314Z"
    }
   },
   "outputs": [],
   "source": [
    "for fi in face_identities.select('video_id', 'shot_id', 'min_frame', 'max_frame', 'fps', \n",
    "                                 'identity_id', 'probability').collect():\n",
    "    video_id = fi['video_id']\n",
    "    shots_to_info = video_id_to_shots_to_info.get(video_id, {})\n",
    "    shot_id = fi['shot_id']\n",
    "    if shot_id not in shots_to_info:\n",
    "        print('Weird: {} has no gender but has identities'.format(shot_id))\n",
    "        min_frame = fi['min_frame']\n",
    "        max_frame = fi['max_frame']\n",
    "        fps = fi['fps']\n",
    "        shots_to_info[shot_id] = ShotInfo(min_frame / fps, max_frame / fps)\n",
    "    shots_to_info[shot_id].add_face_identity(fi)\n",
    "    video_id_to_shots_to_info[video_id] = shots_to_info"
   ]
  },
  {
   "cell_type": "code",
   "execution_count": null,
   "metadata": {
    "ExecuteTime": {
     "end_time": "2018-10-24T21:28:46.196914Z",
     "start_time": "2018-10-24T21:26:20.150Z"
    }
   },
   "outputs": [],
   "source": [
    "output_video_id_to_shots = {}\n",
    "for video_id, s2i in video_id_to_shots_to_info.items():\n",
    "    shot_list = []\n",
    "    for shot_id, shot_info in s2i.items():\n",
    "        shot_list.append((shot_id, *shot_info.get()))\n",
    "    shot_list.sort(key=lambda x: x[1]) # sort by start time\n",
    "    output_video_id_to_shots[video_id] = shot_list"
   ]
  },
  {
   "cell_type": "code",
   "execution_count": null,
   "metadata": {
    "ExecuteTime": {
     "end_time": "2018-10-24T21:28:46.198060Z",
     "start_time": "2018-10-24T21:26:23.202Z"
    }
   },
   "outputs": [],
   "source": [
    "SHOT_TABLE_PATH = 'widget_data/shot_table.pkl'\n",
    "if not OVERWRITE and os.path.exists(SHOT_TABLE_PATH):\n",
    "    raise Exception('File exists!')\n",
    "    \n",
    "with open(SHOT_TABLE_PATH, 'wb') as f:\n",
    "    pickle.dump(output_video_id_to_shots, f)"
   ]
  },
  {
   "cell_type": "code",
   "execution_count": null,
   "metadata": {
    "ExecuteTime": {
     "end_time": "2018-10-24T21:28:46.199366Z",
     "start_time": "2018-10-24T21:26:23.630Z"
    }
   },
   "outputs": [],
   "source": [
    "SMALL_SHOT_TABLE_PATH = 'widget_data/shot_table.small.pkl'\n",
    "if not OVERWRITE and os.path.exists(SMALL_SHOT_TABLE_PATH):\n",
    "    raise Exception('File exists!')\n",
    "    \n",
    "with open(SMALL_SHOT_TABLE_PATH, 'wb') as f:\n",
    "    small_output_video_id_to_shots = {}\n",
    "    for k, v in output_video_id_to_shots.items():\n",
    "        small_output_video_id_to_shots[k] = v\n",
    "        if len(small_output_video_id_to_shots) > 10000:\n",
    "            break\n",
    "    pickle.dump(small_output_video_id_to_shots, f)\n",
    "    del small_output_video_id_to_shots"
   ]
  },
  {
   "cell_type": "code",
   "execution_count": null,
   "metadata": {
    "ExecuteTime": {
     "end_time": "2018-10-25T05:49:28.793163Z",
     "start_time": "2018-10-25T05:49:26.002082Z"
    }
   },
   "outputs": [],
   "source": [
    "def get_video_name(p):\n",
    "    return Path(p).name.split('.')[0]\n",
    "\n",
    "UTC = timezone('UTC')\n",
    "EST = timezone('EST')\n",
    "DATE_FORMAT = '%Y-%m-%d'\n",
    "def get_date_hour_from_name(p):\n",
    "    channel, ymd, hms, _ = p.split('_', 3)\n",
    "    timestamp = datetime.strptime(ymd + hms, '%Y%m%d%H%M%S')\n",
    "    timestamp_est = timestamp.replace(tzinfo=UTC).astimezone(tz=EST)\n",
    "    assert timestamp.hour != timestamp_est.hour\n",
    "    return timestamp_est.strftime(DATE_FORMAT), timestamp_est.hour * 60 + timestamp_est.minute\n",
    "\n",
    "\n",
    "video_id_to_info = {}\n",
    "for v in Video.objects.filter(\n",
    "        threeyears_dataset=True\n",
    "    ).values('id', 'path', 'show__canonical_show__id'):\n",
    "    video_name = get_video_name(v['path'])\n",
    "    video_date, video_hour = get_date_hour_from_name(video_name)\n",
    "    video_id_to_info[v['id']] = (\n",
    "        video_name, v['show__canonical_show__id'],\n",
    "        video_date, video_hour\n",
    "    ) \n",
    "                      \n",
    "VIDEO_TABLE_PATH = 'widget_data/video_table.pkl'\n",
    "if not OVERWRITE and os.path.exists(VIDEO_TABLE_PATH):\n",
    "    raise Exception('File exists!')\n",
    "    \n",
    "with open(VIDEO_TABLE_PATH, 'wb') as f:\n",
    "    pickle.dump(video_id_to_info, f)           "
   ]
  },
  {
   "cell_type": "code",
   "execution_count": null,
   "metadata": {
    "ExecuteTime": {
     "end_time": "2018-10-17T03:17:50.437434Z",
     "start_time": "2018-10-17T03:17:50.395373Z"
    }
   },
   "outputs": [],
   "source": [
    "identity_id_to_name = {i.id : i.name for i in Identity.objects.all()}\n",
    "\n",
    "IDENTITY_TABLE_PATH = 'widget_data/identity_table.pkl'\n",
    "if not OVERWRITE and os.path.exists(IDENTITY_TABLE_PATH):\n",
    "    raise Exception('File exists!')\n",
    "    \n",
    "with open(IDENTITY_TABLE_PATH, 'wb') as f:\n",
    "    pickle.dump(identity_id_to_name, f)       "
   ]
  },
  {
   "cell_type": "code",
   "execution_count": null,
   "metadata": {
    "ExecuteTime": {
     "end_time": "2018-10-21T00:53:04.558908Z",
     "start_time": "2018-10-21T00:53:02.141633Z"
    }
   },
   "outputs": [],
   "source": [
    "def get_canonical_show_info(c):\n",
    "    channel_name = Video.objects.filter(show__canonical_show=c)[0].channel.name\n",
    "    if c.name in MAJOR_CANONICAL_SHOWS:\n",
    "        return c.name, channel_name\n",
    "    else:\n",
    "        return 'Other ({})'.format(channel_name), channel_name\n",
    "\n",
    "canonical_show_id_to_info = {\n",
    "    c.id : get_canonical_show_info(c) \n",
    "    for c in CanonicalShow.objects.all()\n",
    "}\n",
    "\n",
    "CANON_SHOW_TABLE_PATH = 'widget_data/canonical_show_table.pkl'\n",
    "if not OVERWRITE and os.path.exists(CANON_SHOW_TABLE_PATH):\n",
    "    raise Exception('File exists!')\n",
    "    \n",
    "with open(CANON_SHOW_TABLE_PATH, 'wb') as f:\n",
    "    pickle.dump(canonical_show_id_to_info, f)       "
   ]
  },
  {
   "cell_type": "code",
   "execution_count": null,
   "metadata": {},
   "outputs": [],
   "source": []
  },
  {
   "cell_type": "code",
   "execution_count": null,
   "metadata": {},
   "outputs": [],
   "source": []
  }
 ],
 "metadata": {
  "kernelspec": {
   "display_name": "Django Shell-Plus",
   "language": "python",
   "name": "django_extensions"
  },
  "language_info": {
   "codemirror_mode": {
    "name": "ipython",
    "version": 3
   },
   "file_extension": ".py",
   "mimetype": "text/x-python",
   "name": "python",
   "nbconvert_exporter": "python",
   "pygments_lexer": "ipython3",
   "version": "3.5.2"
  },
  "toc": {
   "nav_menu": {},
   "number_sections": true,
   "sideBar": false,
   "skip_h1_title": false,
   "toc_cell": true,
   "toc_position": {},
   "toc_section_display": "block",
   "toc_window_display": false
  }
 },
 "nbformat": 4,
 "nbformat_minor": 2
}
