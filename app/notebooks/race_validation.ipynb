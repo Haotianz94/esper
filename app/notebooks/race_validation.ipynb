{
 "cells": [
  {
   "cell_type": "code",
   "execution_count": null,
   "metadata": {
    "ExecuteTime": {
     "end_time": "2019-03-10T02:14:28.559306Z",
     "start_time": "2019-03-10T02:14:23.049308Z"
    }
   },
   "outputs": [],
   "source": [
    "import json\n",
    "import itertools\n",
    "import random\n",
    "from collections import Counter\n",
    "\n",
    "from sklearn.metrics import accuracy_score, confusion_matrix, f1_score\n",
    "import matplotlib.pyplot as plt\n",
    "\n",
    "from esper.widget import *\n",
    "import esper.face_embeddings as face_embeddings\n",
    "\n",
    "def plot_confusion_matrix(y_truth, y_pred, normalize=True):\n",
    "    cm = confusion_matrix(y_truth, y_pred)\n",
    "\n",
    "    if normalize:\n",
    "        cm = cm.astype('float') / cm.sum(axis=1)[:, np.newaxis]\n",
    "\n",
    "    classes = ['Non-black', 'Black']\n",
    "    plt.figure(figsize=(5, 5))\n",
    "    plt.imshow(cm, interpolation='nearest', cmap=plt.cm.Reds)\n",
    "    plt.title('Black vs. non-black confusion matrix')\n",
    "    plt.colorbar()\n",
    "    tick_marks = np.arange(len(classes))\n",
    "    plt.xticks(tick_marks, classes, rotation=45)\n",
    "    plt.yticks(tick_marks, classes)\n",
    "\n",
    "    fmt = '.2f' if normalize else 'd'\n",
    "    thresh = cm.max() / 2.\n",
    "    for i, j in itertools.product(range(cm.shape[0]), range(cm.shape[1])):\n",
    "        plt.text(j, i, format(cm[i, j], fmt),\n",
    "                 horizontalalignment=\"center\",\n",
    "                 color=\"white\" if cm[i, j] > thresh else \"black\")\n",
    "\n",
    "    plt.ylabel('Hand label')\n",
    "    plt.xlabel('Predicted label')\n",
    "    plt.tight_layout()\n",
    "    plt.show()\n",
    "\n",
    "def print_pred_dist(pred):\n",
    "    n = len(pred)\n",
    "    counts = Counter([t[1] for t in pred])\n",
    "    for k in sorted(counts):\n",
    "        print('', '{:0.2f}'.format(k), counts[k] / n)"
   ]
  },
  {
   "cell_type": "code",
   "execution_count": null,
   "metadata": {
    "ExecuteTime": {
     "end_time": "2019-03-10T02:17:11.259916Z",
     "start_time": "2019-03-10T02:17:11.226418Z"
    }
   },
   "outputs": [],
   "source": [
    "with open('/app/data/black.1k.random.json') as f:\n",
    "    hand_labels_train = {int(k): int(v) for k, v in json.load(f).items()}\n",
    "train_ids = [i for i in hand_labels_train]\n",
    "train_y = [hand_labels_train[i] for i in train_ids]\n",
    "del hand_labels_train\n",
    "    \n",
    "with open('/app/data/black.250.random.json') as f:\n",
    "    hand_labels_test = {int(k): int(v) for k, v in json.load(f).items()}\n",
    "test_ids = [i for i in hand_labels_test]\n",
    "test_y = [hand_labels_test[i] for i in test_ids]\n",
    "del hand_labels_test"
   ]
  },
  {
   "cell_type": "code",
   "execution_count": null,
   "metadata": {
    "ExecuteTime": {
     "end_time": "2019-03-10T02:20:56.515283Z",
     "start_time": "2019-03-10T02:20:54.591996Z"
    },
    "scrolled": false
   },
   "outputs": [],
   "source": [
    "PRED_THRESHOLD = 0.3\n",
    "K = 15\n",
    "\n",
    "test_pred_r = face_embeddings.knn_predict(\n",
    "    train_ids, train_y, k=K, ids=test_ids)\n",
    "print('Test dist:')\n",
    "print_pred_dist(test_pred_r)\n",
    "test_pred_d = {k: 0 if v < PRED_THRESHOLD else 1\n",
    "               for k, v in test_pred_r}\n",
    "test_pred = [test_pred_d[i] for i in test_ids]\n",
    "\n",
    "train_pred_r = face_embeddings.knn_predict(\n",
    "    train_ids, train_y, k=K, ids=train_ids)\n",
    "print('train dist:')\n",
    "print_pred_dist(train_pred_r)\n",
    "train_pred_d = {k: 0 if v < PRED_THRESHOLD else 1\n",
    "                for k, v in train_pred_r}\n",
    "train_pred = [train_pred_d[i] for i in train_ids]\n",
    "\n",
    "print('Train accuracy:', accuracy_score(train_y, train_pred))\n",
    "print('Train f1-score:', f1_score(train_y, train_pred))\n",
    "print('Non-normalized train confusion matrix:')\n",
    "plot_confusion_matrix(train_y, train_pred, False)\n",
    "print('Normalized train confusion matrix:')\n",
    "plot_confusion_matrix(train_y, train_pred)\n",
    "\n",
    "print('Test accuracy:', accuracy_score(test_y, test_pred))\n",
    "print('Test f1-score:', f1_score(test_y, test_pred))\n",
    "print('Non-normalized test confusion matrix:')\n",
    "plot_confusion_matrix(test_y, test_pred, False)\n",
    "print('Normalized test confusion matrix:')\n",
    "plot_confusion_matrix(test_y, test_pred)"
   ]
  },
  {
   "cell_type": "markdown",
   "metadata": {},
   "source": [
    "# False Positives"
   ]
  },
  {
   "cell_type": "code",
   "execution_count": null,
   "metadata": {
    "ExecuteTime": {
     "end_time": "2019-03-10T02:25:36.182928Z",
     "start_time": "2019-03-10T02:25:36.078414Z"
    }
   },
   "outputs": [],
   "source": [
    "esper_widget(\n",
    "    qs_to_result(Face.objects.filter(\n",
    "        id__in=[i for i, y_pred, y_true in zip(test_ids, test_pred, test_y)\n",
    "                if y_pred == 1 and y_true == 0]), limit=1000),\n",
    "    results_per_page=50)"
   ]
  },
  {
   "cell_type": "markdown",
   "metadata": {},
   "source": [
    "# False Negative"
   ]
  },
  {
   "cell_type": "code",
   "execution_count": null,
   "metadata": {
    "ExecuteTime": {
     "end_time": "2019-03-10T02:25:50.433028Z",
     "start_time": "2019-03-10T02:25:50.330458Z"
    }
   },
   "outputs": [],
   "source": [
    "esper_widget(\n",
    "    qs_to_result(Face.objects.filter(\n",
    "        id__in=[i for i, y_pred, y_true in zip(test_ids, test_pred, test_y)\n",
    "                if y_pred == 0 and y_true == 1]), limit=1000),\n",
    "    results_per_page=50)"
   ]
  },
  {
   "cell_type": "code",
   "execution_count": null,
   "metadata": {},
   "outputs": [],
   "source": []
  }
 ],
 "metadata": {
  "kernelspec": {
   "display_name": "Django Shell-Plus",
   "language": "python",
   "name": "django_extensions"
  },
  "language_info": {
   "codemirror_mode": {
    "name": "ipython",
    "version": 3
   },
   "file_extension": ".py",
   "mimetype": "text/x-python",
   "name": "python",
   "nbconvert_exporter": "python",
   "pygments_lexer": "ipython3",
   "version": "3.5.2"
  },
  "toc": {
   "nav_menu": {},
   "number_sections": true,
   "sideBar": true,
   "skip_h1_title": false,
   "toc_cell": false,
   "toc_position": {},
   "toc_section_display": "block",
   "toc_window_display": false
  }
 },
 "nbformat": 4,
 "nbformat_minor": 2
}
