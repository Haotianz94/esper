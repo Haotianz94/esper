{
 "cells": [
  {
   "cell_type": "code",
   "execution_count": null,
   "metadata": {
    "ExecuteTime": {
     "end_time": "2019-06-03T06:14:41.094833Z",
     "start_time": "2019-06-03T06:14:40.873567Z"
    },
    "scrolled": false
   },
   "outputs": [],
   "source": [
    "from scannertools.maskrcnn_detection import visualize_one_image\n",
    "from esper.table_tennis.pose_utils import *\n",
    "\n",
    "import cv2\n",
    "import random\n",
    "import pickle\n",
    "import pycocotools.mask as mask_util\n",
    "from scipy import ndimage"
   ]
  },
  {
   "cell_type": "code",
   "execution_count": null,
   "metadata": {
    "ExecuteTime": {
     "end_time": "2019-06-03T06:14:42.532049Z",
     "start_time": "2019-06-03T06:14:42.500953Z"
    }
   },
   "outputs": [],
   "source": [
    "video_id = 65\n",
    "video = Video.objects.filter(id=video_id)[0]\n",
    "video_ids = [video_id]"
   ]
  },
  {
   "cell_type": "markdown",
   "metadata": {},
   "source": [
    "# load data"
   ]
  },
  {
   "cell_type": "code",
   "execution_count": null,
   "metadata": {
    "ExecuteTime": {
     "end_time": "2019-05-03T23:58:01.546737Z",
     "start_time": "2019-05-03T23:58:01.529632Z"
    }
   },
   "outputs": [],
   "source": [
    "match_intervals_all = pickle.load(open('/app/data/pkl/match_scene_intervals_dict.pkl', 'rb'))\n",
    "match_intervals_A = match_intervals_all['HW_foreground']\n",
    "match_intervals_B = match_intervals_all['JZ_foreground']\n",
    "match_intervals_A.sort()\n",
    "match_intervals_B.sort()"
   ]
  },
  {
   "cell_type": "code",
   "execution_count": null,
   "metadata": {
    "ExecuteTime": {
     "end_time": "2019-05-02T20:53:35.414156Z",
     "start_time": "2019-05-02T20:53:35.322507Z"
    }
   },
   "outputs": [],
   "source": [
    "match_scene_cls = pickle.load(open('/app/data/pkl/match_scene_cls.pkl', 'rb'))"
   ]
  },
  {
   "cell_type": "code",
   "execution_count": null,
   "metadata": {
    "ExecuteTime": {
     "end_time": "2019-05-02T20:53:39.429463Z",
     "start_time": "2019-05-02T20:53:36.574460Z"
    },
    "scrolled": true
   },
   "outputs": [],
   "source": [
    "densepose_result = pickle.load(open('/app/data/pkl/densepose_result.pkl', 'rb'), encoding='latin1')\n",
    "maskrcnn_result = pickle.load(open('/app/data/pkl/maskrcnn_result.pkl', 'rb'))"
   ]
  },
  {
   "cell_type": "code",
   "execution_count": null,
   "metadata": {
    "ExecuteTime": {
     "end_time": "2019-05-02T20:53:42.646544Z",
     "start_time": "2019-05-02T20:53:42.571132Z"
    },
    "scrolled": true
   },
   "outputs": [],
   "source": [
    "fid2densepose = {}\n",
    "for player in densepose_result:\n",
    "    fid2densepose[player['fid']] = player\n",
    "fid2maskrcnn = {}\n",
    "for fid, bbox in enumerate(maskrcnn_result):\n",
    "    fid2maskrcnn[fid] = bbox"
   ]
  },
  {
   "cell_type": "code",
   "execution_count": null,
   "metadata": {
    "ExecuteTime": {
     "end_time": "2019-05-02T20:53:59.852237Z",
     "start_time": "2019-05-02T20:53:47.249701Z"
    }
   },
   "outputs": [],
   "source": [
    "# collect all openpose for foreground players\n",
    "fid2openpose_A = {}\n",
    "fid2openpose_B = {}\n",
    "for interval in match_intervals_A:\n",
    "    fid2pose_fg, fid2pose_bg = group_pose_from_interval(interval)\n",
    "    fid2openpose_A = {**fid2openpose_A, **fid2pose_fg}\n",
    "for interval in match_intervals_B:\n",
    "    fid2pose_fg, fid2pose_bg = group_pose_from_interval(interval)\n",
    "    fid2openpose_B = {**fid2openpose_B, **fid2pose_fg}"
   ]
  },
  {
   "cell_type": "code",
   "execution_count": null,
   "metadata": {
    "ExecuteTime": {
     "end_time": "2019-04-30T17:58:58.120275Z",
     "start_time": "2019-04-30T17:58:58.087205Z"
    }
   },
   "outputs": [],
   "source": [
    "# collect all densepose for ground players\n",
    "fid2densepose_A = {}\n",
    "fid2densepose_B = {}\n",
    "for (_, sfid, efid, _) in match_intervals_A:\n",
    "    for fid in range(sfid, efid):\n",
    "        if 'keyps' in fid2densepose[fid]:\n",
    "            fid2densepose_A[fid] = fid2densepose[fid]['keyps'][0]\n",
    "for (_, sfid, efid, _) in match_intervals_B:\n",
    "    for fid in range(sfid, efid):\n",
    "        if 'keyps' in fid2densepose[fid]:\n",
    "            fid2densepose_B[fid] = fid2densepose[fid]['keyps'][0]            "
   ]
  },
  {
   "cell_type": "code",
   "execution_count": null,
   "metadata": {
    "ExecuteTime": {
     "end_time": "2019-04-16T16:49:51.057876Z",
     "start_time": "2019-04-16T16:49:51.036821Z"
    }
   },
   "outputs": [],
   "source": [
    "print(\"Number of foreground pose of A: {} Number of foreground pose of B: {}\".format(len(fid2openpose_A), len(fid2openpose_B)))"
   ]
  },
  {
   "cell_type": "code",
   "execution_count": null,
   "metadata": {
    "ExecuteTime": {
     "end_time": "2019-05-04T00:00:57.182126Z",
     "start_time": "2019-05-03T23:59:50.864224Z"
    },
    "scrolled": true
   },
   "outputs": [],
   "source": [
    "# visualize match scene using supercut\n",
    "from esper.supercut import *\n",
    "stitch_video_temporal(match_intervals_B, out_path='/app/result/JZ_foreground.mp4', im_size=(1920, 1080))"
   ]
  },
  {
   "cell_type": "markdown",
   "metadata": {
    "ExecuteTime": {
     "end_time": "2019-04-16T16:56:41.143604Z",
     "start_time": "2019-04-16T16:56:41.103111Z"
    }
   },
   "source": [
    "# Nearest neighbor search for pose"
   ]
  },
  {
   "cell_type": "code",
   "execution_count": null,
   "metadata": {
    "ExecuteTime": {
     "end_time": "2019-04-16T19:01:39.776177Z",
     "start_time": "2019-04-16T19:01:38.172642Z"
    },
    "scrolled": true
   },
   "outputs": [],
   "source": [
    "poseB = pose_foreground_B[500]\n",
    "poseA_nearest = get_nearest_pose(poseB[1], pose_foreground_A)"
   ]
  },
  {
   "cell_type": "code",
   "execution_count": null,
   "metadata": {
    "ExecuteTime": {
     "end_time": "2019-04-16T19:01:42.731156Z",
     "start_time": "2019-04-16T19:01:42.271059Z"
    }
   },
   "outputs": [],
   "source": [
    "img = load_frame(video, poseB[0], [])\n",
    "visualize_pose_stick(img, poseB[1], (0, 0, 255))\n",
    "visualize_pose_stick(img, poseA_nearest[1], (255, 0, 0))\n",
    "imshow(img)"
   ]
  },
  {
   "cell_type": "code",
   "execution_count": null,
   "metadata": {
    "ExecuteTime": {
     "end_time": "2019-04-16T19:10:56.015192Z",
     "start_time": "2019-04-16T19:08:17.671960Z"
    }
   },
   "outputs": [],
   "source": [
    "images = []\n",
    "poseB_sample = random.sample(pose_foreground_B, 100)\n",
    "for idx, poseB in enumerate(poseB_sample):\n",
    "    poseA_nearest = get_nearest_pose(poseB[1], pose_foreground_A)    \n",
    "    img = load_frame(video, poseB[0], [])\n",
    "    visualize_pose_stick(img, poseB[1], (0, 0, 255))\n",
    "    visualize_pose_stick(img, poseA_nearest[1], (255, 0, 0))\n",
    "    images.append(img)\n",
    "    print(idx)"
   ]
  },
  {
   "cell_type": "code",
   "execution_count": null,
   "metadata": {
    "ExecuteTime": {
     "end_time": "2019-04-16T19:15:40.401848Z",
     "start_time": "2019-04-16T19:15:40.054801Z"
    }
   },
   "outputs": [],
   "source": [
    "create_montage_from_images(images, '/app/result/NNpose.jpg', 7680, 10)"
   ]
  },
  {
   "cell_type": "markdown",
   "metadata": {},
   "source": [
    "# Replace foreground player with NN"
   ]
  },
  {
   "cell_type": "code",
   "execution_count": null,
   "metadata": {
    "ExecuteTime": {
     "end_time": "2019-04-30T05:29:43.274439Z",
     "start_time": "2019-04-30T05:29:42.227084Z"
    }
   },
   "outputs": [],
   "source": [
    "video.download(segment=(sfid/video.fps, efid/video.fps), output_path='/app/tmp/JZ_foreground_3.mp4')"
   ]
  },
  {
   "cell_type": "code",
   "execution_count": null,
   "metadata": {
    "ExecuteTime": {
     "end_time": "2019-05-02T21:03:00.507130Z",
     "start_time": "2019-05-02T20:54:27.597688Z"
    }
   },
   "outputs": [],
   "source": [
    "source_type = 'pix2pix'\n",
    "foreground_player = 'JZ'\n",
    "\n",
    "target_frames = []\n",
    "# _, sfid, efid, _ = match_intervals_B[3]\n",
    "for (_, sfid, efid, _) in match_intervals_B:\n",
    "    for target_fid in range(sfid, efid):\n",
    "        print('target_fid:', target_fid)\n",
    "        # Load data\n",
    "        if not target_fid in fid2densepose or not 'segms' in fid2densepose[target_fid]:\n",
    "            continue\n",
    "        player_mask = mask_util.decode(fid2densepose[target_fid]['segms'])[..., 0]\n",
    "        player_bbox = fid2densepose[target_fid]['boxes'][0]\n",
    "        player_densepose = fid2densepose[target_fid]['keyps'][0]\n",
    "        player_cropbox = fid2densepose[target_fid]['crop_box']\n",
    "        \n",
    "        if not target_fid in fid2openpose_B:\n",
    "            continue\n",
    "        player_openpose = fid2openpose_B[target_fid]\n",
    "        \n",
    "        target_frame = load_frame(video, target_fid, [])\n",
    "        \n",
    "       \n",
    "        # Inpaint the background \n",
    "#         bg_fid = find_nearby_bg_frame(target_fid, player_bbox, match_scene_cls, fid2maskrcnn)\n",
    "#         print('bg_fid:', bg_fid)\n",
    "#         if bg_fid is None:\n",
    "#             continue\n",
    "#         bg_frame = load_frame(video, bg_fid, [])    \n",
    "#         player_mask_dil = ndimage.binary_dilation((player_mask > 0), iterations=20)\n",
    "#         target_frame[player_mask_dil == 1] = bg_frame[player_mask_dil == 1]\n",
    "\n",
    "        # Stitch nearst player\n",
    "        if source_type == 'openpose':\n",
    "            (source_fid, source_pose) = get_nearest_openpose(player_openpose, fid2openpose_A)\n",
    "            print('source_fid:', source_fid)\n",
    "            source_frame = load_frame(video, source_fid, [])    \n",
    "            source_mask = mask_util.decode(fid2densepose[source_fid]['segms'])[..., 0]\n",
    "        elif source_type == 'densepose':\n",
    "            (source_fid, source_pose) = get_nearest_densepose(player_densepose, fid2densepose_A)\n",
    "            print('source_fid:', source_fid)    \n",
    "            source_frame = load_frame(video, source_fid, [])    \n",
    "            source_mask = mask_util.decode(fid2densepose[source_fid]['segms'])[..., 0]\n",
    "        elif source_type == 'pix2pix':\n",
    "            source_path = '/app/data/image/HW_fake/densepose_{}_{}_{}_synthesized_image.jpg' \\\n",
    "                .format(video_id, target_fid, foreground_player)\n",
    "            if not os.path.exists(source_path):\n",
    "                continue\n",
    "            source_frame_crop = cv2.imread(source_path)\n",
    "            source_frame = np.zeros_like(target_frame)\n",
    "            source_frame[player_cropbox[1]:player_cropbox[3], player_cropbox[0]:player_cropbox[2]] = source_frame_crop\n",
    "            player_mask_dil = source_mask = player_mask\n",
    "\n",
    "    #     player_mask_dil = ndimage.binary_dilation((source_mask > 0), iterations=5)\n",
    "        target_frame[player_mask_dil == 1] = source_frame[player_mask_dil == 1]\n",
    "\n",
    "        # Add target posestick\n",
    "    #     visualize_densepose_stick(target_frame, player_densepose, (0, 0, 255))\n",
    "#         visualize_openpose_stick(target_frame, player_openpose, (0, 0, 255))\n",
    "        \n",
    "        target_frames.append(target_frame)        \n",
    "\n",
    "#         imshow(target_frame)\n",
    "#         break\n",
    "#     break"
   ]
  },
  {
   "cell_type": "code",
   "execution_count": null,
   "metadata": {
    "ExecuteTime": {
     "end_time": "2019-05-02T21:03:55.208021Z",
     "start_time": "2019-05-02T21:03:00.508327Z"
    }
   },
   "outputs": [],
   "source": [
    "videowriter = cv2.VideoWriter('/app/result/replace_foreground_pix2pix_long.avi', cv2.VideoWriter_fourcc('M','J','P','G'), video.fps, (video.width, video.height))\n",
    "for f in target_frames:\n",
    "    videowriter.write(f)\n",
    "videowriter.release()"
   ]
  },
  {
   "cell_type": "code",
   "execution_count": null,
   "metadata": {
    "ExecuteTime": {
     "end_time": "2019-04-30T05:55:31.303314Z",
     "start_time": "2019-04-30T05:55:31.026920Z"
    }
   },
   "outputs": [],
   "source": [
    "visualize_labels(bg_frame, fid2maskrcnn[bg_fid])\n",
    "imshow(bg_frame)"
   ]
  },
  {
   "cell_type": "markdown",
   "metadata": {},
   "source": [
    "# Generate training data using openpose"
   ]
  },
  {
   "cell_type": "code",
   "execution_count": null,
   "metadata": {
    "ExecuteTime": {
     "end_time": "2019-06-03T06:24:13.343269Z",
     "start_time": "2019-06-03T06:24:12.644022Z"
    }
   },
   "outputs": [],
   "source": [
    "hit_dict_split = pickle.load(open('/app/data/pkl/hit_dict.pkl', 'rb'))\n",
    "densepose_result = pickle.load(open('/app/data/pkl/densepose_result.pkl', 'rb'), encoding='latin1')"
   ]
  },
  {
   "cell_type": "code",
   "execution_count": null,
   "metadata": {
    "ExecuteTime": {
     "end_time": "2019-06-03T07:12:02.061418Z",
     "start_time": "2019-06-03T07:11:18.141448Z"
    },
    "scrolled": true
   },
   "outputs": [],
   "source": [
    "from detectron.utils.vis import vis_keypoints\n",
    "\n",
    "for idx, res in enumerate(densepose_result):\n",
    "    if 'img_path' not in res:\n",
    "        continue\n",
    "    img_path = res['img_path'].replace('img_HW', 'HW/train_B').replace('/Projects/esper_haotian/esper', '')\n",
    "    if not os.path.exists(img_path):\n",
    "        continue\n",
    "    image = np.ones((video.height, video.width, 3), dtype=np.uint8) * 255\n",
    "    image = vis_keypoints(image, res['keyps'][0].astype(np.int), kp_thresh=2, alpha=1)\n",
    "#     imshow(image)\n",
    "#     break\n",
    "    stick_path = res['densepose_path'].replace('densepose', 'stick').replace('/Projects/esper_haotian/esper', '')\n",
    "#     print(stick_path)\n",
    "    crop_box = res['crop_box']\n",
    "    cv2.imwrite(stick_path, image[crop_box[1] : crop_box[3], crop_box[0] : crop_box[2], :])\n",
    "#     break\n",
    "    if idx % 100 == 0:\n",
    "        print(idx)\n",
    "    idx += 1"
   ]
  }
 ],
 "metadata": {
  "kernelspec": {
   "display_name": "Django Shell-Plus",
   "language": "python",
   "name": "django_extensions"
  },
  "language_info": {
   "codemirror_mode": {
    "name": "ipython",
    "version": 3
   },
   "file_extension": ".py",
   "mimetype": "text/x-python",
   "name": "python",
   "nbconvert_exporter": "python",
   "pygments_lexer": "ipython3",
   "version": "3.5.2"
  },
  "toc": {
   "nav_menu": {},
   "number_sections": true,
   "sideBar": true,
   "skip_h1_title": false,
   "toc_cell": false,
   "toc_position": {},
   "toc_section_display": "block",
   "toc_window_display": false
  }
 },
 "nbformat": 4,
 "nbformat_minor": 2
}
