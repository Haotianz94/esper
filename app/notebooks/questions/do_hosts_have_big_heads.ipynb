{
 "cells": [
  {
   "cell_type": "markdown",
   "metadata": {
    "toc": true
   },
   "source": [
    "<h1>Table of Contents<span class=\"tocSkip\"></span></h1>\n",
    "<div class=\"toc\" style=\"margin-top: 1em;\"><ul class=\"toc-item\"><li><span><a href=\"#Are-host-faces-shown-on-screen-larger-than-non-hostfaces?\" data-toc-modified-id=\"Are-host-faces-shown-on-screen-larger-than-non-hostfaces?-1\"><span class=\"toc-item-num\">1&nbsp;&nbsp;</span>Are host faces shown on screen larger than non-hostfaces?</a></span><ul class=\"toc-item\"><li><span><a href=\"#There-are-more-male-faces-in-general-so-counts-for-male-faces-are-higher.\" data-toc-modified-id=\"There-are-more-male-faces-in-general-so-counts-for-male-faces-are-higher.-1.1\"><span class=\"toc-item-num\">1.1&nbsp;&nbsp;</span>There are more male faces in general so counts for male faces are higher.</a></span></li><li><span><a href=\"#What-if-we-normalized-and-compared-the-proportion-of-faces-in-each-height-bucket?\" data-toc-modified-id=\"What-if-we-normalized-and-compared-the-proportion-of-faces-in-each-height-bucket?-1.2\"><span class=\"toc-item-num\">1.2&nbsp;&nbsp;</span>What if we normalized and compared the proportion of faces in each height bucket?</a></span></li></ul></li><li><span><a href=\"#Does-this-pattern-hold-for-all-shows?\" data-toc-modified-id=\"Does-this-pattern-hold-for-all-shows?-2\"><span class=\"toc-item-num\">2&nbsp;&nbsp;</span>Does this pattern hold for all shows?</a></span><ul class=\"toc-item\"><li><span><a href=\"#Plot-the-distributions-of-male-and-female-faces-(descending-disparity)\" data-toc-modified-id=\"Plot-the-distributions-of-male-and-female-faces-(descending-disparity)-2.1\"><span class=\"toc-item-num\">2.1&nbsp;&nbsp;</span>Plot the distributions of male and female faces (descending disparity)</a></span></li><li><span><a href=\"#Compare-the-mean-face-size-on-different-shows\" data-toc-modified-id=\"Compare-the-mean-face-size-on-different-shows-2.2\"><span class=\"toc-item-num\">2.2&nbsp;&nbsp;</span>Compare the mean face size on different shows</a></span></li></ul></li></ul></div>"
   ]
  },
  {
   "cell_type": "code",
   "execution_count": null,
   "metadata": {
    "ExecuteTime": {
     "end_time": "2018-08-09T23:50:46.639109Z",
     "start_time": "2018-08-09T23:50:35.632886Z"
    }
   },
   "outputs": [],
   "source": [
    "from esper.prelude import *\n",
    "from esper.widget import *\n",
    "from esper.spark_util import *\n",
    "from esper.major_canonical_shows import MAJOR_CANONICAL_SHOWS\n",
    "\n",
    "import math\n",
    "from datetime import timedelta\n",
    "from collections import defaultdict, OrderedDict"
   ]
  },
  {
   "cell_type": "code",
   "execution_count": null,
   "metadata": {
    "ExecuteTime": {
     "end_time": "2018-08-09T23:50:46.684508Z",
     "start_time": "2018-08-09T23:50:46.642596Z"
    }
   },
   "outputs": [],
   "source": [
    "def plot_curves(curves, title, x_label, y_label, y_lim=None, x_lim=None):\n",
    "    fig, ax1 = plt.subplots()\n",
    "\n",
    "    for series, values in curves.items():\n",
    "        x = []\n",
    "        y = []\n",
    "        for k in sorted(values):\n",
    "            x.append(k)\n",
    "            y.append(values[k])\n",
    "        ax1.plot(x, y, 'o-', label=str(series))\n",
    "        \n",
    "    ax1.legend()\n",
    "    ax1.set_title(title)\n",
    "    ax1.set_ylabel(y_label)\n",
    "    ax1.set_xlabel(x_label)\n",
    "    if y_lim is not None:\n",
    "        ax1.set_ylim(y_lim)\n",
    "    if x_lim is not None:\n",
    "        ax1.set_xlim(x_lim)\n",
    "    plt.show()"
   ]
  },
  {
   "cell_type": "code",
   "execution_count": null,
   "metadata": {
    "ExecuteTime": {
     "end_time": "2018-08-09T23:53:13.089063Z",
     "start_time": "2018-08-09T23:50:46.687268Z"
    }
   },
   "outputs": [],
   "source": [
    "face_genders = get_face_genders()\n",
    "face_genders = face_genders.withColumn('is_host_identity', face_genders.host_probability >= 0.8)"
   ]
  },
  {
   "cell_type": "markdown",
   "metadata": {},
   "source": [
    "# Are host faces shown on screen larger than non-hostfaces?"
   ]
  },
  {
   "cell_type": "code",
   "execution_count": null,
   "metadata": {
    "ExecuteTime": {
     "start_time": "2018-08-10T00:07:16.045Z"
    }
   },
   "outputs": [],
   "source": [
    "def empty_hists():\n",
    "    return OrderedDict([\n",
    "        (('M', True), {}),\n",
    "        (('F', True), {}),\n",
    "        (('M', False), {}),\n",
    "        (('F', False), {})\n",
    "    ])\n",
    "\n",
    "gender_map = { g.id : g.name for g in Gender.objects.all() }\n",
    "\n",
    "gender_host_hists = empty_hists()\n",
    "for (gender_id, is_host, height), v in count_distinct_over_column(\n",
    "            face_genders.where(face_genders.probability > 0.9),\n",
    "            distinct_columns=[], #['face_id'],\n",
    "            group_by_columns=['gender_id', 'is_host_identity', 'height'],\n",
    "            group_by_key_fn=lambda x: (x[0], x[1], math.ceil(x[2] * 100))\n",
    "        ).items():\n",
    "    gender_host_hists[(gender_map[gender_id], is_host)][height] = v "
   ]
  },
  {
   "cell_type": "markdown",
   "metadata": {},
   "source": [
    "## There are more male faces in general so counts for male faces are higher."
   ]
  },
  {
   "cell_type": "code",
   "execution_count": null,
   "metadata": {
    "ExecuteTime": {
     "start_time": "2018-08-10T00:07:19.424Z"
    }
   },
   "outputs": [],
   "source": [
    "plot_curves(gender_host_hists, 'Distribution of face area by gender and host', 'Height (% of frame)', 'Count')"
   ]
  },
  {
   "cell_type": "markdown",
   "metadata": {},
   "source": [
    "## What if we normalized and compared the proportion of faces in each height bucket?"
   ]
  },
  {
   "cell_type": "code",
   "execution_count": null,
   "metadata": {
    "ExecuteTime": {
     "start_time": "2018-08-10T00:07:19.893Z"
    }
   },
   "outputs": [],
   "source": [
    "gender_hosts_hists_normalized = empty_hists()\n",
    "for gender_host, hist in gender_host_hists.items():\n",
    "    denom = sum(hist.values())\n",
    "    for k, v in hist.items():\n",
    "        gender_hosts_hists_normalized[gender_host][k] = v / denom\n",
    "        \n",
    "plot_curves(gender_hosts_hists_normalized, 'Distribution of face height by gender and host', \n",
    "            'Height (% of frame)', 'Proportion (normalized)')"
   ]
  },
  {
   "cell_type": "markdown",
   "metadata": {},
   "source": [
    "# Does this pattern hold for all shows?"
   ]
  },
  {
   "cell_type": "code",
   "execution_count": null,
   "metadata": {
    "ExecuteTime": {
     "start_time": "2018-08-10T00:07:20.675Z"
    }
   },
   "outputs": [],
   "source": [
    "canonical_show_map = { c.id : c.name for c in CanonicalShow.objects.all() if c.name in MAJOR_CANONICAL_SHOWS }\n",
    "\n",
    "gender_host_hists_by_show = defaultdict(lambda: empty_hists())\n",
    "for (canonical_show_id, gender_id, is_host, height), v in count_distinct_over_column(\n",
    "            face_genders.where(face_genders.probability > 0.9),\n",
    "            distinct_columns=['face_id'],\n",
    "            group_by_columns=['canonical_show_id', 'gender_id', 'is_host_identity', 'height'],\n",
    "            group_by_key_fn=lambda x: (x[0], x[1], x[2], math.ceil(x[3] * 100))\n",
    "        ).items():\n",
    "    if canonical_show_id not in canonical_show_map:\n",
    "        continue\n",
    "    gender_host_hists_by_show[\n",
    "        canonical_show_map[canonical_show_id]\n",
    "    ][(gender_map[gender_id], is_host)][height] = v"
   ]
  },
  {
   "cell_type": "markdown",
   "metadata": {},
   "source": [
    "## Plot the distributions of male and female faces (descending disparity)"
   ]
  },
  {
   "cell_type": "code",
   "execution_count": null,
   "metadata": {
    "ExecuteTime": {
     "start_time": "2018-08-10T00:07:22.083Z"
    },
    "scrolled": false
   },
   "outputs": [],
   "source": [
    "gender_host_hists_by_show_normalized = defaultdict(lambda: empty_hists())\n",
    "for canonical_show, show_gender_host_hists in gender_host_hists_by_show.items():\n",
    "    for gh, hist in show_gender_host_hists.items():\n",
    "        denom = sum(hist.values())\n",
    "        for k, v in hist.items():\n",
    "            gender_host_hists_by_show_normalized[canonical_show][gh][k] = v / denom\n",
    "            \n",
    "for canonical_show, show_gender_host_hists in sorted(\n",
    "    gender_host_hists_by_show_normalized.items(), \n",
    "    key=lambda x: x[0]\n",
    "):\n",
    "    plot_curves({ \n",
    "            k : v for k, v in show_gender_host_hists.items() \n",
    "            if k[1] == False or len(v) >= 30 \n",
    "        }, \n",
    "        'Distribution of face height by gender and host on \"{}\"'.format(\n",
    "            canonical_show), \n",
    "        'Height (% of frame)', \n",
    "        'Proportion (normalized)'\n",
    "    )"
   ]
  },
  {
   "cell_type": "markdown",
   "metadata": {},
   "source": [
    "## Compare the mean face size on different shows"
   ]
  },
  {
   "cell_type": "code",
   "execution_count": null,
   "metadata": {
    "ExecuteTime": {
     "start_time": "2018-08-10T00:07:23.426Z"
    }
   },
   "outputs": [],
   "source": [
    "def plot_difference_in_mean_face_size(normalized_show_hists):\n",
    "    x = []\n",
    "    y = []\n",
    "    for canonical_show, diff in sorted(\n",
    "        { k : diff_in_avg_face_size(v) for k, v in \n",
    "          gender_host_hists_by_show_normalized.items() }.items(), \n",
    "        key=lambda x: x[1]\n",
    "    ):\n",
    "        x.append(canonical_show)\n",
    "        y.append(diff)\n",
    "    \n",
    "    fig, ax1 = plt.subplots()\n",
    "    ind = np.arange(len(x))\n",
    "    width = 0.8\n",
    "    rect = ax1.bar(ind - width / 2, y, width, \n",
    "                   label='MeanHeight(Male) - MeanHeight(Female)', \n",
    "                   color='LightBlue')\n",
    "    ax1.set_ylabel('Mean face height (% of screen)')\n",
    "    ax1.set_title('Difference in mean face height by gender')\n",
    "    ax1.legend()\n",
    "    ax1.set_ylim((-0.25,4.25))\n",
    "    ax1.set_xticks(ind)\n",
    "    ax1.set_xlabel('Show name')\n",
    "    ax1.set_xticklabels(x, rotation=45, ha='right')\n",
    "    plt.axhline(0., color='Black', linestyle='--')\n",
    "    plt.show()\n",
    "\n",
    "plot_difference_in_mean_face_size(gender_hists_by_show_normalized)"
   ]
  },
  {
   "cell_type": "code",
   "execution_count": null,
   "metadata": {},
   "outputs": [],
   "source": []
  }
 ],
 "metadata": {
  "kernelspec": {
   "display_name": "Django Shell-Plus",
   "language": "python",
   "name": "django_extensions"
  },
  "language_info": {
   "codemirror_mode": {
    "name": "ipython",
    "version": 3
   },
   "file_extension": ".py",
   "mimetype": "text/x-python",
   "name": "python",
   "nbconvert_exporter": "python",
   "pygments_lexer": "ipython3",
   "version": "3.5.2"
  },
  "toc": {
   "base_numbering": 1,
   "nav_menu": {},
   "number_sections": true,
   "sideBar": false,
   "skip_h1_title": false,
   "title_cell": "Table of Contents",
   "title_sidebar": "Contents",
   "toc_cell": true,
   "toc_position": {},
   "toc_section_display": "block",
   "toc_window_display": false
  }
 },
 "nbformat": 4,
 "nbformat_minor": 2
}
