{
 "cells": [
  {
   "cell_type": "markdown",
   "metadata": {
    "toc": true
   },
   "source": [
    "<h1>Table of Contents<span class=\"tocSkip\"></span></h1>\n",
    "<div class=\"toc\" style=\"margin-top: 1em;\"><ul class=\"toc-item\"></ul></div>"
   ]
  },
  {
   "cell_type": "code",
   "execution_count": null,
   "metadata": {
    "ExecuteTime": {
     "end_time": "2018-08-16T19:20:16.326118Z",
     "start_time": "2018-08-16T19:20:16.299346Z"
    }
   },
   "outputs": [],
   "source": [
    "from esper.prelude import *\n",
    "from esper.widget import *\n",
    "from esper.major_canonical_shows import MAJOR_CANONICAL_SHOWS"
   ]
  },
  {
   "cell_type": "code",
   "execution_count": null,
   "metadata": {
    "ExecuteTime": {
     "end_time": "2018-08-16T19:27:54.936348Z",
     "start_time": "2018-08-16T19:27:54.906657Z"
    }
   },
   "outputs": [],
   "source": [
    "MAJOR_CANONICAL_SHOWS"
   ]
  },
  {
   "cell_type": "code",
   "execution_count": null,
   "metadata": {
    "ExecuteTime": {
     "end_time": "2018-08-16T20:01:49.765262Z",
     "start_time": "2018-08-16T20:01:49.722682Z"
    }
   },
   "outputs": [],
   "source": [
    "IS_OPINION_TALK_SHOW = {\n",
    "    'MSNBC Live': False,\n",
    "    'New Day': False,\n",
    "    'The Rachel Maddow Show': True,\n",
    "    'Anderson Cooper 360': False,\n",
    "    'Hannity': True,\n",
    "    'All In With Chris Hayes': True,\n",
    "    'CNN Tonight': False,\n",
    "    'Early Start': False, # morning show\n",
    "    'Happening Now': True,\n",
    "    'Hardball': True,\n",
    "    'The Kelly File': True, # Spun off oreilly factor\n",
    "    'The OReilly Factor': True,\n",
    "    'The Last Word With Lawrence ODonnell': True,\n",
    "    'CNN Newsroom With Brooke Baldwin': False,\n",
    "    'Americas News HQ': False,\n",
    "    'CNN Newsroom': False,\n",
    "    'Special Report With Bret Baier': True,\n",
    "    'The Five': True, \n",
    "    'On the Record': False,\n",
    "    'Situation Room With Wolf Blitzer': False,\n",
    "    'CNN Newsroom With Fredricka Whitfield': False,\n",
    "    'FOX and Friends First': True,\n",
    "    'Outnumbered': True,\n",
    "    'FOX and Friends': True,\n",
    "    'Shepard Smith Reporting': False,\n",
    "    'Morning Joe': True, # morning show\n",
    "    'Wolf': False,\n",
    "    'Americas Newsroom': True,\n",
    "    'CNN Newsroom With Carol Costello': False,\n",
    "    'The Lead With Jake Tapper': True,\n",
    "    'Your World With Neil Cavuto': True, # business focus?\n",
    "    'First Look': True, # Morning Joe : First Look\n",
    "    'At This Hour': False, # morning show\n",
    "    'Erin Burnett OutFront': False, \n",
    "    'Red Eye': True,\n",
    "    'The 11th Hour With Brian Williams': True, # news and politics television program \n",
    "    'Tucker Carlson Tonight': True,\n",
    "    'FOX Report': False,\n",
    "    'CNN Newsroom With Poppy Harlow': False,\n",
    "    'MTP Daily': True, # Public affairs/news analysis program\n",
    "}"
   ]
  },
  {
   "cell_type": "code",
   "execution_count": null,
   "metadata": {},
   "outputs": [],
   "source": []
  }
 ],
 "metadata": {
  "kernelspec": {
   "display_name": "Django Shell-Plus",
   "language": "python",
   "name": "django_extensions"
  },
  "language_info": {
   "codemirror_mode": {
    "name": "ipython",
    "version": 3
   },
   "file_extension": ".py",
   "mimetype": "text/x-python",
   "name": "python",
   "nbconvert_exporter": "python",
   "pygments_lexer": "ipython3",
   "version": "3.5.2"
  },
  "toc": {
   "base_numbering": 1,
   "nav_menu": {},
   "number_sections": true,
   "sideBar": false,
   "skip_h1_title": false,
   "title_cell": "Table of Contents",
   "title_sidebar": "Contents",
   "toc_cell": true,
   "toc_position": {},
   "toc_section_display": "block",
   "toc_window_display": false
  }
 },
 "nbformat": 4,
 "nbformat_minor": 2
}
