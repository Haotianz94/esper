{
 "cells": [
  {
   "cell_type": "markdown",
   "metadata": {
    "toc": true
   },
   "source": [
    "<h1>Table of Contents<span class=\"tocSkip\"></span></h1>\n",
    "<div class=\"toc\" style=\"margin-top: 1em;\"><ul class=\"toc-item\"><li><span><a href=\"#Are-male-faces-shown-on-screen-larger-than-female-faces?\" data-toc-modified-id=\"Are-male-faces-shown-on-screen-larger-than-female-faces?-1\"><span class=\"toc-item-num\">1&nbsp;&nbsp;</span>Are male faces shown on screen larger than female faces?</a></span><ul class=\"toc-item\"><li><span><a href=\"#There-are-more-male-faces-in-general-so-counts-for-male-faces-are-higher.\" data-toc-modified-id=\"There-are-more-male-faces-in-general-so-counts-for-male-faces-are-higher.-1.1\"><span class=\"toc-item-num\">1.1&nbsp;&nbsp;</span>There are more male faces in general so counts for male faces are higher.</a></span></li><li><span><a href=\"#What-if-we-normalized-and-compared-the-proportion-of-faces-in-each-height-bucket?\" data-toc-modified-id=\"What-if-we-normalized-and-compared-the-proportion-of-faces-in-each-height-bucket?-1.2\"><span class=\"toc-item-num\">1.2&nbsp;&nbsp;</span>What if we normalized and compared the proportion of faces in each height bucket?</a></span></li></ul></li><li><span><a href=\"#Does-this-pattern-hold-for-all-shows?\" data-toc-modified-id=\"Does-this-pattern-hold-for-all-shows?-2\"><span class=\"toc-item-num\">2&nbsp;&nbsp;</span>Does this pattern hold for all shows?</a></span><ul class=\"toc-item\"><li><span><a href=\"#Plot-the-distributions-of-male-and-female-faces-(descending-disparity)\" data-toc-modified-id=\"Plot-the-distributions-of-male-and-female-faces-(descending-disparity)-2.1\"><span class=\"toc-item-num\">2.1&nbsp;&nbsp;</span>Plot the distributions of male and female faces (descending disparity)</a></span></li><li><span><a href=\"#Compare-the-mean-face-size-on-different-shows\" data-toc-modified-id=\"Compare-the-mean-face-size-on-different-shows-2.2\"><span class=\"toc-item-num\">2.2&nbsp;&nbsp;</span>Compare the mean face size on different shows</a></span></li></ul></li></ul></div>"
   ]
  },
  {
   "cell_type": "code",
   "execution_count": null,
   "metadata": {
    "ExecuteTime": {
     "end_time": "2018-08-21T23:40:05.983910Z",
     "start_time": "2018-08-21T23:39:56.881922Z"
    }
   },
   "outputs": [],
   "source": [
    "from esper.prelude import *\n",
    "from esper.widget import *\n",
    "from esper.spark_util import *\n",
    "from esper.major_canonical_shows import MAJOR_CANONICAL_SHOWS\n",
    "\n",
    "import math\n",
    "from datetime import timedelta\n",
    "from collections import defaultdict, OrderedDict"
   ]
  },
  {
   "cell_type": "code",
   "execution_count": null,
   "metadata": {
    "ExecuteTime": {
     "end_time": "2018-08-21T23:59:42.624414Z",
     "start_time": "2018-08-21T23:59:42.591241Z"
    }
   },
   "outputs": [],
   "source": [
    "def plot_curves(curves, title, x_label, y_label, y_lim=None, x_lim=None):\n",
    "    fig, ax1 = plt.subplots()\n",
    "\n",
    "    for series, values in curves.items():\n",
    "        x = []\n",
    "        y = []\n",
    "        for k in sorted(values):\n",
    "            x.append(k)\n",
    "            y.append(values[k])\n",
    "        ax1.plot(x, y, 'o-', label=series)\n",
    "        \n",
    "    ax1.legend()\n",
    "    ax1.set_title(title)\n",
    "    ax1.set_ylabel(y_label)\n",
    "    ax1.set_xlabel(x_label)\n",
    "    if y_lim is not None:\n",
    "        ax1.set_ylim(y_lim)\n",
    "    if x_lim is not None:\n",
    "        ax1.set_xlim(x_lim)\n",
    "    plt.show()"
   ]
  },
  {
   "cell_type": "code",
   "execution_count": null,
   "metadata": {
    "ExecuteTime": {
     "end_time": "2018-08-21T23:42:27.284901Z",
     "start_time": "2018-08-21T23:40:06.029041Z"
    }
   },
   "outputs": [],
   "source": [
    "face_genders = get_face_genders()"
   ]
  },
  {
   "cell_type": "markdown",
   "metadata": {},
   "source": [
    "# Are male faces shown on screen larger than female faces?"
   ]
  },
  {
   "cell_type": "code",
   "execution_count": null,
   "metadata": {
    "ExecuteTime": {
     "end_time": "2018-08-22T00:08:58.954627Z",
     "start_time": "2018-08-22T00:00:45.478084Z"
    }
   },
   "outputs": [],
   "source": [
    "gender_map = { g.id : g.name for g in Gender.objects.all() }\n",
    "\n",
    "gender_hists = OrderedDict([('M', {}), ('F', {})])\n",
    "for (gender_id, height), v in count_distinct_over_column(\n",
    "            face_genders.where(face_genders.probability > 0.9),\n",
    "            distinct_columns=[], #['face_id'],\n",
    "            group_by_columns=['gender_id', 'height'],\n",
    "            group_by_key_fn=lambda x: (x[0], math.ceil(x[1] * 100))\n",
    "        ).items():\n",
    "    gender_hists[gender_map[gender_id]][height] = v[0]"
   ]
  },
  {
   "cell_type": "markdown",
   "metadata": {},
   "source": [
    "## There are more male faces in general so counts for male faces are higher."
   ]
  },
  {
   "cell_type": "code",
   "execution_count": null,
   "metadata": {
    "ExecuteTime": {
     "end_time": "2018-08-22T00:08:59.206706Z",
     "start_time": "2018-08-22T00:08:58.959004Z"
    }
   },
   "outputs": [],
   "source": [
    "plot_curves(gender_hists, 'Distribution of face height by gender', \n",
    "            'Height (% of frame)', 'Count')"
   ]
  },
  {
   "cell_type": "markdown",
   "metadata": {},
   "source": [
    "## What if we normalized and compared the proportion of faces in each height bucket?"
   ]
  },
  {
   "cell_type": "code",
   "execution_count": null,
   "metadata": {
    "ExecuteTime": {
     "end_time": "2018-08-22T00:08:59.442455Z",
     "start_time": "2018-08-22T00:08:59.209719Z"
    }
   },
   "outputs": [],
   "source": [
    "gender_hists_normalized = OrderedDict([('M', {}), ('F', {})])\n",
    "for gender_name, hist in gender_hists.items():\n",
    "    denom = sum(hist.values())\n",
    "    for k, v in hist.items():\n",
    "        gender_hists_normalized[gender_name][k] = v / denom\n",
    "        \n",
    "plot_curves(gender_hists_normalized, 'Distribution of face height by gender', \n",
    "            'Height (% of frame)', 'Proportion (normalized)')"
   ]
  },
  {
   "cell_type": "code",
   "execution_count": null,
   "metadata": {
    "ExecuteTime": {
     "end_time": "2018-08-22T00:08:59.667004Z",
     "start_time": "2018-08-22T00:08:59.445126Z"
    }
   },
   "outputs": [],
   "source": [
    "gender_hists_cdf = OrderedDict([('M', {}), ('F', {})])\n",
    "for gender_name, hist in gender_hists_normalized.items():\n",
    "    acc = 0.\n",
    "    for k, v in sorted(hist.items(), key=lambda x: x[0]):\n",
    "        gender_hists_cdf[gender_name][k] = acc\n",
    "        acc += v\n",
    "        \n",
    "plot_curves(gender_hists_cdf, 'Cumulative distribution of face height by gender', \n",
    "            'Height (% of frame)', 'CDF')"
   ]
  },
  {
   "cell_type": "markdown",
   "metadata": {},
   "source": [
    "# Does this pattern hold for all shows?"
   ]
  },
  {
   "cell_type": "code",
   "execution_count": null,
   "metadata": {
    "ExecuteTime": {
     "start_time": "2018-08-22T00:11:32.525Z"
    }
   },
   "outputs": [],
   "source": [
    "canonical_show_map = {\n",
    "    c.id : c.name for c in CanonicalShow.objects.all() \n",
    "    if c.name in MAJOR_CANONICAL_SHOWS \n",
    "}\n",
    "\n",
    "gender_hists_by_show = defaultdict(lambda: OrderedDict([('M', {}), ('F', {})]))\n",
    "for (canonical_show_id, gender_id, height), v in count_distinct_over_column(\n",
    "            face_genders.where(face_genders.probability > 0.9),\n",
    "            distinct_columns=[], #['face_id'],\n",
    "            group_by_columns=['canonical_show_id', 'gender_id', 'height'],\n",
    "            group_by_key_fn=lambda x: (x[0], x[1], math.ceil(x[2] * 100))\n",
    "        ).items():\n",
    "    if canonical_show_id not in canonical_show_map:\n",
    "        continue\n",
    "    gender_hists_by_show[\n",
    "        canonical_show_map[canonical_show_id]\n",
    "    ][gender_map[gender_id]][height] = v[0]"
   ]
  },
  {
   "cell_type": "markdown",
   "metadata": {},
   "source": [
    "## Plot the distributions of male and female faces (descending disparity)"
   ]
  },
  {
   "cell_type": "code",
   "execution_count": null,
   "metadata": {
    "ExecuteTime": {
     "start_time": "2018-08-22T00:11:37.002Z"
    },
    "scrolled": false
   },
   "outputs": [],
   "source": [
    "gender_hists_by_show_normalized = defaultdict(lambda: OrderedDict([('M', {}), ('F', {})]))\n",
    "for canonical_show, show_gender_hists in gender_hists_by_show.items():\n",
    "    for gender_name, hist in show_gender_hists.items():\n",
    "        denom = sum(hist.values())\n",
    "        for k, v in hist.items():\n",
    "            gender_hists_by_show_normalized[canonical_show][gender_name][k] = v / denom\n",
    "\n",
    "def diff_in_avg_face_size(gender_hists):\n",
    "    avg_male_face_size = sum(k * v for k, v in gender_hists['M'].items())\n",
    "    avg_female_face_size = sum(k * v for k, v in gender_hists['F'].items())\n",
    "    return avg_male_face_size - avg_female_face_size\n",
    "            \n",
    "for canonical_show, show_gender_hists in sorted(gender_hists_by_show_normalized.items(), \n",
    "                                                key=lambda x: -diff_in_avg_face_size(x[1])):\n",
    "    plot_curves(show_gender_hists, \n",
    "                'Distribution of face height by gender on \"{}\"'.format(canonical_show), \n",
    "                'Height (% of frame)', \n",
    "                'Proportion (normalized)')"
   ]
  },
  {
   "cell_type": "markdown",
   "metadata": {},
   "source": [
    "## Compare the mean face size on different shows"
   ]
  },
  {
   "cell_type": "code",
   "execution_count": null,
   "metadata": {
    "ExecuteTime": {
     "start_time": "2018-08-22T00:11:38.319Z"
    }
   },
   "outputs": [],
   "source": [
    "def plot_difference_in_mean_face_size(normalized_show_hists):\n",
    "    x = []\n",
    "    y = []\n",
    "    for canonical_show, diff in sorted(\n",
    "        { \n",
    "            k : diff_in_avg_face_size(v) for k, v in \n",
    "             gender_hists_by_show_normalized.items() \n",
    "        }.items(), \n",
    "        key=lambda x: x[1]\n",
    "    ):\n",
    "        x.append(canonical_show)\n",
    "        y.append(diff)\n",
    "    \n",
    "    fig, ax1 = plt.subplots()\n",
    "    ind = np.arange(len(x))\n",
    "    width = 0.8\n",
    "    rect = ax1.bar(ind - width / 2, y, width, \n",
    "                   label='MeanHeight(Male) - MeanHeight(Female)', \n",
    "                   color='LightBlue')\n",
    "    ax1.set_ylabel('Mean face height (% of screen)')\n",
    "    ax1.set_title('Difference in mean face height by gender')\n",
    "    ax1.legend()\n",
    "    ax1.set_ylim((-0.25,4.25))\n",
    "    ax1.set_xticks(ind)\n",
    "    ax1.set_xlabel('Show name')\n",
    "    ax1.set_xticklabels(x, rotation=45, ha='right')\n",
    "    plt.axhline(0., color='Black', linestyle='--')\n",
    "    plt.show()\n",
    "\n",
    "plot_difference_in_mean_face_size(gender_hists_by_show_normalized)"
   ]
  },
  {
   "cell_type": "code",
   "execution_count": null,
   "metadata": {},
   "outputs": [],
   "source": []
  }
 ],
 "metadata": {
  "kernelspec": {
   "display_name": "Django Shell-Plus",
   "language": "python",
   "name": "django_extensions"
  },
  "language_info": {
   "codemirror_mode": {
    "name": "ipython",
    "version": 3
   },
   "file_extension": ".py",
   "mimetype": "text/x-python",
   "name": "python",
   "nbconvert_exporter": "python",
   "pygments_lexer": "ipython3",
   "version": "3.5.2"
  },
  "toc": {
   "base_numbering": 1,
   "nav_menu": {},
   "number_sections": true,
   "sideBar": false,
   "skip_h1_title": false,
   "title_cell": "Table of Contents",
   "title_sidebar": "Contents",
   "toc_cell": true,
   "toc_position": {},
   "toc_section_display": "block",
   "toc_window_display": false
  }
 },
 "nbformat": 4,
 "nbformat_minor": 2
}
