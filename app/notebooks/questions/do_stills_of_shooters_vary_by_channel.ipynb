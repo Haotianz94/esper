{
 "cells": [
  {
   "cell_type": "markdown",
   "metadata": {
    "toc": true
   },
   "source": [
    "<h1>Table of Contents<span class=\"tocSkip\"></span></h1>\n",
    "<div class=\"toc\" style=\"margin-top: 1em;\"><ul class=\"toc-item\"><li><span><a href=\"#Major-Shootings\" data-toc-modified-id=\"Major-Shootings-1\"><span class=\"toc-item-num\">1&nbsp;&nbsp;</span>Major Shootings</a></span></li><li><span><a href=\"#Shooting-Victims\" data-toc-modified-id=\"Shooting-Victims-2\"><span class=\"toc-item-num\">2&nbsp;&nbsp;</span>Shooting Victims</a></span></li></ul></div>"
   ]
  },
  {
   "cell_type": "code",
   "execution_count": null,
   "metadata": {
    "ExecuteTime": {
     "end_time": "2018-08-09T21:02:37.225628Z",
     "start_time": "2018-08-09T21:02:30.479088Z"
    }
   },
   "outputs": [],
   "source": [
    "from esper.identity_clusters import identity_clustering_workflow"
   ]
  },
  {
   "cell_type": "markdown",
   "metadata": {},
   "source": [
    "# Major Shootings"
   ]
  },
  {
   "cell_type": "code",
   "execution_count": null,
   "metadata": {
    "ExecuteTime": {
     "end_time": "2018-08-08T21:40:21.157609Z",
     "start_time": "2018-08-08T21:40:21.120928Z"
    }
   },
   "outputs": [],
   "source": [
    "shootings = [\n",
    "    ('Muhammad Youssef Abdulazeez', 'Chattanooga', 'Jul 16, 2015'),\n",
    "    ('Chris Harper-Mercer', 'Umpqua Community College', 'Oct 1, 2015'),\n",
    "    ('Robert Lewis Dear Jr', 'Colorado Springs - Planned Parenthood', 'Nov 27, 2015'),\n",
    "    ('Syed Rizwan Farook', 'San Bernardino', 'Dec 2, 2015'), \n",
    "    ('Tashfeen Malik', 'San Bernardino', 'Dec 2, 2015'),\n",
    "    ('Dylann Roof', 'Charleston Shurch', 'Jun 17, 2015'),\n",
    "    ('Omar Mateen', 'Orlando Nightclub', 'Jun 12, 2016'),\n",
    "    ('Micah Xavier Johnson', 'Dallas Police', 'Jul 7-8, 2016'),\n",
    "    ('Gavin Eugene Long', 'Baton Rouge Police', 'Jul 17, 2016'),\n",
    "    ('Esteban Santiago-Ruiz', 'Ft. Lauderdale Airport', 'Jan 6, 2017'),\n",
    "    ('Willie Corey Godbolt', 'Lincoln County', 'May 28, 2017'),\n",
    "    ('Stephen Paddock', 'Las Vegas', 'Oct 1, 2017'),\n",
    "    ('Devin Patrick Kelley', 'San Antonio Church', 'Nov 5, 2017')\n",
    "]\n",
    "orm_set = { x.name for x in Thing.objects.filter(name__in=[s[0].lower() for s in shootings]) }\n",
    "for s in shootings:\n",
    "    assert s[0].lower() in orm_set, '{} is not in the database'.format(s)"
   ]
  },
  {
   "cell_type": "code",
   "execution_count": null,
   "metadata": {
    "ExecuteTime": {
     "end_time": "2018-08-09T22:02:29.815171Z",
     "start_time": "2018-08-09T22:00:20.915366Z"
    },
    "scrolled": false
   },
   "outputs": [],
   "source": [
    "identity_clustering_workflow('Tashfeen Malik', init_clusters=20)"
   ]
  },
  {
   "cell_type": "code",
   "execution_count": null,
   "metadata": {
    "ExecuteTime": {
     "end_time": "2018-08-08T20:57:20.737735Z",
     "start_time": "2018-08-08T20:56:08.104201Z"
    },
    "scrolled": true
   },
   "outputs": [],
   "source": [
    "identity_clustering_workflow('Omar Mateen')"
   ]
  },
  {
   "cell_type": "code",
   "execution_count": null,
   "metadata": {
    "ExecuteTime": {
     "end_time": "2018-08-08T21:07:53.135653Z",
     "start_time": "2018-08-08T21:06:56.163827Z"
    },
    "scrolled": true
   },
   "outputs": [],
   "source": [
    "identity_clustering_workflow('Syed Rizwan Farook')"
   ]
  },
  {
   "cell_type": "code",
   "execution_count": null,
   "metadata": {
    "ExecuteTime": {
     "end_time": "2018-08-08T21:11:21.436310Z",
     "start_time": "2018-08-08T21:10:39.578950Z"
    },
    "scrolled": true
   },
   "outputs": [],
   "source": [
    "identity_clustering_workflow('Stephen Paddock')"
   ]
  },
  {
   "cell_type": "code",
   "execution_count": null,
   "metadata": {
    "ExecuteTime": {
     "end_time": "2018-08-08T21:12:18.084129Z",
     "start_time": "2018-08-08T21:11:46.530112Z"
    },
    "scrolled": false
   },
   "outputs": [],
   "source": [
    "identity_clustering_workflow('Devin Patrick Kelley')"
   ]
  },
  {
   "cell_type": "code",
   "execution_count": null,
   "metadata": {
    "ExecuteTime": {
     "end_time": "2018-08-08T21:45:17.970014Z",
     "start_time": "2018-08-08T21:44:19.753675Z"
    },
    "scrolled": true
   },
   "outputs": [],
   "source": [
    "identity_clustering_workflow('Dylann Roof')"
   ]
  },
  {
   "cell_type": "code",
   "execution_count": null,
   "metadata": {},
   "outputs": [],
   "source": []
  }
 ],
 "metadata": {
  "kernelspec": {
   "display_name": "Django Shell-Plus",
   "language": "python",
   "name": "django_extensions"
  },
  "language_info": {
   "codemirror_mode": {
    "name": "ipython",
    "version": 3
   },
   "file_extension": ".py",
   "mimetype": "text/x-python",
   "name": "python",
   "nbconvert_exporter": "python",
   "pygments_lexer": "ipython3",
   "version": "3.5.2"
  },
  "toc": {
   "nav_menu": {},
   "number_sections": true,
   "sideBar": false,
   "skip_h1_title": false,
   "toc_cell": true,
   "toc_position": {},
   "toc_section_display": "block",
   "toc_window_display": false
  }
 },
 "nbformat": 4,
 "nbformat_minor": 2
}
