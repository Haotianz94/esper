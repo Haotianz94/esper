{
 "cells": [
  {
   "cell_type": "markdown",
   "metadata": {
    "toc": true
   },
   "source": [
    "<h1>Table of Contents<span class=\"tocSkip\"></span></h1>\n",
    "<div class=\"toc\" style=\"margin-top: 1em;\"><ul class=\"toc-item\"><li><span><a href=\"#Shooting-Victims\" data-toc-modified-id=\"Shooting-Victims-1\"><span class=\"toc-item-num\">1&nbsp;&nbsp;</span>Shooting Victims</a></span></li></ul></div>"
   ]
  },
  {
   "cell_type": "code",
   "execution_count": null,
   "metadata": {
    "ExecuteTime": {
     "end_time": "2018-08-09T21:02:37.225628Z",
     "start_time": "2018-08-09T21:02:30.479088Z"
    }
   },
   "outputs": [],
   "source": [
    "from esper.identity_clusters import identity_clustering_workflow"
   ]
  },
  {
   "cell_type": "markdown",
   "metadata": {},
   "source": [
    "# Shooting Victims"
   ]
  },
  {
   "cell_type": "code",
   "execution_count": null,
   "metadata": {
    "ExecuteTime": {
     "end_time": "2018-08-08T22:50:25.445497Z",
     "start_time": "2018-08-08T22:48:54.579235Z"
    },
    "scrolled": true
   },
   "outputs": [],
   "source": [
    "identity_clustering_workflow('Walter Scott')"
   ]
  },
  {
   "cell_type": "code",
   "execution_count": null,
   "metadata": {
    "ExecuteTime": {
     "end_time": "2018-08-08T23:19:54.786259Z",
     "start_time": "2018-08-08T23:19:34.432783Z"
    },
    "scrolled": true
   },
   "outputs": [],
   "source": [
    "identity_clustering_workflow('Freddie Gray')"
   ]
  },
  {
   "cell_type": "code",
   "execution_count": null,
   "metadata": {
    "ExecuteTime": {
     "end_time": "2018-08-08T23:22:00.708707Z",
     "start_time": "2018-08-08T23:20:33.405049Z"
    },
    "scrolled": true
   },
   "outputs": [],
   "source": [
    "identity_clustering_workflow('Samuel DuBose')"
   ]
  },
  {
   "cell_type": "code",
   "execution_count": null,
   "metadata": {
    "ExecuteTime": {
     "end_time": "2018-08-09T01:38:04.247398Z",
     "start_time": "2018-08-09T01:37:26.391123Z"
    },
    "scrolled": true
   },
   "outputs": [],
   "source": [
    "identity_clustering_workflow('Christian Taylor')"
   ]
  },
  {
   "cell_type": "code",
   "execution_count": null,
   "metadata": {},
   "outputs": [],
   "source": []
  }
 ],
 "metadata": {
  "kernelspec": {
   "display_name": "Django Shell-Plus",
   "language": "python",
   "name": "django_extensions"
  },
  "language_info": {
   "codemirror_mode": {
    "name": "ipython",
    "version": 3
   },
   "file_extension": ".py",
   "mimetype": "text/x-python",
   "name": "python",
   "nbconvert_exporter": "python",
   "pygments_lexer": "ipython3",
   "version": "3.5.2"
  },
  "toc": {
   "nav_menu": {},
   "number_sections": true,
   "sideBar": false,
   "skip_h1_title": false,
   "toc_cell": true,
   "toc_position": {},
   "toc_section_display": "block",
   "toc_window_display": false
  }
 },
 "nbformat": 4,
 "nbformat_minor": 2
}
