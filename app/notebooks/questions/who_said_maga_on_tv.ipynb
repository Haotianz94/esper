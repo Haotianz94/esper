{
 "cells": [
  {
   "cell_type": "markdown",
   "metadata": {
    "toc": true
   },
   "source": [
    "<h1>Table of Contents<span class=\"tocSkip\"></span></h1>\n",
    "<div class=\"toc\" style=\"margin-top: 1em;\"><ul class=\"toc-item\"></ul></div>"
   ]
  },
  {
   "cell_type": "code",
   "execution_count": null,
   "metadata": {
    "ExecuteTime": {
     "end_time": "2018-08-02T20:43:22.404917Z",
     "start_time": "2018-08-02T20:43:10.514513Z"
    }
   },
   "outputs": [],
   "source": [
    "from esper.prelude import *\n",
    "from esper.widget import *\n",
    "from esper.spark_util import *\n",
    "from esper.major_canonical_shows import MAJOR_CANONICAL_SHOWS\n",
    "\n",
    "import math"
   ]
  },
  {
   "cell_type": "code",
   "execution_count": null,
   "metadata": {
    "ExecuteTime": {
     "end_time": "2018-08-02T20:43:22.438329Z",
     "start_time": "2018-08-02T20:43:22.407894Z"
    }
   },
   "outputs": [],
   "source": [
    "phrase = 'make america great again'"
   ]
  },
  {
   "cell_type": "code",
   "execution_count": null,
   "metadata": {
    "ExecuteTime": {
     "end_time": "2018-08-02T20:44:38.248611Z",
     "start_time": "2018-08-02T20:43:22.440839Z"
    }
   },
   "outputs": [],
   "source": [
    "caption_matches = caption_search([phrase.upper()])[0]"
   ]
  },
  {
   "cell_type": "code",
   "execution_count": null,
   "metadata": {
    "ExecuteTime": {
     "end_time": "2018-08-02T20:46:54.568934Z",
     "start_time": "2018-08-02T20:44:38.251830Z"
    }
   },
   "outputs": [],
   "source": [
    "face_genders = get_face_genders()\n",
    "face_genders = annotate_interval_overlap(\n",
    "    face_genders.where(face_genders.in_commercial == False),\n",
    "    caption_matches\n",
    ")\n",
    "face_genders = face_genders.where(face_genders.overlap_seconds > 0.)"
   ]
  },
  {
   "cell_type": "code",
   "execution_count": null,
   "metadata": {
    "ExecuteTime": {
     "end_time": "2018-08-02T20:48:39.443455Z",
     "start_time": "2018-08-02T20:46:54.571302Z"
    }
   },
   "outputs": [],
   "source": [
    "z_score = 1.96\n",
    "male_face_count, male_face_var = count_distinct_over_column(\n",
    "    face_genders, ['face_id'], probability_column='male_probability'\n",
    ")\n",
    "print('Male face count: {:0.2f} +/- {:0.2f}'.format(\n",
    "    male_face_count, z_score * math.sqrt(male_face_var)))\n",
    "female_face_count, female_face_var = count_distinct_over_column(\n",
    "    face_genders, ['face_id'], probability_column='female_probability'\n",
    ")\n",
    "print('Female face count: {:0.2f} +/- {:0.2f}'.format(\n",
    "    female_face_count, z_score * math.sqrt(female_face_var)))\n",
    "\n",
    "male_nh_face_count, male_nh_face_var = count_distinct_over_column(\n",
    "    face_genders.where(face_genders.host_probability < 0.25),\n",
    "    ['face_id'], probability_column='male_probability'\n",
    ")\n",
    "print('Male (non-host) face count: {:0.2f} +/- {:0.2f}'.format(\n",
    "    male_nh_face_count, z_score * math.sqrt(male_nh_face_var)))\n",
    "female_nh_face_count, female_nh_face_var = count_distinct_over_column(\n",
    "    face_genders.where(face_genders.host_probability < 0.25), \n",
    "    ['face_id'], probability_column='female_probability'\n",
    ")\n",
    "print('Female (non-host) face count: {:0.2f} +/- {:0.2f}'.format(\n",
    "    female_nh_face_count, z_score * math.sqrt(female_nh_face_var)))"
   ]
  },
  {
   "cell_type": "code",
   "execution_count": null,
   "metadata": {
    "ExecuteTime": {
     "end_time": "2018-08-02T20:52:29.350196Z",
     "start_time": "2018-08-02T20:51:58.079599Z"
    }
   },
   "outputs": [],
   "source": [
    "esper_widget(\n",
    "    qs_to_result(\n",
    "        FaceGender.objects.filter(\n",
    "            id__in=[\n",
    "                x.id for x in face_genders.where(\n",
    "                    (face_genders.host_probability < 0.25) &\n",
    "                    (face_genders.size_percentile > 25)\n",
    "                ).select('id').collect()\n",
    "            ]\n",
    "        ),\n",
    "        shuffle=True,\n",
    "        limit=10000\n",
    "    ),\n",
    "    crop_bboxes=True\n",
    ")"
   ]
  },
  {
   "cell_type": "code",
   "execution_count": null,
   "metadata": {
    "ExecuteTime": {
     "end_time": "2018-08-02T20:53:10.829577Z",
     "start_time": "2018-08-02T20:52:29.352384Z"
    },
    "scrolled": false
   },
   "outputs": [],
   "source": [
    "clusters = defaultdict(list)\n",
    "for (i, c) in face_kmeans([\n",
    "            x.face_id for x in face_genders.where(\n",
    "                (face_genders.host_probability < 0.25) &\n",
    "                (face_genders.size_percentile > 25) &\n",
    "                (face_genders.blurriness > 10)\n",
    "            ).select('face_id').collect()\n",
    "        ], k=100):\n",
    "    clusters[c].append(i)\n",
    "\n",
    "kmeans_results = []\n",
    "for _, ids in sorted(clusters.items(), key=lambda x: -len(x[1])):\n",
    "    kmeans_results.append((\n",
    "        'Cluster with {} faces'.format(len(ids)), \n",
    "        qs_to_result(Face.objects.filter(id__in=ids).distinct('shot__video'), \n",
    "                     limit=10)\n",
    "    ))\n",
    "\n",
    "esper_widget(group_results(kmeans_results), crop_bboxes=True)"
   ]
  },
  {
   "cell_type": "code",
   "execution_count": null,
   "metadata": {},
   "outputs": [],
   "source": []
  }
 ],
 "metadata": {
  "kernelspec": {
   "display_name": "Django Shell-Plus",
   "language": "python",
   "name": "django_extensions"
  },
  "language_info": {
   "codemirror_mode": {
    "name": "ipython",
    "version": 3
   },
   "file_extension": ".py",
   "mimetype": "text/x-python",
   "name": "python",
   "nbconvert_exporter": "python",
   "pygments_lexer": "ipython3",
   "version": "3.5.2"
  },
  "toc": {
   "base_numbering": 1,
   "nav_menu": {},
   "number_sections": true,
   "sideBar": false,
   "skip_h1_title": false,
   "title_cell": "Table of Contents",
   "title_sidebar": "Contents",
   "toc_cell": true,
   "toc_position": {},
   "toc_section_display": "block",
   "toc_window_display": false
  }
 },
 "nbformat": 4,
 "nbformat_minor": 2
}
