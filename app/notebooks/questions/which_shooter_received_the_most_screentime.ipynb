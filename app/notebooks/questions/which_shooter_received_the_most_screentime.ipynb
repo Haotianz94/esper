{
 "cells": [
  {
   "cell_type": "markdown",
   "metadata": {
    "toc": true
   },
   "source": [
    "<h1>Table of Contents<span class=\"tocSkip\"></span></h1>\n",
    "<div class=\"toc\" style=\"margin-top: 1em;\"><ul class=\"toc-item\"><li><span><a href=\"#Names-of-Mass-Shooters\" data-toc-modified-id=\"Names-of-Mass-Shooters-1\"><span class=\"toc-item-num\">1&nbsp;&nbsp;</span>Names of Mass Shooters</a></span></li><li><span><a href=\"#Identity-Analysis-of-Mass-Shooters-from-2015-17\" data-toc-modified-id=\"Identity-Analysis-of-Mass-Shooters-from-2015-17-2\"><span class=\"toc-item-num\">2&nbsp;&nbsp;</span>Identity Analysis of Mass Shooters from 2015-17</a></span></li><li><span><a href=\"#Caption-Analysis-of-Mass-Shooters-from-2015-17\" data-toc-modified-id=\"Caption-Analysis-of-Mass-Shooters-from-2015-17-3\"><span class=\"toc-item-num\">3&nbsp;&nbsp;</span>Caption Analysis of Mass Shooters from 2015-17</a></span></li><li><span><a href=\"#Timeline-of-when-the-word-&quot;shooting&quot;-was-mentioned-in-the-news\" data-toc-modified-id=\"Timeline-of-when-the-word-&quot;shooting&quot;-was-mentioned-in-the-news-4\"><span class=\"toc-item-num\">4&nbsp;&nbsp;</span>Timeline of when the word \"shooting\" was mentioned in the news</a></span></li></ul></div>"
   ]
  },
  {
   "cell_type": "code",
   "execution_count": null,
   "metadata": {
    "ExecuteTime": {
     "end_time": "2018-08-08T20:13:55.757396Z",
     "start_time": "2018-08-08T20:13:55.727601Z"
    }
   },
   "outputs": [],
   "source": [
    "from esper.prelude import *\n",
    "from esper.widget import *\n",
    "from esper.identity import *\n",
    "from esper.topics import *\n",
    "from esper.spark_util import *\n",
    "from esper.plot_util import *\n",
    "from esper.major_canonical_shows import MAJOR_CANONICAL_SHOWS"
   ]
  },
  {
   "cell_type": "markdown",
   "metadata": {},
   "source": [
    "# Names of Mass Shooters"
   ]
  },
  {
   "cell_type": "code",
   "execution_count": null,
   "metadata": {
    "ExecuteTime": {
     "end_time": "2018-08-08T20:13:55.802592Z",
     "start_time": "2018-08-08T20:13:55.759812Z"
    }
   },
   "outputs": [],
   "source": [
    "shootings = [\n",
    "    ('Muhammad Youssef Abdulazeez', 'Chattanooga', 'Jul 16, 2015'),\n",
    "    ('Chris Harper-Mercer', 'Umpqua Community College', 'Oct 1, 2015'),\n",
    "    ('Robert Lewis Dear Jr', 'Colorado Springs - Planned Parenthood', 'Nov 27, 2015'),\n",
    "    ('Syed Rizwan Farook', 'San Bernardino', 'Dec 2, 2015'), \n",
    "    ('Tashfeen Malik', 'San Bernardino', 'Dec 2, 2015'),\n",
    "    ('Dylann Roof', 'Charleston Shurch', 'Jun 17, 2015'),\n",
    "    ('Omar Mateen', 'Orlando Nightclub', 'Jun 12, 2016'),\n",
    "    ('Micah Xavier Johnson', 'Dallas Police', 'Jul 7-8, 2016'),\n",
    "    ('Gavin Eugene Long', 'Baton Rouge Police', 'Jul 17, 2016'),\n",
    "    ('Esteban Santiago-Ruiz', 'Ft. Lauderdale Airport', 'Jan 6, 2017'),\n",
    "    ('Willie Corey Godbolt', 'Lincoln County', 'May 28, 2017'),\n",
    "    ('Stephen Paddock', 'Las Vegas', 'Oct 1, 2017'),\n",
    "    ('Devin Patrick Kelley', 'San Antonio Church', 'Nov 5, 2017')\n",
    "]\n",
    "orm_set = { x.name for x in Thing.objects.filter(name__in=[s[0].lower() for s in shootings]) }\n",
    "for s in shootings:\n",
    "    assert s[0].lower() in orm_set, '{} is not in the database'.format(s)"
   ]
  },
  {
   "cell_type": "code",
   "execution_count": null,
   "metadata": {
    "ExecuteTime": {
     "end_time": "2018-08-08T20:14:22.827334Z",
     "start_time": "2018-08-08T20:13:55.804926Z"
    },
    "scrolled": false
   },
   "outputs": [],
   "source": [
    "for name, event, date in shootings:\n",
    "    faces = [\n",
    "        x.face for x in FaceIdentity.objects.filter(\n",
    "            probability__gt=0.95, \n",
    "            identity__name=name.lower()\n",
    "        ).order_by('?')[:10]\n",
    "    ]\n",
    "    print('[{}] {} - {}'.format(date, event, name))\n",
    "    im = faces_to_tiled_img(faces, cols=10)\n",
    "    imshow(im)\n",
    "    plt.show()"
   ]
  },
  {
   "cell_type": "markdown",
   "metadata": {},
   "source": [
    "# Identity Analysis of Mass Shooters from 2015-17"
   ]
  },
  {
   "cell_type": "code",
   "execution_count": null,
   "metadata": {
    "ExecuteTime": {
     "end_time": "2018-08-08T20:14:49.770341Z",
     "start_time": "2018-08-08T20:14:22.829585Z"
    }
   },
   "outputs": [],
   "source": [
    "face_identity_models = [FaceIdentityModel.load(name=name) for name, _, _ in shootings]"
   ]
  },
  {
   "cell_type": "code",
   "execution_count": null,
   "metadata": {
    "ExecuteTime": {
     "end_time": "2018-08-08T20:14:49.805409Z",
     "start_time": "2018-08-08T20:14:49.772888Z"
    }
   },
   "outputs": [],
   "source": [
    "for model in sorted(face_identity_models, key=lambda x: x.exp_positives_total):\n",
    "    print('{:<30} : {:0.2f} faces'.format(model.name, model.exp_positives_total))"
   ]
  },
  {
   "cell_type": "code",
   "execution_count": null,
   "metadata": {
    "ExecuteTime": {
     "end_time": "2018-08-08T20:14:55.523340Z",
     "start_time": "2018-08-08T20:14:49.808345Z"
    }
   },
   "outputs": [],
   "source": [
    "screen_times_by_show = [get_screen_time_by_show(m) for m in face_identity_models]"
   ]
  },
  {
   "cell_type": "code",
   "execution_count": null,
   "metadata": {
    "ExecuteTime": {
     "end_time": "2018-08-08T20:14:56.240691Z",
     "start_time": "2018-08-08T20:14:55.526320Z"
    }
   },
   "outputs": [],
   "source": [
    "channel_name_cmap = { \n",
    "    'CNN': 'DarkBlue', \n",
    "    'FOXNEWS': 'DarkRed', \n",
    "    'MSNBC': 'DarkGreen'\n",
    "}\n",
    "\n",
    "canonical_show_cmap = {\n",
    "    v['show__canonical_show__name'] : channel_name_cmap[v['channel__name']]\n",
    "    for v in Video.objects.distinct(\n",
    "        'show__canonical_show'\n",
    "    ).values('show__canonical_show__name', 'channel__name')\n",
    "}\n",
    "    \n",
    "plot_matrix(\n",
    "    ['{}\\n[{}] {}'.format(a, c, b) for a, b, c in shootings], \n",
    "    screen_times_by_show,\n",
    "    'Screentime Comparison Across Shows for Mass Shootings in 2015-17', \n",
    "    'Show Name', \n",
    "    'Person',\n",
    "    categories=list(\n",
    "        sorted(MAJOR_CANONICAL_SHOWS, key=lambda x: (canonical_show_cmap[x], x))\n",
    "    ),\n",
    "    category_color_map=canonical_show_cmap,\n",
    "    primary_scale=1./6.,\n",
    "    marker='d'\n",
    ")"
   ]
  },
  {
   "cell_type": "markdown",
   "metadata": {},
   "source": [
    "# Caption Analysis of Mass Shooters from 2015-17"
   ]
  },
  {
   "cell_type": "code",
   "execution_count": null,
   "metadata": {
    "ExecuteTime": {
     "end_time": "2018-08-08T20:17:05.519452Z",
     "start_time": "2018-08-08T20:14:56.243496Z"
    }
   },
   "outputs": [],
   "source": [
    "name_to_extra_phrases = {\n",
    "    'Willie Corey Godbolt': ['Willie Godbolt'],\n",
    "    'Chris Harper-Mercer': ['Harper-Mercer', 'Chris Harper Mercer'],\n",
    "    'Gavin Eugene Long': ['Gavin Long'],\n",
    "    'Devin Patrick Kelley': ['Devin Kelley'],\n",
    "    'Micah Xavier Johnson': ['Micah Johnson'],\n",
    "    'Esteban Santiago-Ruiz': ['Santiago-Ruiz', 'Esteban Santiago Ruiz'],\n",
    "    'Robert Lewis Dear Jr': ['Robert Dear'],\n",
    "    'Stephen Paddock': [],\n",
    "    'Muhammad Youssef Abdulazeez': ['Muhammad Abdulazeez'],\n",
    "    'Tashfeen Malik': [],\n",
    "    'Syed Rizwan Farook': ['Syed Farook'],\n",
    "    'Dylann Roof': [],\n",
    "    'Omar Mateen': []\n",
    "}\n",
    "\n",
    "caption_mentions_by_show = []\n",
    "for name, event, date in shootings:\n",
    "    caption_mentions_by_show.append(\n",
    "        get_caption_mentions_by_show(\n",
    "            [name.upper(), *[x.upper() for x in name_to_extra_phrases[name]]]\n",
    "        )\n",
    "    )"
   ]
  },
  {
   "cell_type": "code",
   "execution_count": null,
   "metadata": {
    "ExecuteTime": {
     "end_time": "2018-08-08T20:17:06.254234Z",
     "start_time": "2018-08-08T20:17:05.521553Z"
    }
   },
   "outputs": [],
   "source": [
    "plot_matrix(\n",
    "    ['{}\\n[{}] {}'.format(a, c, b) for a, b, c in shootings], \n",
    "    screen_times_by_show,\n",
    "    'Comparison Across Shows for Mass Shootings in 2015-17', \n",
    "    'Show Name', \n",
    "    'Person',\n",
    "    secondary_values_by_category=caption_mentions_by_show,\n",
    "    categories=list(\n",
    "        sorted(MAJOR_CANONICAL_SHOWS, key=lambda x: (canonical_show_cmap[x], x))\n",
    "    ),\n",
    "    value_names=['Screentime', 'Name Mentions'],\n",
    "    category_color_map=canonical_show_cmap,\n",
    "    primary_scale=1./6., secondary_scale=2.,\n",
    "    marker='d',\n",
    "    secondary_marker='o'\n",
    ")"
   ]
  },
  {
   "cell_type": "markdown",
   "metadata": {},
   "source": [
    "# Timeline of when the word \"shooting\" was mentioned in the news"
   ]
  },
  {
   "cell_type": "code",
   "execution_count": null,
   "metadata": {
    "ExecuteTime": {
     "end_time": "2018-08-08T20:17:12.912757Z",
     "start_time": "2018-08-08T20:17:06.256124Z"
    }
   },
   "outputs": [],
   "source": [
    "shooting_phrases = ['shooting', 'shooter', 'gunman']\n",
    "shooting_mentions = caption_search([x.upper() for x in shooting_phrases])[0]"
   ]
  },
  {
   "cell_type": "code",
   "execution_count": null,
   "metadata": {
    "ExecuteTime": {
     "end_time": "2018-08-08T20:18:58.658525Z",
     "start_time": "2018-08-08T20:18:55.302836Z"
    }
   },
   "outputs": [],
   "source": [
    "from collections import defaultdict\n",
    "from datetime import datetime\n",
    "\n",
    "MONTH_TO_INT = { \n",
    "     m : i + 1 for i, m in enumerate(\n",
    "        [\n",
    "            'jan', 'feb', 'mar', 'apr', 'may', \n",
    "            'jun', 'jul', 'aug', 'sep', 'oct',\n",
    "            'nov', 'dec'\n",
    "        ]\n",
    "    )\n",
    "} \n",
    "\n",
    "def parse_date_string(s):\n",
    "    month, day, year = s.lower().replace(',','').split(' ')\n",
    "    month = MONTH_TO_INT[month]\n",
    "    day = int(day.split('-')[0])\n",
    "    year = int(year)\n",
    "    return datetime(year=year, month=month, day=day)\n",
    "\n",
    "def plot_shooting_mentions():\n",
    "    video_id_map = { v.id : v for v in Video.objects.all() }\n",
    "    channel_id_map = { c.id : c.name for c in Channel.objects.all() }\n",
    "    \n",
    "    def get_dt_key(dt):\n",
    "        return datetime(year=dt.year, month=dt.month, day=dt.day) \n",
    "    \n",
    "    channel_to_data = defaultdict(lambda: defaultdict(int))\n",
    "    for video_id, video_mentions in shooting_mentions.items():\n",
    "        video = video_id_map[video_id]\n",
    "        channel_to_data[\n",
    "            channel_id_map[video.channel_id]\n",
    "        ][get_dt_key(video.time)] += len(video_mentions)\n",
    "      \n",
    "    channels = [x for x in channel_to_data]\n",
    "\n",
    "    plot_time_series(\n",
    "        channels, [channel_to_data[k] for k in channels],\n",
    "        'Mentions of \"{}\" Over Time'.format(', '.join(shooting_phrases)),\n",
    "        'Number of Caption Mentions',\n",
    "        plotstyle='-', linewidth=0.5,\n",
    "        discrete_events=[(s[1], parse_date_string(s[2])) for s in shootings]\n",
    "    )\n",
    "\n",
    "plot_shooting_mentions()"
   ]
  },
  {
   "cell_type": "code",
   "execution_count": null,
   "metadata": {},
   "outputs": [],
   "source": []
  }
 ],
 "metadata": {
  "kernelspec": {
   "display_name": "Django Shell-Plus",
   "language": "python",
   "name": "django_extensions"
  },
  "language_info": {
   "codemirror_mode": {
    "name": "ipython",
    "version": 3
   },
   "file_extension": ".py",
   "mimetype": "text/x-python",
   "name": "python",
   "nbconvert_exporter": "python",
   "pygments_lexer": "ipython3",
   "version": "3.5.2"
  },
  "toc": {
   "base_numbering": 1,
   "nav_menu": {},
   "number_sections": true,
   "sideBar": false,
   "skip_h1_title": false,
   "title_cell": "Table of Contents",
   "title_sidebar": "Contents",
   "toc_cell": true,
   "toc_position": {},
   "toc_section_display": "block",
   "toc_window_display": false
  }
 },
 "nbformat": 4,
 "nbformat_minor": 2
}
