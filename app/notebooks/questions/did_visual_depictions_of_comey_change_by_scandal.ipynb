{
 "cells": [
  {
   "cell_type": "markdown",
   "metadata": {
    "toc": true
   },
   "source": [
    "<h1>Table of Contents<span class=\"tocSkip\"></span></h1>\n",
    "<div class=\"toc\" style=\"margin-top: 1em;\"><ul class=\"toc-item\"><li><span><a href=\"#James-Comey-(static-images)\" data-toc-modified-id=\"James-Comey-(static-images)-1\"><span class=\"toc-item-num\">1&nbsp;&nbsp;</span>James Comey (static images)</a></span></li><li><span><a href=\"#James-Comey-(live-widget)\" data-toc-modified-id=\"James-Comey-(live-widget)-2\"><span class=\"toc-item-num\">2&nbsp;&nbsp;</span>James Comey (live widget)</a></span></li></ul></div>"
   ]
  },
  {
   "cell_type": "code",
   "execution_count": null,
   "metadata": {
    "ExecuteTime": {
     "end_time": "2018-10-03T08:21:06.427516Z",
     "start_time": "2018-10-03T08:21:05.395949Z"
    }
   },
   "outputs": [],
   "source": [
    "from esper.prelude import *\n",
    "from esper.widget import *\n",
    "from esper.plot_util import *\n",
    "from query.models import *\n",
    "from collections import defaultdict\n",
    "from datetime import datetime\n",
    "import random"
   ]
  },
  {
   "cell_type": "code",
   "execution_count": null,
   "metadata": {
    "ExecuteTime": {
     "end_time": "2018-10-03T08:21:06.552428Z",
     "start_time": "2018-10-03T08:21:06.430590Z"
    }
   },
   "outputs": [],
   "source": [
    "def get_shots_with_two_named_people(person1, person2, identity_threshold=0.8):\n",
    "    def shots_with_identity(name):\n",
    "        return {\n",
    "            x['face__shot__id'] for x in FaceIdentity.objects.filter(\n",
    "                identity__name=name.lower(), probability__gt=identity_threshold\n",
    "            ).values('face__shot__id') if x['face__shot__id'] is not None\n",
    "        }\n",
    "    return shots_with_identity(person1) & shots_with_identity(person2)\n",
    "\n",
    "def montage_shots_by_time(shot_ids, agg_fn, n_per_time, n_cols):\n",
    "    shots = list(Shot.objects.filter(\n",
    "        id__in=shot_ids if isinstance(shot_ids, list) else list(shot_ids)\n",
    "    ).select_related('video').order_by('video__time'))\n",
    "\n",
    "    time_to_shots = defaultdict(list)\n",
    "    for shot in shots:\n",
    "        time_to_shots[agg_fn(shot.video.time)].append(shot)\n",
    "        \n",
    "    def choose_best_images(imgs, shots, n, resample=(30, 20)):\n",
    "        # Greedily choose images that maximize distance to the current sample\n",
    "        if len(imgs) <= n:\n",
    "            return imgs, shots\n",
    "        \n",
    "        imgs = [(im, cv2.resize(im, resample), shot_id) for im, shot_id in zip(imgs, shots)]\n",
    "        sample = [imgs[0]]\n",
    "        del imgs[0]\n",
    "        while len(sample) < n:\n",
    "            max_min_dist = None\n",
    "            next_sample_idx = None\n",
    "            for i, img in enumerate(imgs):\n",
    "                min_dist = min([np.linalg.norm(s[1] - img[1]) for s in sample])\n",
    "                if max_min_dist is None or min_dist > max_min_dist:\n",
    "                    max_min_dist = min_dist\n",
    "                    next_sample_idx = i\n",
    "            sample.append(imgs[next_sample_idx])\n",
    "            del imgs[next_sample_idx]\n",
    "        return [s[0] for s in sample], [s[2] for s in sample]\n",
    "        \n",
    "    def tile_helper(shots):\n",
    "        imgs = [load_frame(shot.video, int((shot.max_frame + shot.min_frame) / 2), []) \n",
    "                for shot in shots]\n",
    "        shape = (imgs[0].shape[1], imgs[0].shape[0])\n",
    "        imgs = [cv2.resize(img, shape) for img in imgs]\n",
    "        imgs, img_shots = choose_best_images(imgs, shots, n_per_time)\n",
    "        return (\n",
    "            tile_images(imgs, cols=n_cols, blank_value=255),\n",
    "            img_shots,\n",
    "            len(shots), \n",
    "            sum([(s.max_frame - s.min_frame) / s.video.fps for s in shots])\n",
    "        )\n",
    "    \n",
    "    times = list(time_to_shots.keys())\n",
    "    shots = [time_to_shots[t] for t in times]\n",
    "    images = par_for(tile_helper, shots)\n",
    "    return { t : image for t, image in zip(times, images) }\n",
    "\n",
    "def compare_by_time(person, hosts, agg_fn, n_per_time=20, n_cols=5):\n",
    "    host_to_shots_by_time = {}\n",
    "    for host in hosts:\n",
    "        print('Searching for {} and {}'.format(host, person))\n",
    "        host_to_shots_by_time[host] = montage_shots_by_time(\n",
    "            get_shots_with_two_named_people(person, host),\n",
    "            agg_fn, n_per_time, n_cols\n",
    "        )\n",
    "    all_times = set()\n",
    "    for shots_by_time in host_to_shots_by_time.values():\n",
    "        all_times.update(shots_by_time.keys())\n",
    "    for t in sorted(all_times):\n",
    "        print(t)\n",
    "        for host in hosts:\n",
    "            if t in host_to_shots_by_time[host]:\n",
    "                im, im_shots, num_shots, seconds = host_to_shots_by_time[host][t]\n",
    "                print('{} - {} shots - {:0.2f} min - Showing shots: {}'.format(\n",
    "                      host, num_shots, seconds / 60, [s.id for s in im_shots]))\n",
    "                imshow(im)\n",
    "                plt.show()\n",
    "                \n",
    "agg_by_day = lambda t: datetime(day=t.day, month=t.month, year=t.year)\n",
    "agg_by_month = lambda t: datetime(day=1, month=t.month, year=t.year)\n",
    "agg_by_year = lambda t: datetime(day=1, month=1, year=t.year)"
   ]
  },
  {
   "cell_type": "code",
   "execution_count": null,
   "metadata": {
    "ExecuteTime": {
     "end_time": "2018-10-03T12:09:09.285886Z",
     "start_time": "2018-10-03T12:09:09.252615Z"
    }
   },
   "outputs": [],
   "source": [
    "hosts = [\n",
    "    'Sean Hannity', 'Bill O\\'Reilly', 'Tucker Carlson', \n",
    "    'Rachel Maddow', 'Chris Matthews', 'Wolf Blitzer', \n",
    "    'Lawrence O\\'Donnell',\n",
    "]"
   ]
  },
  {
   "cell_type": "markdown",
   "metadata": {},
   "source": [
    "# James Comey (static images)"
   ]
  },
  {
   "cell_type": "code",
   "execution_count": null,
   "metadata": {
    "ExecuteTime": {
     "end_time": "2018-10-03T12:09:33.188662Z",
     "start_time": "2018-10-03T12:09:11.977161Z"
    },
    "scrolled": false
   },
   "outputs": [],
   "source": [
    "compare_by_time('James Comey', hosts, agg_by_month)"
   ]
  },
  {
   "cell_type": "markdown",
   "metadata": {},
   "source": [
    "# James Comey (live widget)"
   ]
  },
  {
   "cell_type": "code",
   "execution_count": null,
   "metadata": {
    "ExecuteTime": {
     "end_time": "2018-10-03T08:35:22.028749Z",
     "start_time": "2018-10-03T08:35:05.323376Z"
    },
    "scrolled": true
   },
   "outputs": [],
   "source": [
    "def get_shots_with_person_and_hosts(person, hosts, identity_threshold=0.8, filter_kwargs={}):\n",
    "    shots_with_person =  {\n",
    "        x['face__shot__id'] for x in FaceIdentity.objects.filter(\n",
    "            identity__name=person.lower(), probability__gt=identity_threshold,\n",
    "            **filter_kwargs\n",
    "        ).values('face__shot__id') if x['face__shot__id'] is not None\n",
    "    }\n",
    "    shots_with_hosts = {\n",
    "        x['face__shot__id'] for x in FaceIdentity.objects.filter(\n",
    "            identity__name__in=[h.lower() for h in hosts],\n",
    "            probability__gt=identity_threshold, **filter_kwargs\n",
    "        ).values('face__shot__id') if x['face__shot__id'] is not None\n",
    "    }\n",
    "    return list(shots_with_person & shots_with_hosts)\n",
    "\n",
    "def subsample_by_video(shots, n):\n",
    "    # Limit the number of shots per video\n",
    "    video_id_to_shot = defaultdict(list)\n",
    "    for s in Shot.objects.filter(id__in=shots).values('id', 'video__id'):\n",
    "        video_id_to_shot[s['video__id']].append(s['id'])\n",
    "    sample = []\n",
    "    for v, l in sorted(video_id_to_shot.items()):\n",
    "        sample.extend(l if len(l) <= n else random.sample(l, n))\n",
    "    return sample\n",
    "\n",
    "def reorder_shots(shots):\n",
    "    return [\n",
    "        s.id for s in Shot.objects.filter(\n",
    "            id__in=shots\n",
    "        ).order_by('video__show__canonical_show__name', 'video__time')\n",
    "    ]\n",
    "\n",
    "candidate_shots = reorder_shots(\n",
    "    subsample_by_video(\n",
    "        get_shots_with_person_and_hosts('James Comey', hosts), \n",
    "        3\n",
    "    )\n",
    ")\n",
    "widget = esper_widget(\n",
    "    qs_to_result(Shot.objects.filter(id__in=candidate_shots), \n",
    "                 custom_order_by_id=candidate_shots, \n",
    "    limit=len(candidate_shots))\n",
    ")\n",
    "print('Select shots to include in the montage.')\n",
    "widget"
   ]
  },
  {
   "cell_type": "code",
   "execution_count": null,
   "metadata": {
    "ExecuteTime": {
     "end_time": "2018-08-23T00:25:17.076831Z",
     "start_time": "2018-08-23T00:25:17.047501Z"
    }
   },
   "outputs": [],
   "source": [
    "selected_shots = [candidate_shots[i] for i in widget.selected]"
   ]
  },
  {
   "cell_type": "code",
   "execution_count": null,
   "metadata": {
    "ExecuteTime": {
     "end_time": "2018-10-03T09:15:17.396827Z",
     "start_time": "2018-10-03T09:15:17.346912Z"
    },
    "scrolled": false
   },
   "outputs": [],
   "source": [
    "def group_shots_by_identity(shots, names):\n",
    "    identity_to_shots = defaultdict(list)\n",
    "    for x in FaceIdentity.objects.filter(\n",
    "                identity__name__in=[s.lower() for s in names], face__shot__id__in=shots\n",
    "    ).values('face__shot__id', 'identity__name'):\n",
    "        identity_to_shots[x['identity__name']].append(x['face__shot__id'])\n",
    "    return identity_to_shots\n",
    "\n",
    "results = []\n",
    "for name, shots in group_shots_by_identity(selected_shots, hosts).items():\n",
    "    results.append((name, qs_to_result(Shot.objects.filter(id__in=shots), limit=len(shots))))\n",
    "esper_widget(group_results(results))"
   ]
  },
  {
   "cell_type": "code",
   "execution_count": null,
   "metadata": {
    "ExecuteTime": {
     "end_time": "2018-08-23T00:26:54.942887Z",
     "start_time": "2018-08-23T00:26:54.914087Z"
    }
   },
   "outputs": [],
   "source": [
    "print(selected_shots)"
   ]
  },
  {
   "cell_type": "code",
   "execution_count": null,
   "metadata": {
    "ExecuteTime": {
     "end_time": "2018-08-23T05:56:31.409645Z",
     "start_time": "2018-08-23T05:55:34.184624Z"
    }
   },
   "outputs": [],
   "source": [
    "def montage_shots(shots, cols=5):\n",
    "    imgs = [load_frame(shot.video, int((shot.max_frame + shot.min_frame) / 2), []) \n",
    "            for shot in Shot.objects.filter(id__in=shots).order_by('video__time')]\n",
    "    shape = (imgs[0].shape[1], imgs[0].shape[0])\n",
    "    imgs = [cv2.resize(img, shape) for img in imgs]\n",
    "    return tile_images(imgs, cols=cols, blank_value=255)\n",
    "for name, shots in group_shots_by_identity(selected_shots, hosts).items():\n",
    "    print(name)\n",
    "    imshow(montage_shots(shots))\n",
    "    plt.show()"
   ]
  },
  {
   "cell_type": "code",
   "execution_count": null,
   "metadata": {
    "ExecuteTime": {
     "end_time": "2018-10-03T09:15:20.255088Z",
     "start_time": "2018-10-03T09:15:20.210590Z"
    }
   },
   "outputs": [],
   "source": [
    "group_shots_by_identity([45188880, 48495239, 10806744, 60303840, 41194177, 44591079, 29310912, 37307674, 22151574, 44746669, 6062987, 584292, 28005192, 584307, 44419012, 27039495, 47459051, 45164767, 49952789, 59278225, 59278241, 41072250, 28088277, 58423117, 32191124, 19482668, 5848914, 11292838, 54541370, 8589521, 50722074, 22458768, 25510239, 10714080, 10713245, 2526491, 113621, 113168, 57554026, 52691455, 33194816, 1678041, 21838447, 23198934, 44426599, 157794], hosts)"
   ]
  },
  {
   "cell_type": "code",
   "execution_count": null,
   "metadata": {},
   "outputs": [],
   "source": []
  }
 ],
 "metadata": {
  "kernelspec": {
   "display_name": "Django Shell-Plus",
   "language": "python",
   "name": "django_extensions"
  },
  "language_info": {
   "codemirror_mode": {
    "name": "ipython",
    "version": 3
   },
   "file_extension": ".py",
   "mimetype": "text/x-python",
   "name": "python",
   "nbconvert_exporter": "python",
   "pygments_lexer": "ipython3",
   "version": "3.5.2"
  },
  "toc": {
   "base_numbering": 1,
   "nav_menu": {},
   "number_sections": true,
   "sideBar": false,
   "skip_h1_title": false,
   "title_cell": "Table of Contents",
   "title_sidebar": "Contents",
   "toc_cell": true,
   "toc_position": {},
   "toc_section_display": "block",
   "toc_window_display": false
  }
 },
 "nbformat": 4,
 "nbformat_minor": 2
}
