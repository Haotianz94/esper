{
 "cells": [
  {
   "cell_type": "markdown",
   "metadata": {},
   "source": [
    "# Query Poses"
   ]
  },
  {
   "cell_type": "code",
   "execution_count": null,
   "metadata": {
    "ExecuteTime": {
     "end_time": "2019-04-29T08:28:24.561906Z",
     "start_time": "2019-04-29T08:28:24.548828Z"
    },
    "scrolled": true
   },
   "outputs": [],
   "source": [
    "from esper.table_tennis.utils import *\n",
    "from esper.widget import *\n",
    "import cv2\n",
    "import random\n",
    "import pickle"
   ]
  },
  {
   "cell_type": "code",
   "execution_count": null,
   "metadata": {
    "ExecuteTime": {
     "end_time": "2019-04-29T08:26:59.806926Z",
     "start_time": "2019-04-29T08:26:59.787137Z"
    }
   },
   "outputs": [],
   "source": [
    "video_id = 65\n",
    "video = Video.objects.filter(id=video_id)[0]\n",
    "video_ids = [video_id]\n",
    "video.path"
   ]
  },
  {
   "cell_type": "code",
   "execution_count": null,
   "metadata": {
    "ExecuteTime": {
     "end_time": "2019-04-29T08:29:31.662605Z",
     "start_time": "2019-04-29T08:29:31.591165Z"
    }
   },
   "outputs": [],
   "source": [
    "esper_widget(qs_to_result(Pose.objects.filter(frame__video__id=65)))"
   ]
  },
  {
   "cell_type": "markdown",
   "metadata": {},
   "source": [
    "# Find frames with people"
   ]
  },
  {
   "cell_type": "code",
   "execution_count": null,
   "metadata": {
    "ExecuteTime": {
     "end_time": "2019-03-11T14:25:21.918210Z",
     "start_time": "2019-03-11T14:25:21.198456Z"
    }
   },
   "outputs": [],
   "source": [
    "LABELED_TAG, _ = Tag.objects.get_or_create(name='openpose:labeled')\n",
    "frames_with_pose = Frame.objects.filter(video_id=video_id, tags=LABELED_TAG)\n",
    "num_frame_with_pose = len(frames_with_pose)\n",
    "print(\"{} frames contain poses out of {} frames ({:.02f}%)\".format(num_frame_with_pose, video.num_frames,\n",
    "                                                             100. * num_frame_with_pose/video.num_frames))"
   ]
  },
  {
   "cell_type": "markdown",
   "metadata": {},
   "source": [
    "# Find frames with only two people"
   ]
  },
  {
   "cell_type": "code",
   "execution_count": null,
   "metadata": {
    "ExecuteTime": {
     "end_time": "2019-04-29T08:29:54.328427Z",
     "start_time": "2019-04-29T08:29:48.157667Z"
    },
    "scrolled": true
   },
   "outputs": [],
   "source": [
    "NUM_PERSON_IN_FRAME = 2\n",
    "\n",
    "two_people_intrvlcol_all = VideoIntervalCollection.from_django_qs(\n",
    "    Pose.objects.filter(frame__video__id__in=video_ids) \\\n",
    "    .annotate(video_id=F('frame__video_id')) \\\n",
    "    .annotate(min_frame=F('frame__number')) \\\n",
    "    .annotate(max_frame=F('frame__number')),\n",
    "    with_payload=lambda obj: [VideoIntervalCollection.django_accessor(obj, 'id')] \n",
    "    ).coalesce(payload_merge_op=payload_plus).filter(payload_satisfies(length_exactly(NUM_PERSON_IN_FRAME)))\n"
   ]
  },
  {
   "cell_type": "code",
   "execution_count": null,
   "metadata": {
    "ExecuteTime": {
     "end_time": "2019-04-29T08:30:03.114322Z",
     "start_time": "2019-04-29T08:30:02.913847Z"
    }
   },
   "outputs": [],
   "source": [
    "two_people_intrvlcol = \\\n",
    "    two_people_intrvlcol_all \\\n",
    "        .dilate(5) \\\n",
    "        .coalesce(payload_merge_op=payload_plus) \\\n",
    "        .dilate(-5) \\\n",
    "        .filter_length(min_length=25)\n",
    "\n",
    "two_people_intrvlcol_all = \\\n",
    "    two_people_intrvlcol_all \\\n",
    "        .dilate(10) \\\n",
    "        .coalesce() \\\n",
    "        .dilate(-10) \n",
    "count_intervals(two_people_intrvlcol_all)"
   ]
  },
  {
   "cell_type": "code",
   "execution_count": null,
   "metadata": {
    "ExecuteTime": {
     "end_time": "2019-03-06T19:21:56.812756Z",
     "start_time": "2019-03-06T19:21:56.765441Z"
    }
   },
   "outputs": [],
   "source": [
    "num_frames_in_match = count_duration(match_intrvlcol)\n",
    "print(\"{} frames are in match out of {} frames ({:.02f}%)\".format(num_frames_in_match, video.num_frames,\n",
    "                                                           100. * num_frames_in_match/video.num_frames))"
   ]
  },
  {
   "cell_type": "code",
   "execution_count": null,
   "metadata": {
    "ExecuteTime": {
     "end_time": "2019-03-11T05:07:20.956248Z",
     "start_time": "2019-03-11T05:07:20.910460Z"
    }
   },
   "outputs": [],
   "source": [
    "esper_widget(intrvlcol2result(two_people_intrvlcol, flat=True), use_jupyter_keybindings=True)"
   ]
  },
  {
   "cell_type": "markdown",
   "metadata": {},
   "source": [
    "## Create montage "
   ]
  },
  {
   "cell_type": "code",
   "execution_count": null,
   "metadata": {
    "ExecuteTime": {
     "end_time": "2019-03-06T19:50:39.703158Z",
     "start_time": "2019-03-06T19:50:32.117080Z"
    },
    "scrolled": true
   },
   "outputs": [],
   "source": [
    "match_intrvllist = match_intrvlcol.get_intervallist(video_id)\n",
    "create_montage(intrvlcol2list(match_intrvllist), out_path='/app/result/pose_montage.jpg',\n",
    "                  width=2160, num_cols=10,\n",
    "                  )"
   ]
  },
  {
   "cell_type": "code",
   "execution_count": null,
   "metadata": {
    "ExecuteTime": {
     "end_time": "2019-03-06T21:41:33.371555Z",
     "start_time": "2019-03-06T21:41:33.333581Z"
    }
   },
   "outputs": [],
   "source": [
    "intervals = [(video_id, i.start, i.end, -1) for i in match_intrvllist.get_intervals()]"
   ]
  },
  {
   "cell_type": "code",
   "execution_count": null,
   "metadata": {
    "ExecuteTime": {
     "end_time": "2019-03-06T21:50:50.450224Z",
     "start_time": "2019-03-06T21:47:34.984780Z"
    }
   },
   "outputs": [],
   "source": [
    "stitch_video_temporal(intervals, '/app/result/pose_montage.mp4')"
   ]
  },
  {
   "cell_type": "code",
   "execution_count": null,
   "metadata": {
    "ExecuteTime": {
     "end_time": "2019-03-08T06:58:12.785986Z",
     "start_time": "2019-03-08T06:58:12.771388Z"
    }
   },
   "outputs": [],
   "source": [
    "intervals_selected = intervals[30:55]"
   ]
  },
  {
   "cell_type": "code",
   "execution_count": null,
   "metadata": {
    "ExecuteTime": {
     "end_time": "2019-03-08T07:18:45.781852Z",
     "start_time": "2019-03-08T07:18:45.766888Z"
    }
   },
   "outputs": [],
   "source": [
    "video_path = '/app/result/pose_montage.avi'\n",
    "audio_path = '/app/result/pose_montage.wav'"
   ]
  },
  {
   "cell_type": "code",
   "execution_count": null,
   "metadata": {
    "ExecuteTime": {
     "end_time": "2019-03-08T07:07:01.374600Z",
     "start_time": "2019-03-08T06:58:30.281983Z"
    },
    "scrolled": true
   },
   "outputs": [],
   "source": [
    "stitch_video_spatial(intervals_selected, out_path=video_path, align=False, \n",
    "                     width=1920, num_cols=5, target_height = 1920 // 5 * 9 // 16)"
   ]
  },
  {
   "cell_type": "code",
   "execution_count": null,
   "metadata": {
    "ExecuteTime": {
     "end_time": "2019-03-08T07:15:51.561443Z",
     "start_time": "2019-03-08T07:15:21.677223Z"
    }
   },
   "outputs": [],
   "source": [
    "mix_audio(intervals_selected, out_path=audio_path, decrease_volume=7, align=False, dilation=0)"
   ]
  },
  {
   "cell_type": "code",
   "execution_count": null,
   "metadata": {
    "ExecuteTime": {
     "end_time": "2019-03-08T07:18:43.157556Z",
     "start_time": "2019-03-08T07:18:39.040970Z"
    }
   },
   "outputs": [],
   "source": [
    "concat_video_audio(video_path, audio_path, '/app/result/pose_montage-mix.mp4')"
   ]
  },
  {
   "cell_type": "markdown",
   "metadata": {},
   "source": [
    "# Segment Match Scene"
   ]
  },
  {
   "cell_type": "code",
   "execution_count": null,
   "metadata": {
    "ExecuteTime": {
     "end_time": "2019-04-29T08:30:33.415871Z",
     "start_time": "2019-04-29T08:30:33.365297Z"
    }
   },
   "outputs": [],
   "source": [
    "with open('/app/data/histogram/{:07d}.bin'.format(video_id), 'rb') as f:\n",
    "    feature_all = np.frombuffer(f.read(), dtype=np.int).reshape((-1, 3*16))"
   ]
  },
  {
   "cell_type": "code",
   "execution_count": null,
   "metadata": {
    "ExecuteTime": {
     "end_time": "2019-04-29T08:30:39.091388Z",
     "start_time": "2019-04-29T08:30:39.077893Z"
    }
   },
   "outputs": [],
   "source": [
    "two_people_intrvlcol_long = two_people_intrvlcol.filter_length(min_length=100)"
   ]
  },
  {
   "cell_type": "code",
   "execution_count": null,
   "metadata": {
    "ExecuteTime": {
     "end_time": "2019-04-29T08:30:42.159844Z",
     "start_time": "2019-04-29T08:30:42.132565Z"
    }
   },
   "outputs": [],
   "source": [
    "match_intervals = intrvlcol2list(two_people_intrvlcol_long, with_duration=True, sort_by_duration=True)"
   ]
  },
  {
   "cell_type": "code",
   "execution_count": null,
   "metadata": {
    "ExecuteTime": {
     "end_time": "2019-04-29T08:32:16.992309Z",
     "start_time": "2019-04-29T08:32:16.966149Z"
    }
   },
   "outputs": [],
   "source": [
    "# not work \n",
    "from esper.supercut import manual_select_candidates\n",
    "manual_select_candidates(interval2result(match_intervals))"
   ]
  },
  {
   "cell_type": "code",
   "execution_count": null,
   "metadata": {
    "ExecuteTime": {
     "end_time": "2019-04-29T08:33:13.981444Z",
     "start_time": "2019-04-29T08:33:13.965772Z"
    }
   },
   "outputs": [],
   "source": [
    "NUM_SAMPLE_TRAIN = 1000"
   ]
  },
  {
   "cell_type": "code",
   "execution_count": null,
   "metadata": {
    "ExecuteTime": {
     "end_time": "2019-04-29T08:33:15.116469Z",
     "start_time": "2019-04-29T08:33:15.093312Z"
    }
   },
   "outputs": [],
   "source": [
    "# positive samples\n",
    "selected = [0, 2, 3, 7, 6, 5, 4, 8, 9, 10, 11, 15, 14, 13, 12, 16, 17, 18, 19, 23, 22, 21, 20, 24, 25, 26, 27, 31, 29, 32, 33, 34, 35, 39, 38, 36, 40, 41, 43, 47, 45, 49, 48]\n",
    "positive_intervals = [match_intervals[id] for id in selected]\n",
    "num_sample = 0\n",
    "POSITIVE_STRIDE = 5\n",
    "# positive_fids_all = [fid for (vid, sfid, efid, duration) in positive_intervals \n",
    "#                  for fid in range(sfid+5, efid-5, POSITIVE_STRIDE)]\n",
    "positive_fids_all = [fid for (vid, sfid, efid, duration) in positive_intervals \n",
    "                 for fid in range(sfid, efid)]\n",
    "print(\"Total positive samples \", len(positive_fids_all))\n",
    "random.shuffle(positive_fids_all)\n",
    "positive_fids = positive_fids_all[: NUM_SAMPLE_TRAIN]\n",
    "positive_feature = [feature_all[fid] for fid in positive_fids]\n",
    "positive_label = [1] * NUM_SAMPLE_TRAIN"
   ]
  },
  {
   "cell_type": "code",
   "execution_count": null,
   "metadata": {
    "ExecuteTime": {
     "end_time": "2019-03-11T05:46:25.105318Z",
     "start_time": "2019-03-11T05:46:25.048574Z"
    }
   },
   "outputs": [],
   "source": [
    "positive_frames = VideoIntervalCollection({video_id: IntervalList([(fid, fid, 0) for fid in positive_fids])})\n",
    "esper_widget(intrvlcol2result(positive_frames, flat=True))"
   ]
  },
  {
   "cell_type": "code",
   "execution_count": null,
   "metadata": {
    "ExecuteTime": {
     "end_time": "2019-03-11T14:42:38.547470Z",
     "start_time": "2019-03-11T14:41:47.644394Z"
    }
   },
   "outputs": [],
   "source": [
    "create_montage([(video_id, fid, fid) for fid in positive_fids], out_path='/app/result/positive_montage.jpg',\n",
    "                  width=2160, num_cols=35)"
   ]
  },
  {
   "cell_type": "code",
   "execution_count": null,
   "metadata": {
    "ExecuteTime": {
     "end_time": "2019-04-29T08:34:24.177996Z",
     "start_time": "2019-04-29T08:33:55.805815Z"
    },
    "scrolled": true
   },
   "outputs": [],
   "source": [
    "# negative samples\n",
    "# NEGATIVE_STRIDE = 20\n",
    "# video_intrvlcol = VideoIntervalCollection({video_id : IntervalList([(0, video.num_frames-1, 0)])})\n",
    "# non_match_intrvlcol = video_intrvlcol.minus(two_people_intrvlcol_all)\n",
    "# negative_intervals = intrvlcol2list(non_match_intrvlcol)\n",
    "# negative_fids_all = [fid for (vid, sfid, efid, duration) in negative_intervals \n",
    "#                     for fid in range(sfid+5, efid-5, NEGATIVE_STRIDE)]\n",
    "positive_fids_large = [fid for interval in two_people_intrvlcol_all.get_intervallist(video_id).get_intervals() \n",
    "                          for fid in range(interval.start, interval.end+1)]\n",
    "negative_fids_all = [fid for fid in range(0, video.num_frames)\n",
    "                    if fid not in positive_fids_large]\n",
    "print(\"Total negative samples \", len(negative_fids_all))\n",
    "random.shuffle(negative_fids_all)\n",
    "negative_fids = negative_fids_all[: NUM_SAMPLE_TRAIN]\n",
    "negative_feature = [feature_all[fid] for fid in negative_fids]\n",
    "negative_label = [0] * NUM_SAMPLE_TRAIN"
   ]
  },
  {
   "cell_type": "code",
   "execution_count": null,
   "metadata": {
    "ExecuteTime": {
     "end_time": "2019-03-11T15:07:36.450820Z",
     "start_time": "2019-03-11T15:07:36.396260Z"
    },
    "scrolled": true
   },
   "outputs": [],
   "source": [
    "negative_frames = VideoIntervalCollection({video_id: IntervalList([(fid, fid, 0) for fid in negative_fids])})\n",
    "esper_widget(intrvlcol2result(negative_frames, flat=True))"
   ]
  },
  {
   "cell_type": "code",
   "execution_count": null,
   "metadata": {
    "ExecuteTime": {
     "end_time": "2019-03-11T14:57:47.696964Z",
     "start_time": "2019-03-11T14:57:45.833392Z"
    }
   },
   "outputs": [],
   "source": [
    "negative_frames = Pose.objects.filter(frame__video_id=video_id, frame__number__in=negative_fids)\n",
    "len(negative_frames)\n",
    "esper_widget(qs_to_result(negative_frames, stride=1, limit=1000))"
   ]
  },
  {
   "cell_type": "code",
   "execution_count": null,
   "metadata": {
    "ExecuteTime": {
     "end_time": "2019-03-11T14:40:07.436338Z",
     "start_time": "2019-03-11T14:39:13.136680Z"
    }
   },
   "outputs": [],
   "source": [
    "create_montage([(video_id, fid, fid) for fid in negative_fids], out_path='/app/result/negative_montage.jpg',\n",
    "                  width=2160, num_cols=35)"
   ]
  },
  {
   "cell_type": "code",
   "execution_count": null,
   "metadata": {
    "ExecuteTime": {
     "end_time": "2019-04-29T08:34:29.708827Z",
     "start_time": "2019-04-29T08:34:29.670651Z"
    },
    "scrolled": true
   },
   "outputs": [],
   "source": [
    "# train model\n",
    "from sklearn.neighbors import KNeighborsClassifier\n",
    "\n",
    "model = KNeighborsClassifier(n_neighbors=100)\n",
    "\n",
    "# Train the model using the training sets\n",
    "model.fit(positive_feature + negative_feature, positive_label + negative_label)"
   ]
  },
  {
   "cell_type": "code",
   "execution_count": null,
   "metadata": {
    "ExecuteTime": {
     "end_time": "2019-04-29T08:34:42.562780Z",
     "start_time": "2019-04-29T08:34:36.151246Z"
    }
   },
   "outputs": [],
   "source": [
    "#Predict Output\n",
    "predicted_label = model.predict(feature_all) "
   ]
  },
  {
   "cell_type": "code",
   "execution_count": null,
   "metadata": {
    "ExecuteTime": {
     "end_time": "2019-04-29T08:36:22.293886Z",
     "start_time": "2019-04-29T08:36:22.071208Z"
    }
   },
   "outputs": [],
   "source": [
    "pickle.dump(list(predicted_label), open('/app/data/pkl/match_scene_cls.pkl', 'wb'))"
   ]
  },
  {
   "cell_type": "code",
   "execution_count": null,
   "metadata": {
    "ExecuteTime": {
     "end_time": "2019-03-11T14:44:38.089852Z",
     "start_time": "2019-03-11T14:44:38.061297Z"
    },
    "scrolled": true
   },
   "outputs": [],
   "source": [
    "MATCH_THRESH = 0.9\n",
    "def filter_by_histogram(interval):\n",
    "    sfid, efid = interval.start, interval.end\n",
    "    predicted_interval = [predicted_label[fid] for fid in range(sfid, efid)]\n",
    "    return 1. * np.sum(predicted_interval) / (efid - sfid) > MATCH_THRESH\n",
    "match_scene_intrvlcol = two_people_intrvlcol.filter(filter_by_histogram)\n",
    "count_intervals(match_scene_intrvlcol)"
   ]
  },
  {
   "cell_type": "code",
   "execution_count": null,
   "metadata": {
    "ExecuteTime": {
     "end_time": "2019-03-11T05:55:32.235301Z",
     "start_time": "2019-03-11T05:55:32.212513Z"
    },
    "scrolled": true
   },
   "outputs": [],
   "source": [
    "esper_widget(intrvlcol2result(match_scene_intrvlcol, flat=True), use_jupyter_keybindings=True)"
   ]
  },
  {
   "cell_type": "code",
   "execution_count": null,
   "metadata": {
    "ExecuteTime": {
     "end_time": "2019-03-11T15:10:14.869512Z",
     "start_time": "2019-03-11T15:10:09.359253Z"
    }
   },
   "outputs": [],
   "source": [
    "create_montage(intrvlcol2list(match_scene_intrvlcol, with_duration=False), out_path='/app/result/match_scene_montage.jpg',\n",
    "                  width=2160, num_cols=10)"
   ]
  },
  {
   "cell_type": "code",
   "execution_count": null,
   "metadata": {
    "ExecuteTime": {
     "end_time": "2019-03-11T06:27:03.272053Z",
     "start_time": "2019-03-11T06:27:03.257852Z"
    }
   },
   "outputs": [],
   "source": [
    "pickle.dump(match_scene_intrvlcol, open('/app/result/match_scene_intrvlcol.pkl', 'wb'))"
   ]
  },
  {
   "cell_type": "markdown",
   "metadata": {},
   "source": [
    "# Segment Point"
   ]
  },
  {
   "cell_type": "markdown",
   "metadata": {},
   "source": [
    "## Detect sound peak"
   ]
  },
  {
   "cell_type": "code",
   "execution_count": null,
   "metadata": {
    "ExecuteTime": {
     "end_time": "2019-04-16T06:09:15.890772Z",
     "start_time": "2019-04-16T06:09:15.875385Z"
    }
   },
   "outputs": [],
   "source": [
    "match_scene_intrvlcol = pickle.load(open('/app/result/match_scene_intrvlcol.pkl', 'rb'))"
   ]
  },
  {
   "cell_type": "code",
   "execution_count": null,
   "metadata": {
    "ExecuteTime": {
     "end_time": "2019-03-11T06:31:31.029249Z",
     "start_time": "2019-03-11T06:31:30.901340Z"
    }
   },
   "outputs": [],
   "source": [
    "_, sfid, efid, d = intrvlcol2list(match_scene_intrvlcol, sort_by_duration=True)[0]\n",
    "audio_path = video.extract_audio(segment=(1.*sfid/video.fps, 1.*efid/video.fps))"
   ]
  },
  {
   "cell_type": "code",
   "execution_count": null,
   "metadata": {
    "ExecuteTime": {
     "end_time": "2019-03-11T06:31:57.235086Z",
     "start_time": "2019-03-11T06:31:56.700558Z"
    }
   },
   "outputs": [],
   "source": [
    "# analyze sound\n",
    "import matplotlib.pyplot as plt\n",
    "import wave\n",
    "import sys\n",
    "\n",
    "spf = wave.open(audio_path,'r')\n",
    "\n",
    "#Extract Raw Audio from Wav File\n",
    "signal = spf.readframes(-1)\n",
    "signal = np.fromstring(signal, 'Int16')\n",
    "fs = spf.getframerate()\n",
    "print(fs)\n",
    "\n",
    "#If Stereo\n",
    "if spf.getnchannels() == 2:\n",
    "    print('Just mono files')\n",
    "\n",
    "\n",
    "Time=np.linspace(0, len(signal)/fs, num=len(signal))\n",
    "\n",
    "plt.figure(1)\n",
    "plt.title('Signal Wave...')\n",
    "plt.plot(Time,signal)\n",
    "plt.show()"
   ]
  },
  {
   "cell_type": "markdown",
   "metadata": {},
   "source": [
    "## Detect foot motion"
   ]
  },
  {
   "cell_type": "code",
   "execution_count": null,
   "metadata": {
    "ExecuteTime": {
     "end_time": "2019-04-16T06:12:10.354042Z",
     "start_time": "2019-04-16T06:12:10.339569Z"
    }
   },
   "outputs": [],
   "source": [
    "match_scene_intrvlcol = pickle.load(open('/app/result/match_scene_intrvlcol.pkl', 'rb'))\n",
    "match_scene_intervals = intrvlcol2list(match_scene_intrvlcol, sort_by_duration=True)"
   ]
  },
  {
   "cell_type": "code",
   "execution_count": null,
   "metadata": {
    "ExecuteTime": {
     "end_time": "2019-03-11T15:26:52.104338Z",
     "start_time": "2019-03-11T15:26:52.080319Z"
    }
   },
   "outputs": [],
   "source": [
    "esper_widget(interval2result(match_scene_intervals[9:10]), disable_caption=True)"
   ]
  },
  {
   "cell_type": "code",
   "execution_count": null,
   "metadata": {
    "ExecuteTime": {
     "end_time": "2019-04-16T06:12:20.062690Z",
     "start_time": "2019-04-16T06:12:20.044697Z"
    }
   },
   "outputs": [],
   "source": [
    "sfid, efid = match_scene_intervals[9][1:3]\n",
    "# video.download(segment=(sfid/video.fps, efid/video.fps), output_path='/app/tmp/point.mp4')"
   ]
  },
  {
   "cell_type": "code",
   "execution_count": null,
   "metadata": {
    "ExecuteTime": {
     "end_time": "2019-03-11T15:47:34.975816Z",
     "start_time": "2019-03-11T15:47:34.954313Z"
    }
   },
   "outputs": [],
   "source": [
    "joints_to_plot = [Pose.Neck, Pose.LShoulder, Pose.LElbow, Pose.LWrist, Pose.LHip, Pose.LKnee, Pose.LAnkle]\n",
    "joints_to_plot_name = ['Neck', 'LShoulder', 'LElbow', 'LWrist', 'LHip', 'LKnee', 'LAnkle']\n",
    "def get_trajectory(fid2pose):\n",
    "    trajectory_X = {joint: [] for joint in joints_to_plot}\n",
    "    trajectory_Y = {joint: [] for joint in joints_to_plot}\n",
    "    xtick_X = {joint: [] for joint in joints_to_plot}\n",
    "    xtick_Y = {joint: [] for joint in joints_to_plot}\n",
    "    for fid in sorted(fid2pose):\n",
    "        keypoints = fid2pose[fid]._format_keypoints()\n",
    "        for joint in joints_to_plot:\n",
    "            X = keypoints[joint][0]\n",
    "            if 0 < X and X < 1: \n",
    "                trajectory_X[joint].append(X)\n",
    "                xtick_X[joint].append(fid)\n",
    "            Y = keypoints[joint][1]\n",
    "            if 0 < Y and Y < 1:\n",
    "                trajectory_Y[joint].append(Y)\n",
    "                xtick_Y[joint].append(fid)\n",
    "    return xtick_X, xtick_Y, trajectory_X, trajectory_Y"
   ]
  },
  {
   "cell_type": "code",
   "execution_count": null,
   "metadata": {
    "ExecuteTime": {
     "end_time": "2019-03-11T15:47:36.295631Z",
     "start_time": "2019-03-11T15:47:35.837871Z"
    },
    "scrolled": true
   },
   "outputs": [],
   "source": [
    "plt.figure()\n",
    "xtick_X, xtick_Y, trajectory_X, trajectory_Y = get_trajectory(foreground_pose)\n",
    "for id, joint in enumerate(joints_to_plot):\n",
    "    plt.plot(xtick_X[joint], trajectory_X[joint], label=joints_to_plot_name[id] + 'X')\n",
    "    plt.plot(xtick_Y[joint], trajectory_Y[joint], '--', label=joints_to_plot_name[id] + 'Y')\n",
    "legend = plt.legend(loc='lower right')\n",
    "plt.figure()\n",
    "xtick_X, xtick_Y, trajectory_X, trajectory_Y = get_trajectory(background_pose)\n",
    "for id, joint in enumerate(joints_to_plot):\n",
    "    plt.plot(xtick_X[joint], trajectory_X[joint], label=joints_to_plot_name[id] + 'X')\n",
    "    plt.plot(xtick_Y[joint], trajectory_Y[joint], '--', label=joints_to_plot_name[id] + 'Y')\n",
    "legend = plt.legend(loc='lower right')foreground_pose"
   ]
  },
  {
   "cell_type": "markdown",
   "metadata": {},
   "source": [
    "# separate foreground background"
   ]
  },
  {
   "cell_type": "code",
   "execution_count": null,
   "metadata": {
    "ExecuteTime": {
     "end_time": "2019-04-28T07:46:58.112910Z",
     "start_time": "2019-04-28T07:46:58.058835Z"
    }
   },
   "outputs": [],
   "source": [
    "from esper.table_tennis.parse_match import *"
   ]
  },
  {
   "cell_type": "code",
   "execution_count": null,
   "metadata": {
    "ExecuteTime": {
     "end_time": "2019-04-28T07:46:58.882200Z",
     "start_time": "2019-04-28T07:46:58.820734Z"
    }
   },
   "outputs": [],
   "source": [
    "match_scene_intrvlcol = pickle.load(open('/app/result/match_scene_intrvlcol.pkl', 'rb'))\n",
    "match_scene_intervals = intrvlcol2list(match_scene_intrvlcol, sort_by_duration=True)"
   ]
  },
  {
   "cell_type": "code",
   "execution_count": null,
   "metadata": {
    "ExecuteTime": {
     "end_time": "2019-04-16T06:41:19.921545Z",
     "start_time": "2019-04-16T06:41:19.644628Z"
    },
    "scrolled": true
   },
   "outputs": [],
   "source": [
    "foreground_pose, background_pose = group_pose_from_interval(match_scene_intervals[9])"
   ]
  },
  {
   "cell_type": "code",
   "execution_count": null,
   "metadata": {
    "ExecuteTime": {
     "end_time": "2019-04-16T06:41:55.888988Z",
     "start_time": "2019-04-16T06:41:20.677883Z"
    },
    "scrolled": true
   },
   "outputs": [],
   "source": [
    "hist_foreground_train = collect_histogram(foreground_pose)\n",
    "hist_background_train = collect_histogram(background_pose)"
   ]
  },
  {
   "cell_type": "code",
   "execution_count": null,
   "metadata": {
    "ExecuteTime": {
     "end_time": "2019-04-16T06:41:59.166636Z",
     "start_time": "2019-04-16T06:41:59.149451Z"
    }
   },
   "outputs": [],
   "source": [
    "# train model\n",
    "from sklearn.neighbors import KNeighborsClassifier\n",
    "\n",
    "model = KNeighborsClassifier(n_neighbors=100)\n",
    "\n",
    "# Train the model using the training sets\n",
    "model.fit(hist_foreground_train + hist_background_train, \n",
    "          [1]*len(hist_foreground_train) + [0]*len(hist_background_train))"
   ]
  },
  {
   "cell_type": "code",
   "execution_count": null,
   "metadata": {
    "ExecuteTime": {
     "end_time": "2019-04-16T06:55:56.646212Z",
     "start_time": "2019-04-16T06:52:20.950767Z"
    },
    "scrolled": true
   },
   "outputs": [],
   "source": [
    "match_scene_intrvlcol = pickle.load(open('/app/result/match_scene_intrvlcol.pkl', 'rb'))\n",
    "match_scene_intervals_foreground = []\n",
    "match_scene_intervals_background = []\n",
    "num_sample = 50\n",
    "\n",
    "for interval in match_scene_intervals:\n",
    "    foreground_pose, background_pose = group_pose_from_interval(interval)\n",
    "    if len(foreground_pose) < num_sample:\n",
    "        continue\n",
    "    pose_list_sample = random.sample(foreground_pose, num_sample)\n",
    "    hist_foreground_test = collect_histogram(pose_list_sample)\n",
    "    \n",
    "    predicted_label = model.predict(hist_foreground_test)\n",
    "    if 1. * np.sum(predicted_label) / len(predicted_label) > 0.5:\n",
    "        match_scene_intervals_foreground.append(interval)\n",
    "    else:\n",
    "        match_scene_intervals_background.append(interval)\n",
    "    print(\"Foreground\", 1. * np.sum(predicted_label) / len(predicted_label))\n",
    "        "
   ]
  },
  {
   "cell_type": "code",
   "execution_count": null,
   "metadata": {
    "ExecuteTime": {
     "end_time": "2019-04-16T07:28:12.531716Z",
     "start_time": "2019-04-16T07:28:12.493406Z"
    }
   },
   "outputs": [],
   "source": [
    "match_scene_intervals_dict = {'HW_foreground': match_scene_intervals_foreground,\n",
    "                              'JZ_foreground': match_scene_intervals_background}\n",
    "pickle.dump(match_scene_intervals_dict, open('/app/result/match_scene_intervals_dict.pkl', 'wb'))"
   ]
  },
  {
   "cell_type": "code",
   "execution_count": null,
   "metadata": {
    "ExecuteTime": {
     "end_time": "2019-04-16T07:33:25.057789Z",
     "start_time": "2019-04-16T07:33:22.239931Z"
    }
   },
   "outputs": [],
   "source": [
    "create_montage(match_scene_intervals_foreground, out_path='/app/result/foreground_montage.jpg',\n",
    "                  width=2160, num_cols=6)"
   ]
  },
  {
   "cell_type": "code",
   "execution_count": null,
   "metadata": {
    "ExecuteTime": {
     "end_time": "2019-04-16T07:33:28.102011Z",
     "start_time": "2019-04-16T07:33:26.623697Z"
    }
   },
   "outputs": [],
   "source": [
    "create_montage(match_scene_intervals_background, out_path='/app/result/background_montage.jpg',\n",
    "                  width=2160, num_cols=6)"
   ]
  },
  {
   "cell_type": "markdown",
   "metadata": {},
   "source": [
    "# Load and visualize maskrcnn semantic masks"
   ]
  },
  {
   "cell_type": "code",
   "execution_count": null,
   "metadata": {
    "ExecuteTime": {
     "end_time": "2019-04-30T03:52:47.200260Z",
     "start_time": "2019-04-30T03:52:47.025155Z"
    }
   },
   "outputs": [],
   "source": [
    "from scannertools.maskrcnn_detection import visualize_labels\n",
    "from scannerpy import Client, DeviceType\n",
    "from scannerpy.storage import NamedVideoStream, NamedStream"
   ]
  },
  {
   "cell_type": "code",
   "execution_count": null,
   "metadata": {
    "ExecuteTime": {
     "end_time": "2019-04-30T03:52:48.618487Z",
     "start_time": "2019-04-30T03:52:48.598838Z"
    }
   },
   "outputs": [],
   "source": [
    "video = Video.objects.filter(id=65)[0]\n",
    "video.path"
   ]
  },
  {
   "cell_type": "code",
   "execution_count": null,
   "metadata": {
    "ExecuteTime": {
     "end_time": "2019-04-30T03:57:14.197080Z",
     "start_time": "2019-04-30T03:57:14.177376Z"
    }
   },
   "outputs": [],
   "source": [
    "video.num_frames"
   ]
  },
  {
   "cell_type": "code",
   "execution_count": null,
   "metadata": {
    "ExecuteTime": {
     "end_time": "2019-04-30T03:52:50.182845Z",
     "start_time": "2019-04-30T03:52:50.129153Z"
    }
   },
   "outputs": [],
   "source": [
    "sc = Client()\n",
    "segmentation_stream = NamedStream(sc, video.item_name() + '_segment')"
   ]
  },
  {
   "cell_type": "code",
   "execution_count": null,
   "metadata": {
    "ExecuteTime": {
     "end_time": "2019-04-27T21:30:13.202239Z",
     "start_time": "2019-04-27T21:28:29.994105Z"
    }
   },
   "outputs": [],
   "source": [
    "seq = sc.sequence(segmentation_stream._name)\n",
    "images = []\n",
    "for i, obj in tqdm(enumerate(seq.load(workers=1))):\n",
    "    if i % 1000 == 0:\n",
    "        print(i)\n",
    "    if i < 20 * 60 * 25:\n",
    "        continue\n",
    "    if i % 100 == 0:\n",
    "        frame = load_frame(video, i, [])\n",
    "        visualize_labels(frame, obj)\n",
    "        images.append(frame)\n",
    "    if len(images) > 100:\n",
    "        break"
   ]
  },
  {
   "cell_type": "code",
   "execution_count": null,
   "metadata": {
    "ExecuteTime": {
     "end_time": "2019-04-27T21:30:24.756406Z",
     "start_time": "2019-04-27T21:30:24.678346Z"
    }
   },
   "outputs": [],
   "source": [
    "create_montage_from_images(images[:100], output_path='/app/result/maskrcnn_result1.jpg',\n",
    "                          width=2160, num_cols=10)"
   ]
  },
  {
   "cell_type": "code",
   "execution_count": null,
   "metadata": {
    "ExecuteTime": {
     "end_time": "2019-04-30T04:10:32.168665Z",
     "start_time": "2019-04-30T04:10:28.060255Z"
    }
   },
   "outputs": [],
   "source": [
    "bbox_list_all = []\n",
    "for i in range(5):\n",
    "    bbox_list = pickle.load(open('/app/data/pkl/bbox_list_{}.pkl'.format(i), 'rb'))\n",
    "    bbox_list_all += bbox_list\n",
    "len(bbox_list_all)"
   ]
  },
  {
   "cell_type": "code",
   "execution_count": null,
   "metadata": {
    "ExecuteTime": {
     "end_time": "2019-04-30T04:17:27.034354Z",
     "start_time": "2019-04-30T04:17:18.778234Z"
    }
   },
   "outputs": [],
   "source": [
    "bbox_list_all = [[{'bbox': (np.round(o['bbox']['x1']).astype(int), np.round(o['bbox']['y1']).astype(int), np.round(o['bbox']['x2']).astype(int), np.round(o['bbox']['y2']).astype(int)) \\\n",
    "                    ,'label': int(o['label']), 'score': float(o['score'])} for o in obj] for obj in bbox_list_all]"
   ]
  },
  {
   "cell_type": "code",
   "execution_count": null,
   "metadata": {
    "ExecuteTime": {
     "end_time": "2019-04-30T04:18:01.703026Z",
     "start_time": "2019-04-30T04:17:53.559443Z"
    }
   },
   "outputs": [],
   "source": [
    "pickle.dump(bbox_list_all, open('/app/data/pkl/bbox_list.pkl', 'wb'))"
   ]
  }
 ],
 "metadata": {
  "kernelspec": {
   "display_name": "Django Shell-Plus",
   "language": "python",
   "name": "django_extensions"
  },
  "language_info": {
   "codemirror_mode": {
    "name": "ipython",
    "version": 3
   },
   "file_extension": ".py",
   "mimetype": "text/x-python",
   "name": "python",
   "nbconvert_exporter": "python",
   "pygments_lexer": "ipython3",
   "version": "3.5.2"
  },
  "toc": {
   "nav_menu": {},
   "number_sections": true,
   "sideBar": true,
   "skip_h1_title": false,
   "toc_cell": false,
   "toc_position": {},
   "toc_section_display": "block",
   "toc_window_display": false
  }
 },
 "nbformat": 4,
 "nbformat_minor": 2
}
