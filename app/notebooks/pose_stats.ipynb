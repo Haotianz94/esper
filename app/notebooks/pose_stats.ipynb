{
 "cells": [
  {
   "cell_type": "markdown",
   "metadata": {},
   "source": [
    "# Query Poses"
   ]
  },
  {
   "cell_type": "code",
   "execution_count": null,
   "metadata": {
    "ExecuteTime": {
     "end_time": "2019-03-11T15:09:46.152640Z",
     "start_time": "2019-03-11T15:09:45.788698Z"
    },
    "scrolled": true
   },
   "outputs": [],
   "source": [
    "from esper.rekall_query import *\n",
    "from esper.supercut import *\n",
    "import cv2\n",
    "import random"
   ]
  },
  {
   "cell_type": "code",
   "execution_count": null,
   "metadata": {
    "ExecuteTime": {
     "end_time": "2019-03-11T15:09:47.011278Z",
     "start_time": "2019-03-11T15:09:46.959309Z"
    }
   },
   "outputs": [],
   "source": [
    "video_id = 65\n",
    "video = Video.objects.filter(id=video_id)[0]\n",
    "video_ids = [video_id]"
   ]
  },
  {
   "cell_type": "markdown",
   "metadata": {},
   "source": [
    "# Find frames with people"
   ]
  },
  {
   "cell_type": "code",
   "execution_count": null,
   "metadata": {
    "ExecuteTime": {
     "end_time": "2019-03-11T14:25:21.918210Z",
     "start_time": "2019-03-11T14:25:21.198456Z"
    }
   },
   "outputs": [],
   "source": [
    "LABELED_TAG, _ = Tag.objects.get_or_create(name='openpose:labeled')\n",
    "frames_with_pose = Frame.objects.filter(video_id=video_id, tags=LABELED_TAG)\n",
    "num_frame_with_pose = len(frames_with_pose)\n",
    "print(\"{} frames contain poses out of {} frames ({:.02f}%)\".format(num_frame_with_pose, video.num_frames,\n",
    "                                                             100. * num_frame_with_pose/video.num_frames))"
   ]
  },
  {
   "cell_type": "markdown",
   "metadata": {},
   "source": [
    "# Find frames with only two people"
   ]
  },
  {
   "cell_type": "code",
   "execution_count": null,
   "metadata": {
    "ExecuteTime": {
     "end_time": "2019-03-11T14:48:55.991105Z",
     "start_time": "2019-03-11T14:48:50.175723Z"
    },
    "scrolled": true
   },
   "outputs": [],
   "source": [
    "NUM_PERSON_IN_FRAME = 2\n",
    "\n",
    "two_people_intrvlcol_all = VideoIntervalCollection.from_django_qs(\n",
    "    Pose.objects.filter(frame__video__id__in=video_ids) \\\n",
    "    .annotate(video_id=F('frame__video_id')) \\\n",
    "    .annotate(min_frame=F('frame__number')) \\\n",
    "    .annotate(max_frame=F('frame__number')),\n",
    "    with_payload=lambda obj: [VideoIntervalCollection.django_accessor(obj, 'id')] \n",
    "    ).coalesce(payload_merge_op=payload_plus).filter(payload_satisfies(length_exactly(NUM_PERSON_IN_FRAME)))\n"
   ]
  },
  {
   "cell_type": "code",
   "execution_count": null,
   "metadata": {
    "ExecuteTime": {
     "end_time": "2019-03-11T14:48:57.059526Z",
     "start_time": "2019-03-11T14:48:56.831826Z"
    }
   },
   "outputs": [],
   "source": [
    "two_people_intrvlcol = \\\n",
    "    two_people_intrvlcol_all \\\n",
    "        .dilate(5) \\\n",
    "        .coalesce(payload_merge_op=payload_plus) \\\n",
    "        .dilate(-5) \\\n",
    "        .filter_length(min_length=25)\n",
    "\n",
    "two_people_intrvlcol_all = \\\n",
    "    two_people_intrvlcol_all \\\n",
    "        .dilate(10) \\\n",
    "        .coalesce() \\\n",
    "        .dilate(-10) \n",
    "count_intervals(two_people_intrvlcol_all)"
   ]
  },
  {
   "cell_type": "code",
   "execution_count": null,
   "metadata": {
    "ExecuteTime": {
     "end_time": "2019-03-06T19:21:56.812756Z",
     "start_time": "2019-03-06T19:21:56.765441Z"
    }
   },
   "outputs": [],
   "source": [
    "num_frames_in_match = count_duration(match_intrvlcol)\n",
    "print(\"{} frames are in match out of {} frames ({:.02f}%)\".format(num_frames_in_match, video.num_frames,\n",
    "                                                           100. * num_frames_in_match/video.num_frames))"
   ]
  },
  {
   "cell_type": "code",
   "execution_count": null,
   "metadata": {
    "ExecuteTime": {
     "end_time": "2019-03-11T05:07:20.956248Z",
     "start_time": "2019-03-11T05:07:20.910460Z"
    }
   },
   "outputs": [],
   "source": [
    "esper_widget(intrvlcol2result(two_people_intrvlcol, flat=True), use_jupyter_keybindings=True)"
   ]
  },
  {
   "cell_type": "markdown",
   "metadata": {},
   "source": [
    "## Create montage "
   ]
  },
  {
   "cell_type": "code",
   "execution_count": null,
   "metadata": {
    "ExecuteTime": {
     "end_time": "2019-03-06T19:50:39.703158Z",
     "start_time": "2019-03-06T19:50:32.117080Z"
    },
    "scrolled": true
   },
   "outputs": [],
   "source": [
    "match_intrvllist = match_intrvlcol.get_intervallist(video_id)\n",
    "create_montage(intrvlcol2list(match_intrvllist), out_path='/app/result/pose_montage.jpg',\n",
    "                  width=2160, num_cols=10,\n",
    "                  )"
   ]
  },
  {
   "cell_type": "code",
   "execution_count": null,
   "metadata": {
    "ExecuteTime": {
     "end_time": "2019-03-06T21:41:33.371555Z",
     "start_time": "2019-03-06T21:41:33.333581Z"
    }
   },
   "outputs": [],
   "source": [
    "intervals = [(video_id, i.start, i.end, -1) for i in match_intrvllist.get_intervals()]"
   ]
  },
  {
   "cell_type": "code",
   "execution_count": null,
   "metadata": {
    "ExecuteTime": {
     "end_time": "2019-03-06T21:50:50.450224Z",
     "start_time": "2019-03-06T21:47:34.984780Z"
    }
   },
   "outputs": [],
   "source": [
    "stitch_video_temporal(intervals, '/app/result/pose_montage.mp4')"
   ]
  },
  {
   "cell_type": "code",
   "execution_count": null,
   "metadata": {
    "ExecuteTime": {
     "end_time": "2019-03-08T06:58:12.785986Z",
     "start_time": "2019-03-08T06:58:12.771388Z"
    }
   },
   "outputs": [],
   "source": [
    "intervals_selected = intervals[30:55]"
   ]
  },
  {
   "cell_type": "code",
   "execution_count": null,
   "metadata": {
    "ExecuteTime": {
     "end_time": "2019-03-08T07:18:45.781852Z",
     "start_time": "2019-03-08T07:18:45.766888Z"
    }
   },
   "outputs": [],
   "source": [
    "video_path = '/app/result/pose_montage.avi'\n",
    "audio_path = '/app/result/pose_montage.wav'"
   ]
  },
  {
   "cell_type": "code",
   "execution_count": null,
   "metadata": {
    "ExecuteTime": {
     "end_time": "2019-03-08T07:07:01.374600Z",
     "start_time": "2019-03-08T06:58:30.281983Z"
    },
    "scrolled": true
   },
   "outputs": [],
   "source": [
    "stitch_video_spatial(intervals_selected, out_path=video_path, align=False, \n",
    "                     width=1920, num_cols=5, target_height = 1920 // 5 * 9 // 16)"
   ]
  },
  {
   "cell_type": "code",
   "execution_count": null,
   "metadata": {
    "ExecuteTime": {
     "end_time": "2019-03-08T07:15:51.561443Z",
     "start_time": "2019-03-08T07:15:21.677223Z"
    }
   },
   "outputs": [],
   "source": [
    "mix_audio(intervals_selected, out_path=audio_path, decrease_volume=7, align=False, dilation=0)"
   ]
  },
  {
   "cell_type": "code",
   "execution_count": null,
   "metadata": {
    "ExecuteTime": {
     "end_time": "2019-03-08T07:18:43.157556Z",
     "start_time": "2019-03-08T07:18:39.040970Z"
    }
   },
   "outputs": [],
   "source": [
    "concat_video_audio(video_path, audio_path, '/app/result/pose_montage-mix.mp4')"
   ]
  },
  {
   "cell_type": "markdown",
   "metadata": {},
   "source": [
    "# Segment Match Scene"
   ]
  },
  {
   "cell_type": "code",
   "execution_count": null,
   "metadata": {
    "ExecuteTime": {
     "end_time": "2019-03-11T14:28:21.978426Z",
     "start_time": "2019-03-11T14:28:21.960279Z"
    }
   },
   "outputs": [],
   "source": [
    "with open('/app/data/histogram/{:07d}.bin'.format(video_id), 'rb') as f:\n",
    "    feature_all = np.frombuffer(f.read(), dtype=np.int).reshape((-1, 3*16))"
   ]
  },
  {
   "cell_type": "code",
   "execution_count": null,
   "metadata": {
    "ExecuteTime": {
     "end_time": "2019-03-11T14:40:56.632310Z",
     "start_time": "2019-03-11T14:40:56.588683Z"
    }
   },
   "outputs": [],
   "source": [
    "two_people_intrvlcol_long = two_people_intrvlcol.filter_length(min_length=100)"
   ]
  },
  {
   "cell_type": "code",
   "execution_count": null,
   "metadata": {
    "ExecuteTime": {
     "end_time": "2019-03-11T14:40:58.139207Z",
     "start_time": "2019-03-11T14:40:58.091867Z"
    }
   },
   "outputs": [],
   "source": [
    "match_intervals = intrvlcol2list(two_people_intrvlcol_long, with_duration=True, sort_by_duration=True)"
   ]
  },
  {
   "cell_type": "code",
   "execution_count": null,
   "metadata": {
    "ExecuteTime": {
     "end_time": "2019-03-11T14:41:01.109105Z",
     "start_time": "2019-03-11T14:41:01.076590Z"
    }
   },
   "outputs": [],
   "source": [
    "manual_select_candidates(interval2result(match_intervals))"
   ]
  },
  {
   "cell_type": "code",
   "execution_count": null,
   "metadata": {
    "ExecuteTime": {
     "end_time": "2019-03-11T14:28:30.043969Z",
     "start_time": "2019-03-11T14:28:30.031298Z"
    }
   },
   "outputs": [],
   "source": [
    "NUM_SAMPLE_TRAIN = 1000"
   ]
  },
  {
   "cell_type": "code",
   "execution_count": null,
   "metadata": {
    "ExecuteTime": {
     "end_time": "2019-03-11T14:41:38.240615Z",
     "start_time": "2019-03-11T14:41:38.216961Z"
    }
   },
   "outputs": [],
   "source": [
    "# positive samples\n",
    "selected = [0, 2, 3, 7, 6, 5, 4, 8, 9, 10, 11, 15, 14, 13, 12, 16, 17, 18, 19, 23, 22, 21, 20, 24, 25, 26, 27, 31, 29, 32, 33, 34, 35, 39, 38, 36, 40, 41, 43, 47, 45, 49, 48]\n",
    "positive_intervals = [match_intervals[id] for id in selected]\n",
    "num_sample = 0\n",
    "POSITIVE_STRIDE = 5\n",
    "# positive_fids_all = [fid for (vid, sfid, efid, duration) in positive_intervals \n",
    "#                  for fid in range(sfid+5, efid-5, POSITIVE_STRIDE)]\n",
    "positive_fids_all = [fid for (vid, sfid, efid, duration) in positive_intervals \n",
    "                 for fid in range(sfid, efid)]\n",
    "print(\"Total positive samples \", len(positive_fids_all))\n",
    "random.shuffle(positive_fids_all)\n",
    "positive_fids = positive_fids_all[: NUM_SAMPLE_TRAIN]\n",
    "positive_feature = [feature_all[fid] for fid in positive_fids]\n",
    "positive_label = [1] * NUM_SAMPLE_TRAIN"
   ]
  },
  {
   "cell_type": "code",
   "execution_count": null,
   "metadata": {
    "ExecuteTime": {
     "end_time": "2019-03-11T05:46:25.105318Z",
     "start_time": "2019-03-11T05:46:25.048574Z"
    }
   },
   "outputs": [],
   "source": [
    "positive_frames = VideoIntervalCollection({video_id: IntervalList([(fid, fid, 0) for fid in positive_fids])})\n",
    "esper_widget(intrvlcol2result(positive_frames, flat=True))"
   ]
  },
  {
   "cell_type": "code",
   "execution_count": null,
   "metadata": {
    "ExecuteTime": {
     "end_time": "2019-03-11T14:42:38.547470Z",
     "start_time": "2019-03-11T14:41:47.644394Z"
    }
   },
   "outputs": [],
   "source": [
    "create_montage([(video_id, fid, fid) for fid in positive_fids], out_path='/app/result/positive_montage.jpg',\n",
    "                  width=2160, num_cols=35)"
   ]
  },
  {
   "cell_type": "code",
   "execution_count": null,
   "metadata": {
    "ExecuteTime": {
     "end_time": "2019-03-11T14:50:24.617227Z",
     "start_time": "2019-03-11T14:49:57.031764Z"
    },
    "scrolled": true
   },
   "outputs": [],
   "source": [
    "# negative samples\n",
    "# NEGATIVE_STRIDE = 20\n",
    "# video_intrvlcol = VideoIntervalCollection({video_id : IntervalList([(0, video.num_frames-1, 0)])})\n",
    "# non_match_intrvlcol = video_intrvlcol.minus(two_people_intrvlcol_all)\n",
    "# negative_intervals = intrvlcol2list(non_match_intrvlcol)\n",
    "# negative_fids_all = [fid for (vid, sfid, efid, duration) in negative_intervals \n",
    "#                     for fid in range(sfid+5, efid-5, NEGATIVE_STRIDE)]\n",
    "positive_fids_large = [fid for interval in two_people_intrvlcol_all.get_intervallist(video_id).get_intervals() \n",
    "                          for fid in range(interval.start, interval.end+1)]\n",
    "negative_fids_all = [fid for fid in range(0, video.num_frames)\n",
    "                    if fid not in positive_fids_large]\n",
    "print(\"Total negative samples \", len(negative_fids_all))\n",
    "random.shuffle(negative_fids_all)\n",
    "negative_fids = negative_fids_all[: NUM_SAMPLE_TRAIN]\n",
    "negative_feature = [feature_all[fid] for fid in negative_fids]\n",
    "negative_label = [0] * NUM_SAMPLE_TRAIN"
   ]
  },
  {
   "cell_type": "code",
   "execution_count": null,
   "metadata": {
    "ExecuteTime": {
     "end_time": "2019-03-11T15:07:36.450820Z",
     "start_time": "2019-03-11T15:07:36.396260Z"
    },
    "scrolled": true
   },
   "outputs": [],
   "source": [
    "negative_frames = VideoIntervalCollection({video_id: IntervalList([(fid, fid, 0) for fid in negative_fids])})\n",
    "esper_widget(intrvlcol2result(negative_frames, flat=True))"
   ]
  },
  {
   "cell_type": "code",
   "execution_count": null,
   "metadata": {
    "ExecuteTime": {
     "end_time": "2019-03-11T14:57:47.696964Z",
     "start_time": "2019-03-11T14:57:45.833392Z"
    }
   },
   "outputs": [],
   "source": [
    "negative_frames = Pose.objects.filter(frame__video_id=video_id, frame__number__in=negative_fids)\n",
    "len(negative_frames)\n",
    "esper_widget(qs_to_result(negative_frames, stride=1, limit=1000))"
   ]
  },
  {
   "cell_type": "code",
   "execution_count": null,
   "metadata": {
    "ExecuteTime": {
     "end_time": "2019-03-11T14:40:07.436338Z",
     "start_time": "2019-03-11T14:39:13.136680Z"
    }
   },
   "outputs": [],
   "source": [
    "create_montage([(video_id, fid, fid) for fid in negative_fids], out_path='/app/result/negative_montage.jpg',\n",
    "                  width=2160, num_cols=35)"
   ]
  },
  {
   "cell_type": "code",
   "execution_count": null,
   "metadata": {
    "ExecuteTime": {
     "end_time": "2019-03-11T14:44:29.732221Z",
     "start_time": "2019-03-11T14:44:29.710530Z"
    },
    "scrolled": true
   },
   "outputs": [],
   "source": [
    "# train model\n",
    "from sklearn.neighbors import KNeighborsClassifier\n",
    "\n",
    "model = KNeighborsClassifier(n_neighbors=100)\n",
    "\n",
    "# Train the model using the training sets\n",
    "model.fit(positive_feature + negative_feature, positive_label + negative_label)"
   ]
  },
  {
   "cell_type": "code",
   "execution_count": null,
   "metadata": {
    "ExecuteTime": {
     "end_time": "2019-03-11T14:44:37.245101Z",
     "start_time": "2019-03-11T14:44:31.042240Z"
    }
   },
   "outputs": [],
   "source": [
    "#Predict Output\n",
    "predicted_label = model.predict(feature_all) "
   ]
  },
  {
   "cell_type": "code",
   "execution_count": null,
   "metadata": {
    "ExecuteTime": {
     "end_time": "2019-03-11T14:44:38.089852Z",
     "start_time": "2019-03-11T14:44:38.061297Z"
    },
    "scrolled": true
   },
   "outputs": [],
   "source": [
    "MATCH_THRESH = 0.9\n",
    "def filter_by_histogram(interval):\n",
    "    sfid, efid = interval.start, interval.end\n",
    "    predicted_interval = [predicted_label[fid] for fid in range(sfid, efid)]\n",
    "    return 1. * np.sum(predicted_interval) / (efid - sfid) > MATCH_THRESH\n",
    "match_scene_intrvlcol = two_people_intrvlcol.filter(filter_by_histogram)\n",
    "count_intervals(match_scene_intrvlcol)"
   ]
  },
  {
   "cell_type": "code",
   "execution_count": null,
   "metadata": {
    "ExecuteTime": {
     "end_time": "2019-03-11T05:55:32.235301Z",
     "start_time": "2019-03-11T05:55:32.212513Z"
    },
    "scrolled": true
   },
   "outputs": [],
   "source": [
    "esper_widget(intrvlcol2result(match_scene_intrvlcol, flat=True), use_jupyter_keybindings=True)"
   ]
  },
  {
   "cell_type": "code",
   "execution_count": null,
   "metadata": {
    "ExecuteTime": {
     "end_time": "2019-03-11T15:10:14.869512Z",
     "start_time": "2019-03-11T15:10:09.359253Z"
    }
   },
   "outputs": [],
   "source": [
    "create_montage(intrvlcol2list(match_scene_intrvlcol, with_duration=False), out_path='/app/result/match_scene_montage.jpg',\n",
    "                  width=2160, num_cols=10)"
   ]
  },
  {
   "cell_type": "code",
   "execution_count": null,
   "metadata": {
    "ExecuteTime": {
     "end_time": "2019-03-11T06:27:03.272053Z",
     "start_time": "2019-03-11T06:27:03.257852Z"
    }
   },
   "outputs": [],
   "source": [
    "pickle.dump(match_scene_intrvlcol, open('/app/result/match_scene_intrvlcol.pkl', 'wb'))"
   ]
  },
  {
   "cell_type": "markdown",
   "metadata": {},
   "source": [
    "# Segment Point"
   ]
  },
  {
   "cell_type": "markdown",
   "metadata": {},
   "source": [
    "## Detect sound peak"
   ]
  },
  {
   "cell_type": "code",
   "execution_count": null,
   "metadata": {
    "ExecuteTime": {
     "end_time": "2019-03-11T15:09:55.372678Z",
     "start_time": "2019-03-11T15:09:55.325844Z"
    }
   },
   "outputs": [],
   "source": [
    "match_scene_intrvlcol = pickle.load(open('/app/result/match_scene_intrvlcol.pkl', 'rb'))"
   ]
  },
  {
   "cell_type": "code",
   "execution_count": null,
   "metadata": {
    "ExecuteTime": {
     "end_time": "2019-03-11T06:31:31.029249Z",
     "start_time": "2019-03-11T06:31:30.901340Z"
    }
   },
   "outputs": [],
   "source": [
    "_, sfid, efid, d = intrvlcol2list(match_scene_intrvlcol, sort_by_duration=True)[0]\n",
    "audio_path = video.extract_audio(segment=(1.*sfid/video.fps, 1.*efid/video.fps))"
   ]
  },
  {
   "cell_type": "code",
   "execution_count": null,
   "metadata": {
    "ExecuteTime": {
     "end_time": "2019-03-11T06:31:57.235086Z",
     "start_time": "2019-03-11T06:31:56.700558Z"
    }
   },
   "outputs": [],
   "source": [
    "# analyze sound\n",
    "import matplotlib.pyplot as plt\n",
    "import wave\n",
    "import sys\n",
    "\n",
    "spf = wave.open(audio_path,'r')\n",
    "\n",
    "#Extract Raw Audio from Wav File\n",
    "signal = spf.readframes(-1)\n",
    "signal = np.fromstring(signal, 'Int16')\n",
    "fs = spf.getframerate()\n",
    "print(fs)\n",
    "\n",
    "#If Stereo\n",
    "if spf.getnchannels() == 2:\n",
    "    print('Just mono files')\n",
    "\n",
    "\n",
    "Time=np.linspace(0, len(signal)/fs, num=len(signal))\n",
    "\n",
    "plt.figure(1)\n",
    "plt.title('Signal Wave...')\n",
    "plt.plot(Time,signal)\n",
    "plt.show()"
   ]
  },
  {
   "cell_type": "markdown",
   "metadata": {},
   "source": [
    "## Detect foot motion"
   ]
  },
  {
   "cell_type": "code",
   "execution_count": null,
   "metadata": {
    "ExecuteTime": {
     "end_time": "2019-03-11T15:27:16.161782Z",
     "start_time": "2019-03-11T15:27:16.143490Z"
    }
   },
   "outputs": [],
   "source": [
    "match_scene_intervals = intrvlcol2list(match_scene_intrvlcol, sort_by_duration=True)\n",
    "_, sfid, efid, d = match_scene_intervals[9]"
   ]
  },
  {
   "cell_type": "code",
   "execution_count": null,
   "metadata": {
    "ExecuteTime": {
     "end_time": "2019-03-11T15:26:52.104338Z",
     "start_time": "2019-03-11T15:26:52.080319Z"
    }
   },
   "outputs": [],
   "source": [
    "esper_widget(interval2result(match_scene_intervals[9:10]), disable_caption=True)"
   ]
  },
  {
   "cell_type": "code",
   "execution_count": null,
   "metadata": {
    "ExecuteTime": {
     "end_time": "2019-03-11T16:55:47.440980Z",
     "start_time": "2019-03-11T16:55:47.385298Z"
    }
   },
   "outputs": [],
   "source": [
    "def group_pose(interval):\n",
    "    sfid, efid = interval[1:3]\n",
    "    \n",
    "    poses = Pose.objects.filter(frame__video_id=video_id) \\\n",
    "    .filter(frame__number__gte=sfid) \\\n",
    "    .filter(frame__number__lte=efid) \\\n",
    "    \n",
    "    fid2pose = {}\n",
    "    for pose in poses:\n",
    "        fid = pose.frame.number\n",
    "        if fid not in fid2pose:\n",
    "            fid2pose[fid] = []\n",
    "        fid2pose[fid].append(pose)\n",
    "        if len(fid2pose[fid]) > 2:\n",
    "            print(fid)\n",
    "            \n",
    "    foreground_pose = {}\n",
    "    background_pose = {}\n",
    "    for fid in sorted(fid2pose):\n",
    "        pose_list = fid2pose[fid]\n",
    "        if len(pose_list) == 2:\n",
    "            poseA, poseB = pose_list[0], pose_list[1]\n",
    "            poseA_neck = poseA._format_keypoints()[Pose.Neck]\n",
    "            poseB_neck = poseB._format_keypoints()[Pose.Neck]\n",
    "        #     draw_keypoints(video, fid, [poseA_neck, poseB_neck])\n",
    "            if poseA_neck[1] >= poseB_neck[1]:\n",
    "                foreground_pose[fid] = poseA\n",
    "                background_pose[fid] = poseB\n",
    "            else:\n",
    "                foreground_pose[fid] = poseB\n",
    "                background_pose[fid] = poseA\n",
    "    return foreground_pose, background_pose"
   ]
  },
  {
   "cell_type": "code",
   "execution_count": null,
   "metadata": {
    "ExecuteTime": {
     "end_time": "2019-03-11T15:54:36.255483Z",
     "start_time": "2019-03-11T15:54:33.846190Z"
    }
   },
   "outputs": [],
   "source": [
    "sfid, efid = match_scene_intervals[9][1:3]\n",
    "# video.download(segment=(sfid/video.fps, efid/video.fps), output_path='/app/tmp/point.mp4')"
   ]
  },
  {
   "cell_type": "code",
   "execution_count": null,
   "metadata": {
    "ExecuteTime": {
     "end_time": "2019-03-11T15:27:19.567325Z",
     "start_time": "2019-03-11T15:27:19.554522Z"
    },
    "scrolled": true
   },
   "outputs": [],
   "source": [
    "poses = Pose.objects.filter(frame__video_id=video_id) \\\n",
    "    .filter(frame__number__gte=sfid) \\\n",
    "    .filter(frame__number__lte=efid) \\"
   ]
  },
  {
   "cell_type": "code",
   "execution_count": null,
   "metadata": {
    "ExecuteTime": {
     "end_time": "2019-03-11T15:27:20.754443Z",
     "start_time": "2019-03-11T15:27:20.390141Z"
    },
    "scrolled": true
   },
   "outputs": [],
   "source": [
    "fid2pose = {}\n",
    "for pose in poses:\n",
    "    fid = pose.frame.number\n",
    "    if fid not in fid2pose:\n",
    "        fid2pose[fid] = []\n",
    "    fid2pose[fid].append(pose)\n",
    "    if len(fid2pose[fid]) > 2:\n",
    "        print(fid)"
   ]
  },
  {
   "cell_type": "code",
   "execution_count": null,
   "metadata": {
    "ExecuteTime": {
     "end_time": "2019-03-11T15:46:14.373450Z",
     "start_time": "2019-03-11T15:46:14.352216Z"
    }
   },
   "outputs": [],
   "source": [
    "foreground_pose = {}\n",
    "background_pose = {}\n",
    "for fid in sorted(fid2pose):\n",
    "    pose_list = fid2pose[fid]\n",
    "    if len(pose_list) == 2:\n",
    "        poseA, poseB = pose_list[0], pose_list[1]\n",
    "        poseA_neck = poseA._format_keypoints()[Pose.Neck]\n",
    "        poseB_neck = poseB._format_keypoints()[Pose.Neck]\n",
    "    #     draw_keypoints(video, fid, [poseA_neck, poseB_neck])\n",
    "        if poseA_neck[1] >= poseB_neck[1]:\n",
    "            foreground_pose[fid] = poseA\n",
    "            background_pose[fid] = poseB\n",
    "        else:\n",
    "            foreground_pose[fid] = poseB\n",
    "            background_pose[fid] = poseA"
   ]
  },
  {
   "cell_type": "code",
   "execution_count": null,
   "metadata": {
    "ExecuteTime": {
     "end_time": "2019-03-11T15:47:34.975816Z",
     "start_time": "2019-03-11T15:47:34.954313Z"
    }
   },
   "outputs": [],
   "source": [
    "joints_to_plot = [Pose.Neck, Pose.LShoulder, Pose.LElbow, Pose.LWrist, Pose.LHip, Pose.LKnee, Pose.LAnkle]\n",
    "joints_to_plot_name = ['Neck', 'LShoulder', 'LElbow', 'LWrist', 'LHip', 'LKnee', 'LAnkle']\n",
    "def get_trajectory(fid2pose):\n",
    "    trajectory_X = {joint: [] for joint in joints_to_plot}\n",
    "    trajectory_Y = {joint: [] for joint in joints_to_plot}\n",
    "    xtick_X = {joint: [] for joint in joints_to_plot}\n",
    "    xtick_Y = {joint: [] for joint in joints_to_plot}\n",
    "    for fid in sorted(fid2pose):\n",
    "        keypoints = fid2pose[fid]._format_keypoints()\n",
    "        for joint in joints_to_plot:\n",
    "            X = keypoints[joint][0]\n",
    "            if 0 < X and X < 1: \n",
    "                trajectory_X[joint].append(X)\n",
    "                xtick_X[joint].append(fid)\n",
    "            Y = keypoints[joint][1]\n",
    "            if 0 < Y and Y < 1:\n",
    "                trajectory_Y[joint].append(Y)\n",
    "                xtick_Y[joint].append(fid)\n",
    "    return xtick_X, xtick_Y, trajectory_X, trajectory_Y"
   ]
  },
  {
   "cell_type": "code",
   "execution_count": null,
   "metadata": {
    "ExecuteTime": {
     "end_time": "2019-03-11T15:47:36.295631Z",
     "start_time": "2019-03-11T15:47:35.837871Z"
    },
    "scrolled": true
   },
   "outputs": [],
   "source": [
    "plt.figure()\n",
    "xtick_X, xtick_Y, trajectory_X, trajectory_Y = get_trajectory(foreground_pose)\n",
    "for id, joint in enumerate(joints_to_plot):\n",
    "    plt.plot(xtick_X[joint], trajectory_X[joint], label=joints_to_plot_name[id] + 'X')\n",
    "    plt.plot(xtick_Y[joint], trajectory_Y[joint], '--', label=joints_to_plot_name[id] + 'Y')\n",
    "legend = plt.legend(loc='lower right')\n",
    "plt.figure()\n",
    "xtick_X, xtick_Y, trajectory_X, trajectory_Y = get_trajectory(background_pose)\n",
    "for id, joint in enumerate(joints_to_plot):\n",
    "    plt.plot(xtick_X[joint], trajectory_X[joint], label=joints_to_plot_name[id] + 'X')\n",
    "    plt.plot(xtick_Y[joint], trajectory_Y[joint], '--', label=joints_to_plot_name[id] + 'Y')\n",
    "legend = plt.legend(loc='lower right')"
   ]
  },
  {
   "cell_type": "markdown",
   "metadata": {},
   "source": [
    "# separate foreground background"
   ]
  },
  {
   "cell_type": "code",
   "execution_count": null,
   "metadata": {
    "ExecuteTime": {
     "end_time": "2019-03-11T18:59:32.193275Z",
     "start_time": "2019-03-11T18:59:32.165964Z"
    }
   },
   "outputs": [],
   "source": [
    "def collect_histogram(pose_list):\n",
    "    def get_histogram(i):\n",
    "        fid, pose = pose_list[i]\n",
    "        img = load_frame(video, fid, [])\n",
    "        H, W = img.shape[:2]\n",
    "        keypoints = pose._format_keypoints()\n",
    "        poly_vertices =[keypoints[Pose.LShoulder][:2], keypoints[Pose.LHip][:2], \\\n",
    "                        keypoints[Pose.RHip][:2], keypoints[Pose.RShoulder][:2]]\n",
    "        poly_vertices = np.array([(int(pt[0]*W), int(pt[1]*H)) for pt in poly_vertices])\n",
    "        mask = np.zeros((H, W))\n",
    "#         cv2.fillConvexPoly(mask, poly_vertices, 1)\n",
    "        cv2.fillConvexPoly(img, poly_vertices, (255, 255, 255))\n",
    "        imshow(img)\n",
    "        \n",
    "        cloth = img[mask > 0]\n",
    "        width = int(np.sqrt(cloth.shape[0]))\n",
    "        cloth = cloth[:width * width].reshape((width, width, 3))\n",
    "        hist_channel = []\n",
    "        for i in range(3):\n",
    "            hist_channel.append(cv2.calcHist([cloth], [i], None, [16], [0,256]))\n",
    "        hist = np.vstack((hist_channel[0], hist_channel[1], hist_channel[2])).reshape(48)\n",
    "        return hist / (1.*width*width)\n",
    "    get_histogram(0)    \n",
    "#     hist_all = par_for(get_histogram, [i for i in range(len(pose_list))])\n",
    "#     return hist_all"
   ]
  },
  {
   "cell_type": "code",
   "execution_count": null,
   "metadata": {
    "ExecuteTime": {
     "end_time": "2019-03-11T19:00:13.690072Z",
     "start_time": "2019-03-11T19:00:13.317590Z"
    }
   },
   "outputs": [],
   "source": [
    "fore = [(fid, pose) for fid, pose in foreground_pose.items()]\n",
    "collect_histogram(fore)"
   ]
  },
  {
   "cell_type": "code",
   "execution_count": null,
   "metadata": {
    "ExecuteTime": {
     "end_time": "2019-03-11T16:53:42.848158Z",
     "start_time": "2019-03-11T16:53:09.699804Z"
    }
   },
   "outputs": [],
   "source": [
    "hist_foreground = collect_histogram(foreground_pose)\n",
    "hist_background = collect_histogram(background_pose)"
   ]
  },
  {
   "cell_type": "code",
   "execution_count": null,
   "metadata": {
    "ExecuteTime": {
     "end_time": "2019-03-11T16:53:43.812451Z",
     "start_time": "2019-03-11T16:53:43.792778Z"
    }
   },
   "outputs": [],
   "source": [
    "# train model\n",
    "from sklearn.neighbors import KNeighborsClassifier\n",
    "\n",
    "model = KNeighborsClassifier(n_neighbors=100)\n",
    "\n",
    "# Train the model using the training sets\n",
    "model.fit(hist_foreground + hist_background, [1]*len(hist_foreground) + [0]*len(hist_background))"
   ]
  },
  {
   "cell_type": "code",
   "execution_count": null,
   "metadata": {
    "ExecuteTime": {
     "end_time": "2019-03-11T17:21:20.850735Z",
     "start_time": "2019-03-11T17:18:14.395765Z"
    },
    "scrolled": true
   },
   "outputs": [],
   "source": [
    "foreground_match_scene_intervals = []\n",
    "background_match_scene_intervals = []\n",
    "\n",
    "for interval in match_scene_intervals:\n",
    "    foreground_pose, background_pose = group_pose(interval)\n",
    "    pose_list = [(fid, pose) for fid, pose in foreground_pose.items()]\n",
    "    pose_list_sample = random.sample(pose_list, 50)\n",
    "    hist_fore = collect_histogram(pose_list_sample)\n",
    "    \n",
    "    predicted_label = model.predict(hist_fore)\n",
    "    if 1. * np.sum(predicted_label) / len(predicted_label) > 0.5:\n",
    "        foreground_match_scene_intervals.append(interval)\n",
    "    else:\n",
    "        background_match_scene_intervals.append(interval)\n",
    "    print(\"Foreground\", 1. * np.sum(predicted_label) / len(predicted_label))\n",
    "        "
   ]
  },
  {
   "cell_type": "code",
   "execution_count": null,
   "metadata": {
    "ExecuteTime": {
     "end_time": "2019-03-11T18:34:20.418762Z",
     "start_time": "2019-03-11T18:34:18.051154Z"
    }
   },
   "outputs": [],
   "source": [
    "create_montage(foreground_match_scene_intervals, out_path='/app/result/foreground_montage.jpg',\n",
    "                  width=2160, num_cols=6)"
   ]
  },
  {
   "cell_type": "code",
   "execution_count": null,
   "metadata": {
    "ExecuteTime": {
     "end_time": "2019-03-11T18:34:58.020883Z",
     "start_time": "2019-03-11T18:34:56.655183Z"
    }
   },
   "outputs": [],
   "source": [
    "create_montage(background_match_scene_intervals, out_path='/app/result/background_montage.jpg',\n",
    "                  width=2160, num_cols=6)"
   ]
  }
 ],
 "metadata": {
  "kernelspec": {
   "display_name": "Django Shell-Plus",
   "language": "python",
   "name": "django_extensions"
  },
  "language_info": {
   "codemirror_mode": {
    "name": "ipython",
    "version": 3
   },
   "file_extension": ".py",
   "mimetype": "text/x-python",
   "name": "python",
   "nbconvert_exporter": "python",
   "pygments_lexer": "ipython3",
   "version": "3.5.2"
  },
  "toc": {
   "nav_menu": {},
   "number_sections": true,
   "sideBar": true,
   "skip_h1_title": false,
   "toc_cell": false,
   "toc_position": {},
   "toc_section_display": "block",
   "toc_window_display": false
  }
 },
 "nbformat": 4,
 "nbformat_minor": 2
}
