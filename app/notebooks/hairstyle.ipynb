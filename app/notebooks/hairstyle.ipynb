{
 "cells": [
  {
   "cell_type": "markdown",
   "metadata": {
    "toc": true
   },
   "source": [
    "<h1>Table of Contents<span class=\"tocSkip\"></span></h1>\n",
    "<div class=\"toc\" style=\"margin-top: 1em;\"><ul class=\"toc-item\"><li><span><a href=\"#label-identity-hairstyle\" data-toc-modified-id=\"label-identity-hairstyle-1\"><span class=\"toc-item-num\">1&nbsp;&nbsp;</span>label identity hairstyle</a></span></li><li><span><a href=\"#Prepare-hairstyle-images\" data-toc-modified-id=\"Prepare-hairstyle-images-2\"><span class=\"toc-item-num\">2&nbsp;&nbsp;</span>Prepare hairstyle images</a></span></li><li><span><a href=\"#prepare-hairstyle-manifest\" data-toc-modified-id=\"prepare-hairstyle-manifest-3\"><span class=\"toc-item-num\">3&nbsp;&nbsp;</span>prepare hairstyle manifest</a></span></li></ul></div>"
   ]
  },
  {
   "cell_type": "code",
   "execution_count": null,
   "metadata": {
    "ExecuteTime": {
     "end_time": "2018-12-30T22:54:48.713068Z",
     "start_time": "2018-12-30T22:54:48.641511Z"
    }
   },
   "outputs": [],
   "source": [
    "from query.models import Video, FaceIdentity, Identity\n",
    "from esper.widget import *\n",
    "from esper.prelude import collect, esper_widget\n",
    "import pickle\n",
    "import os\n",
    "import random\n",
    "\n",
    "get_ipython().magic('matplotlib inline')\n",
    "get_ipython().magic('reload_ext autoreload')\n",
    "get_ipython().magic('autoreload 2')"
   ]
  },
  {
   "cell_type": "markdown",
   "metadata": {},
   "source": [
    "# label identity hairstyle"
   ]
  },
  {
   "cell_type": "code",
   "execution_count": null,
   "metadata": {
    "ExecuteTime": {
     "end_time": "2018-12-30T22:54:50.495742Z",
     "start_time": "2018-12-30T22:54:50.432920Z"
    }
   },
   "outputs": [],
   "source": [
    "identity_hair_dict = {}"
   ]
  },
  {
   "cell_type": "code",
   "execution_count": null,
   "metadata": {
    "ExecuteTime": {
     "end_time": "2018-12-29T19:43:13.412062Z",
     "start_time": "2018-12-29T19:43:13.355453Z"
    }
   },
   "outputs": [],
   "source": [
    "identities = Identity.objects.all()\n",
    "identity_list = [(i.id, i.name) for i in identities]\n",
    "identity_list.sort()\n",
    "# 154"
   ]
  },
  {
   "cell_type": "code",
   "execution_count": null,
   "metadata": {
    "ExecuteTime": {
     "end_time": "2018-12-29T20:00:01.520132Z",
     "start_time": "2018-12-29T20:00:01.441491Z"
    }
   },
   "outputs": [],
   "source": [
    "hair_color_3 = {0: 'black', 1: 'white', 2: 'blond'}\n",
    "hair_color_5 = {0: 'black', 1: 'white', 2: 'blond', 3: 'brown', 4: 'gray'}\n",
    "hair_length = {0: 'long', 1: 'medium', 2: 'short', 3: 'bald'} "
   ]
  },
  {
   "cell_type": "code",
   "execution_count": null,
   "metadata": {
    "ExecuteTime": {
     "end_time": "2018-12-29T23:58:23.907631Z",
     "start_time": "2018-12-29T23:58:23.841468Z"
    }
   },
   "outputs": [],
   "source": [
    "identity_label = [id for id in identity_label if id not in identity_hair_dict]"
   ]
  },
  {
   "cell_type": "code",
   "execution_count": null,
   "metadata": {
    "ExecuteTime": {
     "end_time": "2018-12-30T00:59:35.257885Z",
     "start_time": "2018-12-30T00:59:35.118482Z"
    },
    "scrolled": true
   },
   "outputs": [],
   "source": [
    "# idx += 1\n",
    "# iid = identity_list[idx][0]\n",
    "# name = identity_list[idx][1]\n",
    "# iid = identity_label[idx]\n",
    "\n",
    "# print(name)\n",
    "print(iid)\n",
    "result = qs_to_result(\n",
    "    FaceIdentity.objects \\\n",
    "    .filter(identity__id=1365) \\\n",
    "    .filter(probability__gt=0.8),\n",
    "    limit=30)\n",
    "esper_widget(result)"
   ]
  },
  {
   "cell_type": "code",
   "execution_count": null,
   "metadata": {
    "ExecuteTime": {
     "end_time": "2018-12-29T23:59:24.345009Z",
     "start_time": "2018-12-29T23:59:24.265661Z"
    }
   },
   "outputs": [],
   "source": [
    "'''\n",
    "{'black' : 0, 'white': 1, 'blond' : 2}, # hair_color_3\n",
    "{'black' : 0, 'white': 1, 'blond' : 2, 'brown' : 3, 'gray' : 4}, # hair_color_5\n",
    "{'long' : 0, 'medium' : 1, 'short' : 2, 'bald' : 3} # hair_length\n",
    "'''\n",
    "\n",
    "\n",
    "label = identity_hair_dict[iid] = (2,2,0)\n",
    "print(hair_color_3[label[0]], hair_color_5[label[1]], hair_length[label[2]])\n",
    "pickle.dump(identity_hair_dict, open('/app/data/identity_hair_dict.pkl', 'wb'))"
   ]
  },
  {
   "cell_type": "markdown",
   "metadata": {},
   "source": [
    "# Prepare hairstyle images"
   ]
  },
  {
   "cell_type": "code",
   "execution_count": null,
   "metadata": {
    "ExecuteTime": {
     "end_time": "2018-12-29T05:47:07.191631Z",
     "start_time": "2018-12-29T05:47:06.999379Z"
    },
    "scrolled": true
   },
   "outputs": [],
   "source": [
    "faceIdentities = FaceIdentity.objects \\\n",
    "    .filter(identity__name='melania trump') \\\n",
    "    .filter(probability__gt=0.9) \\\n",
    "    .select_related('face__frame__video')"
   ]
  },
  {
   "cell_type": "code",
   "execution_count": null,
   "metadata": {},
   "outputs": [],
   "source": [
    "faceIdentities_sampled = random.sample(list(faceIdentities), 1000)\n",
    "print(\"Load %d face identities\" % len(faceIdentities_sampled))"
   ]
  },
  {
   "cell_type": "code",
   "execution_count": null,
   "metadata": {
    "ExecuteTime": {
     "end_time": "2018-12-29T05:47:13.008441Z",
     "start_time": "2018-12-29T05:47:12.967708Z"
    },
    "scrolled": true
   },
   "outputs": [],
   "source": [
    "identity_grouped = collect(list(faceIdentities_sampled), lambda identity: identity.face.frame.video.id)\n",
    "print(\"Group into %d videos\" % len(identity_grouped))"
   ]
  },
  {
   "cell_type": "code",
   "execution_count": null,
   "metadata": {
    "ExecuteTime": {
     "end_time": "2018-12-29T05:47:21.046665Z",
     "start_time": "2018-12-29T05:47:20.855638Z"
    }
   },
   "outputs": [],
   "source": [
    "face_dict = {}\n",
    "for video_id, fis in identity_grouped.items():\n",
    "    video = Video.objects.filter(id=video_id)[0]\n",
    "    face_list = []\n",
    "    for i in fis:\n",
    "        face_id = i.face.id\n",
    "        frame_id = i.face.frame.number\n",
    "        identity_id = i.identity.id\n",
    "        x1, y1, x2, y2 = i.face.bbox_x1, i.face.bbox_y1, i.face.bbox_x2, i.face.bbox_y2\n",
    "        bbox = (x1, y1, x2, y2)\n",
    "        face_list.append((frame_id, face_id, identity_id, bbox))\n",
    "    face_list.sort()\n",
    "    face_dict[video.path] = face_list\n",
    "print(\"Preload face bbox done\")"
   ]
  },
  {
   "cell_type": "code",
   "execution_count": null,
   "metadata": {
    "ExecuteTime": {
     "end_time": "2018-12-29T05:53:52.505307Z",
     "start_time": "2018-12-29T05:53:45.557794Z"
    }
   },
   "outputs": [],
   "source": [
    "if __name__ == \"__main__\":\n",
    "\n",
    "    solve_parallel(face_dict, res_dict_path='/app/result/clothing/fina_dict.pkl', workers=10)"
   ]
  },
  {
   "cell_type": "markdown",
   "metadata": {},
   "source": [
    "# prepare hairstyle manifest"
   ]
  },
  {
   "cell_type": "code",
   "execution_count": null,
   "metadata": {
    "ExecuteTime": {
     "end_time": "2018-12-30T00:46:02.938506Z",
     "start_time": "2018-12-30T00:46:02.771079Z"
    }
   },
   "outputs": [],
   "source": [
    "img_list = os.listdir('/app/result/clothing/images/')\n",
    "len(img_list)"
   ]
  },
  {
   "cell_type": "code",
   "execution_count": null,
   "metadata": {
    "ExecuteTime": {
     "end_time": "2018-12-30T00:50:04.594404Z",
     "start_time": "2018-12-30T00:50:04.428968Z"
    }
   },
   "outputs": [],
   "source": [
    "group_by_identity = {}\n",
    "for name in img_list:\n",
    "    iid = int(name.split('_')[0])\n",
    "    if iid not in group_by_identity:\n",
    "        group_by_identity[iid] = []\n",
    "    else:\n",
    "        group_by_identity[iid].append(name)\n",
    "identity_label = [id for id, img_list in group_by_identity.items() if len(img_list) > 10]\n",
    "identity_label.sort()"
   ]
  },
  {
   "cell_type": "code",
   "execution_count": null,
   "metadata": {
    "ExecuteTime": {
     "end_time": "2018-12-30T01:00:34.271855Z",
     "start_time": "2018-12-30T01:00:34.096561Z"
    }
   },
   "outputs": [],
   "source": [
    "identity_hair_dict = pickle.load(open('/app/data/identity_hair_dict.pkl', 'rb'))\n",
    "NUM_PER_ID = 1000\n",
    "hairstyle_manifest = []\n",
    "for iid, img_list in group_by_identity.items():\n",
    "    if len(img_list) > 10 and iid in identity_hair_dict:\n",
    "        if len(img_list) < NUM_PER_ID:\n",
    "            img_list_sample = img_list\n",
    "        else:\n",
    "            img_list_sample = random.sample(img_list, NUM_PER_ID)\n",
    "        attrib = identity_hair_dict[iid]\n",
    "        hairstyle_manifest += [(path, attrib) for path in img_list_sample]\n",
    "random.shuffle(hairstyle_manifest)\n",
    "len(hairstyle_manifest)"
   ]
  },
  {
   "cell_type": "code",
   "execution_count": null,
   "metadata": {
    "ExecuteTime": {
     "end_time": "2018-12-30T01:01:39.127419Z",
     "start_time": "2018-12-30T01:01:39.024292Z"
    }
   },
   "outputs": [],
   "source": [
    "pickle.dump(hairstyle_manifest, open('/app/result/clothing/hairstyle_manifest.pkl', 'wb'))"
   ]
  }
 ],
 "metadata": {
  "kernelspec": {
   "display_name": "Django Shell-Plus",
   "language": "python",
   "name": "django_extensions"
  },
  "language_info": {
   "codemirror_mode": {
    "name": "ipython",
    "version": 3
   },
   "file_extension": ".py",
   "mimetype": "text/x-python",
   "name": "python",
   "nbconvert_exporter": "python",
   "pygments_lexer": "ipython3",
   "version": "3.5.2"
  },
  "toc": {
   "nav_menu": {},
   "number_sections": true,
   "sideBar": true,
   "skip_h1_title": false,
   "toc_cell": true,
   "toc_position": {},
   "toc_section_display": "block",
   "toc_window_display": true
  }
 },
 "nbformat": 4,
 "nbformat_minor": 2
}
