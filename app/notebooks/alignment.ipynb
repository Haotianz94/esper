{
 "cells": [
  {
   "cell_type": "markdown",
   "metadata": {
    "toc": true
   },
   "source": [
    "<h1>Table of Contents<span class=\"tocSkip\"></span></h1>\n",
    "<div class=\"toc\" style=\"margin-top: 1em;\"><ul class=\"toc-item\"><li><span><a href=\"#Install-gentle\" data-toc-modified-id=\"Install-gentle-1\"><span class=\"toc-item-num\">1&nbsp;&nbsp;</span>Install gentle</a></span></li><li><span><a href=\"#Test-aligning-transcript-with-local-video\" data-toc-modified-id=\"Test-aligning-transcript-with-local-video-2\"><span class=\"toc-item-num\">2&nbsp;&nbsp;</span>Test aligning transcript with local video</a></span></li><li><span><a href=\"#Test-aligning-transcript-using-scanner-pipeline\" data-toc-modified-id=\"Test-aligning-transcript-using-scanner-pipeline-3\"><span class=\"toc-item-num\">3&nbsp;&nbsp;</span>Test aligning transcript using scanner pipeline</a></span></li><li><span><a href=\"#Analyze-result\" data-toc-modified-id=\"Analyze-result-4\"><span class=\"toc-item-num\">4&nbsp;&nbsp;</span>Analyze result</a></span></li><li><span><a href=\"#complete-transcript-loading\" data-toc-modified-id=\"complete-transcript-loading-5\"><span class=\"toc-item-num\">5&nbsp;&nbsp;</span>complete transcript loading</a></span></li><li><span><a href=\"#Check-audio-time-&gt;-frame-time\" data-toc-modified-id=\"Check-audio-time->-frame-time-6\"><span class=\"toc-item-num\">6&nbsp;&nbsp;</span>Check audio time &gt; frame time</a></span></li></ul></div>"
   ]
  },
  {
   "cell_type": "markdown",
   "metadata": {},
   "source": [
    "# Install gentle "
   ]
  },
  {
   "cell_type": "markdown",
   "metadata": {},
   "source": [
    "1.\n",
    "git clone https://github.com/scanner-research/gentle\n",
    "\n",
    "2.\n",
    "bash ./install.sh (takes ~30min)   "
   ]
  },
  {
   "cell_type": "markdown",
   "metadata": {},
   "source": [
    "# Test aligning transcript with local video"
   ]
  },
  {
   "cell_type": "code",
   "execution_count": null,
   "metadata": {
    "ExecuteTime": {
     "end_time": "2018-12-23T01:46:23.473403Z",
     "start_time": "2018-12-23T01:46:23.258225Z"
    }
   },
   "outputs": [],
   "source": [
    "import pickle\n",
    "from query.models import Video\n",
    "import scannerpy\n",
    "import os\n",
    "\n",
    "get_ipython().magic('reload_ext autoreload')\n",
    "get_ipython().magic('autoreload 2')"
   ]
  },
  {
   "cell_type": "code",
   "execution_count": null,
   "metadata": {
    "ExecuteTime": {
     "end_time": "2018-12-20T07:00:35.608719Z",
     "start_time": "2018-12-20T07:00:35.559609Z"
    }
   },
   "outputs": [],
   "source": [
    "# set test video list\n",
    "video_list = ['CNNW_20121201_120000_Weekend_Early_Start']\n",
    "\n",
    "# import pickle\n",
    "# video_list = pickle.load(open('../app/data/tvnews_std_sample.pkl', 'rb'))['sample_100']"
   ]
  },
  {
   "cell_type": "code",
   "execution_count": null,
   "metadata": {
    "ExecuteTime": {
     "end_time": "2018-12-20T07:00:36.549819Z",
     "start_time": "2018-12-20T07:00:36.500018Z"
    }
   },
   "outputs": [],
   "source": [
    "# set srt extension\n",
    "for video_name in video_list:\n",
    "    video = Video.objects.filter(path__contains=video_name)[0]\n",
    "    video.srt_extension = 'word'\n",
    "    video.save()"
   ]
  },
  {
   "cell_type": "code",
   "execution_count": null,
   "metadata": {
    "ExecuteTime": {
     "end_time": "2018-12-19T10:04:33.877161Z",
     "start_time": "2018-12-19T10:04:24.672313Z"
    },
    "scrolled": true
   },
   "outputs": [],
   "source": [
    "from scannertools.transcript_alignment import TranscriptAligner\n",
    "\n",
    "res_stats = {}\n",
    "for video_name in video_list:\n",
    "    print(video_name)\n",
    "    # download video\n",
    "    video_path = os.path.join('../data/videos/', video_name+'.mp4')\n",
    "    if not os.path.exists(video_path):\n",
    "        gs_path = os.path.join('gs://esper/tvnews/videos/', video_name+'.mp4')\n",
    "        cmd = 'gsutil cp ' + gs_path + ' ' + '../data/videos/'\n",
    "        os.system(cmd)\n",
    "    print('Downloading video done')\n",
    "    \n",
    "    # run alignment\n",
    "    aligner = TranscriptAligner(win_size=300, seg_length=60, max_misalign=10, num_thread=64, estimate=True,\n",
    "                            media_path=video_path,\n",
    "                            transcript_path=os.path.join('/app/data/subs10/', video_name),\n",
    "                            align_dir='/app/data/subs/orig/')\n",
    "    res = aligner.run_all()\n",
    "#     res_stats[video_name] = res\n",
    "#     pickle.dump(res_stats, open('/app/result/test_align_100_hard.pkl', 'wb'))"
   ]
  },
  {
   "cell_type": "markdown",
   "metadata": {},
   "source": [
    "# Test aligning transcript using scanner pipeline"
   ]
  },
  {
   "cell_type": "code",
   "execution_count": null,
   "metadata": {
    "ExecuteTime": {
     "end_time": "2018-12-19T18:57:28.873872Z",
     "start_time": "2018-12-19T18:57:28.707338Z"
    }
   },
   "outputs": [],
   "source": [
    "from scannertools import audio, transcript_alignment\n",
    "from tqdm import tqdm\n",
    "SEG_LENGTH = 60"
   ]
  },
  {
   "cell_type": "code",
   "execution_count": null,
   "metadata": {
    "ExecuteTime": {
     "end_time": "2018-12-19T18:59:27.801775Z",
     "start_time": "2018-12-19T18:59:27.565854Z"
    }
   },
   "outputs": [],
   "source": [
    "# set test video list\n",
    "video_list = ['CNNW_20110606_030000_CNN_Presents']\n",
    "videos = [Video.objects.filter(path__contains=video_name)[0] for video_name in video_list]\n",
    "\n",
    "# videos = Video.objects.filter(threeyears_dataset=True).all()\n",
    "addtional_field = pickle.load(open('/app/data/addtional_field_all.pkl', 'rb'))\n",
    "# videos = [video for video in videos if addtional_field[video.id]['valid_transcript']]\n",
    "# videos = videos[:30000]"
   ]
  },
  {
   "cell_type": "code",
   "execution_count": null,
   "metadata": {
    "ExecuteTime": {
     "end_time": "2018-12-13T06:39:02.040689Z",
     "start_time": "2018-12-13T06:39:00.539178Z"
    }
   },
   "outputs": [],
   "source": [
    "# check database\n",
    "db = scannerpy.Database()\n",
    "videos_committed = []\n",
    "for video in tqdm(videos):\n",
    "    table_name = '{}_align_transcript'.format(video.path)\n",
    "    table = db.table(table_name)\n",
    "    if not table.committed():\n",
    "        print(video.item_name())\n",
    "    else:\n",
    "        videos_committed.append(video)\n",
    "videos = videos_committed\n",
    "len(videos)"
   ]
  },
  {
   "cell_type": "code",
   "execution_count": null,
   "metadata": {
    "ExecuteTime": {
     "end_time": "2018-12-13T09:31:23.172664Z",
     "start_time": "2018-12-13T09:31:22.855822Z"
    },
    "scrolled": true
   },
   "outputs": [],
   "source": [
    "# load audios from videos\n",
    "audios = [audio.AudioSource(video.for_scannertools(), \n",
    "                                frame_size=SEG_LENGTH, \n",
    "                                duration=addtional_field[video.id]['audio_duration']) \n",
    "              for video in videos]\n",
    "\n",
    "# set up transcripts \n",
    "captions = [audio.CaptionSource('tvnews/subs10/'+video.item_name(), \n",
    "                                max_time=addtional_field[video.id]['audio_duration'] , \n",
    "                                window_size=SEG_LENGTH) \n",
    "            for video in videos]"
   ]
  },
  {
   "cell_type": "code",
   "execution_count": null,
   "metadata": {
    "ExecuteTime": {
     "end_time": "2018-12-13T06:39:17.298035Z",
     "start_time": "2018-12-13T06:39:17.277020Z"
    },
    "scrolled": true
   },
   "outputs": [],
   "source": [
    "# set up run opts\n",
    "run_opts = {'pipeline_instances_per_node': 32, 'checkpoint_frequency': 5}\n",
    "\n",
    "# set up align opts\n",
    "align_opts = {'seg_length' : 60,\n",
    "              'max_misalign' : 10,\n",
    "              'num_thread' : 1,\n",
    "              'exhausted' : False,\n",
    "#               'align_dir' : None,\n",
    "#               'res_path' : None,\n",
    "              'align_dir' : '/app/data/subs/orig/',\n",
    "              'res_path' : '/app/result/final_align_3y.pkl',\n",
    "}"
   ]
  },
  {
   "cell_type": "code",
   "execution_count": null,
   "metadata": {
    "ExecuteTime": {
     "end_time": "2018-12-13T07:14:18.900140Z",
     "start_time": "2018-12-13T06:39:27.516549Z"
    },
    "scrolled": true
   },
   "outputs": [],
   "source": [
    "transcript_alignment.align_transcript(db, videos_committed, audios, captions, run_opts, align_opts, cache=True) "
   ]
  },
  {
   "cell_type": "markdown",
   "metadata": {},
   "source": [
    "# Analyze result"
   ]
  },
  {
   "cell_type": "code",
   "execution_count": null,
   "metadata": {
    "ExecuteTime": {
     "end_time": "2018-12-23T00:19:27.485113Z",
     "start_time": "2018-12-23T00:19:27.281464Z"
    }
   },
   "outputs": [],
   "source": [
    "align_stats_first = pickle.load(open('/app/result/align_stats_first.pkl', 'rb'))\n",
    "align_stats_second = pickle.load(open('/app/result/align_stats_second.pkl', 'rb'))"
   ]
  },
  {
   "cell_type": "code",
   "execution_count": null,
   "metadata": {
    "ExecuteTime": {
     "end_time": "2018-12-23T00:25:46.541073Z",
     "start_time": "2018-12-23T00:25:42.452434Z"
    },
    "scrolled": true
   },
   "outputs": [],
   "source": [
    "videos = Video.objects.all()\n",
    "cnt = 0\n",
    "video_list = []\n",
    "clean_file = open('/app/result/clean_subs.txt', 'w')\n",
    "for video in videos:\n",
    "    if video.id in align_stats_second and align_stats_second[video.id]['word_missing'] <= 0.2:\n",
    "#         if cnt < 100:\n",
    "#             print(video.id, res_stats[video.id]['word_missing'])\n",
    "#             video_list.append(video.id)\n",
    "        cnt += 1\n",
    "        clean_file.write(video.item_name() + '\\n')\n",
    "print(len(videos), cnt)\n",
    "# print(video_list)\n",
    "clean_file.close()"
   ]
  },
  {
   "cell_type": "code",
   "execution_count": null,
   "metadata": {
    "ExecuteTime": {
     "end_time": "2018-12-23T00:20:36.399543Z",
     "start_time": "2018-12-23T00:20:36.049859Z"
    }
   },
   "outputs": [],
   "source": [
    "# merge second into first\n",
    "align_stats_final = {id: res for id, res in align_stats_first.items() if res['word_missing'] < 0.2}\n",
    "for id, res in align_stats_second.items():\n",
    "    align_stats_final[id] = res\n",
    "res_list_first = [res['word_missing'] if res['word_missing'] > 0 else 0 for id, res in align_stats_first.items() ]\n",
    "res_list_final = [res['word_missing'] if res['word_missing'] > 0 else 0 for id, res in align_stats_final.items() if res['word_missing'] < 1]\n",
    "res_list_first.sort()\n",
    "res_list_final.sort()"
   ]
  },
  {
   "cell_type": "code",
   "execution_count": null,
   "metadata": {
    "ExecuteTime": {
     "end_time": "2018-12-23T00:39:21.777475Z",
     "start_time": "2018-12-23T00:39:17.346071Z"
    }
   },
   "outputs": [],
   "source": [
    "videos = Video.objects.all()\n",
    "addtional_field = pickle.load(open('/app/data/addtional_field_all.pkl', 'rb'))\n",
    "cnt = 0\n",
    "for video in videos:\n",
    "    if video.id in align_stats_final and align_stats_final[video.id]['word_missing'] <= 0.2:\n",
    "        addtional_field[video.id]['aligned_transcript'] = True\n",
    "        cnt += 1\n",
    "    else:\n",
    "        addtional_field[video.id]['aligned_transcript'] = False\n",
    "cnt"
   ]
  },
  {
   "cell_type": "code",
   "execution_count": null,
   "metadata": {
    "ExecuteTime": {
     "end_time": "2018-12-23T00:40:36.766156Z",
     "start_time": "2018-12-23T00:40:36.305915Z"
    }
   },
   "outputs": [],
   "source": [
    "pickle.dump(addtional_field, open('/app/data/addtional_field_all.pkl', 'wb'))"
   ]
  },
  {
   "cell_type": "code",
   "execution_count": null,
   "metadata": {
    "ExecuteTime": {
     "end_time": "2018-12-23T00:20:38.266908Z",
     "start_time": "2018-12-23T00:20:37.904730Z"
    }
   },
   "outputs": [],
   "source": [
    "import matplotlib.pyplot as plt\n",
    "plt.plot(res_list_first)\n",
    "plt.plot(res_list_final)\n",
    "plt.xlabel('num of videos')\n",
    "plt.ylabel('mis-aligned ratio')"
   ]
  },
  {
   "cell_type": "markdown",
   "metadata": {},
   "source": [
    "# complete transcript loading"
   ]
  },
  {
   "cell_type": "code",
   "execution_count": null,
   "metadata": {
    "ExecuteTime": {
     "end_time": "2018-12-22T23:37:50.475135Z",
     "start_time": "2018-12-22T23:37:50.361090Z"
    }
   },
   "outputs": [],
   "source": [
    "updates = open('/app/tmp/align2_10.log', 'r').read().split('\\n')\n",
    "print(updates[:4])\n",
    "\n",
    "updates = [line.split(' ') for line in updates[4:-1]]\n",
    "len(updates)"
   ]
  },
  {
   "cell_type": "code",
   "execution_count": null,
   "metadata": {
    "ExecuteTime": {
     "end_time": "2018-12-22T23:37:53.001861Z",
     "start_time": "2018-12-22T23:37:52.896665Z"
    }
   },
   "outputs": [],
   "source": [
    "res_stats = pickle.load(open('/app/result/align_stats_second.pkl', 'rb'))"
   ]
  },
  {
   "cell_type": "code",
   "execution_count": null,
   "metadata": {
    "ExecuteTime": {
     "end_time": "2018-12-22T23:37:57.149029Z",
     "start_time": "2018-12-22T23:37:55.380579Z"
    }
   },
   "outputs": [],
   "source": [
    "for path, r in updates:\n",
    "    video = Video.objects.filter(path=path)[0]\n",
    "    res_stats[video.id] = {'word_missing': float(r)}\n",
    "len(res_stats)"
   ]
  },
  {
   "cell_type": "code",
   "execution_count": null,
   "metadata": {
    "ExecuteTime": {
     "end_time": "2018-12-22T23:37:58.866351Z",
     "start_time": "2018-12-22T23:37:58.800547Z"
    }
   },
   "outputs": [],
   "source": [
    "pickle.dump(res_stats, open('/app/result/align_stats_second.pkl', 'wb'))"
   ]
  },
  {
   "cell_type": "markdown",
   "metadata": {},
   "source": [
    "# Check audio time > frame time"
   ]
  },
  {
   "cell_type": "code",
   "execution_count": null,
   "metadata": {
    "ExecuteTime": {
     "end_time": "2018-12-19T19:15:13.281141Z",
     "start_time": "2018-12-19T19:15:09.251332Z"
    }
   },
   "outputs": [],
   "source": [
    "# set test video list\n",
    "videos = Video.objects.all()\n",
    "addtional_field = pickle.load(open('/app/data/addtional_field_all.pkl', 'rb'))\n",
    "videos = [video for video in videos if addtional_field[video.id]['valid_transcript']]"
   ]
  },
  {
   "cell_type": "code",
   "execution_count": null,
   "metadata": {
    "ExecuteTime": {
     "end_time": "2018-12-19T19:48:16.784571Z",
     "start_time": "2018-12-19T19:48:16.471354Z"
    },
    "scrolled": true
   },
   "outputs": [],
   "source": [
    "cnt = 0\n",
    "for video in videos:\n",
    "    audio_time = addtional_field[video.id]['audio_duration']\n",
    "    frame_time = video.num_frames / video.fps\n",
    "    if audio_time / frame_time > 1.1 or audio_time / frame_time < 0.9:\n",
    "        cnt += 1\n",
    "cnt"
   ]
  },
  {
   "cell_type": "code",
   "execution_count": null,
   "metadata": {
    "ExecuteTime": {
     "end_time": "2018-12-19T19:41:12.972432Z",
     "start_time": "2018-12-19T19:41:12.933705Z"
    }
   },
   "outputs": [],
   "source": [
    "import tempfile\n",
    "import re\n",
    "def get_frame_audio_length(video):\n",
    "    url = video.url()\n",
    "    log_path = tempfile.NamedTemporaryFile(suffix='.txt').name\n",
    "    cmd = 'ffprobe -show_streams -i ' + \\\n",
    "        '\\\"' + url + '\\\"' + ' > ' + log_path\n",
    "    os.system(cmd)\n",
    "    log = open(log_path, 'r')\n",
    "    format_str = log.read()\n",
    "    log.close()\n",
    "    durations = re.findall(r'\\nduration=(.*)', format_str)\n",
    "    return float(durations[0]), float(durations[1])"
   ]
  },
  {
   "cell_type": "code",
   "execution_count": null,
   "metadata": {
    "ExecuteTime": {
     "end_time": "2018-12-19T19:41:15.282179Z",
     "start_time": "2018-12-19T19:41:13.909448Z"
    }
   },
   "outputs": [],
   "source": [
    "get_frame_audio_length(Video.objects.filter(path__contains='CNNW_20120815_230000_Erin_Burnett_OutFront')[0])"
   ]
  }
 ],
 "metadata": {
  "kernelspec": {
   "display_name": "Django Shell-Plus",
   "language": "python",
   "name": "django_extensions"
  },
  "language_info": {
   "codemirror_mode": {
    "name": "ipython",
    "version": 3
   },
   "file_extension": ".py",
   "mimetype": "text/x-python",
   "name": "python",
   "nbconvert_exporter": "python",
   "pygments_lexer": "ipython3",
   "version": "3.5.2"
  },
  "toc": {
   "nav_menu": {},
   "number_sections": true,
   "sideBar": false,
   "skip_h1_title": false,
   "toc_cell": true,
   "toc_position": {},
   "toc_section_display": "block",
   "toc_window_display": false
  }
 },
 "nbformat": 4,
 "nbformat_minor": 2
}
