{
 "cells": [
  {
   "cell_type": "code",
   "execution_count": null,
   "metadata": {
    "ExecuteTime": {
     "end_time": "2019-07-04T21:03:46.464444Z",
     "start_time": "2019-07-04T21:03:45.786525Z"
    },
    "scrolled": true
   },
   "outputs": [],
   "source": [
    "from scannerpy import Client, DeviceType\n",
    "from scannerpy.storage import NamedVideoStream, NamedStream\n",
    "from query.models import Video\n",
    "from scannertools import maskrcnn_detection, densepose_detection\n",
    "\n",
    "from esper.table_tennis.utils import *\n",
    "from esper.widget import *\n",
    "\n",
    "import os\n",
    "import sys\n",
    "import numpy as np"
   ]
  },
  {
   "cell_type": "code",
   "execution_count": null,
   "metadata": {
    "ExecuteTime": {
     "end_time": "2019-05-31T22:29:00.496039Z",
     "start_time": "2019-05-31T22:29:00.418616Z"
    }
   },
   "outputs": [],
   "source": [
    "movie_path = '/app/data/videos/sample-clip.mp4'\n",
    "movie_name = os.path.splitext(os.path.basename(movie_path))[0]\n",
    "video = Video.objects.filter(path__contains='sample')[0]"
   ]
  },
  {
   "cell_type": "code",
   "execution_count": null,
   "metadata": {
    "ExecuteTime": {
     "end_time": "2019-05-31T23:09:04.348069Z",
     "start_time": "2019-05-31T23:09:04.298593Z"
    }
   },
   "outputs": [],
   "source": [
    "video = Video.objects.filter(path__contains=\"men_single\")[0]\n",
    "movie_path = video.path\n",
    "movie_name = video.item_name()\n",
    "movie_name"
   ]
  },
  {
   "cell_type": "code",
   "execution_count": null,
   "metadata": {
    "ExecuteTime": {
     "end_time": "2019-05-31T23:10:06.881414Z",
     "start_time": "2019-05-31T23:10:06.850096Z"
    }
   },
   "outputs": [],
   "source": [
    "sc = Client()\n",
    "stride = 1\n",
    "input_stream = NamedVideoStream(sc, movie_name, path=movie_path)\n",
    "frame = sc.io.Input([input_stream])\n",
    "strided_frame = sc.streams.Stride(frame, [stride])"
   ]
  },
  {
   "cell_type": "code",
   "execution_count": null,
   "metadata": {
    "ExecuteTime": {
     "end_time": "2019-05-31T22:45:04.011177Z",
     "start_time": "2019-05-31T22:45:03.988545Z"
    }
   },
   "outputs": [],
   "source": [
    "s = sc.summarize()\n",
    "print(s)"
   ]
  },
  {
   "cell_type": "code",
   "execution_count": null,
   "metadata": {
    "ExecuteTime": {
     "end_time": "2019-05-31T22:47:52.026008Z",
     "start_time": "2019-05-31T22:47:52.007302Z"
    }
   },
   "outputs": [],
   "source": [
    "sc.delete_table(\"Tabletennis_2012_Olympics_men_single_final_bronze.mp4_maskrcnn\")"
   ]
  },
  {
   "cell_type": "markdown",
   "metadata": {},
   "source": [
    "# MaskRCNN"
   ]
  },
  {
   "cell_type": "code",
   "execution_count": null,
   "metadata": {
    "ExecuteTime": {
     "end_time": "2019-05-31T23:10:14.040686Z",
     "start_time": "2019-05-31T23:10:13.992433Z"
    }
   },
   "outputs": [],
   "source": [
    "maskrcnn_stream = NamedStream(sc, movie_name + '_maskrcnn')"
   ]
  },
  {
   "cell_type": "markdown",
   "metadata": {},
   "source": [
    "## Visualize single"
   ]
  },
  {
   "cell_type": "code",
   "execution_count": null,
   "metadata": {
    "ExecuteTime": {
     "end_time": "2019-05-31T23:02:53.413376Z",
     "start_time": "2019-05-31T23:02:53.392160Z"
    },
    "scrolled": true
   },
   "outputs": [],
   "source": [
    "fid = 25000\n",
    "seq = sc.sequence(maskrcnn_stream._name)\n",
    "obj = seq.load(workers=1, rows=[fid])"
   ]
  },
  {
   "cell_type": "code",
   "execution_count": null,
   "metadata": {
    "ExecuteTime": {
     "end_time": "2019-05-31T23:02:55.316407Z",
     "start_time": "2019-05-31T23:02:53.993965Z"
    },
    "scrolled": true
   },
   "outputs": [],
   "source": [
    "metadata = next(obj)\n",
    "frame = load_frame(video, fid, [])\n",
    "result = maskrcnn_detection.visualize_one_image(frame, metadata, min_score_thresh=0.5)\n",
    "imshow(result)"
   ]
  },
  {
   "cell_type": "markdown",
   "metadata": {},
   "source": [
    "## Visualize montage"
   ]
  },
  {
   "cell_type": "code",
   "execution_count": null,
   "metadata": {},
   "outputs": [],
   "source": [
    "images = []\n",
    "for i, obj in tqdm(enumerate(seq.load(workers=1))):\n",
    "    if i % 1000 == 0:\n",
    "        print(i)\n",
    "    if i < 20 * 60 * 25:\n",
    "        continue\n",
    "    if i % 100 == 0:\n",
    "        frame = load_frame(video, i, [])\n",
    "        result = maskrcnn_detection.visualize_one_image(frame, obj, min_score_thresh=0.7)\n",
    "        images.append(result)\n",
    "    if len(images) > 100:\n",
    "        break"
   ]
  },
  {
   "cell_type": "code",
   "execution_count": null,
   "metadata": {},
   "outputs": [],
   "source": [
    "create_montage_from_images(images[:100], output_path='/app/result/maskrcnn_result1.jpg',\n",
    "                          width=2160, num_cols=10)"
   ]
  },
  {
   "cell_type": "markdown",
   "metadata": {},
   "source": [
    "# DensePose"
   ]
  },
  {
   "cell_type": "code",
   "execution_count": null,
   "metadata": {
    "ExecuteTime": {
     "end_time": "2019-05-30T18:17:59.597028Z",
     "start_time": "2019-05-30T18:17:59.576698Z"
    }
   },
   "outputs": [],
   "source": [
    "densepose_stream = NamedStream(sc, movie_name + '_densepose')"
   ]
  },
  {
   "cell_type": "code",
   "execution_count": null,
   "metadata": {
    "ExecuteTime": {
     "end_time": "2019-05-30T18:18:39.713182Z",
     "start_time": "2019-05-30T18:18:39.598714Z"
    },
    "scrolled": true
   },
   "outputs": [],
   "source": [
    "fid = 100\n",
    "seq = sc.sequence(densepose_stream._name)\n",
    "obj = seq.load(workers=1, rows=[fid])\n",
    "metadata = next(obj)"
   ]
  },
  {
   "cell_type": "code",
   "execution_count": null,
   "metadata": {
    "ExecuteTime": {
     "end_time": "2019-05-06T06:03:04.412832Z",
     "start_time": "2019-05-06T06:03:04.083172Z"
    },
    "scrolled": true
   },
   "outputs": [],
   "source": [
    "frame = load_frame(video, fid, [])\n",
    "result = densepose_detection.visualize_one_image(frame, metadata, min_score_thresh=0.7, show_keypoint=True, show_box=True)\n",
    "imshow(result)"
   ]
  },
  {
   "cell_type": "markdown",
   "metadata": {},
   "source": [
    "## Dump densepose data"
   ]
  },
  {
   "cell_type": "code",
   "execution_count": null,
   "metadata": {
    "ExecuteTime": {
     "end_time": "2019-07-05T00:12:55.834007Z",
     "start_time": "2019-07-05T00:12:55.780773Z"
    },
    "scrolled": true
   },
   "outputs": [],
   "source": [
    "videos = [\n",
    " 'Tabletennis_2012_Olympics_men_single_final_gold.mp4',\n",
    " 'Tabletennis_2012_Olympics_men_single_final_bronze.mp4',\n",
    " 'Tabletennis_2012_Olympics_men_single_semi_final_1.mp4',\n",
    " 'Tabletennis_2012_Olympics_men_single_semi_final_2.mp4',\n",
    " 'Tabletennis_2012_Olympics_men_single_quarter_final_1.mp4',\n",
    " 'Tabletennis_2012_Olympics_men_single_quarter_final_2.mp4',\n",
    " 'Tabletennis_2012_Olympics_men_single_quarter_final_3.mp4',\n",
    " 'Tabletennis_2012_Olympics_men_single_quarter_final_4.mp4',\n",
    "]\n",
    "video_table = []\n",
    "for idx, v in enumerate(videos):\n",
    "    video = Video.objects.filter(path__contains=v)[0]\n",
    "    video_table.append({'id': idx, 'name': v, 'num_frames': video.num_frames, \n",
    "                        'width': video.width, 'height': video.height, 'fps': video.fps})\n",
    "pickle.dump(video_table, open('/app/data/video_table.pkl', 'wb'))\n",
    "video_table"
   ]
  },
  {
   "cell_type": "code",
   "execution_count": null,
   "metadata": {
    "ExecuteTime": {
     "end_time": "2019-07-04T21:58:36.731846Z",
     "start_time": "2019-07-04T21:58:36.700556Z"
    }
   },
   "outputs": [],
   "source": [
    "import pickle\n",
    "video_list = [\n",
    "    'Tabletennis_2012_Olympics_men_single_final_gold',\n",
    "    'Tabletennis_2012_Olympics_men_single_semi_final_2',\n",
    "    'Tabletennis_2012_Olympics_men_single_quarter_final_4'\n",
    "]\n",
    "sc = Client()"
   ]
  },
  {
   "cell_type": "code",
   "execution_count": null,
   "metadata": {
    "ExecuteTime": {
     "end_time": "2019-07-04T21:58:43.401846Z",
     "start_time": "2019-07-04T21:58:43.362023Z"
    }
   },
   "outputs": [],
   "source": [
    "hit_annotation = pickle.load(open('/app/data/pkl/hit_annotation.pkl', 'rb'))\n",
    "frame_ids_dict = {}\n",
    "for k, v in hit_annotation.items():\n",
    "    hit_dict = []\n",
    "    for h in v.values():\n",
    "        hit_dict += h\n",
    "    frame_ids = [i for point in hit_dict for i in range(point[0]['fid']-25, point[-1]['fid']+25) ]\n",
    "    frame_ids.sort()\n",
    "    frame_ids_dict[k] = frame_ids"
   ]
  },
  {
   "cell_type": "code",
   "execution_count": null,
   "metadata": {
    "ExecuteTime": {
     "end_time": "2019-07-04T22:02:13.358684Z",
     "start_time": "2019-07-04T22:02:11.734244Z"
    }
   },
   "outputs": [],
   "source": [
    "for movie_name in video_list:\n",
    "    densepose_stream = NamedStream(sc, movie_name + '_densepose')\n",
    "    seq = sc.sequence(densepose_stream._name)\n",
    "    result = {}\n",
    "    for i, obj in tqdm(enumerate(seq.load(workers=1))):\n",
    "        result[frame_ids_dict[movie_name][i]] = obj\n",
    "#         break\n",
    "    if i % 1000 == 0:\n",
    "        print(i)\n",
    "    pickle.dump(result, open('/app/data/pkl/{}_densepose.pkl'.format(movie_name), 'wb'))"
   ]
  }
 ],
 "metadata": {
  "kernelspec": {
   "display_name": "Django Shell-Plus",
   "language": "python",
   "name": "django_extensions"
  },
  "language_info": {
   "codemirror_mode": {
    "name": "ipython",
    "version": 3
   },
   "file_extension": ".py",
   "mimetype": "text/x-python",
   "name": "python",
   "nbconvert_exporter": "python",
   "pygments_lexer": "ipython3",
   "version": "3.5.2"
  },
  "toc": {
   "nav_menu": {},
   "number_sections": true,
   "sideBar": true,
   "skip_h1_title": false,
   "toc_cell": false,
   "toc_position": {},
   "toc_section_display": "block",
   "toc_window_display": false
  }
 },
 "nbformat": 4,
 "nbformat_minor": 2
}
