{
 "cells": [
  {
   "cell_type": "code",
   "execution_count": null,
   "metadata": {
    "ExecuteTime": {
     "end_time": "2019-05-06T18:40:52.090910Z",
     "start_time": "2019-05-06T18:40:51.781118Z"
    }
   },
   "outputs": [],
   "source": [
    "from scannerpy import Client, DeviceType\n",
    "from scannerpy.storage import NamedVideoStream, NamedStream\n",
    "from query.models import Video\n",
    "\n",
    "from esper.table_tennis.utils import *\n",
    "from esper.widget import *\n",
    "\n",
    "import os\n",
    "import sys\n",
    "import numpy as np"
   ]
  },
  {
   "cell_type": "code",
   "execution_count": null,
   "metadata": {
    "ExecuteTime": {
     "end_time": "2019-05-06T18:40:52.108346Z",
     "start_time": "2019-05-06T18:40:52.092138Z"
    }
   },
   "outputs": [],
   "source": [
    "movie_path = '/app/data/videos/sample-clip.mp4'\n",
    "movie_name = os.path.splitext(os.path.basename(movie_path))[0]\n",
    "video = Video.objects.filter(path__contains='sample')[0]"
   ]
  },
  {
   "cell_type": "code",
   "execution_count": null,
   "metadata": {
    "ExecuteTime": {
     "end_time": "2019-05-06T18:40:52.183222Z",
     "start_time": "2019-05-06T18:40:52.109618Z"
    }
   },
   "outputs": [],
   "source": [
    "sc = Client()\n",
    "stride = 1\n",
    "input_stream = NamedVideoStream(sc, movie_name, path=movie_path)\n",
    "frame = sc.io.Input([input_stream])\n",
    "strided_frame = sc.streams.Stride(frame, [stride])"
   ]
  },
  {
   "cell_type": "markdown",
   "metadata": {},
   "source": [
    "# MaskRCNN"
   ]
  },
  {
   "cell_type": "code",
   "execution_count": null,
   "metadata": {
    "ExecuteTime": {
     "end_time": "2019-05-06T05:55:41.272977Z",
     "start_time": "2019-05-06T05:55:41.201995Z"
    }
   },
   "outputs": [],
   "source": [
    "from scannertools import maskrcnn_detection\n",
    "\n",
    "object_frame = sc.ops.MaskRCNNDetectObjects(\n",
    "    frame=strided_frame,\n",
    "    device=DeviceType.GPU, #if sc.has_gpu() else DeviceType.CPU,\n",
    "    batch=8,\n",
    "    )"
   ]
  },
  {
   "cell_type": "code",
   "execution_count": null,
   "metadata": {
    "ExecuteTime": {
     "end_time": "2019-05-06T05:56:39.623018Z",
     "start_time": "2019-05-06T05:56:39.606802Z"
    }
   },
   "outputs": [],
   "source": [
    "maskrcnn_stream = NamedStream(sc, movie_name + '_maskrcnn')"
   ]
  },
  {
   "cell_type": "code",
   "execution_count": null,
   "metadata": {},
   "outputs": [],
   "source": [
    "output_op = sc.io.Output(object_frame, [maskrcnn_stream])\n",
    "sc.run(output_op, scannerpy.common.PerfParams.estimate(), cache_mode=scannerpy.CacheMode.Overwrite)"
   ]
  },
  {
   "cell_type": "code",
   "execution_count": null,
   "metadata": {
    "ExecuteTime": {
     "end_time": "2019-05-06T05:56:41.161145Z",
     "start_time": "2019-05-06T05:56:41.141738Z"
    },
    "scrolled": true
   },
   "outputs": [],
   "source": [
    "fid = 100\n",
    "seq = sc.sequence(maskrcnn_stream._name)\n",
    "obj = seq.load(workers=1, row=[fid])"
   ]
  },
  {
   "cell_type": "code",
   "execution_count": null,
   "metadata": {},
   "outputs": [],
   "source": [
    "metadata = next(obj)\n",
    "frame = load_frame(video, fid, [])\n",
    "maskrcnn_detection.visualize_labels(frame, metadata, min_score_thresh=0.7)\n",
    "imshow(frame)"
   ]
  },
  {
   "cell_type": "markdown",
   "metadata": {},
   "source": [
    "# DensePose"
   ]
  },
  {
   "cell_type": "code",
   "execution_count": null,
   "metadata": {
    "ExecuteTime": {
     "end_time": "2019-05-06T18:41:00.935105Z",
     "start_time": "2019-05-06T18:41:00.556799Z"
    },
    "scrolled": true
   },
   "outputs": [],
   "source": [
    "from scannertools import densepose_detection\n",
    "densepose_frame = sc.ops.DensePoseDetectPerson(\n",
    "    frame=strided_frame,\n",
    "    device=DeviceType.GPU, #if sc.has_gpu() else DeviceType.CPU,\n",
    "    batch=1\n",
    "    )"
   ]
  },
  {
   "cell_type": "code",
   "execution_count": null,
   "metadata": {
    "ExecuteTime": {
     "end_time": "2019-05-06T18:41:05.958782Z",
     "start_time": "2019-05-06T18:41:05.939609Z"
    }
   },
   "outputs": [],
   "source": [
    "densepose_stream = NamedStream(sc, movie_name + '_densepose')"
   ]
  },
  {
   "cell_type": "code",
   "execution_count": null,
   "metadata": {
    "ExecuteTime": {
     "end_time": "2019-05-06T00:50:31.099273Z",
     "start_time": "2019-05-06T00:50:30.676189Z"
    },
    "scrolled": true
   },
   "outputs": [],
   "source": [
    "output_op = sc.io.Output(object_frame, [densepose_stream])\n",
    "sc.run(output_op, scannerpy.common.PerfParams.estimate(), cache_mode=scannerpy.CacheMode.Overwrite)"
   ]
  },
  {
   "cell_type": "code",
   "execution_count": null,
   "metadata": {
    "ExecuteTime": {
     "end_time": "2019-05-06T18:41:10.700656Z",
     "start_time": "2019-05-06T18:41:09.707730Z"
    }
   },
   "outputs": [],
   "source": [
    "fid = 100\n",
    "seq = sc.sequence(densepose_stream._name)\n",
    "obj = seq.load(workers=1, rows=[fid])\n",
    "metadata = next(obj)"
   ]
  },
  {
   "cell_type": "code",
   "execution_count": null,
   "metadata": {
    "ExecuteTime": {
     "end_time": "2019-05-06T06:03:04.412832Z",
     "start_time": "2019-05-06T06:03:04.083172Z"
    },
    "scrolled": true
   },
   "outputs": [],
   "source": [
    "frame = load_frame(video, fid, [])\n",
    "image = densepose_detection.visualize_one_image(frame, metadata, min_score_thresh=0.7, show_keypoint=True, show_box=True)\n",
    "imshow(image)"
   ]
  },
  {
   "cell_type": "code",
   "execution_count": null,
   "metadata": {
    "ExecuteTime": {
     "end_time": "2019-05-06T18:41:17.696795Z",
     "start_time": "2019-05-06T18:41:17.265044Z"
    }
   },
   "outputs": [],
   "source": [
    "frame = load_frame(video, fid, [])\n",
    "image = densepose_detection.visualize_uvbody(frame, metadata, min_score_thresh=0.7)\n",
    "imshow(image)"
   ]
  },
  {
   "cell_type": "code",
   "execution_count": null,
   "metadata": {
    "ExecuteTime": {
     "end_time": "2019-05-06T17:59:35.942650Z",
     "start_time": "2019-05-06T17:59:35.914838Z"
    }
   },
   "outputs": [],
   "source": [
    "video = Video.objects.filter(path__contains='men_single')[1]\n",
    "video.path"
   ]
  }
 ],
 "metadata": {
  "kernelspec": {
   "display_name": "Django Shell-Plus",
   "language": "python",
   "name": "django_extensions"
  },
  "language_info": {
   "codemirror_mode": {
    "name": "ipython",
    "version": 3
   },
   "file_extension": ".py",
   "mimetype": "text/x-python",
   "name": "python",
   "nbconvert_exporter": "python",
   "pygments_lexer": "ipython3",
   "version": "3.5.2"
  },
  "toc": {
   "nav_menu": {},
   "number_sections": true,
   "sideBar": true,
   "skip_h1_title": false,
   "toc_cell": false,
   "toc_position": {},
   "toc_section_display": "block",
   "toc_window_display": false
  }
 },
 "nbformat": 4,
 "nbformat_minor": 2
}
